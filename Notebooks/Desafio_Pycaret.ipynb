{
  "nbformat": 4,
  "nbformat_minor": 0,
  "metadata": {
    "colab": {
      "name": "Untitled8.ipynb",
      "provenance": [],
      "private_outputs": true,
      "include_colab_link": true
    },
    "kernelspec": {
      "name": "python3",
      "display_name": "Python 3"
    }
  },
  "cells": [
    {
      "cell_type": "markdown",
      "metadata": {
        "id": "view-in-github",
        "colab_type": "text"
      },
      "source": [
        "<a href=\"https://colab.research.google.com/github/flavianacif/DSWP/blob/master/Notebooks/Desafio_Pycaret.ipynb\" target=\"_parent\"><img src=\"https://colab.research.google.com/assets/colab-badge.svg\" alt=\"Open In Colab\"/></a>"
      ]
    },
    {
      "cell_type": "code",
      "metadata": {
        "id": "FfhCoyP98gDt"
      },
      "source": [
        "import pandas as pd\n",
        "import numpy as np\n"
      ],
      "execution_count": null,
      "outputs": []
    },
    {
      "cell_type": "code",
      "metadata": {
        "id": "226lzu3i8kRp"
      },
      "source": [
        "url = '/train_1.csv'\n",
        "#url = 'train_2_minmax.csv'\n",
        "df = pd.read_csv(url)"
      ],
      "execution_count": null,
      "outputs": []
    },
    {
      "cell_type": "code",
      "metadata": {
        "id": "6mL0RI0V9JmP"
      },
      "source": [
        "#!pip install pycaret"
      ],
      "execution_count": null,
      "outputs": []
    },
    {
      "cell_type": "code",
      "metadata": {
        "id": "WL9nShOd86Fu"
      },
      "source": [
        "from pycaret.classification import *"
      ],
      "execution_count": null,
      "outputs": []
    },
    {
      "cell_type": "markdown",
      "metadata": {
        "id": "YRtIVR7LC9nl"
      },
      "source": [
        "https://www.kaggle.com/frtgnn/pycaret-introduction-classification-regression"
      ]
    },
    {
      "cell_type": "markdown",
      "metadata": {
        "id": "3-dLwhmi9jTA"
      },
      "source": [
        "### Set up"
      ]
    },
    {
      "cell_type": "code",
      "metadata": {
        "id": "jooY5VUr9sqd"
      },
      "source": [
        "# Normalizar os nomes das colunas:\n",
        "df_churn = df.copy()\n",
        "df_churn.columns = [colunas.lower() for colunas in df_churn.columns]"
      ],
      "execution_count": null,
      "outputs": []
    },
    {
      "cell_type": "code",
      "metadata": {
        "id": "OtrTtAM-ExOh"
      },
      "source": [
        "df_teste = pd.read_csv('/test_1.csv')\n",
        "#df_teste = pd.read_csv('test_2_minmax.csv')\n",
        "X_teste = df_teste.drop(columns = ['id'], axis = 1)\n",
        "X_teste.columns = [colunas.lower() for colunas in X_teste.columns]"
      ],
      "execution_count": null,
      "outputs": []
    },
    {
      "cell_type": "code",
      "metadata": {
        "id": "QPa7x9dxE4Jp"
      },
      "source": [
        "X_train = df_churn.drop(columns= ['id'], axis= 1)\n",
        "#df_y = df_churn['churn']"
      ],
      "execution_count": null,
      "outputs": []
    },
    {
      "cell_type": "markdown",
      "metadata": {
        "id": "bf_IntG2ygtP"
      },
      "source": [
        "### Tratamento da feature/variável fare"
      ]
    },
    {
      "cell_type": "code",
      "metadata": {
        "id": "buRgX2rucrHT"
      },
      "source": [
        "#fare_bins = ['Muito Baixo', 'Baixo', 'Medio', 'Alto', 'Muito Alto']\n",
        "fare_bins = ['Baixo', 'Medio', 'Alto']\n",
        "\n",
        "df_titanic2 = df_titanic.copy()\n",
        "\n",
        "# Tratamentos necessários\n",
        "\n",
        "#df_titanic2['fare_bins'] = pd.qcut(df_titanic2['fare'], q = [0, .2, .4, .6, .8, 1], labels = fare_bins\n",
        "#df_titanic2['fare_bins'] = pd.qcut(df_titanic2['fare'], q = 5, labels = fare_bins)\n",
        "df_titanic2['fare_bins'] = pd.qcut(df_titanic2['fare'], q = 3, labels = fare_bins)\n",
        "\n",
        "#df_titanic2.drop(columns = [], axis = 1, inplace = True)"
      ],
      "execution_count": null,
      "outputs": []
    },
    {
      "cell_type": "code",
      "metadata": {
        "id": "6AWpUmbE7p39"
      },
      "source": [
        "X_train.columns"
      ],
      "execution_count": null,
      "outputs": []
    },
    {
      "cell_type": "code",
      "metadata": {
        "id": "W0RtT6Xr9IVL"
      },
      "source": [
        "clf = setup(data = X_train,\n",
        "            target = 'churn', \n",
        "            numeric_imputation = 'median', # para tratamento dos missing values\n",
        "            #ordinal_features = ['contract'],\n",
        "            #ignore_features = ['id'], # variáveis que serão ignoradas\n",
        "            session_id = 22091980, # Seed por questões de reproducibilidade\n",
        "            silent = False,\n",
        "            bin_numeric_features = ['tenure'])"
      ],
      "execution_count": null,
      "outputs": []
    },
    {
      "cell_type": "code",
      "metadata": {
        "id": "mGGubn7k-GNi"
      },
      "source": [
        "compare_models()"
      ],
      "execution_count": null,
      "outputs": []
    },
    {
      "cell_type": "code",
      "metadata": {
        "id": "8rcs_jJFCjRW"
      },
      "source": [
        "gbc  = create_model('gbc')    \n",
        " "
      ],
      "execution_count": null,
      "outputs": []
    },
    {
      "cell_type": "code",
      "metadata": {
        "id": "hyE_GfDuRTzc"
      },
      "source": [
        "cat = create_model('catboost') "
      ],
      "execution_count": null,
      "outputs": []
    },
    {
      "cell_type": "code",
      "metadata": {
        "id": "5BdvRHPdCq0E"
      },
      "source": [
        "tuned_gbc = tune_model(gbc)\n"
      ],
      "execution_count": null,
      "outputs": []
    },
    {
      "cell_type": "code",
      "metadata": {
        "id": "oGZcnkW8RYWq"
      },
      "source": [
        "tuned_catboost = tune_model(cat)"
      ],
      "execution_count": null,
      "outputs": []
    },
    {
      "cell_type": "code",
      "metadata": {
        "id": "WwCW_pDYI1hy"
      },
      "source": [
        "plot_model(estimator = tuned_lightgbm, plot = 'learning')"
      ],
      "execution_count": null,
      "outputs": []
    },
    {
      "cell_type": "code",
      "metadata": {
        "id": "LES2FO1zI4X8"
      },
      "source": [
        "plot_model(estimator = tuned_lightgbm, plot = 'auc')"
      ],
      "execution_count": null,
      "outputs": []
    },
    {
      "cell_type": "code",
      "metadata": {
        "id": "xxGQX3jbI4bN"
      },
      "source": [
        "plot_model(estimator = tuned_lightgbm, plot = 'confusion_matrix')"
      ],
      "execution_count": null,
      "outputs": []
    },
    {
      "cell_type": "code",
      "metadata": {
        "id": "1O_9qDHgJJjw"
      },
      "source": [
        "plot_model(estimator = tuned_lightgbm, plot = 'feature')"
      ],
      "execution_count": null,
      "outputs": []
    },
    {
      "cell_type": "code",
      "metadata": {
        "id": "DforafzKPsMR"
      },
      "source": [
        "tuned_catboost.get_params()"
      ],
      "execution_count": null,
      "outputs": []
    },
    {
      "cell_type": "code",
      "metadata": {
        "id": "s6Ju98nBP3eA"
      },
      "source": [
        ""
      ],
      "execution_count": null,
      "outputs": []
    },
    {
      "cell_type": "markdown",
      "metadata": {
        "id": "W1xnpqD-46vh"
      },
      "source": [
        "### Painel com todos os outputs"
      ]
    },
    {
      "cell_type": "code",
      "metadata": {
        "id": "PluFZQ8bI4hV"
      },
      "source": [
        "evaluate_model(tuned_gbc)"
      ],
      "execution_count": null,
      "outputs": []
    },
    {
      "cell_type": "code",
      "metadata": {
        "id": "JaffgUyy4bwz"
      },
      "source": [
        "!pip install shap"
      ],
      "execution_count": null,
      "outputs": []
    },
    {
      "cell_type": "code",
      "metadata": {
        "id": "Uez4Gik8JwET"
      },
      "source": [
        "interpret_model(tuned_lightgbm)"
      ],
      "execution_count": null,
      "outputs": []
    },
    {
      "cell_type": "code",
      "metadata": {
        "id": "9U2SnEKA41nW"
      },
      "source": [
        "y_teste = predict_model(tuned_gbc, data=X_teste)"
      ],
      "execution_count": null,
      "outputs": []
    },
    {
      "cell_type": "code",
      "metadata": {
        "id": "NH9YB247F01q"
      },
      "source": [
        "df_submit = pd.DataFrame(zip(df_teste['id'],y_teste['Label']), columns = ['id','Churn'])\n",
        "df_submit.to_csv('/submit_AUTO_GBC_6.csv',index = False, sep = ',')"
      ],
      "execution_count": null,
      "outputs": []
    },
    {
      "cell_type": "code",
      "metadata": {
        "id": "ZR6KeDfGGU4i"
      },
      "source": [
        "y_teste = predict_model(tuned_catboost, data=X_teste)"
      ],
      "execution_count": null,
      "outputs": []
    },
    {
      "cell_type": "code",
      "metadata": {
        "id": "P5Gvq7wJJitS"
      },
      "source": [
        "df_submit = pd.DataFrame(zip(df_teste['id'],y_teste['Label']), columns = ['id','Churn'])\n",
        "df_submit.to_csv('/submit_AUTO_CAT_4.csv',index = False, sep = ',')"
      ],
      "execution_count": null,
      "outputs": []
    },
    {
      "cell_type": "code",
      "metadata": {
        "id": "O4h4jpcUPMWZ"
      },
      "source": [
        ""
      ],
      "execution_count": null,
      "outputs": []
    }
  ]
}