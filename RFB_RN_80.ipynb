{
  "nbformat": 4,
  "nbformat_minor": 0,
  "metadata": {
    "colab": {
      "name": "Untitled5.ipynb",
      "provenance": [],
      "toc_visible": true,
      "authorship_tag": "ABX9TyOPEjAU+3DOMz0si8wZ4rhM",
      "include_colab_link": true
    },
    "kernelspec": {
      "name": "python3",
      "display_name": "Python 3"
    }
  },
  "cells": [
    {
      "cell_type": "markdown",
      "metadata": {
        "id": "view-in-github",
        "colab_type": "text"
      },
      "source": [
        "<a href=\"https://colab.research.google.com/github/flavianacif/DSWP/blob/master/RFB_RN_80.ipynb\" target=\"_parent\"><img src=\"https://colab.research.google.com/assets/colab-badge.svg\" alt=\"Open In Colab\"/></a>"
      ]
    },
    {
      "cell_type": "code",
      "metadata": {
        "id": "j0_YZ6IURZE_",
        "colab": {
          "base_uri": "https://localhost:8080/"
        },
        "outputId": "2e3e3cd0-a70c-40d3-9ae4-def4110be7c7"
      },
      "source": [
        "\n",
        "import tensorflow as tf\n",
        "import numpy as np\n",
        "import pandas as pd\n",
        "import matplotlib.pyplot as plt\n",
        "import seaborn as sns\n",
        "from sklearn.metrics import confusion_matrix\n",
        "import tensorflow_addons as tfa\n",
        "from tensorflow import keras\n",
        "from sklearn.metrics import accuracy_score, f1_score, precision_score, recall_score, classification_report, confusion_matrix\n",
        "from collections import Counter\n",
        "from imblearn.over_sampling import SMOTE\n"
      ],
      "execution_count": 1,
      "outputs": [
        {
          "output_type": "stream",
          "text": [
            "/usr/local/lib/python3.6/dist-packages/sklearn/externals/six.py:31: FutureWarning: The module is deprecated in version 0.21 and will be removed in version 0.23 since we've dropped support for Python 2.7. Please rely on the official version of six (https://pypi.org/project/six/).\n",
            "  \"(https://pypi.org/project/six/).\", FutureWarning)\n",
            "/usr/local/lib/python3.6/dist-packages/sklearn/utils/deprecation.py:144: FutureWarning: The sklearn.neighbors.base module is  deprecated in version 0.22 and will be removed in version 0.24. The corresponding classes / functions should instead be imported from sklearn.neighbors. Anything that cannot be imported from sklearn.neighbors is now part of the private API.\n",
            "  warnings.warn(message, FutureWarning)\n"
          ],
          "name": "stderr"
        }
      ]
    },
    {
      "cell_type": "markdown",
      "metadata": {
        "id": "9ZX00UN5cjvM"
      },
      "source": [
        "[**Python**] - Verificar a versão do Tensorflow\n",
        "> Assegurar que está a utilizar a versão 2.x."
      ]
    },
    {
      "cell_type": "code",
      "metadata": {
        "id": "THWNIk_FCe_g",
        "colab": {
          "base_uri": "https://localhost:8080/",
          "height": 35
        },
        "outputId": "1d19b433-4dcd-497a-aae5-63208bf26457"
      },
      "source": [
        "tf.__version__"
      ],
      "execution_count": 2,
      "outputs": [
        {
          "output_type": "execute_result",
          "data": {
            "application/vnd.google.colaboratory.intrinsic+json": {
              "type": "string"
            },
            "text/plain": [
              "'2.3.0'"
            ]
          },
          "metadata": {
            "tags": []
          },
          "execution_count": 2
        }
      ]
    },
    {
      "cell_type": "markdown",
      "metadata": {
        "id": "PZgQAKqLcLX3"
      },
      "source": [
        "[**Python**] - Definir o número de casas decimais"
      ]
    },
    {
      "cell_type": "code",
      "metadata": {
        "id": "tzKor02BCe_d"
      },
      "source": [
        "np.set_printoptions(precision= 3)"
      ],
      "execution_count": 3,
      "outputs": []
    },
    {
      "cell_type": "markdown",
      "metadata": {
        "id": "M5V4KopjLWOL"
      },
      "source": [
        "### 1. Carregar os dados"
      ]
    },
    {
      "cell_type": "markdown",
      "metadata": {
        "id": "V_cwAUW3tseE"
      },
      "source": [
        "[**Python**] - Carregar os dados:"
      ]
    },
    {
      "cell_type": "code",
      "metadata": {
        "id": "_Bs87IWPtwtm"
      },
      "source": [
        "# Leitura do dataframe:\n",
        "df = pd.read_csv('/total_10.csv')"
      ],
      "execution_count": 4,
      "outputs": []
    },
    {
      "cell_type": "code",
      "metadata": {
        "id": "myhgteQhdqVi"
      },
      "source": [
        "df_total = df.copy()"
      ],
      "execution_count": 249,
      "outputs": []
    },
    {
      "cell_type": "code",
      "metadata": {
        "id": "0MfQNbWvfUkK"
      },
      "source": [
        "df_total.set_index('id', inplace=True)"
      ],
      "execution_count": 250,
      "outputs": []
    },
    {
      "cell_type": "code",
      "metadata": {
        "colab": {
          "base_uri": "https://localhost:8080/"
        },
        "id": "6730Oq3j-4w8",
        "outputId": "aa3a4a91-2f02-4d98-eecc-593be7344d6d"
      },
      "source": [
        "df_total.columns"
      ],
      "execution_count": 251,
      "outputs": [
        {
          "output_type": "execute_result",
          "data": {
            "text/plain": [
              "Index(['cnae2', 'rf2', 'md1', 'md2', 'md3', 'md4', 'md5', 'md6', 'md7', 'md8',\n",
              "       'md9', 'md10', 'md11', 'md12', 'mc1', 'mc2', 'mc3', 'mc4', 'ind01',\n",
              "       'ind02', 'ind03', 'ind04', 'ind05', 'ind06', 'ind07', 'ind08', 'ind09',\n",
              "       'ind10', 'ind11', 'ind12', 'ind13', 'ind14', 'ind15', 'ind16', 'ind17',\n",
              "       'ind18', 'ind19', 'ind20', 'ind21', 'ind22', 'ind23', 'ind24', 'ind25',\n",
              "       'ind26', 'ind27', 'ind28', 'ind29', 'ind30', 'ind31', 'ind32', 'ind33',\n",
              "       'ind34', 'ind35', 'ind36', 'ind37', 'ind38', 'ind39', 'ind40', 'ind41',\n",
              "       'ind42', 'ind43', 'target', 'cnae_secao', 'ind_g1_mv', 'ind_g1',\n",
              "       'ind_g2_mv', 'ind_g2', 'mc_g1_mv', 'mc_g1', 'md1_o', 'md2_o', 'md3_o',\n",
              "       'md4_o', 'md5_o', 'md7_o', 'md8_o', 'md9_o', 'md10_o', 'md12_o',\n",
              "       'mc1_o', 'mc3_o', 'mc4_o'],\n",
              "      dtype='object')"
            ]
          },
          "metadata": {
            "tags": []
          },
          "execution_count": 251
        }
      ]
    },
    {
      "cell_type": "markdown",
      "metadata": {
        "id": "6LXKr9-R_JIK"
      },
      "source": [
        "Retirando algumas colunas para testar"
      ]
    },
    {
      "cell_type": "code",
      "metadata": {
        "id": "aVnISOiD-xRk"
      },
      "source": [
        "df_total.drop(columns = ['cnae2','md1', 'md2', 'md3', 'md4', 'md5', 'md6', 'md7', 'md8',\n",
        "       'md9', 'md10', 'md11', 'md12', 'mc1', 'mc2', 'mc3', 'mc4','mc_g1','ind01',\n",
        "       'ind02', 'ind03', 'ind04', 'ind05', 'ind06', 'ind07', 'ind08', 'ind09',\n",
        "       'ind10', 'ind11', 'ind12', 'ind13', 'ind14', 'ind15', 'ind16', 'ind17',\n",
        "       'ind18', 'ind19', 'ind20', 'ind21', 'ind22', 'ind23', 'ind24', 'ind25',\n",
        "       'ind26', 'ind27', 'ind28', 'ind29', 'ind30', 'ind31', 'ind32', 'ind33',\n",
        "       'ind34', 'ind35', 'ind36', 'ind37', 'ind38', 'ind39', 'ind40', 'ind41',\n",
        "       'ind42', 'ind43'], inplace = True)"
      ],
      "execution_count": 252,
      "outputs": []
    },
    {
      "cell_type": "code",
      "metadata": {
        "colab": {
          "base_uri": "https://localhost:8080/"
        },
        "id": "IHt2y_5IHtRH",
        "outputId": "87e0283b-c590-44c4-f043-9db03db38c8f"
      },
      "source": [
        "df_total.columns"
      ],
      "execution_count": 253,
      "outputs": [
        {
          "output_type": "execute_result",
          "data": {
            "text/plain": [
              "Index(['rf2', 'target', 'cnae_secao', 'ind_g1_mv', 'ind_g1', 'ind_g2_mv',\n",
              "       'ind_g2', 'mc_g1_mv', 'md1_o', 'md2_o', 'md3_o', 'md4_o', 'md5_o',\n",
              "       'md7_o', 'md8_o', 'md9_o', 'md10_o', 'md12_o', 'mc1_o', 'mc3_o',\n",
              "       'mc4_o'],\n",
              "      dtype='object')"
            ]
          },
          "metadata": {
            "tags": []
          },
          "execution_count": 253
        }
      ]
    },
    {
      "cell_type": "markdown",
      "metadata": {
        "id": "e_0lkPsR_mFp"
      },
      "source": [
        "GET DUMMIES"
      ]
    },
    {
      "cell_type": "code",
      "metadata": {
        "id": "moTlPrJk5b0T"
      },
      "source": [
        "#df_total['cnae2'] = df_total['cnae2'].astype('category')"
      ],
      "execution_count": 254,
      "outputs": []
    },
    {
      "cell_type": "code",
      "metadata": {
        "id": "rN72uIGk_jMI"
      },
      "source": [
        "df_total = pd.get_dummies(df_total)"
      ],
      "execution_count": 255,
      "outputs": []
    },
    {
      "cell_type": "code",
      "metadata": {
        "id": "9gYa3Hy6lrZi"
      },
      "source": [
        "X_treino = df_total[df_total['target']!= 2]"
      ],
      "execution_count": 256,
      "outputs": []
    },
    {
      "cell_type": "code",
      "metadata": {
        "id": "KeckOXBrR_X6"
      },
      "source": [
        "df_X = X_treino.copy()"
      ],
      "execution_count": 257,
      "outputs": []
    },
    {
      "cell_type": "code",
      "metadata": {
        "id": "Q5tB1ey7eAe4"
      },
      "source": [
        "df_y = df_X['target']\n",
        "df_X = df_X.drop(columns= ['target'])"
      ],
      "execution_count": 258,
      "outputs": []
    },
    {
      "cell_type": "code",
      "metadata": {
        "id": "i8_BlpeteJow"
      },
      "source": [
        "X_test = df_total[df_total['target']== 2].drop(columns= ['target'])"
      ],
      "execution_count": 259,
      "outputs": []
    },
    {
      "cell_type": "markdown",
      "metadata": {
        "id": "qzWrM6VCSEoQ"
      },
      "source": [
        "Tratando o Balanceamento da Amostra"
      ]
    },
    {
      "cell_type": "code",
      "metadata": {
        "colab": {
          "base_uri": "https://localhost:8080/"
        },
        "id": "28lRhxtgRwEa",
        "outputId": "bea8bf87-0924-4221-c027-df169d672b45"
      },
      "source": [
        "qtd = Counter(X_treino['target'])\n",
        "qtd"
      ],
      "execution_count": 260,
      "outputs": [
        {
          "output_type": "execute_result",
          "data": {
            "text/plain": [
              "Counter({0: 8513, 1: 2520})"
            ]
          },
          "metadata": {
            "tags": []
          },
          "execution_count": 260
        }
      ]
    },
    {
      "cell_type": "code",
      "metadata": {
        "id": "0AZCDYSOSHLx"
      },
      "source": [
        "from imblearn.under_sampling import RandomUnderSampler\n",
        "from imblearn.pipeline import Pipeline"
      ],
      "execution_count": 261,
      "outputs": []
    },
    {
      "cell_type": "code",
      "metadata": {
        "id": "Z1FhuODySLSS"
      },
      "source": [
        "over = SMOTE(sampling_strategy = 0.5) # Reamostrar a classe minoritária para ter 10% da classe majoritária\n",
        "under = RandomUnderSampler(sampling_strategy = 0.85) # Seleciona a classe majoritária para ter 50%\n",
        "steps = [('over', over), ('under', under)]\n",
        "pipeline = Pipeline(steps = steps)"
      ],
      "execution_count": 262,
      "outputs": []
    },
    {
      "cell_type": "code",
      "metadata": {
        "colab": {
          "base_uri": "https://localhost:8080/"
        },
        "id": "dwkQt9AFSNLL",
        "outputId": "6293dd38-29c8-4a6c-cef3-9833b10d4056"
      },
      "source": [
        "X, y = pipeline.fit_resample(df_X, df_y)"
      ],
      "execution_count": 263,
      "outputs": [
        {
          "output_type": "stream",
          "text": [
            "/usr/local/lib/python3.6/dist-packages/sklearn/utils/deprecation.py:87: FutureWarning: Function safe_indexing is deprecated; safe_indexing is deprecated in version 0.22 and will be removed in version 0.24.\n",
            "  warnings.warn(msg, category=FutureWarning)\n",
            "/usr/local/lib/python3.6/dist-packages/sklearn/utils/deprecation.py:87: FutureWarning: Function safe_indexing is deprecated; safe_indexing is deprecated in version 0.22 and will be removed in version 0.24.\n",
            "  warnings.warn(msg, category=FutureWarning)\n"
          ],
          "name": "stderr"
        }
      ]
    },
    {
      "cell_type": "markdown",
      "metadata": {
        "id": "m22vN2YrSWOr"
      },
      "source": [
        "ANTES/DEPOIS:"
      ]
    },
    {
      "cell_type": "code",
      "metadata": {
        "colab": {
          "base_uri": "https://localhost:8080/"
        },
        "id": "oLiFXdkqSVNz",
        "outputId": "077217ad-2083-4e6c-a35b-e1cc5e0403a8"
      },
      "source": [
        "print(Counter(df_y),Counter(y))"
      ],
      "execution_count": 264,
      "outputs": [
        {
          "output_type": "stream",
          "text": [
            "Counter({0: 8513, 1: 2520}) Counter({0: 5007, 1: 4256})\n"
          ],
          "name": "stdout"
        }
      ]
    },
    {
      "cell_type": "markdown",
      "metadata": {
        "id": "jJaJWuUqJCha"
      },
      "source": [
        "### 3. Definir as amostras de treinamento e validação"
      ]
    },
    {
      "cell_type": "markdown",
      "metadata": {
        "id": "LoO2iEimu4SQ"
      },
      "source": [
        "[**Python**] - Definir as amostras de treinamento e validação"
      ]
    },
    {
      "cell_type": "code",
      "metadata": {
        "id": "hTCdm-F9JBGA",
        "colab": {
          "base_uri": "https://localhost:8080/"
        },
        "outputId": "6d9eb612-e16b-4745-9543-6f4620e61607"
      },
      "source": [
        "from sklearn.model_selection import train_test_split\n",
        "\n",
        "X_treinamento, X_teste, y_treinamento, y_teste= train_test_split(X, y, test_size = 0.1, random_state = 22091980) #20111974)\n",
        "print(f'X: Treinamento=  {X_treinamento.shape}; X: Teste=  {X_teste.shape}')"
      ],
      "execution_count": 265,
      "outputs": [
        {
          "output_type": "stream",
          "text": [
            "X: Treinamento=  (8336, 47); X: Teste=  (927, 47)\n"
          ],
          "name": "stdout"
        }
      ]
    },
    {
      "cell_type": "code",
      "metadata": {
        "id": "th9CsQpB8VDK",
        "colab": {
          "base_uri": "https://localhost:8080/"
        },
        "outputId": "895678b9-9f1f-40fe-8503-027688850c39"
      },
      "source": [
        "print(f'Y: Treinamento =  {y_treinamento.shape}; Y: Teste = {y_teste.shape}')"
      ],
      "execution_count": 266,
      "outputs": [
        {
          "output_type": "stream",
          "text": [
            "Y: Treinamento =  (8336,); Y: Teste = (927,)\n"
          ],
          "name": "stdout"
        }
      ]
    },
    {
      "cell_type": "markdown",
      "metadata": {
        "id": "2bL-vXiULupD"
      },
      "source": [
        "### 4. Definir a arquitetura da Rede Neural com _Tensorflow_/_Keras_"
      ]
    },
    {
      "cell_type": "markdown",
      "metadata": {
        "id": "zxETX6dTfyU5"
      },
      "source": [
        "[**Python**] - Definir a arquitetura, ou seja:\n",
        "* $N_{I}$: Número de neurônios na camada de entrada (_Input Layer_);\n",
        "* $N_{O}$: Número de neurônios na camada de saída (_Output Layer_);\n",
        "* $N_{H}$: Número de neurônios na camada escondida (_Hidden Layer_);\n",
        "* FA: Função de ativação;"
      ]
    },
    {
      "cell_type": "code",
      "metadata": {
        "id": "F_MdsLicfyU6"
      },
      "source": [
        "# Número de Neurônios na Input Layer:\n",
        "N_I = 47\n",
        "\n",
        "# Número de neurônios na Output Layer:\n",
        "N_O = 1\n",
        "\n",
        "# Número de neurônios na Hidden Layer:\n",
        "N_H = 400\n",
        "\n",
        "N_H2 = 300\n",
        "\n",
        "N_H3=200\n",
        "\n",
        "N_H4 = 100\n",
        "\n",
        "N_H5 = 50\n",
        "\n",
        "N_H6 = 2\n",
        "\n",
        "\n",
        "\n",
        "# Função de Ativação da Hidden Layer:\n",
        "FA_H = tf.nn.leaky_relu\n",
        "#FA_H = tf.keras.activations.swish\n",
        "\n",
        "# Função de Ativação da Output Layer:\n",
        "FA_O = tf.keras.activations.sigmoid\n",
        "\n",
        "\n"
      ],
      "execution_count": 280,
      "outputs": []
    },
    {
      "cell_type": "markdown",
      "metadata": {
        "id": "SUMmDuPCcYyB"
      },
      "source": [
        "[**Python**] - Definir as sementes para NumPy e Tensorflow:\n",
        "> Por questões de reproducibilidade de resultados, use as sementes abaixo:\n",
        "\n",
        "* NumPy: 20111974;\n",
        "* Tensorflow: 20111974;"
      ]
    },
    {
      "cell_type": "code",
      "metadata": {
        "id": "T-echOBmceVy"
      },
      "source": [
        "np.random.seed(19800922)\n",
        "tf.random.set_seed(22091980)"
      ],
      "execution_count": 281,
      "outputs": []
    },
    {
      "cell_type": "markdown",
      "metadata": {
        "id": "7ZceRRdinEM2"
      },
      "source": [
        "\n",
        "[**Python**] - Definir a Rede Neural:"
      ]
    },
    {
      "cell_type": "markdown",
      "metadata": {
        "id": "nXQsSYq2DBfI"
      },
      "source": [
        "\n",
        "\n",
        "\n",
        "\n",
        "* 1 camada _dropout_ com $p= 0.1$:"
      ]
    },
    {
      "cell_type": "code",
      "metadata": {
        "id": "TRFR5Kr_nDtD",
        "colab": {
          "base_uri": "https://localhost:8080/"
        },
        "outputId": "fea12288-60bc-4457-eeb2-9e05418dc9c5"
      },
      "source": [
        "from tensorflow.keras import Sequential\n",
        "from tensorflow.keras.layers import Dense\n",
        "from tensorflow.keras.layers import Dropout\n",
        "\n",
        "RN= Sequential()\n",
        "RN.add(Dense(N_H, input_dim= N_I, kernel_initializer= tf.keras.initializers.GlorotNormal(), activation= FA_H, kernel_constraint= tf.keras.constraints.UnitNorm()))\n",
        "RN.add(Dropout(0.1))\n",
        "RN.add(Dense(N_H2, kernel_initializer= tf.keras.initializers.GlorotNormal(), activation= FA_H, kernel_constraint= tf.keras.constraints.UnitNorm()))\n",
        "RN.add(Dropout(0.1))\n",
        "RN.add(Dense(N_H3, kernel_initializer= tf.keras.initializers.GlorotNormal(), activation= FA_H, kernel_constraint= tf.keras.constraints.UnitNorm()))\n",
        "RN.add(Dropout(0.1))\n",
        "RN.add(Dense(N_H4, kernel_initializer= tf.keras.initializers.GlorotNormal(), activation= FA_H, kernel_constraint= tf.keras.constraints.UnitNorm()))\n",
        "RN.add(Dropout(0.1))\n",
        "RN.add(Dense(N_H5, kernel_initializer= tf.keras.initializers.GlorotNormal(), activation= FA_H, kernel_constraint= tf.keras.constraints.UnitNorm()))\n",
        "RN.add(Dropout(0.1))\n",
        "#RN.add(Dense(N_H6, kernel_initializer= tf.keras.initializers.GlorotNormal(), activation= FA_H, kernel_constraint= tf.keras.constraints.UnitNorm()))\n",
        "#RN.add(Dropout(0.1))\n",
        "RN.add(Dense(units= N_O, activation= FA_O))\n",
        "\n",
        "# Resumo da arquitetura da Rede Neural\n",
        "print(RN.summary())"
      ],
      "execution_count": 282,
      "outputs": [
        {
          "output_type": "stream",
          "text": [
            "Model: \"sequential_13\"\n",
            "_________________________________________________________________\n",
            "Layer (type)                 Output Shape              Param #   \n",
            "=================================================================\n",
            "dense_89 (Dense)             (None, 400)               19200     \n",
            "_________________________________________________________________\n",
            "dropout_76 (Dropout)         (None, 400)               0         \n",
            "_________________________________________________________________\n",
            "dense_90 (Dense)             (None, 300)               120300    \n",
            "_________________________________________________________________\n",
            "dropout_77 (Dropout)         (None, 300)               0         \n",
            "_________________________________________________________________\n",
            "dense_91 (Dense)             (None, 200)               60200     \n",
            "_________________________________________________________________\n",
            "dropout_78 (Dropout)         (None, 200)               0         \n",
            "_________________________________________________________________\n",
            "dense_92 (Dense)             (None, 100)               20100     \n",
            "_________________________________________________________________\n",
            "dropout_79 (Dropout)         (None, 100)               0         \n",
            "_________________________________________________________________\n",
            "dense_93 (Dense)             (None, 50)                5050      \n",
            "_________________________________________________________________\n",
            "dropout_80 (Dropout)         (None, 50)                0         \n",
            "_________________________________________________________________\n",
            "dense_94 (Dense)             (None, 1)                 51        \n",
            "=================================================================\n",
            "Total params: 224,901\n",
            "Trainable params: 224,901\n",
            "Non-trainable params: 0\n",
            "_________________________________________________________________\n",
            "None\n"
          ],
          "name": "stdout"
        }
      ]
    },
    {
      "cell_type": "markdown",
      "metadata": {
        "id": "4JBZf4ypGO8o"
      },
      "source": [
        "### 5. Compilar a Rede Neural\n",
        "\n",
        "Este é um problema de classificação binária (_Male_ ou _Female_). Portanto, temos:\n",
        "* optimizer= tf.keras.optimizers.Adam();\n",
        "* loss=  tf.keras.losses.MeanSquaredError() ou loss= tf.keras.losses.BinaryCrossentropy(). Particularmente, eu gosto de usar loss=  tf.keras.losses.MeanSquaredError() porque o resultado é mais intuitivo;\n",
        "* metrics= tf.keras.metrics.binary_accuracy."
      ]
    },
    {
      "cell_type": "markdown",
      "metadata": {
        "id": "USmAuw6f00wL"
      },
      "source": [
        "[**Python**] - Comando modelo.compile(optimizer, loss, metrics):"
      ]
    },
    {
      "cell_type": "code",
      "metadata": {
        "id": "h7KEi1_e6SSF"
      },
      "source": [
        "\n",
        "Algoritmo_Opt = tf.keras.optimizers.Adamax()\n",
        "#Algoritmo_Opt = tf.keras.optimizers.Adam(learning_rate=0.01, beta_1=0.8, beta_2=0.99, epsilon=1e-07 , amsgrad=True,     name='Adam')\n",
        "Loss_Function = tf.keras.losses.MeanSquaredError()\n",
        "#Loss_Function = tf.keras.losses.BinaryCrossentropy()\n",
        "Metrics_Perf = tf.keras.metrics.binary_accuracy\n",
        "RN.compile(optimizer = Algoritmo_Opt, loss = Loss_Function,metrics = Metrics_Perf)\n",
        "#RN.compile( loss = Loss_Function,metrics = Metrics_Perf)"
      ],
      "execution_count": 283,
      "outputs": []
    },
    {
      "cell_type": "markdown",
      "metadata": {
        "id": "Hc90EeV_GojX"
      },
      "source": [
        "### 6. Ajustar a Rede Neural\n",
        "\n",
        "Obs.: A opção callbacks abaixo implementa o conceito de _early stopping_. Esta opção vai parar o processo de treinamento da Rede Neural antes de atingirmos o númerco de _epochs_ quando o modelo pára de melhorar, medido pela métrica val_loss. O parâmetro _patience_= k significa que o processo de otimização vai parar se tivermos k _epochs_ consecutivas sem observarmos melhoria da performance da Rede Neural."
      ]
    },
    {
      "cell_type": "markdown",
      "metadata": {
        "id": "XCCTtUh_vEFP"
      },
      "source": [
        "[**Python**] - Comando modelo.fit(X_treinamento, y_treinamento, epochs)"
      ]
    },
    {
      "cell_type": "code",
      "metadata": {
        "id": "EB91J6nrF0db",
        "colab": {
          "base_uri": "https://localhost:8080/"
        },
        "outputId": "df342a61-553f-4481-b1c5-c13e5e10e17a"
      },
      "source": [
        "callbacks = [tf.keras.callbacks.EarlyStopping(monitor = 'val_loss', patience = 20, min_delta = 0.001)]\n",
        "hist= RN.fit(X_treinamento, y_treinamento, epochs = 100, batch_size = 20,\n",
        "             validation_data = (X_teste, y_teste), callbacks = callbacks)"
      ],
      "execution_count": 284,
      "outputs": [
        {
          "output_type": "stream",
          "text": [
            "Epoch 1/100\n",
            "417/417 [==============================] - 2s 5ms/step - loss: 0.2223 - binary_accuracy: 0.6273 - val_loss: 0.2174 - val_binary_accuracy: 0.6246\n",
            "Epoch 2/100\n",
            "417/417 [==============================] - 2s 5ms/step - loss: 0.2138 - binary_accuracy: 0.6450 - val_loss: 0.2203 - val_binary_accuracy: 0.6311\n",
            "Epoch 3/100\n",
            "417/417 [==============================] - 2s 5ms/step - loss: 0.2108 - binary_accuracy: 0.6526 - val_loss: 0.2144 - val_binary_accuracy: 0.6354\n",
            "Epoch 4/100\n",
            "417/417 [==============================] - 2s 5ms/step - loss: 0.2094 - binary_accuracy: 0.6582 - val_loss: 0.2152 - val_binary_accuracy: 0.6397\n",
            "Epoch 5/100\n",
            "417/417 [==============================] - 2s 5ms/step - loss: 0.2051 - binary_accuracy: 0.6696 - val_loss: 0.2153 - val_binary_accuracy: 0.6472\n",
            "Epoch 6/100\n",
            "417/417 [==============================] - 2s 5ms/step - loss: 0.2046 - binary_accuracy: 0.6688 - val_loss: 0.2131 - val_binary_accuracy: 0.6516\n",
            "Epoch 7/100\n",
            "417/417 [==============================] - 2s 5ms/step - loss: 0.2015 - binary_accuracy: 0.6801 - val_loss: 0.2086 - val_binary_accuracy: 0.6559\n",
            "Epoch 8/100\n",
            "417/417 [==============================] - 2s 5ms/step - loss: 0.1988 - binary_accuracy: 0.6862 - val_loss: 0.2071 - val_binary_accuracy: 0.6699\n",
            "Epoch 9/100\n",
            "417/417 [==============================] - 2s 5ms/step - loss: 0.1947 - binary_accuracy: 0.6918 - val_loss: 0.2064 - val_binary_accuracy: 0.6775\n",
            "Epoch 10/100\n",
            "417/417 [==============================] - 2s 5ms/step - loss: 0.1938 - binary_accuracy: 0.6915 - val_loss: 0.2029 - val_binary_accuracy: 0.6861\n",
            "Epoch 11/100\n",
            "417/417 [==============================] - 2s 5ms/step - loss: 0.1897 - binary_accuracy: 0.7039 - val_loss: 0.2072 - val_binary_accuracy: 0.6818\n",
            "Epoch 12/100\n",
            "417/417 [==============================] - 2s 5ms/step - loss: 0.1876 - binary_accuracy: 0.7087 - val_loss: 0.2036 - val_binary_accuracy: 0.6807\n",
            "Epoch 13/100\n",
            "417/417 [==============================] - 2s 5ms/step - loss: 0.1854 - binary_accuracy: 0.7129 - val_loss: 0.2013 - val_binary_accuracy: 0.6742\n",
            "Epoch 14/100\n",
            "417/417 [==============================] - 2s 5ms/step - loss: 0.1817 - binary_accuracy: 0.7210 - val_loss: 0.2040 - val_binary_accuracy: 0.6850\n",
            "Epoch 15/100\n",
            "417/417 [==============================] - 2s 5ms/step - loss: 0.1789 - binary_accuracy: 0.7277 - val_loss: 0.2011 - val_binary_accuracy: 0.6893\n",
            "Epoch 16/100\n",
            "417/417 [==============================] - 2s 5ms/step - loss: 0.1788 - binary_accuracy: 0.7276 - val_loss: 0.1997 - val_binary_accuracy: 0.6926\n",
            "Epoch 17/100\n",
            "417/417 [==============================] - 2s 6ms/step - loss: 0.1769 - binary_accuracy: 0.7310 - val_loss: 0.1998 - val_binary_accuracy: 0.6882\n",
            "Epoch 18/100\n",
            "417/417 [==============================] - 2s 5ms/step - loss: 0.1753 - binary_accuracy: 0.7334 - val_loss: 0.1995 - val_binary_accuracy: 0.6893\n",
            "Epoch 19/100\n",
            "417/417 [==============================] - 2s 5ms/step - loss: 0.1712 - binary_accuracy: 0.7427 - val_loss: 0.2002 - val_binary_accuracy: 0.6861\n",
            "Epoch 20/100\n",
            "417/417 [==============================] - 2s 6ms/step - loss: 0.1686 - binary_accuracy: 0.7488 - val_loss: 0.1999 - val_binary_accuracy: 0.6969\n",
            "Epoch 21/100\n",
            "417/417 [==============================] - 3s 6ms/step - loss: 0.1675 - binary_accuracy: 0.7492 - val_loss: 0.2011 - val_binary_accuracy: 0.7023\n",
            "Epoch 22/100\n",
            "417/417 [==============================] - 2s 6ms/step - loss: 0.1663 - binary_accuracy: 0.7541 - val_loss: 0.2076 - val_binary_accuracy: 0.6861\n",
            "Epoch 23/100\n",
            "417/417 [==============================] - 2s 5ms/step - loss: 0.1622 - binary_accuracy: 0.7620 - val_loss: 0.1989 - val_binary_accuracy: 0.6980\n",
            "Epoch 24/100\n",
            "417/417 [==============================] - 2s 5ms/step - loss: 0.1591 - binary_accuracy: 0.7690 - val_loss: 0.2060 - val_binary_accuracy: 0.6936\n",
            "Epoch 25/100\n",
            "417/417 [==============================] - 2s 6ms/step - loss: 0.1584 - binary_accuracy: 0.7661 - val_loss: 0.2069 - val_binary_accuracy: 0.6861\n",
            "Epoch 26/100\n",
            "417/417 [==============================] - 2s 5ms/step - loss: 0.1578 - binary_accuracy: 0.7667 - val_loss: 0.1994 - val_binary_accuracy: 0.6990\n",
            "Epoch 27/100\n",
            "417/417 [==============================] - 2s 5ms/step - loss: 0.1563 - binary_accuracy: 0.7663 - val_loss: 0.1996 - val_binary_accuracy: 0.6969\n",
            "Epoch 28/100\n",
            "417/417 [==============================] - 2s 5ms/step - loss: 0.1536 - binary_accuracy: 0.7747 - val_loss: 0.2113 - val_binary_accuracy: 0.6699\n",
            "Epoch 29/100\n",
            "417/417 [==============================] - 2s 5ms/step - loss: 0.1531 - binary_accuracy: 0.7748 - val_loss: 0.2000 - val_binary_accuracy: 0.6904\n",
            "Epoch 30/100\n",
            "417/417 [==============================] - 2s 5ms/step - loss: 0.1510 - binary_accuracy: 0.7812 - val_loss: 0.1962 - val_binary_accuracy: 0.7033\n",
            "Epoch 31/100\n",
            "417/417 [==============================] - 2s 5ms/step - loss: 0.1489 - binary_accuracy: 0.7851 - val_loss: 0.1968 - val_binary_accuracy: 0.7033\n",
            "Epoch 32/100\n",
            "417/417 [==============================] - 2s 5ms/step - loss: 0.1493 - binary_accuracy: 0.7819 - val_loss: 0.1949 - val_binary_accuracy: 0.7098\n",
            "Epoch 33/100\n",
            "417/417 [==============================] - 2s 5ms/step - loss: 0.1449 - binary_accuracy: 0.7877 - val_loss: 0.2065 - val_binary_accuracy: 0.6969\n",
            "Epoch 34/100\n",
            "417/417 [==============================] - 2s 5ms/step - loss: 0.1439 - binary_accuracy: 0.7883 - val_loss: 0.1981 - val_binary_accuracy: 0.7012\n",
            "Epoch 35/100\n",
            "417/417 [==============================] - 2s 5ms/step - loss: 0.1427 - binary_accuracy: 0.7964 - val_loss: 0.2029 - val_binary_accuracy: 0.6882\n",
            "Epoch 36/100\n",
            "417/417 [==============================] - 2s 5ms/step - loss: 0.1414 - binary_accuracy: 0.7961 - val_loss: 0.1935 - val_binary_accuracy: 0.7109\n",
            "Epoch 37/100\n",
            "417/417 [==============================] - 2s 5ms/step - loss: 0.1388 - binary_accuracy: 0.8016 - val_loss: 0.1991 - val_binary_accuracy: 0.6893\n",
            "Epoch 38/100\n",
            "417/417 [==============================] - 2s 5ms/step - loss: 0.1382 - binary_accuracy: 0.8036 - val_loss: 0.1949 - val_binary_accuracy: 0.7238\n",
            "Epoch 39/100\n",
            "417/417 [==============================] - 2s 5ms/step - loss: 0.1373 - binary_accuracy: 0.8017 - val_loss: 0.2029 - val_binary_accuracy: 0.6893\n",
            "Epoch 40/100\n",
            "417/417 [==============================] - 2s 5ms/step - loss: 0.1376 - binary_accuracy: 0.8005 - val_loss: 0.2016 - val_binary_accuracy: 0.6915\n",
            "Epoch 41/100\n",
            "417/417 [==============================] - 2s 5ms/step - loss: 0.1370 - binary_accuracy: 0.8077 - val_loss: 0.1981 - val_binary_accuracy: 0.7087\n",
            "Epoch 42/100\n",
            "417/417 [==============================] - 2s 5ms/step - loss: 0.1327 - binary_accuracy: 0.8131 - val_loss: 0.1981 - val_binary_accuracy: 0.6990\n",
            "Epoch 43/100\n",
            "417/417 [==============================] - 2s 5ms/step - loss: 0.1320 - binary_accuracy: 0.8141 - val_loss: 0.2002 - val_binary_accuracy: 0.6882\n",
            "Epoch 44/100\n",
            "417/417 [==============================] - 2s 5ms/step - loss: 0.1302 - binary_accuracy: 0.8171 - val_loss: 0.1990 - val_binary_accuracy: 0.7023\n",
            "Epoch 45/100\n",
            "417/417 [==============================] - 2s 5ms/step - loss: 0.1291 - binary_accuracy: 0.8195 - val_loss: 0.1945 - val_binary_accuracy: 0.7131\n",
            "Epoch 46/100\n",
            "417/417 [==============================] - 2s 5ms/step - loss: 0.1281 - binary_accuracy: 0.8165 - val_loss: 0.1957 - val_binary_accuracy: 0.7163\n",
            "Epoch 47/100\n",
            "417/417 [==============================] - 2s 5ms/step - loss: 0.1240 - binary_accuracy: 0.8237 - val_loss: 0.1941 - val_binary_accuracy: 0.7174\n",
            "Epoch 48/100\n",
            "417/417 [==============================] - 2s 5ms/step - loss: 0.1241 - binary_accuracy: 0.8251 - val_loss: 0.1931 - val_binary_accuracy: 0.7195\n",
            "Epoch 49/100\n",
            "417/417 [==============================] - 2s 5ms/step - loss: 0.1268 - binary_accuracy: 0.8198 - val_loss: 0.1980 - val_binary_accuracy: 0.7109\n",
            "Epoch 50/100\n",
            "417/417 [==============================] - 2s 5ms/step - loss: 0.1226 - binary_accuracy: 0.8281 - val_loss: 0.1948 - val_binary_accuracy: 0.7141\n",
            "Epoch 51/100\n",
            "417/417 [==============================] - 2s 5ms/step - loss: 0.1231 - binary_accuracy: 0.8258 - val_loss: 0.1940 - val_binary_accuracy: 0.7249\n",
            "Epoch 52/100\n",
            "417/417 [==============================] - 2s 5ms/step - loss: 0.1214 - binary_accuracy: 0.8277 - val_loss: 0.1970 - val_binary_accuracy: 0.7001\n",
            "Epoch 53/100\n",
            "417/417 [==============================] - 2s 5ms/step - loss: 0.1193 - binary_accuracy: 0.8309 - val_loss: 0.1982 - val_binary_accuracy: 0.7109\n",
            "Epoch 54/100\n",
            "417/417 [==============================] - 2s 5ms/step - loss: 0.1191 - binary_accuracy: 0.8363 - val_loss: 0.2098 - val_binary_accuracy: 0.6915\n",
            "Epoch 55/100\n",
            "417/417 [==============================] - 2s 5ms/step - loss: 0.1175 - binary_accuracy: 0.8339 - val_loss: 0.1981 - val_binary_accuracy: 0.7217\n",
            "Epoch 56/100\n",
            "417/417 [==============================] - 2s 5ms/step - loss: 0.1192 - binary_accuracy: 0.8331 - val_loss: 0.1920 - val_binary_accuracy: 0.7260\n",
            "Epoch 57/100\n",
            "417/417 [==============================] - 2s 5ms/step - loss: 0.1175 - binary_accuracy: 0.8364 - val_loss: 0.2012 - val_binary_accuracy: 0.7066\n",
            "Epoch 58/100\n",
            "417/417 [==============================] - 2s 5ms/step - loss: 0.1150 - binary_accuracy: 0.8387 - val_loss: 0.1921 - val_binary_accuracy: 0.7292\n",
            "Epoch 59/100\n",
            "417/417 [==============================] - 2s 5ms/step - loss: 0.1137 - binary_accuracy: 0.8419 - val_loss: 0.2002 - val_binary_accuracy: 0.7131\n",
            "Epoch 60/100\n",
            "417/417 [==============================] - 2s 5ms/step - loss: 0.1149 - binary_accuracy: 0.8406 - val_loss: 0.2010 - val_binary_accuracy: 0.7131\n",
            "Epoch 61/100\n",
            "417/417 [==============================] - 2s 5ms/step - loss: 0.1111 - binary_accuracy: 0.8485 - val_loss: 0.1988 - val_binary_accuracy: 0.7141\n",
            "Epoch 62/100\n",
            "417/417 [==============================] - 2s 5ms/step - loss: 0.1108 - binary_accuracy: 0.8454 - val_loss: 0.2004 - val_binary_accuracy: 0.7184\n",
            "Epoch 63/100\n",
            "417/417 [==============================] - 2s 5ms/step - loss: 0.1115 - binary_accuracy: 0.8452 - val_loss: 0.1994 - val_binary_accuracy: 0.7238\n",
            "Epoch 64/100\n",
            "417/417 [==============================] - 2s 5ms/step - loss: 0.1086 - binary_accuracy: 0.8485 - val_loss: 0.2021 - val_binary_accuracy: 0.7163\n",
            "Epoch 65/100\n",
            "417/417 [==============================] - 2s 5ms/step - loss: 0.1104 - binary_accuracy: 0.8456 - val_loss: 0.1975 - val_binary_accuracy: 0.7184\n",
            "Epoch 66/100\n",
            "417/417 [==============================] - 2s 5ms/step - loss: 0.1109 - binary_accuracy: 0.8462 - val_loss: 0.1982 - val_binary_accuracy: 0.7217\n",
            "Epoch 67/100\n",
            "417/417 [==============================] - 2s 5ms/step - loss: 0.1074 - binary_accuracy: 0.8509 - val_loss: 0.1977 - val_binary_accuracy: 0.7120\n",
            "Epoch 68/100\n",
            "417/417 [==============================] - 2s 5ms/step - loss: 0.1065 - binary_accuracy: 0.8528 - val_loss: 0.1977 - val_binary_accuracy: 0.7238\n",
            "Epoch 69/100\n",
            "417/417 [==============================] - 2s 6ms/step - loss: 0.1064 - binary_accuracy: 0.8568 - val_loss: 0.2133 - val_binary_accuracy: 0.6980\n",
            "Epoch 70/100\n",
            "417/417 [==============================] - 2s 6ms/step - loss: 0.1063 - binary_accuracy: 0.8533 - val_loss: 0.1993 - val_binary_accuracy: 0.7228\n",
            "Epoch 71/100\n",
            "417/417 [==============================] - 2s 6ms/step - loss: 0.1032 - binary_accuracy: 0.8584 - val_loss: 0.1935 - val_binary_accuracy: 0.7335\n",
            "Epoch 72/100\n",
            "417/417 [==============================] - 2s 6ms/step - loss: 0.1024 - binary_accuracy: 0.8622 - val_loss: 0.2016 - val_binary_accuracy: 0.7195\n",
            "Epoch 73/100\n",
            "417/417 [==============================] - 2s 5ms/step - loss: 0.1029 - binary_accuracy: 0.8553 - val_loss: 0.1957 - val_binary_accuracy: 0.7238\n",
            "Epoch 74/100\n",
            "417/417 [==============================] - 2s 5ms/step - loss: 0.1035 - binary_accuracy: 0.8572 - val_loss: 0.1934 - val_binary_accuracy: 0.7260\n",
            "Epoch 75/100\n",
            "417/417 [==============================] - 2s 5ms/step - loss: 0.1013 - binary_accuracy: 0.8594 - val_loss: 0.1962 - val_binary_accuracy: 0.7195\n",
            "Epoch 76/100\n",
            "417/417 [==============================] - 2s 5ms/step - loss: 0.1012 - binary_accuracy: 0.8607 - val_loss: 0.1981 - val_binary_accuracy: 0.7238\n"
          ],
          "name": "stdout"
        }
      ]
    },
    {
      "cell_type": "code",
      "metadata": {
        "colab": {
          "base_uri": "https://localhost:8080/"
        },
        "id": "IE28TqhAWVlz",
        "outputId": "7d6d4ce1-fa9d-4583-d2b5-76da5a84f5b8"
      },
      "source": [
        ""
      ],
      "execution_count": 185,
      "outputs": [
        {
          "output_type": "execute_result",
          "data": {
            "text/plain": [
              "['loss', 'binary_accuracy']"
            ]
          },
          "metadata": {
            "tags": []
          },
          "execution_count": 185
        }
      ]
    },
    {
      "cell_type": "markdown",
      "metadata": {
        "id": "J1sL_DTrKmpq"
      },
      "source": [
        "### 7. Avaliar a performance da Rede Neural\n",
        "\n",
        "Para avaliar a a Rede Neural, simplesmente informamos as amostras de teste: X_teste e y_teste. A função evaluate() vai retornar uma lista contendo 2 valores: loss e accuracy."
      ]
    },
    {
      "cell_type": "markdown",
      "metadata": {
        "id": "VckQfEFPvMa7"
      },
      "source": [
        "[**Python**] - Comando modelo.evaluate(X_teste, y_teste)"
      ]
    },
    {
      "cell_type": "code",
      "metadata": {
        "id": "veeKG78w4hWh"
      },
      "source": [
        "def Mostra_ConfusionMatrix(X,y):\n",
        "    y_pred = RN.predict_classes(X)\n",
        "    mc = confusion_matrix(y, y_pred)\n",
        "    #sns.heatmap(mc,annot=True, annot_kws={\"size\": 10},fmt=\"d\")\n",
        "    sns.heatmap(mc/np.sum(mc), annot=True, annot_kws={\"size\": 10}, fmt='.2%', cmap='Blues')"
      ],
      "execution_count": 217,
      "outputs": []
    },
    {
      "cell_type": "code",
      "metadata": {
        "colab": {
          "base_uri": "https://localhost:8080/"
        },
        "id": "XUJL6Y6A4hWh",
        "outputId": "155dfcab-a4fe-4d32-d521-e66fabebd316"
      },
      "source": [
        "RN.evaluate(X_teste, y_teste)"
      ],
      "execution_count": 285,
      "outputs": [
        {
          "output_type": "stream",
          "text": [
            "29/29 [==============================] - 0s 1ms/step - loss: 0.1981 - binary_accuracy: 0.7238\n"
          ],
          "name": "stdout"
        },
        {
          "output_type": "execute_result",
          "data": {
            "text/plain": [
              "[0.19812223315238953, 0.7238403558731079]"
            ]
          },
          "metadata": {
            "tags": []
          },
          "execution_count": 285
        }
      ]
    },
    {
      "cell_type": "code",
      "metadata": {
        "colab": {
          "base_uri": "https://localhost:8080/"
        },
        "id": "g3KRG1fN4hWi",
        "outputId": "43e5d41f-133b-42fe-f6d9-eaaf9a5d305b"
      },
      "source": [
        "F1_Test=f1_score(y_teste, RN.predict_classes(X_teste), average=\"macro\")\n",
        "print(f'F1: {F1_Test}')"
      ],
      "execution_count": 286,
      "outputs": [
        {
          "output_type": "stream",
          "text": [
            "F1: 0.7236985497527035\n"
          ],
          "name": "stdout"
        }
      ]
    },
    {
      "cell_type": "code",
      "metadata": {
        "id": "HSC6yxs9VONq",
        "colab": {
          "base_uri": "https://localhost:8080/",
          "height": 265
        },
        "outputId": "eca7b097-25f7-4d3f-9b1f-a5a5dbb83f52"
      },
      "source": [
        "Mostra_ConfusionMatrix(X_teste, y_teste)"
      ],
      "execution_count": 287,
      "outputs": [
        {
          "output_type": "display_data",
          "data": {
            "image/png": "[encoded data removed]",
            "text/plain": [
              "<Figure size 432x288 with 2 Axes>"
            ]
          },
          "metadata": {
            "tags": [],
            "needs_background": "light"
          }
        }
      ]
    },
    {
      "cell_type": "code",
      "metadata": {
        "colab": {
          "base_uri": "https://localhost:8080/"
        },
        "id": "vdDUMlaT4hWi",
        "outputId": "5b299028-54e5-4763-ec8a-653cb84a8086"
      },
      "source": [
        "RN.evaluate(df_X, df_y)"
      ],
      "execution_count": 288,
      "outputs": [
        {
          "output_type": "stream",
          "text": [
            "345/345 [==============================] - 1s 2ms/step - loss: 0.1428 - binary_accuracy: 0.7999\n"
          ],
          "name": "stdout"
        },
        {
          "output_type": "execute_result",
          "data": {
            "text/plain": [
              "[0.14283983409404755, 0.7998731136322021]"
            ]
          },
          "metadata": {
            "tags": []
          },
          "execution_count": 288
        }
      ]
    },
    {
      "cell_type": "code",
      "metadata": {
        "colab": {
          "base_uri": "https://localhost:8080/"
        },
        "id": "NbBX0xLW4hWi",
        "outputId": "671d223f-3867-469a-c64f-d2c8b3047b57"
      },
      "source": [
        "F1_X=f1_score(y, RN.predict_classes(X), average=\"macro\")\n",
        "print(f'F1: {F1_X}')"
      ],
      "execution_count": 289,
      "outputs": [
        {
          "output_type": "stream",
          "text": [
            "F1: 0.888980973912323\n"
          ],
          "name": "stdout"
        }
      ]
    },
    {
      "cell_type": "code",
      "metadata": {
        "id": "uKMi5mUMVWdR",
        "colab": {
          "base_uri": "https://localhost:8080/",
          "height": 265
        },
        "outputId": "428c50c3-f806-4fcb-8471-55023656f8c1"
      },
      "source": [
        "Mostra_ConfusionMatrix(df_X, df_y)"
      ],
      "execution_count": 290,
      "outputs": [
        {
          "output_type": "display_data",
          "data": {
            "image/png": "[encoded data removed]",
            "text/plain": [
              "<Figure size 432x288 with 2 Axes>"
            ]
          },
          "metadata": {
            "tags": [],
            "needs_background": "light"
          }
        }
      ]
    },
    {
      "cell_type": "code",
      "metadata": {
        "colab": {
          "base_uri": "https://localhost:8080/"
        },
        "id": "X1V4oO0R4hWi",
        "outputId": "9a7e0d3c-f17c-461a-8cf8-fe0c9ad42167"
      },
      "source": [
        "RN.evaluate(X_treinamento, y_treinamento)"
      ],
      "execution_count": 291,
      "outputs": [
        {
          "output_type": "stream",
          "text": [
            "261/261 [==============================] - 0s 1ms/step - loss: 0.0722 - binary_accuracy: 0.9075\n"
          ],
          "name": "stdout"
        },
        {
          "output_type": "execute_result",
          "data": {
            "text/plain": [
              "[0.07218600809574127, 0.9075096249580383]"
            ]
          },
          "metadata": {
            "tags": []
          },
          "execution_count": 291
        }
      ]
    },
    {
      "cell_type": "code",
      "metadata": {
        "colab": {
          "base_uri": "https://localhost:8080/"
        },
        "id": "g7cCtosc4hWi",
        "outputId": "df95f5a6-8217-45eb-f130-19074f14c265"
      },
      "source": [
        "F1_Trein=f1_score(y_treinamento, RN.predict_classes(X_treinamento), average=\"macro\")\n",
        "print(f'F1: {F1_Trein}')"
      ],
      "execution_count": 292,
      "outputs": [
        {
          "output_type": "stream",
          "text": [
            "F1: 0.9073377363023927\n"
          ],
          "name": "stdout"
        }
      ]
    },
    {
      "cell_type": "code",
      "metadata": {
        "colab": {
          "base_uri": "https://localhost:8080/",
          "height": 265
        },
        "id": "N89YhXgS4hWj",
        "outputId": "b8dc5e11-bea9-482d-e57e-8b7132d032b2"
      },
      "source": [
        "Mostra_ConfusionMatrix(X_treinamento, y_treinamento)"
      ],
      "execution_count": 293,
      "outputs": [
        {
          "output_type": "display_data",
          "data": {
            "image/png": "[encoded data removed]",
            "text/plain": [
              "<Figure size 432x288 with 2 Axes>"
            ]
          },
          "metadata": {
            "tags": [],
            "needs_background": "light"
          }
        }
      ]
    },
    {
      "cell_type": "markdown",
      "metadata": {
        "id": "D5zYHcGuMPZe"
      },
      "source": [
        "### 8. _Fine tuning_ da Rede Neural\n",
        "\n",
        "Para aumentar a acurácia da Rede Neural, sugiro aumentarmos o número de neurônios na _Hidden Layer_ e/ou aumentar o número de _Hidden Layers_.\n",
        "\n",
        "No entanto, obtivemos uma acurácia razoável com a Rede Neural _baseline_. Portanto, deixo como exercício para os alunos o desafio de melhorar a acurácia desta Rede Neural."
      ]
    },
    {
      "cell_type": "markdown",
      "metadata": {
        "id": "_ISodOu-Kmp3"
      },
      "source": [
        "### 9. Fazer Predições com a Rede Neural"
      ]
    },
    {
      "cell_type": "markdown",
      "metadata": {
        "id": "_xgdL1W4vUrN"
      },
      "source": [
        "[**Python**] - Comando:\n",
        "* RN.predict_classes(X_treinamento);\n",
        "* RN.predict_classes(X_teste)."
      ]
    },
    {
      "cell_type": "code",
      "metadata": {
        "id": "kqy2rt3YfPiy"
      },
      "source": [
        "y_test = RN.predict_classes(X_test)\n"
      ],
      "execution_count": 294,
      "outputs": []
    },
    {
      "cell_type": "code",
      "metadata": {
        "id": "_C_u02mygKgt"
      },
      "source": [
        "df_submit = pd.concat([pd.DataFrame(X_test.index,columns=['id']),pd.DataFrame(y_test,columns=['target']).astype('boolean')],axis=1)\n",
        "\n"
      ],
      "execution_count": 295,
      "outputs": []
    },
    {
      "cell_type": "code",
      "metadata": {
        "colab": {
          "base_uri": "https://localhost:8080/",
          "height": 407
        },
        "id": "k-GLGzuem3cV",
        "outputId": "177b8f5a-4be8-4675-be8f-162899b6fffc"
      },
      "source": [
        "df_submit"
      ],
      "execution_count": 296,
      "outputs": [
        {
          "output_type": "execute_result",
          "data": {
            "text/html": [
              "<div>\n",
              "<style scoped>\n",
              "    .dataframe tbody tr th:only-of-type {\n",
              "        vertical-align: middle;\n",
              "    }\n",
              "\n",
              "    .dataframe tbody tr th {\n",
              "        vertical-align: top;\n",
              "    }\n",
              "\n",
              "    .dataframe thead th {\n",
              "        text-align: right;\n",
              "    }\n",
              "</style>\n",
              "<table border=\"1\" class=\"dataframe\">\n",
              "  <thead>\n",
              "    <tr style=\"text-align: right;\">\n",
              "      <th></th>\n",
              "      <th>id</th>\n",
              "      <th>target</th>\n",
              "    </tr>\n",
              "  </thead>\n",
              "  <tbody>\n",
              "    <tr>\n",
              "      <th>0</th>\n",
              "      <td>3411</td>\n",
              "      <td>False</td>\n",
              "    </tr>\n",
              "    <tr>\n",
              "      <th>1</th>\n",
              "      <td>2177</td>\n",
              "      <td>False</td>\n",
              "    </tr>\n",
              "    <tr>\n",
              "      <th>2</th>\n",
              "      <td>8400</td>\n",
              "      <td>False</td>\n",
              "    </tr>\n",
              "    <tr>\n",
              "      <th>3</th>\n",
              "      <td>464</td>\n",
              "      <td>True</td>\n",
              "    </tr>\n",
              "    <tr>\n",
              "      <th>4</th>\n",
              "      <td>6672</td>\n",
              "      <td>True</td>\n",
              "    </tr>\n",
              "    <tr>\n",
              "      <th>...</th>\n",
              "      <td>...</td>\n",
              "      <td>...</td>\n",
              "    </tr>\n",
              "    <tr>\n",
              "      <th>995</th>\n",
              "      <td>8609</td>\n",
              "      <td>False</td>\n",
              "    </tr>\n",
              "    <tr>\n",
              "      <th>996</th>\n",
              "      <td>3384</td>\n",
              "      <td>False</td>\n",
              "    </tr>\n",
              "    <tr>\n",
              "      <th>997</th>\n",
              "      <td>8297</td>\n",
              "      <td>False</td>\n",
              "    </tr>\n",
              "    <tr>\n",
              "      <th>998</th>\n",
              "      <td>7556</td>\n",
              "      <td>False</td>\n",
              "    </tr>\n",
              "    <tr>\n",
              "      <th>999</th>\n",
              "      <td>8582</td>\n",
              "      <td>True</td>\n",
              "    </tr>\n",
              "  </tbody>\n",
              "</table>\n",
              "<p>1000 rows × 2 columns</p>\n",
              "</div>"
            ],
            "text/plain": [
              "       id  target\n",
              "0    3411   False\n",
              "1    2177   False\n",
              "2    8400   False\n",
              "3     464    True\n",
              "4    6672    True\n",
              "..    ...     ...\n",
              "995  8609   False\n",
              "996  3384   False\n",
              "997  8297   False\n",
              "998  7556   False\n",
              "999  8582    True\n",
              "\n",
              "[1000 rows x 2 columns]"
            ]
          },
          "metadata": {
            "tags": []
          },
          "execution_count": 296
        }
      ]
    },
    {
      "cell_type": "code",
      "metadata": {
        "id": "JU_6XlFRgPL2",
        "colab": {
          "base_uri": "https://localhost:8080/"
        },
        "outputId": "d11e2c3b-2a8a-4ce8-da6e-84fc675417f0"
      },
      "source": [
        "df_submit['target'].value_counts()"
      ],
      "execution_count": 297,
      "outputs": [
        {
          "output_type": "execute_result",
          "data": {
            "text/plain": [
              "False    572\n",
              "True     428\n",
              "Name: target, dtype: Int64"
            ]
          },
          "metadata": {
            "tags": []
          },
          "execution_count": 297
        }
      ]
    },
    {
      "cell_type": "code",
      "metadata": {
        "id": "XhnvrX4E65vY"
      },
      "source": [
        "F = df_submit['target'].value_counts()[0]\n",
        "T = df_submit['target'].value_counts()[1]"
      ],
      "execution_count": 298,
      "outputs": []
    },
    {
      "cell_type": "code",
      "metadata": {
        "id": "wB_47tDG60uC"
      },
      "source": [
        "df_submit.to_csv(f'/PyLadies_NL_80_Test_{round(F1_Test,4)}_X_{round(F1_X,4)}_Trein_{round(F1_Trein,4)}_F{F}_T{T}.csv',index = False, sep = ',')"
      ],
      "execution_count": 299,
      "outputs": []
    },
    {
      "cell_type": "markdown",
      "metadata": {
        "id": "NpufntZjyH8T"
      },
      "source": [
        "### Salvar a Rede Neural"
      ]
    },
    {
      "cell_type": "code",
      "metadata": {
        "id": "ZKqn0leTyLOy"
      },
      "source": [
        "# Save the weights\n",
        "RN.save('/RN_80.h5')"
      ],
      "execution_count": 300,
      "outputs": []
    },
    {
      "cell_type": "code",
      "metadata": {
        "id": "viORp6XjrC66"
      },
      "source": [
        ""
      ],
      "execution_count": null,
      "outputs": []
    }
  ]
}