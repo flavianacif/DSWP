{
  "nbformat": 4,
  "nbformat_minor": 0,
  "metadata": {
    "colab": {
      "name": "Untitled5.ipynb",
      "provenance": [],
      "toc_visible": true,
      "authorship_tag": "ABX9TyO6FycwOHipmnybmF6AJCDG",
      "include_colab_link": true
    },
    "kernelspec": {
      "name": "python3",
      "display_name": "Python 3"
    }
  },
  "cells": [
    {
      "cell_type": "markdown",
      "metadata": {
        "id": "view-in-github",
        "colab_type": "text"
      },
      "source": [
        "<a href=\"https://colab.research.google.com/github/flavianacif/DSWP/blob/master/RFB_RN_usando_train_5_com_dummies.ipynb\" target=\"_parent\"><img src=\"https://colab.research.google.com/assets/colab-badge.svg\" alt=\"Open In Colab\"/></a>"
      ]
    },
    {
      "cell_type": "code",
      "metadata": {
        "id": "j0_YZ6IURZE_"
      },
      "source": [
        "\n",
        "import tensorflow as tf\n",
        "import numpy as np\n",
        "import pandas as pd\n",
        "import matplotlib.pyplot as plt\n",
        "import seaborn as sns\n",
        "from sklearn.metrics import confusion_matrix\n",
        "\n",
        "from tensorflow import keras"
      ],
      "execution_count": 1,
      "outputs": []
    },
    {
      "cell_type": "markdown",
      "metadata": {
        "id": "9ZX00UN5cjvM"
      },
      "source": [
        "[**Python**] - Verificar a versão do Tensorflow\n",
        "> Assegurar que está a utilizar a versão 2.x."
      ]
    },
    {
      "cell_type": "code",
      "metadata": {
        "id": "THWNIk_FCe_g",
        "outputId": "1878ee27-5728-4b96-c118-be996ac9122b",
        "colab": {
          "base_uri": "https://localhost:8080/",
          "height": 35
        }
      },
      "source": [
        "tf.__version__"
      ],
      "execution_count": null,
      "outputs": [
        {
          "output_type": "execute_result",
          "data": {
            "application/vnd.google.colaboratory.intrinsic+json": {
              "type": "string"
            },
            "text/plain": [
              "'2.3.0'"
            ]
          },
          "metadata": {
            "tags": []
          },
          "execution_count": 2
        }
      ]
    },
    {
      "cell_type": "markdown",
      "metadata": {
        "id": "PZgQAKqLcLX3"
      },
      "source": [
        "[**Python**] - Definir o número de casas decimais"
      ]
    },
    {
      "cell_type": "code",
      "metadata": {
        "id": "tzKor02BCe_d"
      },
      "source": [
        "np.set_printoptions(precision= 3)"
      ],
      "execution_count": 2,
      "outputs": []
    },
    {
      "cell_type": "markdown",
      "metadata": {
        "id": "M5V4KopjLWOL"
      },
      "source": [
        "### 1. Carregar os dados"
      ]
    },
    {
      "cell_type": "markdown",
      "metadata": {
        "id": "V_cwAUW3tseE"
      },
      "source": [
        "[**Python**] - Carregar os dados:"
      ]
    },
    {
      "cell_type": "code",
      "metadata": {
        "id": "_Bs87IWPtwtm"
      },
      "source": [
        "# Leitura do dataframe:\n",
        "df_train = pd.read_csv('/train_5.csv')"
      ],
      "execution_count": 3,
      "outputs": []
    },
    {
      "cell_type": "code",
      "metadata": {
        "id": "cI8BYLNpr__x"
      },
      "source": [
        "df_test = pd.read_csv('/test_5.csv')"
      ],
      "execution_count": 4,
      "outputs": []
    },
    {
      "cell_type": "code",
      "metadata": {
        "id": "URxegHdQUD5P",
        "outputId": "94971deb-1c0b-423d-a596-77c7b38393fc",
        "colab": {
          "base_uri": "https://localhost:8080/"
        }
      },
      "source": [
        "df_train.shape"
      ],
      "execution_count": 5,
      "outputs": [
        {
          "output_type": "execute_result",
          "data": {
            "text/plain": [
              "(11033, 40)"
            ]
          },
          "metadata": {
            "tags": []
          },
          "execution_count": 5
        }
      ]
    },
    {
      "cell_type": "markdown",
      "metadata": {
        "id": "mBUeMtV7tzw6"
      },
      "source": [
        "[**Python**] - Mostrar as primeiras 5 linhas:"
      ]
    },
    {
      "cell_type": "code",
      "metadata": {
        "id": "rcH-y4amt3gs",
        "outputId": "66ab5de6-c655-43c1-991b-ecf7a005834d",
        "colab": {
          "base_uri": "https://localhost:8080/",
          "height": 224
        }
      },
      "source": [
        "df_train.head()"
      ],
      "execution_count": 6,
      "outputs": [
        {
          "output_type": "execute_result",
          "data": {
            "text/html": [
              "<div>\n",
              "<style scoped>\n",
              "    .dataframe tbody tr th:only-of-type {\n",
              "        vertical-align: middle;\n",
              "    }\n",
              "\n",
              "    .dataframe tbody tr th {\n",
              "        vertical-align: top;\n",
              "    }\n",
              "\n",
              "    .dataframe thead th {\n",
              "        text-align: right;\n",
              "    }\n",
              "</style>\n",
              "<table border=\"1\" class=\"dataframe\">\n",
              "  <thead>\n",
              "    <tr style=\"text-align: right;\">\n",
              "      <th></th>\n",
              "      <th>id</th>\n",
              "      <th>cnae2</th>\n",
              "      <th>rf2</th>\n",
              "      <th>md1</th>\n",
              "      <th>md2</th>\n",
              "      <th>md3</th>\n",
              "      <th>md4</th>\n",
              "      <th>md5</th>\n",
              "      <th>md7</th>\n",
              "      <th>md8</th>\n",
              "      <th>md9</th>\n",
              "      <th>md10</th>\n",
              "      <th>md12</th>\n",
              "      <th>mc1</th>\n",
              "      <th>mc3</th>\n",
              "      <th>mc4</th>\n",
              "      <th>ind02</th>\n",
              "      <th>ind03</th>\n",
              "      <th>ind04</th>\n",
              "      <th>ind05</th>\n",
              "      <th>ind06</th>\n",
              "      <th>ind07</th>\n",
              "      <th>ind08</th>\n",
              "      <th>ind12</th>\n",
              "      <th>ind13</th>\n",
              "      <th>ind19</th>\n",
              "      <th>ind20</th>\n",
              "      <th>ind21</th>\n",
              "      <th>ind22</th>\n",
              "      <th>ind23</th>\n",
              "      <th>ind24</th>\n",
              "      <th>ind25</th>\n",
              "      <th>ind26</th>\n",
              "      <th>ind27</th>\n",
              "      <th>ind31</th>\n",
              "      <th>ind32</th>\n",
              "      <th>ind34</th>\n",
              "      <th>ind36</th>\n",
              "      <th>ind37</th>\n",
              "      <th>target</th>\n",
              "    </tr>\n",
              "  </thead>\n",
              "  <tbody>\n",
              "    <tr>\n",
              "      <th>0</th>\n",
              "      <td>0</td>\n",
              "      <td>86</td>\n",
              "      <td>1</td>\n",
              "      <td>0.015101</td>\n",
              "      <td>0.011256</td>\n",
              "      <td>0.111095</td>\n",
              "      <td>0.003233</td>\n",
              "      <td>0.003233</td>\n",
              "      <td>0.016366</td>\n",
              "      <td>0.021082</td>\n",
              "      <td>0.004541</td>\n",
              "      <td>0.004541</td>\n",
              "      <td>0.130930</td>\n",
              "      <td>0.003945</td>\n",
              "      <td>0.000138</td>\n",
              "      <td>0.003355</td>\n",
              "      <td>0.0281</td>\n",
              "      <td>0.0</td>\n",
              "      <td>0.0000</td>\n",
              "      <td>0.0000</td>\n",
              "      <td>0.0000</td>\n",
              "      <td>0.0000</td>\n",
              "      <td>0.0000</td>\n",
              "      <td>0.0000</td>\n",
              "      <td>0.0000</td>\n",
              "      <td>1.0</td>\n",
              "      <td>0.0000</td>\n",
              "      <td>0.00</td>\n",
              "      <td>0.00</td>\n",
              "      <td>0.0000</td>\n",
              "      <td>0.0000</td>\n",
              "      <td>0.0976</td>\n",
              "      <td>0.0333</td>\n",
              "      <td>0.1000</td>\n",
              "      <td>0.0</td>\n",
              "      <td>0.0</td>\n",
              "      <td>0.0</td>\n",
              "      <td>1.0</td>\n",
              "      <td>1.0</td>\n",
              "      <td>True</td>\n",
              "    </tr>\n",
              "    <tr>\n",
              "      <th>1</th>\n",
              "      <td>1</td>\n",
              "      <td>18</td>\n",
              "      <td>9</td>\n",
              "      <td>0.005996</td>\n",
              "      <td>0.019476</td>\n",
              "      <td>0.124770</td>\n",
              "      <td>0.000000</td>\n",
              "      <td>0.010487</td>\n",
              "      <td>0.029214</td>\n",
              "      <td>0.046445</td>\n",
              "      <td>0.000000</td>\n",
              "      <td>0.018198</td>\n",
              "      <td>0.138620</td>\n",
              "      <td>0.003186</td>\n",
              "      <td>0.003121</td>\n",
              "      <td>0.003355</td>\n",
              "      <td>0.0000</td>\n",
              "      <td>1.0</td>\n",
              "      <td>0.4167</td>\n",
              "      <td>0.4194</td>\n",
              "      <td>0.7068</td>\n",
              "      <td>0.0076</td>\n",
              "      <td>0.0076</td>\n",
              "      <td>0.0125</td>\n",
              "      <td>0.0286</td>\n",
              "      <td>0.0</td>\n",
              "      <td>0.7625</td>\n",
              "      <td>1.00</td>\n",
              "      <td>1.00</td>\n",
              "      <td>0.1429</td>\n",
              "      <td>0.2857</td>\n",
              "      <td>0.0000</td>\n",
              "      <td>0.4444</td>\n",
              "      <td>0.2222</td>\n",
              "      <td>1.0</td>\n",
              "      <td>0.0</td>\n",
              "      <td>1.0</td>\n",
              "      <td>1.0</td>\n",
              "      <td>0.0</td>\n",
              "      <td>False</td>\n",
              "    </tr>\n",
              "    <tr>\n",
              "      <th>2</th>\n",
              "      <td>2</td>\n",
              "      <td>74</td>\n",
              "      <td>9</td>\n",
              "      <td>0.000006</td>\n",
              "      <td>0.002902</td>\n",
              "      <td>0.110160</td>\n",
              "      <td>0.002274</td>\n",
              "      <td>0.002274</td>\n",
              "      <td>0.002902</td>\n",
              "      <td>0.020058</td>\n",
              "      <td>0.003131</td>\n",
              "      <td>0.003131</td>\n",
              "      <td>0.130405</td>\n",
              "      <td>0.000015</td>\n",
              "      <td>0.000050</td>\n",
              "      <td>0.000209</td>\n",
              "      <td>0.0000</td>\n",
              "      <td>1.0</td>\n",
              "      <td>1.0000</td>\n",
              "      <td>1.0000</td>\n",
              "      <td>1.0000</td>\n",
              "      <td>0.0000</td>\n",
              "      <td>0.0000</td>\n",
              "      <td>0.0000</td>\n",
              "      <td>0.0000</td>\n",
              "      <td>1.0</td>\n",
              "      <td>1.0000</td>\n",
              "      <td>1.00</td>\n",
              "      <td>1.00</td>\n",
              "      <td>1.0000</td>\n",
              "      <td>1.0000</td>\n",
              "      <td>0.0000</td>\n",
              "      <td>1.0000</td>\n",
              "      <td>1.0000</td>\n",
              "      <td>1.0</td>\n",
              "      <td>1.0</td>\n",
              "      <td>1.0</td>\n",
              "      <td>1.0</td>\n",
              "      <td>1.0</td>\n",
              "      <td>False</td>\n",
              "    </tr>\n",
              "    <tr>\n",
              "      <th>3</th>\n",
              "      <td>3</td>\n",
              "      <td>49</td>\n",
              "      <td>4</td>\n",
              "      <td>0.000009</td>\n",
              "      <td>0.014526</td>\n",
              "      <td>0.120351</td>\n",
              "      <td>0.000000</td>\n",
              "      <td>0.000000</td>\n",
              "      <td>0.014526</td>\n",
              "      <td>0.032017</td>\n",
              "      <td>0.000000</td>\n",
              "      <td>0.000000</td>\n",
              "      <td>0.138620</td>\n",
              "      <td>0.000438</td>\n",
              "      <td>0.000042</td>\n",
              "      <td>0.000115</td>\n",
              "      <td>0.0000</td>\n",
              "      <td>0.0</td>\n",
              "      <td>0.0000</td>\n",
              "      <td>0.0000</td>\n",
              "      <td>0.0000</td>\n",
              "      <td>0.2309</td>\n",
              "      <td>0.2309</td>\n",
              "      <td>0.0000</td>\n",
              "      <td>0.0000</td>\n",
              "      <td>0.0</td>\n",
              "      <td>1.0000</td>\n",
              "      <td>0.25</td>\n",
              "      <td>0.25</td>\n",
              "      <td>0.9167</td>\n",
              "      <td>0.9167</td>\n",
              "      <td>0.1785</td>\n",
              "      <td>0.1667</td>\n",
              "      <td>0.1667</td>\n",
              "      <td>0.0</td>\n",
              "      <td>0.0</td>\n",
              "      <td>0.0</td>\n",
              "      <td>0.0</td>\n",
              "      <td>1.0</td>\n",
              "      <td>False</td>\n",
              "    </tr>\n",
              "    <tr>\n",
              "      <th>4</th>\n",
              "      <td>4</td>\n",
              "      <td>47</td>\n",
              "      <td>1</td>\n",
              "      <td>0.000191</td>\n",
              "      <td>0.004042</td>\n",
              "      <td>0.111078</td>\n",
              "      <td>0.001121</td>\n",
              "      <td>0.001121</td>\n",
              "      <td>0.006063</td>\n",
              "      <td>0.023705</td>\n",
              "      <td>0.011886</td>\n",
              "      <td>0.011886</td>\n",
              "      <td>0.131285</td>\n",
              "      <td>0.001925</td>\n",
              "      <td>0.003121</td>\n",
              "      <td>0.000719</td>\n",
              "      <td>0.0000</td>\n",
              "      <td>0.0</td>\n",
              "      <td>0.0000</td>\n",
              "      <td>0.0000</td>\n",
              "      <td>0.0000</td>\n",
              "      <td>1.0000</td>\n",
              "      <td>1.0000</td>\n",
              "      <td>0.0000</td>\n",
              "      <td>0.0000</td>\n",
              "      <td>0.0</td>\n",
              "      <td>0.0000</td>\n",
              "      <td>0.00</td>\n",
              "      <td>0.00</td>\n",
              "      <td>0.0000</td>\n",
              "      <td>0.0000</td>\n",
              "      <td>0.0000</td>\n",
              "      <td>0.0000</td>\n",
              "      <td>0.0000</td>\n",
              "      <td>0.0</td>\n",
              "      <td>0.0</td>\n",
              "      <td>0.0</td>\n",
              "      <td>0.0</td>\n",
              "      <td>0.0</td>\n",
              "      <td>False</td>\n",
              "    </tr>\n",
              "  </tbody>\n",
              "</table>\n",
              "</div>"
            ],
            "text/plain": [
              "   id  cnae2  rf2       md1       md2  ...  ind32  ind34  ind36  ind37  target\n",
              "0   0     86    1  0.015101  0.011256  ...    0.0    0.0    1.0    1.0    True\n",
              "1   1     18    9  0.005996  0.019476  ...    0.0    1.0    1.0    0.0   False\n",
              "2   2     74    9  0.000006  0.002902  ...    1.0    1.0    1.0    1.0   False\n",
              "3   3     49    4  0.000009  0.014526  ...    0.0    0.0    0.0    1.0   False\n",
              "4   4     47    1  0.000191  0.004042  ...    0.0    0.0    0.0    0.0   False\n",
              "\n",
              "[5 rows x 40 columns]"
            ]
          },
          "metadata": {
            "tags": []
          },
          "execution_count": 6
        }
      ]
    },
    {
      "cell_type": "markdown",
      "metadata": {
        "id": "OSa161sPLcAw"
      },
      "source": [
        "### Pré-processamento e transformação dos dados"
      ]
    },
    {
      "cell_type": "markdown",
      "metadata": {
        "id": "UTISVuZ4ukQO"
      },
      "source": [
        "[**Python**] - Definir os arrays df_X e df_y:\n",
        "\n",
        "\n"
      ]
    },
    {
      "cell_type": "code",
      "metadata": {
        "id": "oMTIn6Zf5LlU"
      },
      "source": [
        "df_X = df_train.copy()\n",
        "df_X = df_X.drop(columns= ['target','id'])\n",
        "df_y = df_train['target'].values"
      ],
      "execution_count": 24,
      "outputs": []
    },
    {
      "cell_type": "code",
      "metadata": {
        "id": "iSThKwhj4LsC",
        "outputId": "af53bc2e-4055-4bf5-d282-ab8b042b77ca",
        "colab": {
          "base_uri": "https://localhost:8080/"
        }
      },
      "source": [
        "df_y"
      ],
      "execution_count": 8,
      "outputs": [
        {
          "output_type": "execute_result",
          "data": {
            "text/plain": [
              "array([ True, False, False, ...,  True, False,  True])"
            ]
          },
          "metadata": {
            "tags": []
          },
          "execution_count": 8
        }
      ]
    },
    {
      "cell_type": "markdown",
      "metadata": {
        "id": "FiO_F95jc1_s"
      },
      "source": [
        "[**Python**] - Normalizar os dados - StandardScaler()"
      ]
    },
    {
      "cell_type": "code",
      "metadata": {
        "id": "4myPAnSzE7-l"
      },
      "source": [
        "from sklearn.preprocessing import StandardScaler\n",
        "from sklearn.preprocessing import MinMaxScaler\n",
        "\n",
        "SS = StandardScaler()\n",
        "#MM = MinMaxScaler()\n",
        "\n",
        "#df_X.drop(columns=['cnae2','md6','md11','mc2','ind01','ind09','ind10','ind11','ind14','ind15','ind16','ind17','ind18','ind28','ind29','ind30','ind38','ind39','ind40','ind41','ind42','ind43'], inplace=True,axis=1)\n",
        "X_test = df_test.drop(columns=['id'],axis=1)\n",
        "df_X['rf2'] = df_X['rf2'].astype('category')\n",
        "X_test['rf2'] = X_test['rf2'].astype('category')\n",
        "df_X['cnae2'] = df_X['cnae2'].astype('category')\n",
        "X_test['cnae2'] = X_test['cnae2'].astype('category')"
      ],
      "execution_count": 25,
      "outputs": []
    },
    {
      "cell_type": "code",
      "metadata": {
        "id": "TbZy4BAAsy2B",
        "outputId": "62aea410-3475-4926-cd7e-4c114e9bfc7f",
        "colab": {
          "base_uri": "https://localhost:8080/",
          "height": 439
        }
      },
      "source": [
        "\n",
        "\n",
        "df_X = pd.get_dummies(df_X)\n",
        "X_test = pd.get_dummies(X_test)\n",
        "df_X[df_X.columns]= SS.fit_transform(df_X[df_X.columns])\n",
        "X_test[X_test.columns]= SS.fit_transform(X_test[X_test.columns])\n",
        "df_X"
      ],
      "execution_count": 26,
      "outputs": [
        {
          "output_type": "execute_result",
          "data": {
            "text/html": [
              "<div>\n",
              "<style scoped>\n",
              "    .dataframe tbody tr th:only-of-type {\n",
              "        vertical-align: middle;\n",
              "    }\n",
              "\n",
              "    .dataframe tbody tr th {\n",
              "        vertical-align: top;\n",
              "    }\n",
              "\n",
              "    .dataframe thead th {\n",
              "        text-align: right;\n",
              "    }\n",
              "</style>\n",
              "<table border=\"1\" class=\"dataframe\">\n",
              "  <thead>\n",
              "    <tr style=\"text-align: right;\">\n",
              "      <th></th>\n",
              "      <th>md1</th>\n",
              "      <th>md2</th>\n",
              "      <th>md3</th>\n",
              "      <th>md4</th>\n",
              "      <th>md5</th>\n",
              "      <th>md7</th>\n",
              "      <th>md8</th>\n",
              "      <th>md9</th>\n",
              "      <th>md10</th>\n",
              "      <th>md12</th>\n",
              "      <th>mc1</th>\n",
              "      <th>mc3</th>\n",
              "      <th>mc4</th>\n",
              "      <th>ind02</th>\n",
              "      <th>ind03</th>\n",
              "      <th>ind04</th>\n",
              "      <th>ind05</th>\n",
              "      <th>ind06</th>\n",
              "      <th>ind07</th>\n",
              "      <th>ind08</th>\n",
              "      <th>ind12</th>\n",
              "      <th>ind13</th>\n",
              "      <th>ind19</th>\n",
              "      <th>ind20</th>\n",
              "      <th>ind21</th>\n",
              "      <th>ind22</th>\n",
              "      <th>ind23</th>\n",
              "      <th>ind24</th>\n",
              "      <th>ind25</th>\n",
              "      <th>ind26</th>\n",
              "      <th>ind27</th>\n",
              "      <th>ind31</th>\n",
              "      <th>ind32</th>\n",
              "      <th>ind34</th>\n",
              "      <th>ind36</th>\n",
              "      <th>ind37</th>\n",
              "      <th>cnae2_0</th>\n",
              "      <th>cnae2_1</th>\n",
              "      <th>cnae2_2</th>\n",
              "      <th>cnae2_3</th>\n",
              "      <th>...</th>\n",
              "      <th>cnae2_60</th>\n",
              "      <th>cnae2_61</th>\n",
              "      <th>cnae2_62</th>\n",
              "      <th>cnae2_63</th>\n",
              "      <th>cnae2_64</th>\n",
              "      <th>cnae2_65</th>\n",
              "      <th>cnae2_66</th>\n",
              "      <th>cnae2_68</th>\n",
              "      <th>cnae2_69</th>\n",
              "      <th>cnae2_70</th>\n",
              "      <th>cnae2_71</th>\n",
              "      <th>cnae2_72</th>\n",
              "      <th>cnae2_73</th>\n",
              "      <th>cnae2_74</th>\n",
              "      <th>cnae2_75</th>\n",
              "      <th>cnae2_77</th>\n",
              "      <th>cnae2_78</th>\n",
              "      <th>cnae2_79</th>\n",
              "      <th>cnae2_80</th>\n",
              "      <th>cnae2_81</th>\n",
              "      <th>cnae2_82</th>\n",
              "      <th>cnae2_85</th>\n",
              "      <th>cnae2_86</th>\n",
              "      <th>cnae2_87</th>\n",
              "      <th>cnae2_90</th>\n",
              "      <th>cnae2_91</th>\n",
              "      <th>cnae2_93</th>\n",
              "      <th>cnae2_94</th>\n",
              "      <th>cnae2_95</th>\n",
              "      <th>cnae2_96</th>\n",
              "      <th>rf2_0</th>\n",
              "      <th>rf2_1</th>\n",
              "      <th>rf2_2</th>\n",
              "      <th>rf2_3</th>\n",
              "      <th>rf2_4</th>\n",
              "      <th>rf2_5</th>\n",
              "      <th>rf2_6</th>\n",
              "      <th>rf2_7</th>\n",
              "      <th>rf2_8</th>\n",
              "      <th>rf2_9</th>\n",
              "    </tr>\n",
              "  </thead>\n",
              "  <tbody>\n",
              "    <tr>\n",
              "      <th>0</th>\n",
              "      <td>2.001376</td>\n",
              "      <td>0.242357</td>\n",
              "      <td>-0.596385</td>\n",
              "      <td>-0.430638</td>\n",
              "      <td>0.152674</td>\n",
              "      <td>0.428471</td>\n",
              "      <td>-0.709793</td>\n",
              "      <td>-0.461886</td>\n",
              "      <td>-0.002502</td>\n",
              "      <td>-0.628558</td>\n",
              "      <td>2.134258</td>\n",
              "      <td>-0.556589</td>\n",
              "      <td>2.165120</td>\n",
              "      <td>-0.328086</td>\n",
              "      <td>-0.735539</td>\n",
              "      <td>-0.806095</td>\n",
              "      <td>-0.842409</td>\n",
              "      <td>-0.839243</td>\n",
              "      <td>-0.707050</td>\n",
              "      <td>-0.804816</td>\n",
              "      <td>-0.573635</td>\n",
              "      <td>-0.596183</td>\n",
              "      <td>0.673623</td>\n",
              "      <td>-1.556934</td>\n",
              "      <td>-1.247419</td>\n",
              "      <td>-1.215785</td>\n",
              "      <td>-0.764612</td>\n",
              "      <td>-0.751150</td>\n",
              "      <td>0.805421</td>\n",
              "      <td>-1.303257</td>\n",
              "      <td>-1.119314</td>\n",
              "      <td>-0.701970</td>\n",
              "      <td>-0.760228</td>\n",
              "      <td>-0.975378</td>\n",
              "      <td>0.607337</td>\n",
              "      <td>0.716694</td>\n",
              "      <td>-0.013465</td>\n",
              "      <td>-0.085463</td>\n",
              "      <td>-0.04953</td>\n",
              "      <td>-0.016492</td>\n",
              "      <td>...</td>\n",
              "      <td>-0.053082</td>\n",
              "      <td>-0.040424</td>\n",
              "      <td>-0.117401</td>\n",
              "      <td>-0.046691</td>\n",
              "      <td>-0.120148</td>\n",
              "      <td>-0.028573</td>\n",
              "      <td>-0.091195</td>\n",
              "      <td>-0.203806</td>\n",
              "      <td>-0.155353</td>\n",
              "      <td>-0.130949</td>\n",
              "      <td>-0.189894</td>\n",
              "      <td>-0.025196</td>\n",
              "      <td>-0.120535</td>\n",
              "      <td>-0.102179</td>\n",
              "      <td>-0.023326</td>\n",
              "      <td>-0.108341</td>\n",
              "      <td>-0.09896</td>\n",
              "      <td>-0.043669</td>\n",
              "      <td>-0.073324</td>\n",
              "      <td>-0.119369</td>\n",
              "      <td>-0.152576</td>\n",
              "      <td>-0.105742</td>\n",
              "      <td>3.417837</td>\n",
              "      <td>-0.035645</td>\n",
              "      <td>-0.056413</td>\n",
              "      <td>-0.009521</td>\n",
              "      <td>-0.044699</td>\n",
              "      <td>-0.031591</td>\n",
              "      <td>-0.040424</td>\n",
              "      <td>-0.053082</td>\n",
              "      <td>-0.276957</td>\n",
              "      <td>3.437175</td>\n",
              "      <td>-0.338463</td>\n",
              "      <td>-0.253461</td>\n",
              "      <td>-0.247535</td>\n",
              "      <td>-0.288916</td>\n",
              "      <td>-0.377945</td>\n",
              "      <td>-0.226633</td>\n",
              "      <td>-0.290937</td>\n",
              "      <td>-0.656081</td>\n",
              "    </tr>\n",
              "    <tr>\n",
              "      <th>1</th>\n",
              "      <td>0.387480</td>\n",
              "      <td>1.172213</td>\n",
              "      <td>1.430105</td>\n",
              "      <td>-0.760142</td>\n",
              "      <td>1.986368</td>\n",
              "      <td>1.579348</td>\n",
              "      <td>1.770106</td>\n",
              "      <td>-0.797393</td>\n",
              "      <td>2.028365</td>\n",
              "      <td>2.076478</td>\n",
              "      <td>1.566392</td>\n",
              "      <td>1.965044</td>\n",
              "      <td>2.165120</td>\n",
              "      <td>-0.664310</td>\n",
              "      <td>1.392895</td>\n",
              "      <td>0.117190</td>\n",
              "      <td>0.092460</td>\n",
              "      <td>0.655920</td>\n",
              "      <td>-0.689384</td>\n",
              "      <td>-0.787562</td>\n",
              "      <td>1.750520</td>\n",
              "      <td>-0.400652</td>\n",
              "      <td>-1.540288</td>\n",
              "      <td>0.136321</td>\n",
              "      <td>0.996572</td>\n",
              "      <td>1.033080</td>\n",
              "      <td>-0.429099</td>\n",
              "      <td>-0.080470</td>\n",
              "      <td>-0.638652</td>\n",
              "      <td>-0.309639</td>\n",
              "      <td>-0.815049</td>\n",
              "      <td>1.424563</td>\n",
              "      <td>-0.760228</td>\n",
              "      <td>1.025244</td>\n",
              "      <td>0.607337</td>\n",
              "      <td>-1.395295</td>\n",
              "      <td>-0.013465</td>\n",
              "      <td>-0.085463</td>\n",
              "      <td>-0.04953</td>\n",
              "      <td>-0.016492</td>\n",
              "      <td>...</td>\n",
              "      <td>-0.053082</td>\n",
              "      <td>-0.040424</td>\n",
              "      <td>-0.117401</td>\n",
              "      <td>-0.046691</td>\n",
              "      <td>-0.120148</td>\n",
              "      <td>-0.028573</td>\n",
              "      <td>-0.091195</td>\n",
              "      <td>-0.203806</td>\n",
              "      <td>-0.155353</td>\n",
              "      <td>-0.130949</td>\n",
              "      <td>-0.189894</td>\n",
              "      <td>-0.025196</td>\n",
              "      <td>-0.120535</td>\n",
              "      <td>-0.102179</td>\n",
              "      <td>-0.023326</td>\n",
              "      <td>-0.108341</td>\n",
              "      <td>-0.09896</td>\n",
              "      <td>-0.043669</td>\n",
              "      <td>-0.073324</td>\n",
              "      <td>-0.119369</td>\n",
              "      <td>-0.152576</td>\n",
              "      <td>-0.105742</td>\n",
              "      <td>-0.292583</td>\n",
              "      <td>-0.035645</td>\n",
              "      <td>-0.056413</td>\n",
              "      <td>-0.009521</td>\n",
              "      <td>-0.044699</td>\n",
              "      <td>-0.031591</td>\n",
              "      <td>-0.040424</td>\n",
              "      <td>-0.053082</td>\n",
              "      <td>-0.276957</td>\n",
              "      <td>-0.290937</td>\n",
              "      <td>-0.338463</td>\n",
              "      <td>-0.253461</td>\n",
              "      <td>-0.247535</td>\n",
              "      <td>-0.288916</td>\n",
              "      <td>-0.377945</td>\n",
              "      <td>-0.226633</td>\n",
              "      <td>-0.290937</td>\n",
              "      <td>1.524202</td>\n",
              "    </tr>\n",
              "    <tr>\n",
              "      <th>2</th>\n",
              "      <td>-0.674382</td>\n",
              "      <td>-0.702598</td>\n",
              "      <td>-0.734921</td>\n",
              "      <td>-0.528354</td>\n",
              "      <td>-0.089710</td>\n",
              "      <td>-0.777622</td>\n",
              "      <td>-0.809962</td>\n",
              "      <td>-0.566046</td>\n",
              "      <td>-0.212122</td>\n",
              "      <td>-0.813056</td>\n",
              "      <td>-0.805176</td>\n",
              "      <td>-0.631284</td>\n",
              "      <td>-0.618950</td>\n",
              "      <td>-0.664310</td>\n",
              "      <td>1.392895</td>\n",
              "      <td>1.409612</td>\n",
              "      <td>1.386654</td>\n",
              "      <td>1.276154</td>\n",
              "      <td>-0.707050</td>\n",
              "      <td>-0.804816</td>\n",
              "      <td>-0.573635</td>\n",
              "      <td>-0.596183</td>\n",
              "      <td>0.673623</td>\n",
              "      <td>0.663728</td>\n",
              "      <td>0.996572</td>\n",
              "      <td>1.033080</td>\n",
              "      <td>1.583274</td>\n",
              "      <td>1.596347</td>\n",
              "      <td>-0.638652</td>\n",
              "      <td>1.033231</td>\n",
              "      <td>1.121589</td>\n",
              "      <td>1.424563</td>\n",
              "      <td>1.315395</td>\n",
              "      <td>1.025244</td>\n",
              "      <td>0.607337</td>\n",
              "      <td>0.716694</td>\n",
              "      <td>-0.013465</td>\n",
              "      <td>-0.085463</td>\n",
              "      <td>-0.04953</td>\n",
              "      <td>-0.016492</td>\n",
              "      <td>...</td>\n",
              "      <td>-0.053082</td>\n",
              "      <td>-0.040424</td>\n",
              "      <td>-0.117401</td>\n",
              "      <td>-0.046691</td>\n",
              "      <td>-0.120148</td>\n",
              "      <td>-0.028573</td>\n",
              "      <td>-0.091195</td>\n",
              "      <td>-0.203806</td>\n",
              "      <td>-0.155353</td>\n",
              "      <td>-0.130949</td>\n",
              "      <td>-0.189894</td>\n",
              "      <td>-0.025196</td>\n",
              "      <td>-0.120535</td>\n",
              "      <td>9.786762</td>\n",
              "      <td>-0.023326</td>\n",
              "      <td>-0.108341</td>\n",
              "      <td>-0.09896</td>\n",
              "      <td>-0.043669</td>\n",
              "      <td>-0.073324</td>\n",
              "      <td>-0.119369</td>\n",
              "      <td>-0.152576</td>\n",
              "      <td>-0.105742</td>\n",
              "      <td>-0.292583</td>\n",
              "      <td>-0.035645</td>\n",
              "      <td>-0.056413</td>\n",
              "      <td>-0.009521</td>\n",
              "      <td>-0.044699</td>\n",
              "      <td>-0.031591</td>\n",
              "      <td>-0.040424</td>\n",
              "      <td>-0.053082</td>\n",
              "      <td>-0.276957</td>\n",
              "      <td>-0.290937</td>\n",
              "      <td>-0.338463</td>\n",
              "      <td>-0.253461</td>\n",
              "      <td>-0.247535</td>\n",
              "      <td>-0.288916</td>\n",
              "      <td>-0.377945</td>\n",
              "      <td>-0.226633</td>\n",
              "      <td>-0.290937</td>\n",
              "      <td>1.524202</td>\n",
              "    </tr>\n",
              "    <tr>\n",
              "      <th>3</th>\n",
              "      <td>-0.673864</td>\n",
              "      <td>0.612231</td>\n",
              "      <td>0.775288</td>\n",
              "      <td>-0.760142</td>\n",
              "      <td>-0.664660</td>\n",
              "      <td>0.263588</td>\n",
              "      <td>0.359384</td>\n",
              "      <td>-0.797393</td>\n",
              "      <td>-0.677702</td>\n",
              "      <td>2.076478</td>\n",
              "      <td>-0.488625</td>\n",
              "      <td>-0.637674</td>\n",
              "      <td>-0.702649</td>\n",
              "      <td>-0.664310</td>\n",
              "      <td>-0.735539</td>\n",
              "      <td>-0.806095</td>\n",
              "      <td>-0.842409</td>\n",
              "      <td>-0.839243</td>\n",
              "      <td>-0.170321</td>\n",
              "      <td>-0.280608</td>\n",
              "      <td>-0.573635</td>\n",
              "      <td>-0.596183</td>\n",
              "      <td>-1.540288</td>\n",
              "      <td>0.663728</td>\n",
              "      <td>-0.686421</td>\n",
              "      <td>-0.653569</td>\n",
              "      <td>1.387696</td>\n",
              "      <td>1.400801</td>\n",
              "      <td>2.002404</td>\n",
              "      <td>-0.980833</td>\n",
              "      <td>-0.953238</td>\n",
              "      <td>-0.701970</td>\n",
              "      <td>-0.760228</td>\n",
              "      <td>-0.975378</td>\n",
              "      <td>-1.646532</td>\n",
              "      <td>0.716694</td>\n",
              "      <td>-0.013465</td>\n",
              "      <td>-0.085463</td>\n",
              "      <td>-0.04953</td>\n",
              "      <td>-0.016492</td>\n",
              "      <td>...</td>\n",
              "      <td>-0.053082</td>\n",
              "      <td>-0.040424</td>\n",
              "      <td>-0.117401</td>\n",
              "      <td>-0.046691</td>\n",
              "      <td>-0.120148</td>\n",
              "      <td>-0.028573</td>\n",
              "      <td>-0.091195</td>\n",
              "      <td>-0.203806</td>\n",
              "      <td>-0.155353</td>\n",
              "      <td>-0.130949</td>\n",
              "      <td>-0.189894</td>\n",
              "      <td>-0.025196</td>\n",
              "      <td>-0.120535</td>\n",
              "      <td>-0.102179</td>\n",
              "      <td>-0.023326</td>\n",
              "      <td>-0.108341</td>\n",
              "      <td>-0.09896</td>\n",
              "      <td>-0.043669</td>\n",
              "      <td>-0.073324</td>\n",
              "      <td>-0.119369</td>\n",
              "      <td>-0.152576</td>\n",
              "      <td>-0.105742</td>\n",
              "      <td>-0.292583</td>\n",
              "      <td>-0.035645</td>\n",
              "      <td>-0.056413</td>\n",
              "      <td>-0.009521</td>\n",
              "      <td>-0.044699</td>\n",
              "      <td>-0.031591</td>\n",
              "      <td>-0.040424</td>\n",
              "      <td>-0.053082</td>\n",
              "      <td>-0.276957</td>\n",
              "      <td>-0.290937</td>\n",
              "      <td>-0.338463</td>\n",
              "      <td>-0.253461</td>\n",
              "      <td>4.039833</td>\n",
              "      <td>-0.288916</td>\n",
              "      <td>-0.377945</td>\n",
              "      <td>-0.226633</td>\n",
              "      <td>-0.290937</td>\n",
              "      <td>-0.656081</td>\n",
              "    </tr>\n",
              "    <tr>\n",
              "      <th>4</th>\n",
              "      <td>-0.641563</td>\n",
              "      <td>-0.573651</td>\n",
              "      <td>-0.598885</td>\n",
              "      <td>-0.645889</td>\n",
              "      <td>-0.381256</td>\n",
              "      <td>-0.494469</td>\n",
              "      <td>-0.453383</td>\n",
              "      <td>0.080827</td>\n",
              "      <td>1.089695</td>\n",
              "      <td>-0.503635</td>\n",
              "      <td>0.623162</td>\n",
              "      <td>1.965044</td>\n",
              "      <td>-0.167845</td>\n",
              "      <td>-0.664310</td>\n",
              "      <td>-0.735539</td>\n",
              "      <td>-0.806095</td>\n",
              "      <td>-0.842409</td>\n",
              "      <td>-0.839243</td>\n",
              "      <td>1.617460</td>\n",
              "      <td>1.465467</td>\n",
              "      <td>-0.573635</td>\n",
              "      <td>-0.596183</td>\n",
              "      <td>-1.540288</td>\n",
              "      <td>-1.556934</td>\n",
              "      <td>-1.247419</td>\n",
              "      <td>-1.215785</td>\n",
              "      <td>-0.764612</td>\n",
              "      <td>-0.751150</td>\n",
              "      <td>-0.638652</td>\n",
              "      <td>-1.383742</td>\n",
              "      <td>-1.368303</td>\n",
              "      <td>-0.701970</td>\n",
              "      <td>-0.760228</td>\n",
              "      <td>-0.975378</td>\n",
              "      <td>-1.646532</td>\n",
              "      <td>-1.395295</td>\n",
              "      <td>-0.013465</td>\n",
              "      <td>-0.085463</td>\n",
              "      <td>-0.04953</td>\n",
              "      <td>-0.016492</td>\n",
              "      <td>...</td>\n",
              "      <td>-0.053082</td>\n",
              "      <td>-0.040424</td>\n",
              "      <td>-0.117401</td>\n",
              "      <td>-0.046691</td>\n",
              "      <td>-0.120148</td>\n",
              "      <td>-0.028573</td>\n",
              "      <td>-0.091195</td>\n",
              "      <td>-0.203806</td>\n",
              "      <td>-0.155353</td>\n",
              "      <td>-0.130949</td>\n",
              "      <td>-0.189894</td>\n",
              "      <td>-0.025196</td>\n",
              "      <td>-0.120535</td>\n",
              "      <td>-0.102179</td>\n",
              "      <td>-0.023326</td>\n",
              "      <td>-0.108341</td>\n",
              "      <td>-0.09896</td>\n",
              "      <td>-0.043669</td>\n",
              "      <td>-0.073324</td>\n",
              "      <td>-0.119369</td>\n",
              "      <td>-0.152576</td>\n",
              "      <td>-0.105742</td>\n",
              "      <td>-0.292583</td>\n",
              "      <td>-0.035645</td>\n",
              "      <td>-0.056413</td>\n",
              "      <td>-0.009521</td>\n",
              "      <td>-0.044699</td>\n",
              "      <td>-0.031591</td>\n",
              "      <td>-0.040424</td>\n",
              "      <td>-0.053082</td>\n",
              "      <td>-0.276957</td>\n",
              "      <td>3.437175</td>\n",
              "      <td>-0.338463</td>\n",
              "      <td>-0.253461</td>\n",
              "      <td>-0.247535</td>\n",
              "      <td>-0.288916</td>\n",
              "      <td>-0.377945</td>\n",
              "      <td>-0.226633</td>\n",
              "      <td>-0.290937</td>\n",
              "      <td>-0.656081</td>\n",
              "    </tr>\n",
              "    <tr>\n",
              "      <th>...</th>\n",
              "      <td>...</td>\n",
              "      <td>...</td>\n",
              "      <td>...</td>\n",
              "      <td>...</td>\n",
              "      <td>...</td>\n",
              "      <td>...</td>\n",
              "      <td>...</td>\n",
              "      <td>...</td>\n",
              "      <td>...</td>\n",
              "      <td>...</td>\n",
              "      <td>...</td>\n",
              "      <td>...</td>\n",
              "      <td>...</td>\n",
              "      <td>...</td>\n",
              "      <td>...</td>\n",
              "      <td>...</td>\n",
              "      <td>...</td>\n",
              "      <td>...</td>\n",
              "      <td>...</td>\n",
              "      <td>...</td>\n",
              "      <td>...</td>\n",
              "      <td>...</td>\n",
              "      <td>...</td>\n",
              "      <td>...</td>\n",
              "      <td>...</td>\n",
              "      <td>...</td>\n",
              "      <td>...</td>\n",
              "      <td>...</td>\n",
              "      <td>...</td>\n",
              "      <td>...</td>\n",
              "      <td>...</td>\n",
              "      <td>...</td>\n",
              "      <td>...</td>\n",
              "      <td>...</td>\n",
              "      <td>...</td>\n",
              "      <td>...</td>\n",
              "      <td>...</td>\n",
              "      <td>...</td>\n",
              "      <td>...</td>\n",
              "      <td>...</td>\n",
              "      <td>...</td>\n",
              "      <td>...</td>\n",
              "      <td>...</td>\n",
              "      <td>...</td>\n",
              "      <td>...</td>\n",
              "      <td>...</td>\n",
              "      <td>...</td>\n",
              "      <td>...</td>\n",
              "      <td>...</td>\n",
              "      <td>...</td>\n",
              "      <td>...</td>\n",
              "      <td>...</td>\n",
              "      <td>...</td>\n",
              "      <td>...</td>\n",
              "      <td>...</td>\n",
              "      <td>...</td>\n",
              "      <td>...</td>\n",
              "      <td>...</td>\n",
              "      <td>...</td>\n",
              "      <td>...</td>\n",
              "      <td>...</td>\n",
              "      <td>...</td>\n",
              "      <td>...</td>\n",
              "      <td>...</td>\n",
              "      <td>...</td>\n",
              "      <td>...</td>\n",
              "      <td>...</td>\n",
              "      <td>...</td>\n",
              "      <td>...</td>\n",
              "      <td>...</td>\n",
              "      <td>...</td>\n",
              "      <td>...</td>\n",
              "      <td>...</td>\n",
              "      <td>...</td>\n",
              "      <td>...</td>\n",
              "      <td>...</td>\n",
              "      <td>...</td>\n",
              "      <td>...</td>\n",
              "      <td>...</td>\n",
              "      <td>...</td>\n",
              "      <td>...</td>\n",
              "    </tr>\n",
              "    <tr>\n",
              "      <th>11028</th>\n",
              "      <td>-0.675408</td>\n",
              "      <td>-0.894229</td>\n",
              "      <td>-0.831276</td>\n",
              "      <td>-0.760142</td>\n",
              "      <td>-0.480291</td>\n",
              "      <td>-0.875267</td>\n",
              "      <td>-0.861664</td>\n",
              "      <td>-0.797393</td>\n",
              "      <td>-0.447745</td>\n",
              "      <td>-0.655869</td>\n",
              "      <td>-0.530496</td>\n",
              "      <td>-0.372914</td>\n",
              "      <td>-0.440151</td>\n",
              "      <td>1.827455</td>\n",
              "      <td>1.392895</td>\n",
              "      <td>1.409612</td>\n",
              "      <td>1.386654</td>\n",
              "      <td>-0.839243</td>\n",
              "      <td>-0.707050</td>\n",
              "      <td>-0.804816</td>\n",
              "      <td>-0.573635</td>\n",
              "      <td>0.285076</td>\n",
              "      <td>0.673623</td>\n",
              "      <td>-1.556934</td>\n",
              "      <td>0.996572</td>\n",
              "      <td>1.033080</td>\n",
              "      <td>1.583274</td>\n",
              "      <td>1.596347</td>\n",
              "      <td>-0.638652</td>\n",
              "      <td>1.033231</td>\n",
              "      <td>-0.953238</td>\n",
              "      <td>1.424563</td>\n",
              "      <td>-0.760228</td>\n",
              "      <td>1.025244</td>\n",
              "      <td>0.607337</td>\n",
              "      <td>-1.395295</td>\n",
              "      <td>-0.013465</td>\n",
              "      <td>-0.085463</td>\n",
              "      <td>-0.04953</td>\n",
              "      <td>-0.016492</td>\n",
              "      <td>...</td>\n",
              "      <td>-0.053082</td>\n",
              "      <td>-0.040424</td>\n",
              "      <td>-0.117401</td>\n",
              "      <td>-0.046691</td>\n",
              "      <td>-0.120148</td>\n",
              "      <td>-0.028573</td>\n",
              "      <td>-0.091195</td>\n",
              "      <td>-0.203806</td>\n",
              "      <td>-0.155353</td>\n",
              "      <td>-0.130949</td>\n",
              "      <td>-0.189894</td>\n",
              "      <td>-0.025196</td>\n",
              "      <td>-0.120535</td>\n",
              "      <td>-0.102179</td>\n",
              "      <td>-0.023326</td>\n",
              "      <td>-0.108341</td>\n",
              "      <td>-0.09896</td>\n",
              "      <td>-0.043669</td>\n",
              "      <td>-0.073324</td>\n",
              "      <td>-0.119369</td>\n",
              "      <td>-0.152576</td>\n",
              "      <td>-0.105742</td>\n",
              "      <td>-0.292583</td>\n",
              "      <td>-0.035645</td>\n",
              "      <td>-0.056413</td>\n",
              "      <td>-0.009521</td>\n",
              "      <td>-0.044699</td>\n",
              "      <td>-0.031591</td>\n",
              "      <td>-0.040424</td>\n",
              "      <td>-0.053082</td>\n",
              "      <td>-0.276957</td>\n",
              "      <td>-0.290937</td>\n",
              "      <td>-0.338463</td>\n",
              "      <td>-0.253461</td>\n",
              "      <td>-0.247535</td>\n",
              "      <td>-0.288916</td>\n",
              "      <td>2.645888</td>\n",
              "      <td>-0.226633</td>\n",
              "      <td>-0.290937</td>\n",
              "      <td>-0.656081</td>\n",
              "    </tr>\n",
              "    <tr>\n",
              "      <th>11029</th>\n",
              "      <td>-0.674898</td>\n",
              "      <td>0.867246</td>\n",
              "      <td>1.073491</td>\n",
              "      <td>-0.145372</td>\n",
              "      <td>0.860279</td>\n",
              "      <td>0.465534</td>\n",
              "      <td>0.575905</td>\n",
              "      <td>0.113706</td>\n",
              "      <td>1.155862</td>\n",
              "      <td>2.076478</td>\n",
              "      <td>-0.077472</td>\n",
              "      <td>0.196508</td>\n",
              "      <td>1.189576</td>\n",
              "      <td>-0.664310</td>\n",
              "      <td>-0.735539</td>\n",
              "      <td>-0.806095</td>\n",
              "      <td>-0.842409</td>\n",
              "      <td>-0.839243</td>\n",
              "      <td>-0.707050</td>\n",
              "      <td>-0.804816</td>\n",
              "      <td>-0.573635</td>\n",
              "      <td>-0.596183</td>\n",
              "      <td>-1.540288</td>\n",
              "      <td>-1.556934</td>\n",
              "      <td>0.622499</td>\n",
              "      <td>-0.091353</td>\n",
              "      <td>-0.764612</td>\n",
              "      <td>-0.751150</td>\n",
              "      <td>1.210827</td>\n",
              "      <td>0.831897</td>\n",
              "      <td>-0.953238</td>\n",
              "      <td>-0.701970</td>\n",
              "      <td>-0.760228</td>\n",
              "      <td>-0.975378</td>\n",
              "      <td>-1.646532</td>\n",
              "      <td>-1.395295</td>\n",
              "      <td>-0.013465</td>\n",
              "      <td>-0.085463</td>\n",
              "      <td>-0.04953</td>\n",
              "      <td>-0.016492</td>\n",
              "      <td>...</td>\n",
              "      <td>-0.053082</td>\n",
              "      <td>-0.040424</td>\n",
              "      <td>-0.117401</td>\n",
              "      <td>-0.046691</td>\n",
              "      <td>-0.120148</td>\n",
              "      <td>-0.028573</td>\n",
              "      <td>-0.091195</td>\n",
              "      <td>-0.203806</td>\n",
              "      <td>-0.155353</td>\n",
              "      <td>-0.130949</td>\n",
              "      <td>-0.189894</td>\n",
              "      <td>-0.025196</td>\n",
              "      <td>-0.120535</td>\n",
              "      <td>-0.102179</td>\n",
              "      <td>-0.023326</td>\n",
              "      <td>-0.108341</td>\n",
              "      <td>-0.09896</td>\n",
              "      <td>-0.043669</td>\n",
              "      <td>-0.073324</td>\n",
              "      <td>-0.119369</td>\n",
              "      <td>-0.152576</td>\n",
              "      <td>-0.105742</td>\n",
              "      <td>-0.292583</td>\n",
              "      <td>-0.035645</td>\n",
              "      <td>-0.056413</td>\n",
              "      <td>-0.009521</td>\n",
              "      <td>-0.044699</td>\n",
              "      <td>-0.031591</td>\n",
              "      <td>-0.040424</td>\n",
              "      <td>-0.053082</td>\n",
              "      <td>-0.276957</td>\n",
              "      <td>-0.290937</td>\n",
              "      <td>-0.338463</td>\n",
              "      <td>-0.253461</td>\n",
              "      <td>-0.247535</td>\n",
              "      <td>-0.288916</td>\n",
              "      <td>-0.377945</td>\n",
              "      <td>4.412413</td>\n",
              "      <td>-0.290937</td>\n",
              "      <td>-0.656081</td>\n",
              "    </tr>\n",
              "    <tr>\n",
              "      <th>11030</th>\n",
              "      <td>-0.674640</td>\n",
              "      <td>-0.897531</td>\n",
              "      <td>-0.833592</td>\n",
              "      <td>-0.760142</td>\n",
              "      <td>-0.664660</td>\n",
              "      <td>-0.900448</td>\n",
              "      <td>-0.888663</td>\n",
              "      <td>-0.797393</td>\n",
              "      <td>-0.677702</td>\n",
              "      <td>-0.685125</td>\n",
              "      <td>-0.595402</td>\n",
              "      <td>-0.328911</td>\n",
              "      <td>-0.457480</td>\n",
              "      <td>1.827455</td>\n",
              "      <td>1.392895</td>\n",
              "      <td>1.409612</td>\n",
              "      <td>1.386654</td>\n",
              "      <td>1.276154</td>\n",
              "      <td>-0.707050</td>\n",
              "      <td>-0.804816</td>\n",
              "      <td>-0.573635</td>\n",
              "      <td>-0.596183</td>\n",
              "      <td>0.673623</td>\n",
              "      <td>0.663728</td>\n",
              "      <td>0.996572</td>\n",
              "      <td>1.033080</td>\n",
              "      <td>1.583274</td>\n",
              "      <td>1.596347</td>\n",
              "      <td>-0.638652</td>\n",
              "      <td>1.033231</td>\n",
              "      <td>1.121589</td>\n",
              "      <td>1.424563</td>\n",
              "      <td>1.315395</td>\n",
              "      <td>1.025244</td>\n",
              "      <td>0.607337</td>\n",
              "      <td>-1.395295</td>\n",
              "      <td>-0.013465</td>\n",
              "      <td>-0.085463</td>\n",
              "      <td>-0.04953</td>\n",
              "      <td>-0.016492</td>\n",
              "      <td>...</td>\n",
              "      <td>-0.053082</td>\n",
              "      <td>-0.040424</td>\n",
              "      <td>-0.117401</td>\n",
              "      <td>-0.046691</td>\n",
              "      <td>-0.120148</td>\n",
              "      <td>-0.028573</td>\n",
              "      <td>-0.091195</td>\n",
              "      <td>-0.203806</td>\n",
              "      <td>-0.155353</td>\n",
              "      <td>-0.130949</td>\n",
              "      <td>-0.189894</td>\n",
              "      <td>-0.025196</td>\n",
              "      <td>-0.120535</td>\n",
              "      <td>-0.102179</td>\n",
              "      <td>-0.023326</td>\n",
              "      <td>-0.108341</td>\n",
              "      <td>-0.09896</td>\n",
              "      <td>-0.043669</td>\n",
              "      <td>-0.073324</td>\n",
              "      <td>-0.119369</td>\n",
              "      <td>-0.152576</td>\n",
              "      <td>-0.105742</td>\n",
              "      <td>-0.292583</td>\n",
              "      <td>-0.035645</td>\n",
              "      <td>-0.056413</td>\n",
              "      <td>-0.009521</td>\n",
              "      <td>-0.044699</td>\n",
              "      <td>-0.031591</td>\n",
              "      <td>-0.040424</td>\n",
              "      <td>-0.053082</td>\n",
              "      <td>-0.276957</td>\n",
              "      <td>-0.290937</td>\n",
              "      <td>-0.338463</td>\n",
              "      <td>-0.253461</td>\n",
              "      <td>-0.247535</td>\n",
              "      <td>-0.288916</td>\n",
              "      <td>-0.377945</td>\n",
              "      <td>-0.226633</td>\n",
              "      <td>3.437175</td>\n",
              "      <td>-0.656081</td>\n",
              "    </tr>\n",
              "    <tr>\n",
              "      <th>11031</th>\n",
              "      <td>-0.671639</td>\n",
              "      <td>-0.824839</td>\n",
              "      <td>-0.782591</td>\n",
              "      <td>-0.502884</td>\n",
              "      <td>-0.026520</td>\n",
              "      <td>0.185105</td>\n",
              "      <td>0.275238</td>\n",
              "      <td>0.588043</td>\n",
              "      <td>2.028365</td>\n",
              "      <td>-0.633436</td>\n",
              "      <td>2.134258</td>\n",
              "      <td>1.965044</td>\n",
              "      <td>1.459606</td>\n",
              "      <td>-0.664310</td>\n",
              "      <td>-0.735539</td>\n",
              "      <td>-0.806095</td>\n",
              "      <td>-0.842409</td>\n",
              "      <td>-0.839243</td>\n",
              "      <td>-0.707050</td>\n",
              "      <td>-0.804816</td>\n",
              "      <td>-0.573635</td>\n",
              "      <td>-0.596183</td>\n",
              "      <td>0.673623</td>\n",
              "      <td>0.663728</td>\n",
              "      <td>-0.686421</td>\n",
              "      <td>-0.653569</td>\n",
              "      <td>-0.764612</td>\n",
              "      <td>-0.751150</td>\n",
              "      <td>2.002404</td>\n",
              "      <td>-1.182408</td>\n",
              "      <td>-1.160895</td>\n",
              "      <td>-0.701970</td>\n",
              "      <td>-0.760228</td>\n",
              "      <td>-0.975378</td>\n",
              "      <td>-1.646532</td>\n",
              "      <td>-1.395295</td>\n",
              "      <td>-0.013465</td>\n",
              "      <td>-0.085463</td>\n",
              "      <td>-0.04953</td>\n",
              "      <td>-0.016492</td>\n",
              "      <td>...</td>\n",
              "      <td>-0.053082</td>\n",
              "      <td>-0.040424</td>\n",
              "      <td>-0.117401</td>\n",
              "      <td>-0.046691</td>\n",
              "      <td>-0.120148</td>\n",
              "      <td>-0.028573</td>\n",
              "      <td>-0.091195</td>\n",
              "      <td>-0.203806</td>\n",
              "      <td>-0.155353</td>\n",
              "      <td>-0.130949</td>\n",
              "      <td>-0.189894</td>\n",
              "      <td>-0.025196</td>\n",
              "      <td>-0.120535</td>\n",
              "      <td>-0.102179</td>\n",
              "      <td>-0.023326</td>\n",
              "      <td>-0.108341</td>\n",
              "      <td>-0.09896</td>\n",
              "      <td>-0.043669</td>\n",
              "      <td>-0.073324</td>\n",
              "      <td>-0.119369</td>\n",
              "      <td>-0.152576</td>\n",
              "      <td>-0.105742</td>\n",
              "      <td>-0.292583</td>\n",
              "      <td>-0.035645</td>\n",
              "      <td>-0.056413</td>\n",
              "      <td>-0.009521</td>\n",
              "      <td>-0.044699</td>\n",
              "      <td>-0.031591</td>\n",
              "      <td>-0.040424</td>\n",
              "      <td>-0.053082</td>\n",
              "      <td>-0.276957</td>\n",
              "      <td>-0.290937</td>\n",
              "      <td>-0.338463</td>\n",
              "      <td>3.945385</td>\n",
              "      <td>-0.247535</td>\n",
              "      <td>-0.288916</td>\n",
              "      <td>-0.377945</td>\n",
              "      <td>-0.226633</td>\n",
              "      <td>-0.290937</td>\n",
              "      <td>-0.656081</td>\n",
              "    </tr>\n",
              "    <tr>\n",
              "      <th>11032</th>\n",
              "      <td>-0.669263</td>\n",
              "      <td>-0.614327</td>\n",
              "      <td>-0.634628</td>\n",
              "      <td>-0.426715</td>\n",
              "      <td>0.154718</td>\n",
              "      <td>1.431950</td>\n",
              "      <td>1.612070</td>\n",
              "      <td>1.755000</td>\n",
              "      <td>2.028365</td>\n",
              "      <td>0.082158</td>\n",
              "      <td>1.863796</td>\n",
              "      <td>1.965044</td>\n",
              "      <td>0.486600</td>\n",
              "      <td>-0.664310</td>\n",
              "      <td>-0.735539</td>\n",
              "      <td>-0.806095</td>\n",
              "      <td>-0.842409</td>\n",
              "      <td>-0.839243</td>\n",
              "      <td>-0.707050</td>\n",
              "      <td>-0.804816</td>\n",
              "      <td>1.750520</td>\n",
              "      <td>1.870181</td>\n",
              "      <td>-1.540288</td>\n",
              "      <td>-1.556934</td>\n",
              "      <td>-1.247419</td>\n",
              "      <td>-1.215785</td>\n",
              "      <td>1.387696</td>\n",
              "      <td>-0.359822</td>\n",
              "      <td>2.002404</td>\n",
              "      <td>-1.182408</td>\n",
              "      <td>-1.368303</td>\n",
              "      <td>-0.701970</td>\n",
              "      <td>-0.760228</td>\n",
              "      <td>-0.975378</td>\n",
              "      <td>-1.646532</td>\n",
              "      <td>0.716694</td>\n",
              "      <td>-0.013465</td>\n",
              "      <td>-0.085463</td>\n",
              "      <td>-0.04953</td>\n",
              "      <td>-0.016492</td>\n",
              "      <td>...</td>\n",
              "      <td>-0.053082</td>\n",
              "      <td>-0.040424</td>\n",
              "      <td>-0.117401</td>\n",
              "      <td>-0.046691</td>\n",
              "      <td>-0.120148</td>\n",
              "      <td>-0.028573</td>\n",
              "      <td>-0.091195</td>\n",
              "      <td>-0.203806</td>\n",
              "      <td>-0.155353</td>\n",
              "      <td>-0.130949</td>\n",
              "      <td>-0.189894</td>\n",
              "      <td>-0.025196</td>\n",
              "      <td>-0.120535</td>\n",
              "      <td>-0.102179</td>\n",
              "      <td>-0.023326</td>\n",
              "      <td>-0.108341</td>\n",
              "      <td>-0.09896</td>\n",
              "      <td>-0.043669</td>\n",
              "      <td>-0.073324</td>\n",
              "      <td>-0.119369</td>\n",
              "      <td>-0.152576</td>\n",
              "      <td>-0.105742</td>\n",
              "      <td>-0.292583</td>\n",
              "      <td>-0.035645</td>\n",
              "      <td>-0.056413</td>\n",
              "      <td>-0.009521</td>\n",
              "      <td>-0.044699</td>\n",
              "      <td>-0.031591</td>\n",
              "      <td>-0.040424</td>\n",
              "      <td>-0.053082</td>\n",
              "      <td>-0.276957</td>\n",
              "      <td>-0.290937</td>\n",
              "      <td>-0.338463</td>\n",
              "      <td>-0.253461</td>\n",
              "      <td>-0.247535</td>\n",
              "      <td>-0.288916</td>\n",
              "      <td>-0.377945</td>\n",
              "      <td>-0.226633</td>\n",
              "      <td>3.437175</td>\n",
              "      <td>-0.656081</td>\n",
              "    </tr>\n",
              "  </tbody>\n",
              "</table>\n",
              "<p>11033 rows × 126 columns</p>\n",
              "</div>"
            ],
            "text/plain": [
              "            md1       md2       md3  ...     rf2_7     rf2_8     rf2_9\n",
              "0      2.001376  0.242357 -0.596385  ... -0.226633 -0.290937 -0.656081\n",
              "1      0.387480  1.172213  1.430105  ... -0.226633 -0.290937  1.524202\n",
              "2     -0.674382 -0.702598 -0.734921  ... -0.226633 -0.290937  1.524202\n",
              "3     -0.673864  0.612231  0.775288  ... -0.226633 -0.290937 -0.656081\n",
              "4     -0.641563 -0.573651 -0.598885  ... -0.226633 -0.290937 -0.656081\n",
              "...         ...       ...       ...  ...       ...       ...       ...\n",
              "11028 -0.675408 -0.894229 -0.831276  ... -0.226633 -0.290937 -0.656081\n",
              "11029 -0.674898  0.867246  1.073491  ...  4.412413 -0.290937 -0.656081\n",
              "11030 -0.674640 -0.897531 -0.833592  ... -0.226633  3.437175 -0.656081\n",
              "11031 -0.671639 -0.824839 -0.782591  ... -0.226633 -0.290937 -0.656081\n",
              "11032 -0.669263 -0.614327 -0.634628  ... -0.226633  3.437175 -0.656081\n",
              "\n",
              "[11033 rows x 126 columns]"
            ]
          },
          "metadata": {
            "tags": []
          },
          "execution_count": 26
        }
      ]
    },
    {
      "cell_type": "code",
      "metadata": {
        "id": "7d4l96l0kPth",
        "outputId": "7aea60bc-3bc8-49c9-ef3a-2a12ac19a02d",
        "colab": {
          "base_uri": "https://localhost:8080/"
        }
      },
      "source": [
        "X_test.shape"
      ],
      "execution_count": 68,
      "outputs": [
        {
          "output_type": "execute_result",
          "data": {
            "text/plain": [
              "(1000, 126)"
            ]
          },
          "metadata": {
            "tags": []
          },
          "execution_count": 68
        }
      ]
    },
    {
      "cell_type": "code",
      "metadata": {
        "id": "MImNq1Fr9OvU"
      },
      "source": [
        "for i in df_X.columns:\n",
        "  if i in X_test.columns:\n",
        "    pass\n",
        "  else:\n",
        "    X_test[i] = 0"
      ],
      "execution_count": 67,
      "outputs": []
    },
    {
      "cell_type": "code",
      "metadata": {
        "id": "sN50DIwWga8A",
        "outputId": "5bffbc59-5abb-4380-ee7d-017d3e53aa7b",
        "colab": {
          "base_uri": "https://localhost:8080/"
        }
      },
      "source": [
        "df_X.shape"
      ],
      "execution_count": 63,
      "outputs": [
        {
          "output_type": "execute_result",
          "data": {
            "text/plain": [
              "(11033, 126)"
            ]
          },
          "metadata": {
            "tags": []
          },
          "execution_count": 63
        }
      ]
    },
    {
      "cell_type": "markdown",
      "metadata": {
        "id": "jJaJWuUqJCha"
      },
      "source": [
        "### 3. Definir as amostras de treinamento e validação"
      ]
    },
    {
      "cell_type": "markdown",
      "metadata": {
        "id": "LoO2iEimu4SQ"
      },
      "source": [
        "[**Python**] - Definir as amostras de treinamento e validação"
      ]
    },
    {
      "cell_type": "code",
      "metadata": {
        "id": "hTCdm-F9JBGA",
        "outputId": "264a1cd6-119b-41f8-a682-7f368f3c7e25",
        "colab": {
          "base_uri": "https://localhost:8080/"
        }
      },
      "source": [
        "from sklearn.model_selection import train_test_split\n",
        "\n",
        "X_treinamento, X_teste, y_treinamento, y_teste= train_test_split(df_X, df_y, test_size = 0.1, random_state = 20111974)\n",
        "print(f'X: Treinamento=  {X_treinamento.shape}; X: Teste=  {X_teste.shape}')"
      ],
      "execution_count": 27,
      "outputs": [
        {
          "output_type": "stream",
          "text": [
            "X: Treinamento=  (9929, 126); X: Teste=  (1104, 126)\n"
          ],
          "name": "stdout"
        }
      ]
    },
    {
      "cell_type": "code",
      "metadata": {
        "id": "th9CsQpB8VDK",
        "outputId": "1085c131-dc01-4ce9-d9cc-3ae0cf30fcce",
        "colab": {
          "base_uri": "https://localhost:8080/"
        }
      },
      "source": [
        "print(f'Y: Treinamento =  {y_treinamento.shape}; Y: Teste = {y_teste.shape}')"
      ],
      "execution_count": 28,
      "outputs": [
        {
          "output_type": "stream",
          "text": [
            "Y: Treinamento =  (9929,); Y: Teste = (1104,)\n"
          ],
          "name": "stdout"
        }
      ]
    },
    {
      "cell_type": "markdown",
      "metadata": {
        "id": "2bL-vXiULupD"
      },
      "source": [
        "### 4. Definir a arquitetura da Rede Neural com _Tensorflow_/_Keras_"
      ]
    },
    {
      "cell_type": "markdown",
      "metadata": {
        "id": "zxETX6dTfyU5"
      },
      "source": [
        "[**Python**] - Definir a arquitetura, ou seja:\n",
        "* $N_{I}$: Número de neurônios na camada de entrada (_Input Layer_);\n",
        "* $N_{O}$: Número de neurônios na camada de saída (_Output Layer_);\n",
        "* $N_{H}$: Número de neurônios na camada escondida (_Hidden Layer_);\n",
        "* FA: Função de ativação;"
      ]
    },
    {
      "cell_type": "code",
      "metadata": {
        "id": "F_MdsLicfyU6"
      },
      "source": [
        "# Número de Neurônios na Input Layer:\n",
        "N_I = 126\n",
        "\n",
        "# Número de neurônios na Output Layer:\n",
        "N_O = 1\n",
        "\n",
        "# Número de neurônios na Hidden Layer:\n",
        "N_H = 75\n",
        "\n",
        "N_H2 = 75\n",
        "\n",
        "N_H3=75\n",
        "\n",
        "N_H4 = 75\n",
        "\n",
        "# Função de Ativação da Hidden Layer:\n",
        "#FA_H = tf.nn.leaky_relu\n",
        "FA_H = tf.keras.activations.swish\n",
        "\n",
        "# Função de Ativação da Output Layer:\n",
        "FA_O = tf.keras.activations.sigmoid\n",
        "\n",
        "\n"
      ],
      "execution_count": 53,
      "outputs": []
    },
    {
      "cell_type": "markdown",
      "metadata": {
        "id": "SUMmDuPCcYyB"
      },
      "source": [
        "[**Python**] - Definir as sementes para NumPy e Tensorflow:\n",
        "> Por questões de reproducibilidade de resultados, use as sementes abaixo:\n",
        "\n",
        "* NumPy: 20111974;\n",
        "* Tensorflow: 20111974;"
      ]
    },
    {
      "cell_type": "code",
      "metadata": {
        "id": "T-echOBmceVy"
      },
      "source": [
        "np.random.seed(19800922)\n",
        "tf.random.set_seed(22091980)"
      ],
      "execution_count": 49,
      "outputs": []
    },
    {
      "cell_type": "markdown",
      "metadata": {
        "id": "7ZceRRdinEM2"
      },
      "source": [
        "\n",
        "[**Python**] - Definir a Rede Neural:"
      ]
    },
    {
      "cell_type": "markdown",
      "metadata": {
        "id": "nXQsSYq2DBfI"
      },
      "source": [
        "\n",
        "\n",
        "\n",
        "\n",
        "* 1 camada _dropout_ com $p= 0.1$:"
      ]
    },
    {
      "cell_type": "code",
      "metadata": {
        "id": "TRFR5Kr_nDtD",
        "outputId": "05c8dec3-da99-4296-b109-957e94a8a6ac",
        "colab": {
          "base_uri": "https://localhost:8080/"
        }
      },
      "source": [
        "from tensorflow.keras import Sequential\n",
        "from tensorflow.keras.layers import Dense\n",
        "from tensorflow.keras.layers import Dropout\n",
        "\n",
        "RN= Sequential()\n",
        "RN.add(Dense(N_H, input_dim= N_I, kernel_initializer= tf.keras.initializers.GlorotNormal(), activation= FA_H, kernel_constraint= tf.keras.constraints.UnitNorm()))\n",
        "RN.add(Dropout(0.3))\n",
        "RN.add(Dense(N_H2, kernel_initializer= tf.keras.initializers.GlorotNormal(), activation= FA_H, kernel_constraint= tf.keras.constraints.UnitNorm()))\n",
        "RN.add(Dropout(0.3))\n",
        "RN.add(Dense(N_H3, kernel_initializer= tf.keras.initializers.GlorotNormal(), activation= FA_H, kernel_constraint= tf.keras.constraints.UnitNorm()))\n",
        "RN.add(Dropout(0.3))\n",
        "RN.add(Dense(N_H4, kernel_initializer= tf.keras.initializers.GlorotNormal(), activation= FA_H, kernel_constraint= tf.keras.constraints.UnitNorm()))\n",
        "RN.add(Dropout(0.3))\n",
        "RN.add(Dense(units= N_O, activation= FA_O))\n",
        "\n",
        "# Resumo da arquitetura da Rede Neural\n",
        "print(RN.summary())"
      ],
      "execution_count": 54,
      "outputs": [
        {
          "output_type": "stream",
          "text": [
            "Model: \"sequential_6\"\n",
            "_________________________________________________________________\n",
            "Layer (type)                 Output Shape              Param #   \n",
            "=================================================================\n",
            "dense_30 (Dense)             (None, 75)                9525      \n",
            "_________________________________________________________________\n",
            "dropout_24 (Dropout)         (None, 75)                0         \n",
            "_________________________________________________________________\n",
            "dense_31 (Dense)             (None, 75)                5700      \n",
            "_________________________________________________________________\n",
            "dropout_25 (Dropout)         (None, 75)                0         \n",
            "_________________________________________________________________\n",
            "dense_32 (Dense)             (None, 75)                5700      \n",
            "_________________________________________________________________\n",
            "dropout_26 (Dropout)         (None, 75)                0         \n",
            "_________________________________________________________________\n",
            "dense_33 (Dense)             (None, 75)                5700      \n",
            "_________________________________________________________________\n",
            "dropout_27 (Dropout)         (None, 75)                0         \n",
            "_________________________________________________________________\n",
            "dense_34 (Dense)             (None, 1)                 76        \n",
            "=================================================================\n",
            "Total params: 26,701\n",
            "Trainable params: 26,701\n",
            "Non-trainable params: 0\n",
            "_________________________________________________________________\n",
            "None\n"
          ],
          "name": "stdout"
        }
      ]
    },
    {
      "cell_type": "markdown",
      "metadata": {
        "id": "4JBZf4ypGO8o"
      },
      "source": [
        "### 5. Compilar a Rede Neural\n",
        "\n",
        "Este é um problema de classificação binária (_Male_ ou _Female_). Portanto, temos:\n",
        "* optimizer= tf.keras.optimizers.Adam();\n",
        "* loss=  tf.keras.losses.MeanSquaredError() ou loss= tf.keras.losses.BinaryCrossentropy(). Particularmente, eu gosto de usar loss=  tf.keras.losses.MeanSquaredError() porque o resultado é mais intuitivo;\n",
        "* metrics= tf.keras.metrics.binary_accuracy."
      ]
    },
    {
      "cell_type": "markdown",
      "metadata": {
        "id": "USmAuw6f00wL"
      },
      "source": [
        "[**Python**] - Comando modelo.compile(optimizer, loss, metrics):"
      ]
    },
    {
      "cell_type": "code",
      "metadata": {
        "id": "h7KEi1_e6SSF"
      },
      "source": [
        "\n",
        "#Algoritmo_Opt = tf.keras.optimizers.Adam()\n",
        "Algoritmo_Opt = tf.keras.optimizers.Adam(learning_rate=0.01, beta_1=0.8, beta_2=0.99, epsilon=1e-07\n",
        "                                        , amsgrad=True,     name='Adam')\n",
        "Loss_Function = tf.keras.losses.MeanSquaredError()\n",
        "Metrics_Perf = tf.keras.metrics.binary_accuracy\n",
        "\n",
        "RN.compile(optimizer = Algoritmo_Opt, loss = Loss_Function, metrics = Metrics_Perf)"
      ],
      "execution_count": 55,
      "outputs": []
    },
    {
      "cell_type": "markdown",
      "metadata": {
        "id": "Hc90EeV_GojX"
      },
      "source": [
        "### 6. Ajustar a Rede Neural\n",
        "\n",
        "Obs.: A opção callbacks abaixo implementa o conceito de _early stopping_. Esta opção vai parar o processo de treinamento da Rede Neural antes de atingirmos o númerco de _epochs_ quando o modelo pára de melhorar, medido pela métrica val_loss. O parâmetro _patience_= k significa que o processo de otimização vai parar se tivermos k _epochs_ consecutivas sem observarmos melhoria da performance da Rede Neural."
      ]
    },
    {
      "cell_type": "markdown",
      "metadata": {
        "id": "XCCTtUh_vEFP"
      },
      "source": [
        "[**Python**] - Comando modelo.fit(X_treinamento, y_treinamento, epochs)"
      ]
    },
    {
      "cell_type": "code",
      "metadata": {
        "id": "EB91J6nrF0db",
        "outputId": "e5787d40-a88e-4de1-9134-cf317b3dc6ef",
        "colab": {
          "base_uri": "https://localhost:8080/"
        }
      },
      "source": [
        "callbacks = [tf.keras.callbacks.EarlyStopping(monitor = 'val_loss', patience = 10, min_delta = 0.001)]\n",
        "hist= RN.fit(X_treinamento, y_treinamento, epochs = 100, \n",
        "             validation_data = (X_teste, y_teste), \n",
        "             callbacks = callbacks)"
      ],
      "execution_count": 56,
      "outputs": [
        {
          "output_type": "stream",
          "text": [
            "Epoch 1/100\n",
            "311/311 [==============================] - 1s 2ms/step - loss: 0.1708 - binary_accuracy: 0.7666 - val_loss: 0.1572 - val_binary_accuracy: 0.7808\n",
            "Epoch 2/100\n",
            "311/311 [==============================] - 0s 2ms/step - loss: 0.1659 - binary_accuracy: 0.7689 - val_loss: 0.1573 - val_binary_accuracy: 0.7808\n",
            "Epoch 3/100\n",
            "311/311 [==============================] - 0s 2ms/step - loss: 0.1638 - binary_accuracy: 0.7696 - val_loss: 0.1555 - val_binary_accuracy: 0.7790\n",
            "Epoch 4/100\n",
            "311/311 [==============================] - 0s 2ms/step - loss: 0.1624 - binary_accuracy: 0.7694 - val_loss: 0.1539 - val_binary_accuracy: 0.7808\n",
            "Epoch 5/100\n",
            "311/311 [==============================] - 0s 1ms/step - loss: 0.1619 - binary_accuracy: 0.7704 - val_loss: 0.1563 - val_binary_accuracy: 0.7808\n",
            "Epoch 6/100\n",
            "311/311 [==============================] - 0s 2ms/step - loss: 0.1618 - binary_accuracy: 0.7690 - val_loss: 0.1548 - val_binary_accuracy: 0.7808\n",
            "Epoch 7/100\n",
            "311/311 [==============================] - 0s 2ms/step - loss: 0.1613 - binary_accuracy: 0.7691 - val_loss: 0.1541 - val_binary_accuracy: 0.7808\n",
            "Epoch 8/100\n",
            "311/311 [==============================] - 0s 2ms/step - loss: 0.1608 - binary_accuracy: 0.7703 - val_loss: 0.1551 - val_binary_accuracy: 0.7808\n",
            "Epoch 9/100\n",
            "311/311 [==============================] - 0s 1ms/step - loss: 0.1603 - binary_accuracy: 0.7696 - val_loss: 0.1541 - val_binary_accuracy: 0.7808\n",
            "Epoch 10/100\n",
            "311/311 [==============================] - 0s 1ms/step - loss: 0.1600 - binary_accuracy: 0.7684 - val_loss: 0.1570 - val_binary_accuracy: 0.7808\n",
            "Epoch 11/100\n",
            "311/311 [==============================] - 0s 2ms/step - loss: 0.1595 - binary_accuracy: 0.7690 - val_loss: 0.1553 - val_binary_accuracy: 0.7808\n",
            "Epoch 12/100\n",
            "311/311 [==============================] - 1s 2ms/step - loss: 0.1594 - binary_accuracy: 0.7692 - val_loss: 0.1527 - val_binary_accuracy: 0.7889\n",
            "Epoch 13/100\n",
            "311/311 [==============================] - 1s 2ms/step - loss: 0.1600 - binary_accuracy: 0.7690 - val_loss: 0.1550 - val_binary_accuracy: 0.7808\n",
            "Epoch 14/100\n",
            "311/311 [==============================] - 1s 2ms/step - loss: 0.1595 - binary_accuracy: 0.7702 - val_loss: 0.1567 - val_binary_accuracy: 0.7808\n",
            "Epoch 15/100\n",
            "311/311 [==============================] - 0s 2ms/step - loss: 0.1589 - binary_accuracy: 0.7727 - val_loss: 0.1548 - val_binary_accuracy: 0.7808\n",
            "Epoch 16/100\n",
            "311/311 [==============================] - 0s 2ms/step - loss: 0.1590 - binary_accuracy: 0.7706 - val_loss: 0.1542 - val_binary_accuracy: 0.7808\n",
            "Epoch 17/100\n",
            "311/311 [==============================] - 0s 2ms/step - loss: 0.1575 - binary_accuracy: 0.7686 - val_loss: 0.1602 - val_binary_accuracy: 0.7799\n",
            "Epoch 18/100\n",
            "311/311 [==============================] - 1s 2ms/step - loss: 0.1586 - binary_accuracy: 0.7712 - val_loss: 0.1552 - val_binary_accuracy: 0.7808\n",
            "Epoch 19/100\n",
            "311/311 [==============================] - 0s 2ms/step - loss: 0.1579 - binary_accuracy: 0.7700 - val_loss: 0.1563 - val_binary_accuracy: 0.7717\n",
            "Epoch 20/100\n",
            "311/311 [==============================] - 0s 2ms/step - loss: 0.1587 - binary_accuracy: 0.7697 - val_loss: 0.1547 - val_binary_accuracy: 0.7808\n",
            "Epoch 21/100\n",
            "311/311 [==============================] - 0s 2ms/step - loss: 0.1574 - binary_accuracy: 0.7695 - val_loss: 0.1537 - val_binary_accuracy: 0.7853\n",
            "Epoch 22/100\n",
            "311/311 [==============================] - 1s 2ms/step - loss: 0.1575 - binary_accuracy: 0.7701 - val_loss: 0.1557 - val_binary_accuracy: 0.7826\n"
          ],
          "name": "stdout"
        }
      ]
    },
    {
      "cell_type": "code",
      "metadata": {
        "id": "W9LNgeg6ci5u"
      },
      "source": [
        "def Model_Loss(hist):\n",
        "    print(hist.history.keys())\n",
        "    plt.plot(hist.history['loss'])\n",
        "    plt.plot(hist.history['val_loss'])\n",
        "    plt.title('Model Loss')\n",
        "    plt.ylabel('Loss')\n",
        "    plt.xlabel('Epochs')\n",
        "    plt.legend(['Training', 'Validation'], loc= 'upper right')\n",
        "    plt.show()\n",
        "\n",
        "def Model_Accuracy(hist):\n",
        "    print(hist.history.keys())\n",
        "    plt.plot(hist.history['accuracy'])\n",
        "    plt.plot(hist.history['val_accuracy'])\n",
        "    plt.title('Model Accuracy')\n",
        "    plt.ylabel('Accuracy')\n",
        "    plt.xlabel('Epochs')\n",
        "    plt.legend(['Training', 'Validation'], loc= 'upper right')\n",
        "    plt.show()\n",
        "\n",
        "def Model_MSE(hist):\n",
        "    print(hist.history.keys())\n",
        "    plt.plot(hist.history['mse'])\n",
        "    plt.plot(hist.history['val_mse'])\n",
        "    plt.title('Model MSE')\n",
        "    plt.ylabel('MSE')\n",
        "    plt.xlabel('Epochs')\n",
        "    plt.legend(['Training', 'Validation'], loc= 'upper right')\n",
        "    plt.show()\n",
        "\n",
        "def Mostra_ConfusionMatrix():\n",
        "    y_pred = RN.predict_classes(X_teste)\n",
        "    mc = confusion_matrix(y_teste, y_pred)\n",
        "    #sns.heatmap(mc,annot=True, annot_kws={\"size\": 10},fmt=\"d\")\n",
        "    sns.heatmap(mc/np.sum(mc), annot=True, annot_kws={\"size\": 10}, fmt='.2%', cmap='Blues')"
      ],
      "execution_count": null,
      "outputs": []
    },
    {
      "cell_type": "code",
      "metadata": {
        "id": "71mX1iwvHMc5",
        "outputId": "e77c94f2-1005-408c-a8e8-fe9af4c6ddf6",
        "colab": {
          "base_uri": "https://localhost:8080/",
          "height": 299
        }
      },
      "source": [
        "Model_Accuracy(hist)"
      ],
      "execution_count": null,
      "outputs": [
        {
          "output_type": "stream",
          "text": [
            "dict_keys(['loss', 'binary_accuracy', 'val_loss', 'val_binary_accuracy'])\n"
          ],
          "name": "stdout"
        },
        {
          "output_type": "error",
          "ename": "KeyError",
          "evalue": "ignored",
          "traceback": [
            "\u001b[0;31m---------------------------------------------------------------------------\u001b[0m",
            "\u001b[0;31mKeyError\u001b[0m                                  Traceback (most recent call last)",
            "\u001b[0;32m<ipython-input-103-52181b2ceb01>\u001b[0m in \u001b[0;36m<module>\u001b[0;34m()\u001b[0m\n\u001b[0;32m----> 1\u001b[0;31m \u001b[0mModel_Accuracy\u001b[0m\u001b[0;34m(\u001b[0m\u001b[0mhist\u001b[0m\u001b[0;34m)\u001b[0m\u001b[0;34m\u001b[0m\u001b[0;34m\u001b[0m\u001b[0m\n\u001b[0m",
            "\u001b[0;32m<ipython-input-102-d8e91b2e8510>\u001b[0m in \u001b[0;36mModel_Accuracy\u001b[0;34m(hist)\u001b[0m\n\u001b[1;32m     11\u001b[0m \u001b[0;32mdef\u001b[0m \u001b[0mModel_Accuracy\u001b[0m\u001b[0;34m(\u001b[0m\u001b[0mhist\u001b[0m\u001b[0;34m)\u001b[0m\u001b[0;34m:\u001b[0m\u001b[0;34m\u001b[0m\u001b[0;34m\u001b[0m\u001b[0m\n\u001b[1;32m     12\u001b[0m     \u001b[0mprint\u001b[0m\u001b[0;34m(\u001b[0m\u001b[0mhist\u001b[0m\u001b[0;34m.\u001b[0m\u001b[0mhistory\u001b[0m\u001b[0;34m.\u001b[0m\u001b[0mkeys\u001b[0m\u001b[0;34m(\u001b[0m\u001b[0;34m)\u001b[0m\u001b[0;34m)\u001b[0m\u001b[0;34m\u001b[0m\u001b[0;34m\u001b[0m\u001b[0m\n\u001b[0;32m---> 13\u001b[0;31m     \u001b[0mplt\u001b[0m\u001b[0;34m.\u001b[0m\u001b[0mplot\u001b[0m\u001b[0;34m(\u001b[0m\u001b[0mhist\u001b[0m\u001b[0;34m.\u001b[0m\u001b[0mhistory\u001b[0m\u001b[0;34m[\u001b[0m\u001b[0;34m'accuracy'\u001b[0m\u001b[0;34m]\u001b[0m\u001b[0;34m)\u001b[0m\u001b[0;34m\u001b[0m\u001b[0;34m\u001b[0m\u001b[0m\n\u001b[0m\u001b[1;32m     14\u001b[0m     \u001b[0mplt\u001b[0m\u001b[0;34m.\u001b[0m\u001b[0mplot\u001b[0m\u001b[0;34m(\u001b[0m\u001b[0mhist\u001b[0m\u001b[0;34m.\u001b[0m\u001b[0mhistory\u001b[0m\u001b[0;34m[\u001b[0m\u001b[0;34m'val_accuracy'\u001b[0m\u001b[0;34m]\u001b[0m\u001b[0;34m)\u001b[0m\u001b[0;34m\u001b[0m\u001b[0;34m\u001b[0m\u001b[0m\n\u001b[1;32m     15\u001b[0m     \u001b[0mplt\u001b[0m\u001b[0;34m.\u001b[0m\u001b[0mtitle\u001b[0m\u001b[0;34m(\u001b[0m\u001b[0;34m'Model Accuracy'\u001b[0m\u001b[0;34m)\u001b[0m\u001b[0;34m\u001b[0m\u001b[0;34m\u001b[0m\u001b[0m\n",
            "\u001b[0;31mKeyError\u001b[0m: 'accuracy'"
          ]
        }
      ]
    },
    {
      "cell_type": "code",
      "metadata": {
        "id": "o-zJ6GIjHbY8",
        "outputId": "53d8490e-7b98-4831-eef3-63fb5e9bbccb",
        "colab": {
          "base_uri": "https://localhost:8080/",
          "height": 163
        }
      },
      "source": [
        "Model_Loss(hist)"
      ],
      "execution_count": null,
      "outputs": [
        {
          "output_type": "error",
          "ename": "NameError",
          "evalue": "ignored",
          "traceback": [
            "\u001b[0;31m---------------------------------------------------------------------------\u001b[0m",
            "\u001b[0;31mNameError\u001b[0m                                 Traceback (most recent call last)",
            "\u001b[0;32m<ipython-input-88-8a9781df17aa>\u001b[0m in \u001b[0;36m<module>\u001b[0;34m()\u001b[0m\n\u001b[0;32m----> 1\u001b[0;31m \u001b[0mModel_Loss\u001b[0m\u001b[0;34m(\u001b[0m\u001b[0mhist\u001b[0m\u001b[0;34m)\u001b[0m\u001b[0;34m\u001b[0m\u001b[0;34m\u001b[0m\u001b[0m\n\u001b[0m",
            "\u001b[0;31mNameError\u001b[0m: name 'Model_Loss' is not defined"
          ]
        }
      ]
    },
    {
      "cell_type": "markdown",
      "metadata": {
        "id": "J1sL_DTrKmpq"
      },
      "source": [
        "### 7. Avaliar a performance da Rede Neural\n",
        "\n",
        "Para avaliar a a Rede Neural, simplesmente informamos as amostras de teste: X_teste e y_teste. A função evaluate() vai retornar uma lista contendo 2 valores: loss e accuracy."
      ]
    },
    {
      "cell_type": "markdown",
      "metadata": {
        "id": "VckQfEFPvMa7"
      },
      "source": [
        "[**Python**] - Comando modelo.evaluate(X_teste, y_teste)"
      ]
    },
    {
      "cell_type": "code",
      "metadata": {
        "id": "rUhEiqxfKmpv",
        "outputId": "02e000fc-6ff8-4b41-bfb9-16b51598d9c4",
        "colab": {
          "base_uri": "https://localhost:8080/"
        }
      },
      "source": [
        "RN.evaluate(X_teste, y_teste)"
      ],
      "execution_count": 57,
      "outputs": [
        {
          "output_type": "stream",
          "text": [
            "35/35 [==============================] - 0s 881us/step - loss: 0.1557 - binary_accuracy: 0.7826\n"
          ],
          "name": "stdout"
        },
        {
          "output_type": "execute_result",
          "data": {
            "text/plain": [
              "[0.1556759923696518, 0.782608687877655]"
            ]
          },
          "metadata": {
            "tags": []
          },
          "execution_count": 57
        }
      ]
    },
    {
      "cell_type": "code",
      "metadata": {
        "id": "SB3jYewpdYUQ"
      },
      "source": [
        "#hist2 = RN.fit(df_X, df_y, epochs = 200, callbacks = callbacks)"
      ],
      "execution_count": 58,
      "outputs": []
    },
    {
      "cell_type": "code",
      "metadata": {
        "id": "xiM_zEX6epou",
        "outputId": "7c5bfe3f-1937-4b2f-e2a9-131b43c9c74f",
        "colab": {
          "base_uri": "https://localhost:8080/"
        }
      },
      "source": [
        "RN.evaluate(df_X, df_y)"
      ],
      "execution_count": 59,
      "outputs": [
        {
          "output_type": "stream",
          "text": [
            "345/345 [==============================] - 0s 847us/step - loss: 0.1507 - binary_accuracy: 0.7856\n"
          ],
          "name": "stdout"
        },
        {
          "output_type": "execute_result",
          "data": {
            "text/plain": [
              "[0.1506967842578888, 0.7856430411338806]"
            ]
          },
          "metadata": {
            "tags": []
          },
          "execution_count": 59
        }
      ]
    },
    {
      "cell_type": "code",
      "metadata": {
        "id": "w5YwW5PCud3o",
        "outputId": "05525de3-312e-4fac-c777-dfa8f3acc71a",
        "colab": {
          "base_uri": "https://localhost:8080/"
        }
      },
      "source": [
        "RN.evaluate(X_treinamento, y_treinamento)"
      ],
      "execution_count": 60,
      "outputs": [
        {
          "output_type": "stream",
          "text": [
            "311/311 [==============================] - 0s 909us/step - loss: 0.1501 - binary_accuracy: 0.7860\n"
          ],
          "name": "stdout"
        },
        {
          "output_type": "execute_result",
          "data": {
            "text/plain": [
              "[0.1501430720090866, 0.7859804630279541]"
            ]
          },
          "metadata": {
            "tags": []
          },
          "execution_count": 60
        }
      ]
    },
    {
      "cell_type": "markdown",
      "metadata": {
        "id": "agO4cGTqKmpz"
      },
      "source": [
        "A seguir, a matriz de confusão:"
      ]
    },
    {
      "cell_type": "code",
      "metadata": {
        "id": "KdiMhkVyaCDS"
      },
      "source": [
        "def Mostra_ConfusionMatrix():\n",
        "    y_pred = RN.predict_classes(df_X)\n",
        "    mc = confusion_matrix(df_y, y_pred)\n",
        "    #sns.heatmap(mc,annot=True, annot_kws={\"size\": 10},fmt=\"d\")\n",
        "    sns.heatmap(mc/np.sum(mc), annot=True, annot_kws={\"size\": 10}, fmt='.2%', cmap='Blues')"
      ],
      "execution_count": null,
      "outputs": []
    },
    {
      "cell_type": "code",
      "metadata": {
        "id": "aLIAXu7SN7pV",
        "outputId": "0cda548c-10c6-416d-f896-d4ab9bafc416",
        "colab": {
          "base_uri": "https://localhost:8080/",
          "height": 336
        }
      },
      "source": [
        "Mostra_ConfusionMatrix()"
      ],
      "execution_count": null,
      "outputs": [
        {
          "output_type": "stream",
          "text": [
            "WARNING:tensorflow:From <ipython-input-190-55a3bb500d9c>:2: Sequential.predict_classes (from tensorflow.python.keras.engine.sequential) is deprecated and will be removed after 2021-01-01.\n",
            "Instructions for updating:\n",
            "Please use instead:* `np.argmax(model.predict(x), axis=-1)`,   if your model does multi-class classification   (e.g. if it uses a `softmax` last-layer activation).* `(model.predict(x) > 0.5).astype(\"int32\")`,   if your model does binary classification   (e.g. if it uses a `sigmoid` last-layer activation).\n"
          ],
          "name": "stdout"
        },
        {
          "output_type": "display_data",
          "data": {
            "image/png": "[encoded data removed]",
            "text/plain": [
              "<Figure size 432x288 with 2 Axes>"
            ]
          },
          "metadata": {
            "tags": [],
            "needs_background": "light"
          }
        }
      ]
    },
    {
      "cell_type": "markdown",
      "metadata": {
        "id": "D5zYHcGuMPZe"
      },
      "source": [
        "### 8. _Fine tuning_ da Rede Neural\n",
        "\n",
        "Para aumentar a acurácia da Rede Neural, sugiro aumentarmos o número de neurônios na _Hidden Layer_ e/ou aumentar o número de _Hidden Layers_.\n",
        "\n",
        "No entanto, obtivemos uma acurácia razoável com a Rede Neural _baseline_. Portanto, deixo como exercício para os alunos o desafio de melhorar a acurácia desta Rede Neural."
      ]
    },
    {
      "cell_type": "markdown",
      "metadata": {
        "id": "_ISodOu-Kmp3"
      },
      "source": [
        "### 9. Fazer Predições com a Rede Neural"
      ]
    },
    {
      "cell_type": "markdown",
      "metadata": {
        "id": "_xgdL1W4vUrN"
      },
      "source": [
        "[**Python**] - Comando:\n",
        "* RN.predict_classes(X_treinamento);\n",
        "* RN.predict_classes(X_teste)."
      ]
    },
    {
      "cell_type": "code",
      "metadata": {
        "id": "kqy2rt3YfPiy"
      },
      "source": [
        "y_teste = RN.predict_classes(X_test)\n",
        "\n",
        "df_submit = pd.concat([df_test['id'],pd.DataFrame(y_teste,columns=['target']).astype('boolean')],axis=1)\n",
        "\n",
        "df_submit.to_csv('/PyLadies_NL_9.csv',index = False, sep = ',')"
      ],
      "execution_count": 69,
      "outputs": []
    },
    {
      "cell_type": "code",
      "metadata": {
        "id": "_C_u02mygKgt"
      },
      "source": [
        ""
      ],
      "execution_count": null,
      "outputs": []
    },
    {
      "cell_type": "code",
      "metadata": {
        "id": "JU_6XlFRgPL2",
        "outputId": "61fa080a-a687-445b-db43-0004a7f1c0cb",
        "colab": {
          "base_uri": "https://localhost:8080/"
        }
      },
      "source": [
        "df_submit['target'].value_counts()"
      ],
      "execution_count": 70,
      "outputs": [
        {
          "output_type": "execute_result",
          "data": {
            "text/plain": [
              "False    935\n",
              "True      65\n",
              "Name: target, dtype: Int64"
            ]
          },
          "metadata": {
            "tags": []
          },
          "execution_count": 70
        }
      ]
    },
    {
      "cell_type": "markdown",
      "metadata": {
        "id": "AvywP0nZMtA-"
      },
      "source": [
        "### 10. Conclusões\n",
        "\n",
        "Desenvolvemos uma Rede Neural capaz de identificar Sexo (_Gender_) com acurácia= 0.9120."
      ]
    },
    {
      "cell_type": "code",
      "metadata": {
        "id": "YL2g2pn-RfJi"
      },
      "source": [
        ""
      ],
      "execution_count": null,
      "outputs": []
    }
  ]
}