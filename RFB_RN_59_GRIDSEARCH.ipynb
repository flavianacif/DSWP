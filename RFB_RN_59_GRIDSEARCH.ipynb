{
  "nbformat": 4,
  "nbformat_minor": 0,
  "metadata": {
    "colab": {
      "name": "Untitled6.ipynb",
      "provenance": [],
      "authorship_tag": "ABX9TyNM2XjeP1+/RAn9NpIm+fro",
      "include_colab_link": true
    },
    "kernelspec": {
      "name": "python3",
      "display_name": "Python 3"
    }
  },
  "cells": [
    {
      "cell_type": "markdown",
      "metadata": {
        "id": "view-in-github",
        "colab_type": "text"
      },
      "source": [
        "<a href=\"https://colab.research.google.com/github/flavianacif/DSWP/blob/master/RFB_RN_59_GRIDSEARCH.ipynb\" target=\"_parent\"><img src=\"https://colab.research.google.com/assets/colab-badge.svg\" alt=\"Open In Colab\"/></a>"
      ]
    },
    {
      "cell_type": "code",
      "metadata": {
        "id": "4ydRn4T2mTdV"
      },
      "source": [
        "# Use scikit-learn to grid search the number of neurons\n",
        "import numpy\n",
        "from sklearn.model_selection import GridSearchCV\n",
        "from keras.models import Sequential\n",
        "from keras.layers import Dense\n",
        "from keras.layers import Dropout\n",
        "from keras.wrappers.scikit_learn import KerasClassifier\n",
        "from keras.constraints import maxnorm\n"
      ],
      "execution_count": 1,
      "outputs": []
    },
    {
      "cell_type": "code",
      "metadata": {
        "colab": {
          "base_uri": "https://localhost:8080/"
        },
        "id": "c87Zzev6yJlt",
        "outputId": "77997513-d6a7-430c-9d1a-86b024b99960"
      },
      "source": [
        "sklearn.metrics.SCORERS.keys()"
      ],
      "execution_count": 52,
      "outputs": [
        {
          "output_type": "execute_result",
          "data": {
            "text/plain": [
              "dict_keys(['explained_variance', 'r2', 'max_error', 'neg_median_absolute_error', 'neg_mean_absolute_error', 'neg_mean_squared_error', 'neg_mean_squared_log_error', 'neg_root_mean_squared_error', 'neg_mean_poisson_deviance', 'neg_mean_gamma_deviance', 'accuracy', 'roc_auc', 'roc_auc_ovr', 'roc_auc_ovo', 'roc_auc_ovr_weighted', 'roc_auc_ovo_weighted', 'balanced_accuracy', 'average_precision', 'neg_log_loss', 'neg_brier_score', 'adjusted_rand_score', 'homogeneity_score', 'completeness_score', 'v_measure_score', 'mutual_info_score', 'adjusted_mutual_info_score', 'normalized_mutual_info_score', 'fowlkes_mallows_score', 'precision', 'precision_macro', 'precision_micro', 'precision_samples', 'precision_weighted', 'recall', 'recall_macro', 'recall_micro', 'recall_samples', 'recall_weighted', 'f1', 'f1_macro', 'f1_micro', 'f1_samples', 'f1_weighted', 'jaccard', 'jaccard_macro', 'jaccard_micro', 'jaccard_samples', 'jaccard_weighted'])"
            ]
          },
          "metadata": {
            "tags": []
          },
          "execution_count": 52
        }
      ]
    },
    {
      "cell_type": "code",
      "metadata": {
        "id": "Joisip0sxPW-"
      },
      "source": [
        "import sklearn"
      ],
      "execution_count": 48,
      "outputs": []
    },
    {
      "cell_type": "code",
      "metadata": {
        "id": "j0_YZ6IURZE_",
        "colab": {
          "base_uri": "https://localhost:8080/"
        },
        "outputId": "6034db8c-540e-49c8-b582-85fbd7197205"
      },
      "source": [
        "import tensorflow as tf\n",
        "import numpy as np\n",
        "import pandas as pd\n",
        "import matplotlib.pyplot as plt\n",
        "import seaborn as sns\n",
        "from sklearn.metrics import confusion_matrix\n",
        "import tensorflow_addons as tfa\n",
        "\n",
        "from tensorflow import keras\n",
        "\n",
        "import pandas as pd\n",
        "import numpy as np\n",
        "\n",
        "import matplotlib.pyplot as plt # importing ploting libraries\n",
        "import seaborn as sns # importing seaborn for statistical plots\n",
        "from collections import Counter\n",
        "\n",
        "from sklearn.metrics import make_scorer,accuracy_score, f1_score, confusion_matrix, classification_report, recall_score # calculate accuracy measures and confusion matrix\n",
        "\n",
        "from imblearn.over_sampling import SMOTE"
      ],
      "execution_count": 2,
      "outputs": [
        {
          "output_type": "stream",
          "text": [
            "/usr/local/lib/python3.6/dist-packages/sklearn/externals/six.py:31: FutureWarning: The module is deprecated in version 0.21 and will be removed in version 0.23 since we've dropped support for Python 2.7. Please rely on the official version of six (https://pypi.org/project/six/).\n",
            "  \"(https://pypi.org/project/six/).\", FutureWarning)\n",
            "/usr/local/lib/python3.6/dist-packages/sklearn/utils/deprecation.py:144: FutureWarning: The sklearn.neighbors.base module is  deprecated in version 0.22 and will be removed in version 0.24. The corresponding classes / functions should instead be imported from sklearn.neighbors. Anything that cannot be imported from sklearn.neighbors is now part of the private API.\n",
            "  warnings.warn(message, FutureWarning)\n"
          ],
          "name": "stderr"
        }
      ]
    },
    {
      "cell_type": "markdown",
      "metadata": {
        "id": "9ZX00UN5cjvM"
      },
      "source": [
        "[**Python**] - Verificar a versão do Tensorflow\n",
        "> Assegurar que está a utilizar a versão 2.x."
      ]
    },
    {
      "cell_type": "code",
      "metadata": {
        "id": "THWNIk_FCe_g",
        "colab": {
          "base_uri": "https://localhost:8080/",
          "height": 35
        },
        "outputId": "99a3045e-ebea-44f1-ba18-7ecb7f357a67"
      },
      "source": [
        "tf.__version__"
      ],
      "execution_count": 3,
      "outputs": [
        {
          "output_type": "execute_result",
          "data": {
            "application/vnd.google.colaboratory.intrinsic+json": {
              "type": "string"
            },
            "text/plain": [
              "'2.3.0'"
            ]
          },
          "metadata": {
            "tags": []
          },
          "execution_count": 3
        }
      ]
    },
    {
      "cell_type": "markdown",
      "metadata": {
        "id": "PZgQAKqLcLX3"
      },
      "source": [
        "[**Python**] - Definir o número de casas decimais"
      ]
    },
    {
      "cell_type": "code",
      "metadata": {
        "id": "tzKor02BCe_d"
      },
      "source": [
        "np.set_printoptions(precision= 3)"
      ],
      "execution_count": 4,
      "outputs": []
    },
    {
      "cell_type": "markdown",
      "metadata": {
        "id": "M5V4KopjLWOL"
      },
      "source": [
        "### 1. Carregar os dados"
      ]
    },
    {
      "cell_type": "markdown",
      "metadata": {
        "id": "V_cwAUW3tseE"
      },
      "source": [
        "[**Python**] - Carregar os dados:"
      ]
    },
    {
      "cell_type": "code",
      "metadata": {
        "id": "_Bs87IWPtwtm"
      },
      "source": [
        "# Leitura do dataframe:\n",
        "df = pd.read_csv('/total_9.csv')"
      ],
      "execution_count": 5,
      "outputs": []
    },
    {
      "cell_type": "code",
      "metadata": {
        "id": "myhgteQhdqVi"
      },
      "source": [
        "df_total = df.copy()"
      ],
      "execution_count": 6,
      "outputs": []
    },
    {
      "cell_type": "code",
      "metadata": {
        "id": "0MfQNbWvfUkK"
      },
      "source": [
        "df_total.set_index('id', inplace=True)"
      ],
      "execution_count": 7,
      "outputs": []
    },
    {
      "cell_type": "markdown",
      "metadata": {
        "id": "6LXKr9-R_JIK"
      },
      "source": [
        "Retirando algumas colunas para testar"
      ]
    },
    {
      "cell_type": "code",
      "metadata": {
        "id": "aVnISOiD-xRk"
      },
      "source": [
        "df_total.drop(columns = ['cnae2','md1', 'md2', 'md3', 'md4', 'md5', 'md6', 'md7', 'md8',\n",
        "       'md9', 'md10', 'md11', 'md12', 'mc1', 'mc2', 'mc3', 'mc4'], inplace = True)"
      ],
      "execution_count": 9,
      "outputs": []
    },
    {
      "cell_type": "markdown",
      "metadata": {
        "id": "e_0lkPsR_mFp"
      },
      "source": [
        "GET DUMMIES"
      ]
    },
    {
      "cell_type": "code",
      "metadata": {
        "id": "rN72uIGk_jMI"
      },
      "source": [
        "df_total = pd.get_dummies(df_total)"
      ],
      "execution_count": 10,
      "outputs": []
    },
    {
      "cell_type": "code",
      "metadata": {
        "id": "9gYa3Hy6lrZi"
      },
      "source": [
        "X_treino = df_total[df_total['target']!= 2]"
      ],
      "execution_count": 11,
      "outputs": []
    },
    {
      "cell_type": "code",
      "metadata": {
        "id": "MoZrDX3FnnYe"
      },
      "source": [
        "df_X = X_treino.copy()"
      ],
      "execution_count": 13,
      "outputs": []
    },
    {
      "cell_type": "code",
      "metadata": {
        "id": "Q5tB1ey7eAe4"
      },
      "source": [
        "df_y = df_X['target']\n",
        "df_X = df_X.drop(columns= ['target'])"
      ],
      "execution_count": 14,
      "outputs": []
    },
    {
      "cell_type": "code",
      "metadata": {
        "id": "i8_BlpeteJow"
      },
      "source": [
        "X_test = df_total[df_total['target']== 2].drop(columns= ['target'])"
      ],
      "execution_count": 15,
      "outputs": []
    },
    {
      "cell_type": "markdown",
      "metadata": {
        "id": "QG86P2_RIqiz"
      },
      "source": [
        "Tratando o Balanceamento da Amostra"
      ]
    },
    {
      "cell_type": "code",
      "metadata": {
        "id": "0fNYOL_PLMMQ",
        "colab": {
          "base_uri": "https://localhost:8080/"
        },
        "outputId": "1b131e1c-cae0-4088-def6-18ef23e2d57e"
      },
      "source": [
        "qtd = Counter(X_treino['target'])\n",
        "qtd"
      ],
      "execution_count": 16,
      "outputs": [
        {
          "output_type": "execute_result",
          "data": {
            "text/plain": [
              "Counter({0: 8513, 1: 2520})"
            ]
          },
          "metadata": {
            "tags": []
          },
          "execution_count": 16
        }
      ]
    },
    {
      "cell_type": "code",
      "metadata": {
        "id": "S9SLjncvizFs",
        "colab": {
          "base_uri": "https://localhost:8080/"
        },
        "outputId": "26e2323b-eec6-46f5-e961-418d9eb45c4f"
      },
      "source": [
        "np.round(100*qtd[1]/qtd[0], 4)"
      ],
      "execution_count": 17,
      "outputs": [
        {
          "output_type": "execute_result",
          "data": {
            "text/plain": [
              "29.6018"
            ]
          },
          "metadata": {
            "tags": []
          },
          "execution_count": 17
        }
      ]
    },
    {
      "cell_type": "code",
      "metadata": {
        "id": "kbQDKCyo_RTs"
      },
      "source": [
        "from imblearn.under_sampling import RandomUnderSampler"
      ],
      "execution_count": 18,
      "outputs": []
    },
    {
      "cell_type": "code",
      "metadata": {
        "id": "dLuoImU9-sGx"
      },
      "source": [
        "over = SMOTE(sampling_strategy = 0.5) # Reamostrar a classe minoritária para ter 10% da classe majoritária\n",
        "under = RandomUnderSampler(sampling_strategy = 0.85) # Seleciona a classe majoritária para ter 50%"
      ],
      "execution_count": 19,
      "outputs": []
    },
    {
      "cell_type": "markdown",
      "metadata": {
        "id": "o4WdMzQ6-iV1"
      },
      "source": [
        "Usando um Pileline"
      ]
    },
    {
      "cell_type": "code",
      "metadata": {
        "id": "8Hr38-lR_WaG"
      },
      "source": [
        "from imblearn.pipeline import Pipeline"
      ],
      "execution_count": 20,
      "outputs": []
    },
    {
      "cell_type": "code",
      "metadata": {
        "id": "NY0quIhW5bGe"
      },
      "source": [
        "steps = [('over', over), ('under', under)]\n",
        "pipeline = Pipeline(steps = steps)"
      ],
      "execution_count": 22,
      "outputs": []
    },
    {
      "cell_type": "markdown",
      "metadata": {
        "id": "E57PQ3isuGGM"
      },
      "source": [
        "X_cc e y_cc são nossos dataframes originais."
      ]
    },
    {
      "cell_type": "code",
      "metadata": {
        "id": "0viVAtDs5bKs",
        "colab": {
          "base_uri": "https://localhost:8080/"
        },
        "outputId": "2e763ef8-6d21-4598-f351-54be5fafcd3d"
      },
      "source": [
        "# Aplica o pipeline\n",
        "X, y = pipeline.fit_resample(df_X, df_y)"
      ],
      "execution_count": 23,
      "outputs": [
        {
          "output_type": "stream",
          "text": [
            "/usr/local/lib/python3.6/dist-packages/sklearn/utils/deprecation.py:87: FutureWarning: Function safe_indexing is deprecated; safe_indexing is deprecated in version 0.22 and will be removed in version 0.24.\n",
            "  warnings.warn(msg, category=FutureWarning)\n",
            "/usr/local/lib/python3.6/dist-packages/sklearn/utils/deprecation.py:87: FutureWarning: Function safe_indexing is deprecated; safe_indexing is deprecated in version 0.22 and will be removed in version 0.24.\n",
            "  warnings.warn(msg, category=FutureWarning)\n"
          ],
          "name": "stderr"
        }
      ]
    },
    {
      "cell_type": "markdown",
      "metadata": {
        "id": "IjqfnKY3uYeU"
      },
      "source": [
        "Antes:"
      ]
    },
    {
      "cell_type": "code",
      "metadata": {
        "id": "iIMZ9UgGQEq0",
        "colab": {
          "base_uri": "https://localhost:8080/"
        },
        "outputId": "0472e0ab-c49d-4ff9-ac60-fc736ff0fca2"
      },
      "source": [
        "Counter(df_y)"
      ],
      "execution_count": 24,
      "outputs": [
        {
          "output_type": "execute_result",
          "data": {
            "text/plain": [
              "Counter({0: 8513, 1: 2520})"
            ]
          },
          "metadata": {
            "tags": []
          },
          "execution_count": 24
        }
      ]
    },
    {
      "cell_type": "markdown",
      "metadata": {
        "id": "hNpOBtw5ucEh"
      },
      "source": [
        "Depois:"
      ]
    },
    {
      "cell_type": "code",
      "metadata": {
        "colab": {
          "base_uri": "https://localhost:8080/"
        },
        "id": "CrRxPL5QnRYs",
        "outputId": "7b9117aa-dfab-47c2-ab25-47fcaf56ab00"
      },
      "source": [
        "qtd_d = Counter(y)\n",
        "qtd_d"
      ],
      "execution_count": 25,
      "outputs": [
        {
          "output_type": "execute_result",
          "data": {
            "text/plain": [
              "Counter({0: 5007, 1: 4256})"
            ]
          },
          "metadata": {
            "tags": []
          },
          "execution_count": 25
        }
      ]
    },
    {
      "cell_type": "code",
      "metadata": {
        "id": "hQw9xEY1m13h"
      },
      "source": [
        "\n",
        "# Function to create model, required for KerasClassifier\n",
        "def create_model(neurons, epochs,batch_size,n_hl):\n",
        "  # create model\n",
        "  model = Sequential()\n",
        "  model.add(Dense(neurons, input_dim=88, kernel_initializer='glorot_normal', activation='relu'))\n",
        "  for i in np.arange(0,n_hl):\n",
        "    model.add(Dropout(0.1))\n",
        "    neurons = round(neurons/2)\n",
        "    model.add(Dense(neurons, kernel_initializer='glorot_normal', activation='relu'))\n",
        "  # Compile model\n",
        "  model.add(Dense(1, kernel_initializer='glorot_normal', activation='sigmoid'))\n",
        "  model.compile(loss='binary_crossentropy', optimizer='Adamax', metrics= ['accuracy'])\n",
        "  return model\n",
        "# fix random seed for reproducibility\n",
        "seed = 7\n",
        "numpy.random.seed(seed)\n",
        "# split into input (X) and output (Y) variables\n",
        "X_2 = np.array(X)\n",
        "y_2 = y\n"
      ],
      "execution_count": 90,
      "outputs": []
    },
    {
      "cell_type": "code",
      "metadata": {
        "colab": {
          "base_uri": "https://localhost:8080/"
        },
        "id": "fakko1SBqLMr",
        "outputId": "bfd43739-c3ce-420f-c40c-215cc4656f70"
      },
      "source": [
        "# create model\n",
        "model = KerasClassifier(build_fn=create_model, verbose=1)\n",
        "# define the grid search parameters\n",
        "batch_size = [20]\n",
        "epochs = [70]\n",
        "neurons = [600]\n",
        "n_hl = [7]\n",
        "param_grid = dict(batch_size=batch_size, epochs=epochs, neurons=neurons, n_hl = n_hl)\n",
        "grid = GridSearchCV(estimator=model, param_grid=param_grid, n_jobs=-1, cv=10,scoring='f1_macro')\n",
        "grid_result = grid.fit(X_2, y_2)\n",
        "# summarize results\n",
        "print(\"Best: %f using %s\" % (grid_result.best_score_, grid_result.best_params_))\n",
        "means = grid_result.cv_results_['mean_test_score']\n",
        "stds = grid_result.cv_results_['std_test_score']\n",
        "params = grid_result.cv_results_['params']\n",
        "for mean, stdev, param in zip(means, stds, params):\n",
        "    print(\"%f (%f) with: %r\" % (mean, stdev, param))"
      ],
      "execution_count": 94,
      "outputs": [
        {
          "output_type": "stream",
          "text": [
            "Epoch 1/70\n",
            "464/464 [==============================] - 2s 5ms/step - loss: 0.6368 - accuracy: 0.6201\n",
            "Epoch 2/70\n",
            "464/464 [==============================] - 2s 5ms/step - loss: 0.6070 - accuracy: 0.6620\n",
            "Epoch 3/70\n",
            "464/464 [==============================] - 2s 5ms/step - loss: 0.5929 - accuracy: 0.6773\n",
            "Epoch 4/70\n",
            "464/464 [==============================] - 2s 5ms/step - loss: 0.5829 - accuracy: 0.6906\n",
            "Epoch 5/70\n",
            "464/464 [==============================] - 2s 5ms/step - loss: 0.5712 - accuracy: 0.6990\n",
            "Epoch 6/70\n",
            "464/464 [==============================] - 2s 5ms/step - loss: 0.5590 - accuracy: 0.7069\n",
            "Epoch 7/70\n",
            "464/464 [==============================] - 2s 5ms/step - loss: 0.5456 - accuracy: 0.7262\n",
            "Epoch 8/70\n",
            "464/464 [==============================] - 2s 5ms/step - loss: 0.5297 - accuracy: 0.7329\n",
            "Epoch 9/70\n",
            "464/464 [==============================] - 2s 5ms/step - loss: 0.5171 - accuracy: 0.7468\n",
            "Epoch 10/70\n",
            "464/464 [==============================] - 2s 5ms/step - loss: 0.4998 - accuracy: 0.7603\n",
            "Epoch 11/70\n",
            "464/464 [==============================] - 2s 5ms/step - loss: 0.4813 - accuracy: 0.7730\n",
            "Epoch 12/70\n",
            "464/464 [==============================] - 2s 5ms/step - loss: 0.4590 - accuracy: 0.7865\n",
            "Epoch 13/70\n",
            "464/464 [==============================] - 2s 5ms/step - loss: 0.4467 - accuracy: 0.7978\n",
            "Epoch 14/70\n",
            "464/464 [==============================] - 3s 5ms/step - loss: 0.4329 - accuracy: 0.8069\n",
            "Epoch 15/70\n",
            "464/464 [==============================] - 2s 5ms/step - loss: 0.4071 - accuracy: 0.8211\n",
            "Epoch 16/70\n",
            "464/464 [==============================] - 2s 5ms/step - loss: 0.3900 - accuracy: 0.8285\n",
            "Epoch 17/70\n",
            "464/464 [==============================] - 2s 5ms/step - loss: 0.3744 - accuracy: 0.8423\n",
            "Epoch 18/70\n",
            "464/464 [==============================] - 2s 5ms/step - loss: 0.3485 - accuracy: 0.8511\n",
            "Epoch 19/70\n",
            "464/464 [==============================] - 2s 5ms/step - loss: 0.3319 - accuracy: 0.8598\n",
            "Epoch 20/70\n",
            "464/464 [==============================] - 2s 5ms/step - loss: 0.3096 - accuracy: 0.8720\n",
            "Epoch 21/70\n",
            "464/464 [==============================] - 2s 5ms/step - loss: 0.2936 - accuracy: 0.8808\n",
            "Epoch 22/70\n",
            "464/464 [==============================] - 2s 5ms/step - loss: 0.2710 - accuracy: 0.8887\n",
            "Epoch 23/70\n",
            "464/464 [==============================] - 2s 5ms/step - loss: 0.2535 - accuracy: 0.9007\n",
            "Epoch 24/70\n",
            "464/464 [==============================] - 2s 5ms/step - loss: 0.2396 - accuracy: 0.9064\n",
            "Epoch 25/70\n",
            "464/464 [==============================] - 2s 5ms/step - loss: 0.2328 - accuracy: 0.9048\n",
            "Epoch 26/70\n",
            "464/464 [==============================] - 2s 5ms/step - loss: 0.2066 - accuracy: 0.9209\n",
            "Epoch 27/70\n",
            "464/464 [==============================] - 2s 5ms/step - loss: 0.1947 - accuracy: 0.9275\n",
            "Epoch 28/70\n",
            "464/464 [==============================] - 2s 5ms/step - loss: 0.1838 - accuracy: 0.9242\n",
            "Epoch 29/70\n",
            "464/464 [==============================] - 3s 6ms/step - loss: 0.1675 - accuracy: 0.9367\n",
            "Epoch 30/70\n",
            "464/464 [==============================] - 2s 5ms/step - loss: 0.1627 - accuracy: 0.9376\n",
            "Epoch 31/70\n",
            "464/464 [==============================] - 2s 5ms/step - loss: 0.1506 - accuracy: 0.9425\n",
            "Epoch 32/70\n",
            "464/464 [==============================] - 2s 5ms/step - loss: 0.1487 - accuracy: 0.9428\n",
            "Epoch 33/70\n",
            "464/464 [==============================] - 3s 5ms/step - loss: 0.1428 - accuracy: 0.9456\n",
            "Epoch 34/70\n",
            "464/464 [==============================] - 2s 5ms/step - loss: 0.1337 - accuracy: 0.9488\n",
            "Epoch 35/70\n",
            "464/464 [==============================] - 2s 5ms/step - loss: 0.1279 - accuracy: 0.9515\n",
            "Epoch 36/70\n",
            "464/464 [==============================] - 3s 6ms/step - loss: 0.1086 - accuracy: 0.9606\n",
            "Epoch 37/70\n",
            "464/464 [==============================] - 2s 5ms/step - loss: 0.1110 - accuracy: 0.9574\n",
            "Epoch 38/70\n",
            "464/464 [==============================] - 2s 5ms/step - loss: 0.1068 - accuracy: 0.9601\n",
            "Epoch 39/70\n",
            "464/464 [==============================] - 2s 5ms/step - loss: 0.1112 - accuracy: 0.9580\n",
            "Epoch 40/70\n",
            "464/464 [==============================] - 2s 5ms/step - loss: 0.0981 - accuracy: 0.9636\n",
            "Epoch 41/70\n",
            "464/464 [==============================] - 2s 5ms/step - loss: 0.0933 - accuracy: 0.9664\n",
            "Epoch 42/70\n",
            "464/464 [==============================] - 2s 5ms/step - loss: 0.0925 - accuracy: 0.9656\n",
            "Epoch 43/70\n",
            "464/464 [==============================] - 2s 5ms/step - loss: 0.0852 - accuracy: 0.9686\n",
            "Epoch 44/70\n",
            "464/464 [==============================] - 2s 5ms/step - loss: 0.0884 - accuracy: 0.9646\n",
            "Epoch 45/70\n",
            "464/464 [==============================] - 2s 5ms/step - loss: 0.0854 - accuracy: 0.9691\n",
            "Epoch 46/70\n",
            "464/464 [==============================] - 2s 5ms/step - loss: 0.0807 - accuracy: 0.9717\n",
            "Epoch 47/70\n",
            "464/464 [==============================] - 2s 5ms/step - loss: 0.0735 - accuracy: 0.9709\n",
            "Epoch 48/70\n",
            "464/464 [==============================] - 2s 5ms/step - loss: 0.0698 - accuracy: 0.9750\n",
            "Epoch 49/70\n",
            "464/464 [==============================] - 2s 5ms/step - loss: 0.0676 - accuracy: 0.9755\n",
            "Epoch 50/70\n",
            "464/464 [==============================] - 2s 5ms/step - loss: 0.0704 - accuracy: 0.9754\n",
            "Epoch 51/70\n",
            "464/464 [==============================] - 2s 5ms/step - loss: 0.0629 - accuracy: 0.9768\n",
            "Epoch 52/70\n",
            "464/464 [==============================] - 2s 5ms/step - loss: 0.0679 - accuracy: 0.9768\n",
            "Epoch 53/70\n",
            "464/464 [==============================] - 2s 5ms/step - loss: 0.0656 - accuracy: 0.9743\n",
            "Epoch 54/70\n",
            "464/464 [==============================] - 2s 5ms/step - loss: 0.0590 - accuracy: 0.9797\n",
            "Epoch 55/70\n",
            "464/464 [==============================] - 2s 5ms/step - loss: 0.0561 - accuracy: 0.9774\n",
            "Epoch 56/70\n",
            "464/464 [==============================] - 2s 5ms/step - loss: 0.0558 - accuracy: 0.9800\n",
            "Epoch 57/70\n",
            "464/464 [==============================] - 2s 5ms/step - loss: 0.0613 - accuracy: 0.9791\n",
            "Epoch 58/70\n",
            "464/464 [==============================] - 2s 5ms/step - loss: 0.0599 - accuracy: 0.9787\n",
            "Epoch 59/70\n",
            "464/464 [==============================] - 2s 5ms/step - loss: 0.0588 - accuracy: 0.9797\n",
            "Epoch 60/70\n",
            "464/464 [==============================] - 2s 5ms/step - loss: 0.0562 - accuracy: 0.9792\n",
            "Epoch 61/70\n",
            "464/464 [==============================] - 2s 5ms/step - loss: 0.0587 - accuracy: 0.9809\n",
            "Epoch 62/70\n",
            "464/464 [==============================] - 2s 5ms/step - loss: 0.0609 - accuracy: 0.9775\n",
            "Epoch 63/70\n",
            "464/464 [==============================] - 2s 5ms/step - loss: 0.0501 - accuracy: 0.9806\n",
            "Epoch 64/70\n",
            "464/464 [==============================] - 2s 5ms/step - loss: 0.0549 - accuracy: 0.9808\n",
            "Epoch 65/70\n",
            "464/464 [==============================] - 2s 5ms/step - loss: 0.0523 - accuracy: 0.9786\n",
            "Epoch 66/70\n",
            "464/464 [==============================] - 2s 5ms/step - loss: 0.0457 - accuracy: 0.9842\n",
            "Epoch 67/70\n",
            "464/464 [==============================] - 2s 5ms/step - loss: 0.0479 - accuracy: 0.9831\n",
            "Epoch 68/70\n",
            "464/464 [==============================] - 2s 5ms/step - loss: 0.0452 - accuracy: 0.9835\n",
            "Epoch 69/70\n",
            "464/464 [==============================] - 2s 5ms/step - loss: 0.0470 - accuracy: 0.9828\n",
            "Epoch 70/70\n",
            "464/464 [==============================] - 2s 5ms/step - loss: 0.0449 - accuracy: 0.9833\n",
            "Best: 0.448070 using {'batch_size': 20, 'epochs': 70, 'n_hl': 7, 'neurons': 600}\n",
            "0.448070 (0.094212) with: {'batch_size': 20, 'epochs': 70, 'n_hl': 7, 'neurons': 600}\n"
          ],
          "name": "stdout"
        }
      ]
    },
    {
      "cell_type": "code",
      "metadata": {
        "colab": {
          "base_uri": "https://localhost:8080/",
          "height": 167
        },
        "id": "MgSWKacwpKx7",
        "outputId": "d13af774-a4f9-4ee0-8c84-fff136ed41a3"
      },
      "source": [
        "keras.activations."
      ],
      "execution_count": 74,
      "outputs": [
        {
          "output_type": "error",
          "ename": "TypeError",
          "evalue": "ignored",
          "traceback": [
            "\u001b[0;31m---------------------------------------------------------------------------\u001b[0m",
            "\u001b[0;31mTypeError\u001b[0m                                 Traceback (most recent call last)",
            "\u001b[0;32m<ipython-input-74-234deb0e9782>\u001b[0m in \u001b[0;36m<module>\u001b[0;34m()\u001b[0m\n\u001b[0;32m----> 1\u001b[0;31m \u001b[0mkeras\u001b[0m\u001b[0;34m.\u001b[0m\u001b[0moptimizers\u001b[0m\u001b[0;34m.\u001b[0m\u001b[0mschedules\u001b[0m\u001b[0;34m(\u001b[0m\u001b[0;34m)\u001b[0m\u001b[0;34m\u001b[0m\u001b[0;34m\u001b[0m\u001b[0m\n\u001b[0m",
            "\u001b[0;31mTypeError\u001b[0m: 'module' object is not callable"
          ]
        }
      ]
    },
    {
      "cell_type": "code",
      "metadata": {
        "id": "Zt4zCbVqBn7d"
      },
      "source": [
        ""
      ],
      "execution_count": null,
      "outputs": []
    }
  ]
}