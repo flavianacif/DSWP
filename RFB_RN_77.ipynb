{
  "nbformat": 4,
  "nbformat_minor": 0,
  "metadata": {
    "colab": {
      "name": "Untitled5.ipynb",
      "provenance": [],
      "toc_visible": true,
      "authorship_tag": "ABX9TyOiFzTBNmyQ74rBD0u3g/kI",
      "include_colab_link": true
    },
    "kernelspec": {
      "name": "python3",
      "display_name": "Python 3"
    }
  },
  "cells": [
    {
      "cell_type": "markdown",
      "metadata": {
        "id": "view-in-github",
        "colab_type": "text"
      },
      "source": [
        "<a href=\"https://colab.research.google.com/github/flavianacif/DSWP/blob/master/RFB_RN_77.ipynb\" target=\"_parent\"><img src=\"https://colab.research.google.com/assets/colab-badge.svg\" alt=\"Open In Colab\"/></a>"
      ]
    },
    {
      "cell_type": "code",
      "metadata": {
        "id": "j0_YZ6IURZE_",
        "colab": {
          "base_uri": "https://localhost:8080/"
        },
        "outputId": "2e3e3cd0-a70c-40d3-9ae4-def4110be7c7"
      },
      "source": [
        "\n",
        "import tensorflow as tf\n",
        "import numpy as np\n",
        "import pandas as pd\n",
        "import matplotlib.pyplot as plt\n",
        "import seaborn as sns\n",
        "from sklearn.metrics import confusion_matrix\n",
        "import tensorflow_addons as tfa\n",
        "from tensorflow import keras\n",
        "from sklearn.metrics import accuracy_score, f1_score, precision_score, recall_score, classification_report, confusion_matrix\n",
        "from collections import Counter\n",
        "from imblearn.over_sampling import SMOTE\n"
      ],
      "execution_count": 1,
      "outputs": [
        {
          "output_type": "stream",
          "text": [
            "/usr/local/lib/python3.6/dist-packages/sklearn/externals/six.py:31: FutureWarning: The module is deprecated in version 0.21 and will be removed in version 0.23 since we've dropped support for Python 2.7. Please rely on the official version of six (https://pypi.org/project/six/).\n",
            "  \"(https://pypi.org/project/six/).\", FutureWarning)\n",
            "/usr/local/lib/python3.6/dist-packages/sklearn/utils/deprecation.py:144: FutureWarning: The sklearn.neighbors.base module is  deprecated in version 0.22 and will be removed in version 0.24. The corresponding classes / functions should instead be imported from sklearn.neighbors. Anything that cannot be imported from sklearn.neighbors is now part of the private API.\n",
            "  warnings.warn(message, FutureWarning)\n"
          ],
          "name": "stderr"
        }
      ]
    },
    {
      "cell_type": "markdown",
      "metadata": {
        "id": "9ZX00UN5cjvM"
      },
      "source": [
        "[**Python**] - Verificar a versão do Tensorflow\n",
        "> Assegurar que está a utilizar a versão 2.x."
      ]
    },
    {
      "cell_type": "code",
      "metadata": {
        "id": "THWNIk_FCe_g",
        "colab": {
          "base_uri": "https://localhost:8080/",
          "height": 35
        },
        "outputId": "1d19b433-4dcd-497a-aae5-63208bf26457"
      },
      "source": [
        "tf.__version__"
      ],
      "execution_count": 2,
      "outputs": [
        {
          "output_type": "execute_result",
          "data": {
            "application/vnd.google.colaboratory.intrinsic+json": {
              "type": "string"
            },
            "text/plain": [
              "'2.3.0'"
            ]
          },
          "metadata": {
            "tags": []
          },
          "execution_count": 2
        }
      ]
    },
    {
      "cell_type": "markdown",
      "metadata": {
        "id": "PZgQAKqLcLX3"
      },
      "source": [
        "[**Python**] - Definir o número de casas decimais"
      ]
    },
    {
      "cell_type": "code",
      "metadata": {
        "id": "tzKor02BCe_d"
      },
      "source": [
        "np.set_printoptions(precision= 3)"
      ],
      "execution_count": 3,
      "outputs": []
    },
    {
      "cell_type": "markdown",
      "metadata": {
        "id": "M5V4KopjLWOL"
      },
      "source": [
        "### 1. Carregar os dados"
      ]
    },
    {
      "cell_type": "markdown",
      "metadata": {
        "id": "V_cwAUW3tseE"
      },
      "source": [
        "[**Python**] - Carregar os dados:"
      ]
    },
    {
      "cell_type": "code",
      "metadata": {
        "id": "_Bs87IWPtwtm"
      },
      "source": [
        "# Leitura do dataframe:\n",
        "df = pd.read_csv('/total_10.csv')"
      ],
      "execution_count": 4,
      "outputs": []
    },
    {
      "cell_type": "code",
      "metadata": {
        "id": "myhgteQhdqVi"
      },
      "source": [
        "df_total = df.copy()"
      ],
      "execution_count": 103,
      "outputs": []
    },
    {
      "cell_type": "code",
      "metadata": {
        "id": "0MfQNbWvfUkK"
      },
      "source": [
        "df_total.set_index('id', inplace=True)"
      ],
      "execution_count": 104,
      "outputs": []
    },
    {
      "cell_type": "code",
      "metadata": {
        "colab": {
          "base_uri": "https://localhost:8080/"
        },
        "id": "6730Oq3j-4w8",
        "outputId": "5d73a356-6f5b-4b17-dada-3e6f0da15535"
      },
      "source": [
        "df_total.columns"
      ],
      "execution_count": 105,
      "outputs": [
        {
          "output_type": "execute_result",
          "data": {
            "text/plain": [
              "Index(['cnae2', 'rf2', 'md1', 'md2', 'md3', 'md4', 'md5', 'md6', 'md7', 'md8',\n",
              "       'md9', 'md10', 'md11', 'md12', 'mc1', 'mc2', 'mc3', 'mc4', 'ind01',\n",
              "       'ind02', 'ind03', 'ind04', 'ind05', 'ind06', 'ind07', 'ind08', 'ind09',\n",
              "       'ind10', 'ind11', 'ind12', 'ind13', 'ind14', 'ind15', 'ind16', 'ind17',\n",
              "       'ind18', 'ind19', 'ind20', 'ind21', 'ind22', 'ind23', 'ind24', 'ind25',\n",
              "       'ind26', 'ind27', 'ind28', 'ind29', 'ind30', 'ind31', 'ind32', 'ind33',\n",
              "       'ind34', 'ind35', 'ind36', 'ind37', 'ind38', 'ind39', 'ind40', 'ind41',\n",
              "       'ind42', 'ind43', 'target', 'cnae_secao', 'ind_g1_mv', 'ind_g1',\n",
              "       'ind_g2_mv', 'ind_g2', 'mc_g1_mv', 'mc_g1', 'md1_o', 'md2_o', 'md3_o',\n",
              "       'md4_o', 'md5_o', 'md7_o', 'md8_o', 'md9_o', 'md10_o', 'md12_o',\n",
              "       'mc1_o', 'mc3_o', 'mc4_o'],\n",
              "      dtype='object')"
            ]
          },
          "metadata": {
            "tags": []
          },
          "execution_count": 105
        }
      ]
    },
    {
      "cell_type": "markdown",
      "metadata": {
        "id": "6LXKr9-R_JIK"
      },
      "source": [
        "Retirando algumas colunas para testar"
      ]
    },
    {
      "cell_type": "code",
      "metadata": {
        "id": "aVnISOiD-xRk"
      },
      "source": [
        "df_total.drop(columns = ['cnae2','md1', 'md2', 'md3', 'md4', 'md5', 'md6', 'md7', 'md8',\n",
        "       'md9', 'md10', 'md11', 'md12', 'mc1', 'mc2', 'mc3', 'mc4','ind01',\n",
        "       'ind02', 'ind03', 'ind04', 'ind05', 'ind06', 'ind07', 'ind08', 'ind09',\n",
        "       'ind10', 'ind11', 'ind12', 'ind13', 'ind14', 'ind15', 'ind16', 'ind17',\n",
        "       'ind18', 'ind19', 'ind20', 'ind21', 'ind22', 'ind23', 'ind24', 'ind25',\n",
        "       'ind26', 'ind27', 'ind28', 'ind29', 'ind30', 'ind31', 'ind32', 'ind33',\n",
        "       'ind34', 'ind35', 'ind36', 'ind37', 'ind38', 'ind39', 'ind40', 'ind41',\n",
        "       'ind42','mc_g1'], inplace = True)"
      ],
      "execution_count": 106,
      "outputs": []
    },
    {
      "cell_type": "code",
      "metadata": {
        "colab": {
          "base_uri": "https://localhost:8080/"
        },
        "id": "IHt2y_5IHtRH",
        "outputId": "413a62ba-8c0b-4a9f-9136-5914146940a0"
      },
      "source": [
        "df_total.columns"
      ],
      "execution_count": 107,
      "outputs": [
        {
          "output_type": "execute_result",
          "data": {
            "text/plain": [
              "Index(['rf2', 'ind43', 'target', 'cnae_secao', 'ind_g1_mv', 'ind_g1',\n",
              "       'ind_g2_mv', 'ind_g2', 'mc_g1_mv', 'md1_o', 'md2_o', 'md3_o', 'md4_o',\n",
              "       'md5_o', 'md7_o', 'md8_o', 'md9_o', 'md10_o', 'md12_o', 'mc1_o',\n",
              "       'mc3_o', 'mc4_o'],\n",
              "      dtype='object')"
            ]
          },
          "metadata": {
            "tags": []
          },
          "execution_count": 107
        }
      ]
    },
    {
      "cell_type": "markdown",
      "metadata": {
        "id": "e_0lkPsR_mFp"
      },
      "source": [
        "GET DUMMIES"
      ]
    },
    {
      "cell_type": "code",
      "metadata": {
        "id": "moTlPrJk5b0T"
      },
      "source": [
        "#df_total['cnae2'] = df_total['cnae2'].astype('category')"
      ],
      "execution_count": 108,
      "outputs": []
    },
    {
      "cell_type": "code",
      "metadata": {
        "id": "rN72uIGk_jMI"
      },
      "source": [
        "df_total = pd.get_dummies(df_total)"
      ],
      "execution_count": 109,
      "outputs": []
    },
    {
      "cell_type": "code",
      "metadata": {
        "id": "9gYa3Hy6lrZi"
      },
      "source": [
        "X_treino = df_total[df_total['target']!= 2]"
      ],
      "execution_count": 110,
      "outputs": []
    },
    {
      "cell_type": "code",
      "metadata": {
        "id": "KeckOXBrR_X6"
      },
      "source": [
        "df_X = X_treino.copy()"
      ],
      "execution_count": 111,
      "outputs": []
    },
    {
      "cell_type": "code",
      "metadata": {
        "id": "Q5tB1ey7eAe4"
      },
      "source": [
        "df_y = df_X['target']\n",
        "df_X = df_X.drop(columns= ['target'])"
      ],
      "execution_count": 112,
      "outputs": []
    },
    {
      "cell_type": "code",
      "metadata": {
        "id": "i8_BlpeteJow"
      },
      "source": [
        "X_test = df_total[df_total['target']== 2].drop(columns= ['target'])"
      ],
      "execution_count": 113,
      "outputs": []
    },
    {
      "cell_type": "markdown",
      "metadata": {
        "id": "qzWrM6VCSEoQ"
      },
      "source": [
        "Tratando o Balanceamento da Amostra"
      ]
    },
    {
      "cell_type": "code",
      "metadata": {
        "colab": {
          "base_uri": "https://localhost:8080/"
        },
        "id": "28lRhxtgRwEa",
        "outputId": "5f8d051a-1974-45f9-918d-d4661fba3447"
      },
      "source": [
        "qtd = Counter(X_treino['target'])\n",
        "qtd"
      ],
      "execution_count": 114,
      "outputs": [
        {
          "output_type": "execute_result",
          "data": {
            "text/plain": [
              "Counter({0: 8513, 1: 2520})"
            ]
          },
          "metadata": {
            "tags": []
          },
          "execution_count": 114
        }
      ]
    },
    {
      "cell_type": "code",
      "metadata": {
        "id": "0AZCDYSOSHLx"
      },
      "source": [
        "from imblearn.under_sampling import RandomUnderSampler\n",
        "from imblearn.pipeline import Pipeline"
      ],
      "execution_count": 115,
      "outputs": []
    },
    {
      "cell_type": "code",
      "metadata": {
        "id": "Z1FhuODySLSS"
      },
      "source": [
        "over = SMOTE(sampling_strategy = 0.5) # Reamostrar a classe minoritária para ter 10% da classe majoritária\n",
        "under = RandomUnderSampler(sampling_strategy = 0.7) # Seleciona a classe majoritária para ter 50%\n",
        "steps = [('over', over), ('under', under)]\n",
        "pipeline = Pipeline(steps = steps)"
      ],
      "execution_count": 116,
      "outputs": []
    },
    {
      "cell_type": "code",
      "metadata": {
        "colab": {
          "base_uri": "https://localhost:8080/"
        },
        "id": "dwkQt9AFSNLL",
        "outputId": "b73b28cd-05a9-4108-beaf-dea863bb6504"
      },
      "source": [
        "X, y = pipeline.fit_resample(df_X, df_y)"
      ],
      "execution_count": 117,
      "outputs": [
        {
          "output_type": "stream",
          "text": [
            "/usr/local/lib/python3.6/dist-packages/sklearn/utils/deprecation.py:87: FutureWarning: Function safe_indexing is deprecated; safe_indexing is deprecated in version 0.22 and will be removed in version 0.24.\n",
            "  warnings.warn(msg, category=FutureWarning)\n",
            "/usr/local/lib/python3.6/dist-packages/sklearn/utils/deprecation.py:87: FutureWarning: Function safe_indexing is deprecated; safe_indexing is deprecated in version 0.22 and will be removed in version 0.24.\n",
            "  warnings.warn(msg, category=FutureWarning)\n"
          ],
          "name": "stderr"
        }
      ]
    },
    {
      "cell_type": "markdown",
      "metadata": {
        "id": "m22vN2YrSWOr"
      },
      "source": [
        "ANTES/DEPOIS:"
      ]
    },
    {
      "cell_type": "code",
      "metadata": {
        "colab": {
          "base_uri": "https://localhost:8080/"
        },
        "id": "oLiFXdkqSVNz",
        "outputId": "7afb96c9-e015-44a8-d0cb-e178e0b794c7"
      },
      "source": [
        "print(Counter(df_y),Counter(y))"
      ],
      "execution_count": 118,
      "outputs": [
        {
          "output_type": "stream",
          "text": [
            "Counter({0: 8513, 1: 2520}) Counter({0: 6080, 1: 4256})\n"
          ],
          "name": "stdout"
        }
      ]
    },
    {
      "cell_type": "markdown",
      "metadata": {
        "id": "jJaJWuUqJCha"
      },
      "source": [
        "### 3. Definir as amostras de treinamento e validação"
      ]
    },
    {
      "cell_type": "markdown",
      "metadata": {
        "id": "LoO2iEimu4SQ"
      },
      "source": [
        "[**Python**] - Definir as amostras de treinamento e validação"
      ]
    },
    {
      "cell_type": "code",
      "metadata": {
        "id": "hTCdm-F9JBGA",
        "colab": {
          "base_uri": "https://localhost:8080/"
        },
        "outputId": "059c0cb7-90c3-4a69-c0b4-d8308e1699bc"
      },
      "source": [
        "from sklearn.model_selection import train_test_split\n",
        "\n",
        "X_treinamento, X_teste, y_treinamento, y_teste= train_test_split(X, y, test_size = 0.1, random_state = 22091980) #20111974)\n",
        "print(f'X: Treinamento=  {X_treinamento.shape}; X: Teste=  {X_teste.shape}')"
      ],
      "execution_count": 119,
      "outputs": [
        {
          "output_type": "stream",
          "text": [
            "X: Treinamento=  (9302, 48); X: Teste=  (1034, 48)\n"
          ],
          "name": "stdout"
        }
      ]
    },
    {
      "cell_type": "code",
      "metadata": {
        "id": "th9CsQpB8VDK",
        "colab": {
          "base_uri": "https://localhost:8080/"
        },
        "outputId": "7c09e559-e150-4a5c-f542-94d9fa076c29"
      },
      "source": [
        "print(f'Y: Treinamento =  {y_treinamento.shape}; Y: Teste = {y_teste.shape}')"
      ],
      "execution_count": 120,
      "outputs": [
        {
          "output_type": "stream",
          "text": [
            "Y: Treinamento =  (9302,); Y: Teste = (1034,)\n"
          ],
          "name": "stdout"
        }
      ]
    },
    {
      "cell_type": "markdown",
      "metadata": {
        "id": "2bL-vXiULupD"
      },
      "source": [
        "### 4. Definir a arquitetura da Rede Neural com _Tensorflow_/_Keras_"
      ]
    },
    {
      "cell_type": "markdown",
      "metadata": {
        "id": "zxETX6dTfyU5"
      },
      "source": [
        "[**Python**] - Definir a arquitetura, ou seja:\n",
        "* $N_{I}$: Número de neurônios na camada de entrada (_Input Layer_);\n",
        "* $N_{O}$: Número de neurônios na camada de saída (_Output Layer_);\n",
        "* $N_{H}$: Número de neurônios na camada escondida (_Hidden Layer_);\n",
        "* FA: Função de ativação;"
      ]
    },
    {
      "cell_type": "code",
      "metadata": {
        "id": "F_MdsLicfyU6"
      },
      "source": [
        "# Número de Neurônios na Input Layer:\n",
        "N_I = 48\n",
        "\n",
        "# Número de neurônios na Output Layer:\n",
        "N_O = 1\n",
        "\n",
        "# Número de neurônios na Hidden Layer:\n",
        "N_H = 400\n",
        "\n",
        "N_H2 = 200\n",
        "\n",
        "N_H3=100\n",
        "\n",
        "N_H4 = 50\n",
        "\n",
        "N_H5 = 20\n",
        "\n",
        "N_H6 = 2\n",
        "\n",
        "\n",
        "\n",
        "# Função de Ativação da Hidden Layer:\n",
        "FA_H = tf.nn.leaky_relu\n",
        "#FA_H = tf.keras.activations.swish\n",
        "\n",
        "# Função de Ativação da Output Layer:\n",
        "FA_O = tf.keras.activations.sigmoid\n",
        "\n",
        "\n"
      ],
      "execution_count": 126,
      "outputs": []
    },
    {
      "cell_type": "markdown",
      "metadata": {
        "id": "SUMmDuPCcYyB"
      },
      "source": [
        "[**Python**] - Definir as sementes para NumPy e Tensorflow:\n",
        "> Por questões de reproducibilidade de resultados, use as sementes abaixo:\n",
        "\n",
        "* NumPy: 20111974;\n",
        "* Tensorflow: 20111974;"
      ]
    },
    {
      "cell_type": "code",
      "metadata": {
        "id": "T-echOBmceVy"
      },
      "source": [
        "np.random.seed(19800922)\n",
        "tf.random.set_seed(22091980)"
      ],
      "execution_count": 127,
      "outputs": []
    },
    {
      "cell_type": "markdown",
      "metadata": {
        "id": "7ZceRRdinEM2"
      },
      "source": [
        "\n",
        "[**Python**] - Definir a Rede Neural:"
      ]
    },
    {
      "cell_type": "markdown",
      "metadata": {
        "id": "nXQsSYq2DBfI"
      },
      "source": [
        "\n",
        "\n",
        "\n",
        "\n",
        "* 1 camada _dropout_ com $p= 0.1$:"
      ]
    },
    {
      "cell_type": "code",
      "metadata": {
        "id": "TRFR5Kr_nDtD",
        "colab": {
          "base_uri": "https://localhost:8080/"
        },
        "outputId": "1179c2ca-e319-4d61-80f4-a68140c41ea8"
      },
      "source": [
        "from tensorflow.keras import Sequential\n",
        "from tensorflow.keras.layers import Dense\n",
        "from tensorflow.keras.layers import Dropout\n",
        "\n",
        "RN= Sequential()\n",
        "RN.add(Dense(N_H, input_dim= N_I, kernel_initializer= tf.keras.initializers.GlorotNormal(), activation= FA_H, kernel_constraint= tf.keras.constraints.UnitNorm()))\n",
        "RN.add(Dropout(0.1))\n",
        "RN.add(Dense(N_H2, kernel_initializer= tf.keras.initializers.GlorotNormal(), activation= FA_H, kernel_constraint= tf.keras.constraints.UnitNorm()))\n",
        "RN.add(Dropout(0.1))\n",
        "RN.add(Dense(N_H3, kernel_initializer= tf.keras.initializers.GlorotNormal(), activation= FA_H, kernel_constraint= tf.keras.constraints.UnitNorm()))\n",
        "RN.add(Dropout(0.1))\n",
        "RN.add(Dense(N_H4, kernel_initializer= tf.keras.initializers.GlorotNormal(), activation= FA_H, kernel_constraint= tf.keras.constraints.UnitNorm()))\n",
        "RN.add(Dropout(0.1))\n",
        "RN.add(Dense(N_H5, kernel_initializer= tf.keras.initializers.GlorotNormal(), activation= FA_H, kernel_constraint= tf.keras.constraints.UnitNorm()))\n",
        "RN.add(Dropout(0.1))\n",
        "RN.add(Dense(N_H6, kernel_initializer= tf.keras.initializers.GlorotNormal(), activation= FA_H, kernel_constraint= tf.keras.constraints.UnitNorm()))\n",
        "RN.add(Dropout(0.1))\n",
        "RN.add(Dense(units= N_O, activation= FA_O))\n",
        "\n",
        "# Resumo da arquitetura da Rede Neural\n",
        "print(RN.summary())"
      ],
      "execution_count": 128,
      "outputs": [
        {
          "output_type": "stream",
          "text": [
            "Model: \"sequential_6\"\n",
            "_________________________________________________________________\n",
            "Layer (type)                 Output Shape              Param #   \n",
            "=================================================================\n",
            "dense_42 (Dense)             (None, 400)               19600     \n",
            "_________________________________________________________________\n",
            "dropout_36 (Dropout)         (None, 400)               0         \n",
            "_________________________________________________________________\n",
            "dense_43 (Dense)             (None, 200)               80200     \n",
            "_________________________________________________________________\n",
            "dropout_37 (Dropout)         (None, 200)               0         \n",
            "_________________________________________________________________\n",
            "dense_44 (Dense)             (None, 100)               20100     \n",
            "_________________________________________________________________\n",
            "dropout_38 (Dropout)         (None, 100)               0         \n",
            "_________________________________________________________________\n",
            "dense_45 (Dense)             (None, 50)                5050      \n",
            "_________________________________________________________________\n",
            "dropout_39 (Dropout)         (None, 50)                0         \n",
            "_________________________________________________________________\n",
            "dense_46 (Dense)             (None, 20)                1020      \n",
            "_________________________________________________________________\n",
            "dropout_40 (Dropout)         (None, 20)                0         \n",
            "_________________________________________________________________\n",
            "dense_47 (Dense)             (None, 2)                 42        \n",
            "_________________________________________________________________\n",
            "dropout_41 (Dropout)         (None, 2)                 0         \n",
            "_________________________________________________________________\n",
            "dense_48 (Dense)             (None, 1)                 3         \n",
            "=================================================================\n",
            "Total params: 126,015\n",
            "Trainable params: 126,015\n",
            "Non-trainable params: 0\n",
            "_________________________________________________________________\n",
            "None\n"
          ],
          "name": "stdout"
        }
      ]
    },
    {
      "cell_type": "markdown",
      "metadata": {
        "id": "4JBZf4ypGO8o"
      },
      "source": [
        "### 5. Compilar a Rede Neural\n",
        "\n",
        "Este é um problema de classificação binária (_Male_ ou _Female_). Portanto, temos:\n",
        "* optimizer= tf.keras.optimizers.Adam();\n",
        "* loss=  tf.keras.losses.MeanSquaredError() ou loss= tf.keras.losses.BinaryCrossentropy(). Particularmente, eu gosto de usar loss=  tf.keras.losses.MeanSquaredError() porque o resultado é mais intuitivo;\n",
        "* metrics= tf.keras.metrics.binary_accuracy."
      ]
    },
    {
      "cell_type": "markdown",
      "metadata": {
        "id": "USmAuw6f00wL"
      },
      "source": [
        "[**Python**] - Comando modelo.compile(optimizer, loss, metrics):"
      ]
    },
    {
      "cell_type": "code",
      "metadata": {
        "id": "h7KEi1_e6SSF"
      },
      "source": [
        "\n",
        "Algoritmo_Opt = tf.keras.optimizers.Adamax()\n",
        "#Algoritmo_Opt = tf.keras.optimizers.Adam(learning_rate=0.01, beta_1=0.8, beta_2=0.99, epsilon=1e-07 , amsgrad=True,     name='Adam')\n",
        "Loss_Function = tf.keras.losses.MeanSquaredError()\n",
        "#Loss_Function = tf.keras.losses.BinaryCrossentropy()\n",
        "Metrics_Perf = tf.keras.metrics.binary_accuracy\n",
        "RN.compile(optimizer = Algoritmo_Opt, loss = Loss_Function,metrics = Metrics_Perf)\n",
        "#RN.compile( loss = Loss_Function,metrics = Metrics_Perf)"
      ],
      "execution_count": 129,
      "outputs": []
    },
    {
      "cell_type": "markdown",
      "metadata": {
        "id": "Hc90EeV_GojX"
      },
      "source": [
        "### 6. Ajustar a Rede Neural\n",
        "\n",
        "Obs.: A opção callbacks abaixo implementa o conceito de _early stopping_. Esta opção vai parar o processo de treinamento da Rede Neural antes de atingirmos o númerco de _epochs_ quando o modelo pára de melhorar, medido pela métrica val_loss. O parâmetro _patience_= k significa que o processo de otimização vai parar se tivermos k _epochs_ consecutivas sem observarmos melhoria da performance da Rede Neural."
      ]
    },
    {
      "cell_type": "markdown",
      "metadata": {
        "id": "XCCTtUh_vEFP"
      },
      "source": [
        "[**Python**] - Comando modelo.fit(X_treinamento, y_treinamento, epochs)"
      ]
    },
    {
      "cell_type": "code",
      "metadata": {
        "id": "EB91J6nrF0db",
        "colab": {
          "base_uri": "https://localhost:8080/"
        },
        "outputId": "7aeaa905-1e01-4c3f-bbf2-92c48c9e813d"
      },
      "source": [
        "callbacks = [tf.keras.callbacks.EarlyStopping(monitor = 'val_loss', patience = 20, min_delta = 0.001)]\n",
        "hist= RN.fit(X_treinamento, y_treinamento, epochs = 100, batch_size = 20,\n",
        "             validation_data = (X_teste, y_teste), callbacks = callbacks)"
      ],
      "execution_count": 130,
      "outputs": [
        {
          "output_type": "stream",
          "text": [
            "Epoch 1/100\n",
            "466/466 [==============================] - 2s 4ms/step - loss: 0.2227 - binary_accuracy: 0.6152 - val_loss: 0.2118 - val_binary_accuracy: 0.6306\n",
            "Epoch 2/100\n",
            "466/466 [==============================] - 2s 4ms/step - loss: 0.2136 - binary_accuracy: 0.6316 - val_loss: 0.2133 - val_binary_accuracy: 0.6393\n",
            "Epoch 3/100\n",
            "466/466 [==============================] - 2s 3ms/step - loss: 0.2125 - binary_accuracy: 0.6395 - val_loss: 0.2090 - val_binary_accuracy: 0.6431\n",
            "Epoch 4/100\n",
            "466/466 [==============================] - 2s 3ms/step - loss: 0.2107 - binary_accuracy: 0.6387 - val_loss: 0.2129 - val_binary_accuracy: 0.6441\n",
            "Epoch 5/100\n",
            "466/466 [==============================] - 2s 3ms/step - loss: 0.2082 - binary_accuracy: 0.6451 - val_loss: 0.2094 - val_binary_accuracy: 0.6528\n",
            "Epoch 6/100\n",
            "466/466 [==============================] - 2s 3ms/step - loss: 0.2083 - binary_accuracy: 0.6442 - val_loss: 0.2096 - val_binary_accuracy: 0.6441\n",
            "Epoch 7/100\n",
            "466/466 [==============================] - 2s 3ms/step - loss: 0.2065 - binary_accuracy: 0.6521 - val_loss: 0.2076 - val_binary_accuracy: 0.6441\n",
            "Epoch 8/100\n",
            "466/466 [==============================] - 2s 4ms/step - loss: 0.2049 - binary_accuracy: 0.6637 - val_loss: 0.2074 - val_binary_accuracy: 0.6576\n",
            "Epoch 9/100\n",
            "466/466 [==============================] - 2s 3ms/step - loss: 0.2040 - binary_accuracy: 0.6568 - val_loss: 0.2073 - val_binary_accuracy: 0.6557\n",
            "Epoch 10/100\n",
            "466/466 [==============================] - 2s 4ms/step - loss: 0.2009 - binary_accuracy: 0.6717 - val_loss: 0.2066 - val_binary_accuracy: 0.6596\n",
            "Epoch 11/100\n",
            "466/466 [==============================] - 2s 4ms/step - loss: 0.2011 - binary_accuracy: 0.6707 - val_loss: 0.2116 - val_binary_accuracy: 0.6576\n",
            "Epoch 12/100\n",
            "466/466 [==============================] - 2s 4ms/step - loss: 0.1998 - binary_accuracy: 0.6771 - val_loss: 0.2023 - val_binary_accuracy: 0.6663\n",
            "Epoch 13/100\n",
            "466/466 [==============================] - 2s 4ms/step - loss: 0.1984 - binary_accuracy: 0.6759 - val_loss: 0.2035 - val_binary_accuracy: 0.6692\n",
            "Epoch 14/100\n",
            "466/466 [==============================] - 2s 4ms/step - loss: 0.1961 - binary_accuracy: 0.6840 - val_loss: 0.2022 - val_binary_accuracy: 0.6692\n",
            "Epoch 15/100\n",
            "466/466 [==============================] - 2s 4ms/step - loss: 0.1954 - binary_accuracy: 0.6842 - val_loss: 0.1997 - val_binary_accuracy: 0.6692\n",
            "Epoch 16/100\n",
            "466/466 [==============================] - 2s 3ms/step - loss: 0.1939 - binary_accuracy: 0.6877 - val_loss: 0.2015 - val_binary_accuracy: 0.6779\n",
            "Epoch 17/100\n",
            "466/466 [==============================] - 2s 3ms/step - loss: 0.1922 - binary_accuracy: 0.6949 - val_loss: 0.2004 - val_binary_accuracy: 0.6702\n",
            "Epoch 18/100\n",
            "466/466 [==============================] - 2s 3ms/step - loss: 0.1898 - binary_accuracy: 0.6967 - val_loss: 0.2020 - val_binary_accuracy: 0.6838\n",
            "Epoch 19/100\n",
            "466/466 [==============================] - 2s 3ms/step - loss: 0.1900 - binary_accuracy: 0.6983 - val_loss: 0.1985 - val_binary_accuracy: 0.6915\n",
            "Epoch 20/100\n",
            "466/466 [==============================] - 2s 4ms/step - loss: 0.1891 - binary_accuracy: 0.7035 - val_loss: 0.2001 - val_binary_accuracy: 0.6770\n",
            "Epoch 21/100\n",
            "466/466 [==============================] - 2s 4ms/step - loss: 0.1869 - binary_accuracy: 0.7071 - val_loss: 0.2037 - val_binary_accuracy: 0.6596\n",
            "Epoch 22/100\n",
            "466/466 [==============================] - 2s 4ms/step - loss: 0.1850 - binary_accuracy: 0.7077 - val_loss: 0.1983 - val_binary_accuracy: 0.6779\n",
            "Epoch 23/100\n",
            "466/466 [==============================] - 2s 3ms/step - loss: 0.1839 - binary_accuracy: 0.7111 - val_loss: 0.1978 - val_binary_accuracy: 0.6770\n",
            "Epoch 24/100\n",
            "466/466 [==============================] - 2s 3ms/step - loss: 0.1832 - binary_accuracy: 0.7141 - val_loss: 0.2023 - val_binary_accuracy: 0.6702\n",
            "Epoch 25/100\n",
            "466/466 [==============================] - 2s 4ms/step - loss: 0.1832 - binary_accuracy: 0.7169 - val_loss: 0.1939 - val_binary_accuracy: 0.6905\n",
            "Epoch 26/100\n",
            "466/466 [==============================] - 2s 4ms/step - loss: 0.1810 - binary_accuracy: 0.7220 - val_loss: 0.1979 - val_binary_accuracy: 0.6847\n",
            "Epoch 27/100\n",
            "466/466 [==============================] - 2s 4ms/step - loss: 0.1804 - binary_accuracy: 0.7216 - val_loss: 0.1947 - val_binary_accuracy: 0.6809\n",
            "Epoch 28/100\n",
            "466/466 [==============================] - 2s 4ms/step - loss: 0.1783 - binary_accuracy: 0.7298 - val_loss: 0.2017 - val_binary_accuracy: 0.6702\n",
            "Epoch 29/100\n",
            "466/466 [==============================] - 2s 4ms/step - loss: 0.1762 - binary_accuracy: 0.7284 - val_loss: 0.1988 - val_binary_accuracy: 0.6847\n",
            "Epoch 30/100\n",
            "466/466 [==============================] - 2s 3ms/step - loss: 0.1744 - binary_accuracy: 0.7294 - val_loss: 0.1986 - val_binary_accuracy: 0.6838\n",
            "Epoch 31/100\n",
            "466/466 [==============================] - 2s 4ms/step - loss: 0.1742 - binary_accuracy: 0.7356 - val_loss: 0.1963 - val_binary_accuracy: 0.6915\n",
            "Epoch 32/100\n",
            "466/466 [==============================] - 2s 4ms/step - loss: 0.1734 - binary_accuracy: 0.7358 - val_loss: 0.1974 - val_binary_accuracy: 0.6992\n",
            "Epoch 33/100\n",
            "466/466 [==============================] - 2s 4ms/step - loss: 0.1730 - binary_accuracy: 0.7373 - val_loss: 0.1980 - val_binary_accuracy: 0.6954\n",
            "Epoch 34/100\n",
            "466/466 [==============================] - 2s 4ms/step - loss: 0.1721 - binary_accuracy: 0.7433 - val_loss: 0.1952 - val_binary_accuracy: 0.6925\n",
            "Epoch 35/100\n",
            "466/466 [==============================] - 2s 3ms/step - loss: 0.1696 - binary_accuracy: 0.7418 - val_loss: 0.2049 - val_binary_accuracy: 0.6838\n",
            "Epoch 36/100\n",
            "466/466 [==============================] - 2s 4ms/step - loss: 0.1704 - binary_accuracy: 0.7438 - val_loss: 0.1949 - val_binary_accuracy: 0.7002\n",
            "Epoch 37/100\n",
            "466/466 [==============================] - 2s 3ms/step - loss: 0.1704 - binary_accuracy: 0.7406 - val_loss: 0.1923 - val_binary_accuracy: 0.7050\n",
            "Epoch 38/100\n",
            "466/466 [==============================] - 2s 4ms/step - loss: 0.1682 - binary_accuracy: 0.7440 - val_loss: 0.1966 - val_binary_accuracy: 0.6847\n",
            "Epoch 39/100\n",
            "466/466 [==============================] - 2s 3ms/step - loss: 0.1671 - binary_accuracy: 0.7522 - val_loss: 0.1995 - val_binary_accuracy: 0.6799\n",
            "Epoch 40/100\n",
            "466/466 [==============================] - 2s 3ms/step - loss: 0.1663 - binary_accuracy: 0.7497 - val_loss: 0.1926 - val_binary_accuracy: 0.7244\n",
            "Epoch 41/100\n",
            "466/466 [==============================] - 2s 4ms/step - loss: 0.1633 - binary_accuracy: 0.7536 - val_loss: 0.1947 - val_binary_accuracy: 0.6973\n",
            "Epoch 42/100\n",
            "466/466 [==============================] - 2s 4ms/step - loss: 0.1612 - binary_accuracy: 0.7654 - val_loss: 0.1945 - val_binary_accuracy: 0.6847\n",
            "Epoch 43/100\n",
            "466/466 [==============================] - 2s 3ms/step - loss: 0.1602 - binary_accuracy: 0.7598 - val_loss: 0.1967 - val_binary_accuracy: 0.7070\n",
            "Epoch 44/100\n",
            "466/466 [==============================] - 2s 4ms/step - loss: 0.1609 - binary_accuracy: 0.7607 - val_loss: 0.1901 - val_binary_accuracy: 0.6992\n",
            "Epoch 45/100\n",
            "466/466 [==============================] - 2s 3ms/step - loss: 0.1601 - binary_accuracy: 0.7603 - val_loss: 0.1916 - val_binary_accuracy: 0.6954\n",
            "Epoch 46/100\n",
            "466/466 [==============================] - 2s 3ms/step - loss: 0.1590 - binary_accuracy: 0.7634 - val_loss: 0.1956 - val_binary_accuracy: 0.6983\n",
            "Epoch 47/100\n",
            "466/466 [==============================] - 2s 4ms/step - loss: 0.1594 - binary_accuracy: 0.7624 - val_loss: 0.1941 - val_binary_accuracy: 0.7002\n",
            "Epoch 48/100\n",
            "466/466 [==============================] - 2s 4ms/step - loss: 0.1585 - binary_accuracy: 0.7645 - val_loss: 0.1948 - val_binary_accuracy: 0.6944\n",
            "Epoch 49/100\n",
            "466/466 [==============================] - 2s 4ms/step - loss: 0.1556 - binary_accuracy: 0.7706 - val_loss: 0.1893 - val_binary_accuracy: 0.7099\n",
            "Epoch 50/100\n",
            "466/466 [==============================] - 2s 3ms/step - loss: 0.1567 - binary_accuracy: 0.7703 - val_loss: 0.1898 - val_binary_accuracy: 0.7108\n",
            "Epoch 51/100\n",
            "466/466 [==============================] - 2s 4ms/step - loss: 0.1542 - binary_accuracy: 0.7704 - val_loss: 0.1904 - val_binary_accuracy: 0.7060\n",
            "Epoch 52/100\n",
            "466/466 [==============================] - 2s 4ms/step - loss: 0.1531 - binary_accuracy: 0.7762 - val_loss: 0.1879 - val_binary_accuracy: 0.7205\n",
            "Epoch 53/100\n",
            "466/466 [==============================] - 2s 4ms/step - loss: 0.1545 - binary_accuracy: 0.7753 - val_loss: 0.1909 - val_binary_accuracy: 0.7234\n",
            "Epoch 54/100\n",
            "466/466 [==============================] - 2s 4ms/step - loss: 0.1549 - binary_accuracy: 0.7743 - val_loss: 0.1877 - val_binary_accuracy: 0.7070\n",
            "Epoch 55/100\n",
            "466/466 [==============================] - 2s 3ms/step - loss: 0.1550 - binary_accuracy: 0.7728 - val_loss: 0.1872 - val_binary_accuracy: 0.7205\n",
            "Epoch 56/100\n",
            "466/466 [==============================] - 2s 4ms/step - loss: 0.1491 - binary_accuracy: 0.7838 - val_loss: 0.1959 - val_binary_accuracy: 0.7050\n",
            "Epoch 57/100\n",
            "466/466 [==============================] - 2s 4ms/step - loss: 0.1487 - binary_accuracy: 0.7842 - val_loss: 0.1941 - val_binary_accuracy: 0.7060\n",
            "Epoch 58/100\n",
            "466/466 [==============================] - 2s 4ms/step - loss: 0.1483 - binary_accuracy: 0.7816 - val_loss: 0.1971 - val_binary_accuracy: 0.7060\n",
            "Epoch 59/100\n",
            "466/466 [==============================] - 2s 4ms/step - loss: 0.1507 - binary_accuracy: 0.7819 - val_loss: 0.1959 - val_binary_accuracy: 0.7021\n",
            "Epoch 60/100\n",
            "466/466 [==============================] - 2s 4ms/step - loss: 0.1469 - binary_accuracy: 0.7843 - val_loss: 0.1928 - val_binary_accuracy: 0.7021\n",
            "Epoch 61/100\n",
            "466/466 [==============================] - 2s 4ms/step - loss: 0.1456 - binary_accuracy: 0.7917 - val_loss: 0.1884 - val_binary_accuracy: 0.7263\n",
            "Epoch 62/100\n",
            "466/466 [==============================] - 2s 4ms/step - loss: 0.1468 - binary_accuracy: 0.7864 - val_loss: 0.1879 - val_binary_accuracy: 0.7360\n",
            "Epoch 63/100\n",
            "466/466 [==============================] - 2s 4ms/step - loss: 0.1468 - binary_accuracy: 0.7889 - val_loss: 0.1913 - val_binary_accuracy: 0.7137\n",
            "Epoch 64/100\n",
            "466/466 [==============================] - 2s 4ms/step - loss: 0.1467 - binary_accuracy: 0.7907 - val_loss: 0.1889 - val_binary_accuracy: 0.7176\n",
            "Epoch 65/100\n",
            "466/466 [==============================] - 2s 4ms/step - loss: 0.1432 - binary_accuracy: 0.7936 - val_loss: 0.1938 - val_binary_accuracy: 0.6944\n",
            "Epoch 66/100\n",
            "466/466 [==============================] - 2s 4ms/step - loss: 0.1440 - binary_accuracy: 0.7892 - val_loss: 0.1871 - val_binary_accuracy: 0.7398\n",
            "Epoch 67/100\n",
            "466/466 [==============================] - 2s 4ms/step - loss: 0.1416 - binary_accuracy: 0.7972 - val_loss: 0.1903 - val_binary_accuracy: 0.7234\n",
            "Epoch 68/100\n",
            "466/466 [==============================] - 2s 3ms/step - loss: 0.1427 - binary_accuracy: 0.7938 - val_loss: 0.1947 - val_binary_accuracy: 0.7021\n",
            "Epoch 69/100\n",
            "466/466 [==============================] - 2s 3ms/step - loss: 0.1405 - binary_accuracy: 0.7990 - val_loss: 0.1915 - val_binary_accuracy: 0.7070\n",
            "Epoch 70/100\n",
            "466/466 [==============================] - 2s 3ms/step - loss: 0.1419 - binary_accuracy: 0.7997 - val_loss: 0.1919 - val_binary_accuracy: 0.7108\n",
            "Epoch 71/100\n",
            "466/466 [==============================] - 2s 4ms/step - loss: 0.1402 - binary_accuracy: 0.7996 - val_loss: 0.1857 - val_binary_accuracy: 0.7398\n",
            "Epoch 72/100\n",
            "466/466 [==============================] - 2s 4ms/step - loss: 0.1395 - binary_accuracy: 0.8006 - val_loss: 0.1991 - val_binary_accuracy: 0.6944\n",
            "Epoch 73/100\n",
            "466/466 [==============================] - 2s 4ms/step - loss: 0.1425 - binary_accuracy: 0.7940 - val_loss: 0.1890 - val_binary_accuracy: 0.7379\n",
            "Epoch 74/100\n",
            "466/466 [==============================] - 2s 3ms/step - loss: 0.1391 - binary_accuracy: 0.8028 - val_loss: 0.1920 - val_binary_accuracy: 0.7128\n",
            "Epoch 75/100\n",
            "466/466 [==============================] - 2s 4ms/step - loss: 0.1377 - binary_accuracy: 0.8034 - val_loss: 0.1889 - val_binary_accuracy: 0.7137\n",
            "Epoch 76/100\n",
            "466/466 [==============================] - 3s 7ms/step - loss: 0.1376 - binary_accuracy: 0.8007 - val_loss: 0.1888 - val_binary_accuracy: 0.7176\n",
            "Epoch 77/100\n",
            "466/466 [==============================] - 3s 7ms/step - loss: 0.1365 - binary_accuracy: 0.8048 - val_loss: 0.1929 - val_binary_accuracy: 0.7186\n",
            "Epoch 78/100\n",
            "466/466 [==============================] - 3s 7ms/step - loss: 0.1383 - binary_accuracy: 0.8037 - val_loss: 0.1976 - val_binary_accuracy: 0.7176\n",
            "Epoch 79/100\n",
            "466/466 [==============================] - 3s 6ms/step - loss: 0.1374 - binary_accuracy: 0.8004 - val_loss: 0.1970 - val_binary_accuracy: 0.7041\n",
            "Epoch 80/100\n",
            "466/466 [==============================] - 2s 4ms/step - loss: 0.1350 - binary_accuracy: 0.8076 - val_loss: 0.1855 - val_binary_accuracy: 0.7292\n",
            "Epoch 81/100\n",
            "466/466 [==============================] - 2s 4ms/step - loss: 0.1362 - binary_accuracy: 0.8074 - val_loss: 0.1932 - val_binary_accuracy: 0.7050\n",
            "Epoch 82/100\n",
            "466/466 [==============================] - 2s 4ms/step - loss: 0.1335 - binary_accuracy: 0.8084 - val_loss: 0.1938 - val_binary_accuracy: 0.7340\n",
            "Epoch 83/100\n",
            "466/466 [==============================] - 2s 4ms/step - loss: 0.1349 - binary_accuracy: 0.8053 - val_loss: 0.1896 - val_binary_accuracy: 0.7224\n",
            "Epoch 84/100\n",
            "466/466 [==============================] - 2s 4ms/step - loss: 0.1348 - binary_accuracy: 0.8094 - val_loss: 0.1865 - val_binary_accuracy: 0.7234\n",
            "Epoch 85/100\n",
            "466/466 [==============================] - 2s 4ms/step - loss: 0.1316 - binary_accuracy: 0.8153 - val_loss: 0.1881 - val_binary_accuracy: 0.7215\n",
            "Epoch 86/100\n",
            "466/466 [==============================] - 2s 4ms/step - loss: 0.1329 - binary_accuracy: 0.8112 - val_loss: 0.1865 - val_binary_accuracy: 0.7398\n",
            "Epoch 87/100\n",
            "466/466 [==============================] - 2s 4ms/step - loss: 0.1311 - binary_accuracy: 0.8168 - val_loss: 0.1876 - val_binary_accuracy: 0.7340\n",
            "Epoch 88/100\n",
            "466/466 [==============================] - 2s 4ms/step - loss: 0.1289 - binary_accuracy: 0.8156 - val_loss: 0.1943 - val_binary_accuracy: 0.7128\n",
            "Epoch 89/100\n",
            "466/466 [==============================] - 2s 4ms/step - loss: 0.1306 - binary_accuracy: 0.8098 - val_loss: 0.1947 - val_binary_accuracy: 0.7244\n",
            "Epoch 90/100\n",
            "466/466 [==============================] - 2s 3ms/step - loss: 0.1305 - binary_accuracy: 0.8138 - val_loss: 0.1847 - val_binary_accuracy: 0.7292\n",
            "Epoch 91/100\n",
            "466/466 [==============================] - 2s 4ms/step - loss: 0.1290 - binary_accuracy: 0.8163 - val_loss: 0.1938 - val_binary_accuracy: 0.7157\n",
            "Epoch 92/100\n",
            "466/466 [==============================] - 2s 4ms/step - loss: 0.1274 - binary_accuracy: 0.8197 - val_loss: 0.1900 - val_binary_accuracy: 0.7224\n",
            "Epoch 93/100\n",
            "466/466 [==============================] - 2s 3ms/step - loss: 0.1289 - binary_accuracy: 0.8170 - val_loss: 0.1964 - val_binary_accuracy: 0.7108\n",
            "Epoch 94/100\n",
            "466/466 [==============================] - 2s 4ms/step - loss: 0.1272 - binary_accuracy: 0.8200 - val_loss: 0.1910 - val_binary_accuracy: 0.7350\n",
            "Epoch 95/100\n",
            "466/466 [==============================] - 2s 4ms/step - loss: 0.1261 - binary_accuracy: 0.8212 - val_loss: 0.2023 - val_binary_accuracy: 0.7002\n",
            "Epoch 96/100\n",
            "466/466 [==============================] - 2s 4ms/step - loss: 0.1258 - binary_accuracy: 0.8234 - val_loss: 0.1925 - val_binary_accuracy: 0.7321\n",
            "Epoch 97/100\n",
            "466/466 [==============================] - 2s 4ms/step - loss: 0.1270 - binary_accuracy: 0.8192 - val_loss: 0.1924 - val_binary_accuracy: 0.7205\n",
            "Epoch 98/100\n",
            "466/466 [==============================] - 2s 4ms/step - loss: 0.1270 - binary_accuracy: 0.8178 - val_loss: 0.1910 - val_binary_accuracy: 0.7311\n",
            "Epoch 99/100\n",
            "466/466 [==============================] - 2s 4ms/step - loss: 0.1255 - binary_accuracy: 0.8222 - val_loss: 0.1933 - val_binary_accuracy: 0.7234\n",
            "Epoch 100/100\n",
            "466/466 [==============================] - 2s 4ms/step - loss: 0.1252 - binary_accuracy: 0.8235 - val_loss: 0.1863 - val_binary_accuracy: 0.7263\n"
          ],
          "name": "stdout"
        }
      ]
    },
    {
      "cell_type": "markdown",
      "metadata": {
        "id": "J1sL_DTrKmpq"
      },
      "source": [
        "### 7. Avaliar a performance da Rede Neural\n",
        "\n",
        "Para avaliar a a Rede Neural, simplesmente informamos as amostras de teste: X_teste e y_teste. A função evaluate() vai retornar uma lista contendo 2 valores: loss e accuracy."
      ]
    },
    {
      "cell_type": "markdown",
      "metadata": {
        "id": "VckQfEFPvMa7"
      },
      "source": [
        "[**Python**] - Comando modelo.evaluate(X_teste, y_teste)"
      ]
    },
    {
      "cell_type": "code",
      "metadata": {
        "id": "veeKG78w4hWh"
      },
      "source": [
        "def Mostra_ConfusionMatrix(X,y):\n",
        "    y_pred = RN.predict_classes(X)\n",
        "    mc = confusion_matrix(y, y_pred)\n",
        "    #sns.heatmap(mc,annot=True, annot_kws={\"size\": 10},fmt=\"d\")\n",
        "    sns.heatmap(mc/np.sum(mc), annot=True, annot_kws={\"size\": 10}, fmt='.2%', cmap='Blues')"
      ],
      "execution_count": 82,
      "outputs": []
    },
    {
      "cell_type": "code",
      "metadata": {
        "colab": {
          "base_uri": "https://localhost:8080/"
        },
        "id": "XUJL6Y6A4hWh",
        "outputId": "5c9f2504-afb8-4217-98dd-a7a2f8738c11"
      },
      "source": [
        "RN.evaluate(X_teste, y_teste)"
      ],
      "execution_count": 131,
      "outputs": [
        {
          "output_type": "stream",
          "text": [
            "33/33 [==============================] - 0s 1ms/step - loss: 0.1863 - binary_accuracy: 0.7263\n"
          ],
          "name": "stdout"
        },
        {
          "output_type": "execute_result",
          "data": {
            "text/plain": [
              "[0.18627391755580902, 0.7263056039810181]"
            ]
          },
          "metadata": {
            "tags": []
          },
          "execution_count": 131
        }
      ]
    },
    {
      "cell_type": "code",
      "metadata": {
        "colab": {
          "base_uri": "https://localhost:8080/"
        },
        "id": "g3KRG1fN4hWi",
        "outputId": "866da1ce-1ee8-47eb-9d5d-bad3e718a4a9"
      },
      "source": [
        "F1_Test=f1_score(y_teste, RN.predict_classes(X_teste), average=\"macro\")\n",
        "print(f'F1: {F1_Test}')"
      ],
      "execution_count": 132,
      "outputs": [
        {
          "output_type": "stream",
          "text": [
            "F1: 0.7198467793897025\n"
          ],
          "name": "stdout"
        }
      ]
    },
    {
      "cell_type": "code",
      "metadata": {
        "id": "HSC6yxs9VONq",
        "colab": {
          "base_uri": "https://localhost:8080/",
          "height": 265
        },
        "outputId": "922451d4-d27d-4696-a84f-3d2d3ea1e725"
      },
      "source": [
        "Mostra_ConfusionMatrix(X_teste, y_teste)"
      ],
      "execution_count": 133,
      "outputs": [
        {
          "output_type": "display_data",
          "data": {
            "image/png": "[encoded data removed]",
            "text/plain": [
              "<Figure size 432x288 with 2 Axes>"
            ]
          },
          "metadata": {
            "tags": [],
            "needs_background": "light"
          }
        }
      ]
    },
    {
      "cell_type": "code",
      "metadata": {
        "colab": {
          "base_uri": "https://localhost:8080/"
        },
        "id": "vdDUMlaT4hWi",
        "outputId": "11c688b0-333a-4067-b628-35b77506112f"
      },
      "source": [
        "RN.evaluate(df_X, df_y)"
      ],
      "execution_count": 134,
      "outputs": [
        {
          "output_type": "stream",
          "text": [
            "345/345 [==============================] - 1s 2ms/step - loss: 0.1177 - binary_accuracy: 0.8252\n"
          ],
          "name": "stdout"
        },
        {
          "output_type": "execute_result",
          "data": {
            "text/plain": [
              "[0.1176588386297226, 0.8251608610153198]"
            ]
          },
          "metadata": {
            "tags": []
          },
          "execution_count": 134
        }
      ]
    },
    {
      "cell_type": "code",
      "metadata": {
        "colab": {
          "base_uri": "https://localhost:8080/"
        },
        "id": "NbBX0xLW4hWi",
        "outputId": "4cd8b316-b55b-4202-f441-c60a2c57614d"
      },
      "source": [
        "F1_X=f1_score(y, RN.predict_classes(X), average=\"macro\")\n",
        "print(f'F1: {F1_X}')"
      ],
      "execution_count": 135,
      "outputs": [
        {
          "output_type": "stream",
          "text": [
            "F1: 0.8657025463139703\n"
          ],
          "name": "stdout"
        }
      ]
    },
    {
      "cell_type": "code",
      "metadata": {
        "id": "uKMi5mUMVWdR",
        "colab": {
          "base_uri": "https://localhost:8080/",
          "height": 265
        },
        "outputId": "70150826-2a66-49b3-d539-4db3f864cb2f"
      },
      "source": [
        "Mostra_ConfusionMatrix(df_X, df_y)"
      ],
      "execution_count": 136,
      "outputs": [
        {
          "output_type": "display_data",
          "data": {
            "image/png": "[encoded data removed]",
            "text/plain": [
              "<Figure size 432x288 with 2 Axes>"
            ]
          },
          "metadata": {
            "tags": [],
            "needs_background": "light"
          }
        }
      ]
    },
    {
      "cell_type": "code",
      "metadata": {
        "colab": {
          "base_uri": "https://localhost:8080/"
        },
        "id": "X1V4oO0R4hWi",
        "outputId": "77ab5f2a-1542-46ac-a4e9-d596f84e4d4f"
      },
      "source": [
        "RN.evaluate(X_treinamento, y_treinamento)"
      ],
      "execution_count": 137,
      "outputs": [
        {
          "output_type": "stream",
          "text": [
            "291/291 [==============================] - 0s 1ms/step - loss: 0.0927 - binary_accuracy: 0.8844\n"
          ],
          "name": "stdout"
        },
        {
          "output_type": "execute_result",
          "data": {
            "text/plain": [
              "[0.09266041219234467, 0.8844334483146667]"
            ]
          },
          "metadata": {
            "tags": []
          },
          "execution_count": 137
        }
      ]
    },
    {
      "cell_type": "code",
      "metadata": {
        "colab": {
          "base_uri": "https://localhost:8080/"
        },
        "id": "g7cCtosc4hWi",
        "outputId": "f72fdd2d-acea-4c3e-98c4-0dde40437dfd"
      },
      "source": [
        "F1_Trein=f1_score(y_treinamento, RN.predict_classes(X_treinamento), average=\"macro\")\n",
        "print(f'F1: {F1_Trein}')"
      ],
      "execution_count": 138,
      "outputs": [
        {
          "output_type": "stream",
          "text": [
            "F1: 0.8818901483475045\n"
          ],
          "name": "stdout"
        }
      ]
    },
    {
      "cell_type": "code",
      "metadata": {
        "colab": {
          "base_uri": "https://localhost:8080/",
          "height": 265
        },
        "id": "N89YhXgS4hWj",
        "outputId": "d5048287-e980-4e56-af4b-6fe57c476741"
      },
      "source": [
        "Mostra_ConfusionMatrix(X_treinamento, y_treinamento)"
      ],
      "execution_count": 139,
      "outputs": [
        {
          "output_type": "display_data",
          "data": {
            "image/png": "[encoded data removed]",
            "text/plain": [
              "<Figure size 432x288 with 2 Axes>"
            ]
          },
          "metadata": {
            "tags": [],
            "needs_background": "light"
          }
        }
      ]
    },
    {
      "cell_type": "markdown",
      "metadata": {
        "id": "D5zYHcGuMPZe"
      },
      "source": [
        "### 8. _Fine tuning_ da Rede Neural\n",
        "\n",
        "Para aumentar a acurácia da Rede Neural, sugiro aumentarmos o número de neurônios na _Hidden Layer_ e/ou aumentar o número de _Hidden Layers_.\n",
        "\n",
        "No entanto, obtivemos uma acurácia razoável com a Rede Neural _baseline_. Portanto, deixo como exercício para os alunos o desafio de melhorar a acurácia desta Rede Neural."
      ]
    },
    {
      "cell_type": "markdown",
      "metadata": {
        "id": "_ISodOu-Kmp3"
      },
      "source": [
        "### 9. Fazer Predições com a Rede Neural"
      ]
    },
    {
      "cell_type": "markdown",
      "metadata": {
        "id": "_xgdL1W4vUrN"
      },
      "source": [
        "[**Python**] - Comando:\n",
        "* RN.predict_classes(X_treinamento);\n",
        "* RN.predict_classes(X_teste)."
      ]
    },
    {
      "cell_type": "code",
      "metadata": {
        "id": "kqy2rt3YfPiy"
      },
      "source": [
        "y_test = RN.predict_classes(X_test)\n"
      ],
      "execution_count": 140,
      "outputs": []
    },
    {
      "cell_type": "code",
      "metadata": {
        "id": "_C_u02mygKgt"
      },
      "source": [
        "df_submit = pd.concat([pd.DataFrame(X_test.index,columns=['id']),pd.DataFrame(y_test,columns=['target']).astype('boolean')],axis=1)\n",
        "\n"
      ],
      "execution_count": 141,
      "outputs": []
    },
    {
      "cell_type": "code",
      "metadata": {
        "colab": {
          "base_uri": "https://localhost:8080/",
          "height": 407
        },
        "id": "k-GLGzuem3cV",
        "outputId": "01d7deab-8d44-4a04-85f5-83ce39cbc801"
      },
      "source": [
        "df_submit"
      ],
      "execution_count": 142,
      "outputs": [
        {
          "output_type": "execute_result",
          "data": {
            "text/html": [
              "<div>\n",
              "<style scoped>\n",
              "    .dataframe tbody tr th:only-of-type {\n",
              "        vertical-align: middle;\n",
              "    }\n",
              "\n",
              "    .dataframe tbody tr th {\n",
              "        vertical-align: top;\n",
              "    }\n",
              "\n",
              "    .dataframe thead th {\n",
              "        text-align: right;\n",
              "    }\n",
              "</style>\n",
              "<table border=\"1\" class=\"dataframe\">\n",
              "  <thead>\n",
              "    <tr style=\"text-align: right;\">\n",
              "      <th></th>\n",
              "      <th>id</th>\n",
              "      <th>target</th>\n",
              "    </tr>\n",
              "  </thead>\n",
              "  <tbody>\n",
              "    <tr>\n",
              "      <th>0</th>\n",
              "      <td>3411</td>\n",
              "      <td>False</td>\n",
              "    </tr>\n",
              "    <tr>\n",
              "      <th>1</th>\n",
              "      <td>2177</td>\n",
              "      <td>False</td>\n",
              "    </tr>\n",
              "    <tr>\n",
              "      <th>2</th>\n",
              "      <td>8400</td>\n",
              "      <td>True</td>\n",
              "    </tr>\n",
              "    <tr>\n",
              "      <th>3</th>\n",
              "      <td>464</td>\n",
              "      <td>True</td>\n",
              "    </tr>\n",
              "    <tr>\n",
              "      <th>4</th>\n",
              "      <td>6672</td>\n",
              "      <td>False</td>\n",
              "    </tr>\n",
              "    <tr>\n",
              "      <th>...</th>\n",
              "      <td>...</td>\n",
              "      <td>...</td>\n",
              "    </tr>\n",
              "    <tr>\n",
              "      <th>995</th>\n",
              "      <td>8609</td>\n",
              "      <td>False</td>\n",
              "    </tr>\n",
              "    <tr>\n",
              "      <th>996</th>\n",
              "      <td>3384</td>\n",
              "      <td>False</td>\n",
              "    </tr>\n",
              "    <tr>\n",
              "      <th>997</th>\n",
              "      <td>8297</td>\n",
              "      <td>False</td>\n",
              "    </tr>\n",
              "    <tr>\n",
              "      <th>998</th>\n",
              "      <td>7556</td>\n",
              "      <td>False</td>\n",
              "    </tr>\n",
              "    <tr>\n",
              "      <th>999</th>\n",
              "      <td>8582</td>\n",
              "      <td>False</td>\n",
              "    </tr>\n",
              "  </tbody>\n",
              "</table>\n",
              "<p>1000 rows × 2 columns</p>\n",
              "</div>"
            ],
            "text/plain": [
              "       id  target\n",
              "0    3411   False\n",
              "1    2177   False\n",
              "2    8400    True\n",
              "3     464    True\n",
              "4    6672   False\n",
              "..    ...     ...\n",
              "995  8609   False\n",
              "996  3384   False\n",
              "997  8297   False\n",
              "998  7556   False\n",
              "999  8582   False\n",
              "\n",
              "[1000 rows x 2 columns]"
            ]
          },
          "metadata": {
            "tags": []
          },
          "execution_count": 142
        }
      ]
    },
    {
      "cell_type": "code",
      "metadata": {
        "id": "JU_6XlFRgPL2",
        "colab": {
          "base_uri": "https://localhost:8080/"
        },
        "outputId": "e97a7ce7-3a31-4c18-ef67-3d40a9e6c4ce"
      },
      "source": [
        "df_submit['target'].value_counts()"
      ],
      "execution_count": 143,
      "outputs": [
        {
          "output_type": "execute_result",
          "data": {
            "text/plain": [
              "False    657\n",
              "True     343\n",
              "Name: target, dtype: Int64"
            ]
          },
          "metadata": {
            "tags": []
          },
          "execution_count": 143
        }
      ]
    },
    {
      "cell_type": "code",
      "metadata": {
        "id": "XhnvrX4E65vY"
      },
      "source": [
        "F = df_submit['target'].value_counts()[0]\n",
        "T = df_submit['target'].value_counts()[1]"
      ],
      "execution_count": 144,
      "outputs": []
    },
    {
      "cell_type": "code",
      "metadata": {
        "id": "wB_47tDG60uC"
      },
      "source": [
        "df_submit.to_csv(f'/PyLadies_NL_77_Test_{round(F1_Test,4)}_X_{round(F1_X,4)}_Trein_{round(F1_Trein,4)}_F{F}_T{T}.csv',index = False, sep = ',')"
      ],
      "execution_count": 145,
      "outputs": []
    },
    {
      "cell_type": "markdown",
      "metadata": {
        "id": "NpufntZjyH8T"
      },
      "source": [
        "### Salvar a Rede Neural"
      ]
    },
    {
      "cell_type": "code",
      "metadata": {
        "id": "ZKqn0leTyLOy"
      },
      "source": [
        "# Save the weights\n",
        "RN.save('/RN_77.h5')"
      ],
      "execution_count": 146,
      "outputs": []
    },
    {
      "cell_type": "code",
      "metadata": {
        "id": "viORp6XjrC66"
      },
      "source": [
        ""
      ],
      "execution_count": null,
      "outputs": []
    }
  ]
}