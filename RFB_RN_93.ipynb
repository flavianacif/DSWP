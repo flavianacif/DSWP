{
  "nbformat": 4,
  "nbformat_minor": 0,
  "metadata": {
    "colab": {
      "name": "Untitled5.ipynb",
      "provenance": [],
      "toc_visible": true,
      "authorship_tag": "ABX9TyPPF7pRhuP2Ub5uooRHW2aq",
      "include_colab_link": true
    },
    "kernelspec": {
      "name": "python3",
      "display_name": "Python 3"
    }
  },
  "cells": [
    {
      "cell_type": "markdown",
      "metadata": {
        "id": "view-in-github",
        "colab_type": "text"
      },
      "source": [
        "<a href=\"https://colab.research.google.com/github/flavianacif/DSWP/blob/master/RFB_RN_93.ipynb\" target=\"_parent\"><img src=\"https://colab.research.google.com/assets/colab-badge.svg\" alt=\"Open In Colab\"/></a>"
      ]
    },
    {
      "cell_type": "code",
      "metadata": {
        "id": "j0_YZ6IURZE_",
        "colab": {
          "base_uri": "https://localhost:8080/"
        },
        "outputId": "b9deb3ef-15e5-4c31-9479-3d44fd18fe90"
      },
      "source": [
        "\n",
        "import tensorflow as tf\n",
        "import numpy as np\n",
        "import pandas as pd\n",
        "import matplotlib.pyplot as plt\n",
        "import seaborn as sns\n",
        "from sklearn.metrics import confusion_matrix\n",
        "import tensorflow_addons as tfa\n",
        "from tensorflow import keras\n",
        "from sklearn.metrics import accuracy_score, f1_score, precision_score, recall_score, classification_report, confusion_matrix\n",
        "from collections import Counter\n",
        "from imblearn.over_sampling import SMOTE\n"
      ],
      "execution_count": 1,
      "outputs": [
        {
          "output_type": "stream",
          "text": [
            "/usr/local/lib/python3.6/dist-packages/sklearn/externals/six.py:31: FutureWarning: The module is deprecated in version 0.21 and will be removed in version 0.23 since we've dropped support for Python 2.7. Please rely on the official version of six (https://pypi.org/project/six/).\n",
            "  \"(https://pypi.org/project/six/).\", FutureWarning)\n",
            "/usr/local/lib/python3.6/dist-packages/sklearn/utils/deprecation.py:144: FutureWarning: The sklearn.neighbors.base module is  deprecated in version 0.22 and will be removed in version 0.24. The corresponding classes / functions should instead be imported from sklearn.neighbors. Anything that cannot be imported from sklearn.neighbors is now part of the private API.\n",
            "  warnings.warn(message, FutureWarning)\n"
          ],
          "name": "stderr"
        }
      ]
    },
    {
      "cell_type": "markdown",
      "metadata": {
        "id": "9ZX00UN5cjvM"
      },
      "source": [
        "[**Python**] - Verificar a versão do Tensorflow\n",
        "> Assegurar que está a utilizar a versão 2.x."
      ]
    },
    {
      "cell_type": "code",
      "metadata": {
        "id": "THWNIk_FCe_g",
        "colab": {
          "base_uri": "https://localhost:8080/",
          "height": 35
        },
        "outputId": "ef203403-88cd-41d9-8671-3d56432afe1c"
      },
      "source": [
        "tf.__version__"
      ],
      "execution_count": 2,
      "outputs": [
        {
          "output_type": "execute_result",
          "data": {
            "application/vnd.google.colaboratory.intrinsic+json": {
              "type": "string"
            },
            "text/plain": [
              "'2.3.0'"
            ]
          },
          "metadata": {
            "tags": []
          },
          "execution_count": 2
        }
      ]
    },
    {
      "cell_type": "markdown",
      "metadata": {
        "id": "PZgQAKqLcLX3"
      },
      "source": [
        "[**Python**] - Definir o número de casas decimais"
      ]
    },
    {
      "cell_type": "code",
      "metadata": {
        "id": "tzKor02BCe_d"
      },
      "source": [
        "np.set_printoptions(precision= 3)"
      ],
      "execution_count": 3,
      "outputs": []
    },
    {
      "cell_type": "markdown",
      "metadata": {
        "id": "M5V4KopjLWOL"
      },
      "source": [
        "### 1. Carregar os dados"
      ]
    },
    {
      "cell_type": "markdown",
      "metadata": {
        "id": "V_cwAUW3tseE"
      },
      "source": [
        "[**Python**] - Carregar os dados:"
      ]
    },
    {
      "cell_type": "code",
      "metadata": {
        "id": "_Bs87IWPtwtm"
      },
      "source": [
        "# Leitura do dataframe:\n",
        "df = pd.read_csv('/total_10.csv')"
      ],
      "execution_count": 4,
      "outputs": []
    },
    {
      "cell_type": "code",
      "metadata": {
        "id": "myhgteQhdqVi"
      },
      "source": [
        "df_total = df.copy()"
      ],
      "execution_count": 175,
      "outputs": []
    },
    {
      "cell_type": "code",
      "metadata": {
        "id": "0MfQNbWvfUkK"
      },
      "source": [
        "df_total.set_index('id', inplace=True)"
      ],
      "execution_count": 176,
      "outputs": []
    },
    {
      "cell_type": "code",
      "metadata": {
        "colab": {
          "base_uri": "https://localhost:8080/"
        },
        "id": "6730Oq3j-4w8",
        "outputId": "b928b7ad-9b75-44e4-ea2a-72ce632c4746"
      },
      "source": [
        "df_total.columns"
      ],
      "execution_count": 177,
      "outputs": [
        {
          "output_type": "execute_result",
          "data": {
            "text/plain": [
              "Index(['cnae2', 'rf2', 'md1', 'md2', 'md3', 'md4', 'md5', 'md6', 'md7', 'md8',\n",
              "       'md9', 'md10', 'md11', 'md12', 'mc1', 'mc2', 'mc3', 'mc4', 'ind01',\n",
              "       'ind02', 'ind03', 'ind04', 'ind05', 'ind06', 'ind07', 'ind08', 'ind09',\n",
              "       'ind10', 'ind11', 'ind12', 'ind13', 'ind14', 'ind15', 'ind16', 'ind17',\n",
              "       'ind18', 'ind19', 'ind20', 'ind21', 'ind22', 'ind23', 'ind24', 'ind25',\n",
              "       'ind26', 'ind27', 'ind28', 'ind29', 'ind30', 'ind31', 'ind32', 'ind33',\n",
              "       'ind34', 'ind35', 'ind36', 'ind37', 'ind38', 'ind39', 'ind40', 'ind41',\n",
              "       'ind42', 'ind43', 'target', 'cnae_secao', 'ind_g1_mv', 'ind_g1',\n",
              "       'ind_g2_mv', 'ind_g2', 'mc_g1_mv', 'mc_g1', 'md1_o', 'md2_o', 'md3_o',\n",
              "       'md4_o', 'md5_o', 'md7_o', 'md8_o', 'md9_o', 'md10_o', 'md12_o',\n",
              "       'mc1_o', 'mc3_o', 'mc4_o'],\n",
              "      dtype='object')"
            ]
          },
          "metadata": {
            "tags": []
          },
          "execution_count": 177
        }
      ]
    },
    {
      "cell_type": "markdown",
      "metadata": {
        "id": "6LXKr9-R_JIK"
      },
      "source": [
        "Retirando algumas colunas para testar"
      ]
    },
    {
      "cell_type": "code",
      "metadata": {
        "id": "aVnISOiD-xRk"
      },
      "source": [
        "df_total.drop(columns = ['rf2','cnae2','md1', 'md2', 'md3', 'md4', 'md5', 'md6', 'md7', 'md8',\n",
        "       'md9', 'md10', 'md11', 'md12', 'mc1', 'mc2', 'mc3', 'mc4','mc_g1','ind_g1',\n",
        "       'ind_g2'], inplace = True)"
      ],
      "execution_count": 178,
      "outputs": []
    },
    {
      "cell_type": "code",
      "metadata": {
        "colab": {
          "base_uri": "https://localhost:8080/"
        },
        "id": "IHt2y_5IHtRH",
        "outputId": "1105ffe9-984a-4e81-80f1-3e5e03808c1c"
      },
      "source": [
        "df_total.columns"
      ],
      "execution_count": 179,
      "outputs": [
        {
          "output_type": "execute_result",
          "data": {
            "text/plain": [
              "Index(['ind01', 'ind02', 'ind03', 'ind04', 'ind05', 'ind06', 'ind07', 'ind08',\n",
              "       'ind09', 'ind10', 'ind11', 'ind12', 'ind13', 'ind14', 'ind15', 'ind16',\n",
              "       'ind17', 'ind18', 'ind19', 'ind20', 'ind21', 'ind22', 'ind23', 'ind24',\n",
              "       'ind25', 'ind26', 'ind27', 'ind28', 'ind29', 'ind30', 'ind31', 'ind32',\n",
              "       'ind33', 'ind34', 'ind35', 'ind36', 'ind37', 'ind38', 'ind39', 'ind40',\n",
              "       'ind41', 'ind42', 'ind43', 'target', 'cnae_secao', 'ind_g1_mv',\n",
              "       'ind_g2_mv', 'mc_g1_mv', 'md1_o', 'md2_o', 'md3_o', 'md4_o', 'md5_o',\n",
              "       'md7_o', 'md8_o', 'md9_o', 'md10_o', 'md12_o', 'mc1_o', 'mc3_o',\n",
              "       'mc4_o'],\n",
              "      dtype='object')"
            ]
          },
          "metadata": {
            "tags": []
          },
          "execution_count": 179
        }
      ]
    },
    {
      "cell_type": "markdown",
      "metadata": {
        "id": "e_0lkPsR_mFp"
      },
      "source": [
        "GET DUMMIES"
      ]
    },
    {
      "cell_type": "code",
      "metadata": {
        "id": "moTlPrJk5b0T"
      },
      "source": [
        "#df_total['cnae2'] = df_total['cnae2'].astype('category')"
      ],
      "execution_count": 180,
      "outputs": []
    },
    {
      "cell_type": "code",
      "metadata": {
        "id": "rN72uIGk_jMI"
      },
      "source": [
        "df_total = pd.get_dummies(df_total)"
      ],
      "execution_count": 181,
      "outputs": []
    },
    {
      "cell_type": "code",
      "metadata": {
        "id": "9gYa3Hy6lrZi"
      },
      "source": [
        "X_treino = df_total[df_total['target']!= 2]"
      ],
      "execution_count": 182,
      "outputs": []
    },
    {
      "cell_type": "code",
      "metadata": {
        "id": "KeckOXBrR_X6"
      },
      "source": [
        "df_X = X_treino.copy()"
      ],
      "execution_count": 183,
      "outputs": []
    },
    {
      "cell_type": "code",
      "metadata": {
        "id": "Q5tB1ey7eAe4"
      },
      "source": [
        "df_y = df_X['target']\n",
        "df_X = df_X.drop(columns= ['target'])"
      ],
      "execution_count": 184,
      "outputs": []
    },
    {
      "cell_type": "code",
      "metadata": {
        "id": "i8_BlpeteJow"
      },
      "source": [
        "X_test = df_total[df_total['target']== 2].drop(columns= ['target'])"
      ],
      "execution_count": 185,
      "outputs": []
    },
    {
      "cell_type": "markdown",
      "metadata": {
        "id": "qzWrM6VCSEoQ"
      },
      "source": [
        "Tratando o Balanceamento da Amostra"
      ]
    },
    {
      "cell_type": "code",
      "metadata": {
        "colab": {
          "base_uri": "https://localhost:8080/"
        },
        "id": "28lRhxtgRwEa",
        "outputId": "c22ed277-b804-417c-b8ad-d96f9a134350"
      },
      "source": [
        "qtd = Counter(X_treino['target'])\n",
        "qtd"
      ],
      "execution_count": 186,
      "outputs": [
        {
          "output_type": "execute_result",
          "data": {
            "text/plain": [
              "Counter({0: 8513, 1: 2520})"
            ]
          },
          "metadata": {
            "tags": []
          },
          "execution_count": 186
        }
      ]
    },
    {
      "cell_type": "code",
      "metadata": {
        "id": "0AZCDYSOSHLx"
      },
      "source": [
        "from imblearn.under_sampling import RandomUnderSampler\n",
        "from imblearn.pipeline import Pipeline"
      ],
      "execution_count": 187,
      "outputs": []
    },
    {
      "cell_type": "code",
      "metadata": {
        "id": "Z1FhuODySLSS"
      },
      "source": [
        "over = SMOTE(sampling_strategy = 0.5, random_state=22091980) # Reamostrar a classe minoritária para ter 10% da classe majoritária\n",
        "under = RandomUnderSampler(sampling_strategy = 0.85,  random_state=22091980) # Seleciona a classe majoritária para ter 50%\n",
        "steps = [('over', over), ('under', under)]\n",
        "pipeline = Pipeline(steps = steps)"
      ],
      "execution_count": 188,
      "outputs": []
    },
    {
      "cell_type": "code",
      "metadata": {
        "colab": {
          "base_uri": "https://localhost:8080/"
        },
        "id": "dwkQt9AFSNLL",
        "outputId": "8e84f404-0551-4ba0-a4ed-6686deb89d37"
      },
      "source": [
        "X, y = pipeline.fit_resample(df_X, df_y)"
      ],
      "execution_count": 189,
      "outputs": [
        {
          "output_type": "stream",
          "text": [
            "/usr/local/lib/python3.6/dist-packages/sklearn/utils/deprecation.py:87: FutureWarning: Function safe_indexing is deprecated; safe_indexing is deprecated in version 0.22 and will be removed in version 0.24.\n",
            "  warnings.warn(msg, category=FutureWarning)\n",
            "/usr/local/lib/python3.6/dist-packages/sklearn/utils/deprecation.py:87: FutureWarning: Function safe_indexing is deprecated; safe_indexing is deprecated in version 0.22 and will be removed in version 0.24.\n",
            "  warnings.warn(msg, category=FutureWarning)\n"
          ],
          "name": "stderr"
        }
      ]
    },
    {
      "cell_type": "markdown",
      "metadata": {
        "id": "m22vN2YrSWOr"
      },
      "source": [
        "ANTES/DEPOIS:"
      ]
    },
    {
      "cell_type": "code",
      "metadata": {
        "colab": {
          "base_uri": "https://localhost:8080/"
        },
        "id": "oLiFXdkqSVNz",
        "outputId": "92277b5b-e092-4ba8-c726-7769a027909e"
      },
      "source": [
        "print(Counter(df_y),Counter(y))"
      ],
      "execution_count": 190,
      "outputs": [
        {
          "output_type": "stream",
          "text": [
            "Counter({0: 8513, 1: 2520}) Counter({0: 5007, 1: 4256})\n"
          ],
          "name": "stdout"
        }
      ]
    },
    {
      "cell_type": "markdown",
      "metadata": {
        "id": "jJaJWuUqJCha"
      },
      "source": [
        "### 3. Definir as amostras de treinamento e validação"
      ]
    },
    {
      "cell_type": "markdown",
      "metadata": {
        "id": "LoO2iEimu4SQ"
      },
      "source": [
        "[**Python**] - Definir as amostras de treinamento e validação"
      ]
    },
    {
      "cell_type": "code",
      "metadata": {
        "id": "hTCdm-F9JBGA",
        "colab": {
          "base_uri": "https://localhost:8080/"
        },
        "outputId": "fd8945ed-c00f-4d54-a163-1634373b0d52"
      },
      "source": [
        "from sklearn.model_selection import train_test_split\n",
        "\n",
        "X_treinamento, X_teste, y_treinamento, y_teste= train_test_split(X, y, test_size = 0.1, random_state = 22091980) #20111974)\n",
        "print(f'X: Treinamento=  {X_treinamento.shape}; X: Teste=  {X_teste.shape}')"
      ],
      "execution_count": 191,
      "outputs": [
        {
          "output_type": "stream",
          "text": [
            "X: Treinamento=  (8336, 78); X: Teste=  (927, 78)\n"
          ],
          "name": "stdout"
        }
      ]
    },
    {
      "cell_type": "code",
      "metadata": {
        "id": "th9CsQpB8VDK",
        "colab": {
          "base_uri": "https://localhost:8080/"
        },
        "outputId": "75645f74-38e1-4cca-b4f9-14fc6fd83ec7"
      },
      "source": [
        "print(f'Y: Treinamento =  {y_treinamento.shape}; Y: Teste = {y_teste.shape}')"
      ],
      "execution_count": 192,
      "outputs": [
        {
          "output_type": "stream",
          "text": [
            "Y: Treinamento =  (8336,); Y: Teste = (927,)\n"
          ],
          "name": "stdout"
        }
      ]
    },
    {
      "cell_type": "markdown",
      "metadata": {
        "id": "2bL-vXiULupD"
      },
      "source": [
        "### 4. Definir a arquitetura da Rede Neural com _Tensorflow_/_Keras_"
      ]
    },
    {
      "cell_type": "markdown",
      "metadata": {
        "id": "zxETX6dTfyU5"
      },
      "source": [
        "[**Python**] - Definir a arquitetura, ou seja:\n",
        "* $N_{I}$: Número de neurônios na camada de entrada (_Input Layer_);\n",
        "* $N_{O}$: Número de neurônios na camada de saída (_Output Layer_);\n",
        "* $N_{H}$: Número de neurônios na camada escondida (_Hidden Layer_);\n",
        "* FA: Função de ativação;"
      ]
    },
    {
      "cell_type": "code",
      "metadata": {
        "id": "F_MdsLicfyU6"
      },
      "source": [
        "# Número de Neurônios na Input Layer:\n",
        "N_I = 78\n",
        "\n",
        "# Número de neurônios na Output Layer:\n",
        "N_O = 1\n",
        "\n",
        "# Número de neurônios na Hidden Layer:\n",
        "N_H = 400\n",
        "\n",
        "N_H2 = 300\n",
        "\n",
        "N_H3=200\n",
        "\n",
        "N_H4 = 100\n",
        "\n",
        "N_H5 = 50\n",
        "\n",
        "N_H6 = 2\n",
        "\n",
        "\n",
        "\n",
        "# Função de Ativação da Hidden Layer:\n",
        "FA_H = tf.nn.leaky_relu\n",
        "#FA_H = tf.keras.activations.swish\n",
        "\n",
        "# Função de Ativação da Output Layer:\n",
        "FA_O = tf.keras.activations.sigmoid\n",
        "#FA_O = tf.keras.activations.softmax\n",
        "\n",
        "\n"
      ],
      "execution_count": 193,
      "outputs": []
    },
    {
      "cell_type": "markdown",
      "metadata": {
        "id": "SUMmDuPCcYyB"
      },
      "source": [
        "[**Python**] - Definir as sementes para NumPy e Tensorflow:\n",
        "> Por questões de reproducibilidade de resultados, use as sementes abaixo:\n",
        "\n",
        "* NumPy: 20111974;\n",
        "* Tensorflow: 20111974;"
      ]
    },
    {
      "cell_type": "code",
      "metadata": {
        "id": "T-echOBmceVy"
      },
      "source": [
        "np.random.seed(19800922)\n",
        "tf.random.set_seed(22091980)"
      ],
      "execution_count": 154,
      "outputs": []
    },
    {
      "cell_type": "markdown",
      "metadata": {
        "id": "7ZceRRdinEM2"
      },
      "source": [
        "\n",
        "[**Python**] - Definir a Rede Neural:"
      ]
    },
    {
      "cell_type": "markdown",
      "metadata": {
        "id": "nXQsSYq2DBfI"
      },
      "source": [
        "\n",
        "\n",
        "\n",
        "\n",
        "* 1 camada _dropout_ com $p= 0.1$:"
      ]
    },
    {
      "cell_type": "code",
      "metadata": {
        "id": "TRFR5Kr_nDtD",
        "colab": {
          "base_uri": "https://localhost:8080/"
        },
        "outputId": "e921dc61-563f-40e4-850e-4fc3cf0d2296"
      },
      "source": [
        "from tensorflow.keras import Sequential\n",
        "from tensorflow.keras.layers import Dense\n",
        "from tensorflow.keras.layers import Dropout\n",
        "\n",
        "RN= Sequential()\n",
        "RN.add(Dense(N_H, input_dim= N_I, kernel_initializer= tf.keras.initializers.GlorotNormal(), activation= FA_H, kernel_constraint= tf.keras.constraints.UnitNorm()))\n",
        "RN.add(Dropout(0.2))\n",
        "RN.add(Dense(N_H2, kernel_initializer= tf.keras.initializers.GlorotNormal(), activation= FA_H, kernel_constraint= tf.keras.constraints.UnitNorm()))\n",
        "RN.add(Dropout(0.2))\n",
        "RN.add(Dense(N_H3, kernel_initializer= tf.keras.initializers.GlorotNormal(), activation= FA_H, kernel_constraint= tf.keras.constraints.UnitNorm()))\n",
        "RN.add(Dropout(0.2))\n",
        "RN.add(Dense(N_H4, kernel_initializer= tf.keras.initializers.GlorotNormal(), activation= FA_H, kernel_constraint= tf.keras.constraints.UnitNorm()))\n",
        "RN.add(Dropout(0.2))\n",
        "RN.add(Dense(N_H5, kernel_initializer= tf.keras.initializers.GlorotNormal(), activation= FA_H, kernel_constraint= tf.keras.constraints.UnitNorm()))\n",
        "RN.add(Dropout(0.2))\n",
        "#RN.add(Dense(N_H6, kernel_initializer= tf.keras.initializers.GlorotNormal(), activation= FA_H, kernel_constraint= tf.keras.constraints.UnitNorm()))\n",
        "#RN.add(Dropout(0.2))\n",
        "RN.add(Dense(units= N_O, activation= FA_O))\n",
        "\n",
        "# Resumo da arquitetura da Rede Neural\n",
        "print(RN.summary())"
      ],
      "execution_count": 194,
      "outputs": [
        {
          "output_type": "stream",
          "text": [
            "Model: \"sequential_7\"\n",
            "_________________________________________________________________\n",
            "Layer (type)                 Output Shape              Param #   \n",
            "=================================================================\n",
            "dense_49 (Dense)             (None, 400)               31600     \n",
            "_________________________________________________________________\n",
            "dropout_42 (Dropout)         (None, 400)               0         \n",
            "_________________________________________________________________\n",
            "dense_50 (Dense)             (None, 300)               120300    \n",
            "_________________________________________________________________\n",
            "dropout_43 (Dropout)         (None, 300)               0         \n",
            "_________________________________________________________________\n",
            "dense_51 (Dense)             (None, 200)               60200     \n",
            "_________________________________________________________________\n",
            "dropout_44 (Dropout)         (None, 200)               0         \n",
            "_________________________________________________________________\n",
            "dense_52 (Dense)             (None, 100)               20100     \n",
            "_________________________________________________________________\n",
            "dropout_45 (Dropout)         (None, 100)               0         \n",
            "_________________________________________________________________\n",
            "dense_53 (Dense)             (None, 50)                5050      \n",
            "_________________________________________________________________\n",
            "dropout_46 (Dropout)         (None, 50)                0         \n",
            "_________________________________________________________________\n",
            "dense_54 (Dense)             (None, 1)                 51        \n",
            "=================================================================\n",
            "Total params: 237,301\n",
            "Trainable params: 237,301\n",
            "Non-trainable params: 0\n",
            "_________________________________________________________________\n",
            "None\n"
          ],
          "name": "stdout"
        }
      ]
    },
    {
      "cell_type": "markdown",
      "metadata": {
        "id": "4JBZf4ypGO8o"
      },
      "source": [
        "### 5. Compilar a Rede Neural\n",
        "\n",
        "Este é um problema de classificação binária (_Male_ ou _Female_). Portanto, temos:\n",
        "* optimizer= tf.keras.optimizers.Adam();\n",
        "* loss=  tf.keras.losses.MeanSquaredError() ou loss= tf.keras.losses.BinaryCrossentropy(). Particularmente, eu gosto de usar loss=  tf.keras.losses.MeanSquaredError() porque o resultado é mais intuitivo;\n",
        "* metrics= tf.keras.metrics.binary_accuracy."
      ]
    },
    {
      "cell_type": "markdown",
      "metadata": {
        "id": "USmAuw6f00wL"
      },
      "source": [
        "[**Python**] - Comando modelo.compile(optimizer, loss, metrics):"
      ]
    },
    {
      "cell_type": "code",
      "metadata": {
        "id": "h7KEi1_e6SSF"
      },
      "source": [
        "\n",
        "Algoritmo_Opt = tf.keras.optimizers.Adam()\n",
        "#Algoritmo_Opt = tf.keras.optimizers.Adam(learning_rate=0.01, beta_1=0.8, beta_2=0.99, epsilon=1e-07 , amsgrad=True,     name='Adam')\n",
        "#Loss_Function = tf.keras.losses.MeanSquaredError()\n",
        "Loss_Function = tf.keras.losses.BinaryCrossentropy()\n",
        "#Metrics_Perf = tf.keras.metrics.binary_accuracy\n",
        "Metrics_Perf = tfa.metrics.F1Score(1,average='macro',threshold=0.5)\n",
        "RN.compile(optimizer = Algoritmo_Opt, loss = Loss_Function,metrics = Metrics_Perf)\n",
        "#RN.compile( loss = Loss_Function,metrics = Metrics_Perf)"
      ],
      "execution_count": 195,
      "outputs": []
    },
    {
      "cell_type": "markdown",
      "metadata": {
        "id": "Hc90EeV_GojX"
      },
      "source": [
        "### 6. Ajustar a Rede Neural\n",
        "\n",
        "Obs.: A opção callbacks abaixo implementa o conceito de _early stopping_. Esta opção vai parar o processo de treinamento da Rede Neural antes de atingirmos o númerco de _epochs_ quando o modelo pára de melhorar, medido pela métrica val_loss. O parâmetro _patience_= k significa que o processo de otimização vai parar se tivermos k _epochs_ consecutivas sem observarmos melhoria da performance da Rede Neural."
      ]
    },
    {
      "cell_type": "markdown",
      "metadata": {
        "id": "XCCTtUh_vEFP"
      },
      "source": [
        "[**Python**] - Comando modelo.fit(X_treinamento, y_treinamento, epochs)"
      ]
    },
    {
      "cell_type": "code",
      "metadata": {
        "id": "EB91J6nrF0db",
        "colab": {
          "base_uri": "https://localhost:8080/"
        },
        "outputId": "3a341eeb-a632-4ace-95b5-d113d09900c2"
      },
      "source": [
        "callbacks = [tf.keras.callbacks.EarlyStopping(monitor = 'val_f1_score', mode = 'max',patience = 20, min_delta = 0.001)]\n",
        "hist= RN.fit(X_treinamento, y_treinamento, epochs = 100, batch_size = 10,\n",
        "             validation_data = (X_teste, y_teste), callbacks = callbacks)"
      ],
      "execution_count": 196,
      "outputs": [
        {
          "output_type": "stream",
          "text": [
            "Epoch 1/100\n",
            "834/834 [==============================] - 4s 4ms/step - loss: 0.6297 - f1_score: 0.6371 - val_loss: 0.6050 - val_f1_score: 0.6700\n",
            "Epoch 2/100\n",
            "834/834 [==============================] - 3s 4ms/step - loss: 0.6095 - f1_score: 0.6594 - val_loss: 0.6114 - val_f1_score: 0.5862\n",
            "Epoch 3/100\n",
            "834/834 [==============================] - 3s 4ms/step - loss: 0.5990 - f1_score: 0.6656 - val_loss: 0.6023 - val_f1_score: 0.6558\n",
            "Epoch 4/100\n",
            "834/834 [==============================] - 3s 4ms/step - loss: 0.5901 - f1_score: 0.6649 - val_loss: 0.5876 - val_f1_score: 0.6819\n",
            "Epoch 5/100\n",
            "834/834 [==============================] - 3s 4ms/step - loss: 0.5831 - f1_score: 0.6804 - val_loss: 0.5856 - val_f1_score: 0.6989\n",
            "Epoch 6/100\n",
            "834/834 [==============================] - 3s 4ms/step - loss: 0.5777 - f1_score: 0.6868 - val_loss: 0.5864 - val_f1_score: 0.6681\n",
            "Epoch 7/100\n",
            "834/834 [==============================] - 3s 4ms/step - loss: 0.5752 - f1_score: 0.6920 - val_loss: 0.5785 - val_f1_score: 0.6872\n",
            "Epoch 8/100\n",
            "834/834 [==============================] - 3s 4ms/step - loss: 0.5675 - f1_score: 0.6971 - val_loss: 0.5764 - val_f1_score: 0.7090\n",
            "Epoch 9/100\n",
            "834/834 [==============================] - 3s 4ms/step - loss: 0.5641 - f1_score: 0.7002 - val_loss: 0.5856 - val_f1_score: 0.6838\n",
            "Epoch 10/100\n",
            "834/834 [==============================] - 3s 4ms/step - loss: 0.5621 - f1_score: 0.7005 - val_loss: 0.5819 - val_f1_score: 0.6890\n",
            "Epoch 11/100\n",
            "834/834 [==============================] - 4s 4ms/step - loss: 0.5571 - f1_score: 0.6953 - val_loss: 0.5830 - val_f1_score: 0.7014\n",
            "Epoch 12/100\n",
            "834/834 [==============================] - 4s 4ms/step - loss: 0.5544 - f1_score: 0.7061 - val_loss: 0.5738 - val_f1_score: 0.6971\n",
            "Epoch 13/100\n",
            "834/834 [==============================] - 3s 4ms/step - loss: 0.5504 - f1_score: 0.7006 - val_loss: 0.5788 - val_f1_score: 0.6909\n",
            "Epoch 14/100\n",
            "834/834 [==============================] - 3s 4ms/step - loss: 0.5425 - f1_score: 0.7109 - val_loss: 0.5769 - val_f1_score: 0.6766\n",
            "Epoch 15/100\n",
            "834/834 [==============================] - 3s 4ms/step - loss: 0.5455 - f1_score: 0.7097 - val_loss: 0.5745 - val_f1_score: 0.6448\n",
            "Epoch 16/100\n",
            "834/834 [==============================] - 3s 4ms/step - loss: 0.5403 - f1_score: 0.7120 - val_loss: 0.5947 - val_f1_score: 0.6742\n",
            "Epoch 17/100\n",
            "834/834 [==============================] - 3s 4ms/step - loss: 0.5367 - f1_score: 0.7122 - val_loss: 0.5957 - val_f1_score: 0.6577\n",
            "Epoch 18/100\n",
            "834/834 [==============================] - 3s 4ms/step - loss: 0.5333 - f1_score: 0.7167 - val_loss: 0.5905 - val_f1_score: 0.6584\n",
            "Epoch 19/100\n",
            "834/834 [==============================] - 3s 4ms/step - loss: 0.5319 - f1_score: 0.7186 - val_loss: 0.6258 - val_f1_score: 0.7096\n",
            "Epoch 20/100\n",
            "834/834 [==============================] - 3s 4ms/step - loss: 0.5288 - f1_score: 0.7174 - val_loss: 0.5799 - val_f1_score: 0.6260\n",
            "Epoch 21/100\n",
            "834/834 [==============================] - 3s 4ms/step - loss: 0.5281 - f1_score: 0.7189 - val_loss: 0.5827 - val_f1_score: 0.6675\n",
            "Epoch 22/100\n",
            "834/834 [==============================] - 3s 4ms/step - loss: 0.5260 - f1_score: 0.7178 - val_loss: 0.6136 - val_f1_score: 0.6690\n",
            "Epoch 23/100\n",
            "834/834 [==============================] - 3s 4ms/step - loss: 0.5200 - f1_score: 0.7237 - val_loss: 0.6185 - val_f1_score: 0.6358\n",
            "Epoch 24/100\n",
            "834/834 [==============================] - 3s 4ms/step - loss: 0.5192 - f1_score: 0.7218 - val_loss: 0.5726 - val_f1_score: 0.7086\n",
            "Epoch 25/100\n",
            "834/834 [==============================] - 3s 4ms/step - loss: 0.5147 - f1_score: 0.7257 - val_loss: 0.5672 - val_f1_score: 0.6698\n",
            "Epoch 26/100\n",
            "834/834 [==============================] - 3s 4ms/step - loss: 0.5172 - f1_score: 0.7263 - val_loss: 0.5880 - val_f1_score: 0.6792\n",
            "Epoch 27/100\n",
            "834/834 [==============================] - 3s 4ms/step - loss: 0.5118 - f1_score: 0.7273 - val_loss: 0.5768 - val_f1_score: 0.6939\n",
            "Epoch 28/100\n",
            "834/834 [==============================] - 3s 4ms/step - loss: 0.5102 - f1_score: 0.7275 - val_loss: 0.5773 - val_f1_score: 0.7174\n",
            "Epoch 29/100\n",
            "834/834 [==============================] - 3s 4ms/step - loss: 0.5049 - f1_score: 0.7298 - val_loss: 0.5958 - val_f1_score: 0.6387\n",
            "Epoch 30/100\n",
            "834/834 [==============================] - 3s 4ms/step - loss: 0.5047 - f1_score: 0.7262 - val_loss: 0.5938 - val_f1_score: 0.6927\n",
            "Epoch 31/100\n",
            "834/834 [==============================] - 3s 4ms/step - loss: 0.5050 - f1_score: 0.7282 - val_loss: 0.5715 - val_f1_score: 0.7130\n",
            "Epoch 32/100\n",
            "834/834 [==============================] - 3s 4ms/step - loss: 0.5037 - f1_score: 0.7243 - val_loss: 0.5658 - val_f1_score: 0.6939\n",
            "Epoch 33/100\n",
            "834/834 [==============================] - 3s 4ms/step - loss: 0.5019 - f1_score: 0.7353 - val_loss: 0.5940 - val_f1_score: 0.5973\n",
            "Epoch 34/100\n",
            "834/834 [==============================] - 3s 4ms/step - loss: 0.5015 - f1_score: 0.7324 - val_loss: 0.5681 - val_f1_score: 0.6747\n",
            "Epoch 35/100\n",
            "834/834 [==============================] - 3s 4ms/step - loss: 0.4975 - f1_score: 0.7320 - val_loss: 0.6057 - val_f1_score: 0.7149\n",
            "Epoch 36/100\n",
            "834/834 [==============================] - 3s 4ms/step - loss: 0.4944 - f1_score: 0.7413 - val_loss: 0.6270 - val_f1_score: 0.7121\n",
            "Epoch 37/100\n",
            "834/834 [==============================] - 3s 4ms/step - loss: 0.4953 - f1_score: 0.7446 - val_loss: 0.5816 - val_f1_score: 0.6844\n",
            "Epoch 38/100\n",
            "834/834 [==============================] - 3s 4ms/step - loss: 0.4900 - f1_score: 0.7462 - val_loss: 0.6041 - val_f1_score: 0.6996\n",
            "Epoch 39/100\n",
            "834/834 [==============================] - 3s 4ms/step - loss: 0.4907 - f1_score: 0.7404 - val_loss: 0.5803 - val_f1_score: 0.6930\n",
            "Epoch 40/100\n",
            "834/834 [==============================] - 3s 4ms/step - loss: 0.4931 - f1_score: 0.7394 - val_loss: 0.5764 - val_f1_score: 0.6283\n",
            "Epoch 41/100\n",
            "834/834 [==============================] - 3s 4ms/step - loss: 0.4883 - f1_score: 0.7394 - val_loss: 0.5899 - val_f1_score: 0.6431\n",
            "Epoch 42/100\n",
            "834/834 [==============================] - 3s 4ms/step - loss: 0.4905 - f1_score: 0.7483 - val_loss: 0.6053 - val_f1_score: 0.7113\n",
            "Epoch 43/100\n",
            "834/834 [==============================] - 3s 4ms/step - loss: 0.4884 - f1_score: 0.7364 - val_loss: 0.5726 - val_f1_score: 0.7213\n",
            "Epoch 44/100\n",
            "834/834 [==============================] - 3s 4ms/step - loss: 0.4913 - f1_score: 0.7420 - val_loss: 0.6062 - val_f1_score: 0.6920\n",
            "Epoch 45/100\n",
            "834/834 [==============================] - 3s 4ms/step - loss: 0.4880 - f1_score: 0.7424 - val_loss: 0.5727 - val_f1_score: 0.7176\n",
            "Epoch 46/100\n",
            "834/834 [==============================] - 3s 4ms/step - loss: 0.4837 - f1_score: 0.7498 - val_loss: 0.5684 - val_f1_score: 0.7059\n",
            "Epoch 47/100\n",
            "834/834 [==============================] - 3s 4ms/step - loss: 0.4811 - f1_score: 0.7464 - val_loss: 0.5882 - val_f1_score: 0.7099\n",
            "Epoch 48/100\n",
            "834/834 [==============================] - 3s 4ms/step - loss: 0.4844 - f1_score: 0.7480 - val_loss: 0.5824 - val_f1_score: 0.6998\n",
            "Epoch 49/100\n",
            "834/834 [==============================] - 3s 4ms/step - loss: 0.4788 - f1_score: 0.7466 - val_loss: 0.6233 - val_f1_score: 0.5613\n",
            "Epoch 50/100\n",
            "834/834 [==============================] - 3s 4ms/step - loss: 0.4808 - f1_score: 0.7463 - val_loss: 0.5851 - val_f1_score: 0.7137\n",
            "Epoch 51/100\n",
            "834/834 [==============================] - 3s 4ms/step - loss: 0.4788 - f1_score: 0.7562 - val_loss: 0.6308 - val_f1_score: 0.6629\n",
            "Epoch 52/100\n",
            "834/834 [==============================] - 3s 4ms/step - loss: 0.4852 - f1_score: 0.7570 - val_loss: 0.6036 - val_f1_score: 0.6729\n",
            "Epoch 53/100\n",
            "834/834 [==============================] - 3s 4ms/step - loss: 0.4768 - f1_score: 0.7493 - val_loss: 0.5967 - val_f1_score: 0.5814\n",
            "Epoch 54/100\n",
            "834/834 [==============================] - 3s 4ms/step - loss: 0.4736 - f1_score: 0.7507 - val_loss: 0.6281 - val_f1_score: 0.6360\n",
            "Epoch 55/100\n",
            "834/834 [==============================] - 3s 4ms/step - loss: 0.4826 - f1_score: 0.7430 - val_loss: 0.6029 - val_f1_score: 0.6296\n",
            "Epoch 56/100\n",
            "834/834 [==============================] - 3s 4ms/step - loss: 0.4717 - f1_score: 0.7569 - val_loss: 0.5940 - val_f1_score: 0.6562\n",
            "Epoch 57/100\n",
            "834/834 [==============================] - 3s 4ms/step - loss: 0.4752 - f1_score: 0.7574 - val_loss: 0.6330 - val_f1_score: 0.6533\n",
            "Epoch 58/100\n",
            "834/834 [==============================] - 3s 4ms/step - loss: 0.4737 - f1_score: 0.7520 - val_loss: 0.5769 - val_f1_score: 0.6976\n",
            "Epoch 59/100\n",
            "834/834 [==============================] - 3s 4ms/step - loss: 0.4740 - f1_score: 0.7456 - val_loss: 0.6165 - val_f1_score: 0.6380\n",
            "Epoch 60/100\n",
            "834/834 [==============================] - 3s 4ms/step - loss: 0.4693 - f1_score: 0.7583 - val_loss: 0.6197 - val_f1_score: 0.6218\n",
            "Epoch 61/100\n",
            "834/834 [==============================] - 3s 4ms/step - loss: 0.4716 - f1_score: 0.7550 - val_loss: 0.6258 - val_f1_score: 0.6811\n",
            "Epoch 62/100\n",
            "834/834 [==============================] - 3s 4ms/step - loss: 0.4688 - f1_score: 0.7569 - val_loss: 0.6420 - val_f1_score: 0.6832\n",
            "Epoch 63/100\n",
            "834/834 [==============================] - 3s 4ms/step - loss: 0.4681 - f1_score: 0.7574 - val_loss: 0.5910 - val_f1_score: 0.7146\n"
          ],
          "name": "stdout"
        }
      ]
    },
    {
      "cell_type": "code",
      "metadata": {
        "colab": {
          "base_uri": "https://localhost:8080/"
        },
        "id": "IE28TqhAWVlz",
        "outputId": "7d6d4ce1-fa9d-4583-d2b5-76da5a84f5b8"
      },
      "source": [
        ""
      ],
      "execution_count": null,
      "outputs": [
        {
          "output_type": "execute_result",
          "data": {
            "text/plain": [
              "['loss', 'binary_accuracy']"
            ]
          },
          "metadata": {
            "tags": []
          },
          "execution_count": 185
        }
      ]
    },
    {
      "cell_type": "markdown",
      "metadata": {
        "id": "J1sL_DTrKmpq"
      },
      "source": [
        "### 7. Avaliar a performance da Rede Neural\n",
        "\n",
        "Para avaliar a a Rede Neural, simplesmente informamos as amostras de teste: X_teste e y_teste. A função evaluate() vai retornar uma lista contendo 2 valores: loss e accuracy."
      ]
    },
    {
      "cell_type": "markdown",
      "metadata": {
        "id": "VckQfEFPvMa7"
      },
      "source": [
        "[**Python**] - Comando modelo.evaluate(X_teste, y_teste)"
      ]
    },
    {
      "cell_type": "code",
      "metadata": {
        "id": "veeKG78w4hWh"
      },
      "source": [
        "def Mostra_ConfusionMatrix(X,y):\n",
        "    y_pred = RN.predict_classes(X)\n",
        "    mc = confusion_matrix(y, y_pred)\n",
        "    #sns.heatmap(mc,annot=True, annot_kws={\"size\": 10},fmt=\"d\")\n",
        "    sns.heatmap(mc/np.sum(mc), annot=True, annot_kws={\"size\": 10}, fmt='.2%', cmap='Blues')"
      ],
      "execution_count": 158,
      "outputs": []
    },
    {
      "cell_type": "code",
      "metadata": {
        "colab": {
          "base_uri": "https://localhost:8080/"
        },
        "id": "XUJL6Y6A4hWh",
        "outputId": "1999626f-e47a-469e-c1cf-0e6c1e39dd08"
      },
      "source": [
        "RN.evaluate(X_teste, y_teste)"
      ],
      "execution_count": 197,
      "outputs": [
        {
          "output_type": "stream",
          "text": [
            "29/29 [==============================] - 0s 1ms/step - loss: 0.5910 - f1_score: 0.7146\n"
          ],
          "name": "stdout"
        },
        {
          "output_type": "execute_result",
          "data": {
            "text/plain": [
              "[0.5910373330116272, 0.7146017551422119]"
            ]
          },
          "metadata": {
            "tags": []
          },
          "execution_count": 197
        }
      ]
    },
    {
      "cell_type": "code",
      "metadata": {
        "colab": {
          "base_uri": "https://localhost:8080/"
        },
        "id": "g3KRG1fN4hWi",
        "outputId": "858d5417-f16b-4353-ad3f-f792ab3b4df4"
      },
      "source": [
        "F1_Test=f1_score(y_teste, RN.predict_classes(X_teste), average=\"macro\")\n",
        "print(f'F1: {F1_Test}')"
      ],
      "execution_count": 198,
      "outputs": [
        {
          "output_type": "stream",
          "text": [
            "F1: 0.7215114112715416\n"
          ],
          "name": "stdout"
        }
      ]
    },
    {
      "cell_type": "code",
      "metadata": {
        "id": "HSC6yxs9VONq",
        "colab": {
          "base_uri": "https://localhost:8080/",
          "height": 265
        },
        "outputId": "ce29dbb0-928b-4601-c773-2c5822f806c3"
      },
      "source": [
        "Mostra_ConfusionMatrix(X_teste, y_teste)"
      ],
      "execution_count": 199,
      "outputs": [
        {
          "output_type": "display_data",
          "data": {
            "image/png": "[encoded data removed]",
            "text/plain": [
              "<Figure size 432x288 with 2 Axes>"
            ]
          },
          "metadata": {
            "tags": [],
            "needs_background": "light"
          }
        }
      ]
    },
    {
      "cell_type": "code",
      "metadata": {
        "colab": {
          "base_uri": "https://localhost:8080/"
        },
        "id": "vdDUMlaT4hWi",
        "outputId": "1e260afc-6e5d-4df4-98a7-1dc01311b6b5"
      },
      "source": [
        "RN.evaluate(df_X, df_y)"
      ],
      "execution_count": 200,
      "outputs": [
        {
          "output_type": "stream",
          "text": [
            "345/345 [==============================] - 1s 2ms/step - loss: 0.5462 - f1_score: 0.5779\n"
          ],
          "name": "stdout"
        },
        {
          "output_type": "execute_result",
          "data": {
            "text/plain": [
              "[0.5462449789047241, 0.5779434442520142]"
            ]
          },
          "metadata": {
            "tags": []
          },
          "execution_count": 200
        }
      ]
    },
    {
      "cell_type": "code",
      "metadata": {
        "colab": {
          "base_uri": "https://localhost:8080/"
        },
        "id": "NbBX0xLW4hWi",
        "outputId": "1f10dc65-0326-4c84-afb6-41234b0414f0"
      },
      "source": [
        "F1_X=f1_score(df_y, RN.predict_classes(df_X), average=\"macro\")\n",
        "print(f'F1: {F1_X}')"
      ],
      "execution_count": 201,
      "outputs": [
        {
          "output_type": "stream",
          "text": [
            "F1: 0.6914762204434328\n"
          ],
          "name": "stdout"
        }
      ]
    },
    {
      "cell_type": "code",
      "metadata": {
        "id": "uKMi5mUMVWdR",
        "colab": {
          "base_uri": "https://localhost:8080/",
          "height": 265
        },
        "outputId": "6adfbf2f-1f47-4692-f449-cd3096aa8dbf"
      },
      "source": [
        "Mostra_ConfusionMatrix(df_X, df_y)"
      ],
      "execution_count": 202,
      "outputs": [
        {
          "output_type": "display_data",
          "data": {
            "image/png": "[encoded data removed]",
            "text/plain": [
              "<Figure size 432x288 with 2 Axes>"
            ]
          },
          "metadata": {
            "tags": [],
            "needs_background": "light"
          }
        }
      ]
    },
    {
      "cell_type": "code",
      "metadata": {
        "colab": {
          "base_uri": "https://localhost:8080/"
        },
        "id": "X1V4oO0R4hWi",
        "outputId": "13dddc00-8a2e-40e8-e0d2-d83bb537bb99"
      },
      "source": [
        "RN.evaluate(X_treinamento, y_treinamento)"
      ],
      "execution_count": 203,
      "outputs": [
        {
          "output_type": "stream",
          "text": [
            "261/261 [==============================] - 0s 1ms/step - loss: 0.4325 - f1_score: 0.8006\n"
          ],
          "name": "stdout"
        },
        {
          "output_type": "execute_result",
          "data": {
            "text/plain": [
              "[0.43254250288009644, 0.8005836009979248]"
            ]
          },
          "metadata": {
            "tags": []
          },
          "execution_count": 203
        }
      ]
    },
    {
      "cell_type": "code",
      "metadata": {
        "colab": {
          "base_uri": "https://localhost:8080/"
        },
        "id": "g7cCtosc4hWi",
        "outputId": "a0ec3617-2eda-4d2d-db9c-75f2ca2b4c03"
      },
      "source": [
        "F1_Trein=f1_score(y_treinamento, RN.predict_classes(X_treinamento), average=\"macro\")\n",
        "print(f'F1: {F1_Trein}')"
      ],
      "execution_count": 204,
      "outputs": [
        {
          "output_type": "stream",
          "text": [
            "F1: 0.8032274348543803\n"
          ],
          "name": "stdout"
        }
      ]
    },
    {
      "cell_type": "code",
      "metadata": {
        "colab": {
          "base_uri": "https://localhost:8080/",
          "height": 265
        },
        "id": "N89YhXgS4hWj",
        "outputId": "e97a3355-d138-4746-f9e5-0ba8089be334"
      },
      "source": [
        "Mostra_ConfusionMatrix(X_treinamento, y_treinamento)"
      ],
      "execution_count": 205,
      "outputs": [
        {
          "output_type": "display_data",
          "data": {
            "image/png": "[encoded data removed]",
            "text/plain": [
              "<Figure size 432x288 with 2 Axes>"
            ]
          },
          "metadata": {
            "tags": [],
            "needs_background": "light"
          }
        }
      ]
    },
    {
      "cell_type": "markdown",
      "metadata": {
        "id": "D5zYHcGuMPZe"
      },
      "source": [
        "### 8. _Fine tuning_ da Rede Neural\n",
        "\n",
        "Para aumentar a acurácia da Rede Neural, sugiro aumentarmos o número de neurônios na _Hidden Layer_ e/ou aumentar o número de _Hidden Layers_.\n",
        "\n",
        "No entanto, obtivemos uma acurácia razoável com a Rede Neural _baseline_. Portanto, deixo como exercício para os alunos o desafio de melhorar a acurácia desta Rede Neural."
      ]
    },
    {
      "cell_type": "markdown",
      "metadata": {
        "id": "_ISodOu-Kmp3"
      },
      "source": [
        "### 9. Fazer Predições com a Rede Neural"
      ]
    },
    {
      "cell_type": "markdown",
      "metadata": {
        "id": "_xgdL1W4vUrN"
      },
      "source": [
        "[**Python**] - Comando:\n",
        "* RN.predict_classes(X_treinamento);\n",
        "* RN.predict_classes(X_teste)."
      ]
    },
    {
      "cell_type": "code",
      "metadata": {
        "id": "kqy2rt3YfPiy"
      },
      "source": [
        "y_test = RN.predict_classes(X_test)\n"
      ],
      "execution_count": 206,
      "outputs": []
    },
    {
      "cell_type": "code",
      "metadata": {
        "id": "_C_u02mygKgt"
      },
      "source": [
        "df_submit = pd.concat([pd.DataFrame(X_test.index,columns=['id']),pd.DataFrame(y_test,columns=['target']).astype('boolean')],axis=1)\n",
        "\n"
      ],
      "execution_count": 207,
      "outputs": []
    },
    {
      "cell_type": "code",
      "metadata": {
        "colab": {
          "base_uri": "https://localhost:8080/",
          "height": 407
        },
        "id": "k-GLGzuem3cV",
        "outputId": "7bb7bff2-6f01-4174-ae6a-0db1b7e1e06f"
      },
      "source": [
        "df_submit"
      ],
      "execution_count": 208,
      "outputs": [
        {
          "output_type": "execute_result",
          "data": {
            "text/html": [
              "<div>\n",
              "<style scoped>\n",
              "    .dataframe tbody tr th:only-of-type {\n",
              "        vertical-align: middle;\n",
              "    }\n",
              "\n",
              "    .dataframe tbody tr th {\n",
              "        vertical-align: top;\n",
              "    }\n",
              "\n",
              "    .dataframe thead th {\n",
              "        text-align: right;\n",
              "    }\n",
              "</style>\n",
              "<table border=\"1\" class=\"dataframe\">\n",
              "  <thead>\n",
              "    <tr style=\"text-align: right;\">\n",
              "      <th></th>\n",
              "      <th>id</th>\n",
              "      <th>target</th>\n",
              "    </tr>\n",
              "  </thead>\n",
              "  <tbody>\n",
              "    <tr>\n",
              "      <th>0</th>\n",
              "      <td>3411</td>\n",
              "      <td>False</td>\n",
              "    </tr>\n",
              "    <tr>\n",
              "      <th>1</th>\n",
              "      <td>2177</td>\n",
              "      <td>False</td>\n",
              "    </tr>\n",
              "    <tr>\n",
              "      <th>2</th>\n",
              "      <td>8400</td>\n",
              "      <td>True</td>\n",
              "    </tr>\n",
              "    <tr>\n",
              "      <th>3</th>\n",
              "      <td>464</td>\n",
              "      <td>True</td>\n",
              "    </tr>\n",
              "    <tr>\n",
              "      <th>4</th>\n",
              "      <td>6672</td>\n",
              "      <td>False</td>\n",
              "    </tr>\n",
              "    <tr>\n",
              "      <th>...</th>\n",
              "      <td>...</td>\n",
              "      <td>...</td>\n",
              "    </tr>\n",
              "    <tr>\n",
              "      <th>995</th>\n",
              "      <td>8609</td>\n",
              "      <td>False</td>\n",
              "    </tr>\n",
              "    <tr>\n",
              "      <th>996</th>\n",
              "      <td>3384</td>\n",
              "      <td>True</td>\n",
              "    </tr>\n",
              "    <tr>\n",
              "      <th>997</th>\n",
              "      <td>8297</td>\n",
              "      <td>False</td>\n",
              "    </tr>\n",
              "    <tr>\n",
              "      <th>998</th>\n",
              "      <td>7556</td>\n",
              "      <td>False</td>\n",
              "    </tr>\n",
              "    <tr>\n",
              "      <th>999</th>\n",
              "      <td>8582</td>\n",
              "      <td>True</td>\n",
              "    </tr>\n",
              "  </tbody>\n",
              "</table>\n",
              "<p>1000 rows × 2 columns</p>\n",
              "</div>"
            ],
            "text/plain": [
              "       id  target\n",
              "0    3411   False\n",
              "1    2177   False\n",
              "2    8400    True\n",
              "3     464    True\n",
              "4    6672   False\n",
              "..    ...     ...\n",
              "995  8609   False\n",
              "996  3384    True\n",
              "997  8297   False\n",
              "998  7556   False\n",
              "999  8582    True\n",
              "\n",
              "[1000 rows x 2 columns]"
            ]
          },
          "metadata": {
            "tags": []
          },
          "execution_count": 208
        }
      ]
    },
    {
      "cell_type": "code",
      "metadata": {
        "id": "JU_6XlFRgPL2",
        "colab": {
          "base_uri": "https://localhost:8080/"
        },
        "outputId": "341b1612-eec8-403a-9232-ef3734840880"
      },
      "source": [
        "df_submit['target'].value_counts()"
      ],
      "execution_count": 209,
      "outputs": [
        {
          "output_type": "execute_result",
          "data": {
            "text/plain": [
              "False    558\n",
              "True     442\n",
              "Name: target, dtype: Int64"
            ]
          },
          "metadata": {
            "tags": []
          },
          "execution_count": 209
        }
      ]
    },
    {
      "cell_type": "code",
      "metadata": {
        "id": "XhnvrX4E65vY"
      },
      "source": [
        "F = df_submit['target'].value_counts()[0]\n",
        "T = df_submit['target'].value_counts()[1]"
      ],
      "execution_count": 210,
      "outputs": []
    },
    {
      "cell_type": "code",
      "metadata": {
        "id": "wB_47tDG60uC"
      },
      "source": [
        "df_submit.to_csv(f'/PyLadies_NL_93_Test_{round(F1_Test,4)}_X_{round(F1_X,4)}_Trein_{round(F1_Trein,4)}_F{F}_T{T}.csv',index = False, sep = ',')"
      ],
      "execution_count": 211,
      "outputs": []
    },
    {
      "cell_type": "markdown",
      "metadata": {
        "id": "NpufntZjyH8T"
      },
      "source": [
        "### Salvar a Rede Neural"
      ]
    },
    {
      "cell_type": "code",
      "metadata": {
        "id": "ZKqn0leTyLOy"
      },
      "source": [
        "# Save the weights\n",
        "RN.save('/RN_93.h5')"
      ],
      "execution_count": 212,
      "outputs": []
    },
    {
      "cell_type": "code",
      "metadata": {
        "id": "viORp6XjrC66"
      },
      "source": [
        ""
      ],
      "execution_count": null,
      "outputs": []
    }
  ]
}