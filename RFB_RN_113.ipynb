{
  "nbformat": 4,
  "nbformat_minor": 0,
  "metadata": {
    "colab": {
      "name": "Untitled5.ipynb",
      "provenance": [],
      "toc_visible": true,
      "authorship_tag": "ABX9TyNTIdXUtMNtTWZ6JCeVCEZm",
      "include_colab_link": true
    },
    "kernelspec": {
      "name": "python3",
      "display_name": "Python 3"
    }
  },
  "cells": [
    {
      "cell_type": "markdown",
      "metadata": {
        "id": "view-in-github",
        "colab_type": "text"
      },
      "source": [
        "<a href=\"https://colab.research.google.com/github/flavianacif/DSWP/blob/master/RFB_RN_113.ipynb\" target=\"_parent\"><img src=\"https://colab.research.google.com/assets/colab-badge.svg\" alt=\"Open In Colab\"/></a>"
      ]
    },
    {
      "cell_type": "code",
      "metadata": {
        "id": "j0_YZ6IURZE_",
        "colab": {
          "base_uri": "https://localhost:8080/"
        },
        "outputId": "14e08a83-ef85-4921-fa40-7df79f6315cc"
      },
      "source": [
        "\n",
        "import tensorflow as tf\n",
        "import numpy as np\n",
        "import pandas as pd\n",
        "import matplotlib.pyplot as plt\n",
        "import seaborn as sns\n",
        "from sklearn.metrics import confusion_matrix\n",
        "import tensorflow_addons as tfa\n",
        "from tensorflow import keras\n",
        "from sklearn.metrics import accuracy_score, f1_score, precision_score, recall_score, classification_report, confusion_matrix\n",
        "from collections import Counter\n",
        "from imblearn.over_sampling import SMOTE\n"
      ],
      "execution_count": 1,
      "outputs": [
        {
          "output_type": "stream",
          "text": [
            "/usr/local/lib/python3.6/dist-packages/sklearn/externals/six.py:31: FutureWarning: The module is deprecated in version 0.21 and will be removed in version 0.23 since we've dropped support for Python 2.7. Please rely on the official version of six (https://pypi.org/project/six/).\n",
            "  \"(https://pypi.org/project/six/).\", FutureWarning)\n",
            "/usr/local/lib/python3.6/dist-packages/sklearn/utils/deprecation.py:144: FutureWarning: The sklearn.neighbors.base module is  deprecated in version 0.22 and will be removed in version 0.24. The corresponding classes / functions should instead be imported from sklearn.neighbors. Anything that cannot be imported from sklearn.neighbors is now part of the private API.\n",
            "  warnings.warn(message, FutureWarning)\n"
          ],
          "name": "stderr"
        }
      ]
    },
    {
      "cell_type": "markdown",
      "metadata": {
        "id": "9ZX00UN5cjvM"
      },
      "source": [
        "[**Python**] - Verificar a versão do Tensorflow\n",
        "> Assegurar que está a utilizar a versão 2.x."
      ]
    },
    {
      "cell_type": "code",
      "metadata": {
        "id": "THWNIk_FCe_g",
        "colab": {
          "base_uri": "https://localhost:8080/",
          "height": 35
        },
        "outputId": "e81819cb-d0ea-40a5-a536-58a7f1728c38"
      },
      "source": [
        "tf.__version__"
      ],
      "execution_count": 2,
      "outputs": [
        {
          "output_type": "execute_result",
          "data": {
            "application/vnd.google.colaboratory.intrinsic+json": {
              "type": "string"
            },
            "text/plain": [
              "'2.3.0'"
            ]
          },
          "metadata": {
            "tags": []
          },
          "execution_count": 2
        }
      ]
    },
    {
      "cell_type": "markdown",
      "metadata": {
        "id": "PZgQAKqLcLX3"
      },
      "source": [
        "[**Python**] - Definir o número de casas decimais"
      ]
    },
    {
      "cell_type": "code",
      "metadata": {
        "id": "tzKor02BCe_d"
      },
      "source": [
        "np.set_printoptions(precision= 3)"
      ],
      "execution_count": 3,
      "outputs": []
    },
    {
      "cell_type": "markdown",
      "metadata": {
        "id": "M5V4KopjLWOL"
      },
      "source": [
        "### 1. Carregar os dados"
      ]
    },
    {
      "cell_type": "markdown",
      "metadata": {
        "id": "V_cwAUW3tseE"
      },
      "source": [
        "[**Python**] - Carregar os dados:"
      ]
    },
    {
      "cell_type": "code",
      "metadata": {
        "id": "_Bs87IWPtwtm"
      },
      "source": [
        "# Leitura do dataframe:\n",
        "df = pd.read_csv('/total_10.csv')"
      ],
      "execution_count": 4,
      "outputs": []
    },
    {
      "cell_type": "code",
      "metadata": {
        "id": "myhgteQhdqVi"
      },
      "source": [
        "df_total = df.copy()"
      ],
      "execution_count": 203,
      "outputs": []
    },
    {
      "cell_type": "code",
      "metadata": {
        "id": "0MfQNbWvfUkK"
      },
      "source": [
        "df_total.set_index('id', inplace=True)"
      ],
      "execution_count": 204,
      "outputs": []
    },
    {
      "cell_type": "code",
      "metadata": {
        "colab": {
          "base_uri": "https://localhost:8080/"
        },
        "id": "6730Oq3j-4w8",
        "outputId": "b87479a7-ea79-44fa-f728-c862acecab68"
      },
      "source": [
        "df_total.columns"
      ],
      "execution_count": 205,
      "outputs": [
        {
          "output_type": "execute_result",
          "data": {
            "text/plain": [
              "Index(['cnae2', 'rf2', 'md1', 'md2', 'md3', 'md4', 'md5', 'md6', 'md7', 'md8',\n",
              "       'md9', 'md10', 'md11', 'md12', 'mc1', 'mc2', 'mc3', 'mc4', 'ind01',\n",
              "       'ind02', 'ind03', 'ind04', 'ind05', 'ind06', 'ind07', 'ind08', 'ind09',\n",
              "       'ind10', 'ind11', 'ind12', 'ind13', 'ind14', 'ind15', 'ind16', 'ind17',\n",
              "       'ind18', 'ind19', 'ind20', 'ind21', 'ind22', 'ind23', 'ind24', 'ind25',\n",
              "       'ind26', 'ind27', 'ind28', 'ind29', 'ind30', 'ind31', 'ind32', 'ind33',\n",
              "       'ind34', 'ind35', 'ind36', 'ind37', 'ind38', 'ind39', 'ind40', 'ind41',\n",
              "       'ind42', 'ind43', 'target', 'cnae_secao', 'ind_g1_mv', 'ind_g1',\n",
              "       'ind_g2_mv', 'ind_g2', 'mc_g1_mv', 'mc_g1', 'md1_o', 'md2_o', 'md3_o',\n",
              "       'md4_o', 'md5_o', 'md7_o', 'md8_o', 'md9_o', 'md10_o', 'md12_o',\n",
              "       'mc1_o', 'mc3_o', 'mc4_o'],\n",
              "      dtype='object')"
            ]
          },
          "metadata": {
            "tags": []
          },
          "execution_count": 205
        }
      ]
    },
    {
      "cell_type": "markdown",
      "metadata": {
        "id": "6LXKr9-R_JIK"
      },
      "source": [
        "Retirando algumas colunas para testar"
      ]
    },
    {
      "cell_type": "code",
      "metadata": {
        "id": "aVnISOiD-xRk"
      },
      "source": [
        "df_total.drop(columns = ['rf2','cnae2','md1', 'md2', 'md3', 'md4', 'md5', 'md6', 'md7', 'md8',\n",
        "       'md9', 'md10', 'md11', 'md12', 'mc1', 'mc2', 'mc3', 'mc4','mc_g1','ind_g1',\n",
        "       'ind_g2','ind29', 'ind30','ind33', 'ind38', 'ind40', 'ind41'], inplace = True)"
      ],
      "execution_count": 206,
      "outputs": []
    },
    {
      "cell_type": "code",
      "metadata": {
        "colab": {
          "base_uri": "https://localhost:8080/"
        },
        "id": "IHt2y_5IHtRH",
        "outputId": "5c5d274b-096f-4951-d0b5-d6e4095b301a"
      },
      "source": [
        "df_total.columns"
      ],
      "execution_count": 207,
      "outputs": [
        {
          "output_type": "execute_result",
          "data": {
            "text/plain": [
              "Index(['ind01', 'ind02', 'ind03', 'ind04', 'ind05', 'ind06', 'ind07', 'ind08',\n",
              "       'ind09', 'ind10', 'ind11', 'ind12', 'ind13', 'ind14', 'ind15', 'ind16',\n",
              "       'ind17', 'ind18', 'ind19', 'ind20', 'ind21', 'ind22', 'ind23', 'ind24',\n",
              "       'ind25', 'ind26', 'ind27', 'ind28', 'ind31', 'ind32', 'ind34', 'ind35',\n",
              "       'ind36', 'ind37', 'ind39', 'ind42', 'ind43', 'target', 'cnae_secao',\n",
              "       'ind_g1_mv', 'ind_g2_mv', 'mc_g1_mv', 'md1_o', 'md2_o', 'md3_o',\n",
              "       'md4_o', 'md5_o', 'md7_o', 'md8_o', 'md9_o', 'md10_o', 'md12_o',\n",
              "       'mc1_o', 'mc3_o', 'mc4_o'],\n",
              "      dtype='object')"
            ]
          },
          "metadata": {
            "tags": []
          },
          "execution_count": 207
        }
      ]
    },
    {
      "cell_type": "markdown",
      "metadata": {
        "id": "e_0lkPsR_mFp"
      },
      "source": [
        "GET DUMMIES"
      ]
    },
    {
      "cell_type": "code",
      "metadata": {
        "id": "moTlPrJk5b0T"
      },
      "source": [
        "#df_total['cnae2'] = df_total['cnae2'].astype('category')\n",
        "#df_total[['ind28', 'ind31', 'ind32', 'ind34', 'ind35', 'ind36', 'ind37', 'ind39', 'ind42', 'ind43']] = df_total[['ind28', 'ind31', 'ind32', 'ind34', 'ind35', 'ind36', 'ind37', 'ind39', 'ind42', 'ind43']].astype('category')\n",
        "#df_total[['ind28', 'ind43']] = df_total[['ind28', 'ind43']].astype('category')"
      ],
      "execution_count": 208,
      "outputs": []
    },
    {
      "cell_type": "code",
      "metadata": {
        "id": "rN72uIGk_jMI"
      },
      "source": [
        "df_total = pd.get_dummies(df_total)"
      ],
      "execution_count": 209,
      "outputs": []
    },
    {
      "cell_type": "code",
      "metadata": {
        "id": "9gYa3Hy6lrZi"
      },
      "source": [
        "X_treino = df_total[df_total['target']!= 2]"
      ],
      "execution_count": 210,
      "outputs": []
    },
    {
      "cell_type": "code",
      "metadata": {
        "id": "KeckOXBrR_X6"
      },
      "source": [
        "df_X = X_treino.copy()"
      ],
      "execution_count": 211,
      "outputs": []
    },
    {
      "cell_type": "code",
      "metadata": {
        "id": "Q5tB1ey7eAe4"
      },
      "source": [
        "df_y = df_X['target']\n",
        "df_X = df_X.drop(columns= ['target'])"
      ],
      "execution_count": 212,
      "outputs": []
    },
    {
      "cell_type": "code",
      "metadata": {
        "id": "i8_BlpeteJow"
      },
      "source": [
        "X_test = df_total[df_total['target']== 2].drop(columns= ['target'])"
      ],
      "execution_count": 213,
      "outputs": []
    },
    {
      "cell_type": "code",
      "metadata": {
        "colab": {
          "base_uri": "https://localhost:8080/"
        },
        "id": "ZKOA1SHr0oYy",
        "outputId": "d044ffcb-9543-420e-f7c9-5fa697d67b04"
      },
      "source": [
        "X_treino.columns"
      ],
      "execution_count": 214,
      "outputs": [
        {
          "output_type": "execute_result",
          "data": {
            "text/plain": [
              "Index(['ind01', 'ind02', 'ind03', 'ind04', 'ind05', 'ind06', 'ind07', 'ind08',\n",
              "       'ind09', 'ind10', 'ind11', 'ind12', 'ind13', 'ind14', 'ind15', 'ind16',\n",
              "       'ind17', 'ind18', 'ind19', 'ind20', 'ind21', 'ind22', 'ind23', 'ind24',\n",
              "       'ind25', 'ind26', 'ind27', 'ind28', 'ind31', 'ind32', 'ind34', 'ind35',\n",
              "       'ind36', 'ind37', 'ind39', 'ind42', 'ind43', 'target', 'ind_g1_mv',\n",
              "       'ind_g2_mv', 'mc_g1_mv', 'md1_o', 'md2_o', 'md3_o', 'md4_o', 'md5_o',\n",
              "       'md7_o', 'md8_o', 'md9_o', 'md10_o', 'md12_o', 'mc1_o', 'mc3_o',\n",
              "       'mc4_o', 'cnae_secao_0', 'cnae_secao_A', 'cnae_secao_B', 'cnae_secao_C',\n",
              "       'cnae_secao_D', 'cnae_secao_E', 'cnae_secao_F', 'cnae_secao_G',\n",
              "       'cnae_secao_H', 'cnae_secao_I', 'cnae_secao_J', 'cnae_secao_K',\n",
              "       'cnae_secao_L', 'cnae_secao_M', 'cnae_secao_N', 'cnae_secao_P',\n",
              "       'cnae_secao_Q', 'cnae_secao_R', 'cnae_secao_S'],\n",
              "      dtype='object')"
            ]
          },
          "metadata": {
            "tags": []
          },
          "execution_count": 214
        }
      ]
    },
    {
      "cell_type": "markdown",
      "metadata": {
        "id": "qzWrM6VCSEoQ"
      },
      "source": [
        "Tratando o Balanceamento da Amostra"
      ]
    },
    {
      "cell_type": "code",
      "metadata": {
        "colab": {
          "base_uri": "https://localhost:8080/"
        },
        "id": "28lRhxtgRwEa",
        "outputId": "d662d7ad-1e38-4a1b-8e44-6035a81fff38"
      },
      "source": [
        "qtd = Counter(X_treino['target'])\n",
        "qtd"
      ],
      "execution_count": 215,
      "outputs": [
        {
          "output_type": "execute_result",
          "data": {
            "text/plain": [
              "Counter({0: 8513, 1: 2520})"
            ]
          },
          "metadata": {
            "tags": []
          },
          "execution_count": 215
        }
      ]
    },
    {
      "cell_type": "code",
      "metadata": {
        "id": "0AZCDYSOSHLx"
      },
      "source": [
        "from imblearn.under_sampling import RandomUnderSampler\n",
        "from imblearn.pipeline import Pipeline"
      ],
      "execution_count": 216,
      "outputs": []
    },
    {
      "cell_type": "code",
      "metadata": {
        "id": "Z1FhuODySLSS"
      },
      "source": [
        "over = SMOTE(sampling_strategy = 0.5) # Reamostrar a classe minoritária para ter 10% da classe majoritária\n",
        "under = RandomUnderSampler(sampling_strategy = 0.85) # Seleciona a classe majoritária para ter 50%\n",
        "steps = [('over', over), ('under', under)]\n",
        "pipeline = Pipeline(steps = steps)"
      ],
      "execution_count": 217,
      "outputs": []
    },
    {
      "cell_type": "code",
      "metadata": {
        "colab": {
          "base_uri": "https://localhost:8080/"
        },
        "id": "dwkQt9AFSNLL",
        "outputId": "8f854513-8a74-48aa-92c2-1beb631a6a73"
      },
      "source": [
        "X, y = pipeline.fit_resample(df_X, df_y)"
      ],
      "execution_count": 218,
      "outputs": [
        {
          "output_type": "stream",
          "text": [
            "/usr/local/lib/python3.6/dist-packages/sklearn/utils/deprecation.py:87: FutureWarning: Function safe_indexing is deprecated; safe_indexing is deprecated in version 0.22 and will be removed in version 0.24.\n",
            "  warnings.warn(msg, category=FutureWarning)\n",
            "/usr/local/lib/python3.6/dist-packages/sklearn/utils/deprecation.py:87: FutureWarning: Function safe_indexing is deprecated; safe_indexing is deprecated in version 0.22 and will be removed in version 0.24.\n",
            "  warnings.warn(msg, category=FutureWarning)\n"
          ],
          "name": "stderr"
        }
      ]
    },
    {
      "cell_type": "markdown",
      "metadata": {
        "id": "m22vN2YrSWOr"
      },
      "source": [
        "ANTES/DEPOIS:"
      ]
    },
    {
      "cell_type": "code",
      "metadata": {
        "colab": {
          "base_uri": "https://localhost:8080/"
        },
        "id": "oLiFXdkqSVNz",
        "outputId": "6473f255-6d30-4d22-a0e3-8f2304651b32"
      },
      "source": [
        "print(Counter(df_y),Counter(y))"
      ],
      "execution_count": 219,
      "outputs": [
        {
          "output_type": "stream",
          "text": [
            "Counter({0: 8513, 1: 2520}) Counter({0: 5007, 1: 4256})\n"
          ],
          "name": "stdout"
        }
      ]
    },
    {
      "cell_type": "markdown",
      "metadata": {
        "id": "jJaJWuUqJCha"
      },
      "source": [
        "### 3. Definir as amostras de treinamento e validação"
      ]
    },
    {
      "cell_type": "markdown",
      "metadata": {
        "id": "LoO2iEimu4SQ"
      },
      "source": [
        "[**Python**] - Definir as amostras de treinamento e validação"
      ]
    },
    {
      "cell_type": "code",
      "metadata": {
        "id": "hTCdm-F9JBGA",
        "colab": {
          "base_uri": "https://localhost:8080/"
        },
        "outputId": "cf97ba94-16e7-4836-e48d-f717385d1955"
      },
      "source": [
        "from sklearn.model_selection import train_test_split\n",
        "\n",
        "X_treinamento, X_teste, y_treinamento, y_teste= train_test_split(X, y, test_size = 0.1, random_state = 22091980) #20111974)\n",
        "print(f'X: Treinamento=  {X_treinamento.shape}; X: Teste=  {X_teste.shape}')"
      ],
      "execution_count": 220,
      "outputs": [
        {
          "output_type": "stream",
          "text": [
            "X: Treinamento=  (8336, 72); X: Teste=  (927, 72)\n"
          ],
          "name": "stdout"
        }
      ]
    },
    {
      "cell_type": "code",
      "metadata": {
        "id": "th9CsQpB8VDK",
        "colab": {
          "base_uri": "https://localhost:8080/"
        },
        "outputId": "40336933-808a-43fb-f776-5a1eaee2a376"
      },
      "source": [
        "print(f'Y: Treinamento =  {y_treinamento.shape}; Y: Teste = {y_teste.shape}')"
      ],
      "execution_count": 221,
      "outputs": [
        {
          "output_type": "stream",
          "text": [
            "Y: Treinamento =  (8336,); Y: Teste = (927,)\n"
          ],
          "name": "stdout"
        }
      ]
    },
    {
      "cell_type": "markdown",
      "metadata": {
        "id": "2bL-vXiULupD"
      },
      "source": [
        "### 4. Definir a arquitetura da Rede Neural com _Tensorflow_/_Keras_"
      ]
    },
    {
      "cell_type": "markdown",
      "metadata": {
        "id": "zxETX6dTfyU5"
      },
      "source": [
        "[**Python**] - Definir a arquitetura, ou seja:\n",
        "* $N_{I}$: Número de neurônios na camada de entrada (_Input Layer_);\n",
        "* $N_{O}$: Número de neurônios na camada de saída (_Output Layer_);\n",
        "* $N_{H}$: Número de neurônios na camada escondida (_Hidden Layer_);\n",
        "* FA: Função de ativação;"
      ]
    },
    {
      "cell_type": "code",
      "metadata": {
        "id": "F_MdsLicfyU6"
      },
      "source": [
        "# Número de Neurônios na Input Layer:\n",
        "N_I = 72\n",
        "\n",
        "# Número de neurônios na Output Layer:\n",
        "N_O = 1\n",
        "\n",
        "# Número de neurônios na Hidden Layer:\n",
        "N_H = 400\n",
        "\n",
        "N_H2 = 300\n",
        "\n",
        "N_H3=200\n",
        "\n",
        "N_H4 = 100\n",
        "\n",
        "N_H5 = 50\n",
        "\n",
        "N_H6 = 2\n",
        "\n",
        "\n",
        "\n",
        "# Função de Ativação da Hidden Layer:\n",
        "FA_H = tf.nn.leaky_relu\n",
        "#FA_H = tf.keras.activations.swish\n",
        "\n",
        "# Função de Ativação da Output Layer:\n",
        "FA_O = tf.keras.activations.sigmoid\n",
        "#FA_O = tf.keras.activations.softmax\n",
        "\n",
        "\n"
      ],
      "execution_count": 314,
      "outputs": []
    },
    {
      "cell_type": "markdown",
      "metadata": {
        "id": "SUMmDuPCcYyB"
      },
      "source": [
        "[**Python**] - Definir as sementes para NumPy e Tensorflow:\n",
        "> Por questões de reproducibilidade de resultados, use as sementes abaixo:\n",
        "\n",
        "* NumPy: 20111974;\n",
        "* Tensorflow: 20111974;"
      ]
    },
    {
      "cell_type": "code",
      "metadata": {
        "id": "T-echOBmceVy"
      },
      "source": [
        "np.random.seed(19800922)\n",
        "tf.random.set_seed(22091980)"
      ],
      "execution_count": 315,
      "outputs": []
    },
    {
      "cell_type": "markdown",
      "metadata": {
        "id": "7ZceRRdinEM2"
      },
      "source": [
        "\n",
        "[**Python**] - Definir a Rede Neural:"
      ]
    },
    {
      "cell_type": "markdown",
      "metadata": {
        "id": "nXQsSYq2DBfI"
      },
      "source": [
        "\n",
        "\n",
        "\n",
        "\n",
        "* 1 camada _dropout_ com $p= 0.1$:"
      ]
    },
    {
      "cell_type": "code",
      "metadata": {
        "id": "TRFR5Kr_nDtD",
        "colab": {
          "base_uri": "https://localhost:8080/"
        },
        "outputId": "1acef365-612e-4638-b089-fef924b27c51"
      },
      "source": [
        "from tensorflow.keras import Sequential\n",
        "from tensorflow.keras.layers import Dense\n",
        "from tensorflow.keras.layers import Dropout\n",
        "\n",
        "RN= Sequential()\n",
        "RN.add(Dense(N_H, input_dim= N_I, kernel_initializer= tf.keras.initializers.GlorotNormal(), activation= FA_H, kernel_constraint= tf.keras.constraints.UnitNorm()))\n",
        "RN.add(Dropout(0.3))\n",
        "RN.add(Dense(N_H2, kernel_initializer= tf.keras.initializers.GlorotNormal(), activation= FA_H, kernel_constraint= tf.keras.constraints.UnitNorm()))\n",
        "RN.add(Dropout(0.3))\n",
        "RN.add(Dense(N_H3, kernel_initializer= tf.keras.initializers.GlorotNormal(), activation= FA_H, kernel_constraint= tf.keras.constraints.UnitNorm()))\n",
        "RN.add(Dropout(0.3))\n",
        "RN.add(Dense(N_H4, kernel_initializer= tf.keras.initializers.GlorotNormal(), activation= FA_H, kernel_constraint= tf.keras.constraints.UnitNorm()))\n",
        "RN.add(Dropout(0.3))\n",
        "RN.add(Dense(N_H5, kernel_initializer= tf.keras.initializers.GlorotNormal(), activation= FA_H, kernel_constraint= tf.keras.constraints.UnitNorm()))\n",
        "RN.add(Dropout(0.3))\n",
        "RN.add(Dense(N_H6, kernel_initializer= tf.keras.initializers.GlorotNormal(), activation= FA_H, kernel_constraint= tf.keras.constraints.UnitNorm()))\n",
        "RN.add(Dropout(0.3))\n",
        "RN.add(Dense(units= N_O, activation= FA_O))\n",
        "\n",
        "# Resumo da arquitetura da Rede Neural\n",
        "print(RN.summary())"
      ],
      "execution_count": 316,
      "outputs": [
        {
          "output_type": "stream",
          "text": [
            "Model: \"sequential_13\"\n",
            "_________________________________________________________________\n",
            "Layer (type)                 Output Shape              Param #   \n",
            "=================================================================\n",
            "dense_91 (Dense)             (None, 400)               29200     \n",
            "_________________________________________________________________\n",
            "dropout_78 (Dropout)         (None, 400)               0         \n",
            "_________________________________________________________________\n",
            "dense_92 (Dense)             (None, 300)               120300    \n",
            "_________________________________________________________________\n",
            "dropout_79 (Dropout)         (None, 300)               0         \n",
            "_________________________________________________________________\n",
            "dense_93 (Dense)             (None, 200)               60200     \n",
            "_________________________________________________________________\n",
            "dropout_80 (Dropout)         (None, 200)               0         \n",
            "_________________________________________________________________\n",
            "dense_94 (Dense)             (None, 100)               20100     \n",
            "_________________________________________________________________\n",
            "dropout_81 (Dropout)         (None, 100)               0         \n",
            "_________________________________________________________________\n",
            "dense_95 (Dense)             (None, 50)                5050      \n",
            "_________________________________________________________________\n",
            "dropout_82 (Dropout)         (None, 50)                0         \n",
            "_________________________________________________________________\n",
            "dense_96 (Dense)             (None, 2)                 102       \n",
            "_________________________________________________________________\n",
            "dropout_83 (Dropout)         (None, 2)                 0         \n",
            "_________________________________________________________________\n",
            "dense_97 (Dense)             (None, 1)                 3         \n",
            "=================================================================\n",
            "Total params: 234,955\n",
            "Trainable params: 234,955\n",
            "Non-trainable params: 0\n",
            "_________________________________________________________________\n",
            "None\n"
          ],
          "name": "stdout"
        }
      ]
    },
    {
      "cell_type": "markdown",
      "metadata": {
        "id": "4JBZf4ypGO8o"
      },
      "source": [
        "### 5. Compilar a Rede Neural\n",
        "\n",
        "Este é um problema de classificação binária (_Male_ ou _Female_). Portanto, temos:\n",
        "* optimizer= tf.keras.optimizers.Adam();\n",
        "* loss=  tf.keras.losses.MeanSquaredError() ou loss= tf.keras.losses.BinaryCrossentropy(). Particularmente, eu gosto de usar loss=  tf.keras.losses.MeanSquaredError() porque o resultado é mais intuitivo;\n",
        "* metrics= tf.keras.metrics.binary_accuracy."
      ]
    },
    {
      "cell_type": "markdown",
      "metadata": {
        "id": "USmAuw6f00wL"
      },
      "source": [
        "[**Python**] - Comando modelo.compile(optimizer, loss, metrics):"
      ]
    },
    {
      "cell_type": "code",
      "metadata": {
        "id": "h7KEi1_e6SSF"
      },
      "source": [
        "\n",
        "Algoritmo_Opt = tf.keras.optimizers.Adamax()\n",
        "#Algoritmo_Opt = tf.keras.optimizers.Adam(learning_rate=0.01, beta_1=0.8, beta_2=0.99, epsilon=1e-07 , amsgrad=True,     name='Adam')\n",
        "#Loss_Function = tf.keras.losses.MeanSquaredError()\n",
        "Loss_Function = tf.keras.losses.BinaryCrossentropy()\n",
        "#Metrics_Perf = tf.keras.metrics.binary_accuracy\n",
        "Metrics_Perf = tfa.metrics.F1Score(1,average='macro',threshold=0.5)\n",
        "RN.compile(optimizer = Algoritmo_Opt, loss = Loss_Function,metrics = Metrics_Perf)\n",
        "#RN.compile( loss = Loss_Function,metrics = Metrics_Perf)"
      ],
      "execution_count": 317,
      "outputs": []
    },
    {
      "cell_type": "markdown",
      "metadata": {
        "id": "Hc90EeV_GojX"
      },
      "source": [
        "### 6. Ajustar a Rede Neural\n",
        "\n",
        "Obs.: A opção callbacks abaixo implementa o conceito de _early stopping_. Esta opção vai parar o processo de treinamento da Rede Neural antes de atingirmos o númerco de _epochs_ quando o modelo pára de melhorar, medido pela métrica val_loss. O parâmetro _patience_= k significa que o processo de otimização vai parar se tivermos k _epochs_ consecutivas sem observarmos melhoria da performance da Rede Neural."
      ]
    },
    {
      "cell_type": "markdown",
      "metadata": {
        "id": "XCCTtUh_vEFP"
      },
      "source": [
        "[**Python**] - Comando modelo.fit(X_treinamento, y_treinamento, epochs)"
      ]
    },
    {
      "cell_type": "code",
      "metadata": {
        "id": "EB91J6nrF0db",
        "colab": {
          "base_uri": "https://localhost:8080/"
        },
        "outputId": "26ea213b-4bb3-42f3-ae57-e3b64ce64cfa"
      },
      "source": [
        "callbacks = [tf.keras.callbacks.EarlyStopping(monitor = 'val_f1_score', mode = 'max',patience = 20, min_delta = 0.001)]\n",
        "hist= RN.fit(X_treinamento, y_treinamento, epochs = 100, batch_size = 20,\n",
        "             validation_data = (X_teste, y_teste), callbacks = callbacks)"
      ],
      "execution_count": 318,
      "outputs": [
        {
          "output_type": "stream",
          "text": [
            "Epoch 1/100\n",
            "417/417 [==============================] - 2s 5ms/step - loss: 0.6481 - f1_score: 0.6087 - val_loss: 0.6192 - val_f1_score: 0.6718\n",
            "Epoch 2/100\n",
            "417/417 [==============================] - 2s 4ms/step - loss: 0.6284 - f1_score: 0.6640 - val_loss: 0.6103 - val_f1_score: 0.6667\n",
            "Epoch 3/100\n",
            "417/417 [==============================] - 2s 4ms/step - loss: 0.6189 - f1_score: 0.6391 - val_loss: 0.6014 - val_f1_score: 0.6779\n",
            "Epoch 4/100\n",
            "417/417 [==============================] - 2s 4ms/step - loss: 0.6126 - f1_score: 0.6509 - val_loss: 0.5995 - val_f1_score: 0.6736\n",
            "Epoch 5/100\n",
            "417/417 [==============================] - 2s 4ms/step - loss: 0.6125 - f1_score: 0.6517 - val_loss: 0.5978 - val_f1_score: 0.6812\n",
            "Epoch 6/100\n",
            "417/417 [==============================] - 2s 4ms/step - loss: 0.6029 - f1_score: 0.6512 - val_loss: 0.5947 - val_f1_score: 0.6793\n",
            "Epoch 7/100\n",
            "417/417 [==============================] - 2s 4ms/step - loss: 0.6002 - f1_score: 0.6543 - val_loss: 0.5894 - val_f1_score: 0.6826\n",
            "Epoch 8/100\n",
            "417/417 [==============================] - 2s 5ms/step - loss: 0.6059 - f1_score: 0.6513 - val_loss: 0.5946 - val_f1_score: 0.7046\n",
            "Epoch 9/100\n",
            "417/417 [==============================] - 2s 4ms/step - loss: 0.5937 - f1_score: 0.6611 - val_loss: 0.5917 - val_f1_score: 0.6732\n",
            "Epoch 10/100\n",
            "417/417 [==============================] - 2s 5ms/step - loss: 0.5936 - f1_score: 0.6540 - val_loss: 0.5850 - val_f1_score: 0.6893\n",
            "Epoch 11/100\n",
            "417/417 [==============================] - 2s 4ms/step - loss: 0.5926 - f1_score: 0.6566 - val_loss: 0.5830 - val_f1_score: 0.6969\n",
            "Epoch 12/100\n",
            "417/417 [==============================] - 2s 4ms/step - loss: 0.5883 - f1_score: 0.6614 - val_loss: 0.5801 - val_f1_score: 0.6696\n",
            "Epoch 13/100\n",
            "417/417 [==============================] - 2s 5ms/step - loss: 0.5896 - f1_score: 0.6593 - val_loss: 0.5830 - val_f1_score: 0.6561\n",
            "Epoch 14/100\n",
            "417/417 [==============================] - 2s 5ms/step - loss: 0.5814 - f1_score: 0.6666 - val_loss: 0.5787 - val_f1_score: 0.7056\n",
            "Epoch 15/100\n",
            "417/417 [==============================] - 2s 4ms/step - loss: 0.5843 - f1_score: 0.6664 - val_loss: 0.5744 - val_f1_score: 0.6944\n",
            "Epoch 16/100\n",
            "417/417 [==============================] - 2s 4ms/step - loss: 0.5805 - f1_score: 0.6653 - val_loss: 0.5768 - val_f1_score: 0.6934\n",
            "Epoch 17/100\n",
            "417/417 [==============================] - 2s 4ms/step - loss: 0.5758 - f1_score: 0.6708 - val_loss: 0.5724 - val_f1_score: 0.6833\n",
            "Epoch 18/100\n",
            "417/417 [==============================] - 2s 5ms/step - loss: 0.5685 - f1_score: 0.6710 - val_loss: 0.5707 - val_f1_score: 0.6954\n",
            "Epoch 19/100\n",
            "417/417 [==============================] - 2s 4ms/step - loss: 0.5742 - f1_score: 0.6657 - val_loss: 0.5704 - val_f1_score: 0.6974\n",
            "Epoch 20/100\n",
            "417/417 [==============================] - 2s 4ms/step - loss: 0.5734 - f1_score: 0.6593 - val_loss: 0.5682 - val_f1_score: 0.6850\n",
            "Epoch 21/100\n",
            "417/417 [==============================] - 2s 5ms/step - loss: 0.5697 - f1_score: 0.6777 - val_loss: 0.5714 - val_f1_score: 0.6943\n",
            "Epoch 22/100\n",
            "417/417 [==============================] - 2s 5ms/step - loss: 0.5658 - f1_score: 0.6707 - val_loss: 0.5695 - val_f1_score: 0.7141\n",
            "Epoch 23/100\n",
            "417/417 [==============================] - 2s 4ms/step - loss: 0.5630 - f1_score: 0.6770 - val_loss: 0.5607 - val_f1_score: 0.6984\n",
            "Epoch 24/100\n",
            "417/417 [==============================] - 2s 4ms/step - loss: 0.5558 - f1_score: 0.6864 - val_loss: 0.5631 - val_f1_score: 0.7001\n",
            "Epoch 25/100\n",
            "417/417 [==============================] - 2s 5ms/step - loss: 0.5589 - f1_score: 0.6803 - val_loss: 0.5635 - val_f1_score: 0.6757\n",
            "Epoch 26/100\n",
            "417/417 [==============================] - 2s 4ms/step - loss: 0.5537 - f1_score: 0.6935 - val_loss: 0.5606 - val_f1_score: 0.6856\n",
            "Epoch 27/100\n",
            "417/417 [==============================] - 2s 4ms/step - loss: 0.5477 - f1_score: 0.6910 - val_loss: 0.5668 - val_f1_score: 0.6992\n",
            "Epoch 28/100\n",
            "417/417 [==============================] - 2s 4ms/step - loss: 0.5455 - f1_score: 0.6945 - val_loss: 0.5683 - val_f1_score: 0.7280\n",
            "Epoch 29/100\n",
            "417/417 [==============================] - 2s 4ms/step - loss: 0.5455 - f1_score: 0.6886 - val_loss: 0.5616 - val_f1_score: 0.6989\n",
            "Epoch 30/100\n",
            "417/417 [==============================] - 2s 5ms/step - loss: 0.5450 - f1_score: 0.6940 - val_loss: 0.5638 - val_f1_score: 0.7131\n",
            "Epoch 31/100\n",
            "417/417 [==============================] - 2s 4ms/step - loss: 0.5419 - f1_score: 0.6861 - val_loss: 0.5586 - val_f1_score: 0.6896\n",
            "Epoch 32/100\n",
            "417/417 [==============================] - 2s 5ms/step - loss: 0.5396 - f1_score: 0.6997 - val_loss: 0.5650 - val_f1_score: 0.6856\n",
            "Epoch 33/100\n",
            "417/417 [==============================] - 2s 5ms/step - loss: 0.5414 - f1_score: 0.6949 - val_loss: 0.5643 - val_f1_score: 0.6835\n",
            "Epoch 34/100\n",
            "417/417 [==============================] - 2s 5ms/step - loss: 0.5371 - f1_score: 0.6966 - val_loss: 0.5657 - val_f1_score: 0.7030\n",
            "Epoch 35/100\n",
            "417/417 [==============================] - 2s 5ms/step - loss: 0.5366 - f1_score: 0.6962 - val_loss: 0.5600 - val_f1_score: 0.6996\n",
            "Epoch 36/100\n",
            "417/417 [==============================] - 2s 4ms/step - loss: 0.5261 - f1_score: 0.6991 - val_loss: 0.5676 - val_f1_score: 0.7014\n",
            "Epoch 37/100\n",
            "417/417 [==============================] - 2s 4ms/step - loss: 0.5287 - f1_score: 0.6965 - val_loss: 0.5635 - val_f1_score: 0.7091\n",
            "Epoch 38/100\n",
            "417/417 [==============================] - 2s 5ms/step - loss: 0.5226 - f1_score: 0.7060 - val_loss: 0.5663 - val_f1_score: 0.6958\n",
            "Epoch 39/100\n",
            "417/417 [==============================] - 2s 5ms/step - loss: 0.5218 - f1_score: 0.6958 - val_loss: 0.5554 - val_f1_score: 0.6982\n",
            "Epoch 40/100\n",
            "417/417 [==============================] - 2s 5ms/step - loss: 0.5179 - f1_score: 0.7082 - val_loss: 0.5639 - val_f1_score: 0.7022\n",
            "Epoch 41/100\n",
            "417/417 [==============================] - 2s 5ms/step - loss: 0.5176 - f1_score: 0.7073 - val_loss: 0.5596 - val_f1_score: 0.7164\n",
            "Epoch 42/100\n",
            "417/417 [==============================] - 2s 5ms/step - loss: 0.5190 - f1_score: 0.7083 - val_loss: 0.5661 - val_f1_score: 0.7071\n",
            "Epoch 43/100\n",
            "417/417 [==============================] - 2s 4ms/step - loss: 0.5096 - f1_score: 0.7157 - val_loss: 0.5754 - val_f1_score: 0.7168\n",
            "Epoch 44/100\n",
            "417/417 [==============================] - 2s 5ms/step - loss: 0.5189 - f1_score: 0.7132 - val_loss: 0.5679 - val_f1_score: 0.7088\n",
            "Epoch 45/100\n",
            "417/417 [==============================] - 2s 4ms/step - loss: 0.5190 - f1_score: 0.7057 - val_loss: 0.5636 - val_f1_score: 0.6987\n",
            "Epoch 46/100\n",
            "417/417 [==============================] - 2s 5ms/step - loss: 0.5068 - f1_score: 0.7097 - val_loss: 0.5734 - val_f1_score: 0.7083\n",
            "Epoch 47/100\n",
            "417/417 [==============================] - 2s 4ms/step - loss: 0.5021 - f1_score: 0.7149 - val_loss: 0.5658 - val_f1_score: 0.7031\n",
            "Epoch 48/100\n",
            "417/417 [==============================] - 2s 4ms/step - loss: 0.5116 - f1_score: 0.7083 - val_loss: 0.5598 - val_f1_score: 0.7097\n"
          ],
          "name": "stdout"
        }
      ]
    },
    {
      "cell_type": "code",
      "metadata": {
        "id": "IE28TqhAWVlz"
      },
      "source": [
        ""
      ],
      "execution_count": 296,
      "outputs": []
    },
    {
      "cell_type": "markdown",
      "metadata": {
        "id": "J1sL_DTrKmpq"
      },
      "source": [
        "### 7. Avaliar a performance da Rede Neural\n",
        "\n",
        "Para avaliar a a Rede Neural, simplesmente informamos as amostras de teste: X_teste e y_teste. A função evaluate() vai retornar uma lista contendo 2 valores: loss e accuracy."
      ]
    },
    {
      "cell_type": "markdown",
      "metadata": {
        "id": "VckQfEFPvMa7"
      },
      "source": [
        "[**Python**] - Comando modelo.evaluate(X_teste, y_teste)"
      ]
    },
    {
      "cell_type": "code",
      "metadata": {
        "id": "veeKG78w4hWh"
      },
      "source": [
        "def Mostra_ConfusionMatrix(X,y):\n",
        "    y_pred = RN.predict_classes(X)\n",
        "    mc = confusion_matrix(y, y_pred)\n",
        "    #sns.heatmap(mc,annot=True, annot_kws={\"size\": 10},fmt=\"d\")\n",
        "    sns.heatmap(mc/np.sum(mc), annot=True, annot_kws={\"size\": 10}, fmt='.2%', cmap='Blues')"
      ],
      "execution_count": 297,
      "outputs": []
    },
    {
      "cell_type": "code",
      "metadata": {
        "colab": {
          "base_uri": "https://localhost:8080/"
        },
        "id": "XUJL6Y6A4hWh",
        "outputId": "ce4b8980-aa42-41f8-97bc-9cbe32ca6860"
      },
      "source": [
        "RN.evaluate(X_teste, y_teste)"
      ],
      "execution_count": 319,
      "outputs": [
        {
          "output_type": "stream",
          "text": [
            "29/29 [==============================] - 0s 1ms/step - loss: 0.5598 - f1_score: 0.7097\n"
          ],
          "name": "stdout"
        },
        {
          "output_type": "execute_result",
          "data": {
            "text/plain": [
              "[0.5597609281539917, 0.7097480893135071]"
            ]
          },
          "metadata": {
            "tags": []
          },
          "execution_count": 319
        }
      ]
    },
    {
      "cell_type": "code",
      "metadata": {
        "colab": {
          "base_uri": "https://localhost:8080/"
        },
        "id": "g3KRG1fN4hWi",
        "outputId": "d96ec38a-caf4-4f3d-8dbf-a06b8b4c5d54"
      },
      "source": [
        "F1_Test=f1_score(y_teste, RN.predict_classes(X_teste), average=\"macro\")\n",
        "print(f'F1: {F1_Test}')"
      ],
      "execution_count": 320,
      "outputs": [
        {
          "output_type": "stream",
          "text": [
            "F1: 0.7140663901863855\n"
          ],
          "name": "stdout"
        }
      ]
    },
    {
      "cell_type": "code",
      "metadata": {
        "id": "HSC6yxs9VONq",
        "colab": {
          "base_uri": "https://localhost:8080/",
          "height": 265
        },
        "outputId": "42eedada-9616-4953-cc55-e6f04df0b904"
      },
      "source": [
        "Mostra_ConfusionMatrix(X_teste, y_teste)"
      ],
      "execution_count": 321,
      "outputs": [
        {
          "output_type": "display_data",
          "data": {
            "image/png": "[encoded data removed]",
            "text/plain": [
              "<Figure size 432x288 with 2 Axes>"
            ]
          },
          "metadata": {
            "tags": [],
            "needs_background": "light"
          }
        }
      ]
    },
    {
      "cell_type": "code",
      "metadata": {
        "colab": {
          "base_uri": "https://localhost:8080/"
        },
        "id": "vdDUMlaT4hWi",
        "outputId": "6c2a0b24-cf2a-4e08-9b27-3aa0a833f122"
      },
      "source": [
        "RN.evaluate(df_X, df_y)"
      ],
      "execution_count": 322,
      "outputs": [
        {
          "output_type": "stream",
          "text": [
            "345/345 [==============================] - 1s 2ms/step - loss: 0.4951 - f1_score: 0.5787\n"
          ],
          "name": "stdout"
        },
        {
          "output_type": "execute_result",
          "data": {
            "text/plain": [
              "[0.4951016902923584, 0.5786907076835632]"
            ]
          },
          "metadata": {
            "tags": []
          },
          "execution_count": 322
        }
      ]
    },
    {
      "cell_type": "code",
      "metadata": {
        "colab": {
          "base_uri": "https://localhost:8080/"
        },
        "id": "NbBX0xLW4hWi",
        "outputId": "0c4bdcf1-ac98-43e6-a897-b47fca6a28c3"
      },
      "source": [
        "F1_X=f1_score(df_y, RN.predict_classes(df_X), average=\"macro\")\n",
        "print(f'F1: {F1_X}')"
      ],
      "execution_count": 323,
      "outputs": [
        {
          "output_type": "stream",
          "text": [
            "F1: 0.6961693278689225\n"
          ],
          "name": "stdout"
        }
      ]
    },
    {
      "cell_type": "code",
      "metadata": {
        "id": "uKMi5mUMVWdR",
        "colab": {
          "base_uri": "https://localhost:8080/",
          "height": 265
        },
        "outputId": "3b5ce413-fe3a-434d-bf5f-cfe8c45da552"
      },
      "source": [
        "Mostra_ConfusionMatrix(df_X, df_y)"
      ],
      "execution_count": 324,
      "outputs": [
        {
          "output_type": "display_data",
          "data": {
            "image/png": "[encoded data removed]",
            "text/plain": [
              "<Figure size 432x288 with 2 Axes>"
            ]
          },
          "metadata": {
            "tags": [],
            "needs_background": "light"
          }
        }
      ]
    },
    {
      "cell_type": "code",
      "metadata": {
        "colab": {
          "base_uri": "https://localhost:8080/"
        },
        "id": "X1V4oO0R4hWi",
        "outputId": "4c2f440e-a730-4b9d-b002-be65337de992"
      },
      "source": [
        "RN.evaluate(X_treinamento, y_treinamento)"
      ],
      "execution_count": 325,
      "outputs": [
        {
          "output_type": "stream",
          "text": [
            "261/261 [==============================] - 0s 1ms/step - loss: 0.4479 - f1_score: 0.8019\n"
          ],
          "name": "stdout"
        },
        {
          "output_type": "execute_result",
          "data": {
            "text/plain": [
              "[0.4478808045387268, 0.801946759223938]"
            ]
          },
          "metadata": {
            "tags": []
          },
          "execution_count": 325
        }
      ]
    },
    {
      "cell_type": "code",
      "metadata": {
        "colab": {
          "base_uri": "https://localhost:8080/"
        },
        "id": "g7cCtosc4hWi",
        "outputId": "322c4cb1-80ef-430e-f93a-cedc439ea5ac"
      },
      "source": [
        "F1_Trein=f1_score(y_treinamento, RN.predict_classes(X_treinamento), average=\"macro\")\n",
        "print(f'F1: {F1_Trein}')"
      ],
      "execution_count": 326,
      "outputs": [
        {
          "output_type": "stream",
          "text": [
            "F1: 0.8093346608331504\n"
          ],
          "name": "stdout"
        }
      ]
    },
    {
      "cell_type": "code",
      "metadata": {
        "colab": {
          "base_uri": "https://localhost:8080/",
          "height": 265
        },
        "id": "N89YhXgS4hWj",
        "outputId": "80ac1a65-80e7-41eb-a62a-ac7fbf4619f5"
      },
      "source": [
        "Mostra_ConfusionMatrix(X_treinamento, y_treinamento)"
      ],
      "execution_count": 327,
      "outputs": [
        {
          "output_type": "display_data",
          "data": {
            "image/png": "[encoded data removed]",
            "text/plain": [
              "<Figure size 432x288 with 2 Axes>"
            ]
          },
          "metadata": {
            "tags": [],
            "needs_background": "light"
          }
        }
      ]
    },
    {
      "cell_type": "markdown",
      "metadata": {
        "id": "D5zYHcGuMPZe"
      },
      "source": [
        "### 8. _Fine tuning_ da Rede Neural\n",
        "\n",
        "Para aumentar a acurácia da Rede Neural, sugiro aumentarmos o número de neurônios na _Hidden Layer_ e/ou aumentar o número de _Hidden Layers_.\n",
        "\n",
        "No entanto, obtivemos uma acurácia razoável com a Rede Neural _baseline_. Portanto, deixo como exercício para os alunos o desafio de melhorar a acurácia desta Rede Neural."
      ]
    },
    {
      "cell_type": "markdown",
      "metadata": {
        "id": "_ISodOu-Kmp3"
      },
      "source": [
        "### 9. Fazer Predições com a Rede Neural"
      ]
    },
    {
      "cell_type": "markdown",
      "metadata": {
        "id": "_xgdL1W4vUrN"
      },
      "source": [
        "[**Python**] - Comando:\n",
        "* RN.predict_classes(X_treinamento);\n",
        "* RN.predict_classes(X_teste)."
      ]
    },
    {
      "cell_type": "code",
      "metadata": {
        "id": "kqy2rt3YfPiy"
      },
      "source": [
        "y_test = RN.predict_classes(X_test)\n"
      ],
      "execution_count": 328,
      "outputs": []
    },
    {
      "cell_type": "code",
      "metadata": {
        "id": "_C_u02mygKgt"
      },
      "source": [
        "df_submit = pd.concat([pd.DataFrame(X_test.index,columns=['id']),pd.DataFrame(y_test,columns=['target']).astype('boolean')],axis=1)\n",
        "\n"
      ],
      "execution_count": 329,
      "outputs": []
    },
    {
      "cell_type": "code",
      "metadata": {
        "colab": {
          "base_uri": "https://localhost:8080/",
          "height": 407
        },
        "id": "k-GLGzuem3cV",
        "outputId": "8621e08c-c635-4ac8-8d16-00a247962c2a"
      },
      "source": [
        "df_submit"
      ],
      "execution_count": 330,
      "outputs": [
        {
          "output_type": "execute_result",
          "data": {
            "text/html": [
              "<div>\n",
              "<style scoped>\n",
              "    .dataframe tbody tr th:only-of-type {\n",
              "        vertical-align: middle;\n",
              "    }\n",
              "\n",
              "    .dataframe tbody tr th {\n",
              "        vertical-align: top;\n",
              "    }\n",
              "\n",
              "    .dataframe thead th {\n",
              "        text-align: right;\n",
              "    }\n",
              "</style>\n",
              "<table border=\"1\" class=\"dataframe\">\n",
              "  <thead>\n",
              "    <tr style=\"text-align: right;\">\n",
              "      <th></th>\n",
              "      <th>id</th>\n",
              "      <th>target</th>\n",
              "    </tr>\n",
              "  </thead>\n",
              "  <tbody>\n",
              "    <tr>\n",
              "      <th>0</th>\n",
              "      <td>3411</td>\n",
              "      <td>False</td>\n",
              "    </tr>\n",
              "    <tr>\n",
              "      <th>1</th>\n",
              "      <td>2177</td>\n",
              "      <td>True</td>\n",
              "    </tr>\n",
              "    <tr>\n",
              "      <th>2</th>\n",
              "      <td>8400</td>\n",
              "      <td>False</td>\n",
              "    </tr>\n",
              "    <tr>\n",
              "      <th>3</th>\n",
              "      <td>464</td>\n",
              "      <td>True</td>\n",
              "    </tr>\n",
              "    <tr>\n",
              "      <th>4</th>\n",
              "      <td>6672</td>\n",
              "      <td>False</td>\n",
              "    </tr>\n",
              "    <tr>\n",
              "      <th>...</th>\n",
              "      <td>...</td>\n",
              "      <td>...</td>\n",
              "    </tr>\n",
              "    <tr>\n",
              "      <th>995</th>\n",
              "      <td>8609</td>\n",
              "      <td>False</td>\n",
              "    </tr>\n",
              "    <tr>\n",
              "      <th>996</th>\n",
              "      <td>3384</td>\n",
              "      <td>True</td>\n",
              "    </tr>\n",
              "    <tr>\n",
              "      <th>997</th>\n",
              "      <td>8297</td>\n",
              "      <td>False</td>\n",
              "    </tr>\n",
              "    <tr>\n",
              "      <th>998</th>\n",
              "      <td>7556</td>\n",
              "      <td>False</td>\n",
              "    </tr>\n",
              "    <tr>\n",
              "      <th>999</th>\n",
              "      <td>8582</td>\n",
              "      <td>True</td>\n",
              "    </tr>\n",
              "  </tbody>\n",
              "</table>\n",
              "<p>1000 rows × 2 columns</p>\n",
              "</div>"
            ],
            "text/plain": [
              "       id  target\n",
              "0    3411   False\n",
              "1    2177    True\n",
              "2    8400   False\n",
              "3     464    True\n",
              "4    6672   False\n",
              "..    ...     ...\n",
              "995  8609   False\n",
              "996  3384    True\n",
              "997  8297   False\n",
              "998  7556   False\n",
              "999  8582    True\n",
              "\n",
              "[1000 rows x 2 columns]"
            ]
          },
          "metadata": {
            "tags": []
          },
          "execution_count": 330
        }
      ]
    },
    {
      "cell_type": "code",
      "metadata": {
        "id": "JU_6XlFRgPL2",
        "colab": {
          "base_uri": "https://localhost:8080/"
        },
        "outputId": "3f6af864-c4f9-49a3-8812-20eb143c6955"
      },
      "source": [
        "df_submit['target'].value_counts()"
      ],
      "execution_count": 331,
      "outputs": [
        {
          "output_type": "execute_result",
          "data": {
            "text/plain": [
              "False    552\n",
              "True     448\n",
              "Name: target, dtype: Int64"
            ]
          },
          "metadata": {
            "tags": []
          },
          "execution_count": 331
        }
      ]
    },
    {
      "cell_type": "code",
      "metadata": {
        "id": "XhnvrX4E65vY"
      },
      "source": [
        "F = df_submit['target'].value_counts()[0]\n",
        "T = df_submit['target'].value_counts()[1]"
      ],
      "execution_count": 333,
      "outputs": []
    },
    {
      "cell_type": "code",
      "metadata": {
        "id": "wB_47tDG60uC"
      },
      "source": [
        "df_submit.to_csv(f'/PyLadies_NL_113_Test_{round(F1_Test,4)}_X_{round(F1_X,4)}_Trein_{round(F1_Trein,4)}_F{F}_T{T}.csv',index = False, sep = ',')"
      ],
      "execution_count": 334,
      "outputs": []
    },
    {
      "cell_type": "markdown",
      "metadata": {
        "id": "NpufntZjyH8T"
      },
      "source": [
        "### Salvar a Rede Neural"
      ]
    },
    {
      "cell_type": "code",
      "metadata": {
        "id": "ZKqn0leTyLOy"
      },
      "source": [
        "# Save the weights\n",
        "RN.save('/RN_113.h5')"
      ],
      "execution_count": 335,
      "outputs": []
    },
    {
      "cell_type": "code",
      "metadata": {
        "id": "viORp6XjrC66"
      },
      "source": [
        ""
      ],
      "execution_count": null,
      "outputs": []
    }
  ]
}