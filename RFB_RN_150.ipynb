{
  "nbformat": 4,
  "nbformat_minor": 0,
  "metadata": {
    "colab": {
      "name": "Untitled5.ipynb",
      "provenance": [],
      "authorship_tag": "ABX9TyORSihOBdZFE7UYdYXnWut3",
      "include_colab_link": true
    },
    "kernelspec": {
      "name": "python3",
      "display_name": "Python 3"
    }
  },
  "cells": [
    {
      "cell_type": "markdown",
      "metadata": {
        "id": "view-in-github",
        "colab_type": "text"
      },
      "source": [
        "<a href=\"https://colab.research.google.com/github/flavianacif/DSWP/blob/master/RFB_RN_150.ipynb\" target=\"_parent\"><img src=\"https://colab.research.google.com/assets/colab-badge.svg\" alt=\"Open In Colab\"/></a>"
      ]
    },
    {
      "cell_type": "code",
      "metadata": {
        "id": "j0_YZ6IURZE_"
      },
      "source": [
        "\n",
        "import tensorflow as tf\n",
        "import numpy as np\n",
        "import pandas as pd\n",
        "import matplotlib.pyplot as plt\n",
        "import seaborn as sns\n",
        "from sklearn.metrics import confusion_matrix\n",
        "import tensorflow_addons as tfa\n",
        "from tensorflow import keras\n",
        "from sklearn.metrics import accuracy_score, f1_score, precision_score, recall_score, classification_report, confusion_matrix\n",
        "from collections import Counter\n",
        "from imblearn.over_sampling import SMOTE\n"
      ],
      "execution_count": 199,
      "outputs": []
    },
    {
      "cell_type": "markdown",
      "metadata": {
        "id": "9ZX00UN5cjvM"
      },
      "source": [
        "[**Python**] - Verificar a versão do Tensorflow\n",
        "> Assegurar que está a utilizar a versão 2.x."
      ]
    },
    {
      "cell_type": "code",
      "metadata": {
        "id": "THWNIk_FCe_g",
        "colab": {
          "base_uri": "https://localhost:8080/",
          "height": 35
        },
        "outputId": "6d8095fb-356a-4570-b6d8-607fed1fe413"
      },
      "source": [
        "tf.__version__"
      ],
      "execution_count": 200,
      "outputs": [
        {
          "output_type": "execute_result",
          "data": {
            "application/vnd.google.colaboratory.intrinsic+json": {
              "type": "string"
            },
            "text/plain": [
              "'2.3.0'"
            ]
          },
          "metadata": {
            "tags": []
          },
          "execution_count": 200
        }
      ]
    },
    {
      "cell_type": "markdown",
      "metadata": {
        "id": "PZgQAKqLcLX3"
      },
      "source": [
        "[**Python**] - Definir o número de casas decimais"
      ]
    },
    {
      "cell_type": "code",
      "metadata": {
        "id": "tzKor02BCe_d"
      },
      "source": [
        "np.set_printoptions(precision= 3)"
      ],
      "execution_count": 201,
      "outputs": []
    },
    {
      "cell_type": "markdown",
      "metadata": {
        "id": "M5V4KopjLWOL"
      },
      "source": [
        "### 1. Carregar os dados"
      ]
    },
    {
      "cell_type": "markdown",
      "metadata": {
        "id": "V_cwAUW3tseE"
      },
      "source": [
        "[**Python**] - Carregar os dados:"
      ]
    },
    {
      "cell_type": "code",
      "metadata": {
        "id": "_Bs87IWPtwtm"
      },
      "source": [
        "# Leitura do dataframe:\n",
        "df = pd.read_csv('/total_10.csv')"
      ],
      "execution_count": 202,
      "outputs": []
    },
    {
      "cell_type": "code",
      "metadata": {
        "id": "myhgteQhdqVi"
      },
      "source": [
        "df_total = df.copy()"
      ],
      "execution_count": 544,
      "outputs": []
    },
    {
      "cell_type": "code",
      "metadata": {
        "id": "0MfQNbWvfUkK"
      },
      "source": [
        "df_total.set_index('id', inplace=True)"
      ],
      "execution_count": 545,
      "outputs": []
    },
    {
      "cell_type": "code",
      "metadata": {
        "colab": {
          "base_uri": "https://localhost:8080/"
        },
        "id": "6730Oq3j-4w8",
        "outputId": "a55b1bd9-c81a-421c-b561-8358c509649d"
      },
      "source": [
        "df_total.columns"
      ],
      "execution_count": 546,
      "outputs": [
        {
          "output_type": "execute_result",
          "data": {
            "text/plain": [
              "Index(['cnae2', 'rf2', 'md1', 'md2', 'md3', 'md4', 'md5', 'md6', 'md7', 'md8',\n",
              "       'md9', 'md10', 'md11', 'md12', 'mc1', 'mc2', 'mc3', 'mc4', 'ind01',\n",
              "       'ind02', 'ind03', 'ind04', 'ind05', 'ind06', 'ind07', 'ind08', 'ind09',\n",
              "       'ind10', 'ind11', 'ind12', 'ind13', 'ind14', 'ind15', 'ind16', 'ind17',\n",
              "       'ind18', 'ind19', 'ind20', 'ind21', 'ind22', 'ind23', 'ind24', 'ind25',\n",
              "       'ind26', 'ind27', 'ind28', 'ind29', 'ind30', 'ind31', 'ind32', 'ind33',\n",
              "       'ind34', 'ind35', 'ind36', 'ind37', 'ind38', 'ind39', 'ind40', 'ind41',\n",
              "       'ind42', 'ind43', 'target', 'cnae_secao', 'ind_g1_mv', 'ind_g1',\n",
              "       'ind_g2_mv', 'ind_g2', 'mc_g1_mv', 'mc_g1', 'md1_o', 'md2_o', 'md3_o',\n",
              "       'md4_o', 'md5_o', 'md7_o', 'md8_o', 'md9_o', 'md10_o', 'md12_o',\n",
              "       'mc1_o', 'mc3_o', 'mc4_o'],\n",
              "      dtype='object')"
            ]
          },
          "metadata": {
            "tags": []
          },
          "execution_count": 546
        }
      ]
    },
    {
      "cell_type": "markdown",
      "metadata": {
        "id": "6LXKr9-R_JIK"
      },
      "source": [
        "Retirando algumas colunas para testar"
      ]
    },
    {
      "cell_type": "code",
      "metadata": {
        "id": "aVnISOiD-xRk"
      },
      "source": [
        "df_total.drop(columns = ['rf2','cnae2','md1', 'md2', 'md3', 'md4', 'md5', 'md6', 'md7', 'md8',\n",
        "       'md9', 'md10', 'md11', 'md12', 'mc1', 'mc2', 'mc3', 'mc4','mc_g1','ind_g1',\n",
        "       'ind_g2','ind29', 'ind30','ind33', 'ind38', 'ind40', 'ind41','ind10','ind16'], inplace = True)"
      ],
      "execution_count": 547,
      "outputs": []
    },
    {
      "cell_type": "code",
      "metadata": {
        "colab": {
          "base_uri": "https://localhost:8080/"
        },
        "id": "IHt2y_5IHtRH",
        "outputId": "27747b8f-0877-4b31-ea99-e296bb166b1b"
      },
      "source": [
        "df_total.columns"
      ],
      "execution_count": 548,
      "outputs": [
        {
          "output_type": "execute_result",
          "data": {
            "text/plain": [
              "Index(['ind01', 'ind02', 'ind03', 'ind04', 'ind05', 'ind06', 'ind07', 'ind08',\n",
              "       'ind09', 'ind11', 'ind12', 'ind13', 'ind14', 'ind15', 'ind17', 'ind18',\n",
              "       'ind19', 'ind20', 'ind21', 'ind22', 'ind23', 'ind24', 'ind25', 'ind26',\n",
              "       'ind27', 'ind28', 'ind31', 'ind32', 'ind34', 'ind35', 'ind36', 'ind37',\n",
              "       'ind39', 'ind42', 'ind43', 'target', 'cnae_secao', 'ind_g1_mv',\n",
              "       'ind_g2_mv', 'mc_g1_mv', 'md1_o', 'md2_o', 'md3_o', 'md4_o', 'md5_o',\n",
              "       'md7_o', 'md8_o', 'md9_o', 'md10_o', 'md12_o', 'mc1_o', 'mc3_o',\n",
              "       'mc4_o'],\n",
              "      dtype='object')"
            ]
          },
          "metadata": {
            "tags": []
          },
          "execution_count": 548
        }
      ]
    },
    {
      "cell_type": "markdown",
      "metadata": {
        "id": "e_0lkPsR_mFp"
      },
      "source": [
        "GET DUMMIES"
      ]
    },
    {
      "cell_type": "code",
      "metadata": {
        "id": "moTlPrJk5b0T"
      },
      "source": [
        "#df_total['cnae2'] = df_total['cnae2'].astype('category')\n",
        "#df_total[['ind28', 'ind31', 'ind32', 'ind34', 'ind35', 'ind36', 'ind37', 'ind39', 'ind42', 'ind43']] = df_total[['ind28', 'ind31', 'ind32', 'ind34', 'ind35', 'ind36', 'ind37', 'ind39', 'ind42', 'ind43']].astype('category')\n",
        "#df_total[['ind28', 'ind43']] = df_total[['ind28', 'ind43']].astype('category')"
      ],
      "execution_count": 549,
      "outputs": []
    },
    {
      "cell_type": "code",
      "metadata": {
        "id": "rN72uIGk_jMI"
      },
      "source": [
        "df_total = pd.get_dummies(df_total)"
      ],
      "execution_count": 550,
      "outputs": []
    },
    {
      "cell_type": "code",
      "metadata": {
        "id": "9gYa3Hy6lrZi"
      },
      "source": [
        "X_treino = df_total[df_total['target']!= 2]"
      ],
      "execution_count": 551,
      "outputs": []
    },
    {
      "cell_type": "code",
      "metadata": {
        "id": "KeckOXBrR_X6"
      },
      "source": [
        "df_X = X_treino.copy()"
      ],
      "execution_count": 552,
      "outputs": []
    },
    {
      "cell_type": "code",
      "metadata": {
        "id": "Q5tB1ey7eAe4"
      },
      "source": [
        "df_y = df_X['target']\n",
        "df_X = df_X.drop(columns= ['target'])"
      ],
      "execution_count": 553,
      "outputs": []
    },
    {
      "cell_type": "code",
      "metadata": {
        "id": "i8_BlpeteJow"
      },
      "source": [
        "X_test = df_total[df_total['target']== 2].drop(columns= ['target'])"
      ],
      "execution_count": 554,
      "outputs": []
    },
    {
      "cell_type": "code",
      "metadata": {
        "colab": {
          "base_uri": "https://localhost:8080/"
        },
        "id": "ZKOA1SHr0oYy",
        "outputId": "0548db82-a6cb-4153-d6b9-e98a7e5289c7"
      },
      "source": [
        "X_treino.columns"
      ],
      "execution_count": 555,
      "outputs": [
        {
          "output_type": "execute_result",
          "data": {
            "text/plain": [
              "Index(['ind01', 'ind02', 'ind03', 'ind04', 'ind05', 'ind06', 'ind07', 'ind08',\n",
              "       'ind09', 'ind11', 'ind12', 'ind13', 'ind14', 'ind15', 'ind17', 'ind18',\n",
              "       'ind19', 'ind20', 'ind21', 'ind22', 'ind23', 'ind24', 'ind25', 'ind26',\n",
              "       'ind27', 'ind28', 'ind31', 'ind32', 'ind34', 'ind35', 'ind36', 'ind37',\n",
              "       'ind39', 'ind42', 'ind43', 'target', 'ind_g1_mv', 'ind_g2_mv',\n",
              "       'mc_g1_mv', 'md1_o', 'md2_o', 'md3_o', 'md4_o', 'md5_o', 'md7_o',\n",
              "       'md8_o', 'md9_o', 'md10_o', 'md12_o', 'mc1_o', 'mc3_o', 'mc4_o',\n",
              "       'cnae_secao_0', 'cnae_secao_A', 'cnae_secao_B', 'cnae_secao_C',\n",
              "       'cnae_secao_D', 'cnae_secao_E', 'cnae_secao_F', 'cnae_secao_G',\n",
              "       'cnae_secao_H', 'cnae_secao_I', 'cnae_secao_J', 'cnae_secao_K',\n",
              "       'cnae_secao_L', 'cnae_secao_M', 'cnae_secao_N', 'cnae_secao_P',\n",
              "       'cnae_secao_Q', 'cnae_secao_R', 'cnae_secao_S'],\n",
              "      dtype='object')"
            ]
          },
          "metadata": {
            "tags": []
          },
          "execution_count": 555
        }
      ]
    },
    {
      "cell_type": "markdown",
      "metadata": {
        "id": "qzWrM6VCSEoQ"
      },
      "source": [
        "Tratando o Balanceamento da Amostra"
      ]
    },
    {
      "cell_type": "code",
      "metadata": {
        "colab": {
          "base_uri": "https://localhost:8080/"
        },
        "id": "28lRhxtgRwEa",
        "outputId": "adeec51e-0718-401e-f842-f74e75c40251"
      },
      "source": [
        "qtd = Counter(X_treino['target'])\n",
        "qtd"
      ],
      "execution_count": 556,
      "outputs": [
        {
          "output_type": "execute_result",
          "data": {
            "text/plain": [
              "Counter({0: 8513, 1: 2520})"
            ]
          },
          "metadata": {
            "tags": []
          },
          "execution_count": 556
        }
      ]
    },
    {
      "cell_type": "code",
      "metadata": {
        "id": "0AZCDYSOSHLx"
      },
      "source": [
        "from imblearn.under_sampling import RandomUnderSampler\n",
        "from imblearn.pipeline import Pipeline"
      ],
      "execution_count": 557,
      "outputs": []
    },
    {
      "cell_type": "code",
      "metadata": {
        "id": "Z1FhuODySLSS"
      },
      "source": [
        "over = SMOTE(sampling_strategy = 0.5) # Reamostrar a classe minoritária para ter 10% da classe majoritária\n",
        "under = RandomUnderSampler(sampling_strategy = 0.85) # Seleciona a classe majoritária para ter 50%\n",
        "steps = [('over', over), ('under', under)]\n",
        "pipeline = Pipeline(steps = steps)"
      ],
      "execution_count": 558,
      "outputs": []
    },
    {
      "cell_type": "code",
      "metadata": {
        "colab": {
          "base_uri": "https://localhost:8080/"
        },
        "id": "dwkQt9AFSNLL",
        "outputId": "661f7b0c-f2f2-4d7a-ef7c-55b3571f4392"
      },
      "source": [
        "X, y = pipeline.fit_resample(df_X, df_y)"
      ],
      "execution_count": 559,
      "outputs": [
        {
          "output_type": "stream",
          "text": [
            "/usr/local/lib/python3.6/dist-packages/sklearn/utils/deprecation.py:87: FutureWarning: Function safe_indexing is deprecated; safe_indexing is deprecated in version 0.22 and will be removed in version 0.24.\n",
            "  warnings.warn(msg, category=FutureWarning)\n",
            "/usr/local/lib/python3.6/dist-packages/sklearn/utils/deprecation.py:87: FutureWarning: Function safe_indexing is deprecated; safe_indexing is deprecated in version 0.22 and will be removed in version 0.24.\n",
            "  warnings.warn(msg, category=FutureWarning)\n"
          ],
          "name": "stderr"
        }
      ]
    },
    {
      "cell_type": "markdown",
      "metadata": {
        "id": "m22vN2YrSWOr"
      },
      "source": [
        "ANTES/DEPOIS:"
      ]
    },
    {
      "cell_type": "code",
      "metadata": {
        "colab": {
          "base_uri": "https://localhost:8080/"
        },
        "id": "oLiFXdkqSVNz",
        "outputId": "74bbb161-15c0-4953-bf52-c4d9d3bb2770"
      },
      "source": [
        "print(Counter(df_y),Counter(y))"
      ],
      "execution_count": 560,
      "outputs": [
        {
          "output_type": "stream",
          "text": [
            "Counter({0: 8513, 1: 2520}) Counter({0: 5007, 1: 4256})\n"
          ],
          "name": "stdout"
        }
      ]
    },
    {
      "cell_type": "markdown",
      "metadata": {
        "id": "jJaJWuUqJCha"
      },
      "source": [
        "### 3. Definir as amostras de treinamento e validação"
      ]
    },
    {
      "cell_type": "markdown",
      "metadata": {
        "id": "LoO2iEimu4SQ"
      },
      "source": [
        "[**Python**] - Definir as amostras de treinamento e validação"
      ]
    },
    {
      "cell_type": "code",
      "metadata": {
        "id": "hTCdm-F9JBGA",
        "colab": {
          "base_uri": "https://localhost:8080/"
        },
        "outputId": "7e74ee97-a842-4687-8513-db39c0d1335e"
      },
      "source": [
        "from sklearn.model_selection import train_test_split\n",
        "\n",
        "X_treinamento, X_teste, y_treinamento, y_teste= train_test_split(X, y, test_size = 0.1, random_state = 22091980) #20111974)\n",
        "print(f'X: Treinamento=  {X_treinamento.shape}; X: Teste=  {X_teste.shape}')"
      ],
      "execution_count": 561,
      "outputs": [
        {
          "output_type": "stream",
          "text": [
            "X: Treinamento=  (8336, 70); X: Teste=  (927, 70)\n"
          ],
          "name": "stdout"
        }
      ]
    },
    {
      "cell_type": "code",
      "metadata": {
        "id": "th9CsQpB8VDK",
        "colab": {
          "base_uri": "https://localhost:8080/"
        },
        "outputId": "00ea1b40-e437-4d58-ef78-c525808bec15"
      },
      "source": [
        "print(f'Y: Treinamento =  {y_treinamento.shape}; Y: Teste = {y_teste.shape}')"
      ],
      "execution_count": 562,
      "outputs": [
        {
          "output_type": "stream",
          "text": [
            "Y: Treinamento =  (8336,); Y: Teste = (927,)\n"
          ],
          "name": "stdout"
        }
      ]
    },
    {
      "cell_type": "markdown",
      "metadata": {
        "id": "2bL-vXiULupD"
      },
      "source": [
        "### 4. Definir a arquitetura da Rede Neural com _Tensorflow_/_Keras_"
      ]
    },
    {
      "cell_type": "markdown",
      "metadata": {
        "id": "zxETX6dTfyU5"
      },
      "source": [
        "[**Python**] - Definir a arquitetura, ou seja:\n",
        "* $N_{I}$: Número de neurônios na camada de entrada (_Input Layer_);\n",
        "* $N_{O}$: Número de neurônios na camada de saída (_Output Layer_);\n",
        "* $N_{H}$: Número de neurônios na camada escondida (_Hidden Layer_);\n",
        "* FA: Função de ativação;"
      ]
    },
    {
      "cell_type": "code",
      "metadata": {
        "id": "F_MdsLicfyU6"
      },
      "source": [
        "# Número de Neurônios na Input Layer:\n",
        "N_I = 70\n",
        "\n",
        "# Número de neurônios na Output Layer:\n",
        "N_O = 1\n",
        "\n",
        "# Número de neurônios na Hidden Layer:\n",
        "N_H = 400\n",
        "\n",
        "N_H2 = 300\n",
        "\n",
        "N_H3=200\n",
        "\n",
        "N_H4 = 100\n",
        "\n",
        "N_H5 = 50\n",
        "\n",
        "N_H6 = 2\n",
        "\n",
        "\n",
        "\n",
        "# Função de Ativação da Hidden Layer:\n",
        "FA_H = tf.nn.leaky_relu\n",
        "#FA_H = tf.keras.activations.swish\n",
        "\n",
        "# Função de Ativação da Output Layer:\n",
        "FA_O = tf.keras.activations.sigmoid\n",
        "#FA_O = tf.keras.activations.softmax\n",
        "\n",
        "\n"
      ],
      "execution_count": 584,
      "outputs": []
    },
    {
      "cell_type": "markdown",
      "metadata": {
        "id": "SUMmDuPCcYyB"
      },
      "source": [
        "[**Python**] - Definir as sementes para NumPy e Tensorflow:\n",
        "> Por questões de reproducibilidade de resultados, use as sementes abaixo:\n",
        "\n",
        "* NumPy: 20111974;\n",
        "* Tensorflow: 20111974;"
      ]
    },
    {
      "cell_type": "code",
      "metadata": {
        "id": "T-echOBmceVy"
      },
      "source": [
        "np.random.seed(19800922)\n",
        "tf.random.set_seed(22091980)"
      ],
      "execution_count": 585,
      "outputs": []
    },
    {
      "cell_type": "markdown",
      "metadata": {
        "id": "7ZceRRdinEM2"
      },
      "source": [
        "\n",
        "[**Python**] - Definir a Rede Neural:"
      ]
    },
    {
      "cell_type": "markdown",
      "metadata": {
        "id": "nXQsSYq2DBfI"
      },
      "source": [
        "\n",
        "\n",
        "\n",
        "\n",
        "* 1 camada _dropout_ com $p= 0.1$:"
      ]
    },
    {
      "cell_type": "code",
      "metadata": {
        "id": "TRFR5Kr_nDtD",
        "colab": {
          "base_uri": "https://localhost:8080/"
        },
        "outputId": "8695a4ab-4aca-455e-f20d-87df4944cc10"
      },
      "source": [
        "from tensorflow.keras import Sequential\n",
        "from tensorflow.keras.layers import Dense\n",
        "from tensorflow.keras.layers import Dropout\n",
        "\n",
        "RN= Sequential()\n",
        "RN.add(Dense(N_H, input_dim= N_I, kernel_initializer= tf.keras.initializers.GlorotNormal(), activation= FA_H, kernel_constraint= tf.keras.constraints.UnitNorm()))\n",
        "RN.add(Dropout(0.3))\n",
        "RN.add(Dense(N_H2, kernel_initializer= tf.keras.initializers.GlorotNormal(), activation= FA_H, kernel_constraint= tf.keras.constraints.UnitNorm()))\n",
        "RN.add(Dropout(0.3))\n",
        "RN.add(Dense(N_H3, kernel_initializer= tf.keras.initializers.GlorotNormal(), activation= FA_H, kernel_constraint= tf.keras.constraints.UnitNorm()))\n",
        "RN.add(Dropout(0.3))\n",
        "RN.add(Dense(N_H4, kernel_initializer= tf.keras.initializers.GlorotNormal(), activation= FA_H, kernel_constraint= tf.keras.constraints.UnitNorm()))\n",
        "RN.add(Dropout(0.3))\n",
        "RN.add(Dense(N_H5, kernel_initializer= tf.keras.initializers.GlorotNormal(), activation= FA_H, kernel_constraint= tf.keras.constraints.UnitNorm()))\n",
        "RN.add(Dropout(0.3))\n",
        "RN.add(Dense(N_H6, kernel_initializer= tf.keras.initializers.GlorotNormal(), activation= FA_H, kernel_constraint= tf.keras.constraints.UnitNorm()))\n",
        "RN.add(Dropout(0.3))\n",
        "RN.add(Dense(units= N_O, activation= FA_O))\n",
        "\n",
        "# Resumo da arquitetura da Rede Neural\n",
        "print(RN.summary())"
      ],
      "execution_count": 586,
      "outputs": [
        {
          "output_type": "stream",
          "text": [
            "Model: \"sequential_26\"\n",
            "_________________________________________________________________\n",
            "Layer (type)                 Output Shape              Param #   \n",
            "=================================================================\n",
            "dense_182 (Dense)            (None, 400)               28400     \n",
            "_________________________________________________________________\n",
            "dropout_156 (Dropout)        (None, 400)               0         \n",
            "_________________________________________________________________\n",
            "dense_183 (Dense)            (None, 300)               120300    \n",
            "_________________________________________________________________\n",
            "dropout_157 (Dropout)        (None, 300)               0         \n",
            "_________________________________________________________________\n",
            "dense_184 (Dense)            (None, 200)               60200     \n",
            "_________________________________________________________________\n",
            "dropout_158 (Dropout)        (None, 200)               0         \n",
            "_________________________________________________________________\n",
            "dense_185 (Dense)            (None, 100)               20100     \n",
            "_________________________________________________________________\n",
            "dropout_159 (Dropout)        (None, 100)               0         \n",
            "_________________________________________________________________\n",
            "dense_186 (Dense)            (None, 50)                5050      \n",
            "_________________________________________________________________\n",
            "dropout_160 (Dropout)        (None, 50)                0         \n",
            "_________________________________________________________________\n",
            "dense_187 (Dense)            (None, 2)                 102       \n",
            "_________________________________________________________________\n",
            "dropout_161 (Dropout)        (None, 2)                 0         \n",
            "_________________________________________________________________\n",
            "dense_188 (Dense)            (None, 1)                 3         \n",
            "=================================================================\n",
            "Total params: 234,155\n",
            "Trainable params: 234,155\n",
            "Non-trainable params: 0\n",
            "_________________________________________________________________\n",
            "None\n"
          ],
          "name": "stdout"
        }
      ]
    },
    {
      "cell_type": "markdown",
      "metadata": {
        "id": "4JBZf4ypGO8o"
      },
      "source": [
        "### 5. Compilar a Rede Neural\n",
        "\n",
        "Este é um problema de classificação binária (_Male_ ou _Female_). Portanto, temos:\n",
        "* optimizer= tf.keras.optimizers.Adam();\n",
        "* loss=  tf.keras.losses.MeanSquaredError() ou loss= tf.keras.losses.BinaryCrossentropy(). Particularmente, eu gosto de usar loss=  tf.keras.losses.MeanSquaredError() porque o resultado é mais intuitivo;\n",
        "* metrics= tf.keras.metrics.binary_accuracy."
      ]
    },
    {
      "cell_type": "markdown",
      "metadata": {
        "id": "USmAuw6f00wL"
      },
      "source": [
        "[**Python**] - Comando modelo.compile(optimizer, loss, metrics):"
      ]
    },
    {
      "cell_type": "code",
      "metadata": {
        "id": "h7KEi1_e6SSF"
      },
      "source": [
        "\n",
        "Algoritmo_Opt = tf.keras.optimizers.Adam()\n",
        "#Algoritmo_Opt = tf.keras.optimizers.Adam(learning_rate=0.01, beta_1=0.8, beta_2=0.99, epsilon=1e-07 , amsgrad=True,     name='Adam')\n",
        "#Loss_Function = tf.keras.losses.MeanSquaredError()\n",
        "Loss_Function = tf.keras.losses.BinaryCrossentropy()\n",
        "#Metrics_Perf = tf.keras.metrics.binary_accuracy\n",
        "Metrics_Perf = tfa.metrics.F1Score(1,average='macro',threshold=0.5)\n",
        "RN.compile(optimizer = Algoritmo_Opt, loss = Loss_Function,metrics = Metrics_Perf)\n",
        "#RN.compile( loss = Loss_Function,metrics = Metrics_Perf)"
      ],
      "execution_count": 587,
      "outputs": []
    },
    {
      "cell_type": "markdown",
      "metadata": {
        "id": "Hc90EeV_GojX"
      },
      "source": [
        "### 6. Ajustar a Rede Neural\n",
        "\n",
        "Obs.: A opção callbacks abaixo implementa o conceito de _early stopping_. Esta opção vai parar o processo de treinamento da Rede Neural antes de atingirmos o númerco de _epochs_ quando o modelo pára de melhorar, medido pela métrica val_loss. O parâmetro _patience_= k significa que o processo de otimização vai parar se tivermos k _epochs_ consecutivas sem observarmos melhoria da performance da Rede Neural."
      ]
    },
    {
      "cell_type": "markdown",
      "metadata": {
        "id": "XCCTtUh_vEFP"
      },
      "source": [
        "[**Python**] - Comando modelo.fit(X_treinamento, y_treinamento, epochs)"
      ]
    },
    {
      "cell_type": "code",
      "metadata": {
        "id": "EB91J6nrF0db",
        "colab": {
          "base_uri": "https://localhost:8080/"
        },
        "outputId": "3bedd4bf-c679-4514-be8e-4974fc63d265"
      },
      "source": [
        "callbacks = [tf.keras.callbacks.EarlyStopping(monitor = 'val_f1_score', mode = 'max',patience = 20, min_delta = 0.001)]\n",
        "hist= RN.fit(X_treinamento, y_treinamento, epochs = 62, batch_size = 20,\n",
        "             validation_data = (X_teste, y_teste), callbacks = callbacks)"
      ],
      "execution_count": 588,
      "outputs": [
        {
          "output_type": "stream",
          "text": [
            "Epoch 1/62\n",
            "417/417 [==============================] - 2s 6ms/step - loss: 0.6421 - f1_score: 0.6239 - val_loss: 0.6202 - val_f1_score: 0.6725\n",
            "Epoch 2/62\n",
            "417/417 [==============================] - 2s 5ms/step - loss: 0.6211 - f1_score: 0.6431 - val_loss: 0.6050 - val_f1_score: 0.6626\n",
            "Epoch 3/62\n",
            "417/417 [==============================] - 2s 5ms/step - loss: 0.6151 - f1_score: 0.6348 - val_loss: 0.5981 - val_f1_score: 0.6814\n",
            "Epoch 4/62\n",
            "417/417 [==============================] - 2s 5ms/step - loss: 0.6064 - f1_score: 0.6449 - val_loss: 0.5963 - val_f1_score: 0.6667\n",
            "Epoch 5/62\n",
            "417/417 [==============================] - 2s 5ms/step - loss: 0.6063 - f1_score: 0.6487 - val_loss: 0.5957 - val_f1_score: 0.6763\n",
            "Epoch 6/62\n",
            "417/417 [==============================] - 2s 5ms/step - loss: 0.5983 - f1_score: 0.6492 - val_loss: 0.5916 - val_f1_score: 0.6877\n",
            "Epoch 7/62\n",
            "417/417 [==============================] - 2s 5ms/step - loss: 0.5984 - f1_score: 0.6543 - val_loss: 0.5923 - val_f1_score: 0.6794\n",
            "Epoch 8/62\n",
            "417/417 [==============================] - 2s 5ms/step - loss: 0.5984 - f1_score: 0.6535 - val_loss: 0.5812 - val_f1_score: 0.6681\n",
            "Epoch 9/62\n",
            "417/417 [==============================] - 2s 5ms/step - loss: 0.5872 - f1_score: 0.6587 - val_loss: 0.5971 - val_f1_score: 0.6579\n",
            "Epoch 10/62\n",
            "417/417 [==============================] - 2s 6ms/step - loss: 0.5864 - f1_score: 0.6470 - val_loss: 0.5789 - val_f1_score: 0.6754\n",
            "Epoch 11/62\n",
            "417/417 [==============================] - 2s 6ms/step - loss: 0.5845 - f1_score: 0.6597 - val_loss: 0.5936 - val_f1_score: 0.6606\n",
            "Epoch 12/62\n",
            "417/417 [==============================] - 2s 5ms/step - loss: 0.5785 - f1_score: 0.6691 - val_loss: 0.5837 - val_f1_score: 0.6747\n",
            "Epoch 13/62\n",
            "417/417 [==============================] - 2s 5ms/step - loss: 0.5792 - f1_score: 0.6680 - val_loss: 0.5806 - val_f1_score: 0.6843\n",
            "Epoch 14/62\n",
            "417/417 [==============================] - 2s 5ms/step - loss: 0.5774 - f1_score: 0.6687 - val_loss: 0.5852 - val_f1_score: 0.6574\n",
            "Epoch 15/62\n",
            "417/417 [==============================] - 2s 5ms/step - loss: 0.5719 - f1_score: 0.6692 - val_loss: 0.5913 - val_f1_score: 0.6637\n",
            "Epoch 16/62\n",
            "417/417 [==============================] - 2s 5ms/step - loss: 0.5698 - f1_score: 0.6738 - val_loss: 0.5821 - val_f1_score: 0.6833\n",
            "Epoch 17/62\n",
            "417/417 [==============================] - 2s 5ms/step - loss: 0.5687 - f1_score: 0.6784 - val_loss: 0.5713 - val_f1_score: 0.6705\n",
            "Epoch 18/62\n",
            "417/417 [==============================] - 2s 5ms/step - loss: 0.5642 - f1_score: 0.6678 - val_loss: 0.5882 - val_f1_score: 0.6447\n",
            "Epoch 19/62\n",
            "417/417 [==============================] - 2s 5ms/step - loss: 0.5691 - f1_score: 0.6734 - val_loss: 0.6013 - val_f1_score: 0.7055\n",
            "Epoch 20/62\n",
            "417/417 [==============================] - 2s 5ms/step - loss: 0.5628 - f1_score: 0.6644 - val_loss: 0.5854 - val_f1_score: 0.6768\n",
            "Epoch 21/62\n",
            "417/417 [==============================] - 2s 5ms/step - loss: 0.5592 - f1_score: 0.6848 - val_loss: 0.5819 - val_f1_score: 0.6513\n",
            "Epoch 22/62\n",
            "417/417 [==============================] - 2s 5ms/step - loss: 0.5595 - f1_score: 0.6742 - val_loss: 0.5809 - val_f1_score: 0.6932\n",
            "Epoch 23/62\n",
            "417/417 [==============================] - 2s 5ms/step - loss: 0.5543 - f1_score: 0.6827 - val_loss: 0.5819 - val_f1_score: 0.6794\n",
            "Epoch 24/62\n",
            "417/417 [==============================] - 2s 5ms/step - loss: 0.5513 - f1_score: 0.6895 - val_loss: 0.5799 - val_f1_score: 0.6747\n",
            "Epoch 25/62\n",
            "417/417 [==============================] - 2s 5ms/step - loss: 0.5505 - f1_score: 0.6865 - val_loss: 0.5878 - val_f1_score: 0.6544\n",
            "Epoch 26/62\n",
            "417/417 [==============================] - 2s 6ms/step - loss: 0.5524 - f1_score: 0.6871 - val_loss: 0.5877 - val_f1_score: 0.6636\n",
            "Epoch 27/62\n",
            "417/417 [==============================] - 2s 6ms/step - loss: 0.5440 - f1_score: 0.6839 - val_loss: 0.5805 - val_f1_score: 0.7030\n",
            "Epoch 28/62\n",
            "417/417 [==============================] - 2s 6ms/step - loss: 0.5427 - f1_score: 0.6892 - val_loss: 0.5799 - val_f1_score: 0.7086\n",
            "Epoch 29/62\n",
            "417/417 [==============================] - 2s 5ms/step - loss: 0.5435 - f1_score: 0.6936 - val_loss: 0.5937 - val_f1_score: 0.6228\n",
            "Epoch 30/62\n",
            "417/417 [==============================] - 2s 5ms/step - loss: 0.5400 - f1_score: 0.6877 - val_loss: 0.5753 - val_f1_score: 0.6964\n",
            "Epoch 31/62\n",
            "417/417 [==============================] - 2s 5ms/step - loss: 0.5388 - f1_score: 0.6809 - val_loss: 0.5827 - val_f1_score: 0.7061\n",
            "Epoch 32/62\n",
            "417/417 [==============================] - 2s 5ms/step - loss: 0.5357 - f1_score: 0.6950 - val_loss: 0.5781 - val_f1_score: 0.6956\n",
            "Epoch 33/62\n",
            "417/417 [==============================] - 2s 6ms/step - loss: 0.5404 - f1_score: 0.6930 - val_loss: 0.6053 - val_f1_score: 0.6232\n",
            "Epoch 34/62\n",
            "417/417 [==============================] - 2s 5ms/step - loss: 0.5332 - f1_score: 0.7040 - val_loss: 0.5916 - val_f1_score: 0.6787\n",
            "Epoch 35/62\n",
            "417/417 [==============================] - 2s 5ms/step - loss: 0.5333 - f1_score: 0.6957 - val_loss: 0.5739 - val_f1_score: 0.7039\n",
            "Epoch 36/62\n",
            "417/417 [==============================] - 2s 5ms/step - loss: 0.5301 - f1_score: 0.7010 - val_loss: 0.5993 - val_f1_score: 0.7110\n",
            "Epoch 37/62\n",
            "417/417 [==============================] - 2s 6ms/step - loss: 0.5305 - f1_score: 0.6947 - val_loss: 0.5929 - val_f1_score: 0.7136\n",
            "Epoch 38/62\n",
            "417/417 [==============================] - 2s 5ms/step - loss: 0.5250 - f1_score: 0.7054 - val_loss: 0.5860 - val_f1_score: 0.6862\n",
            "Epoch 39/62\n",
            "417/417 [==============================] - 2s 5ms/step - loss: 0.5260 - f1_score: 0.6983 - val_loss: 0.5683 - val_f1_score: 0.7156\n",
            "Epoch 40/62\n",
            "417/417 [==============================] - 2s 6ms/step - loss: 0.5241 - f1_score: 0.7002 - val_loss: 0.6063 - val_f1_score: 0.6406\n",
            "Epoch 41/62\n",
            "417/417 [==============================] - 2s 5ms/step - loss: 0.5203 - f1_score: 0.7100 - val_loss: 0.5709 - val_f1_score: 0.7042\n",
            "Epoch 42/62\n",
            "417/417 [==============================] - 2s 5ms/step - loss: 0.5248 - f1_score: 0.6989 - val_loss: 0.6284 - val_f1_score: 0.7147\n",
            "Epoch 43/62\n",
            "417/417 [==============================] - 2s 6ms/step - loss: 0.5168 - f1_score: 0.7119 - val_loss: 0.6083 - val_f1_score: 0.7059\n",
            "Epoch 44/62\n",
            "417/417 [==============================] - 2s 6ms/step - loss: 0.5215 - f1_score: 0.7101 - val_loss: 0.6031 - val_f1_score: 0.6996\n",
            "Epoch 45/62\n",
            "417/417 [==============================] - 2s 5ms/step - loss: 0.5214 - f1_score: 0.7073 - val_loss: 0.5948 - val_f1_score: 0.7016\n",
            "Epoch 46/62\n",
            "417/417 [==============================] - 2s 5ms/step - loss: 0.5189 - f1_score: 0.6962 - val_loss: 0.6033 - val_f1_score: 0.6881\n",
            "Epoch 47/62\n",
            "417/417 [==============================] - 2s 5ms/step - loss: 0.5129 - f1_score: 0.7126 - val_loss: 0.5935 - val_f1_score: 0.6944\n",
            "Epoch 48/62\n",
            "417/417 [==============================] - 2s 6ms/step - loss: 0.5172 - f1_score: 0.7043 - val_loss: 0.5649 - val_f1_score: 0.7177\n",
            "Epoch 49/62\n",
            "417/417 [==============================] - 2s 5ms/step - loss: 0.5184 - f1_score: 0.7110 - val_loss: 0.5799 - val_f1_score: 0.6651\n",
            "Epoch 50/62\n",
            "417/417 [==============================] - 2s 6ms/step - loss: 0.5194 - f1_score: 0.7034 - val_loss: 0.5797 - val_f1_score: 0.6644\n",
            "Epoch 51/62\n",
            "417/417 [==============================] - 2s 6ms/step - loss: 0.5113 - f1_score: 0.7060 - val_loss: 0.5827 - val_f1_score: 0.6890\n",
            "Epoch 52/62\n",
            "417/417 [==============================] - 2s 5ms/step - loss: 0.5197 - f1_score: 0.6999 - val_loss: 0.5743 - val_f1_score: 0.6767\n",
            "Epoch 53/62\n",
            "417/417 [==============================] - 2s 6ms/step - loss: 0.5102 - f1_score: 0.7102 - val_loss: 0.6134 - val_f1_score: 0.5683\n",
            "Epoch 54/62\n",
            "417/417 [==============================] - 2s 6ms/step - loss: 0.5125 - f1_score: 0.7145 - val_loss: 0.5817 - val_f1_score: 0.6906\n",
            "Epoch 55/62\n",
            "417/417 [==============================] - 2s 6ms/step - loss: 0.5080 - f1_score: 0.7172 - val_loss: 0.5742 - val_f1_score: 0.6873\n",
            "Epoch 56/62\n",
            "417/417 [==============================] - 2s 5ms/step - loss: 0.5102 - f1_score: 0.7071 - val_loss: 0.6164 - val_f1_score: 0.6659\n",
            "Epoch 57/62\n",
            "417/417 [==============================] - 2s 5ms/step - loss: 0.5167 - f1_score: 0.7052 - val_loss: 0.5840 - val_f1_score: 0.6972\n",
            "Epoch 58/62\n",
            "417/417 [==============================] - 2s 6ms/step - loss: 0.5137 - f1_score: 0.7113 - val_loss: 0.5861 - val_f1_score: 0.6829\n",
            "Epoch 59/62\n",
            "417/417 [==============================] - 2s 5ms/step - loss: 0.5078 - f1_score: 0.7122 - val_loss: 0.5756 - val_f1_score: 0.6823\n",
            "Epoch 60/62\n",
            "417/417 [==============================] - 2s 6ms/step - loss: 0.5090 - f1_score: 0.7062 - val_loss: 0.6103 - val_f1_score: 0.7031\n",
            "Epoch 61/62\n",
            "417/417 [==============================] - 2s 5ms/step - loss: 0.5017 - f1_score: 0.7102 - val_loss: 0.5951 - val_f1_score: 0.6619\n",
            "Epoch 62/62\n",
            "417/417 [==============================] - 2s 5ms/step - loss: 0.4977 - f1_score: 0.7195 - val_loss: 0.5712 - val_f1_score: 0.7263\n"
          ],
          "name": "stdout"
        }
      ]
    },
    {
      "cell_type": "code",
      "metadata": {
        "id": "IE28TqhAWVlz"
      },
      "source": [
        ""
      ],
      "execution_count": 464,
      "outputs": []
    },
    {
      "cell_type": "markdown",
      "metadata": {
        "id": "J1sL_DTrKmpq"
      },
      "source": [
        "### 7. Avaliar a performance da Rede Neural\n",
        "\n",
        "Para avaliar a a Rede Neural, simplesmente informamos as amostras de teste: X_teste e y_teste. A função evaluate() vai retornar uma lista contendo 2 valores: loss e accuracy."
      ]
    },
    {
      "cell_type": "markdown",
      "metadata": {
        "id": "VckQfEFPvMa7"
      },
      "source": [
        "[**Python**] - Comando modelo.evaluate(X_teste, y_teste)"
      ]
    },
    {
      "cell_type": "code",
      "metadata": {
        "id": "veeKG78w4hWh"
      },
      "source": [
        "def Mostra_ConfusionMatrix(X,y):\n",
        "    y_pred = RN.predict_classes(X)\n",
        "    mc = confusion_matrix(y, y_pred)\n",
        "    #sns.heatmap(mc,annot=True, annot_kws={\"size\": 10},fmt=\"d\")\n",
        "    sns.heatmap(mc/np.sum(mc), annot=True, annot_kws={\"size\": 10}, fmt='.2%', cmap='Blues')"
      ],
      "execution_count": null,
      "outputs": []
    },
    {
      "cell_type": "code",
      "metadata": {
        "colab": {
          "base_uri": "https://localhost:8080/"
        },
        "id": "XUJL6Y6A4hWh",
        "outputId": "e92c8c92-3cf6-4bc5-8ac6-b9e1c220248b"
      },
      "source": [
        "RN.evaluate(X_teste, y_teste)"
      ],
      "execution_count": 589,
      "outputs": [
        {
          "output_type": "stream",
          "text": [
            "29/29 [==============================] - 0s 1ms/step - loss: 0.5712 - f1_score: 0.7263\n"
          ],
          "name": "stdout"
        },
        {
          "output_type": "execute_result",
          "data": {
            "text/plain": [
              "[0.5711947679519653, 0.7263478636741638]"
            ]
          },
          "metadata": {
            "tags": []
          },
          "execution_count": 589
        }
      ]
    },
    {
      "cell_type": "code",
      "metadata": {
        "colab": {
          "base_uri": "https://localhost:8080/"
        },
        "id": "g3KRG1fN4hWi",
        "outputId": "4e8f9a21-bf3c-44ed-b964-0b1979d58639"
      },
      "source": [
        "F1_Test=f1_score(y_teste, RN.predict_classes(X_teste), average=\"macro\")\n",
        "print(f'F1: {F1_Test}')"
      ],
      "execution_count": 590,
      "outputs": [
        {
          "output_type": "stream",
          "text": [
            "F1: 0.7087537506146394\n"
          ],
          "name": "stdout"
        }
      ]
    },
    {
      "cell_type": "code",
      "metadata": {
        "id": "HSC6yxs9VONq",
        "colab": {
          "base_uri": "https://localhost:8080/",
          "height": 265
        },
        "outputId": "d70ee318-49e1-49e2-e350-692c34d1d5a7"
      },
      "source": [
        "Mostra_ConfusionMatrix(X_teste, y_teste)"
      ],
      "execution_count": 591,
      "outputs": [
        {
          "output_type": "display_data",
          "data": {
            "image/png": "[encoded data removed]",
            "text/plain": [
              "<Figure size 432x288 with 2 Axes>"
            ]
          },
          "metadata": {
            "tags": [],
            "needs_background": "light"
          }
        }
      ]
    },
    {
      "cell_type": "code",
      "metadata": {
        "colab": {
          "base_uri": "https://localhost:8080/"
        },
        "id": "vdDUMlaT4hWi",
        "outputId": "5656d9e8-b2b7-4f27-f5bb-0a5cc132c6c1"
      },
      "source": [
        "RN.evaluate(df_X, df_y)"
      ],
      "execution_count": 592,
      "outputs": [
        {
          "output_type": "stream",
          "text": [
            "345/345 [==============================] - 1s 2ms/step - loss: 0.5303 - f1_score: 0.5612\n"
          ],
          "name": "stdout"
        },
        {
          "output_type": "execute_result",
          "data": {
            "text/plain": [
              "[0.5303129553794861, 0.5611792802810669]"
            ]
          },
          "metadata": {
            "tags": []
          },
          "execution_count": 592
        }
      ]
    },
    {
      "cell_type": "code",
      "metadata": {
        "colab": {
          "base_uri": "https://localhost:8080/"
        },
        "id": "NbBX0xLW4hWi",
        "outputId": "ce0e37dc-d3a2-4a95-a7e8-b1912481ec24"
      },
      "source": [
        "F1_X=f1_score(df_y, RN.predict_classes(df_X), average=\"macro\")\n",
        "print(f'F1: {F1_X}')"
      ],
      "execution_count": 593,
      "outputs": [
        {
          "output_type": "stream",
          "text": [
            "F1: 0.6637840609328347\n"
          ],
          "name": "stdout"
        }
      ]
    },
    {
      "cell_type": "code",
      "metadata": {
        "id": "uKMi5mUMVWdR",
        "colab": {
          "base_uri": "https://localhost:8080/",
          "height": 269
        },
        "outputId": "fbd85146-2d80-48fb-aaa2-5641a1d05786"
      },
      "source": [
        "Mostra_ConfusionMatrix(df_X, df_y)"
      ],
      "execution_count": 594,
      "outputs": [
        {
          "output_type": "display_data",
          "data": {
            "image/png": "[encoded data removed]",
            "text/plain": [
              "<Figure size 432x288 with 2 Axes>"
            ]
          },
          "metadata": {
            "tags": [],
            "needs_background": "light"
          }
        }
      ]
    },
    {
      "cell_type": "code",
      "metadata": {
        "colab": {
          "base_uri": "https://localhost:8080/"
        },
        "id": "X1V4oO0R4hWi",
        "outputId": "3de99661-e65e-447e-b7b7-5d5579840c35"
      },
      "source": [
        "RN.evaluate(X_treinamento, y_treinamento)"
      ],
      "execution_count": 595,
      "outputs": [
        {
          "output_type": "stream",
          "text": [
            "261/261 [==============================] - 0s 1ms/step - loss: 0.4443 - f1_score: 0.7992\n"
          ],
          "name": "stdout"
        },
        {
          "output_type": "execute_result",
          "data": {
            "text/plain": [
              "[0.444262832403183, 0.7991617321968079]"
            ]
          },
          "metadata": {
            "tags": []
          },
          "execution_count": 595
        }
      ]
    },
    {
      "cell_type": "code",
      "metadata": {
        "colab": {
          "base_uri": "https://localhost:8080/"
        },
        "id": "g7cCtosc4hWi",
        "outputId": "8ab7570b-ffe7-4d7f-f040-8d22a760eb77"
      },
      "source": [
        "F1_Trein=f1_score(y_treinamento, RN.predict_classes(X_treinamento), average=\"macro\")\n",
        "print(f'F1: {F1_Trein}')"
      ],
      "execution_count": 596,
      "outputs": [
        {
          "output_type": "stream",
          "text": [
            "F1: 0.7928754280867608\n"
          ],
          "name": "stdout"
        }
      ]
    },
    {
      "cell_type": "code",
      "metadata": {
        "colab": {
          "base_uri": "https://localhost:8080/",
          "height": 265
        },
        "id": "N89YhXgS4hWj",
        "outputId": "d5031676-0c9f-4214-ddc1-83e0c4bfc68f"
      },
      "source": [
        "Mostra_ConfusionMatrix(X_treinamento, y_treinamento)"
      ],
      "execution_count": 597,
      "outputs": [
        {
          "output_type": "display_data",
          "data": {
            "image/png": "[encoded data removed]",
            "text/plain": [
              "<Figure size 432x288 with 2 Axes>"
            ]
          },
          "metadata": {
            "tags": [],
            "needs_background": "light"
          }
        }
      ]
    },
    {
      "cell_type": "markdown",
      "metadata": {
        "id": "D5zYHcGuMPZe"
      },
      "source": [
        "### 8. _Fine tuning_ da Rede Neural\n",
        "\n",
        "Para aumentar a acurácia da Rede Neural, sugiro aumentarmos o número de neurônios na _Hidden Layer_ e/ou aumentar o número de _Hidden Layers_.\n",
        "\n",
        "No entanto, obtivemos uma acurácia razoável com a Rede Neural _baseline_. Portanto, deixo como exercício para os alunos o desafio de melhorar a acurácia desta Rede Neural."
      ]
    },
    {
      "cell_type": "markdown",
      "metadata": {
        "id": "_ISodOu-Kmp3"
      },
      "source": [
        "### 9. Fazer Predições com a Rede Neural"
      ]
    },
    {
      "cell_type": "markdown",
      "metadata": {
        "id": "_xgdL1W4vUrN"
      },
      "source": [
        "[**Python**] - Comando:\n",
        "* RN.predict_classes(X_treinamento);\n",
        "* RN.predict_classes(X_teste)."
      ]
    },
    {
      "cell_type": "code",
      "metadata": {
        "id": "kqy2rt3YfPiy"
      },
      "source": [
        "y_test = RN.predict_classes(X_test)\n"
      ],
      "execution_count": 598,
      "outputs": []
    },
    {
      "cell_type": "code",
      "metadata": {
        "id": "_C_u02mygKgt"
      },
      "source": [
        "df_submit = pd.concat([pd.DataFrame(X_test.index,columns=['id']),pd.DataFrame(y_test,columns=['target']).astype('boolean')],axis=1)\n",
        "\n"
      ],
      "execution_count": 599,
      "outputs": []
    },
    {
      "cell_type": "code",
      "metadata": {
        "colab": {
          "base_uri": "https://localhost:8080/",
          "height": 407
        },
        "id": "k-GLGzuem3cV",
        "outputId": "d0d71ecc-386e-4548-c3d0-e52d6b41dd19"
      },
      "source": [
        "df_submit"
      ],
      "execution_count": 600,
      "outputs": [
        {
          "output_type": "execute_result",
          "data": {
            "text/html": [
              "<div>\n",
              "<style scoped>\n",
              "    .dataframe tbody tr th:only-of-type {\n",
              "        vertical-align: middle;\n",
              "    }\n",
              "\n",
              "    .dataframe tbody tr th {\n",
              "        vertical-align: top;\n",
              "    }\n",
              "\n",
              "    .dataframe thead th {\n",
              "        text-align: right;\n",
              "    }\n",
              "</style>\n",
              "<table border=\"1\" class=\"dataframe\">\n",
              "  <thead>\n",
              "    <tr style=\"text-align: right;\">\n",
              "      <th></th>\n",
              "      <th>id</th>\n",
              "      <th>target</th>\n",
              "    </tr>\n",
              "  </thead>\n",
              "  <tbody>\n",
              "    <tr>\n",
              "      <th>0</th>\n",
              "      <td>3411</td>\n",
              "      <td>True</td>\n",
              "    </tr>\n",
              "    <tr>\n",
              "      <th>1</th>\n",
              "      <td>2177</td>\n",
              "      <td>False</td>\n",
              "    </tr>\n",
              "    <tr>\n",
              "      <th>2</th>\n",
              "      <td>8400</td>\n",
              "      <td>True</td>\n",
              "    </tr>\n",
              "    <tr>\n",
              "      <th>3</th>\n",
              "      <td>464</td>\n",
              "      <td>True</td>\n",
              "    </tr>\n",
              "    <tr>\n",
              "      <th>4</th>\n",
              "      <td>6672</td>\n",
              "      <td>True</td>\n",
              "    </tr>\n",
              "    <tr>\n",
              "      <th>...</th>\n",
              "      <td>...</td>\n",
              "      <td>...</td>\n",
              "    </tr>\n",
              "    <tr>\n",
              "      <th>995</th>\n",
              "      <td>8609</td>\n",
              "      <td>False</td>\n",
              "    </tr>\n",
              "    <tr>\n",
              "      <th>996</th>\n",
              "      <td>3384</td>\n",
              "      <td>True</td>\n",
              "    </tr>\n",
              "    <tr>\n",
              "      <th>997</th>\n",
              "      <td>8297</td>\n",
              "      <td>False</td>\n",
              "    </tr>\n",
              "    <tr>\n",
              "      <th>998</th>\n",
              "      <td>7556</td>\n",
              "      <td>False</td>\n",
              "    </tr>\n",
              "    <tr>\n",
              "      <th>999</th>\n",
              "      <td>8582</td>\n",
              "      <td>True</td>\n",
              "    </tr>\n",
              "  </tbody>\n",
              "</table>\n",
              "<p>1000 rows × 2 columns</p>\n",
              "</div>"
            ],
            "text/plain": [
              "       id  target\n",
              "0    3411    True\n",
              "1    2177   False\n",
              "2    8400    True\n",
              "3     464    True\n",
              "4    6672    True\n",
              "..    ...     ...\n",
              "995  8609   False\n",
              "996  3384    True\n",
              "997  8297   False\n",
              "998  7556   False\n",
              "999  8582    True\n",
              "\n",
              "[1000 rows x 2 columns]"
            ]
          },
          "metadata": {
            "tags": []
          },
          "execution_count": 600
        }
      ]
    },
    {
      "cell_type": "code",
      "metadata": {
        "id": "JU_6XlFRgPL2",
        "colab": {
          "base_uri": "https://localhost:8080/"
        },
        "outputId": "20d0cc63-4700-442f-ad02-f50634f71144"
      },
      "source": [
        "df_submit['target'].value_counts()"
      ],
      "execution_count": 601,
      "outputs": [
        {
          "output_type": "execute_result",
          "data": {
            "text/plain": [
              "False    501\n",
              "True     499\n",
              "Name: target, dtype: Int64"
            ]
          },
          "metadata": {
            "tags": []
          },
          "execution_count": 601
        }
      ]
    },
    {
      "cell_type": "code",
      "metadata": {
        "id": "XhnvrX4E65vY"
      },
      "source": [
        "F = df_submit['target'].value_counts()[0]\n",
        "T = df_submit['target'].value_counts()[1]"
      ],
      "execution_count": 602,
      "outputs": []
    },
    {
      "cell_type": "code",
      "metadata": {
        "id": "wB_47tDG60uC"
      },
      "source": [
        "df_submit.to_csv(f'/PyLadies_NL_150_Test_{round(F1_Test,4)}_X_{round(F1_X,4)}_Trein_{round(F1_Trein,4)}_F{F}_T{T}.csv',index = False, sep = ',')"
      ],
      "execution_count": 603,
      "outputs": []
    },
    {
      "cell_type": "markdown",
      "metadata": {
        "id": "NpufntZjyH8T"
      },
      "source": [
        "### Salvar a Rede Neural"
      ]
    },
    {
      "cell_type": "code",
      "metadata": {
        "id": "ZKqn0leTyLOy"
      },
      "source": [
        "# Save the weights\n",
        "RN.save('/RN_150.h5')"
      ],
      "execution_count": 604,
      "outputs": []
    },
    {
      "cell_type": "code",
      "metadata": {
        "id": "viORp6XjrC66"
      },
      "source": [
        ""
      ],
      "execution_count": null,
      "outputs": []
    }
  ]
}