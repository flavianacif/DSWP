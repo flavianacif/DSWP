{
  "nbformat": 4,
  "nbformat_minor": 0,
  "metadata": {
    "colab": {
      "name": "Untitled5.ipynb",
      "provenance": [],
      "authorship_tag": "ABX9TyO3T49QgAdYMISuWqZhNUbH",
      "include_colab_link": true
    },
    "kernelspec": {
      "name": "python3",
      "display_name": "Python 3"
    }
  },
  "cells": [
    {
      "cell_type": "markdown",
      "metadata": {
        "id": "view-in-github",
        "colab_type": "text"
      },
      "source": [
        "<a href=\"https://colab.research.google.com/github/flavianacif/DSWP/blob/master/RFB_RN_134.ipynb\" target=\"_parent\"><img src=\"https://colab.research.google.com/assets/colab-badge.svg\" alt=\"Open In Colab\"/></a>"
      ]
    },
    {
      "cell_type": "code",
      "metadata": {
        "id": "j0_YZ6IURZE_"
      },
      "source": [
        "\n",
        "import tensorflow as tf\n",
        "import numpy as np\n",
        "import pandas as pd\n",
        "import matplotlib.pyplot as plt\n",
        "import seaborn as sns\n",
        "from sklearn.metrics import confusion_matrix\n",
        "import tensorflow_addons as tfa\n",
        "from tensorflow import keras\n",
        "from sklearn.metrics import accuracy_score, f1_score, precision_score, recall_score, classification_report, confusion_matrix\n",
        "from collections import Counter\n",
        "from imblearn.over_sampling import SMOTE\n"
      ],
      "execution_count": 199,
      "outputs": []
    },
    {
      "cell_type": "markdown",
      "metadata": {
        "id": "9ZX00UN5cjvM"
      },
      "source": [
        "[**Python**] - Verificar a versão do Tensorflow\n",
        "> Assegurar que está a utilizar a versão 2.x."
      ]
    },
    {
      "cell_type": "code",
      "metadata": {
        "id": "THWNIk_FCe_g",
        "colab": {
          "base_uri": "https://localhost:8080/",
          "height": 35
        },
        "outputId": "6d8095fb-356a-4570-b6d8-607fed1fe413"
      },
      "source": [
        "tf.__version__"
      ],
      "execution_count": 200,
      "outputs": [
        {
          "output_type": "execute_result",
          "data": {
            "application/vnd.google.colaboratory.intrinsic+json": {
              "type": "string"
            },
            "text/plain": [
              "'2.3.0'"
            ]
          },
          "metadata": {
            "tags": []
          },
          "execution_count": 200
        }
      ]
    },
    {
      "cell_type": "markdown",
      "metadata": {
        "id": "PZgQAKqLcLX3"
      },
      "source": [
        "[**Python**] - Definir o número de casas decimais"
      ]
    },
    {
      "cell_type": "code",
      "metadata": {
        "id": "tzKor02BCe_d"
      },
      "source": [
        "np.set_printoptions(precision= 3)"
      ],
      "execution_count": 201,
      "outputs": []
    },
    {
      "cell_type": "markdown",
      "metadata": {
        "id": "M5V4KopjLWOL"
      },
      "source": [
        "### 1. Carregar os dados"
      ]
    },
    {
      "cell_type": "markdown",
      "metadata": {
        "id": "V_cwAUW3tseE"
      },
      "source": [
        "[**Python**] - Carregar os dados:"
      ]
    },
    {
      "cell_type": "code",
      "metadata": {
        "id": "_Bs87IWPtwtm"
      },
      "source": [
        "# Leitura do dataframe:\n",
        "df = pd.read_csv('/total_10.csv')"
      ],
      "execution_count": 202,
      "outputs": []
    },
    {
      "cell_type": "code",
      "metadata": {
        "id": "myhgteQhdqVi"
      },
      "source": [
        "df_total = df.copy()"
      ],
      "execution_count": 203,
      "outputs": []
    },
    {
      "cell_type": "code",
      "metadata": {
        "id": "0MfQNbWvfUkK"
      },
      "source": [
        "df_total.set_index('id', inplace=True)"
      ],
      "execution_count": 204,
      "outputs": []
    },
    {
      "cell_type": "code",
      "metadata": {
        "colab": {
          "base_uri": "https://localhost:8080/"
        },
        "id": "6730Oq3j-4w8",
        "outputId": "22974ca0-5c74-4798-f918-bf562add0b92"
      },
      "source": [
        "df_total.columns"
      ],
      "execution_count": 205,
      "outputs": [
        {
          "output_type": "execute_result",
          "data": {
            "text/plain": [
              "Index(['cnae2', 'rf2', 'md1', 'md2', 'md3', 'md4', 'md5', 'md6', 'md7', 'md8',\n",
              "       'md9', 'md10', 'md11', 'md12', 'mc1', 'mc2', 'mc3', 'mc4', 'ind01',\n",
              "       'ind02', 'ind03', 'ind04', 'ind05', 'ind06', 'ind07', 'ind08', 'ind09',\n",
              "       'ind10', 'ind11', 'ind12', 'ind13', 'ind14', 'ind15', 'ind16', 'ind17',\n",
              "       'ind18', 'ind19', 'ind20', 'ind21', 'ind22', 'ind23', 'ind24', 'ind25',\n",
              "       'ind26', 'ind27', 'ind28', 'ind29', 'ind30', 'ind31', 'ind32', 'ind33',\n",
              "       'ind34', 'ind35', 'ind36', 'ind37', 'ind38', 'ind39', 'ind40', 'ind41',\n",
              "       'ind42', 'ind43', 'target', 'cnae_secao', 'ind_g1_mv', 'ind_g1',\n",
              "       'ind_g2_mv', 'ind_g2', 'mc_g1_mv', 'mc_g1', 'md1_o', 'md2_o', 'md3_o',\n",
              "       'md4_o', 'md5_o', 'md7_o', 'md8_o', 'md9_o', 'md10_o', 'md12_o',\n",
              "       'mc1_o', 'mc3_o', 'mc4_o'],\n",
              "      dtype='object')"
            ]
          },
          "metadata": {
            "tags": []
          },
          "execution_count": 205
        }
      ]
    },
    {
      "cell_type": "markdown",
      "metadata": {
        "id": "6LXKr9-R_JIK"
      },
      "source": [
        "Retirando algumas colunas para testar"
      ]
    },
    {
      "cell_type": "code",
      "metadata": {
        "id": "aVnISOiD-xRk"
      },
      "source": [
        "df_total.drop(columns = ['rf2','cnae2','md1', 'md2', 'md3', 'md4', 'md5', 'md6', 'md7', 'md8',\n",
        "       'md9', 'md10', 'md11', 'md12', 'mc1', 'mc2', 'mc3', 'mc4','mc_g1','ind_g1',\n",
        "       'ind_g2','ind29', 'ind30','ind33', 'ind38', 'ind40', 'ind41'], inplace = True)"
      ],
      "execution_count": 206,
      "outputs": []
    },
    {
      "cell_type": "code",
      "metadata": {
        "colab": {
          "base_uri": "https://localhost:8080/"
        },
        "id": "IHt2y_5IHtRH",
        "outputId": "9cef0d2a-13c9-4c87-eed8-c955d8ba4d61"
      },
      "source": [
        "df_total.columns"
      ],
      "execution_count": 207,
      "outputs": [
        {
          "output_type": "execute_result",
          "data": {
            "text/plain": [
              "Index(['ind01', 'ind02', 'ind03', 'ind04', 'ind05', 'ind06', 'ind07', 'ind08',\n",
              "       'ind09', 'ind10', 'ind11', 'ind12', 'ind13', 'ind14', 'ind15', 'ind16',\n",
              "       'ind17', 'ind18', 'ind19', 'ind20', 'ind21', 'ind22', 'ind23', 'ind24',\n",
              "       'ind25', 'ind26', 'ind27', 'ind28', 'ind31', 'ind32', 'ind34', 'ind35',\n",
              "       'ind36', 'ind37', 'ind39', 'ind42', 'ind43', 'target', 'cnae_secao',\n",
              "       'ind_g1_mv', 'ind_g2_mv', 'mc_g1_mv', 'md1_o', 'md2_o', 'md3_o',\n",
              "       'md4_o', 'md5_o', 'md7_o', 'md8_o', 'md9_o', 'md10_o', 'md12_o',\n",
              "       'mc1_o', 'mc3_o', 'mc4_o'],\n",
              "      dtype='object')"
            ]
          },
          "metadata": {
            "tags": []
          },
          "execution_count": 207
        }
      ]
    },
    {
      "cell_type": "markdown",
      "metadata": {
        "id": "e_0lkPsR_mFp"
      },
      "source": [
        "GET DUMMIES"
      ]
    },
    {
      "cell_type": "code",
      "metadata": {
        "id": "moTlPrJk5b0T"
      },
      "source": [
        "#df_total['cnae2'] = df_total['cnae2'].astype('category')\n",
        "#df_total[['ind28', 'ind31', 'ind32', 'ind34', 'ind35', 'ind36', 'ind37', 'ind39', 'ind42', 'ind43']] = df_total[['ind28', 'ind31', 'ind32', 'ind34', 'ind35', 'ind36', 'ind37', 'ind39', 'ind42', 'ind43']].astype('category')\n",
        "#df_total[['ind28', 'ind43']] = df_total[['ind28', 'ind43']].astype('category')"
      ],
      "execution_count": 208,
      "outputs": []
    },
    {
      "cell_type": "code",
      "metadata": {
        "id": "rN72uIGk_jMI"
      },
      "source": [
        "df_total = pd.get_dummies(df_total)"
      ],
      "execution_count": 209,
      "outputs": []
    },
    {
      "cell_type": "code",
      "metadata": {
        "id": "9gYa3Hy6lrZi"
      },
      "source": [
        "X_treino = df_total[df_total['target']!= 2]"
      ],
      "execution_count": 210,
      "outputs": []
    },
    {
      "cell_type": "code",
      "metadata": {
        "id": "KeckOXBrR_X6"
      },
      "source": [
        "df_X = X_treino.copy()"
      ],
      "execution_count": 211,
      "outputs": []
    },
    {
      "cell_type": "code",
      "metadata": {
        "id": "Q5tB1ey7eAe4"
      },
      "source": [
        "df_y = df_X['target']\n",
        "df_X = df_X.drop(columns= ['target'])"
      ],
      "execution_count": 212,
      "outputs": []
    },
    {
      "cell_type": "code",
      "metadata": {
        "id": "i8_BlpeteJow"
      },
      "source": [
        "X_test = df_total[df_total['target']== 2].drop(columns= ['target'])"
      ],
      "execution_count": 213,
      "outputs": []
    },
    {
      "cell_type": "code",
      "metadata": {
        "colab": {
          "base_uri": "https://localhost:8080/"
        },
        "id": "ZKOA1SHr0oYy",
        "outputId": "df979e43-920c-46b9-d2db-8f5d10736ec1"
      },
      "source": [
        "X_treino.columns"
      ],
      "execution_count": 214,
      "outputs": [
        {
          "output_type": "execute_result",
          "data": {
            "text/plain": [
              "Index(['ind01', 'ind02', 'ind03', 'ind04', 'ind05', 'ind06', 'ind07', 'ind08',\n",
              "       'ind09', 'ind10', 'ind11', 'ind12', 'ind13', 'ind14', 'ind15', 'ind16',\n",
              "       'ind17', 'ind18', 'ind19', 'ind20', 'ind21', 'ind22', 'ind23', 'ind24',\n",
              "       'ind25', 'ind26', 'ind27', 'ind28', 'ind31', 'ind32', 'ind34', 'ind35',\n",
              "       'ind36', 'ind37', 'ind39', 'ind42', 'ind43', 'target', 'ind_g1_mv',\n",
              "       'ind_g2_mv', 'mc_g1_mv', 'md1_o', 'md2_o', 'md3_o', 'md4_o', 'md5_o',\n",
              "       'md7_o', 'md8_o', 'md9_o', 'md10_o', 'md12_o', 'mc1_o', 'mc3_o',\n",
              "       'mc4_o', 'cnae_secao_0', 'cnae_secao_A', 'cnae_secao_B', 'cnae_secao_C',\n",
              "       'cnae_secao_D', 'cnae_secao_E', 'cnae_secao_F', 'cnae_secao_G',\n",
              "       'cnae_secao_H', 'cnae_secao_I', 'cnae_secao_J', 'cnae_secao_K',\n",
              "       'cnae_secao_L', 'cnae_secao_M', 'cnae_secao_N', 'cnae_secao_P',\n",
              "       'cnae_secao_Q', 'cnae_secao_R', 'cnae_secao_S'],\n",
              "      dtype='object')"
            ]
          },
          "metadata": {
            "tags": []
          },
          "execution_count": 214
        }
      ]
    },
    {
      "cell_type": "markdown",
      "metadata": {
        "id": "qzWrM6VCSEoQ"
      },
      "source": [
        "Tratando o Balanceamento da Amostra"
      ]
    },
    {
      "cell_type": "code",
      "metadata": {
        "colab": {
          "base_uri": "https://localhost:8080/"
        },
        "id": "28lRhxtgRwEa",
        "outputId": "f2f0c382-dd73-49cd-c6c6-6f157b001d68"
      },
      "source": [
        "qtd = Counter(X_treino['target'])\n",
        "qtd"
      ],
      "execution_count": 215,
      "outputs": [
        {
          "output_type": "execute_result",
          "data": {
            "text/plain": [
              "Counter({0: 8513, 1: 2520})"
            ]
          },
          "metadata": {
            "tags": []
          },
          "execution_count": 215
        }
      ]
    },
    {
      "cell_type": "code",
      "metadata": {
        "id": "0AZCDYSOSHLx"
      },
      "source": [
        "from imblearn.under_sampling import RandomUnderSampler\n",
        "from imblearn.pipeline import Pipeline"
      ],
      "execution_count": 216,
      "outputs": []
    },
    {
      "cell_type": "code",
      "metadata": {
        "id": "Z1FhuODySLSS"
      },
      "source": [
        "over = SMOTE(sampling_strategy = 0.5) # Reamostrar a classe minoritária para ter 10% da classe majoritária\n",
        "under = RandomUnderSampler(sampling_strategy = 0.85) # Seleciona a classe majoritária para ter 50%\n",
        "steps = [('over', over), ('under', under)]\n",
        "pipeline = Pipeline(steps = steps)"
      ],
      "execution_count": 217,
      "outputs": []
    },
    {
      "cell_type": "code",
      "metadata": {
        "colab": {
          "base_uri": "https://localhost:8080/"
        },
        "id": "dwkQt9AFSNLL",
        "outputId": "7ed96164-8c6b-4aa1-e2ca-398ea02ce05d"
      },
      "source": [
        "X, y = pipeline.fit_resample(df_X, df_y)"
      ],
      "execution_count": 218,
      "outputs": [
        {
          "output_type": "stream",
          "text": [
            "/usr/local/lib/python3.6/dist-packages/sklearn/utils/deprecation.py:87: FutureWarning: Function safe_indexing is deprecated; safe_indexing is deprecated in version 0.22 and will be removed in version 0.24.\n",
            "  warnings.warn(msg, category=FutureWarning)\n",
            "/usr/local/lib/python3.6/dist-packages/sklearn/utils/deprecation.py:87: FutureWarning: Function safe_indexing is deprecated; safe_indexing is deprecated in version 0.22 and will be removed in version 0.24.\n",
            "  warnings.warn(msg, category=FutureWarning)\n"
          ],
          "name": "stderr"
        }
      ]
    },
    {
      "cell_type": "markdown",
      "metadata": {
        "id": "m22vN2YrSWOr"
      },
      "source": [
        "ANTES/DEPOIS:"
      ]
    },
    {
      "cell_type": "code",
      "metadata": {
        "colab": {
          "base_uri": "https://localhost:8080/"
        },
        "id": "oLiFXdkqSVNz",
        "outputId": "28a5b849-73f8-457f-f27b-1b3c9851c96a"
      },
      "source": [
        "print(Counter(df_y),Counter(y))"
      ],
      "execution_count": 219,
      "outputs": [
        {
          "output_type": "stream",
          "text": [
            "Counter({0: 8513, 1: 2520}) Counter({0: 5007, 1: 4256})\n"
          ],
          "name": "stdout"
        }
      ]
    },
    {
      "cell_type": "markdown",
      "metadata": {
        "id": "jJaJWuUqJCha"
      },
      "source": [
        "### 3. Definir as amostras de treinamento e validação"
      ]
    },
    {
      "cell_type": "markdown",
      "metadata": {
        "id": "LoO2iEimu4SQ"
      },
      "source": [
        "[**Python**] - Definir as amostras de treinamento e validação"
      ]
    },
    {
      "cell_type": "code",
      "metadata": {
        "id": "hTCdm-F9JBGA",
        "colab": {
          "base_uri": "https://localhost:8080/"
        },
        "outputId": "5cbeae77-abe9-4e5a-c730-d1395b6df26a"
      },
      "source": [
        "from sklearn.model_selection import train_test_split\n",
        "\n",
        "X_treinamento, X_teste, y_treinamento, y_teste= train_test_split(X, y, test_size = 0.1, random_state = 22091980) #20111974)\n",
        "print(f'X: Treinamento=  {X_treinamento.shape}; X: Teste=  {X_teste.shape}')"
      ],
      "execution_count": 220,
      "outputs": [
        {
          "output_type": "stream",
          "text": [
            "X: Treinamento=  (8336, 72); X: Teste=  (927, 72)\n"
          ],
          "name": "stdout"
        }
      ]
    },
    {
      "cell_type": "code",
      "metadata": {
        "id": "th9CsQpB8VDK",
        "colab": {
          "base_uri": "https://localhost:8080/"
        },
        "outputId": "20084df6-21c3-4378-8c22-1d9aae35ab06"
      },
      "source": [
        "print(f'Y: Treinamento =  {y_treinamento.shape}; Y: Teste = {y_teste.shape}')"
      ],
      "execution_count": 221,
      "outputs": [
        {
          "output_type": "stream",
          "text": [
            "Y: Treinamento =  (8336,); Y: Teste = (927,)\n"
          ],
          "name": "stdout"
        }
      ]
    },
    {
      "cell_type": "markdown",
      "metadata": {
        "id": "2bL-vXiULupD"
      },
      "source": [
        "### 4. Definir a arquitetura da Rede Neural com _Tensorflow_/_Keras_"
      ]
    },
    {
      "cell_type": "markdown",
      "metadata": {
        "id": "zxETX6dTfyU5"
      },
      "source": [
        "[**Python**] - Definir a arquitetura, ou seja:\n",
        "* $N_{I}$: Número de neurônios na camada de entrada (_Input Layer_);\n",
        "* $N_{O}$: Número de neurônios na camada de saída (_Output Layer_);\n",
        "* $N_{H}$: Número de neurônios na camada escondida (_Hidden Layer_);\n",
        "* FA: Função de ativação;"
      ]
    },
    {
      "cell_type": "code",
      "metadata": {
        "id": "F_MdsLicfyU6"
      },
      "source": [
        "# Número de Neurônios na Input Layer:\n",
        "N_I = 72\n",
        "\n",
        "# Número de neurônios na Output Layer:\n",
        "N_O = 1\n",
        "\n",
        "# Número de neurônios na Hidden Layer:\n",
        "N_H = 400\n",
        "\n",
        "N_H2 = 300\n",
        "\n",
        "N_H3=200\n",
        "\n",
        "N_H4 = 100\n",
        "\n",
        "N_H5 = 50\n",
        "\n",
        "N_H6 = 2\n",
        "\n",
        "\n",
        "\n",
        "# Função de Ativação da Hidden Layer:\n",
        "FA_H = tf.nn.leaky_relu\n",
        "#FA_H = tf.keras.activations.swish\n",
        "\n",
        "# Função de Ativação da Output Layer:\n",
        "FA_O = tf.keras.activations.sigmoid\n",
        "#FA_O = tf.keras.activations.softmax\n",
        "\n",
        "\n"
      ],
      "execution_count": 234,
      "outputs": []
    },
    {
      "cell_type": "markdown",
      "metadata": {
        "id": "SUMmDuPCcYyB"
      },
      "source": [
        "[**Python**] - Definir as sementes para NumPy e Tensorflow:\n",
        "> Por questões de reproducibilidade de resultados, use as sementes abaixo:\n",
        "\n",
        "* NumPy: 20111974;\n",
        "* Tensorflow: 20111974;"
      ]
    },
    {
      "cell_type": "code",
      "metadata": {
        "id": "T-echOBmceVy"
      },
      "source": [
        "np.random.seed(19800922)\n",
        "tf.random.set_seed(22091980)"
      ],
      "execution_count": 235,
      "outputs": []
    },
    {
      "cell_type": "markdown",
      "metadata": {
        "id": "7ZceRRdinEM2"
      },
      "source": [
        "\n",
        "[**Python**] - Definir a Rede Neural:"
      ]
    },
    {
      "cell_type": "markdown",
      "metadata": {
        "id": "nXQsSYq2DBfI"
      },
      "source": [
        "\n",
        "\n",
        "\n",
        "\n",
        "* 1 camada _dropout_ com $p= 0.1$:"
      ]
    },
    {
      "cell_type": "code",
      "metadata": {
        "id": "TRFR5Kr_nDtD",
        "colab": {
          "base_uri": "https://localhost:8080/"
        },
        "outputId": "1c61b022-b19d-4eaf-df3f-4640a3c15738"
      },
      "source": [
        "from tensorflow.keras import Sequential\n",
        "from tensorflow.keras.layers import Dense\n",
        "from tensorflow.keras.layers import Dropout\n",
        "\n",
        "RN= Sequential()\n",
        "RN.add(Dense(N_H, input_dim= N_I, kernel_initializer= tf.keras.initializers.GlorotNormal(), activation= FA_H, kernel_constraint= tf.keras.constraints.UnitNorm()))\n",
        "RN.add(Dropout(0.3))\n",
        "RN.add(Dense(N_H2, kernel_initializer= tf.keras.initializers.GlorotNormal(), activation= FA_H, kernel_constraint= tf.keras.constraints.UnitNorm()))\n",
        "RN.add(Dropout(0.3))\n",
        "RN.add(Dense(N_H3, kernel_initializer= tf.keras.initializers.GlorotNormal(), activation= FA_H, kernel_constraint= tf.keras.constraints.UnitNorm()))\n",
        "RN.add(Dropout(0.3))\n",
        "RN.add(Dense(N_H4, kernel_initializer= tf.keras.initializers.GlorotNormal(), activation= FA_H, kernel_constraint= tf.keras.constraints.UnitNorm()))\n",
        "RN.add(Dropout(0.3))\n",
        "RN.add(Dense(N_H5, kernel_initializer= tf.keras.initializers.GlorotNormal(), activation= FA_H, kernel_constraint= tf.keras.constraints.UnitNorm()))\n",
        "RN.add(Dropout(0.3))\n",
        "RN.add(Dense(N_H6, kernel_initializer= tf.keras.initializers.GlorotNormal(), activation= FA_H, kernel_constraint= tf.keras.constraints.UnitNorm()))\n",
        "RN.add(Dropout(0.3))\n",
        "RN.add(Dense(units= N_O, activation= FA_O))\n",
        "\n",
        "# Resumo da arquitetura da Rede Neural\n",
        "print(RN.summary())"
      ],
      "execution_count": 236,
      "outputs": [
        {
          "output_type": "stream",
          "text": [
            "Model: \"sequential_12\"\n",
            "_________________________________________________________________\n",
            "Layer (type)                 Output Shape              Param #   \n",
            "=================================================================\n",
            "dense_84 (Dense)             (None, 400)               29200     \n",
            "_________________________________________________________________\n",
            "dropout_72 (Dropout)         (None, 400)               0         \n",
            "_________________________________________________________________\n",
            "dense_85 (Dense)             (None, 300)               120300    \n",
            "_________________________________________________________________\n",
            "dropout_73 (Dropout)         (None, 300)               0         \n",
            "_________________________________________________________________\n",
            "dense_86 (Dense)             (None, 200)               60200     \n",
            "_________________________________________________________________\n",
            "dropout_74 (Dropout)         (None, 200)               0         \n",
            "_________________________________________________________________\n",
            "dense_87 (Dense)             (None, 100)               20100     \n",
            "_________________________________________________________________\n",
            "dropout_75 (Dropout)         (None, 100)               0         \n",
            "_________________________________________________________________\n",
            "dense_88 (Dense)             (None, 50)                5050      \n",
            "_________________________________________________________________\n",
            "dropout_76 (Dropout)         (None, 50)                0         \n",
            "_________________________________________________________________\n",
            "dense_89 (Dense)             (None, 2)                 102       \n",
            "_________________________________________________________________\n",
            "dropout_77 (Dropout)         (None, 2)                 0         \n",
            "_________________________________________________________________\n",
            "dense_90 (Dense)             (None, 1)                 3         \n",
            "=================================================================\n",
            "Total params: 234,955\n",
            "Trainable params: 234,955\n",
            "Non-trainable params: 0\n",
            "_________________________________________________________________\n",
            "None\n"
          ],
          "name": "stdout"
        }
      ]
    },
    {
      "cell_type": "markdown",
      "metadata": {
        "id": "4JBZf4ypGO8o"
      },
      "source": [
        "### 5. Compilar a Rede Neural\n",
        "\n",
        "Este é um problema de classificação binária (_Male_ ou _Female_). Portanto, temos:\n",
        "* optimizer= tf.keras.optimizers.Adam();\n",
        "* loss=  tf.keras.losses.MeanSquaredError() ou loss= tf.keras.losses.BinaryCrossentropy(). Particularmente, eu gosto de usar loss=  tf.keras.losses.MeanSquaredError() porque o resultado é mais intuitivo;\n",
        "* metrics= tf.keras.metrics.binary_accuracy."
      ]
    },
    {
      "cell_type": "markdown",
      "metadata": {
        "id": "USmAuw6f00wL"
      },
      "source": [
        "[**Python**] - Comando modelo.compile(optimizer, loss, metrics):"
      ]
    },
    {
      "cell_type": "code",
      "metadata": {
        "id": "h7KEi1_e6SSF"
      },
      "source": [
        "\n",
        "Algoritmo_Opt = tf.keras.optimizers.Adam()\n",
        "#Algoritmo_Opt = tf.keras.optimizers.Adam(learning_rate=0.01, beta_1=0.8, beta_2=0.99, epsilon=1e-07 , amsgrad=True,     name='Adam')\n",
        "#Loss_Function = tf.keras.losses.MeanSquaredError()\n",
        "Loss_Function = tf.keras.losses.BinaryCrossentropy()\n",
        "#Metrics_Perf = tf.keras.metrics.binary_accuracy\n",
        "Metrics_Perf = tfa.metrics.F1Score(1,average='macro',threshold=0.5)\n",
        "RN.compile(optimizer = Algoritmo_Opt, loss = Loss_Function,metrics = Metrics_Perf)\n",
        "#RN.compile( loss = Loss_Function,metrics = Metrics_Perf)"
      ],
      "execution_count": 237,
      "outputs": []
    },
    {
      "cell_type": "markdown",
      "metadata": {
        "id": "Hc90EeV_GojX"
      },
      "source": [
        "### 6. Ajustar a Rede Neural\n",
        "\n",
        "Obs.: A opção callbacks abaixo implementa o conceito de _early stopping_. Esta opção vai parar o processo de treinamento da Rede Neural antes de atingirmos o númerco de _epochs_ quando o modelo pára de melhorar, medido pela métrica val_loss. O parâmetro _patience_= k significa que o processo de otimização vai parar se tivermos k _epochs_ consecutivas sem observarmos melhoria da performance da Rede Neural."
      ]
    },
    {
      "cell_type": "markdown",
      "metadata": {
        "id": "XCCTtUh_vEFP"
      },
      "source": [
        "[**Python**] - Comando modelo.fit(X_treinamento, y_treinamento, epochs)"
      ]
    },
    {
      "cell_type": "code",
      "metadata": {
        "id": "EB91J6nrF0db",
        "colab": {
          "base_uri": "https://localhost:8080/"
        },
        "outputId": "74c17200-9578-4c8e-e53f-10145aec1842"
      },
      "source": [
        "callbacks = [tf.keras.callbacks.EarlyStopping(monitor = 'val_f1_score', mode = 'max',patience = 20, min_delta = 0.001)]\n",
        "hist= RN.fit(X_treinamento, y_treinamento, epochs = 150, batch_size = 20,\n",
        "             validation_data = (X_teste, y_teste))#, callbacks = callbacks)"
      ],
      "execution_count": 238,
      "outputs": [
        {
          "output_type": "stream",
          "text": [
            "Epoch 1/150\n",
            "417/417 [==============================] - 2s 6ms/step - loss: 0.6422 - f1_score: 0.6334 - val_loss: 0.6120 - val_f1_score: 0.6785\n",
            "Epoch 2/150\n",
            "417/417 [==============================] - 2s 6ms/step - loss: 0.6207 - f1_score: 0.6510 - val_loss: 0.6079 - val_f1_score: 0.6640\n",
            "Epoch 3/150\n",
            "417/417 [==============================] - 2s 5ms/step - loss: 0.6144 - f1_score: 0.6355 - val_loss: 0.5984 - val_f1_score: 0.6810\n",
            "Epoch 4/150\n",
            "417/417 [==============================] - 2s 5ms/step - loss: 0.6069 - f1_score: 0.6473 - val_loss: 0.6021 - val_f1_score: 0.6578\n",
            "Epoch 5/150\n",
            "417/417 [==============================] - 2s 5ms/step - loss: 0.6053 - f1_score: 0.6459 - val_loss: 0.5925 - val_f1_score: 0.6731\n",
            "Epoch 6/150\n",
            "417/417 [==============================] - 2s 5ms/step - loss: 0.5975 - f1_score: 0.6478 - val_loss: 0.5895 - val_f1_score: 0.6938\n",
            "Epoch 7/150\n",
            "417/417 [==============================] - 2s 5ms/step - loss: 0.5947 - f1_score: 0.6575 - val_loss: 0.5950 - val_f1_score: 0.6864\n",
            "Epoch 8/150\n",
            "417/417 [==============================] - 2s 5ms/step - loss: 0.5965 - f1_score: 0.6514 - val_loss: 0.5870 - val_f1_score: 0.6771\n",
            "Epoch 9/150\n",
            "417/417 [==============================] - 2s 6ms/step - loss: 0.5859 - f1_score: 0.6566 - val_loss: 0.5982 - val_f1_score: 0.6861\n",
            "Epoch 10/150\n",
            "417/417 [==============================] - 2s 6ms/step - loss: 0.5845 - f1_score: 0.6546 - val_loss: 0.5810 - val_f1_score: 0.6776\n",
            "Epoch 11/150\n",
            "417/417 [==============================] - 2s 6ms/step - loss: 0.5836 - f1_score: 0.6598 - val_loss: 0.5913 - val_f1_score: 0.6553\n",
            "Epoch 12/150\n",
            "417/417 [==============================] - 2s 5ms/step - loss: 0.5752 - f1_score: 0.6686 - val_loss: 0.5809 - val_f1_score: 0.6891\n",
            "Epoch 13/150\n",
            "417/417 [==============================] - 2s 6ms/step - loss: 0.5765 - f1_score: 0.6649 - val_loss: 0.5861 - val_f1_score: 0.6772\n",
            "Epoch 14/150\n",
            "417/417 [==============================] - 2s 6ms/step - loss: 0.5724 - f1_score: 0.6645 - val_loss: 0.5827 - val_f1_score: 0.6545\n",
            "Epoch 15/150\n",
            "417/417 [==============================] - 2s 6ms/step - loss: 0.5683 - f1_score: 0.6736 - val_loss: 0.5814 - val_f1_score: 0.6829\n",
            "Epoch 16/150\n",
            "417/417 [==============================] - 3s 6ms/step - loss: 0.5669 - f1_score: 0.6756 - val_loss: 0.5754 - val_f1_score: 0.6682\n",
            "Epoch 17/150\n",
            "417/417 [==============================] - 3s 6ms/step - loss: 0.5675 - f1_score: 0.6776 - val_loss: 0.5755 - val_f1_score: 0.6768\n",
            "Epoch 18/150\n",
            "417/417 [==============================] - 3s 6ms/step - loss: 0.5619 - f1_score: 0.6716 - val_loss: 0.5872 - val_f1_score: 0.6404\n",
            "Epoch 19/150\n",
            "417/417 [==============================] - 3s 6ms/step - loss: 0.5646 - f1_score: 0.6758 - val_loss: 0.6062 - val_f1_score: 0.6997\n",
            "Epoch 20/150\n",
            "417/417 [==============================] - 2s 5ms/step - loss: 0.5653 - f1_score: 0.6661 - val_loss: 0.5780 - val_f1_score: 0.7030\n",
            "Epoch 21/150\n",
            "417/417 [==============================] - 2s 6ms/step - loss: 0.5602 - f1_score: 0.6866 - val_loss: 0.5888 - val_f1_score: 0.5997\n",
            "Epoch 22/150\n",
            "417/417 [==============================] - 2s 6ms/step - loss: 0.5581 - f1_score: 0.6791 - val_loss: 0.5791 - val_f1_score: 0.6628\n",
            "Epoch 23/150\n",
            "417/417 [==============================] - 2s 6ms/step - loss: 0.5537 - f1_score: 0.6807 - val_loss: 0.5743 - val_f1_score: 0.6976\n",
            "Epoch 24/150\n",
            "417/417 [==============================] - 2s 6ms/step - loss: 0.5492 - f1_score: 0.6832 - val_loss: 0.5844 - val_f1_score: 0.6908\n",
            "Epoch 25/150\n",
            "417/417 [==============================] - 2s 6ms/step - loss: 0.5517 - f1_score: 0.6813 - val_loss: 0.5779 - val_f1_score: 0.6537\n",
            "Epoch 26/150\n",
            "417/417 [==============================] - 2s 6ms/step - loss: 0.5474 - f1_score: 0.6903 - val_loss: 0.6039 - val_f1_score: 0.6740\n",
            "Epoch 27/150\n",
            "417/417 [==============================] - 2s 6ms/step - loss: 0.5407 - f1_score: 0.6902 - val_loss: 0.5924 - val_f1_score: 0.6615\n",
            "Epoch 28/150\n",
            "417/417 [==============================] - 2s 6ms/step - loss: 0.5395 - f1_score: 0.6899 - val_loss: 0.5794 - val_f1_score: 0.7015\n",
            "Epoch 29/150\n",
            "417/417 [==============================] - 2s 6ms/step - loss: 0.5377 - f1_score: 0.6956 - val_loss: 0.5959 - val_f1_score: 0.6292\n",
            "Epoch 30/150\n",
            "417/417 [==============================] - 2s 6ms/step - loss: 0.5410 - f1_score: 0.6895 - val_loss: 0.5813 - val_f1_score: 0.7053\n",
            "Epoch 31/150\n",
            "417/417 [==============================] - 2s 6ms/step - loss: 0.5399 - f1_score: 0.6831 - val_loss: 0.5729 - val_f1_score: 0.6911\n",
            "Epoch 32/150\n",
            "417/417 [==============================] - 3s 6ms/step - loss: 0.5343 - f1_score: 0.6961 - val_loss: 0.5793 - val_f1_score: 0.6991\n",
            "Epoch 33/150\n",
            "417/417 [==============================] - 3s 6ms/step - loss: 0.5370 - f1_score: 0.7028 - val_loss: 0.6090 - val_f1_score: 0.6212\n",
            "Epoch 34/150\n",
            "417/417 [==============================] - 3s 6ms/step - loss: 0.5367 - f1_score: 0.6993 - val_loss: 0.5956 - val_f1_score: 0.6721\n",
            "Epoch 35/150\n",
            "417/417 [==============================] - 2s 6ms/step - loss: 0.5311 - f1_score: 0.6939 - val_loss: 0.5661 - val_f1_score: 0.6996\n",
            "Epoch 36/150\n",
            "417/417 [==============================] - 2s 6ms/step - loss: 0.5259 - f1_score: 0.7021 - val_loss: 0.5919 - val_f1_score: 0.6997\n",
            "Epoch 37/150\n",
            "417/417 [==============================] - 3s 6ms/step - loss: 0.5302 - f1_score: 0.6880 - val_loss: 0.6156 - val_f1_score: 0.7152\n",
            "Epoch 38/150\n",
            "417/417 [==============================] - 3s 6ms/step - loss: 0.5255 - f1_score: 0.7047 - val_loss: 0.5871 - val_f1_score: 0.6748\n",
            "Epoch 39/150\n",
            "417/417 [==============================] - 2s 6ms/step - loss: 0.5263 - f1_score: 0.6982 - val_loss: 0.5734 - val_f1_score: 0.7192\n",
            "Epoch 40/150\n",
            "417/417 [==============================] - 2s 6ms/step - loss: 0.5230 - f1_score: 0.6978 - val_loss: 0.6011 - val_f1_score: 0.6438\n",
            "Epoch 41/150\n",
            "417/417 [==============================] - 2s 6ms/step - loss: 0.5262 - f1_score: 0.7012 - val_loss: 0.5771 - val_f1_score: 0.6897\n",
            "Epoch 42/150\n",
            "417/417 [==============================] - 2s 6ms/step - loss: 0.5248 - f1_score: 0.7043 - val_loss: 0.6046 - val_f1_score: 0.7139\n",
            "Epoch 43/150\n",
            "417/417 [==============================] - 2s 6ms/step - loss: 0.5173 - f1_score: 0.7109 - val_loss: 0.6004 - val_f1_score: 0.7179\n",
            "Epoch 44/150\n",
            "417/417 [==============================] - 2s 6ms/step - loss: 0.5269 - f1_score: 0.7027 - val_loss: 0.6209 - val_f1_score: 0.6953\n",
            "Epoch 45/150\n",
            "417/417 [==============================] - 2s 6ms/step - loss: 0.5254 - f1_score: 0.6978 - val_loss: 0.5933 - val_f1_score: 0.6783\n",
            "Epoch 46/150\n",
            "417/417 [==============================] - 2s 6ms/step - loss: 0.5122 - f1_score: 0.7124 - val_loss: 0.6205 - val_f1_score: 0.7022\n",
            "Epoch 47/150\n",
            "417/417 [==============================] - 2s 5ms/step - loss: 0.5208 - f1_score: 0.7023 - val_loss: 0.5988 - val_f1_score: 0.6779\n",
            "Epoch 48/150\n",
            "417/417 [==============================] - 2s 6ms/step - loss: 0.5171 - f1_score: 0.7076 - val_loss: 0.5732 - val_f1_score: 0.7042\n",
            "Epoch 49/150\n",
            "417/417 [==============================] - 2s 6ms/step - loss: 0.5212 - f1_score: 0.7040 - val_loss: 0.5824 - val_f1_score: 0.6510\n",
            "Epoch 50/150\n",
            "417/417 [==============================] - 2s 6ms/step - loss: 0.5157 - f1_score: 0.7049 - val_loss: 0.5826 - val_f1_score: 0.6570\n",
            "Epoch 51/150\n",
            "417/417 [==============================] - 2s 6ms/step - loss: 0.5113 - f1_score: 0.7075 - val_loss: 0.5824 - val_f1_score: 0.6550\n",
            "Epoch 52/150\n",
            "417/417 [==============================] - 2s 5ms/step - loss: 0.5142 - f1_score: 0.7130 - val_loss: 0.6055 - val_f1_score: 0.6586\n",
            "Epoch 53/150\n",
            "417/417 [==============================] - 2s 5ms/step - loss: 0.5163 - f1_score: 0.7183 - val_loss: 0.5797 - val_f1_score: 0.6406\n",
            "Epoch 54/150\n",
            "417/417 [==============================] - 2s 6ms/step - loss: 0.5145 - f1_score: 0.7006 - val_loss: 0.5716 - val_f1_score: 0.7088\n",
            "Epoch 55/150\n",
            "417/417 [==============================] - 2s 6ms/step - loss: 0.5102 - f1_score: 0.7135 - val_loss: 0.5857 - val_f1_score: 0.6543\n",
            "Epoch 56/150\n",
            "417/417 [==============================] - 2s 6ms/step - loss: 0.5121 - f1_score: 0.7074 - val_loss: 0.5900 - val_f1_score: 0.6628\n",
            "Epoch 57/150\n",
            "417/417 [==============================] - 2s 6ms/step - loss: 0.5099 - f1_score: 0.7072 - val_loss: 0.6033 - val_f1_score: 0.7011\n",
            "Epoch 58/150\n",
            "417/417 [==============================] - 2s 6ms/step - loss: 0.5141 - f1_score: 0.7125 - val_loss: 0.5963 - val_f1_score: 0.6852\n",
            "Epoch 59/150\n",
            "417/417 [==============================] - 2s 6ms/step - loss: 0.5029 - f1_score: 0.7157 - val_loss: 0.5880 - val_f1_score: 0.6808\n",
            "Epoch 60/150\n",
            "417/417 [==============================] - 2s 6ms/step - loss: 0.5058 - f1_score: 0.7102 - val_loss: 0.6029 - val_f1_score: 0.7131\n",
            "Epoch 61/150\n",
            "417/417 [==============================] - 2s 6ms/step - loss: 0.5038 - f1_score: 0.7121 - val_loss: 0.6185 - val_f1_score: 0.6476\n",
            "Epoch 62/150\n",
            "417/417 [==============================] - 2s 6ms/step - loss: 0.5021 - f1_score: 0.7193 - val_loss: 0.5940 - val_f1_score: 0.7134\n",
            "Epoch 63/150\n",
            "417/417 [==============================] - 2s 5ms/step - loss: 0.5071 - f1_score: 0.7092 - val_loss: 0.6096 - val_f1_score: 0.7156\n",
            "Epoch 64/150\n",
            "417/417 [==============================] - 2s 6ms/step - loss: 0.4991 - f1_score: 0.7234 - val_loss: 0.6071 - val_f1_score: 0.6845\n",
            "Epoch 65/150\n",
            "417/417 [==============================] - 2s 5ms/step - loss: 0.5026 - f1_score: 0.7223 - val_loss: 0.5988 - val_f1_score: 0.6558\n",
            "Epoch 66/150\n",
            "417/417 [==============================] - 2s 6ms/step - loss: 0.4959 - f1_score: 0.7177 - val_loss: 0.5971 - val_f1_score: 0.6715\n",
            "Epoch 67/150\n",
            "417/417 [==============================] - 2s 5ms/step - loss: 0.4987 - f1_score: 0.7118 - val_loss: 0.6265 - val_f1_score: 0.6284\n",
            "Epoch 68/150\n",
            "417/417 [==============================] - 2s 5ms/step - loss: 0.5003 - f1_score: 0.7176 - val_loss: 0.6417 - val_f1_score: 0.6468\n",
            "Epoch 69/150\n",
            "417/417 [==============================] - 2s 6ms/step - loss: 0.4940 - f1_score: 0.7149 - val_loss: 0.6223 - val_f1_score: 0.7168\n",
            "Epoch 70/150\n",
            "417/417 [==============================] - 2s 5ms/step - loss: 0.5029 - f1_score: 0.7214 - val_loss: 0.6020 - val_f1_score: 0.6682\n",
            "Epoch 71/150\n",
            "417/417 [==============================] - 2s 6ms/step - loss: 0.4978 - f1_score: 0.7132 - val_loss: 0.6165 - val_f1_score: 0.6782\n",
            "Epoch 72/150\n",
            "417/417 [==============================] - 2s 6ms/step - loss: 0.4924 - f1_score: 0.7236 - val_loss: 0.6457 - val_f1_score: 0.6584\n",
            "Epoch 73/150\n",
            "417/417 [==============================] - 2s 6ms/step - loss: 0.4961 - f1_score: 0.7243 - val_loss: 0.6016 - val_f1_score: 0.7030\n",
            "Epoch 74/150\n",
            "417/417 [==============================] - 2s 6ms/step - loss: 0.5010 - f1_score: 0.7168 - val_loss: 0.5868 - val_f1_score: 0.6720\n",
            "Epoch 75/150\n",
            "417/417 [==============================] - 2s 6ms/step - loss: 0.4991 - f1_score: 0.7182 - val_loss: 0.6097 - val_f1_score: 0.6242\n",
            "Epoch 76/150\n",
            "417/417 [==============================] - 2s 5ms/step - loss: 0.4961 - f1_score: 0.7235 - val_loss: 0.6085 - val_f1_score: 0.6419\n",
            "Epoch 77/150\n",
            "417/417 [==============================] - 2s 6ms/step - loss: 0.4947 - f1_score: 0.7271 - val_loss: 0.6146 - val_f1_score: 0.6940\n",
            "Epoch 78/150\n",
            "417/417 [==============================] - 2s 6ms/step - loss: 0.5005 - f1_score: 0.7175 - val_loss: 0.6224 - val_f1_score: 0.6371\n",
            "Epoch 79/150\n",
            "417/417 [==============================] - 2s 6ms/step - loss: 0.4982 - f1_score: 0.7143 - val_loss: 0.5967 - val_f1_score: 0.7095\n",
            "Epoch 80/150\n",
            "417/417 [==============================] - 2s 6ms/step - loss: 0.4917 - f1_score: 0.7213 - val_loss: 0.6007 - val_f1_score: 0.6853\n",
            "Epoch 81/150\n",
            "417/417 [==============================] - 2s 6ms/step - loss: 0.4990 - f1_score: 0.7256 - val_loss: 0.5802 - val_f1_score: 0.6698\n",
            "Epoch 82/150\n",
            "417/417 [==============================] - 2s 6ms/step - loss: 0.4975 - f1_score: 0.7193 - val_loss: 0.6191 - val_f1_score: 0.6530\n",
            "Epoch 83/150\n",
            "417/417 [==============================] - 2s 6ms/step - loss: 0.4855 - f1_score: 0.7232 - val_loss: 0.6093 - val_f1_score: 0.6659\n",
            "Epoch 84/150\n",
            "417/417 [==============================] - 2s 6ms/step - loss: 0.4911 - f1_score: 0.7241 - val_loss: 0.6030 - val_f1_score: 0.7109\n",
            "Epoch 85/150\n",
            "417/417 [==============================] - 2s 6ms/step - loss: 0.4919 - f1_score: 0.7242 - val_loss: 0.5927 - val_f1_score: 0.6826\n",
            "Epoch 86/150\n",
            "417/417 [==============================] - 2s 5ms/step - loss: 0.4933 - f1_score: 0.7156 - val_loss: 0.5847 - val_f1_score: 0.6854\n",
            "Epoch 87/150\n",
            "417/417 [==============================] - 2s 6ms/step - loss: 0.4867 - f1_score: 0.7254 - val_loss: 0.6069 - val_f1_score: 0.7048\n",
            "Epoch 88/150\n",
            "417/417 [==============================] - 2s 6ms/step - loss: 0.4893 - f1_score: 0.7220 - val_loss: 0.5889 - val_f1_score: 0.6561\n",
            "Epoch 89/150\n",
            "417/417 [==============================] - 2s 6ms/step - loss: 0.4874 - f1_score: 0.7234 - val_loss: 0.6084 - val_f1_score: 0.7070\n",
            "Epoch 90/150\n",
            "417/417 [==============================] - 2s 6ms/step - loss: 0.4895 - f1_score: 0.7267 - val_loss: 0.5924 - val_f1_score: 0.6550\n",
            "Epoch 91/150\n",
            "417/417 [==============================] - 2s 6ms/step - loss: 0.4850 - f1_score: 0.7256 - val_loss: 0.6000 - val_f1_score: 0.6810\n",
            "Epoch 92/150\n",
            "417/417 [==============================] - 2s 5ms/step - loss: 0.4887 - f1_score: 0.7337 - val_loss: 0.6020 - val_f1_score: 0.7098\n",
            "Epoch 93/150\n",
            "417/417 [==============================] - 2s 6ms/step - loss: 0.4865 - f1_score: 0.7262 - val_loss: 0.6570 - val_f1_score: 0.6142\n",
            "Epoch 94/150\n",
            "417/417 [==============================] - 2s 5ms/step - loss: 0.4901 - f1_score: 0.7282 - val_loss: 0.6314 - val_f1_score: 0.6790\n",
            "Epoch 95/150\n",
            "417/417 [==============================] - 2s 6ms/step - loss: 0.4883 - f1_score: 0.7262 - val_loss: 0.5986 - val_f1_score: 0.7122\n",
            "Epoch 96/150\n",
            "417/417 [==============================] - 2s 6ms/step - loss: 0.4895 - f1_score: 0.7248 - val_loss: 0.6055 - val_f1_score: 0.6591\n",
            "Epoch 97/150\n",
            "417/417 [==============================] - 2s 6ms/step - loss: 0.4869 - f1_score: 0.7201 - val_loss: 0.5981 - val_f1_score: 0.6734\n",
            "Epoch 98/150\n",
            "417/417 [==============================] - 2s 6ms/step - loss: 0.4850 - f1_score: 0.7350 - val_loss: 0.6192 - val_f1_score: 0.6864\n",
            "Epoch 99/150\n",
            "417/417 [==============================] - 2s 6ms/step - loss: 0.4896 - f1_score: 0.7224 - val_loss: 0.5860 - val_f1_score: 0.7021\n",
            "Epoch 100/150\n",
            "417/417 [==============================] - 2s 6ms/step - loss: 0.4818 - f1_score: 0.7318 - val_loss: 0.6124 - val_f1_score: 0.7079\n",
            "Epoch 101/150\n",
            "417/417 [==============================] - 2s 5ms/step - loss: 0.4859 - f1_score: 0.7257 - val_loss: 0.6152 - val_f1_score: 0.6554\n",
            "Epoch 102/150\n",
            "417/417 [==============================] - 2s 6ms/step - loss: 0.4896 - f1_score: 0.7256 - val_loss: 0.5888 - val_f1_score: 0.6659\n",
            "Epoch 103/150\n",
            "417/417 [==============================] - 2s 5ms/step - loss: 0.4871 - f1_score: 0.7212 - val_loss: 0.5954 - val_f1_score: 0.6635\n",
            "Epoch 104/150\n",
            "417/417 [==============================] - 2s 6ms/step - loss: 0.4865 - f1_score: 0.7215 - val_loss: 0.5775 - val_f1_score: 0.7130\n",
            "Epoch 105/150\n",
            "417/417 [==============================] - 2s 6ms/step - loss: 0.4861 - f1_score: 0.7266 - val_loss: 0.6159 - val_f1_score: 0.7010\n",
            "Epoch 106/150\n",
            "417/417 [==============================] - 2s 6ms/step - loss: 0.4878 - f1_score: 0.7263 - val_loss: 0.6088 - val_f1_score: 0.6574\n",
            "Epoch 107/150\n",
            "417/417 [==============================] - 2s 6ms/step - loss: 0.4801 - f1_score: 0.7285 - val_loss: 0.6069 - val_f1_score: 0.6651\n",
            "Epoch 108/150\n",
            "417/417 [==============================] - 2s 6ms/step - loss: 0.4812 - f1_score: 0.7304 - val_loss: 0.5997 - val_f1_score: 0.6543\n",
            "Epoch 109/150\n",
            "417/417 [==============================] - 2s 6ms/step - loss: 0.4827 - f1_score: 0.7213 - val_loss: 0.5943 - val_f1_score: 0.6212\n",
            "Epoch 110/150\n",
            "417/417 [==============================] - 2s 6ms/step - loss: 0.4851 - f1_score: 0.7237 - val_loss: 0.6039 - val_f1_score: 0.7108\n",
            "Epoch 111/150\n",
            "417/417 [==============================] - 2s 6ms/step - loss: 0.4851 - f1_score: 0.7263 - val_loss: 0.6090 - val_f1_score: 0.7162\n",
            "Epoch 112/150\n",
            "417/417 [==============================] - 2s 6ms/step - loss: 0.4896 - f1_score: 0.7231 - val_loss: 0.5916 - val_f1_score: 0.7056\n",
            "Epoch 113/150\n",
            "417/417 [==============================] - 2s 6ms/step - loss: 0.4810 - f1_score: 0.7280 - val_loss: 0.6182 - val_f1_score: 0.6927\n",
            "Epoch 114/150\n",
            "417/417 [==============================] - 2s 6ms/step - loss: 0.4730 - f1_score: 0.7313 - val_loss: 0.6122 - val_f1_score: 0.6983\n",
            "Epoch 115/150\n",
            "417/417 [==============================] - 2s 6ms/step - loss: 0.4789 - f1_score: 0.7277 - val_loss: 0.6082 - val_f1_score: 0.7040\n",
            "Epoch 116/150\n",
            "417/417 [==============================] - 2s 6ms/step - loss: 0.4867 - f1_score: 0.7331 - val_loss: 0.6162 - val_f1_score: 0.7013\n",
            "Epoch 117/150\n",
            "417/417 [==============================] - 2s 6ms/step - loss: 0.4797 - f1_score: 0.7290 - val_loss: 0.6130 - val_f1_score: 0.6723\n",
            "Epoch 118/150\n",
            "417/417 [==============================] - 2s 6ms/step - loss: 0.4824 - f1_score: 0.7277 - val_loss: 0.5944 - val_f1_score: 0.7114\n",
            "Epoch 119/150\n",
            "417/417 [==============================] - 2s 6ms/step - loss: 0.4862 - f1_score: 0.7285 - val_loss: 0.5812 - val_f1_score: 0.7181\n",
            "Epoch 120/150\n",
            "417/417 [==============================] - 2s 6ms/step - loss: 0.4738 - f1_score: 0.7300 - val_loss: 0.6074 - val_f1_score: 0.6883\n",
            "Epoch 121/150\n",
            "417/417 [==============================] - 2s 6ms/step - loss: 0.4743 - f1_score: 0.7357 - val_loss: 0.5986 - val_f1_score: 0.6992\n",
            "Epoch 122/150\n",
            "417/417 [==============================] - 2s 6ms/step - loss: 0.4806 - f1_score: 0.7314 - val_loss: 0.6118 - val_f1_score: 0.7001\n",
            "Epoch 123/150\n",
            "417/417 [==============================] - 2s 6ms/step - loss: 0.4850 - f1_score: 0.7272 - val_loss: 0.5899 - val_f1_score: 0.6714\n",
            "Epoch 124/150\n",
            "417/417 [==============================] - 2s 6ms/step - loss: 0.4794 - f1_score: 0.7344 - val_loss: 0.5803 - val_f1_score: 0.6947\n",
            "Epoch 125/150\n",
            "417/417 [==============================] - 2s 5ms/step - loss: 0.4766 - f1_score: 0.7397 - val_loss: 0.6001 - val_f1_score: 0.6721\n",
            "Epoch 126/150\n",
            "417/417 [==============================] - 2s 6ms/step - loss: 0.4754 - f1_score: 0.7369 - val_loss: 0.6031 - val_f1_score: 0.7078\n",
            "Epoch 127/150\n",
            "417/417 [==============================] - 2s 6ms/step - loss: 0.4754 - f1_score: 0.7365 - val_loss: 0.6028 - val_f1_score: 0.6545\n",
            "Epoch 128/150\n",
            "417/417 [==============================] - 2s 6ms/step - loss: 0.4796 - f1_score: 0.7323 - val_loss: 0.6025 - val_f1_score: 0.6927\n",
            "Epoch 129/150\n",
            "417/417 [==============================] - 2s 5ms/step - loss: 0.4712 - f1_score: 0.7390 - val_loss: 0.6186 - val_f1_score: 0.7056\n",
            "Epoch 130/150\n",
            "417/417 [==============================] - 2s 6ms/step - loss: 0.4751 - f1_score: 0.7335 - val_loss: 0.6308 - val_f1_score: 0.6635\n",
            "Epoch 131/150\n",
            "417/417 [==============================] - 2s 5ms/step - loss: 0.4800 - f1_score: 0.7355 - val_loss: 0.5873 - val_f1_score: 0.7073\n",
            "Epoch 132/150\n",
            "417/417 [==============================] - 2s 6ms/step - loss: 0.4694 - f1_score: 0.7443 - val_loss: 0.6286 - val_f1_score: 0.6825\n",
            "Epoch 133/150\n",
            "417/417 [==============================] - 2s 6ms/step - loss: 0.4774 - f1_score: 0.7364 - val_loss: 0.5996 - val_f1_score: 0.6517\n",
            "Epoch 134/150\n",
            "417/417 [==============================] - 2s 5ms/step - loss: 0.4648 - f1_score: 0.7392 - val_loss: 0.6032 - val_f1_score: 0.7108\n",
            "Epoch 135/150\n",
            "417/417 [==============================] - 2s 6ms/step - loss: 0.4771 - f1_score: 0.7314 - val_loss: 0.6007 - val_f1_score: 0.7094\n",
            "Epoch 136/150\n",
            "417/417 [==============================] - 2s 5ms/step - loss: 0.4725 - f1_score: 0.7341 - val_loss: 0.6176 - val_f1_score: 0.7003\n",
            "Epoch 137/150\n",
            "417/417 [==============================] - 2s 6ms/step - loss: 0.4842 - f1_score: 0.7309 - val_loss: 0.6018 - val_f1_score: 0.7114\n",
            "Epoch 138/150\n",
            "417/417 [==============================] - 2s 6ms/step - loss: 0.4774 - f1_score: 0.7331 - val_loss: 0.5966 - val_f1_score: 0.7010\n",
            "Epoch 139/150\n",
            "417/417 [==============================] - 2s 6ms/step - loss: 0.4743 - f1_score: 0.7337 - val_loss: 0.6155 - val_f1_score: 0.7108\n",
            "Epoch 140/150\n",
            "417/417 [==============================] - 2s 6ms/step - loss: 0.4725 - f1_score: 0.7373 - val_loss: 0.6043 - val_f1_score: 0.6827\n",
            "Epoch 141/150\n",
            "417/417 [==============================] - 2s 6ms/step - loss: 0.4754 - f1_score: 0.7413 - val_loss: 0.5949 - val_f1_score: 0.6570\n",
            "Epoch 142/150\n",
            "417/417 [==============================] - 2s 6ms/step - loss: 0.4783 - f1_score: 0.7313 - val_loss: 0.6145 - val_f1_score: 0.7107\n",
            "Epoch 143/150\n",
            "417/417 [==============================] - 2s 6ms/step - loss: 0.4776 - f1_score: 0.7335 - val_loss: 0.6345 - val_f1_score: 0.6369\n",
            "Epoch 144/150\n",
            "417/417 [==============================] - 2s 6ms/step - loss: 0.4765 - f1_score: 0.7293 - val_loss: 0.6158 - val_f1_score: 0.7035\n",
            "Epoch 145/150\n",
            "417/417 [==============================] - 2s 6ms/step - loss: 0.4699 - f1_score: 0.7362 - val_loss: 0.5915 - val_f1_score: 0.6957\n",
            "Epoch 146/150\n",
            "417/417 [==============================] - 2s 6ms/step - loss: 0.4756 - f1_score: 0.7396 - val_loss: 0.6058 - val_f1_score: 0.6901\n",
            "Epoch 147/150\n",
            "417/417 [==============================] - 3s 6ms/step - loss: 0.4755 - f1_score: 0.7247 - val_loss: 0.6182 - val_f1_score: 0.6776\n",
            "Epoch 148/150\n",
            "417/417 [==============================] - 3s 6ms/step - loss: 0.4729 - f1_score: 0.7369 - val_loss: 0.6486 - val_f1_score: 0.5987\n",
            "Epoch 149/150\n",
            "417/417 [==============================] - 3s 6ms/step - loss: 0.4766 - f1_score: 0.7345 - val_loss: 0.5924 - val_f1_score: 0.6745\n",
            "Epoch 150/150\n",
            "417/417 [==============================] - 2s 6ms/step - loss: 0.4680 - f1_score: 0.7423 - val_loss: 0.5929 - val_f1_score: 0.6911\n"
          ],
          "name": "stdout"
        }
      ]
    },
    {
      "cell_type": "code",
      "metadata": {
        "id": "IE28TqhAWVlz"
      },
      "source": [
        ""
      ],
      "execution_count": null,
      "outputs": []
    },
    {
      "cell_type": "markdown",
      "metadata": {
        "id": "J1sL_DTrKmpq"
      },
      "source": [
        "### 7. Avaliar a performance da Rede Neural\n",
        "\n",
        "Para avaliar a a Rede Neural, simplesmente informamos as amostras de teste: X_teste e y_teste. A função evaluate() vai retornar uma lista contendo 2 valores: loss e accuracy."
      ]
    },
    {
      "cell_type": "markdown",
      "metadata": {
        "id": "VckQfEFPvMa7"
      },
      "source": [
        "[**Python**] - Comando modelo.evaluate(X_teste, y_teste)"
      ]
    },
    {
      "cell_type": "code",
      "metadata": {
        "id": "veeKG78w4hWh"
      },
      "source": [
        "def Mostra_ConfusionMatrix(X,y):\n",
        "    y_pred = RN.predict_classes(X)\n",
        "    mc = confusion_matrix(y, y_pred)\n",
        "    #sns.heatmap(mc,annot=True, annot_kws={\"size\": 10},fmt=\"d\")\n",
        "    sns.heatmap(mc/np.sum(mc), annot=True, annot_kws={\"size\": 10}, fmt='.2%', cmap='Blues')"
      ],
      "execution_count": null,
      "outputs": []
    },
    {
      "cell_type": "code",
      "metadata": {
        "colab": {
          "base_uri": "https://localhost:8080/"
        },
        "id": "XUJL6Y6A4hWh",
        "outputId": "85d90e09-0bfa-4322-ec35-7a7d3d5456db"
      },
      "source": [
        "RN.evaluate(X_teste, y_teste)"
      ],
      "execution_count": 239,
      "outputs": [
        {
          "output_type": "stream",
          "text": [
            "29/29 [==============================] - 0s 2ms/step - loss: 0.5929 - f1_score: 0.6911\n"
          ],
          "name": "stdout"
        },
        {
          "output_type": "execute_result",
          "data": {
            "text/plain": [
              "[0.5928855538368225, 0.6910755038261414]"
            ]
          },
          "metadata": {
            "tags": []
          },
          "execution_count": 239
        }
      ]
    },
    {
      "cell_type": "code",
      "metadata": {
        "colab": {
          "base_uri": "https://localhost:8080/"
        },
        "id": "g3KRG1fN4hWi",
        "outputId": "8e0c4a7d-1299-43e6-f748-9828124067ae"
      },
      "source": [
        "F1_Test=f1_score(y_teste, RN.predict_classes(X_teste), average=\"macro\")\n",
        "print(f'F1: {F1_Test}')"
      ],
      "execution_count": 240,
      "outputs": [
        {
          "output_type": "stream",
          "text": [
            "F1: 0.7077826553962545\n"
          ],
          "name": "stdout"
        }
      ]
    },
    {
      "cell_type": "code",
      "metadata": {
        "id": "HSC6yxs9VONq",
        "colab": {
          "base_uri": "https://localhost:8080/",
          "height": 265
        },
        "outputId": "268f869f-c3bc-432d-95b3-7579c577cf5a"
      },
      "source": [
        "Mostra_ConfusionMatrix(X_teste, y_teste)"
      ],
      "execution_count": 241,
      "outputs": [
        {
          "output_type": "display_data",
          "data": {
            "image/png": "[encoded data removed]",
            "text/plain": [
              "<Figure size 432x288 with 2 Axes>"
            ]
          },
          "metadata": {
            "tags": [],
            "needs_background": "light"
          }
        }
      ]
    },
    {
      "cell_type": "code",
      "metadata": {
        "colab": {
          "base_uri": "https://localhost:8080/"
        },
        "id": "vdDUMlaT4hWi",
        "outputId": "6bfb51b1-adac-4830-fd14-2781d20d516b"
      },
      "source": [
        "RN.evaluate(df_X, df_y)"
      ],
      "execution_count": 242,
      "outputs": [
        {
          "output_type": "stream",
          "text": [
            "345/345 [==============================] - 1s 2ms/step - loss: 0.4460 - f1_score: 0.6059\n"
          ],
          "name": "stdout"
        },
        {
          "output_type": "execute_result",
          "data": {
            "text/plain": [
              "[0.4459882378578186, 0.6059437990188599]"
            ]
          },
          "metadata": {
            "tags": []
          },
          "execution_count": 242
        }
      ]
    },
    {
      "cell_type": "code",
      "metadata": {
        "colab": {
          "base_uri": "https://localhost:8080/"
        },
        "id": "NbBX0xLW4hWi",
        "outputId": "bde63359-9099-4178-cd16-67f784e0a74f"
      },
      "source": [
        "F1_X=f1_score(df_y, RN.predict_classes(df_X), average=\"macro\")\n",
        "print(f'F1: {F1_X}')"
      ],
      "execution_count": 243,
      "outputs": [
        {
          "output_type": "stream",
          "text": [
            "F1: 0.7255462199787093\n"
          ],
          "name": "stdout"
        }
      ]
    },
    {
      "cell_type": "code",
      "metadata": {
        "id": "uKMi5mUMVWdR",
        "colab": {
          "base_uri": "https://localhost:8080/",
          "height": 267
        },
        "outputId": "785a7e40-1353-4528-98ca-495593efe7a7"
      },
      "source": [
        "Mostra_ConfusionMatrix(df_X, df_y)"
      ],
      "execution_count": 244,
      "outputs": [
        {
          "output_type": "display_data",
          "data": {
            "image/png": "[encoded data removed]",
            "text/plain": [
              "<Figure size 432x288 with 2 Axes>"
            ]
          },
          "metadata": {
            "tags": [],
            "needs_background": "light"
          }
        }
      ]
    },
    {
      "cell_type": "code",
      "metadata": {
        "colab": {
          "base_uri": "https://localhost:8080/"
        },
        "id": "X1V4oO0R4hWi",
        "outputId": "0f401a53-d4e5-479b-fa2f-bc29d02955a8"
      },
      "source": [
        "RN.evaluate(X_treinamento, y_treinamento)"
      ],
      "execution_count": 245,
      "outputs": [
        {
          "output_type": "stream",
          "text": [
            "261/261 [==============================] - 0s 2ms/step - loss: 0.3940 - f1_score: 0.8196\n"
          ],
          "name": "stdout"
        },
        {
          "output_type": "execute_result",
          "data": {
            "text/plain": [
              "[0.3940027952194214, 0.8195518255233765]"
            ]
          },
          "metadata": {
            "tags": []
          },
          "execution_count": 245
        }
      ]
    },
    {
      "cell_type": "code",
      "metadata": {
        "colab": {
          "base_uri": "https://localhost:8080/"
        },
        "id": "g7cCtosc4hWi",
        "outputId": "f3c2dc17-3b28-4754-f574-d1182f66e194"
      },
      "source": [
        "F1_Trein=f1_score(y_treinamento, RN.predict_classes(X_treinamento), average=\"macro\")\n",
        "print(f'F1: {F1_Trein}')"
      ],
      "execution_count": 246,
      "outputs": [
        {
          "output_type": "stream",
          "text": [
            "F1: 0.8336228336233991\n"
          ],
          "name": "stdout"
        }
      ]
    },
    {
      "cell_type": "code",
      "metadata": {
        "colab": {
          "base_uri": "https://localhost:8080/",
          "height": 265
        },
        "id": "N89YhXgS4hWj",
        "outputId": "475b3c53-be40-4ac9-b5d2-219dbf41bdc6"
      },
      "source": [
        "Mostra_ConfusionMatrix(X_treinamento, y_treinamento)"
      ],
      "execution_count": 247,
      "outputs": [
        {
          "output_type": "display_data",
          "data": {
            "image/png": "[encoded data removed]",
            "text/plain": [
              "<Figure size 432x288 with 2 Axes>"
            ]
          },
          "metadata": {
            "tags": [],
            "needs_background": "light"
          }
        }
      ]
    },
    {
      "cell_type": "markdown",
      "metadata": {
        "id": "D5zYHcGuMPZe"
      },
      "source": [
        "### 8. _Fine tuning_ da Rede Neural\n",
        "\n",
        "Para aumentar a acurácia da Rede Neural, sugiro aumentarmos o número de neurônios na _Hidden Layer_ e/ou aumentar o número de _Hidden Layers_.\n",
        "\n",
        "No entanto, obtivemos uma acurácia razoável com a Rede Neural _baseline_. Portanto, deixo como exercício para os alunos o desafio de melhorar a acurácia desta Rede Neural."
      ]
    },
    {
      "cell_type": "markdown",
      "metadata": {
        "id": "_ISodOu-Kmp3"
      },
      "source": [
        "### 9. Fazer Predições com a Rede Neural"
      ]
    },
    {
      "cell_type": "markdown",
      "metadata": {
        "id": "_xgdL1W4vUrN"
      },
      "source": [
        "[**Python**] - Comando:\n",
        "* RN.predict_classes(X_treinamento);\n",
        "* RN.predict_classes(X_teste)."
      ]
    },
    {
      "cell_type": "code",
      "metadata": {
        "id": "kqy2rt3YfPiy"
      },
      "source": [
        "y_test = RN.predict_classes(X_test)\n"
      ],
      "execution_count": 248,
      "outputs": []
    },
    {
      "cell_type": "code",
      "metadata": {
        "id": "_C_u02mygKgt"
      },
      "source": [
        "df_submit = pd.concat([pd.DataFrame(X_test.index,columns=['id']),pd.DataFrame(y_test,columns=['target']).astype('boolean')],axis=1)\n",
        "\n"
      ],
      "execution_count": 249,
      "outputs": []
    },
    {
      "cell_type": "code",
      "metadata": {
        "colab": {
          "base_uri": "https://localhost:8080/",
          "height": 407
        },
        "id": "k-GLGzuem3cV",
        "outputId": "c6fc4821-2e35-4d4f-c83f-86d6578c23fe"
      },
      "source": [
        "df_submit"
      ],
      "execution_count": 250,
      "outputs": [
        {
          "output_type": "execute_result",
          "data": {
            "text/html": [
              "<div>\n",
              "<style scoped>\n",
              "    .dataframe tbody tr th:only-of-type {\n",
              "        vertical-align: middle;\n",
              "    }\n",
              "\n",
              "    .dataframe tbody tr th {\n",
              "        vertical-align: top;\n",
              "    }\n",
              "\n",
              "    .dataframe thead th {\n",
              "        text-align: right;\n",
              "    }\n",
              "</style>\n",
              "<table border=\"1\" class=\"dataframe\">\n",
              "  <thead>\n",
              "    <tr style=\"text-align: right;\">\n",
              "      <th></th>\n",
              "      <th>id</th>\n",
              "      <th>target</th>\n",
              "    </tr>\n",
              "  </thead>\n",
              "  <tbody>\n",
              "    <tr>\n",
              "      <th>0</th>\n",
              "      <td>3411</td>\n",
              "      <td>False</td>\n",
              "    </tr>\n",
              "    <tr>\n",
              "      <th>1</th>\n",
              "      <td>2177</td>\n",
              "      <td>True</td>\n",
              "    </tr>\n",
              "    <tr>\n",
              "      <th>2</th>\n",
              "      <td>8400</td>\n",
              "      <td>False</td>\n",
              "    </tr>\n",
              "    <tr>\n",
              "      <th>3</th>\n",
              "      <td>464</td>\n",
              "      <td>True</td>\n",
              "    </tr>\n",
              "    <tr>\n",
              "      <th>4</th>\n",
              "      <td>6672</td>\n",
              "      <td>False</td>\n",
              "    </tr>\n",
              "    <tr>\n",
              "      <th>...</th>\n",
              "      <td>...</td>\n",
              "      <td>...</td>\n",
              "    </tr>\n",
              "    <tr>\n",
              "      <th>995</th>\n",
              "      <td>8609</td>\n",
              "      <td>False</td>\n",
              "    </tr>\n",
              "    <tr>\n",
              "      <th>996</th>\n",
              "      <td>3384</td>\n",
              "      <td>True</td>\n",
              "    </tr>\n",
              "    <tr>\n",
              "      <th>997</th>\n",
              "      <td>8297</td>\n",
              "      <td>False</td>\n",
              "    </tr>\n",
              "    <tr>\n",
              "      <th>998</th>\n",
              "      <td>7556</td>\n",
              "      <td>False</td>\n",
              "    </tr>\n",
              "    <tr>\n",
              "      <th>999</th>\n",
              "      <td>8582</td>\n",
              "      <td>True</td>\n",
              "    </tr>\n",
              "  </tbody>\n",
              "</table>\n",
              "<p>1000 rows × 2 columns</p>\n",
              "</div>"
            ],
            "text/plain": [
              "       id  target\n",
              "0    3411   False\n",
              "1    2177    True\n",
              "2    8400   False\n",
              "3     464    True\n",
              "4    6672   False\n",
              "..    ...     ...\n",
              "995  8609   False\n",
              "996  3384    True\n",
              "997  8297   False\n",
              "998  7556   False\n",
              "999  8582    True\n",
              "\n",
              "[1000 rows x 2 columns]"
            ]
          },
          "metadata": {
            "tags": []
          },
          "execution_count": 250
        }
      ]
    },
    {
      "cell_type": "code",
      "metadata": {
        "id": "JU_6XlFRgPL2",
        "colab": {
          "base_uri": "https://localhost:8080/"
        },
        "outputId": "0a65506c-c61f-4c61-eaa8-82a39781c2ce"
      },
      "source": [
        "df_submit['target'].value_counts()"
      ],
      "execution_count": 251,
      "outputs": [
        {
          "output_type": "execute_result",
          "data": {
            "text/plain": [
              "False    620\n",
              "True     380\n",
              "Name: target, dtype: Int64"
            ]
          },
          "metadata": {
            "tags": []
          },
          "execution_count": 251
        }
      ]
    },
    {
      "cell_type": "code",
      "metadata": {
        "id": "XhnvrX4E65vY"
      },
      "source": [
        "F = df_submit['target'].value_counts()[0]\n",
        "T = df_submit['target'].value_counts()[1]"
      ],
      "execution_count": 252,
      "outputs": []
    },
    {
      "cell_type": "code",
      "metadata": {
        "id": "wB_47tDG60uC"
      },
      "source": [
        "df_submit.to_csv(f'/PyLadies_NL_134_Test_{round(F1_Test,4)}_X_{round(F1_X,4)}_Trein_{round(F1_Trein,4)}_F{F}_T{T}.csv',index = False, sep = ',')"
      ],
      "execution_count": 253,
      "outputs": []
    },
    {
      "cell_type": "markdown",
      "metadata": {
        "id": "NpufntZjyH8T"
      },
      "source": [
        "### Salvar a Rede Neural"
      ]
    },
    {
      "cell_type": "code",
      "metadata": {
        "id": "ZKqn0leTyLOy"
      },
      "source": [
        "# Save the weights\n",
        "RN.save('/RN_134.h5')"
      ],
      "execution_count": 254,
      "outputs": []
    },
    {
      "cell_type": "code",
      "metadata": {
        "id": "viORp6XjrC66"
      },
      "source": [
        ""
      ],
      "execution_count": null,
      "outputs": []
    }
  ]
}