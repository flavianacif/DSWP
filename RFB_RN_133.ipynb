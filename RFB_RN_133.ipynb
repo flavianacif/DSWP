{
  "nbformat": 4,
  "nbformat_minor": 0,
  "metadata": {
    "colab": {
      "name": "Untitled5.ipynb",
      "provenance": [],
      "toc_visible": true,
      "authorship_tag": "ABX9TyPmUU5mricF1l6kwv3MjF6x",
      "include_colab_link": true
    },
    "kernelspec": {
      "name": "python3",
      "display_name": "Python 3"
    }
  },
  "cells": [
    {
      "cell_type": "markdown",
      "metadata": {
        "id": "view-in-github",
        "colab_type": "text"
      },
      "source": [
        "<a href=\"https://colab.research.google.com/github/flavianacif/DSWP/blob/master/RFB_RN_133.ipynb\" target=\"_parent\"><img src=\"https://colab.research.google.com/assets/colab-badge.svg\" alt=\"Open In Colab\"/></a>"
      ]
    },
    {
      "cell_type": "code",
      "metadata": {
        "id": "j0_YZ6IURZE_",
        "colab": {
          "base_uri": "https://localhost:8080/"
        },
        "outputId": "7fe19423-64d0-426b-e2a7-e11a901187c5"
      },
      "source": [
        "\n",
        "import tensorflow as tf\n",
        "import numpy as np\n",
        "import pandas as pd\n",
        "import matplotlib.pyplot as plt\n",
        "import seaborn as sns\n",
        "from sklearn.metrics import confusion_matrix\n",
        "import tensorflow_addons as tfa\n",
        "from tensorflow import keras\n",
        "from sklearn.metrics import accuracy_score, f1_score, precision_score, recall_score, classification_report, confusion_matrix\n",
        "from collections import Counter\n",
        "from imblearn.over_sampling import SMOTE\n"
      ],
      "execution_count": 1,
      "outputs": [
        {
          "output_type": "stream",
          "text": [
            "/usr/local/lib/python3.6/dist-packages/sklearn/externals/six.py:31: FutureWarning: The module is deprecated in version 0.21 and will be removed in version 0.23 since we've dropped support for Python 2.7. Please rely on the official version of six (https://pypi.org/project/six/).\n",
            "  \"(https://pypi.org/project/six/).\", FutureWarning)\n",
            "/usr/local/lib/python3.6/dist-packages/sklearn/utils/deprecation.py:144: FutureWarning: The sklearn.neighbors.base module is  deprecated in version 0.22 and will be removed in version 0.24. The corresponding classes / functions should instead be imported from sklearn.neighbors. Anything that cannot be imported from sklearn.neighbors is now part of the private API.\n",
            "  warnings.warn(message, FutureWarning)\n"
          ],
          "name": "stderr"
        }
      ]
    },
    {
      "cell_type": "markdown",
      "metadata": {
        "id": "9ZX00UN5cjvM"
      },
      "source": [
        "[**Python**] - Verificar a versão do Tensorflow\n",
        "> Assegurar que está a utilizar a versão 2.x."
      ]
    },
    {
      "cell_type": "code",
      "metadata": {
        "id": "THWNIk_FCe_g",
        "colab": {
          "base_uri": "https://localhost:8080/",
          "height": 35
        },
        "outputId": "64a20128-ea1f-4255-8185-eb5081cc8f2b"
      },
      "source": [
        "tf.__version__"
      ],
      "execution_count": 2,
      "outputs": [
        {
          "output_type": "execute_result",
          "data": {
            "application/vnd.google.colaboratory.intrinsic+json": {
              "type": "string"
            },
            "text/plain": [
              "'2.3.0'"
            ]
          },
          "metadata": {
            "tags": []
          },
          "execution_count": 2
        }
      ]
    },
    {
      "cell_type": "markdown",
      "metadata": {
        "id": "PZgQAKqLcLX3"
      },
      "source": [
        "[**Python**] - Definir o número de casas decimais"
      ]
    },
    {
      "cell_type": "code",
      "metadata": {
        "id": "tzKor02BCe_d"
      },
      "source": [
        "np.set_printoptions(precision= 3)"
      ],
      "execution_count": 3,
      "outputs": []
    },
    {
      "cell_type": "markdown",
      "metadata": {
        "id": "M5V4KopjLWOL"
      },
      "source": [
        "### 1. Carregar os dados"
      ]
    },
    {
      "cell_type": "markdown",
      "metadata": {
        "id": "V_cwAUW3tseE"
      },
      "source": [
        "[**Python**] - Carregar os dados:"
      ]
    },
    {
      "cell_type": "code",
      "metadata": {
        "id": "_Bs87IWPtwtm"
      },
      "source": [
        "# Leitura do dataframe:\n",
        "df = pd.read_csv('/total_10.csv')"
      ],
      "execution_count": 4,
      "outputs": []
    },
    {
      "cell_type": "code",
      "metadata": {
        "id": "myhgteQhdqVi"
      },
      "source": [
        "df_total = df.copy()"
      ],
      "execution_count": 5,
      "outputs": []
    },
    {
      "cell_type": "code",
      "metadata": {
        "id": "0MfQNbWvfUkK"
      },
      "source": [
        "df_total.set_index('id', inplace=True)"
      ],
      "execution_count": 6,
      "outputs": []
    },
    {
      "cell_type": "code",
      "metadata": {
        "colab": {
          "base_uri": "https://localhost:8080/"
        },
        "id": "6730Oq3j-4w8",
        "outputId": "3200dadc-fe52-41b5-db76-43ca27ebda48"
      },
      "source": [
        "df_total.columns"
      ],
      "execution_count": 7,
      "outputs": [
        {
          "output_type": "execute_result",
          "data": {
            "text/plain": [
              "Index(['cnae2', 'rf2', 'md1', 'md2', 'md3', 'md4', 'md5', 'md6', 'md7', 'md8',\n",
              "       'md9', 'md10', 'md11', 'md12', 'mc1', 'mc2', 'mc3', 'mc4', 'ind01',\n",
              "       'ind02', 'ind03', 'ind04', 'ind05', 'ind06', 'ind07', 'ind08', 'ind09',\n",
              "       'ind10', 'ind11', 'ind12', 'ind13', 'ind14', 'ind15', 'ind16', 'ind17',\n",
              "       'ind18', 'ind19', 'ind20', 'ind21', 'ind22', 'ind23', 'ind24', 'ind25',\n",
              "       'ind26', 'ind27', 'ind28', 'ind29', 'ind30', 'ind31', 'ind32', 'ind33',\n",
              "       'ind34', 'ind35', 'ind36', 'ind37', 'ind38', 'ind39', 'ind40', 'ind41',\n",
              "       'ind42', 'ind43', 'target', 'cnae_secao', 'ind_g1_mv', 'ind_g1',\n",
              "       'ind_g2_mv', 'ind_g2', 'mc_g1_mv', 'mc_g1', 'md1_o', 'md2_o', 'md3_o',\n",
              "       'md4_o', 'md5_o', 'md7_o', 'md8_o', 'md9_o', 'md10_o', 'md12_o',\n",
              "       'mc1_o', 'mc3_o', 'mc4_o'],\n",
              "      dtype='object')"
            ]
          },
          "metadata": {
            "tags": []
          },
          "execution_count": 7
        }
      ]
    },
    {
      "cell_type": "markdown",
      "metadata": {
        "id": "6LXKr9-R_JIK"
      },
      "source": [
        "Retirando algumas colunas para testar"
      ]
    },
    {
      "cell_type": "code",
      "metadata": {
        "id": "aVnISOiD-xRk"
      },
      "source": [
        "df_total.drop(columns = ['rf2','cnae2','md1', 'md2', 'md3', 'md4', 'md5', 'md6', 'md7', 'md8',\n",
        "       'md9', 'md10', 'md11', 'md12', 'mc1', 'mc2', 'mc3', 'mc4','mc_g1','ind_g1',\n",
        "       'ind_g2','ind29', 'ind30','ind33', 'ind40', 'ind41'], inplace = True)"
      ],
      "execution_count": 9,
      "outputs": []
    },
    {
      "cell_type": "code",
      "metadata": {
        "colab": {
          "base_uri": "https://localhost:8080/"
        },
        "id": "IHt2y_5IHtRH",
        "outputId": "43382e23-974c-48e0-f937-dfb480492e43"
      },
      "source": [
        "df_total.columns"
      ],
      "execution_count": 10,
      "outputs": [
        {
          "output_type": "execute_result",
          "data": {
            "text/plain": [
              "Index(['ind01', 'ind02', 'ind03', 'ind04', 'ind05', 'ind06', 'ind07', 'ind08',\n",
              "       'ind09', 'ind10', 'ind11', 'ind12', 'ind13', 'ind14', 'ind15', 'ind16',\n",
              "       'ind17', 'ind18', 'ind19', 'ind20', 'ind21', 'ind22', 'ind23', 'ind24',\n",
              "       'ind25', 'ind26', 'ind27', 'ind28', 'ind31', 'ind32', 'ind34', 'ind35',\n",
              "       'ind36', 'ind37', 'ind38', 'ind39', 'ind42', 'ind43', 'target',\n",
              "       'cnae_secao', 'ind_g1_mv', 'ind_g2_mv', 'mc_g1_mv', 'md1_o', 'md2_o',\n",
              "       'md3_o', 'md4_o', 'md5_o', 'md7_o', 'md8_o', 'md9_o', 'md10_o',\n",
              "       'md12_o', 'mc1_o', 'mc3_o', 'mc4_o'],\n",
              "      dtype='object')"
            ]
          },
          "metadata": {
            "tags": []
          },
          "execution_count": 10
        }
      ]
    },
    {
      "cell_type": "markdown",
      "metadata": {
        "id": "e_0lkPsR_mFp"
      },
      "source": [
        "GET DUMMIES"
      ]
    },
    {
      "cell_type": "code",
      "metadata": {
        "id": "moTlPrJk5b0T"
      },
      "source": [
        "#df_total['cnae2'] = df_total['cnae2'].astype('category')\n",
        "#df_total[['ind28', 'ind31', 'ind32', 'ind34', 'ind35', 'ind36', 'ind37', 'ind39', 'ind42', 'ind43']] = df_total[['ind28', 'ind31', 'ind32', 'ind34', 'ind35', 'ind36', 'ind37', 'ind39', 'ind42', 'ind43']].astype('category')\n",
        "#df_total[['ind28', 'ind43']] = df_total[['ind28', 'ind43']].astype('category')"
      ],
      "execution_count": 11,
      "outputs": []
    },
    {
      "cell_type": "code",
      "metadata": {
        "id": "rN72uIGk_jMI"
      },
      "source": [
        "df_total = pd.get_dummies(df_total)"
      ],
      "execution_count": 12,
      "outputs": []
    },
    {
      "cell_type": "code",
      "metadata": {
        "id": "9gYa3Hy6lrZi"
      },
      "source": [
        "X_treino = df_total[df_total['target']!= 2]"
      ],
      "execution_count": 13,
      "outputs": []
    },
    {
      "cell_type": "code",
      "metadata": {
        "id": "KeckOXBrR_X6"
      },
      "source": [
        "df_X = X_treino.copy()"
      ],
      "execution_count": 14,
      "outputs": []
    },
    {
      "cell_type": "code",
      "metadata": {
        "id": "Q5tB1ey7eAe4"
      },
      "source": [
        "df_y = df_X['target']\n",
        "df_X = df_X.drop(columns= ['target'])"
      ],
      "execution_count": 15,
      "outputs": []
    },
    {
      "cell_type": "code",
      "metadata": {
        "id": "i8_BlpeteJow"
      },
      "source": [
        "X_test = df_total[df_total['target']== 2].drop(columns= ['target'])"
      ],
      "execution_count": 16,
      "outputs": []
    },
    {
      "cell_type": "code",
      "metadata": {
        "colab": {
          "base_uri": "https://localhost:8080/"
        },
        "id": "ZKOA1SHr0oYy",
        "outputId": "64c0670e-8af4-4ca7-9aaf-e618c2e3e687"
      },
      "source": [
        "X_treino.columns"
      ],
      "execution_count": 17,
      "outputs": [
        {
          "output_type": "execute_result",
          "data": {
            "text/plain": [
              "Index(['ind01', 'ind02', 'ind03', 'ind04', 'ind05', 'ind06', 'ind07', 'ind08',\n",
              "       'ind09', 'ind10', 'ind11', 'ind12', 'ind13', 'ind14', 'ind15', 'ind16',\n",
              "       'ind17', 'ind18', 'ind19', 'ind20', 'ind21', 'ind22', 'ind23', 'ind24',\n",
              "       'ind25', 'ind26', 'ind27', 'ind28', 'ind31', 'ind32', 'ind34', 'ind35',\n",
              "       'ind36', 'ind37', 'ind38', 'ind39', 'ind42', 'ind43', 'target',\n",
              "       'ind_g1_mv', 'ind_g2_mv', 'mc_g1_mv', 'md1_o', 'md2_o', 'md3_o',\n",
              "       'md4_o', 'md5_o', 'md7_o', 'md8_o', 'md9_o', 'md10_o', 'md12_o',\n",
              "       'mc1_o', 'mc3_o', 'mc4_o', 'cnae_secao_0', 'cnae_secao_A',\n",
              "       'cnae_secao_B', 'cnae_secao_C', 'cnae_secao_D', 'cnae_secao_E',\n",
              "       'cnae_secao_F', 'cnae_secao_G', 'cnae_secao_H', 'cnae_secao_I',\n",
              "       'cnae_secao_J', 'cnae_secao_K', 'cnae_secao_L', 'cnae_secao_M',\n",
              "       'cnae_secao_N', 'cnae_secao_P', 'cnae_secao_Q', 'cnae_secao_R',\n",
              "       'cnae_secao_S'],\n",
              "      dtype='object')"
            ]
          },
          "metadata": {
            "tags": []
          },
          "execution_count": 17
        }
      ]
    },
    {
      "cell_type": "markdown",
      "metadata": {
        "id": "qzWrM6VCSEoQ"
      },
      "source": [
        "Tratando o Balanceamento da Amostra"
      ]
    },
    {
      "cell_type": "code",
      "metadata": {
        "colab": {
          "base_uri": "https://localhost:8080/"
        },
        "id": "28lRhxtgRwEa",
        "outputId": "bfee3e4f-d73c-43b0-ef7d-9c2857111bc5"
      },
      "source": [
        "qtd = Counter(X_treino['target'])\n",
        "qtd"
      ],
      "execution_count": 18,
      "outputs": [
        {
          "output_type": "execute_result",
          "data": {
            "text/plain": [
              "Counter({0: 8513, 1: 2520})"
            ]
          },
          "metadata": {
            "tags": []
          },
          "execution_count": 18
        }
      ]
    },
    {
      "cell_type": "code",
      "metadata": {
        "id": "0AZCDYSOSHLx"
      },
      "source": [
        "from imblearn.under_sampling import RandomUnderSampler\n",
        "from imblearn.pipeline import Pipeline"
      ],
      "execution_count": 19,
      "outputs": []
    },
    {
      "cell_type": "code",
      "metadata": {
        "id": "Z1FhuODySLSS"
      },
      "source": [
        "over = SMOTE(sampling_strategy = 0.5) # Reamostrar a classe minoritária para ter 10% da classe majoritária\n",
        "under = RandomUnderSampler(sampling_strategy = 0.85) # Seleciona a classe majoritária para ter 50%\n",
        "steps = [('over', over), ('under', under)]\n",
        "pipeline = Pipeline(steps = steps)"
      ],
      "execution_count": 20,
      "outputs": []
    },
    {
      "cell_type": "code",
      "metadata": {
        "colab": {
          "base_uri": "https://localhost:8080/"
        },
        "id": "dwkQt9AFSNLL",
        "outputId": "acf97125-ebb4-4738-c288-8308c4bfb6d5"
      },
      "source": [
        "X, y = pipeline.fit_resample(df_X, df_y)"
      ],
      "execution_count": 21,
      "outputs": [
        {
          "output_type": "stream",
          "text": [
            "/usr/local/lib/python3.6/dist-packages/sklearn/utils/deprecation.py:87: FutureWarning: Function safe_indexing is deprecated; safe_indexing is deprecated in version 0.22 and will be removed in version 0.24.\n",
            "  warnings.warn(msg, category=FutureWarning)\n",
            "/usr/local/lib/python3.6/dist-packages/sklearn/utils/deprecation.py:87: FutureWarning: Function safe_indexing is deprecated; safe_indexing is deprecated in version 0.22 and will be removed in version 0.24.\n",
            "  warnings.warn(msg, category=FutureWarning)\n"
          ],
          "name": "stderr"
        }
      ]
    },
    {
      "cell_type": "markdown",
      "metadata": {
        "id": "m22vN2YrSWOr"
      },
      "source": [
        "ANTES/DEPOIS:"
      ]
    },
    {
      "cell_type": "code",
      "metadata": {
        "colab": {
          "base_uri": "https://localhost:8080/"
        },
        "id": "oLiFXdkqSVNz",
        "outputId": "d0301a01-589e-4c28-f723-a3fc15bb5219"
      },
      "source": [
        "print(Counter(df_y),Counter(y))"
      ],
      "execution_count": 22,
      "outputs": [
        {
          "output_type": "stream",
          "text": [
            "Counter({0: 8513, 1: 2520}) Counter({0: 5007, 1: 4256})\n"
          ],
          "name": "stdout"
        }
      ]
    },
    {
      "cell_type": "markdown",
      "metadata": {
        "id": "jJaJWuUqJCha"
      },
      "source": [
        "### 3. Definir as amostras de treinamento e validação"
      ]
    },
    {
      "cell_type": "markdown",
      "metadata": {
        "id": "LoO2iEimu4SQ"
      },
      "source": [
        "[**Python**] - Definir as amostras de treinamento e validação"
      ]
    },
    {
      "cell_type": "code",
      "metadata": {
        "id": "hTCdm-F9JBGA",
        "colab": {
          "base_uri": "https://localhost:8080/"
        },
        "outputId": "32db046d-4d6f-44a0-d2f7-5a8b38a78641"
      },
      "source": [
        "from sklearn.model_selection import train_test_split\n",
        "\n",
        "X_treinamento, X_teste, y_treinamento, y_teste= train_test_split(X, y, test_size = 0.1, random_state = 22091980) #20111974)\n",
        "print(f'X: Treinamento=  {X_treinamento.shape}; X: Teste=  {X_teste.shape}')"
      ],
      "execution_count": 23,
      "outputs": [
        {
          "output_type": "stream",
          "text": [
            "X: Treinamento=  (8336, 73); X: Teste=  (927, 73)\n"
          ],
          "name": "stdout"
        }
      ]
    },
    {
      "cell_type": "code",
      "metadata": {
        "id": "th9CsQpB8VDK",
        "colab": {
          "base_uri": "https://localhost:8080/"
        },
        "outputId": "173b1da7-74eb-4c03-f48c-9cdd21fac4d5"
      },
      "source": [
        "print(f'Y: Treinamento =  {y_treinamento.shape}; Y: Teste = {y_teste.shape}')"
      ],
      "execution_count": 24,
      "outputs": [
        {
          "output_type": "stream",
          "text": [
            "Y: Treinamento =  (8336,); Y: Teste = (927,)\n"
          ],
          "name": "stdout"
        }
      ]
    },
    {
      "cell_type": "markdown",
      "metadata": {
        "id": "2bL-vXiULupD"
      },
      "source": [
        "### 4. Definir a arquitetura da Rede Neural com _Tensorflow_/_Keras_"
      ]
    },
    {
      "cell_type": "markdown",
      "metadata": {
        "id": "zxETX6dTfyU5"
      },
      "source": [
        "[**Python**] - Definir a arquitetura, ou seja:\n",
        "* $N_{I}$: Número de neurônios na camada de entrada (_Input Layer_);\n",
        "* $N_{O}$: Número de neurônios na camada de saída (_Output Layer_);\n",
        "* $N_{H}$: Número de neurônios na camada escondida (_Hidden Layer_);\n",
        "* FA: Função de ativação;"
      ]
    },
    {
      "cell_type": "code",
      "metadata": {
        "id": "F_MdsLicfyU6"
      },
      "source": [
        "# Número de Neurônios na Input Layer:\n",
        "N_I = 73\n",
        "\n",
        "# Número de neurônios na Output Layer:\n",
        "N_O = 1\n",
        "\n",
        "# Número de neurônios na Hidden Layer:\n",
        "N_H = 400\n",
        "\n",
        "N_H2 = 300\n",
        "\n",
        "N_H3=200\n",
        "\n",
        "N_H4 = 100\n",
        "\n",
        "N_H5 = 50\n",
        "\n",
        "N_H6 = 2\n",
        "\n",
        "\n",
        "\n",
        "# Função de Ativação da Hidden Layer:\n",
        "FA_H = tf.nn.leaky_relu\n",
        "#FA_H = tf.keras.activations.swish\n",
        "\n",
        "# Função de Ativação da Output Layer:\n",
        "FA_O = tf.keras.activations.sigmoid\n",
        "#FA_O = tf.keras.activations.softmax\n",
        "\n",
        "\n"
      ],
      "execution_count": 173,
      "outputs": []
    },
    {
      "cell_type": "markdown",
      "metadata": {
        "id": "SUMmDuPCcYyB"
      },
      "source": [
        "[**Python**] - Definir as sementes para NumPy e Tensorflow:\n",
        "> Por questões de reproducibilidade de resultados, use as sementes abaixo:\n",
        "\n",
        "* NumPy: 20111974;\n",
        "* Tensorflow: 20111974;"
      ]
    },
    {
      "cell_type": "code",
      "metadata": {
        "id": "T-echOBmceVy"
      },
      "source": [
        "np.random.seed(19800922)\n",
        "tf.random.set_seed(22091980)"
      ],
      "execution_count": 174,
      "outputs": []
    },
    {
      "cell_type": "markdown",
      "metadata": {
        "id": "7ZceRRdinEM2"
      },
      "source": [
        "\n",
        "[**Python**] - Definir a Rede Neural:"
      ]
    },
    {
      "cell_type": "markdown",
      "metadata": {
        "id": "nXQsSYq2DBfI"
      },
      "source": [
        "\n",
        "\n",
        "\n",
        "\n",
        "* 1 camada _dropout_ com $p= 0.1$:"
      ]
    },
    {
      "cell_type": "code",
      "metadata": {
        "id": "TRFR5Kr_nDtD",
        "colab": {
          "base_uri": "https://localhost:8080/"
        },
        "outputId": "86f3d4de-9f58-4317-b127-765d5d898b91"
      },
      "source": [
        "from tensorflow.keras import Sequential\n",
        "from tensorflow.keras.layers import Dense\n",
        "from tensorflow.keras.layers import Dropout\n",
        "\n",
        "RN= Sequential()\n",
        "RN.add(Dense(N_H, input_dim= N_I, kernel_initializer= tf.keras.initializers.GlorotNormal(), activation= FA_H, kernel_constraint= tf.keras.constraints.UnitNorm()))\n",
        "RN.add(Dropout(0.3))\n",
        "RN.add(Dense(N_H2, kernel_initializer= tf.keras.initializers.GlorotNormal(), activation= FA_H, kernel_constraint= tf.keras.constraints.UnitNorm()))\n",
        "RN.add(Dropout(0.3))\n",
        "RN.add(Dense(N_H3, kernel_initializer= tf.keras.initializers.GlorotNormal(), activation= FA_H, kernel_constraint= tf.keras.constraints.UnitNorm()))\n",
        "RN.add(Dropout(0.3))\n",
        "RN.add(Dense(N_H4, kernel_initializer= tf.keras.initializers.GlorotNormal(), activation= FA_H, kernel_constraint= tf.keras.constraints.UnitNorm()))\n",
        "RN.add(Dropout(0.3))\n",
        "RN.add(Dense(N_H5, kernel_initializer= tf.keras.initializers.GlorotNormal(), activation= FA_H, kernel_constraint= tf.keras.constraints.UnitNorm()))\n",
        "RN.add(Dropout(0.3))\n",
        "RN.add(Dense(N_H6, kernel_initializer= tf.keras.initializers.GlorotNormal(), activation= FA_H, kernel_constraint= tf.keras.constraints.UnitNorm()))\n",
        "RN.add(Dropout(0.3))\n",
        "RN.add(Dense(units= N_O, activation= FA_O))\n",
        "\n",
        "# Resumo da arquitetura da Rede Neural\n",
        "print(RN.summary())"
      ],
      "execution_count": 175,
      "outputs": [
        {
          "output_type": "stream",
          "text": [
            "Model: \"sequential_7\"\n",
            "_________________________________________________________________\n",
            "Layer (type)                 Output Shape              Param #   \n",
            "=================================================================\n",
            "dense_49 (Dense)             (None, 400)               29600     \n",
            "_________________________________________________________________\n",
            "dropout_42 (Dropout)         (None, 400)               0         \n",
            "_________________________________________________________________\n",
            "dense_50 (Dense)             (None, 300)               120300    \n",
            "_________________________________________________________________\n",
            "dropout_43 (Dropout)         (None, 300)               0         \n",
            "_________________________________________________________________\n",
            "dense_51 (Dense)             (None, 200)               60200     \n",
            "_________________________________________________________________\n",
            "dropout_44 (Dropout)         (None, 200)               0         \n",
            "_________________________________________________________________\n",
            "dense_52 (Dense)             (None, 100)               20100     \n",
            "_________________________________________________________________\n",
            "dropout_45 (Dropout)         (None, 100)               0         \n",
            "_________________________________________________________________\n",
            "dense_53 (Dense)             (None, 50)                5050      \n",
            "_________________________________________________________________\n",
            "dropout_46 (Dropout)         (None, 50)                0         \n",
            "_________________________________________________________________\n",
            "dense_54 (Dense)             (None, 2)                 102       \n",
            "_________________________________________________________________\n",
            "dropout_47 (Dropout)         (None, 2)                 0         \n",
            "_________________________________________________________________\n",
            "dense_55 (Dense)             (None, 1)                 3         \n",
            "=================================================================\n",
            "Total params: 235,355\n",
            "Trainable params: 235,355\n",
            "Non-trainable params: 0\n",
            "_________________________________________________________________\n",
            "None\n"
          ],
          "name": "stdout"
        }
      ]
    },
    {
      "cell_type": "markdown",
      "metadata": {
        "id": "4JBZf4ypGO8o"
      },
      "source": [
        "### 5. Compilar a Rede Neural\n",
        "\n",
        "Este é um problema de classificação binária (_Male_ ou _Female_). Portanto, temos:\n",
        "* optimizer= tf.keras.optimizers.Adam();\n",
        "* loss=  tf.keras.losses.MeanSquaredError() ou loss= tf.keras.losses.BinaryCrossentropy(). Particularmente, eu gosto de usar loss=  tf.keras.losses.MeanSquaredError() porque o resultado é mais intuitivo;\n",
        "* metrics= tf.keras.metrics.binary_accuracy."
      ]
    },
    {
      "cell_type": "markdown",
      "metadata": {
        "id": "USmAuw6f00wL"
      },
      "source": [
        "[**Python**] - Comando modelo.compile(optimizer, loss, metrics):"
      ]
    },
    {
      "cell_type": "code",
      "metadata": {
        "id": "h7KEi1_e6SSF"
      },
      "source": [
        "\n",
        "Algoritmo_Opt = tf.keras.optimizers.Adam()\n",
        "#Algoritmo_Opt = tf.keras.optimizers.Adam(learning_rate=0.01, beta_1=0.8, beta_2=0.99, epsilon=1e-07 , amsgrad=True,     name='Adam')\n",
        "#Loss_Function = tf.keras.losses.MeanSquaredError()\n",
        "Loss_Function = tf.keras.losses.BinaryCrossentropy()\n",
        "#Metrics_Perf = tf.keras.metrics.binary_accuracy\n",
        "Metrics_Perf = tfa.metrics.F1Score(1,average='macro',threshold=0.5)\n",
        "RN.compile(optimizer = Algoritmo_Opt, loss = Loss_Function,metrics = Metrics_Perf)\n",
        "#RN.compile( loss = Loss_Function,metrics = Metrics_Perf)"
      ],
      "execution_count": 176,
      "outputs": []
    },
    {
      "cell_type": "markdown",
      "metadata": {
        "id": "Hc90EeV_GojX"
      },
      "source": [
        "### 6. Ajustar a Rede Neural\n",
        "\n",
        "Obs.: A opção callbacks abaixo implementa o conceito de _early stopping_. Esta opção vai parar o processo de treinamento da Rede Neural antes de atingirmos o númerco de _epochs_ quando o modelo pára de melhorar, medido pela métrica val_loss. O parâmetro _patience_= k significa que o processo de otimização vai parar se tivermos k _epochs_ consecutivas sem observarmos melhoria da performance da Rede Neural."
      ]
    },
    {
      "cell_type": "markdown",
      "metadata": {
        "id": "XCCTtUh_vEFP"
      },
      "source": [
        "[**Python**] - Comando modelo.fit(X_treinamento, y_treinamento, epochs)"
      ]
    },
    {
      "cell_type": "code",
      "metadata": {
        "id": "EB91J6nrF0db",
        "colab": {
          "base_uri": "https://localhost:8080/"
        },
        "outputId": "10a954cb-c95c-441c-9643-c7e6f392210e"
      },
      "source": [
        "callbacks = [tf.keras.callbacks.EarlyStopping(monitor = 'val_f1_score', mode = 'max',patience = 20, min_delta = 0.001)]\n",
        "hist= RN.fit(X_treinamento, y_treinamento, epochs = 98, batch_size = 20,\n",
        "             validation_data = (X_teste, y_teste))#, callbacks = callbacks)"
      ],
      "execution_count": 177,
      "outputs": [
        {
          "output_type": "stream",
          "text": [
            "Epoch 1/98\n",
            "417/417 [==============================] - 3s 6ms/step - loss: 0.6443 - f1_score: 0.6247 - val_loss: 0.6023 - val_f1_score: 0.7036\n",
            "Epoch 2/98\n",
            "417/417 [==============================] - 2s 6ms/step - loss: 0.6246 - f1_score: 0.6361 - val_loss: 0.5994 - val_f1_score: 0.6972\n",
            "Epoch 3/98\n",
            "417/417 [==============================] - 2s 5ms/step - loss: 0.6156 - f1_score: 0.6340 - val_loss: 0.5800 - val_f1_score: 0.7006\n",
            "Epoch 4/98\n",
            "417/417 [==============================] - 2s 6ms/step - loss: 0.6121 - f1_score: 0.6473 - val_loss: 0.5766 - val_f1_score: 0.6854\n",
            "Epoch 5/98\n",
            "417/417 [==============================] - 2s 5ms/step - loss: 0.6063 - f1_score: 0.6461 - val_loss: 0.5846 - val_f1_score: 0.6906\n",
            "Epoch 6/98\n",
            "417/417 [==============================] - 2s 5ms/step - loss: 0.6030 - f1_score: 0.6478 - val_loss: 0.5826 - val_f1_score: 0.7002\n",
            "Epoch 7/98\n",
            "417/417 [==============================] - 2s 5ms/step - loss: 0.5982 - f1_score: 0.6531 - val_loss: 0.5714 - val_f1_score: 0.6946\n",
            "Epoch 8/98\n",
            "417/417 [==============================] - 2s 5ms/step - loss: 0.5979 - f1_score: 0.6585 - val_loss: 0.5718 - val_f1_score: 0.6557\n",
            "Epoch 9/98\n",
            "417/417 [==============================] - 2s 6ms/step - loss: 0.5884 - f1_score: 0.6544 - val_loss: 0.5701 - val_f1_score: 0.6958\n",
            "Epoch 10/98\n",
            "417/417 [==============================] - 2s 6ms/step - loss: 0.5901 - f1_score: 0.6373 - val_loss: 0.5697 - val_f1_score: 0.6924\n",
            "Epoch 11/98\n",
            "417/417 [==============================] - 2s 5ms/step - loss: 0.5904 - f1_score: 0.6614 - val_loss: 0.5670 - val_f1_score: 0.6902\n",
            "Epoch 12/98\n",
            "417/417 [==============================] - 2s 5ms/step - loss: 0.5877 - f1_score: 0.6625 - val_loss: 0.5619 - val_f1_score: 0.6868\n",
            "Epoch 13/98\n",
            "417/417 [==============================] - 2s 6ms/step - loss: 0.5817 - f1_score: 0.6594 - val_loss: 0.5602 - val_f1_score: 0.6857\n",
            "Epoch 14/98\n",
            "417/417 [==============================] - 2s 5ms/step - loss: 0.5765 - f1_score: 0.6659 - val_loss: 0.5728 - val_f1_score: 0.6934\n",
            "Epoch 15/98\n",
            "417/417 [==============================] - 2s 5ms/step - loss: 0.5781 - f1_score: 0.6693 - val_loss: 0.5692 - val_f1_score: 0.6564\n",
            "Epoch 16/98\n",
            "417/417 [==============================] - 2s 5ms/step - loss: 0.5721 - f1_score: 0.6719 - val_loss: 0.5654 - val_f1_score: 0.6764\n",
            "Epoch 17/98\n",
            "417/417 [==============================] - 2s 5ms/step - loss: 0.5683 - f1_score: 0.6837 - val_loss: 0.5596 - val_f1_score: 0.7064\n",
            "Epoch 18/98\n",
            "417/417 [==============================] - 2s 5ms/step - loss: 0.5704 - f1_score: 0.6730 - val_loss: 0.5699 - val_f1_score: 0.6712\n",
            "Epoch 19/98\n",
            "417/417 [==============================] - 2s 6ms/step - loss: 0.5685 - f1_score: 0.6743 - val_loss: 0.5779 - val_f1_score: 0.7137\n",
            "Epoch 20/98\n",
            "417/417 [==============================] - 2s 5ms/step - loss: 0.5689 - f1_score: 0.6722 - val_loss: 0.5564 - val_f1_score: 0.7091\n",
            "Epoch 21/98\n",
            "417/417 [==============================] - 2s 5ms/step - loss: 0.5594 - f1_score: 0.6771 - val_loss: 0.5756 - val_f1_score: 0.6371\n",
            "Epoch 22/98\n",
            "417/417 [==============================] - 2s 6ms/step - loss: 0.5638 - f1_score: 0.6776 - val_loss: 0.5617 - val_f1_score: 0.7194\n",
            "Epoch 23/98\n",
            "417/417 [==============================] - 2s 5ms/step - loss: 0.5586 - f1_score: 0.6861 - val_loss: 0.5724 - val_f1_score: 0.6942\n",
            "Epoch 24/98\n",
            "417/417 [==============================] - 2s 5ms/step - loss: 0.5578 - f1_score: 0.6895 - val_loss: 0.5708 - val_f1_score: 0.6897\n",
            "Epoch 25/98\n",
            "417/417 [==============================] - 2s 5ms/step - loss: 0.5567 - f1_score: 0.6830 - val_loss: 0.5827 - val_f1_score: 0.6767\n",
            "Epoch 26/98\n",
            "417/417 [==============================] - 2s 6ms/step - loss: 0.5548 - f1_score: 0.6915 - val_loss: 0.5741 - val_f1_score: 0.6659\n",
            "Epoch 27/98\n",
            "417/417 [==============================] - 2s 6ms/step - loss: 0.5469 - f1_score: 0.6862 - val_loss: 0.5590 - val_f1_score: 0.7067\n",
            "Epoch 28/98\n",
            "417/417 [==============================] - 2s 5ms/step - loss: 0.5483 - f1_score: 0.6860 - val_loss: 0.5612 - val_f1_score: 0.7255\n",
            "Epoch 29/98\n",
            "417/417 [==============================] - 2s 5ms/step - loss: 0.5455 - f1_score: 0.6927 - val_loss: 0.5619 - val_f1_score: 0.7097\n",
            "Epoch 30/98\n",
            "417/417 [==============================] - 2s 5ms/step - loss: 0.5441 - f1_score: 0.6857 - val_loss: 0.5634 - val_f1_score: 0.7303\n",
            "Epoch 31/98\n",
            "417/417 [==============================] - 2s 5ms/step - loss: 0.5513 - f1_score: 0.6795 - val_loss: 0.5552 - val_f1_score: 0.7275\n",
            "Epoch 32/98\n",
            "417/417 [==============================] - 2s 5ms/step - loss: 0.5422 - f1_score: 0.6914 - val_loss: 0.5596 - val_f1_score: 0.7168\n",
            "Epoch 33/98\n",
            "417/417 [==============================] - 2s 5ms/step - loss: 0.5407 - f1_score: 0.6917 - val_loss: 0.5709 - val_f1_score: 0.6439\n",
            "Epoch 34/98\n",
            "417/417 [==============================] - 2s 5ms/step - loss: 0.5414 - f1_score: 0.6898 - val_loss: 0.5803 - val_f1_score: 0.6651\n",
            "Epoch 35/98\n",
            "417/417 [==============================] - 2s 6ms/step - loss: 0.5395 - f1_score: 0.6894 - val_loss: 0.5698 - val_f1_score: 0.7037\n",
            "Epoch 36/98\n",
            "417/417 [==============================] - 2s 5ms/step - loss: 0.5367 - f1_score: 0.6867 - val_loss: 0.5612 - val_f1_score: 0.7256\n",
            "Epoch 37/98\n",
            "417/417 [==============================] - 2s 5ms/step - loss: 0.5344 - f1_score: 0.6978 - val_loss: 0.5617 - val_f1_score: 0.7137\n",
            "Epoch 38/98\n",
            "417/417 [==============================] - 2s 5ms/step - loss: 0.5332 - f1_score: 0.7044 - val_loss: 0.5740 - val_f1_score: 0.6118\n",
            "Epoch 39/98\n",
            "417/417 [==============================] - 2s 6ms/step - loss: 0.5325 - f1_score: 0.7025 - val_loss: 0.5670 - val_f1_score: 0.7015\n",
            "Epoch 40/98\n",
            "417/417 [==============================] - 2s 5ms/step - loss: 0.5319 - f1_score: 0.7009 - val_loss: 0.5969 - val_f1_score: 0.5865\n",
            "Epoch 41/98\n",
            "417/417 [==============================] - 2s 5ms/step - loss: 0.5344 - f1_score: 0.6987 - val_loss: 0.5835 - val_f1_score: 0.7082\n",
            "Epoch 42/98\n",
            "417/417 [==============================] - 2s 5ms/step - loss: 0.5285 - f1_score: 0.7007 - val_loss: 0.5709 - val_f1_score: 0.7275\n",
            "Epoch 43/98\n",
            "417/417 [==============================] - 2s 5ms/step - loss: 0.5270 - f1_score: 0.7028 - val_loss: 0.5892 - val_f1_score: 0.7174\n",
            "Epoch 44/98\n",
            "417/417 [==============================] - 2s 5ms/step - loss: 0.5300 - f1_score: 0.7001 - val_loss: 0.5844 - val_f1_score: 0.7000\n",
            "Epoch 45/98\n",
            "417/417 [==============================] - 2s 5ms/step - loss: 0.5265 - f1_score: 0.6992 - val_loss: 0.5745 - val_f1_score: 0.6627\n",
            "Epoch 46/98\n",
            "417/417 [==============================] - 2s 5ms/step - loss: 0.5226 - f1_score: 0.7045 - val_loss: 0.5601 - val_f1_score: 0.7222\n",
            "Epoch 47/98\n",
            "417/417 [==============================] - 2s 6ms/step - loss: 0.5244 - f1_score: 0.6991 - val_loss: 0.5647 - val_f1_score: 0.6938\n",
            "Epoch 48/98\n",
            "417/417 [==============================] - 2s 5ms/step - loss: 0.5281 - f1_score: 0.7033 - val_loss: 0.5689 - val_f1_score: 0.6885\n",
            "Epoch 49/98\n",
            "417/417 [==============================] - 2s 5ms/step - loss: 0.5202 - f1_score: 0.7114 - val_loss: 0.5653 - val_f1_score: 0.7009\n",
            "Epoch 50/98\n",
            "417/417 [==============================] - 2s 5ms/step - loss: 0.5230 - f1_score: 0.7082 - val_loss: 0.5723 - val_f1_score: 0.6750\n",
            "Epoch 51/98\n",
            "417/417 [==============================] - 2s 5ms/step - loss: 0.5169 - f1_score: 0.7082 - val_loss: 0.5618 - val_f1_score: 0.6907\n",
            "Epoch 52/98\n",
            "417/417 [==============================] - 2s 5ms/step - loss: 0.5179 - f1_score: 0.7048 - val_loss: 0.5896 - val_f1_score: 0.6957\n",
            "Epoch 53/98\n",
            "417/417 [==============================] - 2s 5ms/step - loss: 0.5172 - f1_score: 0.7042 - val_loss: 0.5866 - val_f1_score: 0.6053\n",
            "Epoch 54/98\n",
            "417/417 [==============================] - 2s 6ms/step - loss: 0.5188 - f1_score: 0.7114 - val_loss: 0.5526 - val_f1_score: 0.7049\n",
            "Epoch 55/98\n",
            "417/417 [==============================] - 2s 6ms/step - loss: 0.5165 - f1_score: 0.7148 - val_loss: 0.5797 - val_f1_score: 0.6780\n",
            "Epoch 56/98\n",
            "417/417 [==============================] - 2s 6ms/step - loss: 0.5221 - f1_score: 0.6995 - val_loss: 0.5706 - val_f1_score: 0.6576\n",
            "Epoch 57/98\n",
            "417/417 [==============================] - 2s 6ms/step - loss: 0.5189 - f1_score: 0.7049 - val_loss: 0.5642 - val_f1_score: 0.6855\n",
            "Epoch 58/98\n",
            "417/417 [==============================] - 2s 5ms/step - loss: 0.5149 - f1_score: 0.7061 - val_loss: 0.5800 - val_f1_score: 0.6429\n",
            "Epoch 59/98\n",
            "417/417 [==============================] - 2s 6ms/step - loss: 0.5145 - f1_score: 0.7109 - val_loss: 0.5734 - val_f1_score: 0.6953\n",
            "Epoch 60/98\n",
            "417/417 [==============================] - 2s 6ms/step - loss: 0.5067 - f1_score: 0.7136 - val_loss: 0.5764 - val_f1_score: 0.7256\n",
            "Epoch 61/98\n",
            "417/417 [==============================] - 2s 6ms/step - loss: 0.5097 - f1_score: 0.7002 - val_loss: 0.5964 - val_f1_score: 0.6659\n",
            "Epoch 62/98\n",
            "417/417 [==============================] - 2s 6ms/step - loss: 0.5122 - f1_score: 0.7182 - val_loss: 0.5605 - val_f1_score: 0.7206\n",
            "Epoch 63/98\n",
            "417/417 [==============================] - 2s 6ms/step - loss: 0.5109 - f1_score: 0.7159 - val_loss: 0.5966 - val_f1_score: 0.7068\n",
            "Epoch 64/98\n",
            "417/417 [==============================] - 2s 6ms/step - loss: 0.5145 - f1_score: 0.7061 - val_loss: 0.5915 - val_f1_score: 0.7266\n",
            "Epoch 65/98\n",
            "417/417 [==============================] - 2s 6ms/step - loss: 0.5157 - f1_score: 0.7133 - val_loss: 0.5448 - val_f1_score: 0.7099\n",
            "Epoch 66/98\n",
            "417/417 [==============================] - 2s 5ms/step - loss: 0.5096 - f1_score: 0.7134 - val_loss: 0.5653 - val_f1_score: 0.6898\n",
            "Epoch 67/98\n",
            "417/417 [==============================] - 2s 6ms/step - loss: 0.5056 - f1_score: 0.7152 - val_loss: 0.5558 - val_f1_score: 0.6847\n",
            "Epoch 68/98\n",
            "417/417 [==============================] - 2s 6ms/step - loss: 0.5048 - f1_score: 0.7205 - val_loss: 0.5861 - val_f1_score: 0.6569\n",
            "Epoch 69/98\n",
            "417/417 [==============================] - 2s 5ms/step - loss: 0.5098 - f1_score: 0.7126 - val_loss: 0.5690 - val_f1_score: 0.7165\n",
            "Epoch 70/98\n",
            "417/417 [==============================] - 2s 6ms/step - loss: 0.5050 - f1_score: 0.7193 - val_loss: 0.5637 - val_f1_score: 0.6868\n",
            "Epoch 71/98\n",
            "417/417 [==============================] - 2s 6ms/step - loss: 0.5067 - f1_score: 0.7115 - val_loss: 0.5667 - val_f1_score: 0.7107\n",
            "Epoch 72/98\n",
            "417/417 [==============================] - 2s 6ms/step - loss: 0.5036 - f1_score: 0.7155 - val_loss: 0.5688 - val_f1_score: 0.6919\n",
            "Epoch 73/98\n",
            "417/417 [==============================] - 3s 6ms/step - loss: 0.5007 - f1_score: 0.7178 - val_loss: 0.5923 - val_f1_score: 0.7051\n",
            "Epoch 74/98\n",
            "417/417 [==============================] - 3s 6ms/step - loss: 0.5017 - f1_score: 0.7206 - val_loss: 0.5921 - val_f1_score: 0.7116\n",
            "Epoch 75/98\n",
            "417/417 [==============================] - 2s 6ms/step - loss: 0.4978 - f1_score: 0.7181 - val_loss: 0.5856 - val_f1_score: 0.6885\n",
            "Epoch 76/98\n",
            "417/417 [==============================] - 2s 6ms/step - loss: 0.5048 - f1_score: 0.7212 - val_loss: 0.5926 - val_f1_score: 0.6421\n",
            "Epoch 77/98\n",
            "417/417 [==============================] - 2s 5ms/step - loss: 0.5023 - f1_score: 0.7180 - val_loss: 0.5770 - val_f1_score: 0.7146\n",
            "Epoch 78/98\n",
            "417/417 [==============================] - 2s 5ms/step - loss: 0.5027 - f1_score: 0.7213 - val_loss: 0.5965 - val_f1_score: 0.6267\n",
            "Epoch 79/98\n",
            "417/417 [==============================] - 2s 5ms/step - loss: 0.5032 - f1_score: 0.7114 - val_loss: 0.5625 - val_f1_score: 0.7082\n",
            "Epoch 80/98\n",
            "417/417 [==============================] - 2s 5ms/step - loss: 0.4976 - f1_score: 0.7201 - val_loss: 0.5932 - val_f1_score: 0.6744\n",
            "Epoch 81/98\n",
            "417/417 [==============================] - 2s 5ms/step - loss: 0.5038 - f1_score: 0.7166 - val_loss: 0.6113 - val_f1_score: 0.6680\n",
            "Epoch 82/98\n",
            "417/417 [==============================] - 2s 5ms/step - loss: 0.5015 - f1_score: 0.7211 - val_loss: 0.5888 - val_f1_score: 0.6553\n",
            "Epoch 83/98\n",
            "417/417 [==============================] - 2s 5ms/step - loss: 0.4908 - f1_score: 0.7203 - val_loss: 0.5644 - val_f1_score: 0.7065\n",
            "Epoch 84/98\n",
            "417/417 [==============================] - 2s 6ms/step - loss: 0.4986 - f1_score: 0.7223 - val_loss: 0.5582 - val_f1_score: 0.7289\n",
            "Epoch 85/98\n",
            "417/417 [==============================] - 2s 6ms/step - loss: 0.4974 - f1_score: 0.7259 - val_loss: 0.5871 - val_f1_score: 0.7210\n",
            "Epoch 86/98\n",
            "417/417 [==============================] - 2s 6ms/step - loss: 0.4970 - f1_score: 0.7254 - val_loss: 0.5702 - val_f1_score: 0.6925\n",
            "Epoch 87/98\n",
            "417/417 [==============================] - 2s 6ms/step - loss: 0.4923 - f1_score: 0.7264 - val_loss: 0.5846 - val_f1_score: 0.6821\n",
            "Epoch 88/98\n",
            "417/417 [==============================] - 2s 5ms/step - loss: 0.4986 - f1_score: 0.7183 - val_loss: 0.5739 - val_f1_score: 0.7073\n",
            "Epoch 89/98\n",
            "417/417 [==============================] - 2s 5ms/step - loss: 0.4944 - f1_score: 0.7265 - val_loss: 0.5920 - val_f1_score: 0.7176\n",
            "Epoch 90/98\n",
            "417/417 [==============================] - 2s 5ms/step - loss: 0.5009 - f1_score: 0.7234 - val_loss: 0.5929 - val_f1_score: 0.6651\n",
            "Epoch 91/98\n",
            "417/417 [==============================] - 2s 6ms/step - loss: 0.4921 - f1_score: 0.7254 - val_loss: 0.5810 - val_f1_score: 0.7368\n",
            "Epoch 92/98\n",
            "417/417 [==============================] - 2s 6ms/step - loss: 0.4934 - f1_score: 0.7334 - val_loss: 0.5821 - val_f1_score: 0.6880\n",
            "Epoch 93/98\n",
            "417/417 [==============================] - 2s 5ms/step - loss: 0.4945 - f1_score: 0.7210 - val_loss: 0.5899 - val_f1_score: 0.6538\n",
            "Epoch 94/98\n",
            "417/417 [==============================] - 3s 6ms/step - loss: 0.4956 - f1_score: 0.7256 - val_loss: 0.5774 - val_f1_score: 0.6981\n",
            "Epoch 95/98\n",
            "417/417 [==============================] - 3s 6ms/step - loss: 0.4956 - f1_score: 0.7231 - val_loss: 0.5878 - val_f1_score: 0.6844\n",
            "Epoch 96/98\n",
            "417/417 [==============================] - 2s 6ms/step - loss: 0.4966 - f1_score: 0.7199 - val_loss: 0.5901 - val_f1_score: 0.7007\n",
            "Epoch 97/98\n",
            "417/417 [==============================] - 2s 5ms/step - loss: 0.4936 - f1_score: 0.7137 - val_loss: 0.5769 - val_f1_score: 0.7155\n",
            "Epoch 98/98\n",
            "417/417 [==============================] - 2s 5ms/step - loss: 0.4892 - f1_score: 0.7287 - val_loss: 0.6071 - val_f1_score: 0.7252\n"
          ],
          "name": "stdout"
        }
      ]
    },
    {
      "cell_type": "code",
      "metadata": {
        "id": "IE28TqhAWVlz"
      },
      "source": [
        ""
      ],
      "execution_count": null,
      "outputs": []
    },
    {
      "cell_type": "markdown",
      "metadata": {
        "id": "J1sL_DTrKmpq"
      },
      "source": [
        "### 7. Avaliar a performance da Rede Neural\n",
        "\n",
        "Para avaliar a a Rede Neural, simplesmente informamos as amostras de teste: X_teste e y_teste. A função evaluate() vai retornar uma lista contendo 2 valores: loss e accuracy."
      ]
    },
    {
      "cell_type": "markdown",
      "metadata": {
        "id": "VckQfEFPvMa7"
      },
      "source": [
        "[**Python**] - Comando modelo.evaluate(X_teste, y_teste)"
      ]
    },
    {
      "cell_type": "code",
      "metadata": {
        "id": "veeKG78w4hWh"
      },
      "source": [
        "def Mostra_ConfusionMatrix(X,y):\n",
        "    y_pred = RN.predict_classes(X)\n",
        "    mc = confusion_matrix(y, y_pred)\n",
        "    #sns.heatmap(mc,annot=True, annot_kws={\"size\": 10},fmt=\"d\")\n",
        "    sns.heatmap(mc/np.sum(mc), annot=True, annot_kws={\"size\": 10}, fmt='.2%', cmap='Blues')"
      ],
      "execution_count": 30,
      "outputs": []
    },
    {
      "cell_type": "code",
      "metadata": {
        "colab": {
          "base_uri": "https://localhost:8080/"
        },
        "id": "XUJL6Y6A4hWh",
        "outputId": "b6e85aa0-bd1f-47b2-e056-fd836c1a7a5d"
      },
      "source": [
        "RN.evaluate(X_teste, y_teste)"
      ],
      "execution_count": 178,
      "outputs": [
        {
          "output_type": "stream",
          "text": [
            "29/29 [==============================] - 0s 1ms/step - loss: 0.6071 - f1_score: 0.7252\n"
          ],
          "name": "stdout"
        },
        {
          "output_type": "execute_result",
          "data": {
            "text/plain": [
              "[0.6070781946182251, 0.725229799747467]"
            ]
          },
          "metadata": {
            "tags": []
          },
          "execution_count": 178
        }
      ]
    },
    {
      "cell_type": "code",
      "metadata": {
        "colab": {
          "base_uri": "https://localhost:8080/"
        },
        "id": "g3KRG1fN4hWi",
        "outputId": "c5200e8b-9abf-4cb7-a6a7-3e2de8d58227"
      },
      "source": [
        "F1_Test=f1_score(y_teste, RN.predict_classes(X_teste), average=\"macro\")\n",
        "print(f'F1: {F1_Test}')"
      ],
      "execution_count": 179,
      "outputs": [
        {
          "output_type": "stream",
          "text": [
            "F1: 0.7089006274624252\n"
          ],
          "name": "stdout"
        }
      ]
    },
    {
      "cell_type": "code",
      "metadata": {
        "id": "HSC6yxs9VONq",
        "colab": {
          "base_uri": "https://localhost:8080/",
          "height": 265
        },
        "outputId": "01f3cf2e-228b-4931-f6e4-121ec6b20f81"
      },
      "source": [
        "Mostra_ConfusionMatrix(X_teste, y_teste)"
      ],
      "execution_count": 180,
      "outputs": [
        {
          "output_type": "display_data",
          "data": {
            "image/png": "[encoded data removed]",
            "text/plain": [
              "<Figure size 432x288 with 2 Axes>"
            ]
          },
          "metadata": {
            "tags": [],
            "needs_background": "light"
          }
        }
      ]
    },
    {
      "cell_type": "code",
      "metadata": {
        "colab": {
          "base_uri": "https://localhost:8080/"
        },
        "id": "vdDUMlaT4hWi",
        "outputId": "5196714e-964b-46db-d884-dd91bf79be40"
      },
      "source": [
        "RN.evaluate(df_X, df_y)"
      ],
      "execution_count": 181,
      "outputs": [
        {
          "output_type": "stream",
          "text": [
            "345/345 [==============================] - 1s 2ms/step - loss: 0.5467 - f1_score: 0.5712\n"
          ],
          "name": "stdout"
        },
        {
          "output_type": "execute_result",
          "data": {
            "text/plain": [
              "[0.5467331409454346, 0.571234941482544]"
            ]
          },
          "metadata": {
            "tags": []
          },
          "execution_count": 181
        }
      ]
    },
    {
      "cell_type": "code",
      "metadata": {
        "colab": {
          "base_uri": "https://localhost:8080/"
        },
        "id": "NbBX0xLW4hWi",
        "outputId": "85705b1e-d1cf-4643-d994-aaf7698fe57b"
      },
      "source": [
        "F1_X=f1_score(df_y, RN.predict_classes(df_X), average=\"macro\")\n",
        "print(f'F1: {F1_X}')"
      ],
      "execution_count": 182,
      "outputs": [
        {
          "output_type": "stream",
          "text": [
            "F1: 0.6779518595630283\n"
          ],
          "name": "stdout"
        }
      ]
    },
    {
      "cell_type": "code",
      "metadata": {
        "id": "uKMi5mUMVWdR",
        "colab": {
          "base_uri": "https://localhost:8080/",
          "height": 265
        },
        "outputId": "d94b0970-69e9-4082-f808-01e745a04229"
      },
      "source": [
        "Mostra_ConfusionMatrix(df_X, df_y)"
      ],
      "execution_count": 183,
      "outputs": [
        {
          "output_type": "display_data",
          "data": {
            "image/png": "[encoded data removed]",
            "text/plain": [
              "<Figure size 432x288 with 2 Axes>"
            ]
          },
          "metadata": {
            "tags": [],
            "needs_background": "light"
          }
        }
      ]
    },
    {
      "cell_type": "code",
      "metadata": {
        "colab": {
          "base_uri": "https://localhost:8080/"
        },
        "id": "X1V4oO0R4hWi",
        "outputId": "b66eae6b-f341-4b59-fa6a-1541f545f960"
      },
      "source": [
        "RN.evaluate(X_treinamento, y_treinamento)"
      ],
      "execution_count": 184,
      "outputs": [
        {
          "output_type": "stream",
          "text": [
            "261/261 [==============================] - 0s 2ms/step - loss: 0.4287 - f1_score: 0.7946\n"
          ],
          "name": "stdout"
        },
        {
          "output_type": "execute_result",
          "data": {
            "text/plain": [
              "[0.4286707937717438, 0.7946407794952393]"
            ]
          },
          "metadata": {
            "tags": []
          },
          "execution_count": 184
        }
      ]
    },
    {
      "cell_type": "code",
      "metadata": {
        "colab": {
          "base_uri": "https://localhost:8080/"
        },
        "id": "g7cCtosc4hWi",
        "outputId": "cb4a397a-4ec1-4d4e-8358-5e6822cf3d99"
      },
      "source": [
        "F1_Trein=f1_score(y_treinamento, RN.predict_classes(X_treinamento), average=\"macro\")\n",
        "print(f'F1: {F1_Trein}')"
      ],
      "execution_count": 185,
      "outputs": [
        {
          "output_type": "stream",
          "text": [
            "F1: 0.7921977673577905\n"
          ],
          "name": "stdout"
        }
      ]
    },
    {
      "cell_type": "code",
      "metadata": {
        "colab": {
          "base_uri": "https://localhost:8080/",
          "height": 268
        },
        "id": "N89YhXgS4hWj",
        "outputId": "83c69c68-e330-47c5-eaf9-22a6f17a4639"
      },
      "source": [
        "Mostra_ConfusionMatrix(X_treinamento, y_treinamento)"
      ],
      "execution_count": 186,
      "outputs": [
        {
          "output_type": "display_data",
          "data": {
            "image/png": "[encoded data removed]",
            "text/plain": [
              "<Figure size 432x288 with 2 Axes>"
            ]
          },
          "metadata": {
            "tags": [],
            "needs_background": "light"
          }
        }
      ]
    },
    {
      "cell_type": "markdown",
      "metadata": {
        "id": "D5zYHcGuMPZe"
      },
      "source": [
        "### 8. _Fine tuning_ da Rede Neural\n",
        "\n",
        "Para aumentar a acurácia da Rede Neural, sugiro aumentarmos o número de neurônios na _Hidden Layer_ e/ou aumentar o número de _Hidden Layers_.\n",
        "\n",
        "No entanto, obtivemos uma acurácia razoável com a Rede Neural _baseline_. Portanto, deixo como exercício para os alunos o desafio de melhorar a acurácia desta Rede Neural."
      ]
    },
    {
      "cell_type": "markdown",
      "metadata": {
        "id": "_ISodOu-Kmp3"
      },
      "source": [
        "### 9. Fazer Predições com a Rede Neural"
      ]
    },
    {
      "cell_type": "markdown",
      "metadata": {
        "id": "_xgdL1W4vUrN"
      },
      "source": [
        "[**Python**] - Comando:\n",
        "* RN.predict_classes(X_treinamento);\n",
        "* RN.predict_classes(X_teste)."
      ]
    },
    {
      "cell_type": "code",
      "metadata": {
        "id": "kqy2rt3YfPiy"
      },
      "source": [
        "y_test = RN.predict_classes(X_test)\n"
      ],
      "execution_count": 187,
      "outputs": []
    },
    {
      "cell_type": "code",
      "metadata": {
        "id": "_C_u02mygKgt"
      },
      "source": [
        "df_submit = pd.concat([pd.DataFrame(X_test.index,columns=['id']),pd.DataFrame(y_test,columns=['target']).astype('boolean')],axis=1)\n",
        "\n"
      ],
      "execution_count": 188,
      "outputs": []
    },
    {
      "cell_type": "code",
      "metadata": {
        "colab": {
          "base_uri": "https://localhost:8080/",
          "height": 407
        },
        "id": "k-GLGzuem3cV",
        "outputId": "5a5549df-3010-466f-8ce8-0b73c3b182ea"
      },
      "source": [
        "df_submit"
      ],
      "execution_count": 189,
      "outputs": [
        {
          "output_type": "execute_result",
          "data": {
            "text/html": [
              "<div>\n",
              "<style scoped>\n",
              "    .dataframe tbody tr th:only-of-type {\n",
              "        vertical-align: middle;\n",
              "    }\n",
              "\n",
              "    .dataframe tbody tr th {\n",
              "        vertical-align: top;\n",
              "    }\n",
              "\n",
              "    .dataframe thead th {\n",
              "        text-align: right;\n",
              "    }\n",
              "</style>\n",
              "<table border=\"1\" class=\"dataframe\">\n",
              "  <thead>\n",
              "    <tr style=\"text-align: right;\">\n",
              "      <th></th>\n",
              "      <th>id</th>\n",
              "      <th>target</th>\n",
              "    </tr>\n",
              "  </thead>\n",
              "  <tbody>\n",
              "    <tr>\n",
              "      <th>0</th>\n",
              "      <td>3411</td>\n",
              "      <td>False</td>\n",
              "    </tr>\n",
              "    <tr>\n",
              "      <th>1</th>\n",
              "      <td>2177</td>\n",
              "      <td>True</td>\n",
              "    </tr>\n",
              "    <tr>\n",
              "      <th>2</th>\n",
              "      <td>8400</td>\n",
              "      <td>False</td>\n",
              "    </tr>\n",
              "    <tr>\n",
              "      <th>3</th>\n",
              "      <td>464</td>\n",
              "      <td>True</td>\n",
              "    </tr>\n",
              "    <tr>\n",
              "      <th>4</th>\n",
              "      <td>6672</td>\n",
              "      <td>False</td>\n",
              "    </tr>\n",
              "    <tr>\n",
              "      <th>...</th>\n",
              "      <td>...</td>\n",
              "      <td>...</td>\n",
              "    </tr>\n",
              "    <tr>\n",
              "      <th>995</th>\n",
              "      <td>8609</td>\n",
              "      <td>False</td>\n",
              "    </tr>\n",
              "    <tr>\n",
              "      <th>996</th>\n",
              "      <td>3384</td>\n",
              "      <td>True</td>\n",
              "    </tr>\n",
              "    <tr>\n",
              "      <th>997</th>\n",
              "      <td>8297</td>\n",
              "      <td>False</td>\n",
              "    </tr>\n",
              "    <tr>\n",
              "      <th>998</th>\n",
              "      <td>7556</td>\n",
              "      <td>False</td>\n",
              "    </tr>\n",
              "    <tr>\n",
              "      <th>999</th>\n",
              "      <td>8582</td>\n",
              "      <td>True</td>\n",
              "    </tr>\n",
              "  </tbody>\n",
              "</table>\n",
              "<p>1000 rows × 2 columns</p>\n",
              "</div>"
            ],
            "text/plain": [
              "       id  target\n",
              "0    3411   False\n",
              "1    2177    True\n",
              "2    8400   False\n",
              "3     464    True\n",
              "4    6672   False\n",
              "..    ...     ...\n",
              "995  8609   False\n",
              "996  3384    True\n",
              "997  8297   False\n",
              "998  7556   False\n",
              "999  8582    True\n",
              "\n",
              "[1000 rows x 2 columns]"
            ]
          },
          "metadata": {
            "tags": []
          },
          "execution_count": 189
        }
      ]
    },
    {
      "cell_type": "code",
      "metadata": {
        "id": "JU_6XlFRgPL2",
        "colab": {
          "base_uri": "https://localhost:8080/"
        },
        "outputId": "d28307b3-d4f0-46b5-e842-921dca3ea1cc"
      },
      "source": [
        "df_submit['target'].value_counts()"
      ],
      "execution_count": 190,
      "outputs": [
        {
          "output_type": "execute_result",
          "data": {
            "text/plain": [
              "False    509\n",
              "True     491\n",
              "Name: target, dtype: Int64"
            ]
          },
          "metadata": {
            "tags": []
          },
          "execution_count": 190
        }
      ]
    },
    {
      "cell_type": "code",
      "metadata": {
        "id": "XhnvrX4E65vY"
      },
      "source": [
        "F = df_submit['target'].value_counts()[0]\n",
        "T = df_submit['target'].value_counts()[1]"
      ],
      "execution_count": 191,
      "outputs": []
    },
    {
      "cell_type": "code",
      "metadata": {
        "id": "wB_47tDG60uC"
      },
      "source": [
        "df_submit.to_csv(f'/PyLadies_NL_133_Test_{round(F1_Test,4)}_X_{round(F1_X,4)}_Trein_{round(F1_Trein,4)}_F{F}_T{T}.csv',index = False, sep = ',')"
      ],
      "execution_count": 192,
      "outputs": []
    },
    {
      "cell_type": "markdown",
      "metadata": {
        "id": "NpufntZjyH8T"
      },
      "source": [
        "### Salvar a Rede Neural"
      ]
    },
    {
      "cell_type": "code",
      "metadata": {
        "id": "ZKqn0leTyLOy"
      },
      "source": [
        "# Save the weights\n",
        "RN.save('/RN_133.h5')"
      ],
      "execution_count": 193,
      "outputs": []
    },
    {
      "cell_type": "code",
      "metadata": {
        "id": "viORp6XjrC66"
      },
      "source": [
        ""
      ],
      "execution_count": null,
      "outputs": []
    }
  ]
}