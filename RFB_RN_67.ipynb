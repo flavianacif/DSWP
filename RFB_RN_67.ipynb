{
  "nbformat": 4,
  "nbformat_minor": 0,
  "metadata": {
    "colab": {
      "name": "Untitled5.ipynb",
      "provenance": [],
      "authorship_tag": "ABX9TyMYbCJPOnSVpplbVO7xb2Sk",
      "include_colab_link": true
    },
    "kernelspec": {
      "name": "python3",
      "display_name": "Python 3"
    }
  },
  "cells": [
    {
      "cell_type": "markdown",
      "metadata": {
        "id": "view-in-github",
        "colab_type": "text"
      },
      "source": [
        "<a href=\"https://colab.research.google.com/github/flavianacif/DSWP/blob/master/RFB_RN_67.ipynb\" target=\"_parent\"><img src=\"https://colab.research.google.com/assets/colab-badge.svg\" alt=\"Open In Colab\"/></a>"
      ]
    },
    {
      "cell_type": "code",
      "metadata": {
        "id": "j0_YZ6IURZE_",
        "colab": {
          "base_uri": "https://localhost:8080/"
        },
        "outputId": "68875633-05a0-4767-ce4d-dd139357293b"
      },
      "source": [
        "\n",
        "import tensorflow as tf\n",
        "import numpy as np\n",
        "import pandas as pd\n",
        "import matplotlib.pyplot as plt\n",
        "import seaborn as sns\n",
        "from sklearn.metrics import confusion_matrix, SCORERS\n",
        "import tensorflow_addons as tfa\n",
        "\n",
        "from tensorflow import keras\n",
        "\n",
        "import pandas as pd\n",
        "import numpy as np\n",
        "\n",
        "import matplotlib.pyplot as plt # importing ploting libraries\n",
        "import seaborn as sns # importing seaborn for statistical plots\n",
        "from collections import Counter\n",
        "\n",
        "from sklearn.metrics import make_scorer,accuracy_score, f1_score, confusion_matrix, classification_report, recall_score # calculate accuracy measures and confusion matrix\n",
        "\n",
        "from imblearn.over_sampling import SMOTE\n",
        "from keras.wrappers.scikit_learn import KerasClassifier\n",
        "\n",
        "from tensorflow.keras import Sequential\n",
        "from tensorflow.keras.layers import Dense\n",
        "from tensorflow.keras.layers import Dropout"
      ],
      "execution_count": 3,
      "outputs": [
        {
          "output_type": "stream",
          "text": [
            "/usr/local/lib/python3.6/dist-packages/sklearn/externals/six.py:31: FutureWarning: The module is deprecated in version 0.21 and will be removed in version 0.23 since we've dropped support for Python 2.7. Please rely on the official version of six (https://pypi.org/project/six/).\n",
            "  \"(https://pypi.org/project/six/).\", FutureWarning)\n",
            "/usr/local/lib/python3.6/dist-packages/sklearn/utils/deprecation.py:144: FutureWarning: The sklearn.neighbors.base module is  deprecated in version 0.22 and will be removed in version 0.24. The corresponding classes / functions should instead be imported from sklearn.neighbors. Anything that cannot be imported from sklearn.neighbors is now part of the private API.\n",
            "  warnings.warn(message, FutureWarning)\n"
          ],
          "name": "stderr"
        }
      ]
    },
    {
      "cell_type": "code",
      "metadata": {
        "id": "UMdi2gAD0wQQ"
      },
      "source": [
        "import sklearn"
      ],
      "execution_count": 4,
      "outputs": []
    },
    {
      "cell_type": "code",
      "metadata": {
        "id": "Uf9lYBYW05TL",
        "colab": {
          "base_uri": "https://localhost:8080/"
        },
        "outputId": "6f2e2402-5b6a-4b1a-8ed9-071feba9ca8a"
      },
      "source": [
        "sklearn.metrics.SCORERS.keys()"
      ],
      "execution_count": 5,
      "outputs": [
        {
          "output_type": "execute_result",
          "data": {
            "text/plain": [
              "dict_keys(['explained_variance', 'r2', 'max_error', 'neg_median_absolute_error', 'neg_mean_absolute_error', 'neg_mean_squared_error', 'neg_mean_squared_log_error', 'neg_root_mean_squared_error', 'neg_mean_poisson_deviance', 'neg_mean_gamma_deviance', 'accuracy', 'roc_auc', 'roc_auc_ovr', 'roc_auc_ovo', 'roc_auc_ovr_weighted', 'roc_auc_ovo_weighted', 'balanced_accuracy', 'average_precision', 'neg_log_loss', 'neg_brier_score', 'adjusted_rand_score', 'homogeneity_score', 'completeness_score', 'v_measure_score', 'mutual_info_score', 'adjusted_mutual_info_score', 'normalized_mutual_info_score', 'fowlkes_mallows_score', 'precision', 'precision_macro', 'precision_micro', 'precision_samples', 'precision_weighted', 'recall', 'recall_macro', 'recall_micro', 'recall_samples', 'recall_weighted', 'f1', 'f1_macro', 'f1_micro', 'f1_samples', 'f1_weighted', 'jaccard', 'jaccard_macro', 'jaccard_micro', 'jaccard_samples', 'jaccard_weighted'])"
            ]
          },
          "metadata": {
            "tags": []
          },
          "execution_count": 5
        }
      ]
    },
    {
      "cell_type": "markdown",
      "metadata": {
        "id": "9ZX00UN5cjvM"
      },
      "source": [
        "[**Python**] - Verificar a versão do Tensorflow\n",
        "> Assegurar que está a utilizar a versão 2.x."
      ]
    },
    {
      "cell_type": "code",
      "metadata": {
        "id": "THWNIk_FCe_g",
        "colab": {
          "base_uri": "https://localhost:8080/",
          "height": 35
        },
        "outputId": "05e8524d-ceac-444f-e520-c95d5ac4efd3"
      },
      "source": [
        "tf.__version__"
      ],
      "execution_count": 6,
      "outputs": [
        {
          "output_type": "execute_result",
          "data": {
            "application/vnd.google.colaboratory.intrinsic+json": {
              "type": "string"
            },
            "text/plain": [
              "'2.3.0'"
            ]
          },
          "metadata": {
            "tags": []
          },
          "execution_count": 6
        }
      ]
    },
    {
      "cell_type": "markdown",
      "metadata": {
        "id": "PZgQAKqLcLX3"
      },
      "source": [
        "[**Python**] - Definir o número de casas decimais"
      ]
    },
    {
      "cell_type": "code",
      "metadata": {
        "id": "tzKor02BCe_d"
      },
      "source": [
        "np.set_printoptions(precision= 3)"
      ],
      "execution_count": 7,
      "outputs": []
    },
    {
      "cell_type": "markdown",
      "metadata": {
        "id": "M5V4KopjLWOL"
      },
      "source": [
        "### 1. Carregar os dados"
      ]
    },
    {
      "cell_type": "markdown",
      "metadata": {
        "id": "V_cwAUW3tseE"
      },
      "source": [
        "[**Python**] - Carregar os dados:"
      ]
    },
    {
      "cell_type": "code",
      "metadata": {
        "id": "_Bs87IWPtwtm"
      },
      "source": [
        "# Leitura do dataframe:\n",
        "df = pd.read_csv('/total_9.csv')"
      ],
      "execution_count": 8,
      "outputs": []
    },
    {
      "cell_type": "code",
      "metadata": {
        "id": "myhgteQhdqVi"
      },
      "source": [
        "df_total = df.copy()"
      ],
      "execution_count": 129,
      "outputs": []
    },
    {
      "cell_type": "code",
      "metadata": {
        "id": "0MfQNbWvfUkK"
      },
      "source": [
        "df_total.set_index('id', inplace=True)"
      ],
      "execution_count": 130,
      "outputs": []
    },
    {
      "cell_type": "markdown",
      "metadata": {
        "id": "6LXKr9-R_JIK"
      },
      "source": [
        "Retirando algumas colunas para testar"
      ]
    },
    {
      "cell_type": "code",
      "metadata": {
        "id": "aVnISOiD-xRk"
      },
      "source": [
        "df_total.drop(columns = ['cnae2','md1', 'md2', 'md3', 'md4', 'md5', 'md6', 'md7', 'md8',\n",
        "       'md9', 'md10', 'md11', 'md12', 'mc1', 'mc2', 'mc3', 'mc4'], inplace = True)"
      ],
      "execution_count": 131,
      "outputs": []
    },
    {
      "cell_type": "code",
      "metadata": {
        "colab": {
          "base_uri": "https://localhost:8080/"
        },
        "id": "IHt2y_5IHtRH",
        "outputId": "684e1e4d-b428-45ff-f74d-527a59c72d1a"
      },
      "source": [
        "df_total.columns"
      ],
      "execution_count": 132,
      "outputs": [
        {
          "output_type": "execute_result",
          "data": {
            "text/plain": [
              "Index(['rf2', 'ind01', 'ind02', 'ind03', 'ind04', 'ind05', 'ind06', 'ind07',\n",
              "       'ind08', 'ind09', 'ind10', 'ind11', 'ind12', 'ind13', 'ind14', 'ind15',\n",
              "       'ind16', 'ind17', 'ind18', 'ind19', 'ind20', 'ind21', 'ind22', 'ind23',\n",
              "       'ind24', 'ind25', 'ind26', 'ind27', 'ind28', 'ind29', 'ind30', 'ind31',\n",
              "       'ind32', 'ind33', 'ind34', 'ind35', 'ind36', 'ind37', 'ind38', 'ind39',\n",
              "       'ind40', 'ind41', 'ind42', 'ind43', 'target', 'cnae_secao',\n",
              "       'l_ind_1_mv', 'l_ind_2_mv', 'l_mc_1_mv', 'md1_o', 'md2_o', 'md3_o',\n",
              "       'md4_o', 'md5_o', 'md7_o', 'md8_o', 'md9_o', 'md10_o', 'md12_o',\n",
              "       'mc1_o', 'mc3_o', 'mc4_o'],\n",
              "      dtype='object')"
            ]
          },
          "metadata": {
            "tags": []
          },
          "execution_count": 132
        }
      ]
    },
    {
      "cell_type": "markdown",
      "metadata": {
        "id": "e_0lkPsR_mFp"
      },
      "source": [
        "GET DUMMIES"
      ]
    },
    {
      "cell_type": "code",
      "metadata": {
        "id": "rN72uIGk_jMI"
      },
      "source": [
        "df_total = pd.get_dummies(df_total)"
      ],
      "execution_count": 133,
      "outputs": []
    },
    {
      "cell_type": "code",
      "metadata": {
        "id": "9gYa3Hy6lrZi"
      },
      "source": [
        "X_treino = df_total[df_total['target']!= 2]"
      ],
      "execution_count": 134,
      "outputs": []
    },
    {
      "cell_type": "code",
      "metadata": {
        "id": "yg2bUeleJctL"
      },
      "source": [
        "df_X=X_treino.copy()"
      ],
      "execution_count": 135,
      "outputs": []
    },
    {
      "cell_type": "code",
      "metadata": {
        "id": "Q5tB1ey7eAe4"
      },
      "source": [
        "df_y = df_X['target']\n",
        "df_X = df_X.drop(columns= ['target'])"
      ],
      "execution_count": 136,
      "outputs": []
    },
    {
      "cell_type": "code",
      "metadata": {
        "id": "i8_BlpeteJow"
      },
      "source": [
        "X_test = df_total[df_total['target']== 2].drop(columns= ['target'])"
      ],
      "execution_count": 137,
      "outputs": []
    },
    {
      "cell_type": "markdown",
      "metadata": {
        "id": "QG86P2_RIqiz"
      },
      "source": [
        "Tratando o Balanceamento da Amostra"
      ]
    },
    {
      "cell_type": "code",
      "metadata": {
        "id": "0fNYOL_PLMMQ",
        "colab": {
          "base_uri": "https://localhost:8080/"
        },
        "outputId": "c311ab8f-a274-4a51-ce9b-5c7e099dba5d"
      },
      "source": [
        "qtd = Counter(X_treino['target'])\n",
        "qtd"
      ],
      "execution_count": 138,
      "outputs": [
        {
          "output_type": "execute_result",
          "data": {
            "text/plain": [
              "Counter({0: 8513, 1: 2520})"
            ]
          },
          "metadata": {
            "tags": []
          },
          "execution_count": 138
        }
      ]
    },
    {
      "cell_type": "code",
      "metadata": {
        "id": "S9SLjncvizFs",
        "colab": {
          "base_uri": "https://localhost:8080/"
        },
        "outputId": "3e0f2bd2-e20a-4803-b6fb-8cda8bf2cfbd"
      },
      "source": [
        "np.round(100*qtd[1]/qtd[0], 4)"
      ],
      "execution_count": 139,
      "outputs": [
        {
          "output_type": "execute_result",
          "data": {
            "text/plain": [
              "29.6018"
            ]
          },
          "metadata": {
            "tags": []
          },
          "execution_count": 139
        }
      ]
    },
    {
      "cell_type": "code",
      "metadata": {
        "id": "kbQDKCyo_RTs"
      },
      "source": [
        "from imblearn.under_sampling import RandomUnderSampler"
      ],
      "execution_count": 140,
      "outputs": []
    },
    {
      "cell_type": "code",
      "metadata": {
        "id": "dLuoImU9-sGx"
      },
      "source": [
        "over = SMOTE(sampling_strategy = 0.5) # Reamostrar a classe minoritária para ter 10% da classe majoritária\n",
        "under = RandomUnderSampler(sampling_strategy = 0.85) # Seleciona a classe majoritária para ter 50%"
      ],
      "execution_count": 141,
      "outputs": []
    },
    {
      "cell_type": "markdown",
      "metadata": {
        "id": "o4WdMzQ6-iV1"
      },
      "source": [
        "Usando um Pileline"
      ]
    },
    {
      "cell_type": "code",
      "metadata": {
        "id": "8Hr38-lR_WaG"
      },
      "source": [
        "from imblearn.pipeline import Pipeline"
      ],
      "execution_count": 142,
      "outputs": []
    },
    {
      "cell_type": "code",
      "metadata": {
        "id": "NY0quIhW5bGe"
      },
      "source": [
        "steps = [('over', over), ('under', under)]\n",
        "pipeline = Pipeline(steps = steps)"
      ],
      "execution_count": 143,
      "outputs": []
    },
    {
      "cell_type": "markdown",
      "metadata": {
        "id": "E57PQ3isuGGM"
      },
      "source": [
        "df_X e df_y são nossos dataframes originais."
      ]
    },
    {
      "cell_type": "code",
      "metadata": {
        "id": "0viVAtDs5bKs",
        "colab": {
          "base_uri": "https://localhost:8080/"
        },
        "outputId": "6a353851-8559-4c99-f3f4-72c86efcf525"
      },
      "source": [
        "# Aplica o pipeline\n",
        "X, y = pipeline.fit_resample(df_X, df_y)"
      ],
      "execution_count": 144,
      "outputs": [
        {
          "output_type": "stream",
          "text": [
            "/usr/local/lib/python3.6/dist-packages/sklearn/utils/deprecation.py:87: FutureWarning: Function safe_indexing is deprecated; safe_indexing is deprecated in version 0.22 and will be removed in version 0.24.\n",
            "  warnings.warn(msg, category=FutureWarning)\n",
            "/usr/local/lib/python3.6/dist-packages/sklearn/utils/deprecation.py:87: FutureWarning: Function safe_indexing is deprecated; safe_indexing is deprecated in version 0.22 and will be removed in version 0.24.\n",
            "  warnings.warn(msg, category=FutureWarning)\n"
          ],
          "name": "stderr"
        }
      ]
    },
    {
      "cell_type": "markdown",
      "metadata": {
        "id": "IjqfnKY3uYeU"
      },
      "source": [
        "Antes:"
      ]
    },
    {
      "cell_type": "code",
      "metadata": {
        "id": "iIMZ9UgGQEq0",
        "colab": {
          "base_uri": "https://localhost:8080/"
        },
        "outputId": "39c8564c-43e1-43d6-a8e1-9d67f37ee780"
      },
      "source": [
        "Counter(df_y)"
      ],
      "execution_count": 145,
      "outputs": [
        {
          "output_type": "execute_result",
          "data": {
            "text/plain": [
              "Counter({0: 8513, 1: 2520})"
            ]
          },
          "metadata": {
            "tags": []
          },
          "execution_count": 145
        }
      ]
    },
    {
      "cell_type": "markdown",
      "metadata": {
        "id": "hNpOBtw5ucEh"
      },
      "source": [
        "Depois:"
      ]
    },
    {
      "cell_type": "code",
      "metadata": {
        "id": "TYMLs88_QI9k",
        "colab": {
          "base_uri": "https://localhost:8080/"
        },
        "outputId": "f5a97e3e-b8d7-4326-b72d-fe370d0cf3ae"
      },
      "source": [
        "qtd_d = Counter(y)\n",
        "qtd_d"
      ],
      "execution_count": 146,
      "outputs": [
        {
          "output_type": "execute_result",
          "data": {
            "text/plain": [
              "Counter({0: 5007, 1: 4256})"
            ]
          },
          "metadata": {
            "tags": []
          },
          "execution_count": 146
        }
      ]
    },
    {
      "cell_type": "code",
      "metadata": {
        "id": "Zq57ZUBJT4qD"
      },
      "source": [
        "X_2 = np.array(X)\n",
        "y_2 = y"
      ],
      "execution_count": 147,
      "outputs": []
    },
    {
      "cell_type": "code",
      "metadata": {
        "id": "2WHEPLGeSuJL",
        "colab": {
          "base_uri": "https://localhost:8080/",
          "height": 265
        },
        "outputId": "1faa693a-dc04-4916-bac3-2b70cb50bb8a"
      },
      "source": [
        "# scatter plot\n",
        "for label, _ in qtd_d.items():\n",
        "\trow_ix = np.where(y == label)[0]\n",
        "\tplt.scatter(X[row_ix, 0], X[row_ix, 1], label=str(label))\n",
        "plt.legend()\n",
        "plt.show()"
      ],
      "execution_count": 148,
      "outputs": [
        {
          "output_type": "display_data",
          "data": {
            "image/png": "[encoded data removed]",
            "text/plain": [
              "<Figure size 432x288 with 1 Axes>"
            ]
          },
          "metadata": {
            "tags": [],
            "needs_background": "light"
          }
        }
      ]
    },
    {
      "cell_type": "code",
      "metadata": {
        "id": "JgbhWi-mRMkH"
      },
      "source": [
        "from sklearn.model_selection import StratifiedKFold\n",
        "from sklearn.model_selection import cross_val_score"
      ],
      "execution_count": 149,
      "outputs": []
    },
    {
      "cell_type": "markdown",
      "metadata": {
        "id": "2bL-vXiULupD"
      },
      "source": [
        "### 4. Definir a arquitetura da Rede Neural com _Tensorflow_/_Keras_"
      ]
    },
    {
      "cell_type": "markdown",
      "metadata": {
        "id": "zxETX6dTfyU5"
      },
      "source": [
        "[**Python**] - Definir a arquitetura, ou seja:\n",
        "* $N_{I}$: Número de neurônios na camada de entrada (_Input Layer_);\n",
        "* $N_{O}$: Número de neurônios na camada de saída (_Output Layer_);\n",
        "* $N_{H}$: Número de neurônios na camada escondida (_Hidden Layer_);\n",
        "* FA: Função de ativação;"
      ]
    },
    {
      "cell_type": "code",
      "metadata": {
        "id": "F_MdsLicfyU6"
      },
      "source": [
        "# Número de Neurônios na Input Layer:\n",
        "N_I = 88\n",
        "\n",
        "# Número de neurônios na Output Layer:\n",
        "N_O = 1\n",
        "\n",
        "# Número de neurônios na Hidden Layer:\n",
        "N_H = 400\n",
        "\n",
        "N_H2 = 200\n",
        "\n",
        "N_H3=100\n",
        "\n",
        "N_H4 = 50\n",
        "\n",
        "N_H5 = 25\n",
        "\n",
        "N_H6 = 2\n",
        "\n",
        "# Função de Ativação da Hidden Layer:\n",
        "FA_H = tf.nn.leaky_relu\n",
        "#FA_H = tf.keras.activations.swish\n",
        "\n",
        "# Função de Ativação da Output Layer:\n",
        "FA_O = tf.keras.activations.sigmoid\n",
        "\n",
        "\n"
      ],
      "execution_count": 167,
      "outputs": []
    },
    {
      "cell_type": "markdown",
      "metadata": {
        "id": "SUMmDuPCcYyB"
      },
      "source": [
        "[**Python**] - Definir as sementes para NumPy e Tensorflow:\n",
        "> Por questões de reproducibilidade de resultados, use as sementes abaixo:\n",
        "\n",
        "* NumPy: 20111974;\n",
        "* Tensorflow: 20111974;"
      ]
    },
    {
      "cell_type": "code",
      "metadata": {
        "id": "T-echOBmceVy"
      },
      "source": [
        "np.random.seed(19800922)\n",
        "tf.random.set_seed(22091980)"
      ],
      "execution_count": 151,
      "outputs": []
    },
    {
      "cell_type": "markdown",
      "metadata": {
        "id": "7ZceRRdinEM2"
      },
      "source": [
        "\n",
        "[**Python**] - Definir a Rede Neural:"
      ]
    },
    {
      "cell_type": "markdown",
      "metadata": {
        "id": "nXQsSYq2DBfI"
      },
      "source": [
        "\n",
        "\n",
        "\n",
        "\n",
        "* 1 camada _dropout_ com $p= 0.1$:"
      ]
    },
    {
      "cell_type": "markdown",
      "metadata": {
        "id": "4JBZf4ypGO8o"
      },
      "source": [
        "### 5. Compilar a Rede Neural\n",
        "\n",
        "Este é um problema de classificação binária (_Male_ ou _Female_). Portanto, temos:\n",
        "* optimizer= tf.keras.optimizers.Adam();\n",
        "* loss=  tf.keras.losses.MeanSquaredError() ou loss= tf.keras.losses.BinaryCrossentropy(). Particularmente, eu gosto de usar loss=  tf.keras.losses.MeanSquaredError() porque o resultado é mais intuitivo;\n",
        "* metrics= tf.keras.metrics.binary_accuracy."
      ]
    },
    {
      "cell_type": "markdown",
      "metadata": {
        "id": "USmAuw6f00wL"
      },
      "source": [
        "[**Python**] - Comando modelo.compile(optimizer, loss, metrics):"
      ]
    },
    {
      "cell_type": "code",
      "metadata": {
        "id": "h7KEi1_e6SSF"
      },
      "source": [
        "Algoritmo_Opt = tf.keras.optimizers.Adamax()\n",
        "#Algoritmo_Opt = tf.keras.optimizers.Adam(learning_rate=0.01, beta_1=0.8, beta_2=0.99, epsilon=1e-07 , amsgrad=True,     name='Adam')\n",
        "Loss_Function = tf.keras.losses.MeanSquaredError()\n",
        "Metrics_Perf = tf.keras.metrics.binary_accuracy\n",
        "#RN.compile(optimizer = Algoritmo_Opt, loss = Loss_Function,metrics = Metrics_Perf)\n",
        "#RN.compile( loss = Loss_Function,metrics = Metrics_Perf)"
      ],
      "execution_count": 168,
      "outputs": []
    },
    {
      "cell_type": "code",
      "metadata": {
        "id": "ADljb1ii4Y1i"
      },
      "source": [
        "def create_model():\n",
        "  RN= Sequential()\n",
        "  RN.add(Dense(N_H, input_dim= N_I, kernel_initializer= tf.keras.initializers.GlorotNormal(), activation= FA_H, kernel_constraint= tf.keras.constraints.UnitNorm()))\n",
        "  RN.add(Dropout(0.1))\n",
        "  RN.add(Dense(N_H2, kernel_initializer= tf.keras.initializers.GlorotNormal(), activation= FA_H, kernel_constraint= tf.keras.constraints.UnitNorm()))\n",
        "  RN.add(Dropout(0.1))\n",
        "  RN.add(Dense(N_H3, kernel_initializer= tf.keras.initializers.GlorotNormal(), activation= FA_H, kernel_constraint= tf.keras.constraints.UnitNorm()))\n",
        "  RN.add(Dropout(0.1))\n",
        "  RN.add(Dense(N_H4, kernel_initializer= tf.keras.initializers.GlorotNormal(), activation= FA_H, kernel_constraint= tf.keras.constraints.UnitNorm()))\n",
        "  RN.add(Dropout(0.1))\n",
        "  RN.add(Dense(N_H5, kernel_initializer= tf.keras.initializers.GlorotNormal(), activation= FA_H, kernel_constraint= tf.keras.constraints.UnitNorm()))\n",
        "  RN.add(Dropout(0.1))\n",
        "  #RN.add(Dense(N_H6, kernel_initializer= tf.keras.initializers.GlorotNormal(), activation= FA_H, kernel_constraint= tf.keras.constraints.UnitNorm()))\n",
        "  #RN.add(Dropout(0.1))\n",
        "  RN.add(Dense(units= N_O, activation= FA_O))\n",
        "  RN.compile(optimizer = Algoritmo_Opt, loss = Loss_Function,metrics = Metrics_Perf)\n",
        "  return RN\n"
      ],
      "execution_count": 169,
      "outputs": []
    },
    {
      "cell_type": "code",
      "metadata": {
        "id": "kzMDqCJMVYXg"
      },
      "source": [
        "# evaluate pipeline\n",
        "cv = RepeatedStratifiedKFold(n_splits = 10, n_repeats = 3, random_state = 20111974)\n",
        "#cv = StratifiedKFold(n_splits = 10, random_state = 20111974)\n",
        "\n"
      ],
      "execution_count": 170,
      "outputs": []
    },
    {
      "cell_type": "code",
      "metadata": {
        "id": "659LKtlh2piL"
      },
      "source": [
        "model = KerasClassifier(build_fn=create_model, verbose =1)"
      ],
      "execution_count": 171,
      "outputs": []
    },
    {
      "cell_type": "code",
      "metadata": {
        "id": "ZAMiBzPBjGre",
        "colab": {
          "base_uri": "https://localhost:8080/"
        },
        "outputId": "bdb5c035-d0b5-40e5-b1f4-54eae3a87fe6"
      },
      "source": [
        "scores = cross_val_score(model, X_2, y_2, scoring = 'f1_macro', cv = cv, n_jobs = -1,fit_params= {'epochs': 100,'batch_size': 20})\n",
        "scores\n"
      ],
      "execution_count": 172,
      "outputs": [
        {
          "output_type": "execute_result",
          "data": {
            "text/plain": [
              "array([0.758, 0.746, 0.748, 0.737, 0.728, 0.753, 0.758, 0.765, 0.76 ,\n",
              "       0.727, 0.768, 0.746, 0.74 , 0.771, 0.73 , 0.768, 0.785, 0.737,\n",
              "       0.752, 0.738, 0.755, 0.732, 0.752, 0.741, 0.756, 0.768, 0.739,\n",
              "       0.775, 0.757, 0.755])"
            ]
          },
          "metadata": {
            "tags": []
          },
          "execution_count": 172
        }
      ]
    },
    {
      "cell_type": "code",
      "metadata": {
        "id": "MYHfbZtuZbab",
        "colab": {
          "base_uri": "https://localhost:8080/"
        },
        "outputId": "38b3def2-6e6a-4e43-f9a8-286a41a7c753"
      },
      "source": [
        "scores.mean()"
      ],
      "execution_count": 173,
      "outputs": [
        {
          "output_type": "execute_result",
          "data": {
            "text/plain": [
              "0.7514567733575961"
            ]
          },
          "metadata": {
            "tags": []
          },
          "execution_count": 173
        }
      ]
    },
    {
      "cell_type": "code",
      "metadata": {
        "id": "iMzGm9uzZs6f",
        "colab": {
          "base_uri": "https://localhost:8080/"
        },
        "outputId": "ef955471-4feb-47ab-939f-e3cbcb870ca2"
      },
      "source": [
        "scores.std()"
      ],
      "execution_count": 174,
      "outputs": [
        {
          "output_type": "execute_result",
          "data": {
            "text/plain": [
              "0.014431512281571902"
            ]
          },
          "metadata": {
            "tags": []
          },
          "execution_count": 174
        }
      ]
    },
    {
      "cell_type": "code",
      "metadata": {
        "id": "qF_jXSWz6h_9",
        "colab": {
          "base_uri": "https://localhost:8080/"
        },
        "outputId": "373054a7-6b10-40ca-94a4-e90ef6117dc8"
      },
      "source": [
        "print(scores.mean(),scores.std())"
      ],
      "execution_count": 175,
      "outputs": [
        {
          "output_type": "stream",
          "text": [
            "0.7514567733575961 0.014431512281571902\n"
          ],
          "name": "stdout"
        }
      ]
    },
    {
      "cell_type": "code",
      "metadata": {
        "id": "uCDmaW2XZav7"
      },
      "source": [
        ""
      ],
      "execution_count": null,
      "outputs": []
    },
    {
      "cell_type": "markdown",
      "metadata": {
        "id": "Hc90EeV_GojX"
      },
      "source": [
        "### 6. Ajustar a Rede Neural\n",
        "\n",
        "Obs.: A opção callbacks abaixo implementa o conceito de _early stopping_. Esta opção vai parar o processo de treinamento da Rede Neural antes de atingirmos o númerco de _epochs_ quando o modelo pára de melhorar, medido pela métrica val_loss. O parâmetro _patience_= k significa que o processo de otimização vai parar se tivermos k _epochs_ consecutivas sem observarmos melhoria da performance da Rede Neural."
      ]
    },
    {
      "cell_type": "markdown",
      "metadata": {
        "id": "XCCTtUh_vEFP"
      },
      "source": [
        "[**Python**] - Comando modelo.fit(X_treinamento, y_treinamento, epochs)"
      ]
    },
    {
      "cell_type": "code",
      "metadata": {
        "id": "_1Las8b6KOg4"
      },
      "source": [
        "model = KerasClassifier(build_fn=create_model, verbose =1)"
      ],
      "execution_count": 121,
      "outputs": []
    },
    {
      "cell_type": "code",
      "metadata": {
        "id": "EB91J6nrF0db",
        "colab": {
          "base_uri": "https://localhost:8080/"
        },
        "outputId": "826b67d2-cbda-46e2-eacc-1e12facff47f"
      },
      "source": [
        "#callbacks = [tf.keras.callbacks.EarlyStopping(monitor = 'loss', patience = 10, min_delta = 0.001)]\n",
        "#hist= model.fit(X, y, epochs = 100, callbacks = callbacks, batch_size = 20)\n",
        "hist= model.fit(X, y, epochs = 100, batch_size = 20)"
      ],
      "execution_count": 176,
      "outputs": [
        {
          "output_type": "stream",
          "text": [
            "Epoch 1/100\n",
            "464/464 [==============================] - 2s 3ms/step - loss: 0.2161 - binary_accuracy: 0.6445\n",
            "Epoch 2/100\n",
            "464/464 [==============================] - 2s 4ms/step - loss: 0.2037 - binary_accuracy: 0.6761\n",
            "Epoch 3/100\n",
            "464/464 [==============================] - 2s 4ms/step - loss: 0.1987 - binary_accuracy: 0.6876\n",
            "Epoch 4/100\n",
            "464/464 [==============================] - 2s 3ms/step - loss: 0.1946 - binary_accuracy: 0.6950\n",
            "Epoch 5/100\n",
            "464/464 [==============================] - 2s 3ms/step - loss: 0.1908 - binary_accuracy: 0.7078\n",
            "Epoch 6/100\n",
            "464/464 [==============================] - 2s 3ms/step - loss: 0.1861 - binary_accuracy: 0.7165\n",
            "Epoch 7/100\n",
            "464/464 [==============================] - 2s 3ms/step - loss: 0.1797 - binary_accuracy: 0.7283\n",
            "Epoch 8/100\n",
            "464/464 [==============================] - 2s 4ms/step - loss: 0.1750 - binary_accuracy: 0.7387\n",
            "Epoch 9/100\n",
            "464/464 [==============================] - 2s 3ms/step - loss: 0.1713 - binary_accuracy: 0.7486\n",
            "Epoch 10/100\n",
            "464/464 [==============================] - 2s 3ms/step - loss: 0.1670 - binary_accuracy: 0.7576\n",
            "Epoch 11/100\n",
            "464/464 [==============================] - 2s 4ms/step - loss: 0.1594 - binary_accuracy: 0.7731\n",
            "Epoch 12/100\n",
            "464/464 [==============================] - 2s 4ms/step - loss: 0.1554 - binary_accuracy: 0.7757\n",
            "Epoch 13/100\n",
            "464/464 [==============================] - 2s 3ms/step - loss: 0.1521 - binary_accuracy: 0.7811\n",
            "Epoch 14/100\n",
            "464/464 [==============================] - 2s 4ms/step - loss: 0.1473 - binary_accuracy: 0.7926\n",
            "Epoch 15/100\n",
            "464/464 [==============================] - 2s 3ms/step - loss: 0.1441 - binary_accuracy: 0.7979\n",
            "Epoch 16/100\n",
            "464/464 [==============================] - 2s 3ms/step - loss: 0.1392 - binary_accuracy: 0.8038\n",
            "Epoch 17/100\n",
            "464/464 [==============================] - 2s 3ms/step - loss: 0.1374 - binary_accuracy: 0.8058\n",
            "Epoch 18/100\n",
            "464/464 [==============================] - 2s 4ms/step - loss: 0.1362 - binary_accuracy: 0.8127\n",
            "Epoch 19/100\n",
            "464/464 [==============================] - 2s 3ms/step - loss: 0.1307 - binary_accuracy: 0.8198\n",
            "Epoch 20/100\n",
            "464/464 [==============================] - 1s 3ms/step - loss: 0.1281 - binary_accuracy: 0.8225\n",
            "Epoch 21/100\n",
            "464/464 [==============================] - 2s 3ms/step - loss: 0.1283 - binary_accuracy: 0.8228\n",
            "Epoch 22/100\n",
            "464/464 [==============================] - 2s 3ms/step - loss: 0.1216 - binary_accuracy: 0.8330\n",
            "Epoch 23/100\n",
            "464/464 [==============================] - 2s 3ms/step - loss: 0.1178 - binary_accuracy: 0.8386\n",
            "Epoch 24/100\n",
            "464/464 [==============================] - 2s 3ms/step - loss: 0.1125 - binary_accuracy: 0.8470\n",
            "Epoch 25/100\n",
            "464/464 [==============================] - 2s 4ms/step - loss: 0.1145 - binary_accuracy: 0.8416\n",
            "Epoch 26/100\n",
            "464/464 [==============================] - 2s 3ms/step - loss: 0.1097 - binary_accuracy: 0.8519\n",
            "Epoch 27/100\n",
            "464/464 [==============================] - 2s 3ms/step - loss: 0.1086 - binary_accuracy: 0.8556\n",
            "Epoch 28/100\n",
            "464/464 [==============================] - 2s 3ms/step - loss: 0.1101 - binary_accuracy: 0.8507\n",
            "Epoch 29/100\n",
            "464/464 [==============================] - 2s 3ms/step - loss: 0.1038 - binary_accuracy: 0.8644\n",
            "Epoch 30/100\n",
            "464/464 [==============================] - 2s 4ms/step - loss: 0.1023 - binary_accuracy: 0.8629\n",
            "Epoch 31/100\n",
            "464/464 [==============================] - 2s 3ms/step - loss: 0.0986 - binary_accuracy: 0.8693\n",
            "Epoch 32/100\n",
            "464/464 [==============================] - 2s 4ms/step - loss: 0.0984 - binary_accuracy: 0.8662\n",
            "Epoch 33/100\n",
            "464/464 [==============================] - 2s 3ms/step - loss: 0.0958 - binary_accuracy: 0.8730\n",
            "Epoch 34/100\n",
            "464/464 [==============================] - 2s 3ms/step - loss: 0.0923 - binary_accuracy: 0.8779\n",
            "Epoch 35/100\n",
            "464/464 [==============================] - 2s 3ms/step - loss: 0.0938 - binary_accuracy: 0.8757\n",
            "Epoch 36/100\n",
            "464/464 [==============================] - 2s 3ms/step - loss: 0.0894 - binary_accuracy: 0.8802\n",
            "Epoch 37/100\n",
            "464/464 [==============================] - 2s 3ms/step - loss: 0.0900 - binary_accuracy: 0.8798\n",
            "Epoch 38/100\n",
            "464/464 [==============================] - 2s 3ms/step - loss: 0.0879 - binary_accuracy: 0.8811\n",
            "Epoch 39/100\n",
            "464/464 [==============================] - 2s 4ms/step - loss: 0.0894 - binary_accuracy: 0.8810\n",
            "Epoch 40/100\n",
            "464/464 [==============================] - 2s 3ms/step - loss: 0.0843 - binary_accuracy: 0.8878\n",
            "Epoch 41/100\n",
            "464/464 [==============================] - 2s 3ms/step - loss: 0.0817 - binary_accuracy: 0.8941\n",
            "Epoch 42/100\n",
            "464/464 [==============================] - 2s 3ms/step - loss: 0.0824 - binary_accuracy: 0.8890\n",
            "Epoch 43/100\n",
            "464/464 [==============================] - 2s 3ms/step - loss: 0.0801 - binary_accuracy: 0.8940\n",
            "Epoch 44/100\n",
            "464/464 [==============================] - 2s 3ms/step - loss: 0.0823 - binary_accuracy: 0.8933\n",
            "Epoch 45/100\n",
            "464/464 [==============================] - 2s 3ms/step - loss: 0.0812 - binary_accuracy: 0.8926\n",
            "Epoch 46/100\n",
            "464/464 [==============================] - 2s 3ms/step - loss: 0.0763 - binary_accuracy: 0.9001\n",
            "Epoch 47/100\n",
            "464/464 [==============================] - 2s 3ms/step - loss: 0.0755 - binary_accuracy: 0.9024\n",
            "Epoch 48/100\n",
            "464/464 [==============================] - 2s 4ms/step - loss: 0.0754 - binary_accuracy: 0.9008\n",
            "Epoch 49/100\n",
            "464/464 [==============================] - 2s 3ms/step - loss: 0.0738 - binary_accuracy: 0.9031\n",
            "Epoch 50/100\n",
            "464/464 [==============================] - 2s 3ms/step - loss: 0.0732 - binary_accuracy: 0.9013\n",
            "Epoch 51/100\n",
            "464/464 [==============================] - 2s 3ms/step - loss: 0.0728 - binary_accuracy: 0.9038\n",
            "Epoch 52/100\n",
            "464/464 [==============================] - 2s 3ms/step - loss: 0.0724 - binary_accuracy: 0.9047\n",
            "Epoch 53/100\n",
            "464/464 [==============================] - 2s 3ms/step - loss: 0.0687 - binary_accuracy: 0.9085\n",
            "Epoch 54/100\n",
            "464/464 [==============================] - 2s 3ms/step - loss: 0.0679 - binary_accuracy: 0.9101\n",
            "Epoch 55/100\n",
            "464/464 [==============================] - 2s 3ms/step - loss: 0.0678 - binary_accuracy: 0.9129\n",
            "Epoch 56/100\n",
            "464/464 [==============================] - 2s 3ms/step - loss: 0.0667 - binary_accuracy: 0.9118\n",
            "Epoch 57/100\n",
            "464/464 [==============================] - 2s 3ms/step - loss: 0.0643 - binary_accuracy: 0.9170\n",
            "Epoch 58/100\n",
            "464/464 [==============================] - 2s 3ms/step - loss: 0.0647 - binary_accuracy: 0.9164\n",
            "Epoch 59/100\n",
            "464/464 [==============================] - 2s 3ms/step - loss: 0.0633 - binary_accuracy: 0.9184\n",
            "Epoch 60/100\n",
            "464/464 [==============================] - 2s 3ms/step - loss: 0.0621 - binary_accuracy: 0.9199\n",
            "Epoch 61/100\n",
            "464/464 [==============================] - 2s 3ms/step - loss: 0.0638 - binary_accuracy: 0.9167\n",
            "Epoch 62/100\n",
            "464/464 [==============================] - 2s 3ms/step - loss: 0.0631 - binary_accuracy: 0.9172\n",
            "Epoch 63/100\n",
            "464/464 [==============================] - 2s 3ms/step - loss: 0.0624 - binary_accuracy: 0.9192\n",
            "Epoch 64/100\n",
            "464/464 [==============================] - 2s 3ms/step - loss: 0.0573 - binary_accuracy: 0.9273\n",
            "Epoch 65/100\n",
            "464/464 [==============================] - 2s 3ms/step - loss: 0.0587 - binary_accuracy: 0.9252\n",
            "Epoch 66/100\n",
            "464/464 [==============================] - 2s 3ms/step - loss: 0.0581 - binary_accuracy: 0.9262\n",
            "Epoch 67/100\n",
            "464/464 [==============================] - 2s 3ms/step - loss: 0.0566 - binary_accuracy: 0.9276\n",
            "Epoch 68/100\n",
            "464/464 [==============================] - 2s 3ms/step - loss: 0.0571 - binary_accuracy: 0.9255\n",
            "Epoch 69/100\n",
            "464/464 [==============================] - 2s 3ms/step - loss: 0.0591 - binary_accuracy: 0.9223\n",
            "Epoch 70/100\n",
            "464/464 [==============================] - 2s 3ms/step - loss: 0.0595 - binary_accuracy: 0.9219\n",
            "Epoch 71/100\n",
            "464/464 [==============================] - 2s 3ms/step - loss: 0.0558 - binary_accuracy: 0.9265\n",
            "Epoch 72/100\n",
            "464/464 [==============================] - 2s 3ms/step - loss: 0.0560 - binary_accuracy: 0.9280\n",
            "Epoch 73/100\n",
            "464/464 [==============================] - 1s 3ms/step - loss: 0.0552 - binary_accuracy: 0.9284\n",
            "Epoch 74/100\n",
            "464/464 [==============================] - 2s 3ms/step - loss: 0.0538 - binary_accuracy: 0.9309\n",
            "Epoch 75/100\n",
            "464/464 [==============================] - 2s 3ms/step - loss: 0.0527 - binary_accuracy: 0.9314\n",
            "Epoch 76/100\n",
            "464/464 [==============================] - 3s 7ms/step - loss: 0.0534 - binary_accuracy: 0.9330\n",
            "Epoch 77/100\n",
            "464/464 [==============================] - 3s 7ms/step - loss: 0.0532 - binary_accuracy: 0.9304\n",
            "Epoch 78/100\n",
            "464/464 [==============================] - 4s 8ms/step - loss: 0.0520 - binary_accuracy: 0.9331\n",
            "Epoch 79/100\n",
            "464/464 [==============================] - 3s 6ms/step - loss: 0.0511 - binary_accuracy: 0.9352\n",
            "Epoch 80/100\n",
            "464/464 [==============================] - 2s 3ms/step - loss: 0.0498 - binary_accuracy: 0.9359\n",
            "Epoch 81/100\n",
            "464/464 [==============================] - 2s 3ms/step - loss: 0.0493 - binary_accuracy: 0.9372\n",
            "Epoch 82/100\n",
            "464/464 [==============================] - 2s 3ms/step - loss: 0.0514 - binary_accuracy: 0.9338\n",
            "Epoch 83/100\n",
            "464/464 [==============================] - 2s 3ms/step - loss: 0.0511 - binary_accuracy: 0.9347\n",
            "Epoch 84/100\n",
            "464/464 [==============================] - 2s 3ms/step - loss: 0.0497 - binary_accuracy: 0.9357\n",
            "Epoch 85/100\n",
            "464/464 [==============================] - 2s 3ms/step - loss: 0.0467 - binary_accuracy: 0.9393\n",
            "Epoch 86/100\n",
            "464/464 [==============================] - 2s 3ms/step - loss: 0.0472 - binary_accuracy: 0.9404\n",
            "Epoch 87/100\n",
            "464/464 [==============================] - 2s 3ms/step - loss: 0.0483 - binary_accuracy: 0.9349\n",
            "Epoch 88/100\n",
            "464/464 [==============================] - 2s 3ms/step - loss: 0.0486 - binary_accuracy: 0.9363\n",
            "Epoch 89/100\n",
            "464/464 [==============================] - 2s 3ms/step - loss: 0.0472 - binary_accuracy: 0.9394\n",
            "Epoch 90/100\n",
            "464/464 [==============================] - 2s 3ms/step - loss: 0.0491 - binary_accuracy: 0.9370\n",
            "Epoch 91/100\n",
            "464/464 [==============================] - 2s 3ms/step - loss: 0.0475 - binary_accuracy: 0.9387\n",
            "Epoch 92/100\n",
            "464/464 [==============================] - 2s 3ms/step - loss: 0.0466 - binary_accuracy: 0.9405\n",
            "Epoch 93/100\n",
            "464/464 [==============================] - 2s 3ms/step - loss: 0.0450 - binary_accuracy: 0.9436\n",
            "Epoch 94/100\n",
            "464/464 [==============================] - 2s 3ms/step - loss: 0.0465 - binary_accuracy: 0.9389\n",
            "Epoch 95/100\n",
            "464/464 [==============================] - 2s 3ms/step - loss: 0.0459 - binary_accuracy: 0.9388\n",
            "Epoch 96/100\n",
            "464/464 [==============================] - 2s 3ms/step - loss: 0.0440 - binary_accuracy: 0.9424\n",
            "Epoch 97/100\n",
            "464/464 [==============================] - 2s 3ms/step - loss: 0.0429 - binary_accuracy: 0.9458\n",
            "Epoch 98/100\n",
            "464/464 [==============================] - 2s 3ms/step - loss: 0.0448 - binary_accuracy: 0.9412\n",
            "Epoch 99/100\n",
            "464/464 [==============================] - 2s 3ms/step - loss: 0.0433 - binary_accuracy: 0.9453\n",
            "Epoch 100/100\n",
            "464/464 [==============================] - 2s 3ms/step - loss: 0.0420 - binary_accuracy: 0.9460\n"
          ],
          "name": "stdout"
        }
      ]
    },
    {
      "cell_type": "markdown",
      "metadata": {
        "id": "J1sL_DTrKmpq"
      },
      "source": [
        "### 7. Avaliar a performance da Rede Neural\n",
        "\n",
        "Para avaliar a a Rede Neural, simplesmente informamos as amostras de teste: X_teste e y_teste. A função evaluate() vai retornar uma lista contendo 2 valores: loss e accuracy."
      ]
    },
    {
      "cell_type": "markdown",
      "metadata": {
        "id": "VckQfEFPvMa7"
      },
      "source": [
        "[**Python**] - Comando modelo.evaluate(X_teste, y_teste)"
      ]
    },
    {
      "cell_type": "code",
      "metadata": {
        "colab": {
          "base_uri": "https://localhost:8080/"
        },
        "id": "fSg1XPsjX5Pt",
        "outputId": "b6b5f934-249d-4dd6-8a78-aa40cdbc2ec7"
      },
      "source": [
        "F1_Test=f1_score(y_teste, RN.predict_classes(X_teste), average=\"macro\")\n",
        "print(f'F1: {F1_Test}')"
      ],
      "execution_count": null,
      "outputs": [
        {
          "output_type": "stream",
          "text": [
            "F1: 0.7304770011664933\n"
          ],
          "name": "stdout"
        }
      ]
    },
    {
      "cell_type": "code",
      "metadata": {
        "id": "xiM_zEX6epou",
        "colab": {
          "base_uri": "https://localhost:8080/"
        },
        "outputId": "044c0b44-0c26-42d7-8b03-e3a14f68d769"
      },
      "source": [
        "RN.evaluate(df_X, df_y)"
      ],
      "execution_count": null,
      "outputs": [
        {
          "output_type": "stream",
          "text": [
            "345/345 [==============================] - 1s 2ms/step - loss: 0.1049 - binary_accuracy: 0.8668\n"
          ],
          "name": "stdout"
        },
        {
          "output_type": "execute_result",
          "data": {
            "text/plain": [
              "[0.10494696348905563, 0.8667633533477783]"
            ]
          },
          "metadata": {
            "tags": []
          },
          "execution_count": 283
        }
      ]
    },
    {
      "cell_type": "code",
      "metadata": {
        "colab": {
          "base_uri": "https://localhost:8080/"
        },
        "id": "yp5VRBSgYM2e",
        "outputId": "71960308-a164-4c97-f0d7-36da0a8ffbee"
      },
      "source": [
        "F1_X=f1_score(df_y, RN.predict_classes(df_X), average=\"macro\")\n",
        "print(f'F1: {F1_X}')"
      ],
      "execution_count": null,
      "outputs": [
        {
          "output_type": "stream",
          "text": [
            "F1: 0.8300310851611177\n"
          ],
          "name": "stdout"
        }
      ]
    },
    {
      "cell_type": "code",
      "metadata": {
        "id": "w5YwW5PCud3o",
        "colab": {
          "base_uri": "https://localhost:8080/"
        },
        "outputId": "cd68659f-732b-4e83-88ee-bf3465d83024"
      },
      "source": [
        "RN.evaluate(X_treinamento, y_treinamento)"
      ],
      "execution_count": null,
      "outputs": [
        {
          "output_type": "stream",
          "text": [
            "261/261 [==============================] - 0s 1ms/step - loss: 0.0383 - binary_accuracy: 0.9572\n"
          ],
          "name": "stdout"
        },
        {
          "output_type": "execute_result",
          "data": {
            "text/plain": [
              "[0.03830168768763542, 0.9571737051010132]"
            ]
          },
          "metadata": {
            "tags": []
          },
          "execution_count": 285
        }
      ]
    },
    {
      "cell_type": "code",
      "metadata": {
        "colab": {
          "base_uri": "https://localhost:8080/",
          "height": 185
        },
        "id": "aO6YCVmbSW-B",
        "outputId": "5206b4f1-35f5-43a9-b6b6-a0efe6dcf106"
      },
      "source": [
        "F1_Trein=f1_score(y_treinamento, RN.predict_classes(X_treinamento), average=\"macro\")\n",
        "print(f'F1: {F1_Trein}')"
      ],
      "execution_count": null,
      "outputs": [
        {
          "output_type": "error",
          "ename": "NameError",
          "evalue": "ignored",
          "traceback": [
            "\u001b[0;31m---------------------------------------------------------------------------\u001b[0m",
            "\u001b[0;31mNameError\u001b[0m                                 Traceback (most recent call last)",
            "\u001b[0;32m<ipython-input-40-6e77c512b398>\u001b[0m in \u001b[0;36m<module>\u001b[0;34m()\u001b[0m\n\u001b[0;32m----> 1\u001b[0;31m \u001b[0mF1_Trein\u001b[0m\u001b[0;34m=\u001b[0m\u001b[0mf1_score\u001b[0m\u001b[0;34m(\u001b[0m\u001b[0my_treinamento\u001b[0m\u001b[0;34m,\u001b[0m \u001b[0mRN\u001b[0m\u001b[0;34m.\u001b[0m\u001b[0mpredict_classes\u001b[0m\u001b[0;34m(\u001b[0m\u001b[0mX_treinamento\u001b[0m\u001b[0;34m)\u001b[0m\u001b[0;34m,\u001b[0m \u001b[0maverage\u001b[0m\u001b[0;34m=\u001b[0m\u001b[0;34m\"macro\"\u001b[0m\u001b[0;34m)\u001b[0m\u001b[0;34m\u001b[0m\u001b[0;34m\u001b[0m\u001b[0m\n\u001b[0m\u001b[1;32m      2\u001b[0m \u001b[0mprint\u001b[0m\u001b[0;34m(\u001b[0m\u001b[0;34mf'F1: {F1_Trein}'\u001b[0m\u001b[0;34m)\u001b[0m\u001b[0;34m\u001b[0m\u001b[0;34m\u001b[0m\u001b[0m\n",
            "\u001b[0;31mNameError\u001b[0m: name 'y_treinamento' is not defined"
          ]
        }
      ]
    },
    {
      "cell_type": "markdown",
      "metadata": {
        "id": "agO4cGTqKmpz"
      },
      "source": [
        "A seguir, a matriz de confusão:"
      ]
    },
    {
      "cell_type": "code",
      "metadata": {
        "id": "KdiMhkVyaCDS"
      },
      "source": [
        "def Mostra_ConfusionMatrix():\n",
        "    y_pred = RN.predict_classes(df_X)\n",
        "    mc = confusion_matrix(df_y, y_pred)\n",
        "    #sns.heatmap(mc,annot=True, annot_kws={\"size\": 10},fmt=\"d\")\n",
        "    sns.heatmap(mc/np.sum(mc), annot=True, annot_kws={\"size\": 10}, fmt='.2%', cmap='Blues')"
      ],
      "execution_count": null,
      "outputs": []
    },
    {
      "cell_type": "code",
      "metadata": {
        "id": "aLIAXu7SN7pV",
        "colab": {
          "base_uri": "https://localhost:8080/",
          "height": 264
        },
        "outputId": "14cefca9-145e-4711-a28c-47e110a99ef9"
      },
      "source": [
        "Mostra_ConfusionMatrix()"
      ],
      "execution_count": null,
      "outputs": [
        {
          "output_type": "display_data",
          "data": {
            "image/png": "[encoded data removed]",
            "text/plain": [
              "<Figure size 432x288 with 2 Axes>"
            ]
          },
          "metadata": {
            "tags": [],
            "needs_background": "light"
          }
        }
      ]
    },
    {
      "cell_type": "markdown",
      "metadata": {
        "id": "D5zYHcGuMPZe"
      },
      "source": [
        "### 8. _Fine tuning_ da Rede Neural\n",
        "\n",
        "Para aumentar a acurácia da Rede Neural, sugiro aumentarmos o número de neurônios na _Hidden Layer_ e/ou aumentar o número de _Hidden Layers_.\n",
        "\n",
        "No entanto, obtivemos uma acurácia razoável com a Rede Neural _baseline_. Portanto, deixo como exercício para os alunos o desafio de melhorar a acurácia desta Rede Neural."
      ]
    },
    {
      "cell_type": "markdown",
      "metadata": {
        "id": "_ISodOu-Kmp3"
      },
      "source": [
        "### 9. Fazer Predições com a Rede Neural"
      ]
    },
    {
      "cell_type": "markdown",
      "metadata": {
        "id": "_xgdL1W4vUrN"
      },
      "source": [
        "[**Python**] - Comando:\n",
        "* RN.predict_classes(X_treinamento);\n",
        "* RN.predict_classes(X_teste)."
      ]
    },
    {
      "cell_type": "code",
      "metadata": {
        "id": "kqy2rt3YfPiy",
        "colab": {
          "base_uri": "https://localhost:8080/"
        },
        "outputId": "b34631ec-e962-459b-e7da-394bb5132495"
      },
      "source": [
        "y_test = model.predict(X_test)\n"
      ],
      "execution_count": 177,
      "outputs": [
        {
          "output_type": "stream",
          "text": [
            "32/32 [==============================] - 0s 1ms/step\n"
          ],
          "name": "stdout"
        }
      ]
    },
    {
      "cell_type": "code",
      "metadata": {
        "id": "_C_u02mygKgt"
      },
      "source": [
        "df_submit = pd.concat([pd.DataFrame(X_test.index,columns=['id']),pd.DataFrame(y_test,columns=['target']).astype('boolean')],axis=1)\n",
        "\n"
      ],
      "execution_count": 178,
      "outputs": []
    },
    {
      "cell_type": "code",
      "metadata": {
        "colab": {
          "base_uri": "https://localhost:8080/",
          "height": 199
        },
        "id": "k-GLGzuem3cV",
        "outputId": "6c5b2f10-b802-47c0-dd8e-b95dad85e054"
      },
      "source": [
        "df_submit.head()"
      ],
      "execution_count": 179,
      "outputs": [
        {
          "output_type": "execute_result",
          "data": {
            "text/html": [
              "<div>\n",
              "<style scoped>\n",
              "    .dataframe tbody tr th:only-of-type {\n",
              "        vertical-align: middle;\n",
              "    }\n",
              "\n",
              "    .dataframe tbody tr th {\n",
              "        vertical-align: top;\n",
              "    }\n",
              "\n",
              "    .dataframe thead th {\n",
              "        text-align: right;\n",
              "    }\n",
              "</style>\n",
              "<table border=\"1\" class=\"dataframe\">\n",
              "  <thead>\n",
              "    <tr style=\"text-align: right;\">\n",
              "      <th></th>\n",
              "      <th>id</th>\n",
              "      <th>target</th>\n",
              "    </tr>\n",
              "  </thead>\n",
              "  <tbody>\n",
              "    <tr>\n",
              "      <th>0</th>\n",
              "      <td>3411</td>\n",
              "      <td>False</td>\n",
              "    </tr>\n",
              "    <tr>\n",
              "      <th>1</th>\n",
              "      <td>2177</td>\n",
              "      <td>True</td>\n",
              "    </tr>\n",
              "    <tr>\n",
              "      <th>2</th>\n",
              "      <td>8400</td>\n",
              "      <td>True</td>\n",
              "    </tr>\n",
              "    <tr>\n",
              "      <th>3</th>\n",
              "      <td>464</td>\n",
              "      <td>True</td>\n",
              "    </tr>\n",
              "    <tr>\n",
              "      <th>4</th>\n",
              "      <td>6672</td>\n",
              "      <td>False</td>\n",
              "    </tr>\n",
              "  </tbody>\n",
              "</table>\n",
              "</div>"
            ],
            "text/plain": [
              "     id  target\n",
              "0  3411   False\n",
              "1  2177    True\n",
              "2  8400    True\n",
              "3   464    True\n",
              "4  6672   False"
            ]
          },
          "metadata": {
            "tags": []
          },
          "execution_count": 179
        }
      ]
    },
    {
      "cell_type": "code",
      "metadata": {
        "id": "aEBUqxa1mCGN"
      },
      "source": [
        ""
      ],
      "execution_count": 163,
      "outputs": []
    },
    {
      "cell_type": "code",
      "metadata": {
        "id": "JU_6XlFRgPL2",
        "colab": {
          "base_uri": "https://localhost:8080/"
        },
        "outputId": "553106e3-d7ad-43b9-d774-8da75f0b5543"
      },
      "source": [
        "df_submit['target'].value_counts()"
      ],
      "execution_count": 180,
      "outputs": [
        {
          "output_type": "execute_result",
          "data": {
            "text/plain": [
              "False    626\n",
              "True     374\n",
              "Name: target, dtype: Int64"
            ]
          },
          "metadata": {
            "tags": []
          },
          "execution_count": 180
        }
      ]
    },
    {
      "cell_type": "code",
      "metadata": {
        "id": "6Tgv_312M3FU"
      },
      "source": [
        "F = df_submit['target'].value_counts()[0]\n",
        "T = df_submit['target'].value_counts()[1]"
      ],
      "execution_count": 181,
      "outputs": []
    },
    {
      "cell_type": "code",
      "metadata": {
        "id": "rJDGwuIhQob7"
      },
      "source": [
        "df_submit.to_csv(f'/PyLadies_NL_67_F1_{round(scores.mean(),4)}_std_{round(scores.std(),4)}_F{F}_T{T}.csv',index = False, sep = ',')"
      ],
      "execution_count": 182,
      "outputs": []
    },
    {
      "cell_type": "markdown",
      "metadata": {
        "id": "AvywP0nZMtA-"
      },
      "source": [
        "### 10. Conclusões\n",
        "\n",
        "Desenvolvemos uma Rede Neural capaz de identificar Sexo (_Gender_) com acurácia= 0.9120."
      ]
    },
    {
      "cell_type": "code",
      "metadata": {
        "id": "YL2g2pn-RfJi"
      },
      "source": [
        ""
      ],
      "execution_count": null,
      "outputs": []
    },
    {
      "cell_type": "markdown",
      "metadata": {
        "id": "NpufntZjyH8T"
      },
      "source": [
        "### Salvar a Rede Neural"
      ]
    },
    {
      "cell_type": "code",
      "metadata": {
        "id": "ZKqn0leTyLOy",
        "colab": {
          "base_uri": "https://localhost:8080/",
          "height": 185
        },
        "outputId": "8789658f-3338-4047-af5b-74cc3d6f699a"
      },
      "source": [
        "# Save the weights\n",
        "model.save('/RN_61.h5')"
      ],
      "execution_count": null,
      "outputs": [
        {
          "output_type": "error",
          "ename": "AttributeError",
          "evalue": "ignored",
          "traceback": [
            "\u001b[0;31m---------------------------------------------------------------------------\u001b[0m",
            "\u001b[0;31mAttributeError\u001b[0m                            Traceback (most recent call last)",
            "\u001b[0;32m<ipython-input-48-93a37b07c3a6>\u001b[0m in \u001b[0;36m<module>\u001b[0;34m()\u001b[0m\n\u001b[1;32m      1\u001b[0m \u001b[0;31m# Save the weights\u001b[0m\u001b[0;34m\u001b[0m\u001b[0;34m\u001b[0m\u001b[0;34m\u001b[0m\u001b[0m\n\u001b[0;32m----> 2\u001b[0;31m \u001b[0mmodel\u001b[0m\u001b[0;34m.\u001b[0m\u001b[0msave\u001b[0m\u001b[0;34m(\u001b[0m\u001b[0;34m'/RN_61.h5'\u001b[0m\u001b[0;34m)\u001b[0m\u001b[0;34m\u001b[0m\u001b[0;34m\u001b[0m\u001b[0m\n\u001b[0m",
            "\u001b[0;31mAttributeError\u001b[0m: 'KerasClassifier' object has no attribute 'save'"
          ]
        }
      ]
    },
    {
      "cell_type": "code",
      "metadata": {
        "id": "viORp6XjrC66"
      },
      "source": [
        ""
      ],
      "execution_count": null,
      "outputs": []
    }
  ]
}