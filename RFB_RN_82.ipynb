{
  "nbformat": 4,
  "nbformat_minor": 0,
  "metadata": {
    "colab": {
      "name": "Untitled5.ipynb",
      "provenance": [],
      "toc_visible": true,
      "authorship_tag": "ABX9TyN32/9P0PRTOPWVglAFacma",
      "include_colab_link": true
    },
    "kernelspec": {
      "name": "python3",
      "display_name": "Python 3"
    }
  },
  "cells": [
    {
      "cell_type": "markdown",
      "metadata": {
        "id": "view-in-github",
        "colab_type": "text"
      },
      "source": [
        "<a href=\"https://colab.research.google.com/github/flavianacif/DSWP/blob/master/RFB_RN_82.ipynb\" target=\"_parent\"><img src=\"https://colab.research.google.com/assets/colab-badge.svg\" alt=\"Open In Colab\"/></a>"
      ]
    },
    {
      "cell_type": "code",
      "metadata": {
        "id": "j0_YZ6IURZE_",
        "colab": {
          "base_uri": "https://localhost:8080/"
        },
        "outputId": "2e3e3cd0-a70c-40d3-9ae4-def4110be7c7"
      },
      "source": [
        "\n",
        "import tensorflow as tf\n",
        "import numpy as np\n",
        "import pandas as pd\n",
        "import matplotlib.pyplot as plt\n",
        "import seaborn as sns\n",
        "from sklearn.metrics import confusion_matrix\n",
        "import tensorflow_addons as tfa\n",
        "from tensorflow import keras\n",
        "from sklearn.metrics import accuracy_score, f1_score, precision_score, recall_score, classification_report, confusion_matrix\n",
        "from collections import Counter\n",
        "from imblearn.over_sampling import SMOTE\n"
      ],
      "execution_count": 1,
      "outputs": [
        {
          "output_type": "stream",
          "text": [
            "/usr/local/lib/python3.6/dist-packages/sklearn/externals/six.py:31: FutureWarning: The module is deprecated in version 0.21 and will be removed in version 0.23 since we've dropped support for Python 2.7. Please rely on the official version of six (https://pypi.org/project/six/).\n",
            "  \"(https://pypi.org/project/six/).\", FutureWarning)\n",
            "/usr/local/lib/python3.6/dist-packages/sklearn/utils/deprecation.py:144: FutureWarning: The sklearn.neighbors.base module is  deprecated in version 0.22 and will be removed in version 0.24. The corresponding classes / functions should instead be imported from sklearn.neighbors. Anything that cannot be imported from sklearn.neighbors is now part of the private API.\n",
            "  warnings.warn(message, FutureWarning)\n"
          ],
          "name": "stderr"
        }
      ]
    },
    {
      "cell_type": "markdown",
      "metadata": {
        "id": "9ZX00UN5cjvM"
      },
      "source": [
        "[**Python**] - Verificar a versão do Tensorflow\n",
        "> Assegurar que está a utilizar a versão 2.x."
      ]
    },
    {
      "cell_type": "code",
      "metadata": {
        "id": "THWNIk_FCe_g",
        "colab": {
          "base_uri": "https://localhost:8080/",
          "height": 35
        },
        "outputId": "1d19b433-4dcd-497a-aae5-63208bf26457"
      },
      "source": [
        "tf.__version__"
      ],
      "execution_count": 2,
      "outputs": [
        {
          "output_type": "execute_result",
          "data": {
            "application/vnd.google.colaboratory.intrinsic+json": {
              "type": "string"
            },
            "text/plain": [
              "'2.3.0'"
            ]
          },
          "metadata": {
            "tags": []
          },
          "execution_count": 2
        }
      ]
    },
    {
      "cell_type": "markdown",
      "metadata": {
        "id": "PZgQAKqLcLX3"
      },
      "source": [
        "[**Python**] - Definir o número de casas decimais"
      ]
    },
    {
      "cell_type": "code",
      "metadata": {
        "id": "tzKor02BCe_d"
      },
      "source": [
        "np.set_printoptions(precision= 3)"
      ],
      "execution_count": 3,
      "outputs": []
    },
    {
      "cell_type": "markdown",
      "metadata": {
        "id": "M5V4KopjLWOL"
      },
      "source": [
        "### 1. Carregar os dados"
      ]
    },
    {
      "cell_type": "markdown",
      "metadata": {
        "id": "V_cwAUW3tseE"
      },
      "source": [
        "[**Python**] - Carregar os dados:"
      ]
    },
    {
      "cell_type": "code",
      "metadata": {
        "id": "_Bs87IWPtwtm"
      },
      "source": [
        "# Leitura do dataframe:\n",
        "df = pd.read_csv('/total_10.csv')"
      ],
      "execution_count": 4,
      "outputs": []
    },
    {
      "cell_type": "code",
      "metadata": {
        "id": "myhgteQhdqVi"
      },
      "source": [
        "df_total = df.copy()"
      ],
      "execution_count": 371,
      "outputs": []
    },
    {
      "cell_type": "code",
      "metadata": {
        "id": "0MfQNbWvfUkK"
      },
      "source": [
        "df_total.set_index('id', inplace=True)"
      ],
      "execution_count": 372,
      "outputs": []
    },
    {
      "cell_type": "code",
      "metadata": {
        "colab": {
          "base_uri": "https://localhost:8080/"
        },
        "id": "6730Oq3j-4w8",
        "outputId": "9d7c8964-b1dc-4e02-8d28-ae3fc21c7cd8"
      },
      "source": [
        "df_total.columns"
      ],
      "execution_count": 373,
      "outputs": [
        {
          "output_type": "execute_result",
          "data": {
            "text/plain": [
              "Index(['cnae2', 'rf2', 'md1', 'md2', 'md3', 'md4', 'md5', 'md6', 'md7', 'md8',\n",
              "       'md9', 'md10', 'md11', 'md12', 'mc1', 'mc2', 'mc3', 'mc4', 'ind01',\n",
              "       'ind02', 'ind03', 'ind04', 'ind05', 'ind06', 'ind07', 'ind08', 'ind09',\n",
              "       'ind10', 'ind11', 'ind12', 'ind13', 'ind14', 'ind15', 'ind16', 'ind17',\n",
              "       'ind18', 'ind19', 'ind20', 'ind21', 'ind22', 'ind23', 'ind24', 'ind25',\n",
              "       'ind26', 'ind27', 'ind28', 'ind29', 'ind30', 'ind31', 'ind32', 'ind33',\n",
              "       'ind34', 'ind35', 'ind36', 'ind37', 'ind38', 'ind39', 'ind40', 'ind41',\n",
              "       'ind42', 'ind43', 'target', 'cnae_secao', 'ind_g1_mv', 'ind_g1',\n",
              "       'ind_g2_mv', 'ind_g2', 'mc_g1_mv', 'mc_g1', 'md1_o', 'md2_o', 'md3_o',\n",
              "       'md4_o', 'md5_o', 'md7_o', 'md8_o', 'md9_o', 'md10_o', 'md12_o',\n",
              "       'mc1_o', 'mc3_o', 'mc4_o'],\n",
              "      dtype='object')"
            ]
          },
          "metadata": {
            "tags": []
          },
          "execution_count": 373
        }
      ]
    },
    {
      "cell_type": "markdown",
      "metadata": {
        "id": "6LXKr9-R_JIK"
      },
      "source": [
        "Retirando algumas colunas para testar"
      ]
    },
    {
      "cell_type": "code",
      "metadata": {
        "id": "aVnISOiD-xRk"
      },
      "source": [
        "df_total.drop(columns = ['cnae2','md1', 'md2', 'md3', 'md4', 'md5', 'md6', 'md7', 'md8',\n",
        "       'md9', 'md10', 'md11', 'md12', 'mc1', 'mc2', 'mc3', 'mc4','mc_g1','ind_g1',\n",
        "       'ind_g2'], inplace = True)"
      ],
      "execution_count": 374,
      "outputs": []
    },
    {
      "cell_type": "code",
      "metadata": {
        "colab": {
          "base_uri": "https://localhost:8080/"
        },
        "id": "IHt2y_5IHtRH",
        "outputId": "f44b6233-4db2-4b13-f82d-ba606594837f"
      },
      "source": [
        "df_total.columns"
      ],
      "execution_count": 375,
      "outputs": [
        {
          "output_type": "execute_result",
          "data": {
            "text/plain": [
              "Index(['rf2', 'ind01', 'ind02', 'ind03', 'ind04', 'ind05', 'ind06', 'ind07',\n",
              "       'ind08', 'ind09', 'ind10', 'ind11', 'ind12', 'ind13', 'ind14', 'ind15',\n",
              "       'ind16', 'ind17', 'ind18', 'ind19', 'ind20', 'ind21', 'ind22', 'ind23',\n",
              "       'ind24', 'ind25', 'ind26', 'ind27', 'ind28', 'ind29', 'ind30', 'ind31',\n",
              "       'ind32', 'ind33', 'ind34', 'ind35', 'ind36', 'ind37', 'ind38', 'ind39',\n",
              "       'ind40', 'ind41', 'ind42', 'ind43', 'target', 'cnae_secao', 'ind_g1_mv',\n",
              "       'ind_g2_mv', 'mc_g1_mv', 'md1_o', 'md2_o', 'md3_o', 'md4_o', 'md5_o',\n",
              "       'md7_o', 'md8_o', 'md9_o', 'md10_o', 'md12_o', 'mc1_o', 'mc3_o',\n",
              "       'mc4_o'],\n",
              "      dtype='object')"
            ]
          },
          "metadata": {
            "tags": []
          },
          "execution_count": 375
        }
      ]
    },
    {
      "cell_type": "markdown",
      "metadata": {
        "id": "e_0lkPsR_mFp"
      },
      "source": [
        "GET DUMMIES"
      ]
    },
    {
      "cell_type": "code",
      "metadata": {
        "id": "moTlPrJk5b0T"
      },
      "source": [
        "#df_total['cnae2'] = df_total['cnae2'].astype('category')"
      ],
      "execution_count": 376,
      "outputs": []
    },
    {
      "cell_type": "code",
      "metadata": {
        "id": "rN72uIGk_jMI"
      },
      "source": [
        "df_total = pd.get_dummies(df_total)"
      ],
      "execution_count": 377,
      "outputs": []
    },
    {
      "cell_type": "code",
      "metadata": {
        "id": "9gYa3Hy6lrZi"
      },
      "source": [
        "X_treino = df_total[df_total['target']!= 2]"
      ],
      "execution_count": 378,
      "outputs": []
    },
    {
      "cell_type": "code",
      "metadata": {
        "id": "KeckOXBrR_X6"
      },
      "source": [
        "df_X = X_treino.copy()"
      ],
      "execution_count": 379,
      "outputs": []
    },
    {
      "cell_type": "code",
      "metadata": {
        "id": "Q5tB1ey7eAe4"
      },
      "source": [
        "df_y = df_X['target']\n",
        "df_X = df_X.drop(columns= ['target'])"
      ],
      "execution_count": 380,
      "outputs": []
    },
    {
      "cell_type": "code",
      "metadata": {
        "id": "i8_BlpeteJow"
      },
      "source": [
        "X_test = df_total[df_total['target']== 2].drop(columns= ['target'])"
      ],
      "execution_count": 381,
      "outputs": []
    },
    {
      "cell_type": "markdown",
      "metadata": {
        "id": "qzWrM6VCSEoQ"
      },
      "source": [
        "Tratando o Balanceamento da Amostra"
      ]
    },
    {
      "cell_type": "code",
      "metadata": {
        "colab": {
          "base_uri": "https://localhost:8080/"
        },
        "id": "28lRhxtgRwEa",
        "outputId": "b6a67fd1-76a4-4553-d1c6-dfcde536786b"
      },
      "source": [
        "qtd = Counter(X_treino['target'])\n",
        "qtd"
      ],
      "execution_count": 382,
      "outputs": [
        {
          "output_type": "execute_result",
          "data": {
            "text/plain": [
              "Counter({0: 8513, 1: 2520})"
            ]
          },
          "metadata": {
            "tags": []
          },
          "execution_count": 382
        }
      ]
    },
    {
      "cell_type": "code",
      "metadata": {
        "id": "0AZCDYSOSHLx"
      },
      "source": [
        "from imblearn.under_sampling import RandomUnderSampler\n",
        "from imblearn.pipeline import Pipeline"
      ],
      "execution_count": 383,
      "outputs": []
    },
    {
      "cell_type": "code",
      "metadata": {
        "id": "Z1FhuODySLSS"
      },
      "source": [
        "over = SMOTE(sampling_strategy = 0.5) # Reamostrar a classe minoritária para ter 10% da classe majoritária\n",
        "under = RandomUnderSampler(sampling_strategy = 0.85) # Seleciona a classe majoritária para ter 50%\n",
        "steps = [('over', over), ('under', under)]\n",
        "pipeline = Pipeline(steps = steps)"
      ],
      "execution_count": 384,
      "outputs": []
    },
    {
      "cell_type": "code",
      "metadata": {
        "colab": {
          "base_uri": "https://localhost:8080/"
        },
        "id": "dwkQt9AFSNLL",
        "outputId": "1f2e9e14-b6a9-4968-d147-4bd4142ca340"
      },
      "source": [
        "X, y = pipeline.fit_resample(df_X, df_y)"
      ],
      "execution_count": 385,
      "outputs": [
        {
          "output_type": "stream",
          "text": [
            "/usr/local/lib/python3.6/dist-packages/sklearn/utils/deprecation.py:87: FutureWarning: Function safe_indexing is deprecated; safe_indexing is deprecated in version 0.22 and will be removed in version 0.24.\n",
            "  warnings.warn(msg, category=FutureWarning)\n",
            "/usr/local/lib/python3.6/dist-packages/sklearn/utils/deprecation.py:87: FutureWarning: Function safe_indexing is deprecated; safe_indexing is deprecated in version 0.22 and will be removed in version 0.24.\n",
            "  warnings.warn(msg, category=FutureWarning)\n"
          ],
          "name": "stderr"
        }
      ]
    },
    {
      "cell_type": "markdown",
      "metadata": {
        "id": "m22vN2YrSWOr"
      },
      "source": [
        "ANTES/DEPOIS:"
      ]
    },
    {
      "cell_type": "code",
      "metadata": {
        "colab": {
          "base_uri": "https://localhost:8080/"
        },
        "id": "oLiFXdkqSVNz",
        "outputId": "767e617c-4d30-4e19-d29f-efcba0812212"
      },
      "source": [
        "print(Counter(df_y),Counter(y))"
      ],
      "execution_count": 386,
      "outputs": [
        {
          "output_type": "stream",
          "text": [
            "Counter({0: 8513, 1: 2520}) Counter({0: 5007, 1: 4256})\n"
          ],
          "name": "stdout"
        }
      ]
    },
    {
      "cell_type": "markdown",
      "metadata": {
        "id": "jJaJWuUqJCha"
      },
      "source": [
        "### 3. Definir as amostras de treinamento e validação"
      ]
    },
    {
      "cell_type": "markdown",
      "metadata": {
        "id": "LoO2iEimu4SQ"
      },
      "source": [
        "[**Python**] - Definir as amostras de treinamento e validação"
      ]
    },
    {
      "cell_type": "code",
      "metadata": {
        "id": "hTCdm-F9JBGA",
        "colab": {
          "base_uri": "https://localhost:8080/"
        },
        "outputId": "11b96c3b-c7f5-4432-9141-90154e1c6999"
      },
      "source": [
        "from sklearn.model_selection import train_test_split\n",
        "\n",
        "X_treinamento, X_teste, y_treinamento, y_teste= train_test_split(X, y, test_size = 0.1, random_state = 22091980) #20111974)\n",
        "print(f'X: Treinamento=  {X_treinamento.shape}; X: Teste=  {X_teste.shape}')"
      ],
      "execution_count": 387,
      "outputs": [
        {
          "output_type": "stream",
          "text": [
            "X: Treinamento=  (8336, 88); X: Teste=  (927, 88)\n"
          ],
          "name": "stdout"
        }
      ]
    },
    {
      "cell_type": "code",
      "metadata": {
        "id": "th9CsQpB8VDK",
        "colab": {
          "base_uri": "https://localhost:8080/"
        },
        "outputId": "8966e583-ddab-4bca-f176-1cc6af7dddb3"
      },
      "source": [
        "print(f'Y: Treinamento =  {y_treinamento.shape}; Y: Teste = {y_teste.shape}')"
      ],
      "execution_count": 388,
      "outputs": [
        {
          "output_type": "stream",
          "text": [
            "Y: Treinamento =  (8336,); Y: Teste = (927,)\n"
          ],
          "name": "stdout"
        }
      ]
    },
    {
      "cell_type": "markdown",
      "metadata": {
        "id": "2bL-vXiULupD"
      },
      "source": [
        "### 4. Definir a arquitetura da Rede Neural com _Tensorflow_/_Keras_"
      ]
    },
    {
      "cell_type": "markdown",
      "metadata": {
        "id": "zxETX6dTfyU5"
      },
      "source": [
        "[**Python**] - Definir a arquitetura, ou seja:\n",
        "* $N_{I}$: Número de neurônios na camada de entrada (_Input Layer_);\n",
        "* $N_{O}$: Número de neurônios na camada de saída (_Output Layer_);\n",
        "* $N_{H}$: Número de neurônios na camada escondida (_Hidden Layer_);\n",
        "* FA: Função de ativação;"
      ]
    },
    {
      "cell_type": "code",
      "metadata": {
        "id": "F_MdsLicfyU6"
      },
      "source": [
        "# Número de Neurônios na Input Layer:\n",
        "N_I = 88\n",
        "\n",
        "# Número de neurônios na Output Layer:\n",
        "N_O = 1\n",
        "\n",
        "# Número de neurônios na Hidden Layer:\n",
        "N_H = 400\n",
        "\n",
        "N_H2 = 300\n",
        "\n",
        "N_H3=200\n",
        "\n",
        "N_H4 = 100\n",
        "\n",
        "N_H5 = 50\n",
        "\n",
        "N_H6 = 2\n",
        "\n",
        "\n",
        "\n",
        "# Função de Ativação da Hidden Layer:\n",
        "FA_H = tf.nn.leaky_relu\n",
        "#FA_H = tf.keras.activations.swish\n",
        "\n",
        "# Função de Ativação da Output Layer:\n",
        "FA_O = tf.keras.activations.sigmoid\n",
        "\n",
        "\n"
      ],
      "execution_count": 389,
      "outputs": []
    },
    {
      "cell_type": "markdown",
      "metadata": {
        "id": "SUMmDuPCcYyB"
      },
      "source": [
        "[**Python**] - Definir as sementes para NumPy e Tensorflow:\n",
        "> Por questões de reproducibilidade de resultados, use as sementes abaixo:\n",
        "\n",
        "* NumPy: 20111974;\n",
        "* Tensorflow: 20111974;"
      ]
    },
    {
      "cell_type": "code",
      "metadata": {
        "id": "T-echOBmceVy"
      },
      "source": [
        "np.random.seed(19800922)\n",
        "tf.random.set_seed(22091980)"
      ],
      "execution_count": 390,
      "outputs": []
    },
    {
      "cell_type": "markdown",
      "metadata": {
        "id": "7ZceRRdinEM2"
      },
      "source": [
        "\n",
        "[**Python**] - Definir a Rede Neural:"
      ]
    },
    {
      "cell_type": "markdown",
      "metadata": {
        "id": "nXQsSYq2DBfI"
      },
      "source": [
        "\n",
        "\n",
        "\n",
        "\n",
        "* 1 camada _dropout_ com $p= 0.1$:"
      ]
    },
    {
      "cell_type": "code",
      "metadata": {
        "id": "TRFR5Kr_nDtD",
        "colab": {
          "base_uri": "https://localhost:8080/"
        },
        "outputId": "66aa14ae-7716-49a1-b100-06180680a311"
      },
      "source": [
        "from tensorflow.keras import Sequential\n",
        "from tensorflow.keras.layers import Dense\n",
        "from tensorflow.keras.layers import Dropout\n",
        "\n",
        "RN= Sequential()\n",
        "RN.add(Dense(N_H, input_dim= N_I, kernel_initializer= tf.keras.initializers.GlorotNormal(), activation= FA_H, kernel_constraint= tf.keras.constraints.UnitNorm()))\n",
        "RN.add(Dropout(0.1))\n",
        "RN.add(Dense(N_H2, kernel_initializer= tf.keras.initializers.GlorotNormal(), activation= FA_H, kernel_constraint= tf.keras.constraints.UnitNorm()))\n",
        "RN.add(Dropout(0.1))\n",
        "RN.add(Dense(N_H3, kernel_initializer= tf.keras.initializers.GlorotNormal(), activation= FA_H, kernel_constraint= tf.keras.constraints.UnitNorm()))\n",
        "RN.add(Dropout(0.1))\n",
        "RN.add(Dense(N_H4, kernel_initializer= tf.keras.initializers.GlorotNormal(), activation= FA_H, kernel_constraint= tf.keras.constraints.UnitNorm()))\n",
        "RN.add(Dropout(0.1))\n",
        "RN.add(Dense(N_H5, kernel_initializer= tf.keras.initializers.GlorotNormal(), activation= FA_H, kernel_constraint= tf.keras.constraints.UnitNorm()))\n",
        "RN.add(Dropout(0.1))\n",
        "#RN.add(Dense(N_H6, kernel_initializer= tf.keras.initializers.GlorotNormal(), activation= FA_H, kernel_constraint= tf.keras.constraints.UnitNorm()))\n",
        "#RN.add(Dropout(0.1))\n",
        "RN.add(Dense(units= N_O, activation= FA_O))\n",
        "\n",
        "# Resumo da arquitetura da Rede Neural\n",
        "print(RN.summary())"
      ],
      "execution_count": 394,
      "outputs": [
        {
          "output_type": "stream",
          "text": [
            "Model: \"sequential_20\"\n",
            "_________________________________________________________________\n",
            "Layer (type)                 Output Shape              Param #   \n",
            "=================================================================\n",
            "dense_131 (Dense)            (None, 400)               35600     \n",
            "_________________________________________________________________\n",
            "dropout_111 (Dropout)        (None, 400)               0         \n",
            "_________________________________________________________________\n",
            "dense_132 (Dense)            (None, 300)               120300    \n",
            "_________________________________________________________________\n",
            "dropout_112 (Dropout)        (None, 300)               0         \n",
            "_________________________________________________________________\n",
            "dense_133 (Dense)            (None, 200)               60200     \n",
            "_________________________________________________________________\n",
            "dropout_113 (Dropout)        (None, 200)               0         \n",
            "_________________________________________________________________\n",
            "dense_134 (Dense)            (None, 100)               20100     \n",
            "_________________________________________________________________\n",
            "dropout_114 (Dropout)        (None, 100)               0         \n",
            "_________________________________________________________________\n",
            "dense_135 (Dense)            (None, 50)                5050      \n",
            "_________________________________________________________________\n",
            "dropout_115 (Dropout)        (None, 50)                0         \n",
            "_________________________________________________________________\n",
            "dense_136 (Dense)            (None, 1)                 51        \n",
            "=================================================================\n",
            "Total params: 241,301\n",
            "Trainable params: 241,301\n",
            "Non-trainable params: 0\n",
            "_________________________________________________________________\n",
            "None\n"
          ],
          "name": "stdout"
        }
      ]
    },
    {
      "cell_type": "markdown",
      "metadata": {
        "id": "4JBZf4ypGO8o"
      },
      "source": [
        "### 5. Compilar a Rede Neural\n",
        "\n",
        "Este é um problema de classificação binária (_Male_ ou _Female_). Portanto, temos:\n",
        "* optimizer= tf.keras.optimizers.Adam();\n",
        "* loss=  tf.keras.losses.MeanSquaredError() ou loss= tf.keras.losses.BinaryCrossentropy(). Particularmente, eu gosto de usar loss=  tf.keras.losses.MeanSquaredError() porque o resultado é mais intuitivo;\n",
        "* metrics= tf.keras.metrics.binary_accuracy."
      ]
    },
    {
      "cell_type": "markdown",
      "metadata": {
        "id": "USmAuw6f00wL"
      },
      "source": [
        "[**Python**] - Comando modelo.compile(optimizer, loss, metrics):"
      ]
    },
    {
      "cell_type": "code",
      "metadata": {
        "id": "h7KEi1_e6SSF"
      },
      "source": [
        "\n",
        "Algoritmo_Opt = tf.keras.optimizers.Adamax()\n",
        "#Algoritmo_Opt = tf.keras.optimizers.Adam(learning_rate=0.01, beta_1=0.8, beta_2=0.99, epsilon=1e-07 , amsgrad=True,     name='Adam')\n",
        "#Loss_Function = tf.keras.losses.MeanSquaredError()\n",
        "Loss_Function = tf.keras.losses.BinaryCrossentropy()\n",
        "#Metrics_Perf = tf.keras.metrics.binary_accuracy\n",
        "Metrics_Perf = tfa.metrics.F1Score(1,average='macro',threshold=0.5)\n",
        "RN.compile(optimizer = Algoritmo_Opt, loss = Loss_Function,metrics = Metrics_Perf)\n",
        "#RN.compile( loss = Loss_Function,metrics = Metrics_Perf)"
      ],
      "execution_count": 395,
      "outputs": []
    },
    {
      "cell_type": "markdown",
      "metadata": {
        "id": "Hc90EeV_GojX"
      },
      "source": [
        "### 6. Ajustar a Rede Neural\n",
        "\n",
        "Obs.: A opção callbacks abaixo implementa o conceito de _early stopping_. Esta opção vai parar o processo de treinamento da Rede Neural antes de atingirmos o númerco de _epochs_ quando o modelo pára de melhorar, medido pela métrica val_loss. O parâmetro _patience_= k significa que o processo de otimização vai parar se tivermos k _epochs_ consecutivas sem observarmos melhoria da performance da Rede Neural."
      ]
    },
    {
      "cell_type": "markdown",
      "metadata": {
        "id": "XCCTtUh_vEFP"
      },
      "source": [
        "[**Python**] - Comando modelo.fit(X_treinamento, y_treinamento, epochs)"
      ]
    },
    {
      "cell_type": "code",
      "metadata": {
        "id": "EB91J6nrF0db",
        "colab": {
          "base_uri": "https://localhost:8080/"
        },
        "outputId": "256d907b-d51e-4c97-c1c1-7b322699072a"
      },
      "source": [
        "callbacks = [tf.keras.callbacks.EarlyStopping(monitor = 'val_f1_score', mode = 'max',patience = 20, min_delta = 0.001)]\n",
        "hist= RN.fit(X_treinamento, y_treinamento, epochs = 100, batch_size = 20,\n",
        "             validation_data = (X_teste, y_teste), callbacks = callbacks)"
      ],
      "execution_count": 397,
      "outputs": [
        {
          "output_type": "stream",
          "text": [
            "Epoch 1/100\n",
            "417/417 [==============================] - 3s 6ms/step - loss: 0.6166 - f1_score: 0.6349 - val_loss: 0.5880 - val_f1_score: 0.6765\n",
            "Epoch 2/100\n",
            "417/417 [==============================] - 2s 6ms/step - loss: 0.5883 - f1_score: 0.6706 - val_loss: 0.5931 - val_f1_score: 0.6660\n",
            "Epoch 3/100\n",
            "417/417 [==============================] - 2s 6ms/step - loss: 0.5759 - f1_score: 0.6761 - val_loss: 0.5769 - val_f1_score: 0.6801\n",
            "Epoch 4/100\n",
            "417/417 [==============================] - 2s 6ms/step - loss: 0.5658 - f1_score: 0.6806 - val_loss: 0.5720 - val_f1_score: 0.7012\n",
            "Epoch 5/100\n",
            "417/417 [==============================] - 2s 6ms/step - loss: 0.5541 - f1_score: 0.6954 - val_loss: 0.5724 - val_f1_score: 0.6975\n",
            "Epoch 6/100\n",
            "417/417 [==============================] - 2s 5ms/step - loss: 0.5422 - f1_score: 0.7032 - val_loss: 0.5622 - val_f1_score: 0.7037\n",
            "Epoch 7/100\n",
            "417/417 [==============================] - 2s 5ms/step - loss: 0.5257 - f1_score: 0.7228 - val_loss: 0.5638 - val_f1_score: 0.7128\n",
            "Epoch 8/100\n",
            "417/417 [==============================] - 2s 5ms/step - loss: 0.5111 - f1_score: 0.7271 - val_loss: 0.5515 - val_f1_score: 0.7185\n",
            "Epoch 9/100\n",
            "417/417 [==============================] - 2s 6ms/step - loss: 0.4916 - f1_score: 0.7412 - val_loss: 0.5541 - val_f1_score: 0.6792\n",
            "Epoch 10/100\n",
            "417/417 [==============================] - 2s 5ms/step - loss: 0.4842 - f1_score: 0.7452 - val_loss: 0.5602 - val_f1_score: 0.7067\n",
            "Epoch 11/100\n",
            "417/417 [==============================] - 2s 5ms/step - loss: 0.4666 - f1_score: 0.7629 - val_loss: 0.5530 - val_f1_score: 0.7035\n",
            "Epoch 12/100\n",
            "417/417 [==============================] - 2s 5ms/step - loss: 0.4615 - f1_score: 0.7664 - val_loss: 0.5506 - val_f1_score: 0.7378\n",
            "Epoch 13/100\n",
            "417/417 [==============================] - 2s 6ms/step - loss: 0.4436 - f1_score: 0.7734 - val_loss: 0.5506 - val_f1_score: 0.6948\n",
            "Epoch 14/100\n",
            "417/417 [==============================] - 2s 6ms/step - loss: 0.4326 - f1_score: 0.7798 - val_loss: 0.5759 - val_f1_score: 0.7164\n",
            "Epoch 15/100\n",
            "417/417 [==============================] - 2s 6ms/step - loss: 0.4157 - f1_score: 0.7892 - val_loss: 0.5585 - val_f1_score: 0.7261\n",
            "Epoch 16/100\n",
            "417/417 [==============================] - 2s 6ms/step - loss: 0.4053 - f1_score: 0.7987 - val_loss: 0.5343 - val_f1_score: 0.7080\n",
            "Epoch 17/100\n",
            "417/417 [==============================] - 2s 6ms/step - loss: 0.3983 - f1_score: 0.8027 - val_loss: 0.5497 - val_f1_score: 0.7380\n",
            "Epoch 18/100\n",
            "417/417 [==============================] - 2s 6ms/step - loss: 0.3719 - f1_score: 0.8208 - val_loss: 0.5877 - val_f1_score: 0.6667\n",
            "Epoch 19/100\n",
            "417/417 [==============================] - 2s 6ms/step - loss: 0.3624 - f1_score: 0.8268 - val_loss: 0.5702 - val_f1_score: 0.7312\n",
            "Epoch 20/100\n",
            "417/417 [==============================] - 2s 6ms/step - loss: 0.3509 - f1_score: 0.8344 - val_loss: 0.6099 - val_f1_score: 0.7233\n",
            "Epoch 21/100\n",
            "417/417 [==============================] - 2s 6ms/step - loss: 0.3491 - f1_score: 0.8370 - val_loss: 0.5840 - val_f1_score: 0.7119\n",
            "Epoch 22/100\n",
            "417/417 [==============================] - 2s 5ms/step - loss: 0.3300 - f1_score: 0.8416 - val_loss: 0.5803 - val_f1_score: 0.7197\n",
            "Epoch 23/100\n",
            "417/417 [==============================] - 2s 5ms/step - loss: 0.3171 - f1_score: 0.8523 - val_loss: 0.6044 - val_f1_score: 0.7215\n",
            "Epoch 24/100\n",
            "417/417 [==============================] - 2s 6ms/step - loss: 0.3138 - f1_score: 0.8457 - val_loss: 0.5661 - val_f1_score: 0.7517\n",
            "Epoch 25/100\n",
            "417/417 [==============================] - 2s 5ms/step - loss: 0.3054 - f1_score: 0.8559 - val_loss: 0.5667 - val_f1_score: 0.7350\n",
            "Epoch 26/100\n",
            "417/417 [==============================] - 2s 6ms/step - loss: 0.2904 - f1_score: 0.8644 - val_loss: 0.5745 - val_f1_score: 0.7241\n",
            "Epoch 27/100\n",
            "417/417 [==============================] - 2s 6ms/step - loss: 0.2865 - f1_score: 0.8695 - val_loss: 0.6088 - val_f1_score: 0.7367\n",
            "Epoch 28/100\n",
            "417/417 [==============================] - 2s 6ms/step - loss: 0.2726 - f1_score: 0.8767 - val_loss: 0.6200 - val_f1_score: 0.7335\n",
            "Epoch 29/100\n",
            "417/417 [==============================] - 2s 6ms/step - loss: 0.2691 - f1_score: 0.8727 - val_loss: 0.6335 - val_f1_score: 0.7381\n",
            "Epoch 30/100\n",
            "417/417 [==============================] - 2s 6ms/step - loss: 0.2605 - f1_score: 0.8781 - val_loss: 0.6186 - val_f1_score: 0.7160\n",
            "Epoch 31/100\n",
            "417/417 [==============================] - 2s 5ms/step - loss: 0.2528 - f1_score: 0.8840 - val_loss: 0.6445 - val_f1_score: 0.7497\n",
            "Epoch 32/100\n",
            "417/417 [==============================] - 2s 6ms/step - loss: 0.2461 - f1_score: 0.8889 - val_loss: 0.6488 - val_f1_score: 0.7349\n",
            "Epoch 33/100\n",
            "417/417 [==============================] - 3s 6ms/step - loss: 0.2379 - f1_score: 0.8913 - val_loss: 0.6226 - val_f1_score: 0.7290\n",
            "Epoch 34/100\n",
            "417/417 [==============================] - 3s 6ms/step - loss: 0.2265 - f1_score: 0.8989 - val_loss: 0.6430 - val_f1_score: 0.7388\n",
            "Epoch 35/100\n",
            "417/417 [==============================] - 2s 6ms/step - loss: 0.2269 - f1_score: 0.9000 - val_loss: 0.6491 - val_f1_score: 0.7444\n",
            "Epoch 36/100\n",
            "417/417 [==============================] - 2s 6ms/step - loss: 0.2153 - f1_score: 0.9037 - val_loss: 0.7058 - val_f1_score: 0.7258\n",
            "Epoch 37/100\n",
            "417/417 [==============================] - 2s 6ms/step - loss: 0.2133 - f1_score: 0.9034 - val_loss: 0.7053 - val_f1_score: 0.7423\n",
            "Epoch 38/100\n",
            "417/417 [==============================] - 2s 6ms/step - loss: 0.2065 - f1_score: 0.9064 - val_loss: 0.6919 - val_f1_score: 0.7464\n",
            "Epoch 39/100\n",
            "417/417 [==============================] - 2s 6ms/step - loss: 0.2047 - f1_score: 0.9087 - val_loss: 0.7411 - val_f1_score: 0.7197\n",
            "Epoch 40/100\n",
            "417/417 [==============================] - 2s 6ms/step - loss: 0.1953 - f1_score: 0.9124 - val_loss: 0.6653 - val_f1_score: 0.7520\n",
            "Epoch 41/100\n",
            "417/417 [==============================] - 2s 6ms/step - loss: 0.1986 - f1_score: 0.9122 - val_loss: 0.7189 - val_f1_score: 0.7442\n",
            "Epoch 42/100\n",
            "417/417 [==============================] - 2s 6ms/step - loss: 0.1940 - f1_score: 0.9129 - val_loss: 0.7809 - val_f1_score: 0.7578\n",
            "Epoch 43/100\n",
            "417/417 [==============================] - 2s 6ms/step - loss: 0.1793 - f1_score: 0.9219 - val_loss: 0.7435 - val_f1_score: 0.7404\n",
            "Epoch 44/100\n",
            "417/417 [==============================] - 2s 6ms/step - loss: 0.1829 - f1_score: 0.9214 - val_loss: 0.7243 - val_f1_score: 0.7414\n",
            "Epoch 45/100\n",
            "417/417 [==============================] - 2s 6ms/step - loss: 0.1815 - f1_score: 0.9179 - val_loss: 0.7594 - val_f1_score: 0.7437\n",
            "Epoch 46/100\n",
            "417/417 [==============================] - 2s 6ms/step - loss: 0.1714 - f1_score: 0.9246 - val_loss: 0.7262 - val_f1_score: 0.7517\n",
            "Epoch 47/100\n",
            "417/417 [==============================] - 2s 6ms/step - loss: 0.1712 - f1_score: 0.9245 - val_loss: 0.7424 - val_f1_score: 0.7339\n",
            "Epoch 48/100\n",
            "417/417 [==============================] - 2s 6ms/step - loss: 0.1730 - f1_score: 0.9219 - val_loss: 0.7020 - val_f1_score: 0.7587\n",
            "Epoch 49/100\n",
            "417/417 [==============================] - 2s 6ms/step - loss: 0.1545 - f1_score: 0.9323 - val_loss: 0.7604 - val_f1_score: 0.7509\n",
            "Epoch 50/100\n",
            "417/417 [==============================] - 2s 6ms/step - loss: 0.1620 - f1_score: 0.9284 - val_loss: 0.8327 - val_f1_score: 0.7576\n",
            "Epoch 51/100\n",
            "417/417 [==============================] - 2s 6ms/step - loss: 0.1554 - f1_score: 0.9310 - val_loss: 0.8070 - val_f1_score: 0.7500\n",
            "Epoch 52/100\n",
            "417/417 [==============================] - 2s 6ms/step - loss: 0.1398 - f1_score: 0.9398 - val_loss: 0.8639 - val_f1_score: 0.7415\n",
            "Epoch 53/100\n",
            "417/417 [==============================] - 2s 6ms/step - loss: 0.1538 - f1_score: 0.9326 - val_loss: 0.7546 - val_f1_score: 0.7542\n",
            "Epoch 54/100\n",
            "417/417 [==============================] - 2s 6ms/step - loss: 0.1468 - f1_score: 0.9359 - val_loss: 0.8105 - val_f1_score: 0.7387\n",
            "Epoch 55/100\n",
            "417/417 [==============================] - 2s 6ms/step - loss: 0.1603 - f1_score: 0.9313 - val_loss: 0.8228 - val_f1_score: 0.7513\n",
            "Epoch 56/100\n",
            "417/417 [==============================] - 2s 6ms/step - loss: 0.1396 - f1_score: 0.9386 - val_loss: 0.8128 - val_f1_score: 0.7303\n",
            "Epoch 57/100\n",
            "417/417 [==============================] - 2s 6ms/step - loss: 0.1430 - f1_score: 0.9374 - val_loss: 0.7800 - val_f1_score: 0.7537\n",
            "Epoch 58/100\n",
            "417/417 [==============================] - 2s 6ms/step - loss: 0.1387 - f1_score: 0.9406 - val_loss: 0.7892 - val_f1_score: 0.7541\n",
            "Epoch 59/100\n",
            "417/417 [==============================] - 2s 6ms/step - loss: 0.1294 - f1_score: 0.9454 - val_loss: 0.9314 - val_f1_score: 0.7450\n",
            "Epoch 60/100\n",
            "417/417 [==============================] - 2s 6ms/step - loss: 0.1259 - f1_score: 0.9458 - val_loss: 0.8894 - val_f1_score: 0.7594\n",
            "Epoch 61/100\n",
            "417/417 [==============================] - 2s 6ms/step - loss: 0.1281 - f1_score: 0.9420 - val_loss: 0.8504 - val_f1_score: 0.7398\n",
            "Epoch 62/100\n",
            "417/417 [==============================] - 2s 6ms/step - loss: 0.1309 - f1_score: 0.9432 - val_loss: 0.8687 - val_f1_score: 0.7483\n",
            "Epoch 63/100\n",
            "417/417 [==============================] - 2s 6ms/step - loss: 0.1316 - f1_score: 0.9427 - val_loss: 0.8798 - val_f1_score: 0.7556\n",
            "Epoch 64/100\n",
            "417/417 [==============================] - 2s 6ms/step - loss: 0.1277 - f1_score: 0.9479 - val_loss: 0.8190 - val_f1_score: 0.7606\n",
            "Epoch 65/100\n",
            "417/417 [==============================] - 2s 6ms/step - loss: 0.1265 - f1_score: 0.9479 - val_loss: 0.8347 - val_f1_score: 0.7491\n",
            "Epoch 66/100\n",
            "417/417 [==============================] - 2s 6ms/step - loss: 0.1243 - f1_score: 0.9471 - val_loss: 0.8442 - val_f1_score: 0.7539\n",
            "Epoch 67/100\n",
            "417/417 [==============================] - 2s 6ms/step - loss: 0.1215 - f1_score: 0.9494 - val_loss: 0.8781 - val_f1_score: 0.7322\n",
            "Epoch 68/100\n",
            "417/417 [==============================] - 2s 6ms/step - loss: 0.1170 - f1_score: 0.9522 - val_loss: 0.8808 - val_f1_score: 0.7433\n",
            "Epoch 69/100\n",
            "417/417 [==============================] - 2s 6ms/step - loss: 0.1154 - f1_score: 0.9501 - val_loss: 0.8810 - val_f1_score: 0.7448\n",
            "Epoch 70/100\n",
            "417/417 [==============================] - 2s 6ms/step - loss: 0.1159 - f1_score: 0.9540 - val_loss: 0.9371 - val_f1_score: 0.7603\n",
            "Epoch 71/100\n",
            "417/417 [==============================] - 2s 6ms/step - loss: 0.1168 - f1_score: 0.9512 - val_loss: 0.9046 - val_f1_score: 0.7569\n",
            "Epoch 72/100\n",
            "417/417 [==============================] - 2s 6ms/step - loss: 0.1195 - f1_score: 0.9497 - val_loss: 0.8976 - val_f1_score: 0.7389\n",
            "Epoch 73/100\n",
            "417/417 [==============================] - 2s 6ms/step - loss: 0.1100 - f1_score: 0.9553 - val_loss: 0.9092 - val_f1_score: 0.7607\n",
            "Epoch 74/100\n",
            "417/417 [==============================] - 2s 6ms/step - loss: 0.1053 - f1_score: 0.9603 - val_loss: 0.9458 - val_f1_score: 0.7489\n",
            "Epoch 75/100\n",
            "417/417 [==============================] - 2s 6ms/step - loss: 0.1093 - f1_score: 0.9554 - val_loss: 0.9228 - val_f1_score: 0.7517\n",
            "Epoch 76/100\n",
            "417/417 [==============================] - 2s 6ms/step - loss: 0.0971 - f1_score: 0.9583 - val_loss: 0.9935 - val_f1_score: 0.7492\n",
            "Epoch 77/100\n",
            "417/417 [==============================] - 2s 6ms/step - loss: 0.1058 - f1_score: 0.9559 - val_loss: 0.9464 - val_f1_score: 0.7415\n",
            "Epoch 78/100\n",
            "417/417 [==============================] - 2s 6ms/step - loss: 0.0963 - f1_score: 0.9612 - val_loss: 0.9860 - val_f1_score: 0.7560\n",
            "Epoch 79/100\n",
            "417/417 [==============================] - 2s 6ms/step - loss: 0.1102 - f1_score: 0.9529 - val_loss: 1.0425 - val_f1_score: 0.7427\n",
            "Epoch 80/100\n",
            "417/417 [==============================] - 2s 6ms/step - loss: 0.0952 - f1_score: 0.9603 - val_loss: 0.9420 - val_f1_score: 0.7579\n",
            "Epoch 81/100\n",
            "417/417 [==============================] - 2s 6ms/step - loss: 0.1001 - f1_score: 0.9586 - val_loss: 0.9421 - val_f1_score: 0.7463\n",
            "Epoch 82/100\n",
            "417/417 [==============================] - 2s 6ms/step - loss: 0.1048 - f1_score: 0.9543 - val_loss: 0.9931 - val_f1_score: 0.7551\n",
            "Epoch 83/100\n",
            "417/417 [==============================] - 2s 6ms/step - loss: 0.0974 - f1_score: 0.9571 - val_loss: 1.0242 - val_f1_score: 0.7552\n",
            "Epoch 84/100\n",
            "417/417 [==============================] - 2s 6ms/step - loss: 0.1043 - f1_score: 0.9565 - val_loss: 0.9326 - val_f1_score: 0.7607\n"
          ],
          "name": "stdout"
        }
      ]
    },
    {
      "cell_type": "code",
      "metadata": {
        "colab": {
          "base_uri": "https://localhost:8080/"
        },
        "id": "IE28TqhAWVlz",
        "outputId": "7d6d4ce1-fa9d-4583-d2b5-76da5a84f5b8"
      },
      "source": [
        ""
      ],
      "execution_count": 185,
      "outputs": [
        {
          "output_type": "execute_result",
          "data": {
            "text/plain": [
              "['loss', 'binary_accuracy']"
            ]
          },
          "metadata": {
            "tags": []
          },
          "execution_count": 185
        }
      ]
    },
    {
      "cell_type": "markdown",
      "metadata": {
        "id": "J1sL_DTrKmpq"
      },
      "source": [
        "### 7. Avaliar a performance da Rede Neural\n",
        "\n",
        "Para avaliar a a Rede Neural, simplesmente informamos as amostras de teste: X_teste e y_teste. A função evaluate() vai retornar uma lista contendo 2 valores: loss e accuracy."
      ]
    },
    {
      "cell_type": "markdown",
      "metadata": {
        "id": "VckQfEFPvMa7"
      },
      "source": [
        "[**Python**] - Comando modelo.evaluate(X_teste, y_teste)"
      ]
    },
    {
      "cell_type": "code",
      "metadata": {
        "id": "veeKG78w4hWh"
      },
      "source": [
        "def Mostra_ConfusionMatrix(X,y):\n",
        "    y_pred = RN.predict_classes(X)\n",
        "    mc = confusion_matrix(y, y_pred)\n",
        "    #sns.heatmap(mc,annot=True, annot_kws={\"size\": 10},fmt=\"d\")\n",
        "    sns.heatmap(mc/np.sum(mc), annot=True, annot_kws={\"size\": 10}, fmt='.2%', cmap='Blues')"
      ],
      "execution_count": 338,
      "outputs": []
    },
    {
      "cell_type": "code",
      "metadata": {
        "colab": {
          "base_uri": "https://localhost:8080/"
        },
        "id": "XUJL6Y6A4hWh",
        "outputId": "ca21b860-1acf-46da-dfea-34c0651f5e27"
      },
      "source": [
        "RN.evaluate(X_teste, y_teste)"
      ],
      "execution_count": 398,
      "outputs": [
        {
          "output_type": "stream",
          "text": [
            "29/29 [==============================] - 0s 2ms/step - loss: 0.9326 - f1_score: 0.7607\n"
          ],
          "name": "stdout"
        },
        {
          "output_type": "execute_result",
          "data": {
            "text/plain": [
              "[0.9326170086860657, 0.7607496976852417]"
            ]
          },
          "metadata": {
            "tags": []
          },
          "execution_count": 398
        }
      ]
    },
    {
      "cell_type": "code",
      "metadata": {
        "colab": {
          "base_uri": "https://localhost:8080/"
        },
        "id": "g3KRG1fN4hWi",
        "outputId": "cb5760e8-b445-4c95-f16a-f748d6540c62"
      },
      "source": [
        "F1_Test=f1_score(y_teste, RN.predict_classes(X_teste), average=\"macro\")\n",
        "print(f'F1: {F1_Test}')"
      ],
      "execution_count": 399,
      "outputs": [
        {
          "output_type": "stream",
          "text": [
            "F1: 0.7658025284976988\n"
          ],
          "name": "stdout"
        }
      ]
    },
    {
      "cell_type": "code",
      "metadata": {
        "id": "HSC6yxs9VONq",
        "colab": {
          "base_uri": "https://localhost:8080/",
          "height": 265
        },
        "outputId": "29184b6a-3200-4fc4-e0bb-87bd57b44cb7"
      },
      "source": [
        "Mostra_ConfusionMatrix(X_teste, y_teste)"
      ],
      "execution_count": 400,
      "outputs": [
        {
          "output_type": "display_data",
          "data": {
            "image/png": "[encoded data removed]",
            "text/plain": [
              "<Figure size 432x288 with 2 Axes>"
            ]
          },
          "metadata": {
            "tags": [],
            "needs_background": "light"
          }
        }
      ]
    },
    {
      "cell_type": "code",
      "metadata": {
        "colab": {
          "base_uri": "https://localhost:8080/"
        },
        "id": "vdDUMlaT4hWi",
        "outputId": "000ac876-c5b0-4683-85e6-c9f42bfc7780"
      },
      "source": [
        "RN.evaluate(df_X, df_y)"
      ],
      "execution_count": 401,
      "outputs": [
        {
          "output_type": "stream",
          "text": [
            "345/345 [==============================] - 1s 2ms/step - loss: 0.4229 - f1_score: 0.7966\n"
          ],
          "name": "stdout"
        },
        {
          "output_type": "execute_result",
          "data": {
            "text/plain": [
              "[0.4229232966899872, 0.7966381907463074]"
            ]
          },
          "metadata": {
            "tags": []
          },
          "execution_count": 401
        }
      ]
    },
    {
      "cell_type": "code",
      "metadata": {
        "colab": {
          "base_uri": "https://localhost:8080/"
        },
        "id": "NbBX0xLW4hWi",
        "outputId": "0fca9e2b-fd47-4d43-fade-5d216cb21648"
      },
      "source": [
        "F1_X=f1_score(y, RN.predict_classes(X), average=\"macro\")\n",
        "print(f'F1: {F1_X}')"
      ],
      "execution_count": 402,
      "outputs": [
        {
          "output_type": "stream",
          "text": [
            "F1: 0.9691737725670654\n"
          ],
          "name": "stdout"
        }
      ]
    },
    {
      "cell_type": "code",
      "metadata": {
        "id": "uKMi5mUMVWdR",
        "colab": {
          "base_uri": "https://localhost:8080/",
          "height": 265
        },
        "outputId": "3d510a8a-1254-4075-f584-b8cd5fe1bec8"
      },
      "source": [
        "Mostra_ConfusionMatrix(df_X, df_y)"
      ],
      "execution_count": 403,
      "outputs": [
        {
          "output_type": "display_data",
          "data": {
            "image/png": "[encoded data removed]",
            "text/plain": [
              "<Figure size 432x288 with 2 Axes>"
            ]
          },
          "metadata": {
            "tags": [],
            "needs_background": "light"
          }
        }
      ]
    },
    {
      "cell_type": "code",
      "metadata": {
        "colab": {
          "base_uri": "https://localhost:8080/"
        },
        "id": "X1V4oO0R4hWi",
        "outputId": "b7a9b805-7e4b-4841-c44e-dcfb1032c7b6"
      },
      "source": [
        "RN.evaluate(X_treinamento, y_treinamento)"
      ],
      "execution_count": 404,
      "outputs": [
        {
          "output_type": "stream",
          "text": [
            "261/261 [==============================] - 0s 2ms/step - loss: 0.0313 - f1_score: 0.9913\n"
          ],
          "name": "stdout"
        },
        {
          "output_type": "execute_result",
          "data": {
            "text/plain": [
              "[0.031298063695430756, 0.9912703633308411]"
            ]
          },
          "metadata": {
            "tags": []
          },
          "execution_count": 404
        }
      ]
    },
    {
      "cell_type": "code",
      "metadata": {
        "colab": {
          "base_uri": "https://localhost:8080/"
        },
        "id": "g7cCtosc4hWi",
        "outputId": "bb829574-4c59-4370-b516-ec8af75bf1eb"
      },
      "source": [
        "F1_Trein=f1_score(y_treinamento, RN.predict_classes(X_treinamento), average=\"macro\")\n",
        "print(f'F1: {F1_Trein}')"
      ],
      "execution_count": 405,
      "outputs": [
        {
          "output_type": "stream",
          "text": [
            "F1: 0.9919117157764132\n"
          ],
          "name": "stdout"
        }
      ]
    },
    {
      "cell_type": "code",
      "metadata": {
        "colab": {
          "base_uri": "https://localhost:8080/",
          "height": 265
        },
        "id": "N89YhXgS4hWj",
        "outputId": "f3443654-6808-4329-bc11-d926f5c71bfd"
      },
      "source": [
        "Mostra_ConfusionMatrix(X_treinamento, y_treinamento)"
      ],
      "execution_count": 406,
      "outputs": [
        {
          "output_type": "display_data",
          "data": {
            "image/png": "[encoded data removed]",
            "text/plain": [
              "<Figure size 432x288 with 2 Axes>"
            ]
          },
          "metadata": {
            "tags": [],
            "needs_background": "light"
          }
        }
      ]
    },
    {
      "cell_type": "markdown",
      "metadata": {
        "id": "D5zYHcGuMPZe"
      },
      "source": [
        "### 8. _Fine tuning_ da Rede Neural\n",
        "\n",
        "Para aumentar a acurácia da Rede Neural, sugiro aumentarmos o número de neurônios na _Hidden Layer_ e/ou aumentar o número de _Hidden Layers_.\n",
        "\n",
        "No entanto, obtivemos uma acurácia razoável com a Rede Neural _baseline_. Portanto, deixo como exercício para os alunos o desafio de melhorar a acurácia desta Rede Neural."
      ]
    },
    {
      "cell_type": "markdown",
      "metadata": {
        "id": "_ISodOu-Kmp3"
      },
      "source": [
        "### 9. Fazer Predições com a Rede Neural"
      ]
    },
    {
      "cell_type": "markdown",
      "metadata": {
        "id": "_xgdL1W4vUrN"
      },
      "source": [
        "[**Python**] - Comando:\n",
        "* RN.predict_classes(X_treinamento);\n",
        "* RN.predict_classes(X_teste)."
      ]
    },
    {
      "cell_type": "code",
      "metadata": {
        "id": "kqy2rt3YfPiy"
      },
      "source": [
        "y_test = RN.predict_classes(X_test)\n"
      ],
      "execution_count": 407,
      "outputs": []
    },
    {
      "cell_type": "code",
      "metadata": {
        "id": "_C_u02mygKgt"
      },
      "source": [
        "df_submit = pd.concat([pd.DataFrame(X_test.index,columns=['id']),pd.DataFrame(y_test,columns=['target']).astype('boolean')],axis=1)\n",
        "\n"
      ],
      "execution_count": 408,
      "outputs": []
    },
    {
      "cell_type": "code",
      "metadata": {
        "colab": {
          "base_uri": "https://localhost:8080/",
          "height": 407
        },
        "id": "k-GLGzuem3cV",
        "outputId": "394ccc0e-2153-410c-9f90-ea80501f372d"
      },
      "source": [
        "df_submit"
      ],
      "execution_count": 409,
      "outputs": [
        {
          "output_type": "execute_result",
          "data": {
            "text/html": [
              "<div>\n",
              "<style scoped>\n",
              "    .dataframe tbody tr th:only-of-type {\n",
              "        vertical-align: middle;\n",
              "    }\n",
              "\n",
              "    .dataframe tbody tr th {\n",
              "        vertical-align: top;\n",
              "    }\n",
              "\n",
              "    .dataframe thead th {\n",
              "        text-align: right;\n",
              "    }\n",
              "</style>\n",
              "<table border=\"1\" class=\"dataframe\">\n",
              "  <thead>\n",
              "    <tr style=\"text-align: right;\">\n",
              "      <th></th>\n",
              "      <th>id</th>\n",
              "      <th>target</th>\n",
              "    </tr>\n",
              "  </thead>\n",
              "  <tbody>\n",
              "    <tr>\n",
              "      <th>0</th>\n",
              "      <td>3411</td>\n",
              "      <td>False</td>\n",
              "    </tr>\n",
              "    <tr>\n",
              "      <th>1</th>\n",
              "      <td>2177</td>\n",
              "      <td>False</td>\n",
              "    </tr>\n",
              "    <tr>\n",
              "      <th>2</th>\n",
              "      <td>8400</td>\n",
              "      <td>False</td>\n",
              "    </tr>\n",
              "    <tr>\n",
              "      <th>3</th>\n",
              "      <td>464</td>\n",
              "      <td>False</td>\n",
              "    </tr>\n",
              "    <tr>\n",
              "      <th>4</th>\n",
              "      <td>6672</td>\n",
              "      <td>False</td>\n",
              "    </tr>\n",
              "    <tr>\n",
              "      <th>...</th>\n",
              "      <td>...</td>\n",
              "      <td>...</td>\n",
              "    </tr>\n",
              "    <tr>\n",
              "      <th>995</th>\n",
              "      <td>8609</td>\n",
              "      <td>False</td>\n",
              "    </tr>\n",
              "    <tr>\n",
              "      <th>996</th>\n",
              "      <td>3384</td>\n",
              "      <td>False</td>\n",
              "    </tr>\n",
              "    <tr>\n",
              "      <th>997</th>\n",
              "      <td>8297</td>\n",
              "      <td>False</td>\n",
              "    </tr>\n",
              "    <tr>\n",
              "      <th>998</th>\n",
              "      <td>7556</td>\n",
              "      <td>False</td>\n",
              "    </tr>\n",
              "    <tr>\n",
              "      <th>999</th>\n",
              "      <td>8582</td>\n",
              "      <td>False</td>\n",
              "    </tr>\n",
              "  </tbody>\n",
              "</table>\n",
              "<p>1000 rows × 2 columns</p>\n",
              "</div>"
            ],
            "text/plain": [
              "       id  target\n",
              "0    3411   False\n",
              "1    2177   False\n",
              "2    8400   False\n",
              "3     464   False\n",
              "4    6672   False\n",
              "..    ...     ...\n",
              "995  8609   False\n",
              "996  3384   False\n",
              "997  8297   False\n",
              "998  7556   False\n",
              "999  8582   False\n",
              "\n",
              "[1000 rows x 2 columns]"
            ]
          },
          "metadata": {
            "tags": []
          },
          "execution_count": 409
        }
      ]
    },
    {
      "cell_type": "code",
      "metadata": {
        "id": "JU_6XlFRgPL2",
        "colab": {
          "base_uri": "https://localhost:8080/"
        },
        "outputId": "f130bf91-4bbf-4dde-df5a-99352f8f8123"
      },
      "source": [
        "df_submit['target'].value_counts()"
      ],
      "execution_count": 410,
      "outputs": [
        {
          "output_type": "execute_result",
          "data": {
            "text/plain": [
              "False    647\n",
              "True     353\n",
              "Name: target, dtype: Int64"
            ]
          },
          "metadata": {
            "tags": []
          },
          "execution_count": 410
        }
      ]
    },
    {
      "cell_type": "code",
      "metadata": {
        "id": "XhnvrX4E65vY"
      },
      "source": [
        "F = df_submit['target'].value_counts()[0]\n",
        "T = df_submit['target'].value_counts()[1]"
      ],
      "execution_count": 411,
      "outputs": []
    },
    {
      "cell_type": "code",
      "metadata": {
        "id": "wB_47tDG60uC"
      },
      "source": [
        "df_submit.to_csv(f'/PyLadies_NL_82_Test_{round(F1_Test,4)}_X_{round(F1_X,4)}_Trein_{round(F1_Trein,4)}_F{F}_T{T}.csv',index = False, sep = ',')"
      ],
      "execution_count": 412,
      "outputs": []
    },
    {
      "cell_type": "markdown",
      "metadata": {
        "id": "NpufntZjyH8T"
      },
      "source": [
        "### Salvar a Rede Neural"
      ]
    },
    {
      "cell_type": "code",
      "metadata": {
        "id": "ZKqn0leTyLOy"
      },
      "source": [
        "# Save the weights\n",
        "RN.save('/RN_82.h5')"
      ],
      "execution_count": 413,
      "outputs": []
    },
    {
      "cell_type": "code",
      "metadata": {
        "id": "viORp6XjrC66"
      },
      "source": [
        ""
      ],
      "execution_count": null,
      "outputs": []
    }
  ]
}