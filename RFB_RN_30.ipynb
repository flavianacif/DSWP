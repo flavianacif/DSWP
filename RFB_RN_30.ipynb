{
  "nbformat": 4,
  "nbformat_minor": 0,
  "metadata": {
    "colab": {
      "name": "Untitled5.ipynb",
      "provenance": [],
      "toc_visible": true,
      "authorship_tag": "ABX9TyOrzhUzylSGx0ZEp0jCtGbK",
      "include_colab_link": true
    },
    "kernelspec": {
      "name": "python3",
      "display_name": "Python 3"
    }
  },
  "cells": [
    {
      "cell_type": "markdown",
      "metadata": {
        "id": "view-in-github",
        "colab_type": "text"
      },
      "source": [
        "<a href=\"https://colab.research.google.com/github/flavianacif/DSWP/blob/master/RFB_RN_30.ipynb\" target=\"_parent\"><img src=\"https://colab.research.google.com/assets/colab-badge.svg\" alt=\"Open In Colab\"/></a>"
      ]
    },
    {
      "cell_type": "code",
      "metadata": {
        "id": "j0_YZ6IURZE_"
      },
      "source": [
        "\n",
        "import tensorflow as tf\n",
        "import numpy as np\n",
        "import pandas as pd\n",
        "import matplotlib.pyplot as plt\n",
        "import seaborn as sns\n",
        "from sklearn.metrics import confusion_matrix\n",
        "import tensorflow_addons as tfa\n",
        "\n",
        "from tensorflow import keras"
      ],
      "execution_count": 1,
      "outputs": []
    },
    {
      "cell_type": "markdown",
      "metadata": {
        "id": "9ZX00UN5cjvM"
      },
      "source": [
        "[**Python**] - Verificar a versão do Tensorflow\n",
        "> Assegurar que está a utilizar a versão 2.x."
      ]
    },
    {
      "cell_type": "code",
      "metadata": {
        "id": "THWNIk_FCe_g",
        "colab": {
          "base_uri": "https://localhost:8080/",
          "height": 35
        },
        "outputId": "8aa60fab-2316-4027-e3ad-a4e50b25bffd"
      },
      "source": [
        "tf.__version__"
      ],
      "execution_count": 2,
      "outputs": [
        {
          "output_type": "execute_result",
          "data": {
            "application/vnd.google.colaboratory.intrinsic+json": {
              "type": "string"
            },
            "text/plain": [
              "'2.3.0'"
            ]
          },
          "metadata": {
            "tags": []
          },
          "execution_count": 2
        }
      ]
    },
    {
      "cell_type": "markdown",
      "metadata": {
        "id": "PZgQAKqLcLX3"
      },
      "source": [
        "[**Python**] - Definir o número de casas decimais"
      ]
    },
    {
      "cell_type": "code",
      "metadata": {
        "id": "tzKor02BCe_d"
      },
      "source": [
        "np.set_printoptions(precision= 3)"
      ],
      "execution_count": 3,
      "outputs": []
    },
    {
      "cell_type": "markdown",
      "metadata": {
        "id": "M5V4KopjLWOL"
      },
      "source": [
        "### 1. Carregar os dados"
      ]
    },
    {
      "cell_type": "markdown",
      "metadata": {
        "id": "V_cwAUW3tseE"
      },
      "source": [
        "[**Python**] - Carregar os dados:"
      ]
    },
    {
      "cell_type": "code",
      "metadata": {
        "id": "_Bs87IWPtwtm"
      },
      "source": [
        "# Leitura do dataframe:\n",
        "df = pd.read_csv('/total_9.csv')"
      ],
      "execution_count": 4,
      "outputs": []
    },
    {
      "cell_type": "code",
      "metadata": {
        "id": "myhgteQhdqVi"
      },
      "source": [
        "df_total = df.copy()"
      ],
      "execution_count": 396,
      "outputs": []
    },
    {
      "cell_type": "code",
      "metadata": {
        "id": "xniEz9MYzeNB",
        "colab": {
          "base_uri": "https://localhost:8080/",
          "height": 217
        },
        "outputId": "11d404f6-c87f-485b-e17e-9a28ddb05939"
      },
      "source": [
        "df_total.head()\n",
        "\n"
      ],
      "execution_count": 397,
      "outputs": [
        {
          "output_type": "execute_result",
          "data": {
            "text/html": [
              "<div>\n",
              "<style scoped>\n",
              "    .dataframe tbody tr th:only-of-type {\n",
              "        vertical-align: middle;\n",
              "    }\n",
              "\n",
              "    .dataframe tbody tr th {\n",
              "        vertical-align: top;\n",
              "    }\n",
              "\n",
              "    .dataframe thead th {\n",
              "        text-align: right;\n",
              "    }\n",
              "</style>\n",
              "<table border=\"1\" class=\"dataframe\">\n",
              "  <thead>\n",
              "    <tr style=\"text-align: right;\">\n",
              "      <th></th>\n",
              "      <th>id</th>\n",
              "      <th>cnae2</th>\n",
              "      <th>rf2</th>\n",
              "      <th>md1</th>\n",
              "      <th>md2</th>\n",
              "      <th>md3</th>\n",
              "      <th>md4</th>\n",
              "      <th>md5</th>\n",
              "      <th>md6</th>\n",
              "      <th>md7</th>\n",
              "      <th>md8</th>\n",
              "      <th>md9</th>\n",
              "      <th>md10</th>\n",
              "      <th>md11</th>\n",
              "      <th>md12</th>\n",
              "      <th>mc1</th>\n",
              "      <th>mc2</th>\n",
              "      <th>mc3</th>\n",
              "      <th>mc4</th>\n",
              "      <th>ind01</th>\n",
              "      <th>ind02</th>\n",
              "      <th>ind03</th>\n",
              "      <th>ind04</th>\n",
              "      <th>ind05</th>\n",
              "      <th>ind06</th>\n",
              "      <th>ind07</th>\n",
              "      <th>ind08</th>\n",
              "      <th>ind09</th>\n",
              "      <th>ind10</th>\n",
              "      <th>ind11</th>\n",
              "      <th>ind12</th>\n",
              "      <th>ind13</th>\n",
              "      <th>ind14</th>\n",
              "      <th>ind15</th>\n",
              "      <th>ind16</th>\n",
              "      <th>ind17</th>\n",
              "      <th>ind18</th>\n",
              "      <th>ind19</th>\n",
              "      <th>ind20</th>\n",
              "      <th>ind21</th>\n",
              "      <th>ind22</th>\n",
              "      <th>ind23</th>\n",
              "      <th>ind24</th>\n",
              "      <th>ind25</th>\n",
              "      <th>ind26</th>\n",
              "      <th>ind27</th>\n",
              "      <th>ind28</th>\n",
              "      <th>ind29</th>\n",
              "      <th>ind30</th>\n",
              "      <th>ind31</th>\n",
              "      <th>ind32</th>\n",
              "      <th>ind33</th>\n",
              "      <th>ind34</th>\n",
              "      <th>ind35</th>\n",
              "      <th>ind36</th>\n",
              "      <th>ind37</th>\n",
              "      <th>ind38</th>\n",
              "      <th>ind39</th>\n",
              "      <th>ind40</th>\n",
              "      <th>ind41</th>\n",
              "      <th>ind42</th>\n",
              "      <th>ind43</th>\n",
              "      <th>target</th>\n",
              "      <th>cnae_secao</th>\n",
              "      <th>l_ind_1_mv</th>\n",
              "      <th>l_ind_2_mv</th>\n",
              "      <th>l_mc_1_mv</th>\n",
              "      <th>md1_o</th>\n",
              "      <th>md2_o</th>\n",
              "      <th>md3_o</th>\n",
              "      <th>md4_o</th>\n",
              "      <th>md5_o</th>\n",
              "      <th>md7_o</th>\n",
              "      <th>md8_o</th>\n",
              "      <th>md9_o</th>\n",
              "      <th>md10_o</th>\n",
              "      <th>md12_o</th>\n",
              "      <th>mc1_o</th>\n",
              "      <th>mc3_o</th>\n",
              "      <th>mc4_o</th>\n",
              "    </tr>\n",
              "  </thead>\n",
              "  <tbody>\n",
              "    <tr>\n",
              "      <th>0</th>\n",
              "      <td>0</td>\n",
              "      <td>86</td>\n",
              "      <td>i</td>\n",
              "      <td>0.090339</td>\n",
              "      <td>0.011256</td>\n",
              "      <td>0.111095</td>\n",
              "      <td>0.003233</td>\n",
              "      <td>0.003233</td>\n",
              "      <td>0.0</td>\n",
              "      <td>0.016366</td>\n",
              "      <td>0.021082</td>\n",
              "      <td>0.004541</td>\n",
              "      <td>0.004541</td>\n",
              "      <td>0.0</td>\n",
              "      <td>0.130930</td>\n",
              "      <td>0.009247</td>\n",
              "      <td>0.001729</td>\n",
              "      <td>0.000138</td>\n",
              "      <td>0.004412</td>\n",
              "      <td>0.0</td>\n",
              "      <td>0.0281</td>\n",
              "      <td>0.0</td>\n",
              "      <td>0.0000</td>\n",
              "      <td>0.0000</td>\n",
              "      <td>0.0000</td>\n",
              "      <td>0.0000</td>\n",
              "      <td>0.0000</td>\n",
              "      <td>0.0</td>\n",
              "      <td>0.0</td>\n",
              "      <td>0.0</td>\n",
              "      <td>0.0000</td>\n",
              "      <td>0.0000</td>\n",
              "      <td>0.0</td>\n",
              "      <td>0.0</td>\n",
              "      <td>0.0</td>\n",
              "      <td>0.0</td>\n",
              "      <td>0.0</td>\n",
              "      <td>1.0</td>\n",
              "      <td>0.0000</td>\n",
              "      <td>0.00</td>\n",
              "      <td>0.00</td>\n",
              "      <td>0.0000</td>\n",
              "      <td>0.0000</td>\n",
              "      <td>0.0976</td>\n",
              "      <td>0.0333</td>\n",
              "      <td>0.1000</td>\n",
              "      <td>0.0</td>\n",
              "      <td>0.0</td>\n",
              "      <td>0.0</td>\n",
              "      <td>0.0</td>\n",
              "      <td>0.0</td>\n",
              "      <td>1.0</td>\n",
              "      <td>0.0</td>\n",
              "      <td>1.0</td>\n",
              "      <td>1.0</td>\n",
              "      <td>1.0</td>\n",
              "      <td>0.0</td>\n",
              "      <td>0.0</td>\n",
              "      <td>0.0</td>\n",
              "      <td>0.0</td>\n",
              "      <td>0.0</td>\n",
              "      <td>0.0</td>\n",
              "      <td>1</td>\n",
              "      <td>Q</td>\n",
              "      <td>0</td>\n",
              "      <td>0</td>\n",
              "      <td>0</td>\n",
              "      <td>1.000000</td>\n",
              "      <td>0.398255</td>\n",
              "      <td>0.407658</td>\n",
              "      <td>0.114456</td>\n",
              "      <td>0.308309</td>\n",
              "      <td>0.453559</td>\n",
              "      <td>0.384122</td>\n",
              "      <td>0.111722</td>\n",
              "      <td>0.249513</td>\n",
              "      <td>0.393614</td>\n",
              "      <td>1.000000</td>\n",
              "      <td>0.044187</td>\n",
              "      <td>1.000000</td>\n",
              "    </tr>\n",
              "    <tr>\n",
              "      <th>1</th>\n",
              "      <td>1</td>\n",
              "      <td>18</td>\n",
              "      <td>z</td>\n",
              "      <td>0.005996</td>\n",
              "      <td>0.019476</td>\n",
              "      <td>0.124770</td>\n",
              "      <td>0.000000</td>\n",
              "      <td>0.038168</td>\n",
              "      <td>0.0</td>\n",
              "      <td>0.029214</td>\n",
              "      <td>0.046445</td>\n",
              "      <td>0.000000</td>\n",
              "      <td>0.049919</td>\n",
              "      <td>0.0</td>\n",
              "      <td>0.149741</td>\n",
              "      <td>0.003186</td>\n",
              "      <td>0.007671</td>\n",
              "      <td>0.006943</td>\n",
              "      <td>0.003589</td>\n",
              "      <td>0.0</td>\n",
              "      <td>0.0000</td>\n",
              "      <td>1.0</td>\n",
              "      <td>0.4167</td>\n",
              "      <td>0.4194</td>\n",
              "      <td>0.7068</td>\n",
              "      <td>0.0076</td>\n",
              "      <td>0.0076</td>\n",
              "      <td>0.0</td>\n",
              "      <td>0.0</td>\n",
              "      <td>0.0</td>\n",
              "      <td>0.0856</td>\n",
              "      <td>0.0286</td>\n",
              "      <td>0.0</td>\n",
              "      <td>0.0</td>\n",
              "      <td>0.0</td>\n",
              "      <td>0.0</td>\n",
              "      <td>0.0</td>\n",
              "      <td>0.0</td>\n",
              "      <td>0.7625</td>\n",
              "      <td>1.00</td>\n",
              "      <td>1.00</td>\n",
              "      <td>0.1429</td>\n",
              "      <td>0.2857</td>\n",
              "      <td>0.0000</td>\n",
              "      <td>0.4444</td>\n",
              "      <td>0.2222</td>\n",
              "      <td>0.0</td>\n",
              "      <td>0.0</td>\n",
              "      <td>0.0</td>\n",
              "      <td>1.0</td>\n",
              "      <td>0.0</td>\n",
              "      <td>1.0</td>\n",
              "      <td>1.0</td>\n",
              "      <td>0.0</td>\n",
              "      <td>1.0</td>\n",
              "      <td>0.0</td>\n",
              "      <td>0.0</td>\n",
              "      <td>0.0</td>\n",
              "      <td>0.0</td>\n",
              "      <td>0.0</td>\n",
              "      <td>0.0</td>\n",
              "      <td>0.0</td>\n",
              "      <td>0</td>\n",
              "      <td>C</td>\n",
              "      <td>0</td>\n",
              "      <td>0</td>\n",
              "      <td>0</td>\n",
              "      <td>0.397077</td>\n",
              "      <td>0.689104</td>\n",
              "      <td>0.844217</td>\n",
              "      <td>0.000000</td>\n",
              "      <td>1.000000</td>\n",
              "      <td>0.809609</td>\n",
              "      <td>0.908028</td>\n",
              "      <td>0.000000</td>\n",
              "      <td>1.000000</td>\n",
              "      <td>1.000000</td>\n",
              "      <td>0.807546</td>\n",
              "      <td>1.000000</td>\n",
              "      <td>1.000000</td>\n",
              "    </tr>\n",
              "    <tr>\n",
              "      <th>2</th>\n",
              "      <td>2</td>\n",
              "      <td>74</td>\n",
              "      <td>z</td>\n",
              "      <td>0.000006</td>\n",
              "      <td>0.002902</td>\n",
              "      <td>0.110160</td>\n",
              "      <td>0.002274</td>\n",
              "      <td>0.002274</td>\n",
              "      <td>0.0</td>\n",
              "      <td>0.002902</td>\n",
              "      <td>0.020058</td>\n",
              "      <td>0.003131</td>\n",
              "      <td>0.003131</td>\n",
              "      <td>0.0</td>\n",
              "      <td>0.130405</td>\n",
              "      <td>0.000015</td>\n",
              "      <td>0.000000</td>\n",
              "      <td>0.000050</td>\n",
              "      <td>0.000209</td>\n",
              "      <td>0.0</td>\n",
              "      <td>0.0000</td>\n",
              "      <td>1.0</td>\n",
              "      <td>1.0000</td>\n",
              "      <td>1.0000</td>\n",
              "      <td>1.0000</td>\n",
              "      <td>0.0000</td>\n",
              "      <td>0.0000</td>\n",
              "      <td>0.0</td>\n",
              "      <td>0.0</td>\n",
              "      <td>0.0</td>\n",
              "      <td>0.0000</td>\n",
              "      <td>0.0000</td>\n",
              "      <td>0.0</td>\n",
              "      <td>0.0</td>\n",
              "      <td>0.0</td>\n",
              "      <td>0.0</td>\n",
              "      <td>0.0</td>\n",
              "      <td>1.0</td>\n",
              "      <td>1.0000</td>\n",
              "      <td>1.00</td>\n",
              "      <td>1.00</td>\n",
              "      <td>1.0000</td>\n",
              "      <td>1.0000</td>\n",
              "      <td>0.0000</td>\n",
              "      <td>1.0000</td>\n",
              "      <td>1.0000</td>\n",
              "      <td>0.0</td>\n",
              "      <td>0.0</td>\n",
              "      <td>0.0</td>\n",
              "      <td>1.0</td>\n",
              "      <td>1.0</td>\n",
              "      <td>1.0</td>\n",
              "      <td>1.0</td>\n",
              "      <td>1.0</td>\n",
              "      <td>1.0</td>\n",
              "      <td>1.0</td>\n",
              "      <td>0.0</td>\n",
              "      <td>0.0</td>\n",
              "      <td>0.0</td>\n",
              "      <td>0.0</td>\n",
              "      <td>0.0</td>\n",
              "      <td>0.0</td>\n",
              "      <td>0</td>\n",
              "      <td>M</td>\n",
              "      <td>0</td>\n",
              "      <td>0</td>\n",
              "      <td>0</td>\n",
              "      <td>0.000383</td>\n",
              "      <td>0.102683</td>\n",
              "      <td>0.377814</td>\n",
              "      <td>0.080514</td>\n",
              "      <td>0.216878</td>\n",
              "      <td>0.080427</td>\n",
              "      <td>0.362960</td>\n",
              "      <td>0.077037</td>\n",
              "      <td>0.172051</td>\n",
              "      <td>0.352255</td>\n",
              "      <td>0.003804</td>\n",
              "      <td>0.015874</td>\n",
              "      <td>0.062344</td>\n",
              "    </tr>\n",
              "    <tr>\n",
              "      <th>3</th>\n",
              "      <td>3</td>\n",
              "      <td>49</td>\n",
              "      <td>q</td>\n",
              "      <td>0.000009</td>\n",
              "      <td>0.014526</td>\n",
              "      <td>0.120351</td>\n",
              "      <td>0.000000</td>\n",
              "      <td>0.000000</td>\n",
              "      <td>0.0</td>\n",
              "      <td>0.014526</td>\n",
              "      <td>0.032017</td>\n",
              "      <td>0.000000</td>\n",
              "      <td>0.000000</td>\n",
              "      <td>0.0</td>\n",
              "      <td>0.142568</td>\n",
              "      <td>0.000438</td>\n",
              "      <td>0.000000</td>\n",
              "      <td>0.000042</td>\n",
              "      <td>0.000115</td>\n",
              "      <td>0.0</td>\n",
              "      <td>0.0000</td>\n",
              "      <td>0.0</td>\n",
              "      <td>0.0000</td>\n",
              "      <td>0.0000</td>\n",
              "      <td>0.0000</td>\n",
              "      <td>0.2309</td>\n",
              "      <td>0.2309</td>\n",
              "      <td>0.0</td>\n",
              "      <td>0.0</td>\n",
              "      <td>0.0</td>\n",
              "      <td>0.0000</td>\n",
              "      <td>0.0000</td>\n",
              "      <td>0.0</td>\n",
              "      <td>0.0</td>\n",
              "      <td>0.0</td>\n",
              "      <td>0.0</td>\n",
              "      <td>0.0</td>\n",
              "      <td>0.0</td>\n",
              "      <td>1.0000</td>\n",
              "      <td>0.25</td>\n",
              "      <td>0.25</td>\n",
              "      <td>0.9167</td>\n",
              "      <td>0.9167</td>\n",
              "      <td>0.7857</td>\n",
              "      <td>0.1667</td>\n",
              "      <td>0.1667</td>\n",
              "      <td>0.0</td>\n",
              "      <td>0.0</td>\n",
              "      <td>0.0</td>\n",
              "      <td>0.0</td>\n",
              "      <td>0.0</td>\n",
              "      <td>1.0</td>\n",
              "      <td>0.0</td>\n",
              "      <td>1.0</td>\n",
              "      <td>0.0</td>\n",
              "      <td>1.0</td>\n",
              "      <td>0.0</td>\n",
              "      <td>0.0</td>\n",
              "      <td>0.0</td>\n",
              "      <td>0.0</td>\n",
              "      <td>0.0</td>\n",
              "      <td>0.0</td>\n",
              "      <td>0</td>\n",
              "      <td>H</td>\n",
              "      <td>0</td>\n",
              "      <td>0</td>\n",
              "      <td>0</td>\n",
              "      <td>0.000577</td>\n",
              "      <td>0.513947</td>\n",
              "      <td>0.703152</td>\n",
              "      <td>0.000000</td>\n",
              "      <td>0.000000</td>\n",
              "      <td>0.402548</td>\n",
              "      <td>0.609998</td>\n",
              "      <td>0.000000</td>\n",
              "      <td>0.000000</td>\n",
              "      <td>1.000000</td>\n",
              "      <td>0.111085</td>\n",
              "      <td>0.013452</td>\n",
              "      <td>0.034155</td>\n",
              "    </tr>\n",
              "    <tr>\n",
              "      <th>4</th>\n",
              "      <td>4</td>\n",
              "      <td>47</td>\n",
              "      <td>i</td>\n",
              "      <td>0.000191</td>\n",
              "      <td>0.004042</td>\n",
              "      <td>0.111078</td>\n",
              "      <td>0.001121</td>\n",
              "      <td>0.001121</td>\n",
              "      <td>0.0</td>\n",
              "      <td>0.006063</td>\n",
              "      <td>0.023705</td>\n",
              "      <td>0.011886</td>\n",
              "      <td>0.011886</td>\n",
              "      <td>0.0</td>\n",
              "      <td>0.131285</td>\n",
              "      <td>0.001925</td>\n",
              "      <td>0.004829</td>\n",
              "      <td>0.006355</td>\n",
              "      <td>0.000719</td>\n",
              "      <td>0.0</td>\n",
              "      <td>0.0000</td>\n",
              "      <td>0.0</td>\n",
              "      <td>0.0000</td>\n",
              "      <td>0.0000</td>\n",
              "      <td>0.0000</td>\n",
              "      <td>1.0000</td>\n",
              "      <td>1.0000</td>\n",
              "      <td>0.0</td>\n",
              "      <td>0.0</td>\n",
              "      <td>0.0</td>\n",
              "      <td>0.0000</td>\n",
              "      <td>0.0000</td>\n",
              "      <td>0.0</td>\n",
              "      <td>0.0</td>\n",
              "      <td>0.0</td>\n",
              "      <td>0.0</td>\n",
              "      <td>0.0</td>\n",
              "      <td>0.0</td>\n",
              "      <td>0.0000</td>\n",
              "      <td>0.00</td>\n",
              "      <td>0.00</td>\n",
              "      <td>0.0000</td>\n",
              "      <td>0.0000</td>\n",
              "      <td>0.0000</td>\n",
              "      <td>0.0000</td>\n",
              "      <td>0.0000</td>\n",
              "      <td>0.0</td>\n",
              "      <td>0.0</td>\n",
              "      <td>0.0</td>\n",
              "      <td>0.0</td>\n",
              "      <td>0.0</td>\n",
              "      <td>1.0</td>\n",
              "      <td>0.0</td>\n",
              "      <td>1.0</td>\n",
              "      <td>0.0</td>\n",
              "      <td>0.0</td>\n",
              "      <td>0.0</td>\n",
              "      <td>1.0</td>\n",
              "      <td>0.0</td>\n",
              "      <td>0.0</td>\n",
              "      <td>1.0</td>\n",
              "      <td>0.5</td>\n",
              "      <td>0</td>\n",
              "      <td>G</td>\n",
              "      <td>0</td>\n",
              "      <td>0</td>\n",
              "      <td>0</td>\n",
              "      <td>0.012644</td>\n",
              "      <td>0.143017</td>\n",
              "      <td>0.407120</td>\n",
              "      <td>0.039687</td>\n",
              "      <td>0.106904</td>\n",
              "      <td>0.168026</td>\n",
              "      <td>0.438292</td>\n",
              "      <td>0.292442</td>\n",
              "      <td>0.653124</td>\n",
              "      <td>0.421618</td>\n",
              "      <td>0.487878</td>\n",
              "      <td>1.000000</td>\n",
              "      <td>0.214273</td>\n",
              "    </tr>\n",
              "  </tbody>\n",
              "</table>\n",
              "</div>"
            ],
            "text/plain": [
              "   id  cnae2 rf2       md1  ...    md12_o     mc1_o     mc3_o     mc4_o\n",
              "0   0     86   i  0.090339  ...  0.393614  1.000000  0.044187  1.000000\n",
              "1   1     18   z  0.005996  ...  1.000000  0.807546  1.000000  1.000000\n",
              "2   2     74   z  0.000006  ...  0.352255  0.003804  0.015874  0.062344\n",
              "3   3     49   q  0.000009  ...  1.000000  0.111085  0.013452  0.034155\n",
              "4   4     47   i  0.000191  ...  0.421618  0.487878  1.000000  0.214273\n",
              "\n",
              "[5 rows x 80 columns]"
            ]
          },
          "metadata": {
            "tags": []
          },
          "execution_count": 397
        }
      ]
    },
    {
      "cell_type": "code",
      "metadata": {
        "id": "rWlXajfEzaMT"
      },
      "source": [
        ""
      ],
      "execution_count": 397,
      "outputs": []
    },
    {
      "cell_type": "code",
      "metadata": {
        "id": "0MfQNbWvfUkK"
      },
      "source": [
        "df_total.set_index('id', inplace=True)"
      ],
      "execution_count": 398,
      "outputs": []
    },
    {
      "cell_type": "code",
      "metadata": {
        "colab": {
          "base_uri": "https://localhost:8080/"
        },
        "id": "6730Oq3j-4w8",
        "outputId": "56dbb4f5-a2dd-4ddf-cef9-6800c1b9a1a9"
      },
      "source": [
        "df_total.columns"
      ],
      "execution_count": 399,
      "outputs": [
        {
          "output_type": "execute_result",
          "data": {
            "text/plain": [
              "Index(['cnae2', 'rf2', 'md1', 'md2', 'md3', 'md4', 'md5', 'md6', 'md7', 'md8',\n",
              "       'md9', 'md10', 'md11', 'md12', 'mc1', 'mc2', 'mc3', 'mc4', 'ind01',\n",
              "       'ind02', 'ind03', 'ind04', 'ind05', 'ind06', 'ind07', 'ind08', 'ind09',\n",
              "       'ind10', 'ind11', 'ind12', 'ind13', 'ind14', 'ind15', 'ind16', 'ind17',\n",
              "       'ind18', 'ind19', 'ind20', 'ind21', 'ind22', 'ind23', 'ind24', 'ind25',\n",
              "       'ind26', 'ind27', 'ind28', 'ind29', 'ind30', 'ind31', 'ind32', 'ind33',\n",
              "       'ind34', 'ind35', 'ind36', 'ind37', 'ind38', 'ind39', 'ind40', 'ind41',\n",
              "       'ind42', 'ind43', 'target', 'cnae_secao', 'l_ind_1_mv', 'l_ind_2_mv',\n",
              "       'l_mc_1_mv', 'md1_o', 'md2_o', 'md3_o', 'md4_o', 'md5_o', 'md7_o',\n",
              "       'md8_o', 'md9_o', 'md10_o', 'md12_o', 'mc1_o', 'mc3_o', 'mc4_o'],\n",
              "      dtype='object')"
            ]
          },
          "metadata": {
            "tags": []
          },
          "execution_count": 399
        }
      ]
    },
    {
      "cell_type": "markdown",
      "metadata": {
        "id": "6LXKr9-R_JIK"
      },
      "source": [
        "Retirando algumas colunas para testar"
      ]
    },
    {
      "cell_type": "code",
      "metadata": {
        "id": "aVnISOiD-xRk"
      },
      "source": [
        "df_total.drop(columns = ['cnae2','md1', 'md2', 'md3', 'md4', 'md5', 'md6', 'md7', 'md8',\n",
        "       'md9', 'md10', 'md11', 'md12', 'mc1', 'mc2', 'mc3', 'mc4'], inplace = True)"
      ],
      "execution_count": 400,
      "outputs": []
    },
    {
      "cell_type": "code",
      "metadata": {
        "colab": {
          "base_uri": "https://localhost:8080/"
        },
        "id": "IHt2y_5IHtRH",
        "outputId": "abdbff1a-62d6-478d-b085-80cdbe8d7167"
      },
      "source": [
        "df_total.columns"
      ],
      "execution_count": 401,
      "outputs": [
        {
          "output_type": "execute_result",
          "data": {
            "text/plain": [
              "Index(['rf2', 'ind01', 'ind02', 'ind03', 'ind04', 'ind05', 'ind06', 'ind07',\n",
              "       'ind08', 'ind09', 'ind10', 'ind11', 'ind12', 'ind13', 'ind14', 'ind15',\n",
              "       'ind16', 'ind17', 'ind18', 'ind19', 'ind20', 'ind21', 'ind22', 'ind23',\n",
              "       'ind24', 'ind25', 'ind26', 'ind27', 'ind28', 'ind29', 'ind30', 'ind31',\n",
              "       'ind32', 'ind33', 'ind34', 'ind35', 'ind36', 'ind37', 'ind38', 'ind39',\n",
              "       'ind40', 'ind41', 'ind42', 'ind43', 'target', 'cnae_secao',\n",
              "       'l_ind_1_mv', 'l_ind_2_mv', 'l_mc_1_mv', 'md1_o', 'md2_o', 'md3_o',\n",
              "       'md4_o', 'md5_o', 'md7_o', 'md8_o', 'md9_o', 'md10_o', 'md12_o',\n",
              "       'mc1_o', 'mc3_o', 'mc4_o'],\n",
              "      dtype='object')"
            ]
          },
          "metadata": {
            "tags": []
          },
          "execution_count": 401
        }
      ]
    },
    {
      "cell_type": "markdown",
      "metadata": {
        "id": "e_0lkPsR_mFp"
      },
      "source": [
        "GET DUMMIES"
      ]
    },
    {
      "cell_type": "code",
      "metadata": {
        "id": "rN72uIGk_jMI"
      },
      "source": [
        "df_total = pd.get_dummies(df_total)"
      ],
      "execution_count": 402,
      "outputs": []
    },
    {
      "cell_type": "code",
      "metadata": {
        "id": "9gYa3Hy6lrZi"
      },
      "source": [
        "df_X = df_total[df_total['target']!= 2]"
      ],
      "execution_count": 403,
      "outputs": []
    },
    {
      "cell_type": "code",
      "metadata": {
        "id": "Q5tB1ey7eAe4"
      },
      "source": [
        "df_y = df_X['target']\n",
        "df_X = df_X.drop(columns= ['target'])"
      ],
      "execution_count": 404,
      "outputs": []
    },
    {
      "cell_type": "code",
      "metadata": {
        "id": "gP38KBKPeXGf"
      },
      "source": [
        ""
      ],
      "execution_count": 404,
      "outputs": []
    },
    {
      "cell_type": "code",
      "metadata": {
        "id": "i8_BlpeteJow"
      },
      "source": [
        "X_test = df_total[df_total['target']== 2].drop(columns= ['target'])"
      ],
      "execution_count": 405,
      "outputs": []
    },
    {
      "cell_type": "code",
      "metadata": {
        "id": "noCEzzI-mJPc",
        "colab": {
          "base_uri": "https://localhost:8080/",
          "height": 276
        },
        "outputId": "724d2f9f-c357-4c56-bf9c-b7cdc544045d"
      },
      "source": [
        "df_X.head()"
      ],
      "execution_count": 406,
      "outputs": [
        {
          "output_type": "execute_result",
          "data": {
            "text/html": [
              "<div>\n",
              "<style scoped>\n",
              "    .dataframe tbody tr th:only-of-type {\n",
              "        vertical-align: middle;\n",
              "    }\n",
              "\n",
              "    .dataframe tbody tr th {\n",
              "        vertical-align: top;\n",
              "    }\n",
              "\n",
              "    .dataframe thead th {\n",
              "        text-align: right;\n",
              "    }\n",
              "</style>\n",
              "<table border=\"1\" class=\"dataframe\">\n",
              "  <thead>\n",
              "    <tr style=\"text-align: right;\">\n",
              "      <th></th>\n",
              "      <th>ind01</th>\n",
              "      <th>ind02</th>\n",
              "      <th>ind03</th>\n",
              "      <th>ind04</th>\n",
              "      <th>ind05</th>\n",
              "      <th>ind06</th>\n",
              "      <th>ind07</th>\n",
              "      <th>ind08</th>\n",
              "      <th>ind09</th>\n",
              "      <th>ind10</th>\n",
              "      <th>ind11</th>\n",
              "      <th>ind12</th>\n",
              "      <th>ind13</th>\n",
              "      <th>ind14</th>\n",
              "      <th>ind15</th>\n",
              "      <th>ind16</th>\n",
              "      <th>ind17</th>\n",
              "      <th>ind18</th>\n",
              "      <th>ind19</th>\n",
              "      <th>ind20</th>\n",
              "      <th>ind21</th>\n",
              "      <th>ind22</th>\n",
              "      <th>ind23</th>\n",
              "      <th>ind24</th>\n",
              "      <th>ind25</th>\n",
              "      <th>ind26</th>\n",
              "      <th>ind27</th>\n",
              "      <th>ind28</th>\n",
              "      <th>ind29</th>\n",
              "      <th>ind30</th>\n",
              "      <th>ind31</th>\n",
              "      <th>ind32</th>\n",
              "      <th>ind33</th>\n",
              "      <th>ind34</th>\n",
              "      <th>ind35</th>\n",
              "      <th>ind36</th>\n",
              "      <th>ind37</th>\n",
              "      <th>ind38</th>\n",
              "      <th>ind39</th>\n",
              "      <th>ind40</th>\n",
              "      <th>...</th>\n",
              "      <th>md3_o</th>\n",
              "      <th>md4_o</th>\n",
              "      <th>md5_o</th>\n",
              "      <th>md7_o</th>\n",
              "      <th>md8_o</th>\n",
              "      <th>md9_o</th>\n",
              "      <th>md10_o</th>\n",
              "      <th>md12_o</th>\n",
              "      <th>mc1_o</th>\n",
              "      <th>mc3_o</th>\n",
              "      <th>mc4_o</th>\n",
              "      <th>rf2_d</th>\n",
              "      <th>rf2_i</th>\n",
              "      <th>rf2_k</th>\n",
              "      <th>rf2_p</th>\n",
              "      <th>rf2_q</th>\n",
              "      <th>rf2_r</th>\n",
              "      <th>rf2_s</th>\n",
              "      <th>rf2_v</th>\n",
              "      <th>rf2_y</th>\n",
              "      <th>rf2_z</th>\n",
              "      <th>cnae_secao_0</th>\n",
              "      <th>cnae_secao_A</th>\n",
              "      <th>cnae_secao_B</th>\n",
              "      <th>cnae_secao_C</th>\n",
              "      <th>cnae_secao_D</th>\n",
              "      <th>cnae_secao_E</th>\n",
              "      <th>cnae_secao_F</th>\n",
              "      <th>cnae_secao_G</th>\n",
              "      <th>cnae_secao_H</th>\n",
              "      <th>cnae_secao_I</th>\n",
              "      <th>cnae_secao_J</th>\n",
              "      <th>cnae_secao_K</th>\n",
              "      <th>cnae_secao_L</th>\n",
              "      <th>cnae_secao_M</th>\n",
              "      <th>cnae_secao_N</th>\n",
              "      <th>cnae_secao_P</th>\n",
              "      <th>cnae_secao_Q</th>\n",
              "      <th>cnae_secao_R</th>\n",
              "      <th>cnae_secao_S</th>\n",
              "    </tr>\n",
              "    <tr>\n",
              "      <th>id</th>\n",
              "      <th></th>\n",
              "      <th></th>\n",
              "      <th></th>\n",
              "      <th></th>\n",
              "      <th></th>\n",
              "      <th></th>\n",
              "      <th></th>\n",
              "      <th></th>\n",
              "      <th></th>\n",
              "      <th></th>\n",
              "      <th></th>\n",
              "      <th></th>\n",
              "      <th></th>\n",
              "      <th></th>\n",
              "      <th></th>\n",
              "      <th></th>\n",
              "      <th></th>\n",
              "      <th></th>\n",
              "      <th></th>\n",
              "      <th></th>\n",
              "      <th></th>\n",
              "      <th></th>\n",
              "      <th></th>\n",
              "      <th></th>\n",
              "      <th></th>\n",
              "      <th></th>\n",
              "      <th></th>\n",
              "      <th></th>\n",
              "      <th></th>\n",
              "      <th></th>\n",
              "      <th></th>\n",
              "      <th></th>\n",
              "      <th></th>\n",
              "      <th></th>\n",
              "      <th></th>\n",
              "      <th></th>\n",
              "      <th></th>\n",
              "      <th></th>\n",
              "      <th></th>\n",
              "      <th></th>\n",
              "      <th></th>\n",
              "      <th></th>\n",
              "      <th></th>\n",
              "      <th></th>\n",
              "      <th></th>\n",
              "      <th></th>\n",
              "      <th></th>\n",
              "      <th></th>\n",
              "      <th></th>\n",
              "      <th></th>\n",
              "      <th></th>\n",
              "      <th></th>\n",
              "      <th></th>\n",
              "      <th></th>\n",
              "      <th></th>\n",
              "      <th></th>\n",
              "      <th></th>\n",
              "      <th></th>\n",
              "      <th></th>\n",
              "      <th></th>\n",
              "      <th></th>\n",
              "      <th></th>\n",
              "      <th></th>\n",
              "      <th></th>\n",
              "      <th></th>\n",
              "      <th></th>\n",
              "      <th></th>\n",
              "      <th></th>\n",
              "      <th></th>\n",
              "      <th></th>\n",
              "      <th></th>\n",
              "      <th></th>\n",
              "      <th></th>\n",
              "      <th></th>\n",
              "      <th></th>\n",
              "      <th></th>\n",
              "      <th></th>\n",
              "      <th></th>\n",
              "      <th></th>\n",
              "      <th></th>\n",
              "      <th></th>\n",
              "    </tr>\n",
              "  </thead>\n",
              "  <tbody>\n",
              "    <tr>\n",
              "      <th>0</th>\n",
              "      <td>0.0</td>\n",
              "      <td>0.0281</td>\n",
              "      <td>0.0</td>\n",
              "      <td>0.0000</td>\n",
              "      <td>0.0000</td>\n",
              "      <td>0.0000</td>\n",
              "      <td>0.0000</td>\n",
              "      <td>0.0000</td>\n",
              "      <td>0.0</td>\n",
              "      <td>0.0</td>\n",
              "      <td>0.0</td>\n",
              "      <td>0.0000</td>\n",
              "      <td>0.0000</td>\n",
              "      <td>0.0</td>\n",
              "      <td>0.0</td>\n",
              "      <td>0.0</td>\n",
              "      <td>0.0</td>\n",
              "      <td>0.0</td>\n",
              "      <td>1.0</td>\n",
              "      <td>0.0000</td>\n",
              "      <td>0.00</td>\n",
              "      <td>0.00</td>\n",
              "      <td>0.0000</td>\n",
              "      <td>0.0000</td>\n",
              "      <td>0.0976</td>\n",
              "      <td>0.0333</td>\n",
              "      <td>0.1000</td>\n",
              "      <td>0.0</td>\n",
              "      <td>0.0</td>\n",
              "      <td>0.0</td>\n",
              "      <td>0.0</td>\n",
              "      <td>0.0</td>\n",
              "      <td>1.0</td>\n",
              "      <td>0.0</td>\n",
              "      <td>1.0</td>\n",
              "      <td>1.0</td>\n",
              "      <td>1.0</td>\n",
              "      <td>0.0</td>\n",
              "      <td>0.0</td>\n",
              "      <td>0.0</td>\n",
              "      <td>...</td>\n",
              "      <td>0.407658</td>\n",
              "      <td>0.114456</td>\n",
              "      <td>0.308309</td>\n",
              "      <td>0.453559</td>\n",
              "      <td>0.384122</td>\n",
              "      <td>0.111722</td>\n",
              "      <td>0.249513</td>\n",
              "      <td>0.393614</td>\n",
              "      <td>1.000000</td>\n",
              "      <td>0.044187</td>\n",
              "      <td>1.000000</td>\n",
              "      <td>0</td>\n",
              "      <td>1</td>\n",
              "      <td>0</td>\n",
              "      <td>0</td>\n",
              "      <td>0</td>\n",
              "      <td>0</td>\n",
              "      <td>0</td>\n",
              "      <td>0</td>\n",
              "      <td>0</td>\n",
              "      <td>0</td>\n",
              "      <td>0</td>\n",
              "      <td>0</td>\n",
              "      <td>0</td>\n",
              "      <td>0</td>\n",
              "      <td>0</td>\n",
              "      <td>0</td>\n",
              "      <td>0</td>\n",
              "      <td>0</td>\n",
              "      <td>0</td>\n",
              "      <td>0</td>\n",
              "      <td>0</td>\n",
              "      <td>0</td>\n",
              "      <td>0</td>\n",
              "      <td>0</td>\n",
              "      <td>0</td>\n",
              "      <td>0</td>\n",
              "      <td>1</td>\n",
              "      <td>0</td>\n",
              "      <td>0</td>\n",
              "    </tr>\n",
              "    <tr>\n",
              "      <th>1</th>\n",
              "      <td>0.0</td>\n",
              "      <td>0.0000</td>\n",
              "      <td>1.0</td>\n",
              "      <td>0.4167</td>\n",
              "      <td>0.4194</td>\n",
              "      <td>0.7068</td>\n",
              "      <td>0.0076</td>\n",
              "      <td>0.0076</td>\n",
              "      <td>0.0</td>\n",
              "      <td>0.0</td>\n",
              "      <td>0.0</td>\n",
              "      <td>0.0856</td>\n",
              "      <td>0.0286</td>\n",
              "      <td>0.0</td>\n",
              "      <td>0.0</td>\n",
              "      <td>0.0</td>\n",
              "      <td>0.0</td>\n",
              "      <td>0.0</td>\n",
              "      <td>0.0</td>\n",
              "      <td>0.7625</td>\n",
              "      <td>1.00</td>\n",
              "      <td>1.00</td>\n",
              "      <td>0.1429</td>\n",
              "      <td>0.2857</td>\n",
              "      <td>0.0000</td>\n",
              "      <td>0.4444</td>\n",
              "      <td>0.2222</td>\n",
              "      <td>0.0</td>\n",
              "      <td>0.0</td>\n",
              "      <td>0.0</td>\n",
              "      <td>1.0</td>\n",
              "      <td>0.0</td>\n",
              "      <td>1.0</td>\n",
              "      <td>1.0</td>\n",
              "      <td>0.0</td>\n",
              "      <td>1.0</td>\n",
              "      <td>0.0</td>\n",
              "      <td>0.0</td>\n",
              "      <td>0.0</td>\n",
              "      <td>0.0</td>\n",
              "      <td>...</td>\n",
              "      <td>0.844217</td>\n",
              "      <td>0.000000</td>\n",
              "      <td>1.000000</td>\n",
              "      <td>0.809609</td>\n",
              "      <td>0.908028</td>\n",
              "      <td>0.000000</td>\n",
              "      <td>1.000000</td>\n",
              "      <td>1.000000</td>\n",
              "      <td>0.807546</td>\n",
              "      <td>1.000000</td>\n",
              "      <td>1.000000</td>\n",
              "      <td>0</td>\n",
              "      <td>0</td>\n",
              "      <td>0</td>\n",
              "      <td>0</td>\n",
              "      <td>0</td>\n",
              "      <td>0</td>\n",
              "      <td>0</td>\n",
              "      <td>0</td>\n",
              "      <td>0</td>\n",
              "      <td>1</td>\n",
              "      <td>0</td>\n",
              "      <td>0</td>\n",
              "      <td>0</td>\n",
              "      <td>1</td>\n",
              "      <td>0</td>\n",
              "      <td>0</td>\n",
              "      <td>0</td>\n",
              "      <td>0</td>\n",
              "      <td>0</td>\n",
              "      <td>0</td>\n",
              "      <td>0</td>\n",
              "      <td>0</td>\n",
              "      <td>0</td>\n",
              "      <td>0</td>\n",
              "      <td>0</td>\n",
              "      <td>0</td>\n",
              "      <td>0</td>\n",
              "      <td>0</td>\n",
              "      <td>0</td>\n",
              "    </tr>\n",
              "    <tr>\n",
              "      <th>2</th>\n",
              "      <td>0.0</td>\n",
              "      <td>0.0000</td>\n",
              "      <td>1.0</td>\n",
              "      <td>1.0000</td>\n",
              "      <td>1.0000</td>\n",
              "      <td>1.0000</td>\n",
              "      <td>0.0000</td>\n",
              "      <td>0.0000</td>\n",
              "      <td>0.0</td>\n",
              "      <td>0.0</td>\n",
              "      <td>0.0</td>\n",
              "      <td>0.0000</td>\n",
              "      <td>0.0000</td>\n",
              "      <td>0.0</td>\n",
              "      <td>0.0</td>\n",
              "      <td>0.0</td>\n",
              "      <td>0.0</td>\n",
              "      <td>0.0</td>\n",
              "      <td>1.0</td>\n",
              "      <td>1.0000</td>\n",
              "      <td>1.00</td>\n",
              "      <td>1.00</td>\n",
              "      <td>1.0000</td>\n",
              "      <td>1.0000</td>\n",
              "      <td>0.0000</td>\n",
              "      <td>1.0000</td>\n",
              "      <td>1.0000</td>\n",
              "      <td>0.0</td>\n",
              "      <td>0.0</td>\n",
              "      <td>0.0</td>\n",
              "      <td>1.0</td>\n",
              "      <td>1.0</td>\n",
              "      <td>1.0</td>\n",
              "      <td>1.0</td>\n",
              "      <td>1.0</td>\n",
              "      <td>1.0</td>\n",
              "      <td>1.0</td>\n",
              "      <td>0.0</td>\n",
              "      <td>0.0</td>\n",
              "      <td>0.0</td>\n",
              "      <td>...</td>\n",
              "      <td>0.377814</td>\n",
              "      <td>0.080514</td>\n",
              "      <td>0.216878</td>\n",
              "      <td>0.080427</td>\n",
              "      <td>0.362960</td>\n",
              "      <td>0.077037</td>\n",
              "      <td>0.172051</td>\n",
              "      <td>0.352255</td>\n",
              "      <td>0.003804</td>\n",
              "      <td>0.015874</td>\n",
              "      <td>0.062344</td>\n",
              "      <td>0</td>\n",
              "      <td>0</td>\n",
              "      <td>0</td>\n",
              "      <td>0</td>\n",
              "      <td>0</td>\n",
              "      <td>0</td>\n",
              "      <td>0</td>\n",
              "      <td>0</td>\n",
              "      <td>0</td>\n",
              "      <td>1</td>\n",
              "      <td>0</td>\n",
              "      <td>0</td>\n",
              "      <td>0</td>\n",
              "      <td>0</td>\n",
              "      <td>0</td>\n",
              "      <td>0</td>\n",
              "      <td>0</td>\n",
              "      <td>0</td>\n",
              "      <td>0</td>\n",
              "      <td>0</td>\n",
              "      <td>0</td>\n",
              "      <td>0</td>\n",
              "      <td>0</td>\n",
              "      <td>1</td>\n",
              "      <td>0</td>\n",
              "      <td>0</td>\n",
              "      <td>0</td>\n",
              "      <td>0</td>\n",
              "      <td>0</td>\n",
              "    </tr>\n",
              "    <tr>\n",
              "      <th>3</th>\n",
              "      <td>0.0</td>\n",
              "      <td>0.0000</td>\n",
              "      <td>0.0</td>\n",
              "      <td>0.0000</td>\n",
              "      <td>0.0000</td>\n",
              "      <td>0.0000</td>\n",
              "      <td>0.2309</td>\n",
              "      <td>0.2309</td>\n",
              "      <td>0.0</td>\n",
              "      <td>0.0</td>\n",
              "      <td>0.0</td>\n",
              "      <td>0.0000</td>\n",
              "      <td>0.0000</td>\n",
              "      <td>0.0</td>\n",
              "      <td>0.0</td>\n",
              "      <td>0.0</td>\n",
              "      <td>0.0</td>\n",
              "      <td>0.0</td>\n",
              "      <td>0.0</td>\n",
              "      <td>1.0000</td>\n",
              "      <td>0.25</td>\n",
              "      <td>0.25</td>\n",
              "      <td>0.9167</td>\n",
              "      <td>0.9167</td>\n",
              "      <td>0.7857</td>\n",
              "      <td>0.1667</td>\n",
              "      <td>0.1667</td>\n",
              "      <td>0.0</td>\n",
              "      <td>0.0</td>\n",
              "      <td>0.0</td>\n",
              "      <td>0.0</td>\n",
              "      <td>0.0</td>\n",
              "      <td>1.0</td>\n",
              "      <td>0.0</td>\n",
              "      <td>1.0</td>\n",
              "      <td>0.0</td>\n",
              "      <td>1.0</td>\n",
              "      <td>0.0</td>\n",
              "      <td>0.0</td>\n",
              "      <td>0.0</td>\n",
              "      <td>...</td>\n",
              "      <td>0.703152</td>\n",
              "      <td>0.000000</td>\n",
              "      <td>0.000000</td>\n",
              "      <td>0.402548</td>\n",
              "      <td>0.609998</td>\n",
              "      <td>0.000000</td>\n",
              "      <td>0.000000</td>\n",
              "      <td>1.000000</td>\n",
              "      <td>0.111085</td>\n",
              "      <td>0.013452</td>\n",
              "      <td>0.034155</td>\n",
              "      <td>0</td>\n",
              "      <td>0</td>\n",
              "      <td>0</td>\n",
              "      <td>0</td>\n",
              "      <td>1</td>\n",
              "      <td>0</td>\n",
              "      <td>0</td>\n",
              "      <td>0</td>\n",
              "      <td>0</td>\n",
              "      <td>0</td>\n",
              "      <td>0</td>\n",
              "      <td>0</td>\n",
              "      <td>0</td>\n",
              "      <td>0</td>\n",
              "      <td>0</td>\n",
              "      <td>0</td>\n",
              "      <td>0</td>\n",
              "      <td>0</td>\n",
              "      <td>1</td>\n",
              "      <td>0</td>\n",
              "      <td>0</td>\n",
              "      <td>0</td>\n",
              "      <td>0</td>\n",
              "      <td>0</td>\n",
              "      <td>0</td>\n",
              "      <td>0</td>\n",
              "      <td>0</td>\n",
              "      <td>0</td>\n",
              "      <td>0</td>\n",
              "    </tr>\n",
              "    <tr>\n",
              "      <th>4</th>\n",
              "      <td>0.0</td>\n",
              "      <td>0.0000</td>\n",
              "      <td>0.0</td>\n",
              "      <td>0.0000</td>\n",
              "      <td>0.0000</td>\n",
              "      <td>0.0000</td>\n",
              "      <td>1.0000</td>\n",
              "      <td>1.0000</td>\n",
              "      <td>0.0</td>\n",
              "      <td>0.0</td>\n",
              "      <td>0.0</td>\n",
              "      <td>0.0000</td>\n",
              "      <td>0.0000</td>\n",
              "      <td>0.0</td>\n",
              "      <td>0.0</td>\n",
              "      <td>0.0</td>\n",
              "      <td>0.0</td>\n",
              "      <td>0.0</td>\n",
              "      <td>0.0</td>\n",
              "      <td>0.0000</td>\n",
              "      <td>0.00</td>\n",
              "      <td>0.00</td>\n",
              "      <td>0.0000</td>\n",
              "      <td>0.0000</td>\n",
              "      <td>0.0000</td>\n",
              "      <td>0.0000</td>\n",
              "      <td>0.0000</td>\n",
              "      <td>0.0</td>\n",
              "      <td>0.0</td>\n",
              "      <td>0.0</td>\n",
              "      <td>0.0</td>\n",
              "      <td>0.0</td>\n",
              "      <td>1.0</td>\n",
              "      <td>0.0</td>\n",
              "      <td>1.0</td>\n",
              "      <td>0.0</td>\n",
              "      <td>0.0</td>\n",
              "      <td>0.0</td>\n",
              "      <td>1.0</td>\n",
              "      <td>0.0</td>\n",
              "      <td>...</td>\n",
              "      <td>0.407120</td>\n",
              "      <td>0.039687</td>\n",
              "      <td>0.106904</td>\n",
              "      <td>0.168026</td>\n",
              "      <td>0.438292</td>\n",
              "      <td>0.292442</td>\n",
              "      <td>0.653124</td>\n",
              "      <td>0.421618</td>\n",
              "      <td>0.487878</td>\n",
              "      <td>1.000000</td>\n",
              "      <td>0.214273</td>\n",
              "      <td>0</td>\n",
              "      <td>1</td>\n",
              "      <td>0</td>\n",
              "      <td>0</td>\n",
              "      <td>0</td>\n",
              "      <td>0</td>\n",
              "      <td>0</td>\n",
              "      <td>0</td>\n",
              "      <td>0</td>\n",
              "      <td>0</td>\n",
              "      <td>0</td>\n",
              "      <td>0</td>\n",
              "      <td>0</td>\n",
              "      <td>0</td>\n",
              "      <td>0</td>\n",
              "      <td>0</td>\n",
              "      <td>0</td>\n",
              "      <td>1</td>\n",
              "      <td>0</td>\n",
              "      <td>0</td>\n",
              "      <td>0</td>\n",
              "      <td>0</td>\n",
              "      <td>0</td>\n",
              "      <td>0</td>\n",
              "      <td>0</td>\n",
              "      <td>0</td>\n",
              "      <td>0</td>\n",
              "      <td>0</td>\n",
              "      <td>0</td>\n",
              "    </tr>\n",
              "  </tbody>\n",
              "</table>\n",
              "<p>5 rows × 88 columns</p>\n",
              "</div>"
            ],
            "text/plain": [
              "    ind01   ind02  ind03  ...  cnae_secao_Q  cnae_secao_R  cnae_secao_S\n",
              "id                        ...                                          \n",
              "0     0.0  0.0281    0.0  ...             1             0             0\n",
              "1     0.0  0.0000    1.0  ...             0             0             0\n",
              "2     0.0  0.0000    1.0  ...             0             0             0\n",
              "3     0.0  0.0000    0.0  ...             0             0             0\n",
              "4     0.0  0.0000    0.0  ...             0             0             0\n",
              "\n",
              "[5 rows x 88 columns]"
            ]
          },
          "metadata": {
            "tags": []
          },
          "execution_count": 406
        }
      ]
    },
    {
      "cell_type": "markdown",
      "metadata": {
        "id": "mBUeMtV7tzw6"
      },
      "source": [
        "[**Python**] - Mostrar as primeiras 5 linhas:"
      ]
    },
    {
      "cell_type": "code",
      "metadata": {
        "id": "rcH-y4amt3gs",
        "colab": {
          "base_uri": "https://localhost:8080/",
          "height": 276
        },
        "outputId": "de831f9f-7d56-42ab-b88a-4ff33f015ce0"
      },
      "source": [
        "X_test.head()"
      ],
      "execution_count": 407,
      "outputs": [
        {
          "output_type": "execute_result",
          "data": {
            "text/html": [
              "<div>\n",
              "<style scoped>\n",
              "    .dataframe tbody tr th:only-of-type {\n",
              "        vertical-align: middle;\n",
              "    }\n",
              "\n",
              "    .dataframe tbody tr th {\n",
              "        vertical-align: top;\n",
              "    }\n",
              "\n",
              "    .dataframe thead th {\n",
              "        text-align: right;\n",
              "    }\n",
              "</style>\n",
              "<table border=\"1\" class=\"dataframe\">\n",
              "  <thead>\n",
              "    <tr style=\"text-align: right;\">\n",
              "      <th></th>\n",
              "      <th>ind01</th>\n",
              "      <th>ind02</th>\n",
              "      <th>ind03</th>\n",
              "      <th>ind04</th>\n",
              "      <th>ind05</th>\n",
              "      <th>ind06</th>\n",
              "      <th>ind07</th>\n",
              "      <th>ind08</th>\n",
              "      <th>ind09</th>\n",
              "      <th>ind10</th>\n",
              "      <th>ind11</th>\n",
              "      <th>ind12</th>\n",
              "      <th>ind13</th>\n",
              "      <th>ind14</th>\n",
              "      <th>ind15</th>\n",
              "      <th>ind16</th>\n",
              "      <th>ind17</th>\n",
              "      <th>ind18</th>\n",
              "      <th>ind19</th>\n",
              "      <th>ind20</th>\n",
              "      <th>ind21</th>\n",
              "      <th>ind22</th>\n",
              "      <th>ind23</th>\n",
              "      <th>ind24</th>\n",
              "      <th>ind25</th>\n",
              "      <th>ind26</th>\n",
              "      <th>ind27</th>\n",
              "      <th>ind28</th>\n",
              "      <th>ind29</th>\n",
              "      <th>ind30</th>\n",
              "      <th>ind31</th>\n",
              "      <th>ind32</th>\n",
              "      <th>ind33</th>\n",
              "      <th>ind34</th>\n",
              "      <th>ind35</th>\n",
              "      <th>ind36</th>\n",
              "      <th>ind37</th>\n",
              "      <th>ind38</th>\n",
              "      <th>ind39</th>\n",
              "      <th>ind40</th>\n",
              "      <th>...</th>\n",
              "      <th>md3_o</th>\n",
              "      <th>md4_o</th>\n",
              "      <th>md5_o</th>\n",
              "      <th>md7_o</th>\n",
              "      <th>md8_o</th>\n",
              "      <th>md9_o</th>\n",
              "      <th>md10_o</th>\n",
              "      <th>md12_o</th>\n",
              "      <th>mc1_o</th>\n",
              "      <th>mc3_o</th>\n",
              "      <th>mc4_o</th>\n",
              "      <th>rf2_d</th>\n",
              "      <th>rf2_i</th>\n",
              "      <th>rf2_k</th>\n",
              "      <th>rf2_p</th>\n",
              "      <th>rf2_q</th>\n",
              "      <th>rf2_r</th>\n",
              "      <th>rf2_s</th>\n",
              "      <th>rf2_v</th>\n",
              "      <th>rf2_y</th>\n",
              "      <th>rf2_z</th>\n",
              "      <th>cnae_secao_0</th>\n",
              "      <th>cnae_secao_A</th>\n",
              "      <th>cnae_secao_B</th>\n",
              "      <th>cnae_secao_C</th>\n",
              "      <th>cnae_secao_D</th>\n",
              "      <th>cnae_secao_E</th>\n",
              "      <th>cnae_secao_F</th>\n",
              "      <th>cnae_secao_G</th>\n",
              "      <th>cnae_secao_H</th>\n",
              "      <th>cnae_secao_I</th>\n",
              "      <th>cnae_secao_J</th>\n",
              "      <th>cnae_secao_K</th>\n",
              "      <th>cnae_secao_L</th>\n",
              "      <th>cnae_secao_M</th>\n",
              "      <th>cnae_secao_N</th>\n",
              "      <th>cnae_secao_P</th>\n",
              "      <th>cnae_secao_Q</th>\n",
              "      <th>cnae_secao_R</th>\n",
              "      <th>cnae_secao_S</th>\n",
              "    </tr>\n",
              "    <tr>\n",
              "      <th>id</th>\n",
              "      <th></th>\n",
              "      <th></th>\n",
              "      <th></th>\n",
              "      <th></th>\n",
              "      <th></th>\n",
              "      <th></th>\n",
              "      <th></th>\n",
              "      <th></th>\n",
              "      <th></th>\n",
              "      <th></th>\n",
              "      <th></th>\n",
              "      <th></th>\n",
              "      <th></th>\n",
              "      <th></th>\n",
              "      <th></th>\n",
              "      <th></th>\n",
              "      <th></th>\n",
              "      <th></th>\n",
              "      <th></th>\n",
              "      <th></th>\n",
              "      <th></th>\n",
              "      <th></th>\n",
              "      <th></th>\n",
              "      <th></th>\n",
              "      <th></th>\n",
              "      <th></th>\n",
              "      <th></th>\n",
              "      <th></th>\n",
              "      <th></th>\n",
              "      <th></th>\n",
              "      <th></th>\n",
              "      <th></th>\n",
              "      <th></th>\n",
              "      <th></th>\n",
              "      <th></th>\n",
              "      <th></th>\n",
              "      <th></th>\n",
              "      <th></th>\n",
              "      <th></th>\n",
              "      <th></th>\n",
              "      <th></th>\n",
              "      <th></th>\n",
              "      <th></th>\n",
              "      <th></th>\n",
              "      <th></th>\n",
              "      <th></th>\n",
              "      <th></th>\n",
              "      <th></th>\n",
              "      <th></th>\n",
              "      <th></th>\n",
              "      <th></th>\n",
              "      <th></th>\n",
              "      <th></th>\n",
              "      <th></th>\n",
              "      <th></th>\n",
              "      <th></th>\n",
              "      <th></th>\n",
              "      <th></th>\n",
              "      <th></th>\n",
              "      <th></th>\n",
              "      <th></th>\n",
              "      <th></th>\n",
              "      <th></th>\n",
              "      <th></th>\n",
              "      <th></th>\n",
              "      <th></th>\n",
              "      <th></th>\n",
              "      <th></th>\n",
              "      <th></th>\n",
              "      <th></th>\n",
              "      <th></th>\n",
              "      <th></th>\n",
              "      <th></th>\n",
              "      <th></th>\n",
              "      <th></th>\n",
              "      <th></th>\n",
              "      <th></th>\n",
              "      <th></th>\n",
              "      <th></th>\n",
              "      <th></th>\n",
              "      <th></th>\n",
              "    </tr>\n",
              "  </thead>\n",
              "  <tbody>\n",
              "    <tr>\n",
              "      <th>3411</th>\n",
              "      <td>0.0</td>\n",
              "      <td>0.0326</td>\n",
              "      <td>0.0</td>\n",
              "      <td>1.0</td>\n",
              "      <td>1.0</td>\n",
              "      <td>0.0</td>\n",
              "      <td>0.0000</td>\n",
              "      <td>0.0000</td>\n",
              "      <td>0.0</td>\n",
              "      <td>0.0</td>\n",
              "      <td>0.0</td>\n",
              "      <td>0.0000</td>\n",
              "      <td>0.0000</td>\n",
              "      <td>0.0000</td>\n",
              "      <td>0.0</td>\n",
              "      <td>0.0</td>\n",
              "      <td>0.0</td>\n",
              "      <td>0.0</td>\n",
              "      <td>0.0000</td>\n",
              "      <td>0.0000</td>\n",
              "      <td>0.75</td>\n",
              "      <td>0.75</td>\n",
              "      <td>1.0</td>\n",
              "      <td>1.0</td>\n",
              "      <td>0.0625</td>\n",
              "      <td>0.0000</td>\n",
              "      <td>0.0</td>\n",
              "      <td>0.0</td>\n",
              "      <td>0.0</td>\n",
              "      <td>0.0</td>\n",
              "      <td>0.0</td>\n",
              "      <td>0.0</td>\n",
              "      <td>1.0</td>\n",
              "      <td>0.0</td>\n",
              "      <td>1.0</td>\n",
              "      <td>1.0</td>\n",
              "      <td>0.0</td>\n",
              "      <td>0.0</td>\n",
              "      <td>0.0</td>\n",
              "      <td>0.0</td>\n",
              "      <td>...</td>\n",
              "      <td>0.429237</td>\n",
              "      <td>0.110482</td>\n",
              "      <td>0.297611</td>\n",
              "      <td>0.150525</td>\n",
              "      <td>0.425478</td>\n",
              "      <td>0.243343</td>\n",
              "      <td>0.623462</td>\n",
              "      <td>0.424363</td>\n",
              "      <td>0.044560</td>\n",
              "      <td>4.620425e-07</td>\n",
              "      <td>0.273459</td>\n",
              "      <td>0</td>\n",
              "      <td>0</td>\n",
              "      <td>0</td>\n",
              "      <td>0</td>\n",
              "      <td>0</td>\n",
              "      <td>0</td>\n",
              "      <td>1</td>\n",
              "      <td>0</td>\n",
              "      <td>0</td>\n",
              "      <td>0</td>\n",
              "      <td>0</td>\n",
              "      <td>0</td>\n",
              "      <td>0</td>\n",
              "      <td>0</td>\n",
              "      <td>0</td>\n",
              "      <td>0</td>\n",
              "      <td>0</td>\n",
              "      <td>0</td>\n",
              "      <td>0</td>\n",
              "      <td>0</td>\n",
              "      <td>0</td>\n",
              "      <td>0</td>\n",
              "      <td>0</td>\n",
              "      <td>1</td>\n",
              "      <td>0</td>\n",
              "      <td>0</td>\n",
              "      <td>0</td>\n",
              "      <td>0</td>\n",
              "      <td>0</td>\n",
              "    </tr>\n",
              "    <tr>\n",
              "      <th>2177</th>\n",
              "      <td>0.0</td>\n",
              "      <td>0.0135</td>\n",
              "      <td>0.0</td>\n",
              "      <td>0.0</td>\n",
              "      <td>0.0</td>\n",
              "      <td>1.0</td>\n",
              "      <td>1.0000</td>\n",
              "      <td>1.0000</td>\n",
              "      <td>0.0</td>\n",
              "      <td>0.0</td>\n",
              "      <td>0.0</td>\n",
              "      <td>0.0293</td>\n",
              "      <td>0.5883</td>\n",
              "      <td>0.1016</td>\n",
              "      <td>0.0</td>\n",
              "      <td>0.0</td>\n",
              "      <td>0.0</td>\n",
              "      <td>0.0</td>\n",
              "      <td>0.0000</td>\n",
              "      <td>0.0000</td>\n",
              "      <td>1.00</td>\n",
              "      <td>0.00</td>\n",
              "      <td>0.0</td>\n",
              "      <td>0.0</td>\n",
              "      <td>0.0000</td>\n",
              "      <td>1.0000</td>\n",
              "      <td>1.0</td>\n",
              "      <td>0.0</td>\n",
              "      <td>0.0</td>\n",
              "      <td>0.0</td>\n",
              "      <td>0.0</td>\n",
              "      <td>1.0</td>\n",
              "      <td>1.0</td>\n",
              "      <td>0.0</td>\n",
              "      <td>1.0</td>\n",
              "      <td>0.0</td>\n",
              "      <td>1.0</td>\n",
              "      <td>0.0</td>\n",
              "      <td>0.0</td>\n",
              "      <td>0.0</td>\n",
              "      <td>...</td>\n",
              "      <td>0.430270</td>\n",
              "      <td>0.040200</td>\n",
              "      <td>0.000000</td>\n",
              "      <td>0.170702</td>\n",
              "      <td>0.403804</td>\n",
              "      <td>0.041478</td>\n",
              "      <td>0.000000</td>\n",
              "      <td>0.535900</td>\n",
              "      <td>1.000000</td>\n",
              "      <td>2.673173e-03</td>\n",
              "      <td>0.435962</td>\n",
              "      <td>0</td>\n",
              "      <td>0</td>\n",
              "      <td>0</td>\n",
              "      <td>0</td>\n",
              "      <td>0</td>\n",
              "      <td>0</td>\n",
              "      <td>0</td>\n",
              "      <td>0</td>\n",
              "      <td>1</td>\n",
              "      <td>0</td>\n",
              "      <td>0</td>\n",
              "      <td>0</td>\n",
              "      <td>0</td>\n",
              "      <td>0</td>\n",
              "      <td>0</td>\n",
              "      <td>0</td>\n",
              "      <td>0</td>\n",
              "      <td>0</td>\n",
              "      <td>0</td>\n",
              "      <td>0</td>\n",
              "      <td>0</td>\n",
              "      <td>0</td>\n",
              "      <td>0</td>\n",
              "      <td>0</td>\n",
              "      <td>0</td>\n",
              "      <td>0</td>\n",
              "      <td>1</td>\n",
              "      <td>0</td>\n",
              "      <td>0</td>\n",
              "    </tr>\n",
              "    <tr>\n",
              "      <th>8400</th>\n",
              "      <td>0.0</td>\n",
              "      <td>0.0438</td>\n",
              "      <td>0.0</td>\n",
              "      <td>1.0</td>\n",
              "      <td>1.0</td>\n",
              "      <td>1.0</td>\n",
              "      <td>0.0000</td>\n",
              "      <td>0.0000</td>\n",
              "      <td>0.0</td>\n",
              "      <td>0.0</td>\n",
              "      <td>0.0</td>\n",
              "      <td>0.0000</td>\n",
              "      <td>0.0000</td>\n",
              "      <td>0.0000</td>\n",
              "      <td>0.0</td>\n",
              "      <td>0.0</td>\n",
              "      <td>0.0</td>\n",
              "      <td>0.0</td>\n",
              "      <td>1.0000</td>\n",
              "      <td>1.0000</td>\n",
              "      <td>0.00</td>\n",
              "      <td>0.00</td>\n",
              "      <td>1.0</td>\n",
              "      <td>1.0</td>\n",
              "      <td>0.0000</td>\n",
              "      <td>1.0000</td>\n",
              "      <td>1.0</td>\n",
              "      <td>0.0</td>\n",
              "      <td>0.0</td>\n",
              "      <td>0.0</td>\n",
              "      <td>0.0</td>\n",
              "      <td>1.0</td>\n",
              "      <td>1.0</td>\n",
              "      <td>1.0</td>\n",
              "      <td>1.0</td>\n",
              "      <td>1.0</td>\n",
              "      <td>1.0</td>\n",
              "      <td>0.0</td>\n",
              "      <td>0.0</td>\n",
              "      <td>0.0</td>\n",
              "      <td>...</td>\n",
              "      <td>0.368574</td>\n",
              "      <td>0.000000</td>\n",
              "      <td>0.000000</td>\n",
              "      <td>0.078222</td>\n",
              "      <td>0.372541</td>\n",
              "      <td>0.000000</td>\n",
              "      <td>0.000000</td>\n",
              "      <td>0.429919</td>\n",
              "      <td>0.052227</td>\n",
              "      <td>2.394228e-02</td>\n",
              "      <td>0.196417</td>\n",
              "      <td>0</td>\n",
              "      <td>0</td>\n",
              "      <td>0</td>\n",
              "      <td>0</td>\n",
              "      <td>0</td>\n",
              "      <td>0</td>\n",
              "      <td>0</td>\n",
              "      <td>0</td>\n",
              "      <td>0</td>\n",
              "      <td>1</td>\n",
              "      <td>0</td>\n",
              "      <td>0</td>\n",
              "      <td>0</td>\n",
              "      <td>0</td>\n",
              "      <td>0</td>\n",
              "      <td>0</td>\n",
              "      <td>1</td>\n",
              "      <td>0</td>\n",
              "      <td>0</td>\n",
              "      <td>0</td>\n",
              "      <td>0</td>\n",
              "      <td>0</td>\n",
              "      <td>0</td>\n",
              "      <td>0</td>\n",
              "      <td>0</td>\n",
              "      <td>0</td>\n",
              "      <td>0</td>\n",
              "      <td>0</td>\n",
              "      <td>0</td>\n",
              "    </tr>\n",
              "    <tr>\n",
              "      <th>464</th>\n",
              "      <td>0.0</td>\n",
              "      <td>0.0000</td>\n",
              "      <td>0.0</td>\n",
              "      <td>0.0</td>\n",
              "      <td>0.0</td>\n",
              "      <td>0.0</td>\n",
              "      <td>0.4810</td>\n",
              "      <td>0.8654</td>\n",
              "      <td>0.0</td>\n",
              "      <td>0.0</td>\n",
              "      <td>0.0</td>\n",
              "      <td>0.3209</td>\n",
              "      <td>0.1926</td>\n",
              "      <td>0.0000</td>\n",
              "      <td>0.0</td>\n",
              "      <td>0.0</td>\n",
              "      <td>0.0</td>\n",
              "      <td>0.0</td>\n",
              "      <td>0.8694</td>\n",
              "      <td>0.9212</td>\n",
              "      <td>0.75</td>\n",
              "      <td>0.75</td>\n",
              "      <td>0.0</td>\n",
              "      <td>0.0</td>\n",
              "      <td>0.3091</td>\n",
              "      <td>0.1389</td>\n",
              "      <td>0.5</td>\n",
              "      <td>0.0</td>\n",
              "      <td>0.0</td>\n",
              "      <td>0.0</td>\n",
              "      <td>0.0</td>\n",
              "      <td>0.0</td>\n",
              "      <td>1.0</td>\n",
              "      <td>0.0</td>\n",
              "      <td>1.0</td>\n",
              "      <td>0.0</td>\n",
              "      <td>0.0</td>\n",
              "      <td>0.0</td>\n",
              "      <td>0.0</td>\n",
              "      <td>0.0</td>\n",
              "      <td>...</td>\n",
              "      <td>1.000000</td>\n",
              "      <td>1.000000</td>\n",
              "      <td>0.503878</td>\n",
              "      <td>1.000000</td>\n",
              "      <td>1.000000</td>\n",
              "      <td>1.000000</td>\n",
              "      <td>0.243786</td>\n",
              "      <td>1.000000</td>\n",
              "      <td>0.859042</td>\n",
              "      <td>3.538370e-01</td>\n",
              "      <td>0.926568</td>\n",
              "      <td>0</td>\n",
              "      <td>0</td>\n",
              "      <td>0</td>\n",
              "      <td>0</td>\n",
              "      <td>0</td>\n",
              "      <td>0</td>\n",
              "      <td>0</td>\n",
              "      <td>0</td>\n",
              "      <td>0</td>\n",
              "      <td>1</td>\n",
              "      <td>0</td>\n",
              "      <td>0</td>\n",
              "      <td>0</td>\n",
              "      <td>0</td>\n",
              "      <td>0</td>\n",
              "      <td>0</td>\n",
              "      <td>0</td>\n",
              "      <td>0</td>\n",
              "      <td>0</td>\n",
              "      <td>0</td>\n",
              "      <td>1</td>\n",
              "      <td>0</td>\n",
              "      <td>0</td>\n",
              "      <td>0</td>\n",
              "      <td>0</td>\n",
              "      <td>0</td>\n",
              "      <td>0</td>\n",
              "      <td>0</td>\n",
              "      <td>0</td>\n",
              "    </tr>\n",
              "    <tr>\n",
              "      <th>6672</th>\n",
              "      <td>0.0</td>\n",
              "      <td>0.0153</td>\n",
              "      <td>0.0</td>\n",
              "      <td>0.0</td>\n",
              "      <td>0.0</td>\n",
              "      <td>0.0</td>\n",
              "      <td>0.7799</td>\n",
              "      <td>0.7799</td>\n",
              "      <td>0.0</td>\n",
              "      <td>0.0</td>\n",
              "      <td>0.0</td>\n",
              "      <td>0.0000</td>\n",
              "      <td>0.0000</td>\n",
              "      <td>0.0000</td>\n",
              "      <td>0.0</td>\n",
              "      <td>0.0</td>\n",
              "      <td>0.0</td>\n",
              "      <td>0.0</td>\n",
              "      <td>0.0000</td>\n",
              "      <td>1.0000</td>\n",
              "      <td>0.00</td>\n",
              "      <td>0.00</td>\n",
              "      <td>0.0</td>\n",
              "      <td>0.0</td>\n",
              "      <td>0.0000</td>\n",
              "      <td>0.0000</td>\n",
              "      <td>0.0</td>\n",
              "      <td>0.0</td>\n",
              "      <td>0.0</td>\n",
              "      <td>0.0</td>\n",
              "      <td>0.0</td>\n",
              "      <td>0.0</td>\n",
              "      <td>1.0</td>\n",
              "      <td>0.0</td>\n",
              "      <td>1.0</td>\n",
              "      <td>1.0</td>\n",
              "      <td>1.0</td>\n",
              "      <td>0.0</td>\n",
              "      <td>0.0</td>\n",
              "      <td>0.0</td>\n",
              "      <td>...</td>\n",
              "      <td>0.394364</td>\n",
              "      <td>0.101706</td>\n",
              "      <td>0.298525</td>\n",
              "      <td>0.125698</td>\n",
              "      <td>0.375346</td>\n",
              "      <td>0.094788</td>\n",
              "      <td>0.230897</td>\n",
              "      <td>0.374840</td>\n",
              "      <td>0.193310</td>\n",
              "      <td>0.000000e+00</td>\n",
              "      <td>0.115456</td>\n",
              "      <td>0</td>\n",
              "      <td>0</td>\n",
              "      <td>0</td>\n",
              "      <td>1</td>\n",
              "      <td>0</td>\n",
              "      <td>0</td>\n",
              "      <td>0</td>\n",
              "      <td>0</td>\n",
              "      <td>0</td>\n",
              "      <td>0</td>\n",
              "      <td>0</td>\n",
              "      <td>0</td>\n",
              "      <td>0</td>\n",
              "      <td>0</td>\n",
              "      <td>0</td>\n",
              "      <td>0</td>\n",
              "      <td>0</td>\n",
              "      <td>0</td>\n",
              "      <td>0</td>\n",
              "      <td>0</td>\n",
              "      <td>0</td>\n",
              "      <td>0</td>\n",
              "      <td>0</td>\n",
              "      <td>0</td>\n",
              "      <td>0</td>\n",
              "      <td>0</td>\n",
              "      <td>1</td>\n",
              "      <td>0</td>\n",
              "      <td>0</td>\n",
              "    </tr>\n",
              "  </tbody>\n",
              "</table>\n",
              "<p>5 rows × 88 columns</p>\n",
              "</div>"
            ],
            "text/plain": [
              "      ind01   ind02  ind03  ...  cnae_secao_Q  cnae_secao_R  cnae_secao_S\n",
              "id                          ...                                          \n",
              "3411    0.0  0.0326    0.0  ...             0             0             0\n",
              "2177    0.0  0.0135    0.0  ...             1             0             0\n",
              "8400    0.0  0.0438    0.0  ...             0             0             0\n",
              "464     0.0  0.0000    0.0  ...             0             0             0\n",
              "6672    0.0  0.0153    0.0  ...             1             0             0\n",
              "\n",
              "[5 rows x 88 columns]"
            ]
          },
          "metadata": {
            "tags": []
          },
          "execution_count": 407
        }
      ]
    },
    {
      "cell_type": "markdown",
      "metadata": {
        "id": "jJaJWuUqJCha"
      },
      "source": [
        "### 3. Definir as amostras de treinamento e validação"
      ]
    },
    {
      "cell_type": "markdown",
      "metadata": {
        "id": "LoO2iEimu4SQ"
      },
      "source": [
        "[**Python**] - Definir as amostras de treinamento e validação"
      ]
    },
    {
      "cell_type": "code",
      "metadata": {
        "id": "hTCdm-F9JBGA",
        "colab": {
          "base_uri": "https://localhost:8080/"
        },
        "outputId": "f20fd063-a949-4b85-e6a1-154d4b533806"
      },
      "source": [
        "from sklearn.model_selection import train_test_split\n",
        "\n",
        "X_treinamento, X_teste, y_treinamento, y_teste= train_test_split(df_X, df_y, test_size = 0.1, random_state = 22091980) #20111974)\n",
        "print(f'X: Treinamento=  {X_treinamento.shape}; X: Teste=  {X_teste.shape}')"
      ],
      "execution_count": 408,
      "outputs": [
        {
          "output_type": "stream",
          "text": [
            "X: Treinamento=  (9929, 88); X: Teste=  (1104, 88)\n"
          ],
          "name": "stdout"
        }
      ]
    },
    {
      "cell_type": "code",
      "metadata": {
        "id": "th9CsQpB8VDK",
        "colab": {
          "base_uri": "https://localhost:8080/"
        },
        "outputId": "b5ec0651-53ab-4305-c33b-031ec036940a"
      },
      "source": [
        "print(f'Y: Treinamento =  {y_treinamento.shape}; Y: Teste = {y_teste.shape}')"
      ],
      "execution_count": 409,
      "outputs": [
        {
          "output_type": "stream",
          "text": [
            "Y: Treinamento =  (9929,); Y: Teste = (1104,)\n"
          ],
          "name": "stdout"
        }
      ]
    },
    {
      "cell_type": "markdown",
      "metadata": {
        "id": "2bL-vXiULupD"
      },
      "source": [
        "### 4. Definir a arquitetura da Rede Neural com _Tensorflow_/_Keras_"
      ]
    },
    {
      "cell_type": "markdown",
      "metadata": {
        "id": "zxETX6dTfyU5"
      },
      "source": [
        "[**Python**] - Definir a arquitetura, ou seja:\n",
        "* $N_{I}$: Número de neurônios na camada de entrada (_Input Layer_);\n",
        "* $N_{O}$: Número de neurônios na camada de saída (_Output Layer_);\n",
        "* $N_{H}$: Número de neurônios na camada escondida (_Hidden Layer_);\n",
        "* FA: Função de ativação;"
      ]
    },
    {
      "cell_type": "code",
      "metadata": {
        "colab": {
          "base_uri": "https://localhost:8080/"
        },
        "id": "yxlfHFzfpCrJ",
        "outputId": "d5313a4a-af2c-4763-ce57-651daa80e396"
      },
      "source": [
        "np.linspace(  )"
      ],
      "execution_count": 481,
      "outputs": [
        {
          "output_type": "execute_result",
          "data": {
            "text/plain": [
              "array([1.000e+01, 5.623e+22, 3.162e+44, 1.778e+66, 1.000e+88])"
            ]
          },
          "metadata": {
            "tags": []
          },
          "execution_count": 481
        }
      ]
    },
    {
      "cell_type": "code",
      "metadata": {
        "id": "F_MdsLicfyU6"
      },
      "source": [
        "# Número de Neurônios na Input Layer:\n",
        "N_I = 88\n",
        "\n",
        "# Número de neurônios na Output Layer:\n",
        "N_O = 1\n",
        "\n",
        "# Número de neurônios na Hidden Layer:\n",
        "N_H = 400\n",
        "\n",
        "N_H2 = 200\n",
        "\n",
        "N_H3=100\n",
        "\n",
        "N_H4 = 50\n",
        "\n",
        "N_H5 = 25\n",
        "\n",
        "# Função de Ativação da Hidden Layer:\n",
        "FA_H = tf.nn.leaky_relu\n",
        "#FA_H = tf.keras.activations.swish\n",
        "\n",
        "# Função de Ativação da Output Layer:\n",
        "FA_O = tf.keras.activations.sigmoid\n",
        "\n",
        "\n"
      ],
      "execution_count": 576,
      "outputs": []
    },
    {
      "cell_type": "markdown",
      "metadata": {
        "id": "SUMmDuPCcYyB"
      },
      "source": [
        "[**Python**] - Definir as sementes para NumPy e Tensorflow:\n",
        "> Por questões de reproducibilidade de resultados, use as sementes abaixo:\n",
        "\n",
        "* NumPy: 20111974;\n",
        "* Tensorflow: 20111974;"
      ]
    },
    {
      "cell_type": "code",
      "metadata": {
        "id": "T-echOBmceVy"
      },
      "source": [
        "np.random.seed(19800922)\n",
        "tf.random.set_seed(22091980)"
      ],
      "execution_count": 577,
      "outputs": []
    },
    {
      "cell_type": "markdown",
      "metadata": {
        "id": "7ZceRRdinEM2"
      },
      "source": [
        "\n",
        "[**Python**] - Definir a Rede Neural:"
      ]
    },
    {
      "cell_type": "markdown",
      "metadata": {
        "id": "nXQsSYq2DBfI"
      },
      "source": [
        "\n",
        "\n",
        "\n",
        "\n",
        "* 1 camada _dropout_ com $p= 0.1$:"
      ]
    },
    {
      "cell_type": "code",
      "metadata": {
        "id": "TRFR5Kr_nDtD",
        "colab": {
          "base_uri": "https://localhost:8080/"
        },
        "outputId": "57fa0e61-bd01-4a77-a52f-65fec401bfb8"
      },
      "source": [
        "from tensorflow.keras import Sequential\n",
        "from tensorflow.keras.layers import Dense\n",
        "from tensorflow.keras.layers import Dropout\n",
        "\n",
        "RN= Sequential()\n",
        "RN.add(Dense(N_H, input_dim= N_I, kernel_initializer= tf.keras.initializers.GlorotNormal(), activation= FA_H, kernel_constraint= tf.keras.constraints.UnitNorm()))\n",
        "RN.add(Dropout(0.1))\n",
        "RN.add(Dense(N_H2, kernel_initializer= tf.keras.initializers.GlorotNormal(), activation= FA_H, kernel_constraint= tf.keras.constraints.UnitNorm()))\n",
        "RN.add(Dropout(0.1))\n",
        "RN.add(Dense(N_H3, kernel_initializer= tf.keras.initializers.GlorotNormal(), activation= FA_H, kernel_constraint= tf.keras.constraints.UnitNorm()))\n",
        "RN.add(Dropout(0.1))\n",
        "RN.add(Dense(N_H4, kernel_initializer= tf.keras.initializers.GlorotNormal(), activation= FA_H, kernel_constraint= tf.keras.constraints.UnitNorm()))\n",
        "RN.add(Dropout(0.1))\n",
        "RN.add(Dense(N_H5, kernel_initializer= tf.keras.initializers.GlorotNormal(), activation= FA_H, kernel_constraint= tf.keras.constraints.UnitNorm()))\n",
        "RN.add(Dropout(0.1))\n",
        "RN.add(Dense(units= N_O, activation= FA_O))\n",
        "\n",
        "# Resumo da arquitetura da Rede Neural\n",
        "print(RN.summary())"
      ],
      "execution_count": 578,
      "outputs": [
        {
          "output_type": "stream",
          "text": [
            "Model: \"sequential_45\"\n",
            "_________________________________________________________________\n",
            "Layer (type)                 Output Shape              Param #   \n",
            "=================================================================\n",
            "dense_211 (Dense)            (None, 400)               35600     \n",
            "_________________________________________________________________\n",
            "dropout_166 (Dropout)        (None, 400)               0         \n",
            "_________________________________________________________________\n",
            "dense_212 (Dense)            (None, 200)               80200     \n",
            "_________________________________________________________________\n",
            "dropout_167 (Dropout)        (None, 200)               0         \n",
            "_________________________________________________________________\n",
            "dense_213 (Dense)            (None, 100)               20100     \n",
            "_________________________________________________________________\n",
            "dropout_168 (Dropout)        (None, 100)               0         \n",
            "_________________________________________________________________\n",
            "dense_214 (Dense)            (None, 50)                5050      \n",
            "_________________________________________________________________\n",
            "dropout_169 (Dropout)        (None, 50)                0         \n",
            "_________________________________________________________________\n",
            "dense_215 (Dense)            (None, 25)                1275      \n",
            "_________________________________________________________________\n",
            "dropout_170 (Dropout)        (None, 25)                0         \n",
            "_________________________________________________________________\n",
            "dense_216 (Dense)            (None, 1)                 26        \n",
            "=================================================================\n",
            "Total params: 142,251\n",
            "Trainable params: 142,251\n",
            "Non-trainable params: 0\n",
            "_________________________________________________________________\n",
            "None\n"
          ],
          "name": "stdout"
        }
      ]
    },
    {
      "cell_type": "markdown",
      "metadata": {
        "id": "4JBZf4ypGO8o"
      },
      "source": [
        "### 5. Compilar a Rede Neural\n",
        "\n",
        "Este é um problema de classificação binária (_Male_ ou _Female_). Portanto, temos:\n",
        "* optimizer= tf.keras.optimizers.Adam();\n",
        "* loss=  tf.keras.losses.MeanSquaredError() ou loss= tf.keras.losses.BinaryCrossentropy(). Particularmente, eu gosto de usar loss=  tf.keras.losses.MeanSquaredError() porque o resultado é mais intuitivo;\n",
        "* metrics= tf.keras.metrics.binary_accuracy."
      ]
    },
    {
      "cell_type": "markdown",
      "metadata": {
        "id": "USmAuw6f00wL"
      },
      "source": [
        "[**Python**] - Comando modelo.compile(optimizer, loss, metrics):"
      ]
    },
    {
      "cell_type": "code",
      "metadata": {
        "id": "h7KEi1_e6SSF"
      },
      "source": [
        "\n",
        "Algoritmo_Opt = tf.keras.optimizers.Adam()\n",
        "#Algoritmo_Opt = tf.keras.optimizers.Adam(learning_rate=0.01, beta_1=0.8, beta_2=0.99, epsilon=1e-07 , amsgrad=True,     name='Adam')\n",
        "Loss_Function = tf.keras.losses.MeanSquaredError()\n",
        "#Metrics_Perf = tf.keras.metrics.binary_accuracy\n",
        "#Metrics_Perf = 2 * (tf.keras.metrics.Recall() * tf.keras.metrics.Precision())/(tf.keras.metrics.Recall() + tf.keras.metrics.Precision())\n",
        "#recall = tf.keras.metrics.Recall()\n",
        "#prec = tf.keras.metrics.Precision()\n",
        "#Metrics_Perf = 2 * (prec * recall) / (prec + recall)\n",
        "#Metrics_Perf = tfa.metrics.F1Score(     num_classes= 1 , name=  'f1_score',threshold=0.9  )\n",
        "#F1 = 2 * (precision * recall) / (precision + recall)\n",
        "Metrics_Perf = tf.keras.metrics.binary_accuracy\n",
        "RN.compile(optimizer = Algoritmo_Opt, loss = Loss_Function,metrics = Metrics_Perf)\n",
        "#RN.compile( loss = Loss_Function,metrics = Metrics_Perf)"
      ],
      "execution_count": 579,
      "outputs": []
    },
    {
      "cell_type": "markdown",
      "metadata": {
        "id": "Hc90EeV_GojX"
      },
      "source": [
        "### 6. Ajustar a Rede Neural\n",
        "\n",
        "Obs.: A opção callbacks abaixo implementa o conceito de _early stopping_. Esta opção vai parar o processo de treinamento da Rede Neural antes de atingirmos o númerco de _epochs_ quando o modelo pára de melhorar, medido pela métrica val_loss. O parâmetro _patience_= k significa que o processo de otimização vai parar se tivermos k _epochs_ consecutivas sem observarmos melhoria da performance da Rede Neural."
      ]
    },
    {
      "cell_type": "markdown",
      "metadata": {
        "id": "XCCTtUh_vEFP"
      },
      "source": [
        "[**Python**] - Comando modelo.fit(X_treinamento, y_treinamento, epochs)"
      ]
    },
    {
      "cell_type": "code",
      "metadata": {
        "id": "EB91J6nrF0db",
        "colab": {
          "base_uri": "https://localhost:8080/"
        },
        "outputId": "8b9522e9-f8ef-44c5-c07a-867ff1a09c0a"
      },
      "source": [
        "callbacks = [tf.keras.callbacks.EarlyStopping(monitor = 'val_loss', patience = 10, min_delta = 0.001)]\n",
        "hist= RN.fit(X_treinamento, y_treinamento, epochs = 100, \n",
        "             validation_data = (X_teste, y_teste), \n",
        "             callbacks = callbacks)"
      ],
      "execution_count": 580,
      "outputs": [
        {
          "output_type": "stream",
          "text": [
            "Epoch 1/100\n",
            "311/311 [==============================] - 2s 5ms/step - loss: 0.1659 - binary_accuracy: 0.7687 - val_loss: 0.1498 - val_binary_accuracy: 0.7880\n",
            "Epoch 2/100\n",
            "311/311 [==============================] - 1s 4ms/step - loss: 0.1603 - binary_accuracy: 0.7727 - val_loss: 0.1489 - val_binary_accuracy: 0.7926\n",
            "Epoch 3/100\n",
            "311/311 [==============================] - 1s 4ms/step - loss: 0.1573 - binary_accuracy: 0.7759 - val_loss: 0.1464 - val_binary_accuracy: 0.7944\n",
            "Epoch 4/100\n",
            "311/311 [==============================] - 1s 4ms/step - loss: 0.1547 - binary_accuracy: 0.7760 - val_loss: 0.1477 - val_binary_accuracy: 0.7908\n",
            "Epoch 5/100\n",
            "311/311 [==============================] - 1s 5ms/step - loss: 0.1535 - binary_accuracy: 0.7763 - val_loss: 0.1461 - val_binary_accuracy: 0.8007\n",
            "Epoch 6/100\n",
            "311/311 [==============================] - 1s 5ms/step - loss: 0.1514 - binary_accuracy: 0.7789 - val_loss: 0.1453 - val_binary_accuracy: 0.7889\n",
            "Epoch 7/100\n",
            "311/311 [==============================] - 1s 5ms/step - loss: 0.1496 - binary_accuracy: 0.7824 - val_loss: 0.1453 - val_binary_accuracy: 0.7917\n",
            "Epoch 8/100\n",
            "311/311 [==============================] - 1s 5ms/step - loss: 0.1475 - binary_accuracy: 0.7843 - val_loss: 0.1444 - val_binary_accuracy: 0.8016\n",
            "Epoch 9/100\n",
            "311/311 [==============================] - 1s 5ms/step - loss: 0.1459 - binary_accuracy: 0.7863 - val_loss: 0.1530 - val_binary_accuracy: 0.7763\n",
            "Epoch 10/100\n",
            "311/311 [==============================] - 1s 5ms/step - loss: 0.1447 - binary_accuracy: 0.7875 - val_loss: 0.1461 - val_binary_accuracy: 0.7899\n",
            "Epoch 11/100\n",
            "311/311 [==============================] - 1s 4ms/step - loss: 0.1423 - binary_accuracy: 0.7926 - val_loss: 0.1477 - val_binary_accuracy: 0.7953\n",
            "Epoch 12/100\n",
            "311/311 [==============================] - 1s 4ms/step - loss: 0.1426 - binary_accuracy: 0.7945 - val_loss: 0.1505 - val_binary_accuracy: 0.7826\n",
            "Epoch 13/100\n",
            "311/311 [==============================] - 1s 4ms/step - loss: 0.1392 - binary_accuracy: 0.7987 - val_loss: 0.1481 - val_binary_accuracy: 0.7998\n",
            "Epoch 14/100\n",
            "311/311 [==============================] - 1s 4ms/step - loss: 0.1384 - binary_accuracy: 0.8002 - val_loss: 0.1531 - val_binary_accuracy: 0.7880\n",
            "Epoch 15/100\n",
            "311/311 [==============================] - 1s 4ms/step - loss: 0.1362 - binary_accuracy: 0.8048 - val_loss: 0.1652 - val_binary_accuracy: 0.7618\n",
            "Epoch 16/100\n",
            "311/311 [==============================] - 1s 4ms/step - loss: 0.1362 - binary_accuracy: 0.8059 - val_loss: 0.1589 - val_binary_accuracy: 0.7527\n"
          ],
          "name": "stdout"
        }
      ]
    },
    {
      "cell_type": "markdown",
      "metadata": {
        "id": "J1sL_DTrKmpq"
      },
      "source": [
        "### 7. Avaliar a performance da Rede Neural\n",
        "\n",
        "Para avaliar a a Rede Neural, simplesmente informamos as amostras de teste: X_teste e y_teste. A função evaluate() vai retornar uma lista contendo 2 valores: loss e accuracy."
      ]
    },
    {
      "cell_type": "markdown",
      "metadata": {
        "id": "VckQfEFPvMa7"
      },
      "source": [
        "[**Python**] - Comando modelo.evaluate(X_teste, y_teste)"
      ]
    },
    {
      "cell_type": "code",
      "metadata": {
        "id": "PKtRO9bMWSb-"
      },
      "source": [
        "#from sklearn.datasets import make_classification\n",
        "#from sklearn.cross_validation import StratifiedShuffleSplit\n",
        "from sklearn.metrics import accuracy_score, f1_score, precision_score, recall_score, classification_report, confusion_matrix\n",
        "\n"
      ],
      "execution_count": 447,
      "outputs": []
    },
    {
      "cell_type": "code",
      "metadata": {
        "id": "9rHeN2ftSDAR"
      },
      "source": [
        ""
      ],
      "execution_count": 77,
      "outputs": []
    },
    {
      "cell_type": "code",
      "metadata": {
        "id": "rUhEiqxfKmpv",
        "colab": {
          "base_uri": "https://localhost:8080/"
        },
        "outputId": "1ad885d9-db61-4456-e1e0-ec018ee1b7b7"
      },
      "source": [
        "RN.evaluate(X_teste, y_teste)"
      ],
      "execution_count": 581,
      "outputs": [
        {
          "output_type": "stream",
          "text": [
            "35/35 [==============================] - 0s 1ms/step - loss: 0.1589 - binary_accuracy: 0.7527\n"
          ],
          "name": "stdout"
        },
        {
          "output_type": "execute_result",
          "data": {
            "text/plain": [
              "[0.1589142382144928, 0.7527173757553101]"
            ]
          },
          "metadata": {
            "tags": []
          },
          "execution_count": 581
        }
      ]
    },
    {
      "cell_type": "code",
      "metadata": {
        "colab": {
          "base_uri": "https://localhost:8080/"
        },
        "id": "fSg1XPsjX5Pt",
        "outputId": "96061329-4ed7-49c6-c376-1f01427922a3"
      },
      "source": [
        "F1_Test=f1_score(y_teste, RN.predict_classes(X_teste), average=\"macro\")\n",
        "print(f'F1: {F1_Test}')"
      ],
      "execution_count": 582,
      "outputs": [
        {
          "output_type": "stream",
          "text": [
            "F1: 0.6105679217807364\n"
          ],
          "name": "stdout"
        }
      ]
    },
    {
      "cell_type": "code",
      "metadata": {
        "id": "xiM_zEX6epou",
        "colab": {
          "base_uri": "https://localhost:8080/"
        },
        "outputId": "2447f265-9082-4f13-c9da-559fe7de1b9b"
      },
      "source": [
        "RN.evaluate(df_X, df_y)"
      ],
      "execution_count": 583,
      "outputs": [
        {
          "output_type": "stream",
          "text": [
            "345/345 [==============================] - 0s 1ms/step - loss: 0.1341 - binary_accuracy: 0.8054\n"
          ],
          "name": "stdout"
        },
        {
          "output_type": "execute_result",
          "data": {
            "text/plain": [
              "[0.13407571613788605, 0.8054019808769226]"
            ]
          },
          "metadata": {
            "tags": []
          },
          "execution_count": 583
        }
      ]
    },
    {
      "cell_type": "code",
      "metadata": {
        "colab": {
          "base_uri": "https://localhost:8080/"
        },
        "id": "yp5VRBSgYM2e",
        "outputId": "033cf848-196f-48c6-993c-7b55ed8b4e63"
      },
      "source": [
        "F1_X=f1_score(df_y, RN.predict_classes(df_X), average=\"macro\")\n",
        "print(f'F1: {F1_X}')"
      ],
      "execution_count": 584,
      "outputs": [
        {
          "output_type": "stream",
          "text": [
            "F1: 0.7100942954586795\n"
          ],
          "name": "stdout"
        }
      ]
    },
    {
      "cell_type": "code",
      "metadata": {
        "id": "w5YwW5PCud3o",
        "colab": {
          "base_uri": "https://localhost:8080/"
        },
        "outputId": "0c0ca2dc-9e3c-4a89-87fa-b14baf23cbf5"
      },
      "source": [
        "RN.evaluate(X_treinamento, y_treinamento)"
      ],
      "execution_count": 585,
      "outputs": [
        {
          "output_type": "stream",
          "text": [
            "311/311 [==============================] - 0s 1ms/step - loss: 0.1313 - binary_accuracy: 0.8113\n"
          ],
          "name": "stdout"
        },
        {
          "output_type": "execute_result",
          "data": {
            "text/plain": [
              "[0.1313139647245407, 0.811259925365448]"
            ]
          },
          "metadata": {
            "tags": []
          },
          "execution_count": 585
        }
      ]
    },
    {
      "cell_type": "code",
      "metadata": {
        "colab": {
          "base_uri": "https://localhost:8080/"
        },
        "id": "aO6YCVmbSW-B",
        "outputId": "51c4b567-84d7-47e2-e51f-1a49cf3f55be"
      },
      "source": [
        "F1_Trein=f1_score(y_treinamento, RN.predict_classes(X_treinamento), average=\"macro\")\n",
        "print(f'F1: {F1_Trein}')"
      ],
      "execution_count": 586,
      "outputs": [
        {
          "output_type": "stream",
          "text": [
            "F1: 0.7204517196017592\n"
          ],
          "name": "stdout"
        }
      ]
    },
    {
      "cell_type": "markdown",
      "metadata": {
        "id": "agO4cGTqKmpz"
      },
      "source": [
        "A seguir, a matriz de confusão:"
      ]
    },
    {
      "cell_type": "code",
      "metadata": {
        "id": "KdiMhkVyaCDS"
      },
      "source": [
        "def Mostra_ConfusionMatrix():\n",
        "    y_pred = RN.predict_classes(df_X)\n",
        "    mc = confusion_matrix(df_y, y_pred)\n",
        "    #sns.heatmap(mc,annot=True, annot_kws={\"size\": 10},fmt=\"d\")\n",
        "    sns.heatmap(mc/np.sum(mc), annot=True, annot_kws={\"size\": 10}, fmt='.2%', cmap='Blues')"
      ],
      "execution_count": 587,
      "outputs": []
    },
    {
      "cell_type": "code",
      "metadata": {
        "id": "aLIAXu7SN7pV",
        "colab": {
          "base_uri": "https://localhost:8080/",
          "height": 264
        },
        "outputId": "14cefca9-145e-4711-a28c-47e110a99ef9"
      },
      "source": [
        "Mostra_ConfusionMatrix()"
      ],
      "execution_count": 588,
      "outputs": [
        {
          "output_type": "display_data",
          "data": {
            "image/png": "[encoded data removed]",
            "text/plain": [
              "<Figure size 432x288 with 2 Axes>"
            ]
          },
          "metadata": {
            "tags": [],
            "needs_background": "light"
          }
        }
      ]
    },
    {
      "cell_type": "markdown",
      "metadata": {
        "id": "D5zYHcGuMPZe"
      },
      "source": [
        "### 8. _Fine tuning_ da Rede Neural\n",
        "\n",
        "Para aumentar a acurácia da Rede Neural, sugiro aumentarmos o número de neurônios na _Hidden Layer_ e/ou aumentar o número de _Hidden Layers_.\n",
        "\n",
        "No entanto, obtivemos uma acurácia razoável com a Rede Neural _baseline_. Portanto, deixo como exercício para os alunos o desafio de melhorar a acurácia desta Rede Neural."
      ]
    },
    {
      "cell_type": "markdown",
      "metadata": {
        "id": "_ISodOu-Kmp3"
      },
      "source": [
        "### 9. Fazer Predições com a Rede Neural"
      ]
    },
    {
      "cell_type": "markdown",
      "metadata": {
        "id": "_xgdL1W4vUrN"
      },
      "source": [
        "[**Python**] - Comando:\n",
        "* RN.predict_classes(X_treinamento);\n",
        "* RN.predict_classes(X_teste)."
      ]
    },
    {
      "cell_type": "code",
      "metadata": {
        "id": "kqy2rt3YfPiy"
      },
      "source": [
        "y_test = RN.predict_classes(X_test)\n"
      ],
      "execution_count": 589,
      "outputs": []
    },
    {
      "cell_type": "code",
      "metadata": {
        "id": "_C_u02mygKgt"
      },
      "source": [
        "df_submit = pd.concat([pd.DataFrame(X_test.index,columns=['id']),pd.DataFrame(y_test,columns=['target']).astype('boolean')],axis=1)\n",
        "\n"
      ],
      "execution_count": 590,
      "outputs": []
    },
    {
      "cell_type": "code",
      "metadata": {
        "colab": {
          "base_uri": "https://localhost:8080/",
          "height": 197
        },
        "id": "k-GLGzuem3cV",
        "outputId": "4bff5c95-1e7c-49f3-f2bc-772911ce0b4f"
      },
      "source": [
        "df_submit.head()"
      ],
      "execution_count": 591,
      "outputs": [
        {
          "output_type": "execute_result",
          "data": {
            "text/html": [
              "<div>\n",
              "<style scoped>\n",
              "    .dataframe tbody tr th:only-of-type {\n",
              "        vertical-align: middle;\n",
              "    }\n",
              "\n",
              "    .dataframe tbody tr th {\n",
              "        vertical-align: top;\n",
              "    }\n",
              "\n",
              "    .dataframe thead th {\n",
              "        text-align: right;\n",
              "    }\n",
              "</style>\n",
              "<table border=\"1\" class=\"dataframe\">\n",
              "  <thead>\n",
              "    <tr style=\"text-align: right;\">\n",
              "      <th></th>\n",
              "      <th>id</th>\n",
              "      <th>target</th>\n",
              "    </tr>\n",
              "  </thead>\n",
              "  <tbody>\n",
              "    <tr>\n",
              "      <th>0</th>\n",
              "      <td>3411</td>\n",
              "      <td>False</td>\n",
              "    </tr>\n",
              "    <tr>\n",
              "      <th>1</th>\n",
              "      <td>2177</td>\n",
              "      <td>False</td>\n",
              "    </tr>\n",
              "    <tr>\n",
              "      <th>2</th>\n",
              "      <td>8400</td>\n",
              "      <td>False</td>\n",
              "    </tr>\n",
              "    <tr>\n",
              "      <th>3</th>\n",
              "      <td>464</td>\n",
              "      <td>True</td>\n",
              "    </tr>\n",
              "    <tr>\n",
              "      <th>4</th>\n",
              "      <td>6672</td>\n",
              "      <td>False</td>\n",
              "    </tr>\n",
              "  </tbody>\n",
              "</table>\n",
              "</div>"
            ],
            "text/plain": [
              "     id  target\n",
              "0  3411   False\n",
              "1  2177   False\n",
              "2  8400   False\n",
              "3   464    True\n",
              "4  6672   False"
            ]
          },
          "metadata": {
            "tags": []
          },
          "execution_count": 591
        }
      ]
    },
    {
      "cell_type": "code",
      "metadata": {
        "id": "aEBUqxa1mCGN"
      },
      "source": [
        "df_submit.to_csv(f'/PyLadies_NL_30_Test_{round(F1_Test,4)}_X_{round(F1_X,4)}_Trein_{round(F1_Trein,4)}.csv',index = False, sep = ',')"
      ],
      "execution_count": 592,
      "outputs": []
    },
    {
      "cell_type": "code",
      "metadata": {
        "id": "JU_6XlFRgPL2",
        "colab": {
          "base_uri": "https://localhost:8080/"
        },
        "outputId": "0cdb8fc9-846d-4dc9-959f-1498e300c0ea"
      },
      "source": [
        "df_submit['target'].value_counts()"
      ],
      "execution_count": 593,
      "outputs": [
        {
          "output_type": "execute_result",
          "data": {
            "text/plain": [
              "False    773\n",
              "True     227\n",
              "Name: target, dtype: Int64"
            ]
          },
          "metadata": {
            "tags": []
          },
          "execution_count": 593
        }
      ]
    },
    {
      "cell_type": "markdown",
      "metadata": {
        "id": "AvywP0nZMtA-"
      },
      "source": [
        "### 10. Conclusões\n",
        "\n",
        "Desenvolvemos uma Rede Neural capaz de identificar Sexo (_Gender_) com acurácia= 0.9120."
      ]
    },
    {
      "cell_type": "code",
      "metadata": {
        "id": "YL2g2pn-RfJi"
      },
      "source": [
        ""
      ],
      "execution_count": 517,
      "outputs": []
    },
    {
      "cell_type": "markdown",
      "metadata": {
        "id": "NpufntZjyH8T"
      },
      "source": [
        "### Salvar a Rede Neural"
      ]
    },
    {
      "cell_type": "code",
      "metadata": {
        "id": "ZKqn0leTyLOy"
      },
      "source": [
        "# Save the weights\n",
        "RN.save('/RN_30.h5')"
      ],
      "execution_count": 594,
      "outputs": []
    },
    {
      "cell_type": "code",
      "metadata": {
        "id": "viORp6XjrC66"
      },
      "source": [
        ""
      ],
      "execution_count": null,
      "outputs": []
    }
  ]
}