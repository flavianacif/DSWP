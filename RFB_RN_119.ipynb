{
  "nbformat": 4,
  "nbformat_minor": 0,
  "metadata": {
    "colab": {
      "name": "Untitled5.ipynb",
      "provenance": [],
      "toc_visible": true,
      "authorship_tag": "ABX9TyNSdSnLufHica0NmFiJPELC",
      "include_colab_link": true
    },
    "kernelspec": {
      "name": "python3",
      "display_name": "Python 3"
    }
  },
  "cells": [
    {
      "cell_type": "markdown",
      "metadata": {
        "id": "view-in-github",
        "colab_type": "text"
      },
      "source": [
        "<a href=\"https://colab.research.google.com/github/flavianacif/DSWP/blob/master/RFB_RN_119.ipynb\" target=\"_parent\"><img src=\"https://colab.research.google.com/assets/colab-badge.svg\" alt=\"Open In Colab\"/></a>"
      ]
    },
    {
      "cell_type": "code",
      "metadata": {
        "id": "j0_YZ6IURZE_"
      },
      "source": [
        "\n",
        "import tensorflow as tf\n",
        "import numpy as np\n",
        "import pandas as pd\n",
        "import matplotlib.pyplot as plt\n",
        "import seaborn as sns\n",
        "from sklearn.metrics import confusion_matrix\n",
        "import tensorflow_addons as tfa\n",
        "from tensorflow import keras\n",
        "from sklearn.metrics import accuracy_score, f1_score, precision_score, recall_score, classification_report, confusion_matrix\n",
        "from collections import Counter\n",
        "from imblearn.over_sampling import SMOTE\n"
      ],
      "execution_count": 145,
      "outputs": []
    },
    {
      "cell_type": "markdown",
      "metadata": {
        "id": "9ZX00UN5cjvM"
      },
      "source": [
        "[**Python**] - Verificar a versão do Tensorflow\n",
        "> Assegurar que está a utilizar a versão 2.x."
      ]
    },
    {
      "cell_type": "code",
      "metadata": {
        "id": "THWNIk_FCe_g",
        "colab": {
          "base_uri": "https://localhost:8080/",
          "height": 35
        },
        "outputId": "8e169cf5-335e-4c50-a9db-70106348ddc9"
      },
      "source": [
        "tf.__version__"
      ],
      "execution_count": 146,
      "outputs": [
        {
          "output_type": "execute_result",
          "data": {
            "application/vnd.google.colaboratory.intrinsic+json": {
              "type": "string"
            },
            "text/plain": [
              "'2.3.0'"
            ]
          },
          "metadata": {
            "tags": []
          },
          "execution_count": 146
        }
      ]
    },
    {
      "cell_type": "markdown",
      "metadata": {
        "id": "PZgQAKqLcLX3"
      },
      "source": [
        "[**Python**] - Definir o número de casas decimais"
      ]
    },
    {
      "cell_type": "code",
      "metadata": {
        "id": "tzKor02BCe_d"
      },
      "source": [
        "np.set_printoptions(precision= 3)"
      ],
      "execution_count": 147,
      "outputs": []
    },
    {
      "cell_type": "markdown",
      "metadata": {
        "id": "M5V4KopjLWOL"
      },
      "source": [
        "### 1. Carregar os dados"
      ]
    },
    {
      "cell_type": "markdown",
      "metadata": {
        "id": "V_cwAUW3tseE"
      },
      "source": [
        "[**Python**] - Carregar os dados:"
      ]
    },
    {
      "cell_type": "code",
      "metadata": {
        "id": "_Bs87IWPtwtm"
      },
      "source": [
        "# Leitura do dataframe:\n",
        "df = pd.read_csv('/total_10.csv')"
      ],
      "execution_count": 148,
      "outputs": []
    },
    {
      "cell_type": "code",
      "metadata": {
        "id": "myhgteQhdqVi"
      },
      "source": [
        "df_total = df.copy()"
      ],
      "execution_count": 149,
      "outputs": []
    },
    {
      "cell_type": "code",
      "metadata": {
        "id": "0MfQNbWvfUkK"
      },
      "source": [
        "df_total.set_index('id', inplace=True)"
      ],
      "execution_count": 150,
      "outputs": []
    },
    {
      "cell_type": "code",
      "metadata": {
        "colab": {
          "base_uri": "https://localhost:8080/"
        },
        "id": "6730Oq3j-4w8",
        "outputId": "654368de-129d-449c-ebab-769bd76126fd"
      },
      "source": [
        "df_total.columns"
      ],
      "execution_count": 151,
      "outputs": [
        {
          "output_type": "execute_result",
          "data": {
            "text/plain": [
              "Index(['cnae2', 'rf2', 'md1', 'md2', 'md3', 'md4', 'md5', 'md6', 'md7', 'md8',\n",
              "       'md9', 'md10', 'md11', 'md12', 'mc1', 'mc2', 'mc3', 'mc4', 'ind01',\n",
              "       'ind02', 'ind03', 'ind04', 'ind05', 'ind06', 'ind07', 'ind08', 'ind09',\n",
              "       'ind10', 'ind11', 'ind12', 'ind13', 'ind14', 'ind15', 'ind16', 'ind17',\n",
              "       'ind18', 'ind19', 'ind20', 'ind21', 'ind22', 'ind23', 'ind24', 'ind25',\n",
              "       'ind26', 'ind27', 'ind28', 'ind29', 'ind30', 'ind31', 'ind32', 'ind33',\n",
              "       'ind34', 'ind35', 'ind36', 'ind37', 'ind38', 'ind39', 'ind40', 'ind41',\n",
              "       'ind42', 'ind43', 'target', 'cnae_secao', 'ind_g1_mv', 'ind_g1',\n",
              "       'ind_g2_mv', 'ind_g2', 'mc_g1_mv', 'mc_g1', 'md1_o', 'md2_o', 'md3_o',\n",
              "       'md4_o', 'md5_o', 'md7_o', 'md8_o', 'md9_o', 'md10_o', 'md12_o',\n",
              "       'mc1_o', 'mc3_o', 'mc4_o'],\n",
              "      dtype='object')"
            ]
          },
          "metadata": {
            "tags": []
          },
          "execution_count": 151
        }
      ]
    },
    {
      "cell_type": "markdown",
      "metadata": {
        "id": "6LXKr9-R_JIK"
      },
      "source": [
        "Retirando algumas colunas para testar"
      ]
    },
    {
      "cell_type": "code",
      "metadata": {
        "id": "aVnISOiD-xRk"
      },
      "source": [
        "df_total.drop(columns = ['rf2','cnae2','md1', 'md2', 'md3', 'md4', 'md5', 'md6', 'md7', 'md8',\n",
        "       'md9', 'md10', 'md11', 'md12', 'mc1', 'mc2', 'mc3', 'mc4','mc_g1','ind_g1',\n",
        "       'ind_g2','ind29', 'ind30','ind33', 'ind38', 'ind40', 'ind41','ind18'], inplace = True)"
      ],
      "execution_count": 152,
      "outputs": []
    },
    {
      "cell_type": "code",
      "metadata": {
        "colab": {
          "base_uri": "https://localhost:8080/"
        },
        "id": "IHt2y_5IHtRH",
        "outputId": "390d349d-85d7-4fac-c933-35abda99c169"
      },
      "source": [
        "df_total.columns"
      ],
      "execution_count": 153,
      "outputs": [
        {
          "output_type": "execute_result",
          "data": {
            "text/plain": [
              "Index(['ind01', 'ind02', 'ind03', 'ind04', 'ind05', 'ind06', 'ind07', 'ind08',\n",
              "       'ind09', 'ind10', 'ind11', 'ind12', 'ind13', 'ind14', 'ind15', 'ind16',\n",
              "       'ind17', 'ind19', 'ind20', 'ind21', 'ind22', 'ind23', 'ind24', 'ind25',\n",
              "       'ind26', 'ind27', 'ind28', 'ind31', 'ind32', 'ind34', 'ind35', 'ind36',\n",
              "       'ind37', 'ind39', 'ind42', 'ind43', 'target', 'cnae_secao', 'ind_g1_mv',\n",
              "       'ind_g2_mv', 'mc_g1_mv', 'md1_o', 'md2_o', 'md3_o', 'md4_o', 'md5_o',\n",
              "       'md7_o', 'md8_o', 'md9_o', 'md10_o', 'md12_o', 'mc1_o', 'mc3_o',\n",
              "       'mc4_o'],\n",
              "      dtype='object')"
            ]
          },
          "metadata": {
            "tags": []
          },
          "execution_count": 153
        }
      ]
    },
    {
      "cell_type": "markdown",
      "metadata": {
        "id": "e_0lkPsR_mFp"
      },
      "source": [
        "GET DUMMIES"
      ]
    },
    {
      "cell_type": "code",
      "metadata": {
        "id": "moTlPrJk5b0T"
      },
      "source": [
        "#df_total['cnae2'] = df_total['cnae2'].astype('category')\n",
        "#df_total[['ind28', 'ind31', 'ind32', 'ind34', 'ind35', 'ind36', 'ind37', 'ind39', 'ind42', 'ind43']] = df_total[['ind28', 'ind31', 'ind32', 'ind34', 'ind35', 'ind36', 'ind37', 'ind39', 'ind42', 'ind43']].astype('category')\n",
        "#df_total[['ind28', 'ind43']] = df_total[['ind28', 'ind43']].astype('category')"
      ],
      "execution_count": 154,
      "outputs": []
    },
    {
      "cell_type": "code",
      "metadata": {
        "id": "rN72uIGk_jMI"
      },
      "source": [
        "df_total = pd.get_dummies(df_total)"
      ],
      "execution_count": 155,
      "outputs": []
    },
    {
      "cell_type": "code",
      "metadata": {
        "id": "9gYa3Hy6lrZi"
      },
      "source": [
        "X_treino = df_total[df_total['target']!= 2]"
      ],
      "execution_count": 156,
      "outputs": []
    },
    {
      "cell_type": "code",
      "metadata": {
        "id": "KeckOXBrR_X6"
      },
      "source": [
        "df_X = X_treino.copy()"
      ],
      "execution_count": 157,
      "outputs": []
    },
    {
      "cell_type": "code",
      "metadata": {
        "id": "Q5tB1ey7eAe4"
      },
      "source": [
        "df_y = df_X['target']\n",
        "df_X = df_X.drop(columns= ['target'])"
      ],
      "execution_count": 158,
      "outputs": []
    },
    {
      "cell_type": "code",
      "metadata": {
        "id": "i8_BlpeteJow"
      },
      "source": [
        "X_test = df_total[df_total['target']== 2].drop(columns= ['target'])"
      ],
      "execution_count": 159,
      "outputs": []
    },
    {
      "cell_type": "code",
      "metadata": {
        "colab": {
          "base_uri": "https://localhost:8080/"
        },
        "id": "ZKOA1SHr0oYy",
        "outputId": "fbf2d3d8-f410-42c5-cb5d-f023111270f0"
      },
      "source": [
        "X_treino.columns"
      ],
      "execution_count": 160,
      "outputs": [
        {
          "output_type": "execute_result",
          "data": {
            "text/plain": [
              "Index(['ind01', 'ind02', 'ind03', 'ind04', 'ind05', 'ind06', 'ind07', 'ind08',\n",
              "       'ind09', 'ind10', 'ind11', 'ind12', 'ind13', 'ind14', 'ind15', 'ind16',\n",
              "       'ind17', 'ind19', 'ind20', 'ind21', 'ind22', 'ind23', 'ind24', 'ind25',\n",
              "       'ind26', 'ind27', 'ind28', 'ind31', 'ind32', 'ind34', 'ind35', 'ind36',\n",
              "       'ind37', 'ind39', 'ind42', 'ind43', 'target', 'ind_g1_mv', 'ind_g2_mv',\n",
              "       'mc_g1_mv', 'md1_o', 'md2_o', 'md3_o', 'md4_o', 'md5_o', 'md7_o',\n",
              "       'md8_o', 'md9_o', 'md10_o', 'md12_o', 'mc1_o', 'mc3_o', 'mc4_o',\n",
              "       'cnae_secao_0', 'cnae_secao_A', 'cnae_secao_B', 'cnae_secao_C',\n",
              "       'cnae_secao_D', 'cnae_secao_E', 'cnae_secao_F', 'cnae_secao_G',\n",
              "       'cnae_secao_H', 'cnae_secao_I', 'cnae_secao_J', 'cnae_secao_K',\n",
              "       'cnae_secao_L', 'cnae_secao_M', 'cnae_secao_N', 'cnae_secao_P',\n",
              "       'cnae_secao_Q', 'cnae_secao_R', 'cnae_secao_S'],\n",
              "      dtype='object')"
            ]
          },
          "metadata": {
            "tags": []
          },
          "execution_count": 160
        }
      ]
    },
    {
      "cell_type": "markdown",
      "metadata": {
        "id": "qzWrM6VCSEoQ"
      },
      "source": [
        "Tratando o Balanceamento da Amostra"
      ]
    },
    {
      "cell_type": "code",
      "metadata": {
        "colab": {
          "base_uri": "https://localhost:8080/"
        },
        "id": "28lRhxtgRwEa",
        "outputId": "c284e818-84fd-461b-baa0-60541b35ddd8"
      },
      "source": [
        "qtd = Counter(X_treino['target'])\n",
        "qtd"
      ],
      "execution_count": 161,
      "outputs": [
        {
          "output_type": "execute_result",
          "data": {
            "text/plain": [
              "Counter({0: 8513, 1: 2520})"
            ]
          },
          "metadata": {
            "tags": []
          },
          "execution_count": 161
        }
      ]
    },
    {
      "cell_type": "code",
      "metadata": {
        "id": "0AZCDYSOSHLx"
      },
      "source": [
        "from imblearn.under_sampling import RandomUnderSampler\n",
        "from imblearn.pipeline import Pipeline"
      ],
      "execution_count": 162,
      "outputs": []
    },
    {
      "cell_type": "code",
      "metadata": {
        "id": "Z1FhuODySLSS"
      },
      "source": [
        "over = SMOTE(sampling_strategy = 0.5) # Reamostrar a classe minoritária para ter 10% da classe majoritária\n",
        "under = RandomUnderSampler(sampling_strategy = 0.85) # Seleciona a classe majoritária para ter 50%\n",
        "steps = [('over', over), ('under', under)]\n",
        "pipeline = Pipeline(steps = steps)"
      ],
      "execution_count": 163,
      "outputs": []
    },
    {
      "cell_type": "code",
      "metadata": {
        "colab": {
          "base_uri": "https://localhost:8080/"
        },
        "id": "dwkQt9AFSNLL",
        "outputId": "a1c78976-c5f2-4a77-a0d5-06bc4244d6a9"
      },
      "source": [
        "X, y = pipeline.fit_resample(df_X, df_y)"
      ],
      "execution_count": 164,
      "outputs": [
        {
          "output_type": "stream",
          "text": [
            "/usr/local/lib/python3.6/dist-packages/sklearn/utils/deprecation.py:87: FutureWarning: Function safe_indexing is deprecated; safe_indexing is deprecated in version 0.22 and will be removed in version 0.24.\n",
            "  warnings.warn(msg, category=FutureWarning)\n",
            "/usr/local/lib/python3.6/dist-packages/sklearn/utils/deprecation.py:87: FutureWarning: Function safe_indexing is deprecated; safe_indexing is deprecated in version 0.22 and will be removed in version 0.24.\n",
            "  warnings.warn(msg, category=FutureWarning)\n"
          ],
          "name": "stderr"
        }
      ]
    },
    {
      "cell_type": "markdown",
      "metadata": {
        "id": "m22vN2YrSWOr"
      },
      "source": [
        "ANTES/DEPOIS:"
      ]
    },
    {
      "cell_type": "code",
      "metadata": {
        "colab": {
          "base_uri": "https://localhost:8080/"
        },
        "id": "oLiFXdkqSVNz",
        "outputId": "5867af8c-2e38-4a1f-fcc9-d82e73bb668c"
      },
      "source": [
        "print(Counter(df_y),Counter(y))"
      ],
      "execution_count": 165,
      "outputs": [
        {
          "output_type": "stream",
          "text": [
            "Counter({0: 8513, 1: 2520}) Counter({0: 5007, 1: 4256})\n"
          ],
          "name": "stdout"
        }
      ]
    },
    {
      "cell_type": "markdown",
      "metadata": {
        "id": "jJaJWuUqJCha"
      },
      "source": [
        "### 3. Definir as amostras de treinamento e validação"
      ]
    },
    {
      "cell_type": "markdown",
      "metadata": {
        "id": "LoO2iEimu4SQ"
      },
      "source": [
        "[**Python**] - Definir as amostras de treinamento e validação"
      ]
    },
    {
      "cell_type": "code",
      "metadata": {
        "id": "hTCdm-F9JBGA",
        "colab": {
          "base_uri": "https://localhost:8080/"
        },
        "outputId": "a4699547-89bd-4409-dd23-7ea913358ab8"
      },
      "source": [
        "from sklearn.model_selection import train_test_split\n",
        "\n",
        "X_treinamento, X_teste, y_treinamento, y_teste= train_test_split(X, y, test_size = 0.1, random_state = 22091980) #20111974)\n",
        "print(f'X: Treinamento=  {X_treinamento.shape}; X: Teste=  {X_teste.shape}')"
      ],
      "execution_count": 166,
      "outputs": [
        {
          "output_type": "stream",
          "text": [
            "X: Treinamento=  (8336, 71); X: Teste=  (927, 71)\n"
          ],
          "name": "stdout"
        }
      ]
    },
    {
      "cell_type": "code",
      "metadata": {
        "id": "th9CsQpB8VDK",
        "colab": {
          "base_uri": "https://localhost:8080/"
        },
        "outputId": "fbabae71-2c7c-4c25-81c9-e61e7f3c1bd8"
      },
      "source": [
        "print(f'Y: Treinamento =  {y_treinamento.shape}; Y: Teste = {y_teste.shape}')"
      ],
      "execution_count": 167,
      "outputs": [
        {
          "output_type": "stream",
          "text": [
            "Y: Treinamento =  (8336,); Y: Teste = (927,)\n"
          ],
          "name": "stdout"
        }
      ]
    },
    {
      "cell_type": "markdown",
      "metadata": {
        "id": "2bL-vXiULupD"
      },
      "source": [
        "### 4. Definir a arquitetura da Rede Neural com _Tensorflow_/_Keras_"
      ]
    },
    {
      "cell_type": "markdown",
      "metadata": {
        "id": "zxETX6dTfyU5"
      },
      "source": [
        "[**Python**] - Definir a arquitetura, ou seja:\n",
        "* $N_{I}$: Número de neurônios na camada de entrada (_Input Layer_);\n",
        "* $N_{O}$: Número de neurônios na camada de saída (_Output Layer_);\n",
        "* $N_{H}$: Número de neurônios na camada escondida (_Hidden Layer_);\n",
        "* FA: Função de ativação;"
      ]
    },
    {
      "cell_type": "code",
      "metadata": {
        "id": "F_MdsLicfyU6"
      },
      "source": [
        "# Número de Neurônios na Input Layer:\n",
        "N_I = 71\n",
        "\n",
        "# Número de neurônios na Output Layer:\n",
        "N_O = 1\n",
        "\n",
        "# Número de neurônios na Hidden Layer:\n",
        "N_H = 400\n",
        "\n",
        "N_H2 = 300\n",
        "\n",
        "N_H3=200\n",
        "\n",
        "N_H4 = 100\n",
        "\n",
        "N_H5 = 50\n",
        "\n",
        "N_H6 = 2\n",
        "\n",
        "\n",
        "\n",
        "# Função de Ativação da Hidden Layer:\n",
        "FA_H = tf.nn.leaky_relu\n",
        "#FA_H = tf.keras.activations.swish\n",
        "\n",
        "# Função de Ativação da Output Layer:\n",
        "FA_O = tf.keras.activations.sigmoid\n",
        "#FA_O = tf.keras.activations.softmax\n",
        "\n",
        "\n"
      ],
      "execution_count": 168,
      "outputs": []
    },
    {
      "cell_type": "markdown",
      "metadata": {
        "id": "SUMmDuPCcYyB"
      },
      "source": [
        "[**Python**] - Definir as sementes para NumPy e Tensorflow:\n",
        "> Por questões de reproducibilidade de resultados, use as sementes abaixo:\n",
        "\n",
        "* NumPy: 20111974;\n",
        "* Tensorflow: 20111974;"
      ]
    },
    {
      "cell_type": "code",
      "metadata": {
        "id": "T-echOBmceVy"
      },
      "source": [
        "np.random.seed(19800922)\n",
        "tf.random.set_seed(22091980)"
      ],
      "execution_count": 169,
      "outputs": []
    },
    {
      "cell_type": "markdown",
      "metadata": {
        "id": "7ZceRRdinEM2"
      },
      "source": [
        "\n",
        "[**Python**] - Definir a Rede Neural:"
      ]
    },
    {
      "cell_type": "markdown",
      "metadata": {
        "id": "nXQsSYq2DBfI"
      },
      "source": [
        "\n",
        "\n",
        "\n",
        "\n",
        "* 1 camada _dropout_ com $p= 0.1$:"
      ]
    },
    {
      "cell_type": "code",
      "metadata": {
        "id": "TRFR5Kr_nDtD",
        "colab": {
          "base_uri": "https://localhost:8080/"
        },
        "outputId": "c128a9f9-bafb-488c-8a10-e245e35c1a0d"
      },
      "source": [
        "from tensorflow.keras import Sequential\n",
        "from tensorflow.keras.layers import Dense\n",
        "from tensorflow.keras.layers import Dropout\n",
        "\n",
        "RN= Sequential()\n",
        "RN.add(Dense(N_H, input_dim= N_I, kernel_initializer= tf.keras.initializers.GlorotNormal(), activation= FA_H, kernel_constraint= tf.keras.constraints.UnitNorm()))\n",
        "RN.add(Dropout(0.3))\n",
        "RN.add(Dense(N_H2, kernel_initializer= tf.keras.initializers.GlorotNormal(), activation= FA_H, kernel_constraint= tf.keras.constraints.UnitNorm()))\n",
        "RN.add(Dropout(0.3))\n",
        "RN.add(Dense(N_H3, kernel_initializer= tf.keras.initializers.GlorotNormal(), activation= FA_H, kernel_constraint= tf.keras.constraints.UnitNorm()))\n",
        "RN.add(Dropout(0.3))\n",
        "RN.add(Dense(N_H4, kernel_initializer= tf.keras.initializers.GlorotNormal(), activation= FA_H, kernel_constraint= tf.keras.constraints.UnitNorm()))\n",
        "RN.add(Dropout(0.3))\n",
        "RN.add(Dense(N_H5, kernel_initializer= tf.keras.initializers.GlorotNormal(), activation= FA_H, kernel_constraint= tf.keras.constraints.UnitNorm()))\n",
        "RN.add(Dropout(0.3))\n",
        "RN.add(Dense(N_H6, kernel_initializer= tf.keras.initializers.GlorotNormal(), activation= FA_H, kernel_constraint= tf.keras.constraints.UnitNorm()))\n",
        "RN.add(Dropout(0.3))\n",
        "RN.add(Dense(units= N_O, activation= FA_O))\n",
        "\n",
        "# Resumo da arquitetura da Rede Neural\n",
        "print(RN.summary())"
      ],
      "execution_count": 170,
      "outputs": [
        {
          "output_type": "stream",
          "text": [
            "Model: \"sequential_6\"\n",
            "_________________________________________________________________\n",
            "Layer (type)                 Output Shape              Param #   \n",
            "=================================================================\n",
            "dense_42 (Dense)             (None, 400)               28800     \n",
            "_________________________________________________________________\n",
            "dropout_36 (Dropout)         (None, 400)               0         \n",
            "_________________________________________________________________\n",
            "dense_43 (Dense)             (None, 300)               120300    \n",
            "_________________________________________________________________\n",
            "dropout_37 (Dropout)         (None, 300)               0         \n",
            "_________________________________________________________________\n",
            "dense_44 (Dense)             (None, 200)               60200     \n",
            "_________________________________________________________________\n",
            "dropout_38 (Dropout)         (None, 200)               0         \n",
            "_________________________________________________________________\n",
            "dense_45 (Dense)             (None, 100)               20100     \n",
            "_________________________________________________________________\n",
            "dropout_39 (Dropout)         (None, 100)               0         \n",
            "_________________________________________________________________\n",
            "dense_46 (Dense)             (None, 50)                5050      \n",
            "_________________________________________________________________\n",
            "dropout_40 (Dropout)         (None, 50)                0         \n",
            "_________________________________________________________________\n",
            "dense_47 (Dense)             (None, 2)                 102       \n",
            "_________________________________________________________________\n",
            "dropout_41 (Dropout)         (None, 2)                 0         \n",
            "_________________________________________________________________\n",
            "dense_48 (Dense)             (None, 1)                 3         \n",
            "=================================================================\n",
            "Total params: 234,555\n",
            "Trainable params: 234,555\n",
            "Non-trainable params: 0\n",
            "_________________________________________________________________\n",
            "None\n"
          ],
          "name": "stdout"
        }
      ]
    },
    {
      "cell_type": "markdown",
      "metadata": {
        "id": "4JBZf4ypGO8o"
      },
      "source": [
        "### 5. Compilar a Rede Neural\n",
        "\n",
        "Este é um problema de classificação binária (_Male_ ou _Female_). Portanto, temos:\n",
        "* optimizer= tf.keras.optimizers.Adam();\n",
        "* loss=  tf.keras.losses.MeanSquaredError() ou loss= tf.keras.losses.BinaryCrossentropy(). Particularmente, eu gosto de usar loss=  tf.keras.losses.MeanSquaredError() porque o resultado é mais intuitivo;\n",
        "* metrics= tf.keras.metrics.binary_accuracy."
      ]
    },
    {
      "cell_type": "markdown",
      "metadata": {
        "id": "USmAuw6f00wL"
      },
      "source": [
        "[**Python**] - Comando modelo.compile(optimizer, loss, metrics):"
      ]
    },
    {
      "cell_type": "code",
      "metadata": {
        "id": "h7KEi1_e6SSF"
      },
      "source": [
        "\n",
        "Algoritmo_Opt = tf.keras.optimizers.Adam()\n",
        "#Algoritmo_Opt = tf.keras.optimizers.Adam(learning_rate=0.01, beta_1=0.8, beta_2=0.99, epsilon=1e-07 , amsgrad=True,     name='Adam')\n",
        "#Loss_Function = tf.keras.losses.MeanSquaredError()\n",
        "Loss_Function = tf.keras.losses.BinaryCrossentropy()\n",
        "#Metrics_Perf = tf.keras.metrics.binary_accuracy\n",
        "Metrics_Perf = tfa.metrics.F1Score(1,average='macro',threshold=0.5)\n",
        "RN.compile(optimizer = Algoritmo_Opt, loss = Loss_Function,metrics = Metrics_Perf)\n",
        "#RN.compile( loss = Loss_Function,metrics = Metrics_Perf)"
      ],
      "execution_count": 171,
      "outputs": []
    },
    {
      "cell_type": "markdown",
      "metadata": {
        "id": "Hc90EeV_GojX"
      },
      "source": [
        "### 6. Ajustar a Rede Neural\n",
        "\n",
        "Obs.: A opção callbacks abaixo implementa o conceito de _early stopping_. Esta opção vai parar o processo de treinamento da Rede Neural antes de atingirmos o númerco de _epochs_ quando o modelo pára de melhorar, medido pela métrica val_loss. O parâmetro _patience_= k significa que o processo de otimização vai parar se tivermos k _epochs_ consecutivas sem observarmos melhoria da performance da Rede Neural."
      ]
    },
    {
      "cell_type": "markdown",
      "metadata": {
        "id": "XCCTtUh_vEFP"
      },
      "source": [
        "[**Python**] - Comando modelo.fit(X_treinamento, y_treinamento, epochs)"
      ]
    },
    {
      "cell_type": "code",
      "metadata": {
        "id": "EB91J6nrF0db",
        "colab": {
          "base_uri": "https://localhost:8080/"
        },
        "outputId": "d4aa9238-803c-4f48-ce3d-a2286b6520a9"
      },
      "source": [
        "callbacks = [tf.keras.callbacks.EarlyStopping(monitor = 'val_f1_score', mode = 'max',patience = 20, min_delta = 0.001)]\n",
        "hist= RN.fit(X_treinamento, y_treinamento, epochs = 57, batch_size = 20,\n",
        "             validation_data = (X_teste, y_teste), callbacks = callbacks)"
      ],
      "execution_count": 172,
      "outputs": [
        {
          "output_type": "stream",
          "text": [
            "Epoch 1/57\n",
            "417/417 [==============================] - 3s 7ms/step - loss: 0.6432 - f1_score: 0.6137 - val_loss: 0.6096 - val_f1_score: 0.6747\n",
            "Epoch 2/57\n",
            "417/417 [==============================] - 3s 8ms/step - loss: 0.6205 - f1_score: 0.6387 - val_loss: 0.6059 - val_f1_score: 0.6768\n",
            "Epoch 3/57\n",
            "417/417 [==============================] - 4s 9ms/step - loss: 0.6133 - f1_score: 0.6356 - val_loss: 0.5982 - val_f1_score: 0.6820\n",
            "Epoch 4/57\n",
            "417/417 [==============================] - 3s 7ms/step - loss: 0.6061 - f1_score: 0.6532 - val_loss: 0.5950 - val_f1_score: 0.6797\n",
            "Epoch 5/57\n",
            "417/417 [==============================] - 3s 8ms/step - loss: 0.6054 - f1_score: 0.6444 - val_loss: 0.5990 - val_f1_score: 0.6721\n",
            "Epoch 6/57\n",
            "417/417 [==============================] - 3s 7ms/step - loss: 0.5965 - f1_score: 0.6496 - val_loss: 0.5906 - val_f1_score: 0.6931\n",
            "Epoch 7/57\n",
            "417/417 [==============================] - 3s 8ms/step - loss: 0.5944 - f1_score: 0.6575 - val_loss: 0.5920 - val_f1_score: 0.6652\n",
            "Epoch 8/57\n",
            "417/417 [==============================] - 3s 7ms/step - loss: 0.5978 - f1_score: 0.6519 - val_loss: 0.5800 - val_f1_score: 0.6920\n",
            "Epoch 9/57\n",
            "417/417 [==============================] - 3s 7ms/step - loss: 0.5842 - f1_score: 0.6595 - val_loss: 0.5982 - val_f1_score: 0.6744\n",
            "Epoch 10/57\n",
            "417/417 [==============================] - 3s 7ms/step - loss: 0.5858 - f1_score: 0.6484 - val_loss: 0.5785 - val_f1_score: 0.6953\n",
            "Epoch 11/57\n",
            "417/417 [==============================] - 3s 7ms/step - loss: 0.5838 - f1_score: 0.6578 - val_loss: 0.5975 - val_f1_score: 0.6182\n",
            "Epoch 12/57\n",
            "417/417 [==============================] - 3s 7ms/step - loss: 0.5742 - f1_score: 0.6648 - val_loss: 0.5780 - val_f1_score: 0.6846\n",
            "Epoch 13/57\n",
            "417/417 [==============================] - 3s 7ms/step - loss: 0.5732 - f1_score: 0.6701 - val_loss: 0.5820 - val_f1_score: 0.6739\n",
            "Epoch 14/57\n",
            "417/417 [==============================] - 3s 6ms/step - loss: 0.5719 - f1_score: 0.6658 - val_loss: 0.5871 - val_f1_score: 0.6297\n",
            "Epoch 15/57\n",
            "417/417 [==============================] - 3s 6ms/step - loss: 0.5706 - f1_score: 0.6733 - val_loss: 0.5811 - val_f1_score: 0.6740\n",
            "Epoch 16/57\n",
            "417/417 [==============================] - 3s 6ms/step - loss: 0.5662 - f1_score: 0.6852 - val_loss: 0.5861 - val_f1_score: 0.6582\n",
            "Epoch 17/57\n",
            "417/417 [==============================] - 4s 10ms/step - loss: 0.5642 - f1_score: 0.6835 - val_loss: 0.5848 - val_f1_score: 0.6741\n",
            "Epoch 18/57\n",
            "417/417 [==============================] - 6s 14ms/step - loss: 0.5615 - f1_score: 0.6755 - val_loss: 0.5901 - val_f1_score: 0.6558\n",
            "Epoch 19/57\n",
            "417/417 [==============================] - 4s 10ms/step - loss: 0.5635 - f1_score: 0.6773 - val_loss: 0.6025 - val_f1_score: 0.7087\n",
            "Epoch 20/57\n",
            "417/417 [==============================] - 3s 7ms/step - loss: 0.5643 - f1_score: 0.6713 - val_loss: 0.5840 - val_f1_score: 0.6785\n",
            "Epoch 21/57\n",
            "417/417 [==============================] - 3s 7ms/step - loss: 0.5582 - f1_score: 0.6830 - val_loss: 0.5765 - val_f1_score: 0.6612\n",
            "Epoch 22/57\n",
            "417/417 [==============================] - 3s 7ms/step - loss: 0.5564 - f1_score: 0.6822 - val_loss: 0.5876 - val_f1_score: 0.6764\n",
            "Epoch 23/57\n",
            "417/417 [==============================] - 3s 7ms/step - loss: 0.5559 - f1_score: 0.6796 - val_loss: 0.5803 - val_f1_score: 0.6713\n",
            "Epoch 24/57\n",
            "417/417 [==============================] - 3s 7ms/step - loss: 0.5491 - f1_score: 0.6915 - val_loss: 0.5810 - val_f1_score: 0.6881\n",
            "Epoch 25/57\n",
            "417/417 [==============================] - 3s 7ms/step - loss: 0.5472 - f1_score: 0.6836 - val_loss: 0.5728 - val_f1_score: 0.6844\n",
            "Epoch 26/57\n",
            "417/417 [==============================] - 3s 7ms/step - loss: 0.5488 - f1_score: 0.6903 - val_loss: 0.5912 - val_f1_score: 0.6659\n",
            "Epoch 27/57\n",
            "417/417 [==============================] - 3s 7ms/step - loss: 0.5392 - f1_score: 0.6952 - val_loss: 0.5807 - val_f1_score: 0.6926\n",
            "Epoch 28/57\n",
            "417/417 [==============================] - 3s 7ms/step - loss: 0.5392 - f1_score: 0.6887 - val_loss: 0.5805 - val_f1_score: 0.7177\n",
            "Epoch 29/57\n",
            "417/417 [==============================] - 3s 7ms/step - loss: 0.5381 - f1_score: 0.6923 - val_loss: 0.5921 - val_f1_score: 0.6557\n",
            "Epoch 30/57\n",
            "417/417 [==============================] - 3s 7ms/step - loss: 0.5379 - f1_score: 0.6888 - val_loss: 0.5857 - val_f1_score: 0.7176\n",
            "Epoch 31/57\n",
            "417/417 [==============================] - 3s 7ms/step - loss: 0.5351 - f1_score: 0.6879 - val_loss: 0.5772 - val_f1_score: 0.6882\n",
            "Epoch 32/57\n",
            "417/417 [==============================] - 3s 7ms/step - loss: 0.5338 - f1_score: 0.6971 - val_loss: 0.5816 - val_f1_score: 0.6985\n",
            "Epoch 33/57\n",
            "417/417 [==============================] - 3s 8ms/step - loss: 0.5347 - f1_score: 0.6953 - val_loss: 0.5972 - val_f1_score: 0.6088\n",
            "Epoch 34/57\n",
            "417/417 [==============================] - 3s 7ms/step - loss: 0.5281 - f1_score: 0.6996 - val_loss: 0.5708 - val_f1_score: 0.6937\n",
            "Epoch 35/57\n",
            "417/417 [==============================] - 3s 7ms/step - loss: 0.5262 - f1_score: 0.6974 - val_loss: 0.5743 - val_f1_score: 0.6935\n",
            "Epoch 36/57\n",
            "417/417 [==============================] - 3s 7ms/step - loss: 0.5260 - f1_score: 0.6969 - val_loss: 0.5916 - val_f1_score: 0.6957\n",
            "Epoch 37/57\n",
            "417/417 [==============================] - 3s 7ms/step - loss: 0.5250 - f1_score: 0.7005 - val_loss: 0.6035 - val_f1_score: 0.7224\n",
            "Epoch 38/57\n",
            "417/417 [==============================] - 3s 7ms/step - loss: 0.5222 - f1_score: 0.7098 - val_loss: 0.6023 - val_f1_score: 0.6908\n",
            "Epoch 39/57\n",
            "417/417 [==============================] - 3s 7ms/step - loss: 0.5163 - f1_score: 0.7031 - val_loss: 0.5796 - val_f1_score: 0.7165\n",
            "Epoch 40/57\n",
            "417/417 [==============================] - 3s 7ms/step - loss: 0.5204 - f1_score: 0.6984 - val_loss: 0.5870 - val_f1_score: 0.6650\n",
            "Epoch 41/57\n",
            "417/417 [==============================] - 3s 8ms/step - loss: 0.5185 - f1_score: 0.7099 - val_loss: 0.5797 - val_f1_score: 0.7050\n",
            "Epoch 42/57\n",
            "417/417 [==============================] - 3s 7ms/step - loss: 0.5164 - f1_score: 0.7088 - val_loss: 0.6080 - val_f1_score: 0.6994\n",
            "Epoch 43/57\n",
            "417/417 [==============================] - 3s 7ms/step - loss: 0.5145 - f1_score: 0.7106 - val_loss: 0.5672 - val_f1_score: 0.7157\n",
            "Epoch 44/57\n",
            "417/417 [==============================] - 3s 7ms/step - loss: 0.5178 - f1_score: 0.7131 - val_loss: 0.5896 - val_f1_score: 0.6799\n",
            "Epoch 45/57\n",
            "417/417 [==============================] - 3s 7ms/step - loss: 0.5139 - f1_score: 0.7040 - val_loss: 0.5862 - val_f1_score: 0.6767\n",
            "Epoch 46/57\n",
            "417/417 [==============================] - 3s 7ms/step - loss: 0.5085 - f1_score: 0.7014 - val_loss: 0.5958 - val_f1_score: 0.6944\n",
            "Epoch 47/57\n",
            "417/417 [==============================] - 3s 7ms/step - loss: 0.5059 - f1_score: 0.7220 - val_loss: 0.6167 - val_f1_score: 0.7015\n",
            "Epoch 48/57\n",
            "417/417 [==============================] - 3s 7ms/step - loss: 0.5072 - f1_score: 0.7133 - val_loss: 0.5734 - val_f1_score: 0.6971\n",
            "Epoch 49/57\n",
            "417/417 [==============================] - 3s 7ms/step - loss: 0.5152 - f1_score: 0.7112 - val_loss: 0.5771 - val_f1_score: 0.6959\n",
            "Epoch 50/57\n",
            "417/417 [==============================] - 3s 6ms/step - loss: 0.5082 - f1_score: 0.7067 - val_loss: 0.6096 - val_f1_score: 0.6522\n",
            "Epoch 51/57\n",
            "417/417 [==============================] - 3s 7ms/step - loss: 0.5065 - f1_score: 0.7123 - val_loss: 0.5694 - val_f1_score: 0.6886\n",
            "Epoch 52/57\n",
            "417/417 [==============================] - 3s 7ms/step - loss: 0.5062 - f1_score: 0.7103 - val_loss: 0.5885 - val_f1_score: 0.6768\n",
            "Epoch 53/57\n",
            "417/417 [==============================] - 3s 7ms/step - loss: 0.5023 - f1_score: 0.7170 - val_loss: 0.5825 - val_f1_score: 0.6667\n",
            "Epoch 54/57\n",
            "417/417 [==============================] - 3s 7ms/step - loss: 0.5050 - f1_score: 0.7171 - val_loss: 0.5938 - val_f1_score: 0.7178\n",
            "Epoch 55/57\n",
            "417/417 [==============================] - 3s 7ms/step - loss: 0.5032 - f1_score: 0.7109 - val_loss: 0.5855 - val_f1_score: 0.6565\n",
            "Epoch 56/57\n",
            "417/417 [==============================] - 3s 7ms/step - loss: 0.5042 - f1_score: 0.7105 - val_loss: 0.6100 - val_f1_score: 0.6734\n",
            "Epoch 57/57\n",
            "417/417 [==============================] - 3s 7ms/step - loss: 0.5059 - f1_score: 0.7046 - val_loss: 0.6157 - val_f1_score: 0.6975\n"
          ],
          "name": "stdout"
        }
      ]
    },
    {
      "cell_type": "code",
      "metadata": {
        "id": "IE28TqhAWVlz"
      },
      "source": [
        ""
      ],
      "execution_count": null,
      "outputs": []
    },
    {
      "cell_type": "markdown",
      "metadata": {
        "id": "J1sL_DTrKmpq"
      },
      "source": [
        "### 7. Avaliar a performance da Rede Neural\n",
        "\n",
        "Para avaliar a a Rede Neural, simplesmente informamos as amostras de teste: X_teste e y_teste. A função evaluate() vai retornar uma lista contendo 2 valores: loss e accuracy."
      ]
    },
    {
      "cell_type": "markdown",
      "metadata": {
        "id": "VckQfEFPvMa7"
      },
      "source": [
        "[**Python**] - Comando modelo.evaluate(X_teste, y_teste)"
      ]
    },
    {
      "cell_type": "code",
      "metadata": {
        "id": "veeKG78w4hWh"
      },
      "source": [
        "def Mostra_ConfusionMatrix(X,y):\n",
        "    y_pred = RN.predict_classes(X)\n",
        "    mc = confusion_matrix(y, y_pred)\n",
        "    #sns.heatmap(mc,annot=True, annot_kws={\"size\": 10},fmt=\"d\")\n",
        "    sns.heatmap(mc/np.sum(mc), annot=True, annot_kws={\"size\": 10}, fmt='.2%', cmap='Blues')"
      ],
      "execution_count": 173,
      "outputs": []
    },
    {
      "cell_type": "code",
      "metadata": {
        "colab": {
          "base_uri": "https://localhost:8080/"
        },
        "id": "XUJL6Y6A4hWh",
        "outputId": "50ec025a-75f5-471e-a3ad-c90d93fa816c"
      },
      "source": [
        "RN.evaluate(X_teste, y_teste)"
      ],
      "execution_count": 174,
      "outputs": [
        {
          "output_type": "stream",
          "text": [
            "29/29 [==============================] - 0s 2ms/step - loss: 0.6157 - f1_score: 0.6975\n"
          ],
          "name": "stdout"
        },
        {
          "output_type": "execute_result",
          "data": {
            "text/plain": [
              "[0.6157465577125549, 0.6974789500236511]"
            ]
          },
          "metadata": {
            "tags": []
          },
          "execution_count": 174
        }
      ]
    },
    {
      "cell_type": "code",
      "metadata": {
        "colab": {
          "base_uri": "https://localhost:8080/"
        },
        "id": "g3KRG1fN4hWi",
        "outputId": "ee60d3c3-9824-4486-89dd-4a7b77f95a73"
      },
      "source": [
        "F1_Test=f1_score(y_teste, RN.predict_classes(X_teste), average=\"macro\")\n",
        "print(f'F1: {F1_Test}')"
      ],
      "execution_count": 175,
      "outputs": [
        {
          "output_type": "stream",
          "text": [
            "F1: 0.6890942629823549\n"
          ],
          "name": "stdout"
        }
      ]
    },
    {
      "cell_type": "code",
      "metadata": {
        "id": "HSC6yxs9VONq",
        "colab": {
          "base_uri": "https://localhost:8080/",
          "height": 265
        },
        "outputId": "871ab21a-e48c-4d7e-8ac5-f349eee2644b"
      },
      "source": [
        "Mostra_ConfusionMatrix(X_teste, y_teste)"
      ],
      "execution_count": 176,
      "outputs": [
        {
          "output_type": "display_data",
          "data": {
            "image/png": "[encoded data removed]",
            "text/plain": [
              "<Figure size 432x288 with 2 Axes>"
            ]
          },
          "metadata": {
            "tags": [],
            "needs_background": "light"
          }
        }
      ]
    },
    {
      "cell_type": "code",
      "metadata": {
        "colab": {
          "base_uri": "https://localhost:8080/"
        },
        "id": "vdDUMlaT4hWi",
        "outputId": "1252e893-7b14-40c9-ffad-bdf41d206ec8"
      },
      "source": [
        "RN.evaluate(df_X, df_y)"
      ],
      "execution_count": 177,
      "outputs": [
        {
          "output_type": "stream",
          "text": [
            "345/345 [==============================] - 1s 2ms/step - loss: 0.5392 - f1_score: 0.5628\n"
          ],
          "name": "stdout"
        },
        {
          "output_type": "execute_result",
          "data": {
            "text/plain": [
              "[0.5392134785652161, 0.5628304481506348]"
            ]
          },
          "metadata": {
            "tags": []
          },
          "execution_count": 177
        }
      ]
    },
    {
      "cell_type": "code",
      "metadata": {
        "colab": {
          "base_uri": "https://localhost:8080/"
        },
        "id": "NbBX0xLW4hWi",
        "outputId": "211ee298-83a4-4c3c-d435-34bc1c197e10"
      },
      "source": [
        "F1_X=f1_score(df_y, RN.predict_classes(df_X), average=\"macro\")\n",
        "print(f'F1: {F1_X}')"
      ],
      "execution_count": 178,
      "outputs": [
        {
          "output_type": "stream",
          "text": [
            "F1: 0.67163918656047\n"
          ],
          "name": "stdout"
        }
      ]
    },
    {
      "cell_type": "code",
      "metadata": {
        "id": "uKMi5mUMVWdR",
        "colab": {
          "base_uri": "https://localhost:8080/",
          "height": 265
        },
        "outputId": "b7f0c4da-9bb7-4e33-c95b-bc5201de51c7"
      },
      "source": [
        "Mostra_ConfusionMatrix(df_X, df_y)"
      ],
      "execution_count": 179,
      "outputs": [
        {
          "output_type": "display_data",
          "data": {
            "image/png": "[encoded data removed]",
            "text/plain": [
              "<Figure size 432x288 with 2 Axes>"
            ]
          },
          "metadata": {
            "tags": [],
            "needs_background": "light"
          }
        }
      ]
    },
    {
      "cell_type": "code",
      "metadata": {
        "colab": {
          "base_uri": "https://localhost:8080/"
        },
        "id": "X1V4oO0R4hWi",
        "outputId": "110cd17b-ae9d-4436-883d-e3c4dc13232a"
      },
      "source": [
        "RN.evaluate(X_treinamento, y_treinamento)"
      ],
      "execution_count": 180,
      "outputs": [
        {
          "output_type": "stream",
          "text": [
            "261/261 [==============================] - 0s 2ms/step - loss: 0.4260 - f1_score: 0.7972\n"
          ],
          "name": "stdout"
        },
        {
          "output_type": "execute_result",
          "data": {
            "text/plain": [
              "[0.4259888231754303, 0.7971911430358887]"
            ]
          },
          "metadata": {
            "tags": []
          },
          "execution_count": 180
        }
      ]
    },
    {
      "cell_type": "code",
      "metadata": {
        "colab": {
          "base_uri": "https://localhost:8080/"
        },
        "id": "g7cCtosc4hWi",
        "outputId": "a84ab71a-d9ff-4658-cefb-e11022f9b7ae"
      },
      "source": [
        "F1_Trein=f1_score(y_treinamento, RN.predict_classes(X_treinamento), average=\"macro\")\n",
        "print(f'F1: {F1_Trein}')"
      ],
      "execution_count": 181,
      "outputs": [
        {
          "output_type": "stream",
          "text": [
            "F1: 0.7955725978757289\n"
          ],
          "name": "stdout"
        }
      ]
    },
    {
      "cell_type": "code",
      "metadata": {
        "colab": {
          "base_uri": "https://localhost:8080/",
          "height": 268
        },
        "id": "N89YhXgS4hWj",
        "outputId": "319d639f-6ecb-4117-fd4d-85fcbf7caed4"
      },
      "source": [
        "Mostra_ConfusionMatrix(X_treinamento, y_treinamento)"
      ],
      "execution_count": 182,
      "outputs": [
        {
          "output_type": "display_data",
          "data": {
            "image/png": "[encoded data removed]",
            "text/plain": [
              "<Figure size 432x288 with 2 Axes>"
            ]
          },
          "metadata": {
            "tags": [],
            "needs_background": "light"
          }
        }
      ]
    },
    {
      "cell_type": "markdown",
      "metadata": {
        "id": "D5zYHcGuMPZe"
      },
      "source": [
        "### 8. _Fine tuning_ da Rede Neural\n",
        "\n",
        "Para aumentar a acurácia da Rede Neural, sugiro aumentarmos o número de neurônios na _Hidden Layer_ e/ou aumentar o número de _Hidden Layers_.\n",
        "\n",
        "No entanto, obtivemos uma acurácia razoável com a Rede Neural _baseline_. Portanto, deixo como exercício para os alunos o desafio de melhorar a acurácia desta Rede Neural."
      ]
    },
    {
      "cell_type": "markdown",
      "metadata": {
        "id": "_ISodOu-Kmp3"
      },
      "source": [
        "### 9. Fazer Predições com a Rede Neural"
      ]
    },
    {
      "cell_type": "markdown",
      "metadata": {
        "id": "_xgdL1W4vUrN"
      },
      "source": [
        "[**Python**] - Comando:\n",
        "* RN.predict_classes(X_treinamento);\n",
        "* RN.predict_classes(X_teste)."
      ]
    },
    {
      "cell_type": "code",
      "metadata": {
        "id": "kqy2rt3YfPiy"
      },
      "source": [
        "y_test = RN.predict_classes(X_test)\n"
      ],
      "execution_count": 183,
      "outputs": []
    },
    {
      "cell_type": "code",
      "metadata": {
        "id": "_C_u02mygKgt"
      },
      "source": [
        "df_submit = pd.concat([pd.DataFrame(X_test.index,columns=['id']),pd.DataFrame(y_test,columns=['target']).astype('boolean')],axis=1)\n",
        "\n"
      ],
      "execution_count": 184,
      "outputs": []
    },
    {
      "cell_type": "code",
      "metadata": {
        "colab": {
          "base_uri": "https://localhost:8080/",
          "height": 407
        },
        "id": "k-GLGzuem3cV",
        "outputId": "29a5a01c-70ca-4c15-d013-e3a8907c0750"
      },
      "source": [
        "df_submit"
      ],
      "execution_count": 185,
      "outputs": [
        {
          "output_type": "execute_result",
          "data": {
            "text/html": [
              "<div>\n",
              "<style scoped>\n",
              "    .dataframe tbody tr th:only-of-type {\n",
              "        vertical-align: middle;\n",
              "    }\n",
              "\n",
              "    .dataframe tbody tr th {\n",
              "        vertical-align: top;\n",
              "    }\n",
              "\n",
              "    .dataframe thead th {\n",
              "        text-align: right;\n",
              "    }\n",
              "</style>\n",
              "<table border=\"1\" class=\"dataframe\">\n",
              "  <thead>\n",
              "    <tr style=\"text-align: right;\">\n",
              "      <th></th>\n",
              "      <th>id</th>\n",
              "      <th>target</th>\n",
              "    </tr>\n",
              "  </thead>\n",
              "  <tbody>\n",
              "    <tr>\n",
              "      <th>0</th>\n",
              "      <td>3411</td>\n",
              "      <td>True</td>\n",
              "    </tr>\n",
              "    <tr>\n",
              "      <th>1</th>\n",
              "      <td>2177</td>\n",
              "      <td>True</td>\n",
              "    </tr>\n",
              "    <tr>\n",
              "      <th>2</th>\n",
              "      <td>8400</td>\n",
              "      <td>True</td>\n",
              "    </tr>\n",
              "    <tr>\n",
              "      <th>3</th>\n",
              "      <td>464</td>\n",
              "      <td>True</td>\n",
              "    </tr>\n",
              "    <tr>\n",
              "      <th>4</th>\n",
              "      <td>6672</td>\n",
              "      <td>False</td>\n",
              "    </tr>\n",
              "    <tr>\n",
              "      <th>...</th>\n",
              "      <td>...</td>\n",
              "      <td>...</td>\n",
              "    </tr>\n",
              "    <tr>\n",
              "      <th>995</th>\n",
              "      <td>8609</td>\n",
              "      <td>False</td>\n",
              "    </tr>\n",
              "    <tr>\n",
              "      <th>996</th>\n",
              "      <td>3384</td>\n",
              "      <td>True</td>\n",
              "    </tr>\n",
              "    <tr>\n",
              "      <th>997</th>\n",
              "      <td>8297</td>\n",
              "      <td>False</td>\n",
              "    </tr>\n",
              "    <tr>\n",
              "      <th>998</th>\n",
              "      <td>7556</td>\n",
              "      <td>False</td>\n",
              "    </tr>\n",
              "    <tr>\n",
              "      <th>999</th>\n",
              "      <td>8582</td>\n",
              "      <td>True</td>\n",
              "    </tr>\n",
              "  </tbody>\n",
              "</table>\n",
              "<p>1000 rows × 2 columns</p>\n",
              "</div>"
            ],
            "text/plain": [
              "       id  target\n",
              "0    3411    True\n",
              "1    2177    True\n",
              "2    8400    True\n",
              "3     464    True\n",
              "4    6672   False\n",
              "..    ...     ...\n",
              "995  8609   False\n",
              "996  3384    True\n",
              "997  8297   False\n",
              "998  7556   False\n",
              "999  8582    True\n",
              "\n",
              "[1000 rows x 2 columns]"
            ]
          },
          "metadata": {
            "tags": []
          },
          "execution_count": 185
        }
      ]
    },
    {
      "cell_type": "code",
      "metadata": {
        "id": "JU_6XlFRgPL2",
        "colab": {
          "base_uri": "https://localhost:8080/"
        },
        "outputId": "c3c5b098-9922-4afd-8bf6-ede0898b2052"
      },
      "source": [
        "df_submit['target'].value_counts()"
      ],
      "execution_count": 186,
      "outputs": [
        {
          "output_type": "execute_result",
          "data": {
            "text/plain": [
              "False    513\n",
              "True     487\n",
              "Name: target, dtype: Int64"
            ]
          },
          "metadata": {
            "tags": []
          },
          "execution_count": 186
        }
      ]
    },
    {
      "cell_type": "code",
      "metadata": {
        "id": "XhnvrX4E65vY"
      },
      "source": [
        "F = df_submit['target'].value_counts()[0]\n",
        "T = df_submit['target'].value_counts()[1]"
      ],
      "execution_count": 187,
      "outputs": []
    },
    {
      "cell_type": "code",
      "metadata": {
        "id": "wB_47tDG60uC"
      },
      "source": [
        "df_submit.to_csv(f'/PyLadies_NL_119_Test_{round(F1_Test,4)}_X_{round(F1_X,4)}_Trein_{round(F1_Trein,4)}_F{F}_T{T}.csv',index = False, sep = ',')"
      ],
      "execution_count": 188,
      "outputs": []
    },
    {
      "cell_type": "markdown",
      "metadata": {
        "id": "NpufntZjyH8T"
      },
      "source": [
        "### Salvar a Rede Neural"
      ]
    },
    {
      "cell_type": "code",
      "metadata": {
        "id": "ZKqn0leTyLOy"
      },
      "source": [
        "# Save the weights\n",
        "RN.save('/RN_119.h5')"
      ],
      "execution_count": 189,
      "outputs": []
    },
    {
      "cell_type": "code",
      "metadata": {
        "id": "viORp6XjrC66"
      },
      "source": [
        ""
      ],
      "execution_count": null,
      "outputs": []
    }
  ]
}