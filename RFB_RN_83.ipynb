{
  "nbformat": 4,
  "nbformat_minor": 0,
  "metadata": {
    "colab": {
      "name": "Untitled5.ipynb",
      "provenance": [],
      "toc_visible": true,
      "authorship_tag": "ABX9TyMMl23XzyjtfM/YZXPlkD8N",
      "include_colab_link": true
    },
    "kernelspec": {
      "name": "python3",
      "display_name": "Python 3"
    }
  },
  "cells": [
    {
      "cell_type": "markdown",
      "metadata": {
        "id": "view-in-github",
        "colab_type": "text"
      },
      "source": [
        "<a href=\"https://colab.research.google.com/github/flavianacif/DSWP/blob/master/RFB_RN_83.ipynb\" target=\"_parent\"><img src=\"https://colab.research.google.com/assets/colab-badge.svg\" alt=\"Open In Colab\"/></a>"
      ]
    },
    {
      "cell_type": "code",
      "metadata": {
        "id": "j0_YZ6IURZE_",
        "colab": {
          "base_uri": "https://localhost:8080/"
        },
        "outputId": "2e3e3cd0-a70c-40d3-9ae4-def4110be7c7"
      },
      "source": [
        "\n",
        "import tensorflow as tf\n",
        "import numpy as np\n",
        "import pandas as pd\n",
        "import matplotlib.pyplot as plt\n",
        "import seaborn as sns\n",
        "from sklearn.metrics import confusion_matrix\n",
        "import tensorflow_addons as tfa\n",
        "from tensorflow import keras\n",
        "from sklearn.metrics import accuracy_score, f1_score, precision_score, recall_score, classification_report, confusion_matrix\n",
        "from collections import Counter\n",
        "from imblearn.over_sampling import SMOTE\n"
      ],
      "execution_count": 1,
      "outputs": [
        {
          "output_type": "stream",
          "text": [
            "/usr/local/lib/python3.6/dist-packages/sklearn/externals/six.py:31: FutureWarning: The module is deprecated in version 0.21 and will be removed in version 0.23 since we've dropped support for Python 2.7. Please rely on the official version of six (https://pypi.org/project/six/).\n",
            "  \"(https://pypi.org/project/six/).\", FutureWarning)\n",
            "/usr/local/lib/python3.6/dist-packages/sklearn/utils/deprecation.py:144: FutureWarning: The sklearn.neighbors.base module is  deprecated in version 0.22 and will be removed in version 0.24. The corresponding classes / functions should instead be imported from sklearn.neighbors. Anything that cannot be imported from sklearn.neighbors is now part of the private API.\n",
            "  warnings.warn(message, FutureWarning)\n"
          ],
          "name": "stderr"
        }
      ]
    },
    {
      "cell_type": "markdown",
      "metadata": {
        "id": "9ZX00UN5cjvM"
      },
      "source": [
        "[**Python**] - Verificar a versão do Tensorflow\n",
        "> Assegurar que está a utilizar a versão 2.x."
      ]
    },
    {
      "cell_type": "code",
      "metadata": {
        "id": "THWNIk_FCe_g",
        "colab": {
          "base_uri": "https://localhost:8080/",
          "height": 35
        },
        "outputId": "1d19b433-4dcd-497a-aae5-63208bf26457"
      },
      "source": [
        "tf.__version__"
      ],
      "execution_count": 2,
      "outputs": [
        {
          "output_type": "execute_result",
          "data": {
            "application/vnd.google.colaboratory.intrinsic+json": {
              "type": "string"
            },
            "text/plain": [
              "'2.3.0'"
            ]
          },
          "metadata": {
            "tags": []
          },
          "execution_count": 2
        }
      ]
    },
    {
      "cell_type": "markdown",
      "metadata": {
        "id": "PZgQAKqLcLX3"
      },
      "source": [
        "[**Python**] - Definir o número de casas decimais"
      ]
    },
    {
      "cell_type": "code",
      "metadata": {
        "id": "tzKor02BCe_d"
      },
      "source": [
        "np.set_printoptions(precision= 3)"
      ],
      "execution_count": 3,
      "outputs": []
    },
    {
      "cell_type": "markdown",
      "metadata": {
        "id": "M5V4KopjLWOL"
      },
      "source": [
        "### 1. Carregar os dados"
      ]
    },
    {
      "cell_type": "markdown",
      "metadata": {
        "id": "V_cwAUW3tseE"
      },
      "source": [
        "[**Python**] - Carregar os dados:"
      ]
    },
    {
      "cell_type": "code",
      "metadata": {
        "id": "_Bs87IWPtwtm"
      },
      "source": [
        "# Leitura do dataframe:\n",
        "df = pd.read_csv('/total_10.csv')"
      ],
      "execution_count": 4,
      "outputs": []
    },
    {
      "cell_type": "code",
      "metadata": {
        "id": "myhgteQhdqVi"
      },
      "source": [
        "df_total = df.copy()"
      ],
      "execution_count": 371,
      "outputs": []
    },
    {
      "cell_type": "code",
      "metadata": {
        "id": "0MfQNbWvfUkK"
      },
      "source": [
        "df_total.set_index('id', inplace=True)"
      ],
      "execution_count": 372,
      "outputs": []
    },
    {
      "cell_type": "code",
      "metadata": {
        "colab": {
          "base_uri": "https://localhost:8080/"
        },
        "id": "6730Oq3j-4w8",
        "outputId": "9d7c8964-b1dc-4e02-8d28-ae3fc21c7cd8"
      },
      "source": [
        "df_total.columns"
      ],
      "execution_count": 373,
      "outputs": [
        {
          "output_type": "execute_result",
          "data": {
            "text/plain": [
              "Index(['cnae2', 'rf2', 'md1', 'md2', 'md3', 'md4', 'md5', 'md6', 'md7', 'md8',\n",
              "       'md9', 'md10', 'md11', 'md12', 'mc1', 'mc2', 'mc3', 'mc4', 'ind01',\n",
              "       'ind02', 'ind03', 'ind04', 'ind05', 'ind06', 'ind07', 'ind08', 'ind09',\n",
              "       'ind10', 'ind11', 'ind12', 'ind13', 'ind14', 'ind15', 'ind16', 'ind17',\n",
              "       'ind18', 'ind19', 'ind20', 'ind21', 'ind22', 'ind23', 'ind24', 'ind25',\n",
              "       'ind26', 'ind27', 'ind28', 'ind29', 'ind30', 'ind31', 'ind32', 'ind33',\n",
              "       'ind34', 'ind35', 'ind36', 'ind37', 'ind38', 'ind39', 'ind40', 'ind41',\n",
              "       'ind42', 'ind43', 'target', 'cnae_secao', 'ind_g1_mv', 'ind_g1',\n",
              "       'ind_g2_mv', 'ind_g2', 'mc_g1_mv', 'mc_g1', 'md1_o', 'md2_o', 'md3_o',\n",
              "       'md4_o', 'md5_o', 'md7_o', 'md8_o', 'md9_o', 'md10_o', 'md12_o',\n",
              "       'mc1_o', 'mc3_o', 'mc4_o'],\n",
              "      dtype='object')"
            ]
          },
          "metadata": {
            "tags": []
          },
          "execution_count": 373
        }
      ]
    },
    {
      "cell_type": "markdown",
      "metadata": {
        "id": "6LXKr9-R_JIK"
      },
      "source": [
        "Retirando algumas colunas para testar"
      ]
    },
    {
      "cell_type": "code",
      "metadata": {
        "id": "aVnISOiD-xRk"
      },
      "source": [
        "df_total.drop(columns = ['cnae2','md1', 'md2', 'md3', 'md4', 'md5', 'md6', 'md7', 'md8',\n",
        "       'md9', 'md10', 'md11', 'md12', 'mc1', 'mc2', 'mc3', 'mc4','mc_g1','ind_g1',\n",
        "       'ind_g2'], inplace = True)"
      ],
      "execution_count": 374,
      "outputs": []
    },
    {
      "cell_type": "code",
      "metadata": {
        "colab": {
          "base_uri": "https://localhost:8080/"
        },
        "id": "IHt2y_5IHtRH",
        "outputId": "f44b6233-4db2-4b13-f82d-ba606594837f"
      },
      "source": [
        "df_total.columns"
      ],
      "execution_count": 375,
      "outputs": [
        {
          "output_type": "execute_result",
          "data": {
            "text/plain": [
              "Index(['rf2', 'ind01', 'ind02', 'ind03', 'ind04', 'ind05', 'ind06', 'ind07',\n",
              "       'ind08', 'ind09', 'ind10', 'ind11', 'ind12', 'ind13', 'ind14', 'ind15',\n",
              "       'ind16', 'ind17', 'ind18', 'ind19', 'ind20', 'ind21', 'ind22', 'ind23',\n",
              "       'ind24', 'ind25', 'ind26', 'ind27', 'ind28', 'ind29', 'ind30', 'ind31',\n",
              "       'ind32', 'ind33', 'ind34', 'ind35', 'ind36', 'ind37', 'ind38', 'ind39',\n",
              "       'ind40', 'ind41', 'ind42', 'ind43', 'target', 'cnae_secao', 'ind_g1_mv',\n",
              "       'ind_g2_mv', 'mc_g1_mv', 'md1_o', 'md2_o', 'md3_o', 'md4_o', 'md5_o',\n",
              "       'md7_o', 'md8_o', 'md9_o', 'md10_o', 'md12_o', 'mc1_o', 'mc3_o',\n",
              "       'mc4_o'],\n",
              "      dtype='object')"
            ]
          },
          "metadata": {
            "tags": []
          },
          "execution_count": 375
        }
      ]
    },
    {
      "cell_type": "markdown",
      "metadata": {
        "id": "e_0lkPsR_mFp"
      },
      "source": [
        "GET DUMMIES"
      ]
    },
    {
      "cell_type": "code",
      "metadata": {
        "id": "moTlPrJk5b0T"
      },
      "source": [
        "#df_total['cnae2'] = df_total['cnae2'].astype('category')"
      ],
      "execution_count": 376,
      "outputs": []
    },
    {
      "cell_type": "code",
      "metadata": {
        "id": "rN72uIGk_jMI"
      },
      "source": [
        "df_total = pd.get_dummies(df_total)"
      ],
      "execution_count": 377,
      "outputs": []
    },
    {
      "cell_type": "code",
      "metadata": {
        "id": "9gYa3Hy6lrZi"
      },
      "source": [
        "X_treino = df_total[df_total['target']!= 2]"
      ],
      "execution_count": 378,
      "outputs": []
    },
    {
      "cell_type": "code",
      "metadata": {
        "id": "KeckOXBrR_X6"
      },
      "source": [
        "df_X = X_treino.copy()"
      ],
      "execution_count": 379,
      "outputs": []
    },
    {
      "cell_type": "code",
      "metadata": {
        "id": "Q5tB1ey7eAe4"
      },
      "source": [
        "df_y = df_X['target']\n",
        "df_X = df_X.drop(columns= ['target'])"
      ],
      "execution_count": 380,
      "outputs": []
    },
    {
      "cell_type": "code",
      "metadata": {
        "id": "i8_BlpeteJow"
      },
      "source": [
        "X_test = df_total[df_total['target']== 2].drop(columns= ['target'])"
      ],
      "execution_count": 381,
      "outputs": []
    },
    {
      "cell_type": "markdown",
      "metadata": {
        "id": "qzWrM6VCSEoQ"
      },
      "source": [
        "Tratando o Balanceamento da Amostra"
      ]
    },
    {
      "cell_type": "code",
      "metadata": {
        "colab": {
          "base_uri": "https://localhost:8080/"
        },
        "id": "28lRhxtgRwEa",
        "outputId": "b6a67fd1-76a4-4553-d1c6-dfcde536786b"
      },
      "source": [
        "qtd = Counter(X_treino['target'])\n",
        "qtd"
      ],
      "execution_count": 382,
      "outputs": [
        {
          "output_type": "execute_result",
          "data": {
            "text/plain": [
              "Counter({0: 8513, 1: 2520})"
            ]
          },
          "metadata": {
            "tags": []
          },
          "execution_count": 382
        }
      ]
    },
    {
      "cell_type": "code",
      "metadata": {
        "id": "0AZCDYSOSHLx"
      },
      "source": [
        "from imblearn.under_sampling import RandomUnderSampler\n",
        "from imblearn.pipeline import Pipeline"
      ],
      "execution_count": 383,
      "outputs": []
    },
    {
      "cell_type": "code",
      "metadata": {
        "id": "Z1FhuODySLSS"
      },
      "source": [
        "over = SMOTE(sampling_strategy = 0.5) # Reamostrar a classe minoritária para ter 10% da classe majoritária\n",
        "under = RandomUnderSampler(sampling_strategy = 0.85) # Seleciona a classe majoritária para ter 50%\n",
        "steps = [('over', over), ('under', under)]\n",
        "pipeline = Pipeline(steps = steps)"
      ],
      "execution_count": 384,
      "outputs": []
    },
    {
      "cell_type": "code",
      "metadata": {
        "colab": {
          "base_uri": "https://localhost:8080/"
        },
        "id": "dwkQt9AFSNLL",
        "outputId": "1f2e9e14-b6a9-4968-d147-4bd4142ca340"
      },
      "source": [
        "X, y = pipeline.fit_resample(df_X, df_y)"
      ],
      "execution_count": 385,
      "outputs": [
        {
          "output_type": "stream",
          "text": [
            "/usr/local/lib/python3.6/dist-packages/sklearn/utils/deprecation.py:87: FutureWarning: Function safe_indexing is deprecated; safe_indexing is deprecated in version 0.22 and will be removed in version 0.24.\n",
            "  warnings.warn(msg, category=FutureWarning)\n",
            "/usr/local/lib/python3.6/dist-packages/sklearn/utils/deprecation.py:87: FutureWarning: Function safe_indexing is deprecated; safe_indexing is deprecated in version 0.22 and will be removed in version 0.24.\n",
            "  warnings.warn(msg, category=FutureWarning)\n"
          ],
          "name": "stderr"
        }
      ]
    },
    {
      "cell_type": "markdown",
      "metadata": {
        "id": "m22vN2YrSWOr"
      },
      "source": [
        "ANTES/DEPOIS:"
      ]
    },
    {
      "cell_type": "code",
      "metadata": {
        "colab": {
          "base_uri": "https://localhost:8080/"
        },
        "id": "oLiFXdkqSVNz",
        "outputId": "767e617c-4d30-4e19-d29f-efcba0812212"
      },
      "source": [
        "print(Counter(df_y),Counter(y))"
      ],
      "execution_count": 386,
      "outputs": [
        {
          "output_type": "stream",
          "text": [
            "Counter({0: 8513, 1: 2520}) Counter({0: 5007, 1: 4256})\n"
          ],
          "name": "stdout"
        }
      ]
    },
    {
      "cell_type": "markdown",
      "metadata": {
        "id": "jJaJWuUqJCha"
      },
      "source": [
        "### 3. Definir as amostras de treinamento e validação"
      ]
    },
    {
      "cell_type": "markdown",
      "metadata": {
        "id": "LoO2iEimu4SQ"
      },
      "source": [
        "[**Python**] - Definir as amostras de treinamento e validação"
      ]
    },
    {
      "cell_type": "code",
      "metadata": {
        "id": "hTCdm-F9JBGA",
        "colab": {
          "base_uri": "https://localhost:8080/"
        },
        "outputId": "11b96c3b-c7f5-4432-9141-90154e1c6999"
      },
      "source": [
        "from sklearn.model_selection import train_test_split\n",
        "\n",
        "X_treinamento, X_teste, y_treinamento, y_teste= train_test_split(X, y, test_size = 0.1, random_state = 22091980) #20111974)\n",
        "print(f'X: Treinamento=  {X_treinamento.shape}; X: Teste=  {X_teste.shape}')"
      ],
      "execution_count": 387,
      "outputs": [
        {
          "output_type": "stream",
          "text": [
            "X: Treinamento=  (8336, 88); X: Teste=  (927, 88)\n"
          ],
          "name": "stdout"
        }
      ]
    },
    {
      "cell_type": "code",
      "metadata": {
        "id": "th9CsQpB8VDK",
        "colab": {
          "base_uri": "https://localhost:8080/"
        },
        "outputId": "8966e583-ddab-4bca-f176-1cc6af7dddb3"
      },
      "source": [
        "print(f'Y: Treinamento =  {y_treinamento.shape}; Y: Teste = {y_teste.shape}')"
      ],
      "execution_count": 388,
      "outputs": [
        {
          "output_type": "stream",
          "text": [
            "Y: Treinamento =  (8336,); Y: Teste = (927,)\n"
          ],
          "name": "stdout"
        }
      ]
    },
    {
      "cell_type": "markdown",
      "metadata": {
        "id": "2bL-vXiULupD"
      },
      "source": [
        "### 4. Definir a arquitetura da Rede Neural com _Tensorflow_/_Keras_"
      ]
    },
    {
      "cell_type": "markdown",
      "metadata": {
        "id": "zxETX6dTfyU5"
      },
      "source": [
        "[**Python**] - Definir a arquitetura, ou seja:\n",
        "* $N_{I}$: Número de neurônios na camada de entrada (_Input Layer_);\n",
        "* $N_{O}$: Número de neurônios na camada de saída (_Output Layer_);\n",
        "* $N_{H}$: Número de neurônios na camada escondida (_Hidden Layer_);\n",
        "* FA: Função de ativação;"
      ]
    },
    {
      "cell_type": "code",
      "metadata": {
        "id": "F_MdsLicfyU6"
      },
      "source": [
        "# Número de Neurônios na Input Layer:\n",
        "N_I = 88\n",
        "\n",
        "# Número de neurônios na Output Layer:\n",
        "N_O = 1\n",
        "\n",
        "# Número de neurônios na Hidden Layer:\n",
        "N_H = 400\n",
        "\n",
        "N_H2 = 300\n",
        "\n",
        "N_H3=200\n",
        "\n",
        "N_H4 = 100\n",
        "\n",
        "N_H5 = 50\n",
        "\n",
        "N_H6 = 2\n",
        "\n",
        "\n",
        "\n",
        "# Função de Ativação da Hidden Layer:\n",
        "FA_H = tf.nn.leaky_relu\n",
        "#FA_H = tf.keras.activations.swish\n",
        "\n",
        "# Função de Ativação da Output Layer:\n",
        "FA_O = tf.keras.activations.sigmoid\n",
        "\n",
        "\n"
      ],
      "execution_count": 433,
      "outputs": []
    },
    {
      "cell_type": "markdown",
      "metadata": {
        "id": "SUMmDuPCcYyB"
      },
      "source": [
        "[**Python**] - Definir as sementes para NumPy e Tensorflow:\n",
        "> Por questões de reproducibilidade de resultados, use as sementes abaixo:\n",
        "\n",
        "* NumPy: 20111974;\n",
        "* Tensorflow: 20111974;"
      ]
    },
    {
      "cell_type": "code",
      "metadata": {
        "id": "T-echOBmceVy"
      },
      "source": [
        "np.random.seed(19800922)\n",
        "tf.random.set_seed(22091980)"
      ],
      "execution_count": 434,
      "outputs": []
    },
    {
      "cell_type": "markdown",
      "metadata": {
        "id": "7ZceRRdinEM2"
      },
      "source": [
        "\n",
        "[**Python**] - Definir a Rede Neural:"
      ]
    },
    {
      "cell_type": "markdown",
      "metadata": {
        "id": "nXQsSYq2DBfI"
      },
      "source": [
        "\n",
        "\n",
        "\n",
        "\n",
        "* 1 camada _dropout_ com $p= 0.1$:"
      ]
    },
    {
      "cell_type": "code",
      "metadata": {
        "id": "TRFR5Kr_nDtD",
        "colab": {
          "base_uri": "https://localhost:8080/"
        },
        "outputId": "bc955ffc-4fb2-4784-bfa8-fde5f7104dc1"
      },
      "source": [
        "from tensorflow.keras import Sequential\n",
        "from tensorflow.keras.layers import Dense\n",
        "from tensorflow.keras.layers import Dropout\n",
        "\n",
        "RN= Sequential()\n",
        "RN.add(Dense(N_H, input_dim= N_I, kernel_initializer= tf.keras.initializers.GlorotNormal(), activation= FA_H, kernel_constraint= tf.keras.constraints.UnitNorm()))\n",
        "RN.add(Dropout(0.1))\n",
        "RN.add(Dense(N_H2, kernel_initializer= tf.keras.initializers.GlorotNormal(), activation= FA_H, kernel_constraint= tf.keras.constraints.UnitNorm()))\n",
        "RN.add(Dropout(0.1))\n",
        "RN.add(Dense(N_H3, kernel_initializer= tf.keras.initializers.GlorotNormal(), activation= FA_H, kernel_constraint= tf.keras.constraints.UnitNorm()))\n",
        "RN.add(Dropout(0.1))\n",
        "RN.add(Dense(N_H4, kernel_initializer= tf.keras.initializers.GlorotNormal(), activation= FA_H, kernel_constraint= tf.keras.constraints.UnitNorm()))\n",
        "RN.add(Dropout(0.1))\n",
        "RN.add(Dense(N_H5, kernel_initializer= tf.keras.initializers.GlorotNormal(), activation= FA_H, kernel_constraint= tf.keras.constraints.UnitNorm()))\n",
        "RN.add(Dropout(0.1))\n",
        "RN.add(Dense(N_H6, kernel_initializer= tf.keras.initializers.GlorotNormal(), activation= FA_H, kernel_constraint= tf.keras.constraints.UnitNorm()))\n",
        "RN.add(Dropout(0.1))\n",
        "RN.add(Dense(units= N_O, activation= FA_O))\n",
        "\n",
        "# Resumo da arquitetura da Rede Neural\n",
        "print(RN.summary())"
      ],
      "execution_count": 435,
      "outputs": [
        {
          "output_type": "stream",
          "text": [
            "Model: \"sequential_24\"\n",
            "_________________________________________________________________\n",
            "Layer (type)                 Output Shape              Param #   \n",
            "=================================================================\n",
            "dense_158 (Dense)            (None, 400)               35600     \n",
            "_________________________________________________________________\n",
            "dropout_134 (Dropout)        (None, 400)               0         \n",
            "_________________________________________________________________\n",
            "dense_159 (Dense)            (None, 300)               120300    \n",
            "_________________________________________________________________\n",
            "dropout_135 (Dropout)        (None, 300)               0         \n",
            "_________________________________________________________________\n",
            "dense_160 (Dense)            (None, 200)               60200     \n",
            "_________________________________________________________________\n",
            "dropout_136 (Dropout)        (None, 200)               0         \n",
            "_________________________________________________________________\n",
            "dense_161 (Dense)            (None, 100)               20100     \n",
            "_________________________________________________________________\n",
            "dropout_137 (Dropout)        (None, 100)               0         \n",
            "_________________________________________________________________\n",
            "dense_162 (Dense)            (None, 50)                5050      \n",
            "_________________________________________________________________\n",
            "dropout_138 (Dropout)        (None, 50)                0         \n",
            "_________________________________________________________________\n",
            "dense_163 (Dense)            (None, 2)                 102       \n",
            "_________________________________________________________________\n",
            "dropout_139 (Dropout)        (None, 2)                 0         \n",
            "_________________________________________________________________\n",
            "dense_164 (Dense)            (None, 1)                 3         \n",
            "=================================================================\n",
            "Total params: 241,355\n",
            "Trainable params: 241,355\n",
            "Non-trainable params: 0\n",
            "_________________________________________________________________\n",
            "None\n"
          ],
          "name": "stdout"
        }
      ]
    },
    {
      "cell_type": "markdown",
      "metadata": {
        "id": "4JBZf4ypGO8o"
      },
      "source": [
        "### 5. Compilar a Rede Neural\n",
        "\n",
        "Este é um problema de classificação binária (_Male_ ou _Female_). Portanto, temos:\n",
        "* optimizer= tf.keras.optimizers.Adam();\n",
        "* loss=  tf.keras.losses.MeanSquaredError() ou loss= tf.keras.losses.BinaryCrossentropy(). Particularmente, eu gosto de usar loss=  tf.keras.losses.MeanSquaredError() porque o resultado é mais intuitivo;\n",
        "* metrics= tf.keras.metrics.binary_accuracy."
      ]
    },
    {
      "cell_type": "markdown",
      "metadata": {
        "id": "USmAuw6f00wL"
      },
      "source": [
        "[**Python**] - Comando modelo.compile(optimizer, loss, metrics):"
      ]
    },
    {
      "cell_type": "code",
      "metadata": {
        "id": "h7KEi1_e6SSF"
      },
      "source": [
        "\n",
        "Algoritmo_Opt = tf.keras.optimizers.Adamax()\n",
        "#Algoritmo_Opt = tf.keras.optimizers.Adam(learning_rate=0.01, beta_1=0.8, beta_2=0.99, epsilon=1e-07 , amsgrad=True,     name='Adam')\n",
        "#Loss_Function = tf.keras.losses.MeanSquaredError()\n",
        "Loss_Function = tf.keras.losses.BinaryCrossentropy()\n",
        "#Metrics_Perf = tf.keras.metrics.binary_accuracy\n",
        "Metrics_Perf = tfa.metrics.F1Score(1,average='macro',threshold=0.5)\n",
        "RN.compile(optimizer = Algoritmo_Opt, loss = Loss_Function,metrics = Metrics_Perf)\n",
        "#RN.compile( loss = Loss_Function,metrics = Metrics_Perf)"
      ],
      "execution_count": 436,
      "outputs": []
    },
    {
      "cell_type": "markdown",
      "metadata": {
        "id": "Hc90EeV_GojX"
      },
      "source": [
        "### 6. Ajustar a Rede Neural\n",
        "\n",
        "Obs.: A opção callbacks abaixo implementa o conceito de _early stopping_. Esta opção vai parar o processo de treinamento da Rede Neural antes de atingirmos o númerco de _epochs_ quando o modelo pára de melhorar, medido pela métrica val_loss. O parâmetro _patience_= k significa que o processo de otimização vai parar se tivermos k _epochs_ consecutivas sem observarmos melhoria da performance da Rede Neural."
      ]
    },
    {
      "cell_type": "markdown",
      "metadata": {
        "id": "XCCTtUh_vEFP"
      },
      "source": [
        "[**Python**] - Comando modelo.fit(X_treinamento, y_treinamento, epochs)"
      ]
    },
    {
      "cell_type": "code",
      "metadata": {
        "id": "EB91J6nrF0db",
        "colab": {
          "base_uri": "https://localhost:8080/"
        },
        "outputId": "f0187902-592a-46e4-907e-ca130e4b84ea"
      },
      "source": [
        "callbacks = [tf.keras.callbacks.EarlyStopping(monitor = 'val_f1_score', mode = 'max',patience = 20, min_delta = 0.001)]\n",
        "hist= RN.fit(X_treinamento, y_treinamento, epochs = 62, batch_size = 20,\n",
        "             validation_data = (X_teste, y_teste), callbacks = callbacks)"
      ],
      "execution_count": 437,
      "outputs": [
        {
          "output_type": "stream",
          "text": [
            "Epoch 1/62\n",
            "417/417 [==============================] - 3s 6ms/step - loss: 0.6245 - f1_score: 0.6462 - val_loss: 0.5999 - val_f1_score: 0.6858\n",
            "Epoch 2/62\n",
            "417/417 [==============================] - 2s 6ms/step - loss: 0.5946 - f1_score: 0.6818 - val_loss: 0.5946 - val_f1_score: 0.6834\n",
            "Epoch 3/62\n",
            "417/417 [==============================] - 2s 6ms/step - loss: 0.5906 - f1_score: 0.6833 - val_loss: 0.5908 - val_f1_score: 0.6881\n",
            "Epoch 4/62\n",
            "417/417 [==============================] - 2s 6ms/step - loss: 0.5782 - f1_score: 0.6893 - val_loss: 0.5808 - val_f1_score: 0.6812\n",
            "Epoch 5/62\n",
            "417/417 [==============================] - 2s 6ms/step - loss: 0.5712 - f1_score: 0.6936 - val_loss: 0.5812 - val_f1_score: 0.7010\n",
            "Epoch 6/62\n",
            "417/417 [==============================] - 2s 6ms/step - loss: 0.5627 - f1_score: 0.6990 - val_loss: 0.5700 - val_f1_score: 0.7056\n",
            "Epoch 7/62\n",
            "417/417 [==============================] - 2s 6ms/step - loss: 0.5570 - f1_score: 0.7038 - val_loss: 0.5638 - val_f1_score: 0.7082\n",
            "Epoch 8/62\n",
            "417/417 [==============================] - 2s 6ms/step - loss: 0.5452 - f1_score: 0.7168 - val_loss: 0.5554 - val_f1_score: 0.7073\n",
            "Epoch 9/62\n",
            "417/417 [==============================] - 2s 6ms/step - loss: 0.5333 - f1_score: 0.7239 - val_loss: 0.5680 - val_f1_score: 0.7020\n",
            "Epoch 10/62\n",
            "417/417 [==============================] - 2s 6ms/step - loss: 0.5282 - f1_score: 0.7247 - val_loss: 0.5583 - val_f1_score: 0.7159\n",
            "Epoch 11/62\n",
            "417/417 [==============================] - 2s 6ms/step - loss: 0.5146 - f1_score: 0.7344 - val_loss: 0.5493 - val_f1_score: 0.7191\n",
            "Epoch 12/62\n",
            "417/417 [==============================] - 3s 6ms/step - loss: 0.5096 - f1_score: 0.7380 - val_loss: 0.5298 - val_f1_score: 0.7294\n",
            "Epoch 13/62\n",
            "417/417 [==============================] - 2s 6ms/step - loss: 0.4940 - f1_score: 0.7469 - val_loss: 0.5426 - val_f1_score: 0.7233\n",
            "Epoch 14/62\n",
            "417/417 [==============================] - 2s 6ms/step - loss: 0.4871 - f1_score: 0.7557 - val_loss: 0.5596 - val_f1_score: 0.7256\n",
            "Epoch 15/62\n",
            "417/417 [==============================] - 2s 6ms/step - loss: 0.4788 - f1_score: 0.7609 - val_loss: 0.5377 - val_f1_score: 0.7140\n",
            "Epoch 16/62\n",
            "417/417 [==============================] - 2s 6ms/step - loss: 0.4655 - f1_score: 0.7664 - val_loss: 0.5258 - val_f1_score: 0.7133\n",
            "Epoch 17/62\n",
            "417/417 [==============================] - 4s 9ms/step - loss: 0.4494 - f1_score: 0.7752 - val_loss: 0.5249 - val_f1_score: 0.7444\n",
            "Epoch 18/62\n",
            "417/417 [==============================] - 5s 11ms/step - loss: 0.4459 - f1_score: 0.7777 - val_loss: 0.5892 - val_f1_score: 0.5889\n",
            "Epoch 19/62\n",
            "417/417 [==============================] - 4s 11ms/step - loss: 0.4312 - f1_score: 0.7884 - val_loss: 0.5269 - val_f1_score: 0.7448\n",
            "Epoch 20/62\n",
            "417/417 [==============================] - 2s 6ms/step - loss: 0.4308 - f1_score: 0.7922 - val_loss: 0.5294 - val_f1_score: 0.7322\n",
            "Epoch 21/62\n",
            "417/417 [==============================] - 2s 6ms/step - loss: 0.4138 - f1_score: 0.8031 - val_loss: 0.5470 - val_f1_score: 0.6969\n",
            "Epoch 22/62\n",
            "417/417 [==============================] - 2s 6ms/step - loss: 0.4000 - f1_score: 0.8087 - val_loss: 0.5255 - val_f1_score: 0.7375\n",
            "Epoch 23/62\n",
            "417/417 [==============================] - 2s 6ms/step - loss: 0.3923 - f1_score: 0.8121 - val_loss: 0.5515 - val_f1_score: 0.7146\n",
            "Epoch 24/62\n",
            "417/417 [==============================] - 2s 6ms/step - loss: 0.3915 - f1_score: 0.8136 - val_loss: 0.5358 - val_f1_score: 0.7342\n",
            "Epoch 25/62\n",
            "417/417 [==============================] - 2s 6ms/step - loss: 0.3802 - f1_score: 0.8185 - val_loss: 0.5220 - val_f1_score: 0.7202\n",
            "Epoch 26/62\n",
            "417/417 [==============================] - 2s 6ms/step - loss: 0.3751 - f1_score: 0.8244 - val_loss: 0.5096 - val_f1_score: 0.7472\n",
            "Epoch 27/62\n",
            "417/417 [==============================] - 2s 6ms/step - loss: 0.3614 - f1_score: 0.8261 - val_loss: 0.5607 - val_f1_score: 0.7408\n",
            "Epoch 28/62\n",
            "417/417 [==============================] - 2s 6ms/step - loss: 0.3503 - f1_score: 0.8341 - val_loss: 0.5427 - val_f1_score: 0.7559\n",
            "Epoch 29/62\n",
            "417/417 [==============================] - 2s 6ms/step - loss: 0.3455 - f1_score: 0.8399 - val_loss: 0.5478 - val_f1_score: 0.7465\n",
            "Epoch 30/62\n",
            "417/417 [==============================] - 2s 6ms/step - loss: 0.3371 - f1_score: 0.8451 - val_loss: 0.5533 - val_f1_score: 0.7362\n",
            "Epoch 31/62\n",
            "417/417 [==============================] - 2s 6ms/step - loss: 0.3277 - f1_score: 0.8447 - val_loss: 0.5708 - val_f1_score: 0.7295\n",
            "Epoch 32/62\n",
            "417/417 [==============================] - 2s 6ms/step - loss: 0.3251 - f1_score: 0.8474 - val_loss: 0.5813 - val_f1_score: 0.7487\n",
            "Epoch 33/62\n",
            "417/417 [==============================] - 2s 6ms/step - loss: 0.3253 - f1_score: 0.8436 - val_loss: 0.5644 - val_f1_score: 0.7408\n",
            "Epoch 34/62\n",
            "417/417 [==============================] - 2s 6ms/step - loss: 0.3132 - f1_score: 0.8526 - val_loss: 0.5861 - val_f1_score: 0.7381\n",
            "Epoch 35/62\n",
            "417/417 [==============================] - 2s 6ms/step - loss: 0.3042 - f1_score: 0.8616 - val_loss: 0.5791 - val_f1_score: 0.7372\n",
            "Epoch 36/62\n",
            "417/417 [==============================] - 2s 6ms/step - loss: 0.2925 - f1_score: 0.8607 - val_loss: 0.5909 - val_f1_score: 0.7271\n",
            "Epoch 37/62\n",
            "417/417 [==============================] - 2s 6ms/step - loss: 0.2949 - f1_score: 0.8649 - val_loss: 0.5669 - val_f1_score: 0.7484\n",
            "Epoch 38/62\n",
            "417/417 [==============================] - 2s 6ms/step - loss: 0.2911 - f1_score: 0.8693 - val_loss: 0.5862 - val_f1_score: 0.7495\n",
            "Epoch 39/62\n",
            "417/417 [==============================] - 2s 6ms/step - loss: 0.2723 - f1_score: 0.8744 - val_loss: 0.6453 - val_f1_score: 0.7153\n",
            "Epoch 40/62\n",
            "417/417 [==============================] - 2s 6ms/step - loss: 0.2737 - f1_score: 0.8711 - val_loss: 0.5830 - val_f1_score: 0.7494\n",
            "Epoch 41/62\n",
            "417/417 [==============================] - 3s 6ms/step - loss: 0.2610 - f1_score: 0.8852 - val_loss: 0.6021 - val_f1_score: 0.7462\n",
            "Epoch 42/62\n",
            "417/417 [==============================] - 2s 6ms/step - loss: 0.2605 - f1_score: 0.8807 - val_loss: 0.6582 - val_f1_score: 0.7646\n",
            "Epoch 43/62\n",
            "417/417 [==============================] - 2s 6ms/step - loss: 0.2642 - f1_score: 0.8813 - val_loss: 0.6190 - val_f1_score: 0.7373\n",
            "Epoch 44/62\n",
            "417/417 [==============================] - 2s 6ms/step - loss: 0.2546 - f1_score: 0.8862 - val_loss: 0.6072 - val_f1_score: 0.7466\n",
            "Epoch 45/62\n",
            "417/417 [==============================] - 2s 6ms/step - loss: 0.2500 - f1_score: 0.8888 - val_loss: 0.6106 - val_f1_score: 0.7480\n",
            "Epoch 46/62\n",
            "417/417 [==============================] - 2s 6ms/step - loss: 0.2429 - f1_score: 0.8914 - val_loss: 0.6451 - val_f1_score: 0.7471\n",
            "Epoch 47/62\n",
            "417/417 [==============================] - 2s 6ms/step - loss: 0.2360 - f1_score: 0.8886 - val_loss: 0.6337 - val_f1_score: 0.7477\n",
            "Epoch 48/62\n",
            "417/417 [==============================] - 2s 6ms/step - loss: 0.2399 - f1_score: 0.8920 - val_loss: 0.6481 - val_f1_score: 0.7354\n",
            "Epoch 49/62\n",
            "417/417 [==============================] - 2s 6ms/step - loss: 0.2389 - f1_score: 0.8874 - val_loss: 0.6143 - val_f1_score: 0.7436\n",
            "Epoch 50/62\n",
            "417/417 [==============================] - 2s 6ms/step - loss: 0.2237 - f1_score: 0.9001 - val_loss: 0.6808 - val_f1_score: 0.7519\n",
            "Epoch 51/62\n",
            "417/417 [==============================] - 2s 6ms/step - loss: 0.2262 - f1_score: 0.9009 - val_loss: 0.6681 - val_f1_score: 0.7442\n",
            "Epoch 52/62\n",
            "417/417 [==============================] - 2s 6ms/step - loss: 0.2230 - f1_score: 0.8974 - val_loss: 0.6678 - val_f1_score: 0.7520\n",
            "Epoch 53/62\n",
            "417/417 [==============================] - 2s 6ms/step - loss: 0.2110 - f1_score: 0.9062 - val_loss: 0.6797 - val_f1_score: 0.7658\n",
            "Epoch 54/62\n",
            "417/417 [==============================] - 2s 6ms/step - loss: 0.2191 - f1_score: 0.9016 - val_loss: 0.7052 - val_f1_score: 0.7612\n",
            "Epoch 55/62\n",
            "417/417 [==============================] - 2s 6ms/step - loss: 0.2118 - f1_score: 0.9058 - val_loss: 0.6602 - val_f1_score: 0.7525\n",
            "Epoch 56/62\n",
            "417/417 [==============================] - 2s 6ms/step - loss: 0.2009 - f1_score: 0.9139 - val_loss: 0.7264 - val_f1_score: 0.7525\n",
            "Epoch 57/62\n",
            "417/417 [==============================] - 2s 6ms/step - loss: 0.2059 - f1_score: 0.9093 - val_loss: 0.6762 - val_f1_score: 0.7432\n",
            "Epoch 58/62\n",
            "417/417 [==============================] - 2s 6ms/step - loss: 0.2021 - f1_score: 0.9131 - val_loss: 0.6742 - val_f1_score: 0.7607\n",
            "Epoch 59/62\n",
            "417/417 [==============================] - 2s 6ms/step - loss: 0.1934 - f1_score: 0.9171 - val_loss: 0.6608 - val_f1_score: 0.7551\n",
            "Epoch 60/62\n",
            "417/417 [==============================] - 2s 6ms/step - loss: 0.1910 - f1_score: 0.9116 - val_loss: 0.7281 - val_f1_score: 0.7597\n",
            "Epoch 61/62\n",
            "417/417 [==============================] - 2s 6ms/step - loss: 0.1881 - f1_score: 0.9163 - val_loss: 0.7174 - val_f1_score: 0.7495\n",
            "Epoch 62/62\n",
            "417/417 [==============================] - 2s 6ms/step - loss: 0.1877 - f1_score: 0.9157 - val_loss: 0.7314 - val_f1_score: 0.7705\n"
          ],
          "name": "stdout"
        }
      ]
    },
    {
      "cell_type": "code",
      "metadata": {
        "colab": {
          "base_uri": "https://localhost:8080/"
        },
        "id": "IE28TqhAWVlz",
        "outputId": "7d6d4ce1-fa9d-4583-d2b5-76da5a84f5b8"
      },
      "source": [
        ""
      ],
      "execution_count": 185,
      "outputs": [
        {
          "output_type": "execute_result",
          "data": {
            "text/plain": [
              "['loss', 'binary_accuracy']"
            ]
          },
          "metadata": {
            "tags": []
          },
          "execution_count": 185
        }
      ]
    },
    {
      "cell_type": "markdown",
      "metadata": {
        "id": "J1sL_DTrKmpq"
      },
      "source": [
        "### 7. Avaliar a performance da Rede Neural\n",
        "\n",
        "Para avaliar a a Rede Neural, simplesmente informamos as amostras de teste: X_teste e y_teste. A função evaluate() vai retornar uma lista contendo 2 valores: loss e accuracy."
      ]
    },
    {
      "cell_type": "markdown",
      "metadata": {
        "id": "VckQfEFPvMa7"
      },
      "source": [
        "[**Python**] - Comando modelo.evaluate(X_teste, y_teste)"
      ]
    },
    {
      "cell_type": "code",
      "metadata": {
        "id": "veeKG78w4hWh"
      },
      "source": [
        "def Mostra_ConfusionMatrix(X,y):\n",
        "    y_pred = RN.predict_classes(X)\n",
        "    mc = confusion_matrix(y, y_pred)\n",
        "    #sns.heatmap(mc,annot=True, annot_kws={\"size\": 10},fmt=\"d\")\n",
        "    sns.heatmap(mc/np.sum(mc), annot=True, annot_kws={\"size\": 10}, fmt='.2%', cmap='Blues')"
      ],
      "execution_count": 338,
      "outputs": []
    },
    {
      "cell_type": "code",
      "metadata": {
        "colab": {
          "base_uri": "https://localhost:8080/"
        },
        "id": "XUJL6Y6A4hWh",
        "outputId": "8fdd49ce-1293-423c-d94e-b1e669fbfa62"
      },
      "source": [
        "RN.evaluate(X_teste, y_teste)"
      ],
      "execution_count": 438,
      "outputs": [
        {
          "output_type": "stream",
          "text": [
            "29/29 [==============================] - 0s 2ms/step - loss: 0.7314 - f1_score: 0.7705\n"
          ],
          "name": "stdout"
        },
        {
          "output_type": "execute_result",
          "data": {
            "text/plain": [
              "[0.7313554286956787, 0.770508885383606]"
            ]
          },
          "metadata": {
            "tags": []
          },
          "execution_count": 438
        }
      ]
    },
    {
      "cell_type": "code",
      "metadata": {
        "colab": {
          "base_uri": "https://localhost:8080/"
        },
        "id": "g3KRG1fN4hWi",
        "outputId": "9a658c8a-ee17-406b-a58b-5d5b4d734d63"
      },
      "source": [
        "F1_Test=f1_score(y_teste, RN.predict_classes(X_teste), average=\"macro\")\n",
        "print(f'F1: {F1_Test}')"
      ],
      "execution_count": 439,
      "outputs": [
        {
          "output_type": "stream",
          "text": [
            "F1: 0.7612364559405058\n"
          ],
          "name": "stdout"
        }
      ]
    },
    {
      "cell_type": "code",
      "metadata": {
        "id": "HSC6yxs9VONq",
        "colab": {
          "base_uri": "https://localhost:8080/",
          "height": 269
        },
        "outputId": "4b096ba4-1b25-471f-c8d0-8ce2a3577f4d"
      },
      "source": [
        "Mostra_ConfusionMatrix(X_teste, y_teste)"
      ],
      "execution_count": 440,
      "outputs": [
        {
          "output_type": "display_data",
          "data": {
            "image/png": "[encoded data removed]",
            "text/plain": [
              "<Figure size 432x288 with 2 Axes>"
            ]
          },
          "metadata": {
            "tags": [],
            "needs_background": "light"
          }
        }
      ]
    },
    {
      "cell_type": "code",
      "metadata": {
        "colab": {
          "base_uri": "https://localhost:8080/"
        },
        "id": "vdDUMlaT4hWi",
        "outputId": "432e0630-8bac-499c-8e4a-15f3e0222265"
      },
      "source": [
        "RN.evaluate(df_X, df_y)"
      ],
      "execution_count": 441,
      "outputs": [
        {
          "output_type": "stream",
          "text": [
            "345/345 [==============================] - 1s 2ms/step - loss: 0.4517 - f1_score: 0.7265\n"
          ],
          "name": "stdout"
        },
        {
          "output_type": "execute_result",
          "data": {
            "text/plain": [
              "[0.4516831338405609, 0.7265135645866394]"
            ]
          },
          "metadata": {
            "tags": []
          },
          "execution_count": 441
        }
      ]
    },
    {
      "cell_type": "code",
      "metadata": {
        "colab": {
          "base_uri": "https://localhost:8080/"
        },
        "id": "NbBX0xLW4hWi",
        "outputId": "d4207fb8-0706-4bb1-dd24-b62105a811c6"
      },
      "source": [
        "F1_X=f1_score(y, RN.predict_classes(X), average=\"macro\")\n",
        "print(f'F1: {F1_X}')"
      ],
      "execution_count": 442,
      "outputs": [
        {
          "output_type": "stream",
          "text": [
            "F1: 0.9356862914504963\n"
          ],
          "name": "stdout"
        }
      ]
    },
    {
      "cell_type": "code",
      "metadata": {
        "id": "uKMi5mUMVWdR",
        "colab": {
          "base_uri": "https://localhost:8080/",
          "height": 265
        },
        "outputId": "8b659d6d-2f44-4b69-a007-d59b070a2187"
      },
      "source": [
        "Mostra_ConfusionMatrix(df_X, df_y)"
      ],
      "execution_count": 443,
      "outputs": [
        {
          "output_type": "display_data",
          "data": {
            "image/png": "[encoded data removed]",
            "text/plain": [
              "<Figure size 432x288 with 2 Axes>"
            ]
          },
          "metadata": {
            "tags": [],
            "needs_background": "light"
          }
        }
      ]
    },
    {
      "cell_type": "code",
      "metadata": {
        "colab": {
          "base_uri": "https://localhost:8080/"
        },
        "id": "X1V4oO0R4hWi",
        "outputId": "9ec3aea7-50ca-4d78-8bdd-b588579587fe"
      },
      "source": [
        "RN.evaluate(X_treinamento, y_treinamento)"
      ],
      "execution_count": 444,
      "outputs": [
        {
          "output_type": "stream",
          "text": [
            "261/261 [==============================] - 0s 2ms/step - loss: 0.1057 - f1_score: 0.9531\n"
          ],
          "name": "stdout"
        },
        {
          "output_type": "execute_result",
          "data": {
            "text/plain": [
              "[0.10571069270372391, 0.9530975818634033]"
            ]
          },
          "metadata": {
            "tags": []
          },
          "execution_count": 444
        }
      ]
    },
    {
      "cell_type": "code",
      "metadata": {
        "colab": {
          "base_uri": "https://localhost:8080/"
        },
        "id": "g7cCtosc4hWi",
        "outputId": "e072aff7-ba40-4e31-9afa-81d8c629c527"
      },
      "source": [
        "F1_Trein=f1_score(y_treinamento, RN.predict_classes(X_treinamento), average=\"macro\")\n",
        "print(f'F1: {F1_Trein}')"
      ],
      "execution_count": 445,
      "outputs": [
        {
          "output_type": "stream",
          "text": [
            "F1: 0.9550495883292349\n"
          ],
          "name": "stdout"
        }
      ]
    },
    {
      "cell_type": "code",
      "metadata": {
        "colab": {
          "base_uri": "https://localhost:8080/",
          "height": 265
        },
        "id": "N89YhXgS4hWj",
        "outputId": "86e5d4ca-01fb-4891-b323-33f7a0b54eda"
      },
      "source": [
        "Mostra_ConfusionMatrix(X_treinamento, y_treinamento)"
      ],
      "execution_count": 446,
      "outputs": [
        {
          "output_type": "display_data",
          "data": {
            "image/png": "[encoded data removed]",
            "text/plain": [
              "<Figure size 432x288 with 2 Axes>"
            ]
          },
          "metadata": {
            "tags": [],
            "needs_background": "light"
          }
        }
      ]
    },
    {
      "cell_type": "markdown",
      "metadata": {
        "id": "D5zYHcGuMPZe"
      },
      "source": [
        "### 8. _Fine tuning_ da Rede Neural\n",
        "\n",
        "Para aumentar a acurácia da Rede Neural, sugiro aumentarmos o número de neurônios na _Hidden Layer_ e/ou aumentar o número de _Hidden Layers_.\n",
        "\n",
        "No entanto, obtivemos uma acurácia razoável com a Rede Neural _baseline_. Portanto, deixo como exercício para os alunos o desafio de melhorar a acurácia desta Rede Neural."
      ]
    },
    {
      "cell_type": "markdown",
      "metadata": {
        "id": "_ISodOu-Kmp3"
      },
      "source": [
        "### 9. Fazer Predições com a Rede Neural"
      ]
    },
    {
      "cell_type": "markdown",
      "metadata": {
        "id": "_xgdL1W4vUrN"
      },
      "source": [
        "[**Python**] - Comando:\n",
        "* RN.predict_classes(X_treinamento);\n",
        "* RN.predict_classes(X_teste)."
      ]
    },
    {
      "cell_type": "code",
      "metadata": {
        "id": "kqy2rt3YfPiy"
      },
      "source": [
        "y_test = RN.predict_classes(X_test)\n"
      ],
      "execution_count": 447,
      "outputs": []
    },
    {
      "cell_type": "code",
      "metadata": {
        "id": "_C_u02mygKgt"
      },
      "source": [
        "df_submit = pd.concat([pd.DataFrame(X_test.index,columns=['id']),pd.DataFrame(y_test,columns=['target']).astype('boolean')],axis=1)\n",
        "\n"
      ],
      "execution_count": 448,
      "outputs": []
    },
    {
      "cell_type": "code",
      "metadata": {
        "colab": {
          "base_uri": "https://localhost:8080/",
          "height": 407
        },
        "id": "k-GLGzuem3cV",
        "outputId": "3be36f9e-a98f-48a1-b782-9995c7f7939b"
      },
      "source": [
        "df_submit"
      ],
      "execution_count": 449,
      "outputs": [
        {
          "output_type": "execute_result",
          "data": {
            "text/html": [
              "<div>\n",
              "<style scoped>\n",
              "    .dataframe tbody tr th:only-of-type {\n",
              "        vertical-align: middle;\n",
              "    }\n",
              "\n",
              "    .dataframe tbody tr th {\n",
              "        vertical-align: top;\n",
              "    }\n",
              "\n",
              "    .dataframe thead th {\n",
              "        text-align: right;\n",
              "    }\n",
              "</style>\n",
              "<table border=\"1\" class=\"dataframe\">\n",
              "  <thead>\n",
              "    <tr style=\"text-align: right;\">\n",
              "      <th></th>\n",
              "      <th>id</th>\n",
              "      <th>target</th>\n",
              "    </tr>\n",
              "  </thead>\n",
              "  <tbody>\n",
              "    <tr>\n",
              "      <th>0</th>\n",
              "      <td>3411</td>\n",
              "      <td>True</td>\n",
              "    </tr>\n",
              "    <tr>\n",
              "      <th>1</th>\n",
              "      <td>2177</td>\n",
              "      <td>False</td>\n",
              "    </tr>\n",
              "    <tr>\n",
              "      <th>2</th>\n",
              "      <td>8400</td>\n",
              "      <td>False</td>\n",
              "    </tr>\n",
              "    <tr>\n",
              "      <th>3</th>\n",
              "      <td>464</td>\n",
              "      <td>False</td>\n",
              "    </tr>\n",
              "    <tr>\n",
              "      <th>4</th>\n",
              "      <td>6672</td>\n",
              "      <td>False</td>\n",
              "    </tr>\n",
              "    <tr>\n",
              "      <th>...</th>\n",
              "      <td>...</td>\n",
              "      <td>...</td>\n",
              "    </tr>\n",
              "    <tr>\n",
              "      <th>995</th>\n",
              "      <td>8609</td>\n",
              "      <td>False</td>\n",
              "    </tr>\n",
              "    <tr>\n",
              "      <th>996</th>\n",
              "      <td>3384</td>\n",
              "      <td>True</td>\n",
              "    </tr>\n",
              "    <tr>\n",
              "      <th>997</th>\n",
              "      <td>8297</td>\n",
              "      <td>True</td>\n",
              "    </tr>\n",
              "    <tr>\n",
              "      <th>998</th>\n",
              "      <td>7556</td>\n",
              "      <td>False</td>\n",
              "    </tr>\n",
              "    <tr>\n",
              "      <th>999</th>\n",
              "      <td>8582</td>\n",
              "      <td>True</td>\n",
              "    </tr>\n",
              "  </tbody>\n",
              "</table>\n",
              "<p>1000 rows × 2 columns</p>\n",
              "</div>"
            ],
            "text/plain": [
              "       id  target\n",
              "0    3411    True\n",
              "1    2177   False\n",
              "2    8400   False\n",
              "3     464   False\n",
              "4    6672   False\n",
              "..    ...     ...\n",
              "995  8609   False\n",
              "996  3384    True\n",
              "997  8297    True\n",
              "998  7556   False\n",
              "999  8582    True\n",
              "\n",
              "[1000 rows x 2 columns]"
            ]
          },
          "metadata": {
            "tags": []
          },
          "execution_count": 449
        }
      ]
    },
    {
      "cell_type": "code",
      "metadata": {
        "id": "JU_6XlFRgPL2",
        "colab": {
          "base_uri": "https://localhost:8080/"
        },
        "outputId": "35d59804-d312-4b8b-b55d-99c135df0fb2"
      },
      "source": [
        "df_submit['target'].value_counts()"
      ],
      "execution_count": 450,
      "outputs": [
        {
          "output_type": "execute_result",
          "data": {
            "text/plain": [
              "False    551\n",
              "True     449\n",
              "Name: target, dtype: Int64"
            ]
          },
          "metadata": {
            "tags": []
          },
          "execution_count": 450
        }
      ]
    },
    {
      "cell_type": "code",
      "metadata": {
        "id": "XhnvrX4E65vY"
      },
      "source": [
        "F = df_submit['target'].value_counts()[0]\n",
        "T = df_submit['target'].value_counts()[1]"
      ],
      "execution_count": 451,
      "outputs": []
    },
    {
      "cell_type": "code",
      "metadata": {
        "id": "wB_47tDG60uC"
      },
      "source": [
        "df_submit.to_csv(f'/PyLadies_NL_83_Test_{round(F1_Test,4)}_X_{round(F1_X,4)}_Trein_{round(F1_Trein,4)}_F{F}_T{T}.csv',index = False, sep = ',')"
      ],
      "execution_count": 452,
      "outputs": []
    },
    {
      "cell_type": "markdown",
      "metadata": {
        "id": "NpufntZjyH8T"
      },
      "source": [
        "### Salvar a Rede Neural"
      ]
    },
    {
      "cell_type": "code",
      "metadata": {
        "id": "ZKqn0leTyLOy"
      },
      "source": [
        "# Save the weights\n",
        "RN.save('/RN_83.h5')"
      ],
      "execution_count": 453,
      "outputs": []
    },
    {
      "cell_type": "code",
      "metadata": {
        "id": "viORp6XjrC66"
      },
      "source": [
        ""
      ],
      "execution_count": null,
      "outputs": []
    }
  ]
}