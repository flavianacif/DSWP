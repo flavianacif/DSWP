{
  "nbformat": 4,
  "nbformat_minor": 0,
  "metadata": {
    "colab": {
      "name": "Untitled5.ipynb",
      "provenance": [],
      "toc_visible": true,
      "authorship_tag": "ABX9TyMeSBqdY74vRPFXLCaFXQ2o",
      "include_colab_link": true
    },
    "kernelspec": {
      "name": "python3",
      "display_name": "Python 3"
    }
  },
  "cells": [
    {
      "cell_type": "markdown",
      "metadata": {
        "id": "view-in-github",
        "colab_type": "text"
      },
      "source": [
        "<a href=\"https://colab.research.google.com/github/flavianacif/DSWP/blob/master/RFB_RN_10.ipynb\" target=\"_parent\"><img src=\"https://colab.research.google.com/assets/colab-badge.svg\" alt=\"Open In Colab\"/></a>"
      ]
    },
    {
      "cell_type": "code",
      "metadata": {
        "id": "j0_YZ6IURZE_"
      },
      "source": [
        "\n",
        "import tensorflow as tf\n",
        "import numpy as np\n",
        "import pandas as pd\n",
        "import matplotlib.pyplot as plt\n",
        "import seaborn as sns\n",
        "from sklearn.metrics import confusion_matrix\n",
        "\n",
        "from tensorflow import keras"
      ],
      "execution_count": 1,
      "outputs": []
    },
    {
      "cell_type": "markdown",
      "metadata": {
        "id": "9ZX00UN5cjvM"
      },
      "source": [
        "[**Python**] - Verificar a versão do Tensorflow\n",
        "> Assegurar que está a utilizar a versão 2.x."
      ]
    },
    {
      "cell_type": "code",
      "metadata": {
        "id": "THWNIk_FCe_g",
        "outputId": "1878ee27-5728-4b96-c118-be996ac9122b",
        "colab": {
          "base_uri": "https://localhost:8080/",
          "height": 35
        }
      },
      "source": [
        "tf.__version__"
      ],
      "execution_count": null,
      "outputs": [
        {
          "output_type": "execute_result",
          "data": {
            "application/vnd.google.colaboratory.intrinsic+json": {
              "type": "string"
            },
            "text/plain": [
              "'2.3.0'"
            ]
          },
          "metadata": {
            "tags": []
          },
          "execution_count": 2
        }
      ]
    },
    {
      "cell_type": "markdown",
      "metadata": {
        "id": "PZgQAKqLcLX3"
      },
      "source": [
        "[**Python**] - Definir o número de casas decimais"
      ]
    },
    {
      "cell_type": "code",
      "metadata": {
        "id": "tzKor02BCe_d"
      },
      "source": [
        "np.set_printoptions(precision= 3)"
      ],
      "execution_count": 2,
      "outputs": []
    },
    {
      "cell_type": "markdown",
      "metadata": {
        "id": "M5V4KopjLWOL"
      },
      "source": [
        "### 1. Carregar os dados"
      ]
    },
    {
      "cell_type": "markdown",
      "metadata": {
        "id": "V_cwAUW3tseE"
      },
      "source": [
        "[**Python**] - Carregar os dados:"
      ]
    },
    {
      "cell_type": "code",
      "metadata": {
        "id": "_Bs87IWPtwtm"
      },
      "source": [
        "# Leitura do dataframe:\n",
        "df_train = pd.read_csv('/train_6.csv')"
      ],
      "execution_count": 202,
      "outputs": []
    },
    {
      "cell_type": "code",
      "metadata": {
        "id": "9gYa3Hy6lrZi"
      },
      "source": [
        "df_X = df_train.copy()"
      ],
      "execution_count": 237,
      "outputs": []
    },
    {
      "cell_type": "code",
      "metadata": {
        "id": "cI8BYLNpr__x"
      },
      "source": [
        "df_test = pd.read_csv('/test_6.csv')"
      ],
      "execution_count": 311,
      "outputs": []
    },
    {
      "cell_type": "code",
      "metadata": {
        "id": "URxegHdQUD5P",
        "outputId": "e444bf57-4c37-443c-93d8-621cc596513b",
        "colab": {
          "base_uri": "https://localhost:8080/"
        }
      },
      "source": [
        "df_train.shape"
      ],
      "execution_count": 304,
      "outputs": [
        {
          "output_type": "execute_result",
          "data": {
            "text/plain": [
              "(11033, 128)"
            ]
          },
          "metadata": {
            "tags": []
          },
          "execution_count": 304
        }
      ]
    },
    {
      "cell_type": "code",
      "metadata": {
        "id": "noCEzzI-mJPc",
        "outputId": "20fdf5e1-bb7f-4e46-b689-52319dbbb5fe",
        "colab": {
          "base_uri": "https://localhost:8080/",
          "height": 253
        }
      },
      "source": [
        "df_test.head()"
      ],
      "execution_count": 312,
      "outputs": [
        {
          "output_type": "execute_result",
          "data": {
            "text/html": [
              "<div>\n",
              "<style scoped>\n",
              "    .dataframe tbody tr th:only-of-type {\n",
              "        vertical-align: middle;\n",
              "    }\n",
              "\n",
              "    .dataframe tbody tr th {\n",
              "        vertical-align: top;\n",
              "    }\n",
              "\n",
              "    .dataframe thead th {\n",
              "        text-align: right;\n",
              "    }\n",
              "</style>\n",
              "<table border=\"1\" class=\"dataframe\">\n",
              "  <thead>\n",
              "    <tr style=\"text-align: right;\">\n",
              "      <th></th>\n",
              "      <th>id</th>\n",
              "      <th>md1</th>\n",
              "      <th>md2</th>\n",
              "      <th>md3</th>\n",
              "      <th>md4</th>\n",
              "      <th>md5</th>\n",
              "      <th>md7</th>\n",
              "      <th>md8</th>\n",
              "      <th>md9</th>\n",
              "      <th>md10</th>\n",
              "      <th>md12</th>\n",
              "      <th>mc1</th>\n",
              "      <th>mc3</th>\n",
              "      <th>mc4</th>\n",
              "      <th>ind02</th>\n",
              "      <th>ind03</th>\n",
              "      <th>ind04</th>\n",
              "      <th>ind05</th>\n",
              "      <th>ind06</th>\n",
              "      <th>ind07</th>\n",
              "      <th>ind08</th>\n",
              "      <th>ind12</th>\n",
              "      <th>ind13</th>\n",
              "      <th>ind19</th>\n",
              "      <th>ind20</th>\n",
              "      <th>ind21</th>\n",
              "      <th>ind22</th>\n",
              "      <th>ind23</th>\n",
              "      <th>ind24</th>\n",
              "      <th>ind25</th>\n",
              "      <th>ind26</th>\n",
              "      <th>ind27</th>\n",
              "      <th>ind31</th>\n",
              "      <th>ind32</th>\n",
              "      <th>ind34</th>\n",
              "      <th>ind36</th>\n",
              "      <th>ind37</th>\n",
              "      <th>cnae2_0</th>\n",
              "      <th>cnae2_1</th>\n",
              "      <th>cnae2_2</th>\n",
              "      <th>...</th>\n",
              "      <th>cnae2_60</th>\n",
              "      <th>cnae2_61</th>\n",
              "      <th>cnae2_62</th>\n",
              "      <th>cnae2_63</th>\n",
              "      <th>cnae2_64</th>\n",
              "      <th>cnae2_65</th>\n",
              "      <th>cnae2_66</th>\n",
              "      <th>cnae2_68</th>\n",
              "      <th>cnae2_69</th>\n",
              "      <th>cnae2_70</th>\n",
              "      <th>cnae2_71</th>\n",
              "      <th>cnae2_72</th>\n",
              "      <th>cnae2_73</th>\n",
              "      <th>cnae2_74</th>\n",
              "      <th>cnae2_75</th>\n",
              "      <th>cnae2_77</th>\n",
              "      <th>cnae2_78</th>\n",
              "      <th>cnae2_79</th>\n",
              "      <th>cnae2_80</th>\n",
              "      <th>cnae2_81</th>\n",
              "      <th>cnae2_82</th>\n",
              "      <th>cnae2_85</th>\n",
              "      <th>cnae2_86</th>\n",
              "      <th>cnae2_87</th>\n",
              "      <th>cnae2_90</th>\n",
              "      <th>cnae2_91</th>\n",
              "      <th>cnae2_93</th>\n",
              "      <th>cnae2_94</th>\n",
              "      <th>cnae2_95</th>\n",
              "      <th>cnae2_96</th>\n",
              "      <th>rf2_0</th>\n",
              "      <th>rf2_1</th>\n",
              "      <th>rf2_2</th>\n",
              "      <th>rf2_3</th>\n",
              "      <th>rf2_4</th>\n",
              "      <th>rf2_5</th>\n",
              "      <th>rf2_6</th>\n",
              "      <th>rf2_7</th>\n",
              "      <th>rf2_8</th>\n",
              "      <th>rf2_9</th>\n",
              "    </tr>\n",
              "  </thead>\n",
              "  <tbody>\n",
              "    <tr>\n",
              "      <th>0</th>\n",
              "      <td>3411</td>\n",
              "      <td>2.003680</td>\n",
              "      <td>-0.494787</td>\n",
              "      <td>-0.495820</td>\n",
              "      <td>-0.442070</td>\n",
              "      <td>0.123285</td>\n",
              "      <td>-0.551138</td>\n",
              "      <td>-0.513523</td>\n",
              "      <td>-0.065299</td>\n",
              "      <td>1.010537</td>\n",
              "      <td>-0.488845</td>\n",
              "      <td>-0.691012</td>\n",
              "      <td>-0.677706</td>\n",
              "      <td>0.001520</td>\n",
              "      <td>-0.272616</td>\n",
              "      <td>-0.732025</td>\n",
              "      <td>1.415327</td>\n",
              "      <td>1.391831</td>\n",
              "      <td>-0.833054</td>\n",
              "      <td>-0.712381</td>\n",
              "      <td>-0.810896</td>\n",
              "      <td>-0.577874</td>\n",
              "      <td>-0.598610</td>\n",
              "      <td>-1.536467</td>\n",
              "      <td>-1.553749</td>\n",
              "      <td>0.437683</td>\n",
              "      <td>0.471211</td>\n",
              "      <td>1.586372</td>\n",
              "      <td>1.598694</td>\n",
              "      <td>0.284143</td>\n",
              "      <td>-1.378361</td>\n",
              "      <td>-1.365289</td>\n",
              "      <td>-0.698925</td>\n",
              "      <td>-0.753537</td>\n",
              "      <td>-0.970113</td>\n",
              "      <td>0.607919</td>\n",
              "      <td>-1.389713</td>\n",
              "      <td>-0.012893</td>\n",
              "      <td>-0.087294</td>\n",
              "      <td>-0.049994</td>\n",
              "      <td>...</td>\n",
              "      <td>-0.054779</td>\n",
              "      <td>-0.038706</td>\n",
              "      <td>-0.119351</td>\n",
              "      <td>-0.045628</td>\n",
              "      <td>-0.117548</td>\n",
              "      <td>-0.027359</td>\n",
              "      <td>-0.092003</td>\n",
              "      <td>-0.202279</td>\n",
              "      <td>-0.155474</td>\n",
              "      <td>-0.130995</td>\n",
              "      <td>5.337850</td>\n",
              "      <td>-0.024126</td>\n",
              "      <td>-0.118993</td>\n",
              "      <td>-0.100786</td>\n",
              "      <td>-0.025793</td>\n",
              "      <td>-0.108889</td>\n",
              "      <td>-0.098661</td>\n",
              "      <td>-0.041812</td>\n",
              "      <td>-0.075387</td>\n",
              "      <td>-0.120421</td>\n",
              "      <td>-0.153217</td>\n",
              "      <td>-0.109667</td>\n",
              "      <td>-0.292440</td>\n",
              "      <td>-0.037614</td>\n",
              "      <td>-0.056285</td>\n",
              "      <td>-0.009117</td>\n",
              "      <td>-0.043762</td>\n",
              "      <td>-0.031595</td>\n",
              "      <td>-0.039768</td>\n",
              "      <td>-0.05244</td>\n",
              "      <td>-0.27917</td>\n",
              "      <td>-0.289247</td>\n",
              "      <td>-0.338801</td>\n",
              "      <td>-0.257087</td>\n",
              "      <td>-0.244164</td>\n",
              "      <td>-0.289247</td>\n",
              "      <td>2.648897</td>\n",
              "      <td>-0.228481</td>\n",
              "      <td>-0.290089</td>\n",
              "      <td>-0.654796</td>\n",
              "    </tr>\n",
              "    <tr>\n",
              "      <th>1</th>\n",
              "      <td>2177</td>\n",
              "      <td>1.500909</td>\n",
              "      <td>-0.361906</td>\n",
              "      <td>-0.491025</td>\n",
              "      <td>-0.644654</td>\n",
              "      <td>-0.664717</td>\n",
              "      <td>-0.485928</td>\n",
              "      <td>-0.616134</td>\n",
              "      <td>-0.672111</td>\n",
              "      <td>-0.676531</td>\n",
              "      <td>0.008991</td>\n",
              "      <td>2.117592</td>\n",
              "      <td>-0.670669</td>\n",
              "      <td>0.482933</td>\n",
              "      <td>-0.501580</td>\n",
              "      <td>-0.732025</td>\n",
              "      <td>-0.802706</td>\n",
              "      <td>-0.839223</td>\n",
              "      <td>1.286482</td>\n",
              "      <td>1.605530</td>\n",
              "      <td>1.455495</td>\n",
              "      <td>1.737508</td>\n",
              "      <td>1.864395</td>\n",
              "      <td>-1.536467</td>\n",
              "      <td>-1.553749</td>\n",
              "      <td>0.998441</td>\n",
              "      <td>-1.214927</td>\n",
              "      <td>-0.763882</td>\n",
              "      <td>-0.750870</td>\n",
              "      <td>-0.640278</td>\n",
              "      <td>1.036880</td>\n",
              "      <td>1.124830</td>\n",
              "      <td>-0.698925</td>\n",
              "      <td>1.327075</td>\n",
              "      <td>-0.970113</td>\n",
              "      <td>-1.644957</td>\n",
              "      <td>0.719573</td>\n",
              "      <td>-0.012893</td>\n",
              "      <td>-0.087294</td>\n",
              "      <td>-0.049994</td>\n",
              "      <td>...</td>\n",
              "      <td>-0.054779</td>\n",
              "      <td>-0.038706</td>\n",
              "      <td>-0.119351</td>\n",
              "      <td>-0.045628</td>\n",
              "      <td>-0.117548</td>\n",
              "      <td>-0.027359</td>\n",
              "      <td>-0.092003</td>\n",
              "      <td>-0.202279</td>\n",
              "      <td>-0.155474</td>\n",
              "      <td>-0.130995</td>\n",
              "      <td>-0.187341</td>\n",
              "      <td>-0.024126</td>\n",
              "      <td>-0.118993</td>\n",
              "      <td>-0.100786</td>\n",
              "      <td>-0.025793</td>\n",
              "      <td>-0.108889</td>\n",
              "      <td>-0.098661</td>\n",
              "      <td>-0.041812</td>\n",
              "      <td>-0.075387</td>\n",
              "      <td>-0.120421</td>\n",
              "      <td>-0.153217</td>\n",
              "      <td>-0.109667</td>\n",
              "      <td>3.419508</td>\n",
              "      <td>-0.037614</td>\n",
              "      <td>-0.056285</td>\n",
              "      <td>-0.009117</td>\n",
              "      <td>-0.043762</td>\n",
              "      <td>-0.031595</td>\n",
              "      <td>-0.039768</td>\n",
              "      <td>-0.05244</td>\n",
              "      <td>-0.27917</td>\n",
              "      <td>-0.289247</td>\n",
              "      <td>-0.338801</td>\n",
              "      <td>-0.257087</td>\n",
              "      <td>-0.244164</td>\n",
              "      <td>-0.289247</td>\n",
              "      <td>-0.377516</td>\n",
              "      <td>-0.228481</td>\n",
              "      <td>3.447216</td>\n",
              "      <td>-0.654796</td>\n",
              "    </tr>\n",
              "    <tr>\n",
              "      <th>2</th>\n",
              "      <td>8400</td>\n",
              "      <td>-0.264478</td>\n",
              "      <td>-0.818245</td>\n",
              "      <td>-0.777297</td>\n",
              "      <td>-0.760530</td>\n",
              "      <td>-0.664717</td>\n",
              "      <td>-0.784815</td>\n",
              "      <td>-0.764148</td>\n",
              "      <td>-0.796796</td>\n",
              "      <td>-0.676531</td>\n",
              "      <td>-0.464045</td>\n",
              "      <td>-0.668474</td>\n",
              "      <td>-0.614676</td>\n",
              "      <td>-0.226717</td>\n",
              "      <td>-0.138354</td>\n",
              "      <td>-0.732025</td>\n",
              "      <td>1.415327</td>\n",
              "      <td>1.391831</td>\n",
              "      <td>1.286482</td>\n",
              "      <td>-0.712381</td>\n",
              "      <td>-0.810896</td>\n",
              "      <td>-0.577874</td>\n",
              "      <td>-0.598610</td>\n",
              "      <td>0.675043</td>\n",
              "      <td>0.664488</td>\n",
              "      <td>-1.244591</td>\n",
              "      <td>-1.214927</td>\n",
              "      <td>1.586372</td>\n",
              "      <td>1.598694</td>\n",
              "      <td>-0.640278</td>\n",
              "      <td>1.036880</td>\n",
              "      <td>1.124830</td>\n",
              "      <td>-0.698925</td>\n",
              "      <td>1.327075</td>\n",
              "      <td>1.030808</td>\n",
              "      <td>0.607919</td>\n",
              "      <td>0.719573</td>\n",
              "      <td>-0.012893</td>\n",
              "      <td>-0.087294</td>\n",
              "      <td>-0.049994</td>\n",
              "      <td>...</td>\n",
              "      <td>-0.054779</td>\n",
              "      <td>-0.038706</td>\n",
              "      <td>-0.119351</td>\n",
              "      <td>-0.045628</td>\n",
              "      <td>-0.117548</td>\n",
              "      <td>-0.027359</td>\n",
              "      <td>-0.092003</td>\n",
              "      <td>-0.202279</td>\n",
              "      <td>-0.155474</td>\n",
              "      <td>-0.130995</td>\n",
              "      <td>-0.187341</td>\n",
              "      <td>-0.024126</td>\n",
              "      <td>-0.118993</td>\n",
              "      <td>-0.100786</td>\n",
              "      <td>-0.025793</td>\n",
              "      <td>-0.108889</td>\n",
              "      <td>-0.098661</td>\n",
              "      <td>-0.041812</td>\n",
              "      <td>-0.075387</td>\n",
              "      <td>-0.120421</td>\n",
              "      <td>-0.153217</td>\n",
              "      <td>-0.109667</td>\n",
              "      <td>-0.292440</td>\n",
              "      <td>-0.037614</td>\n",
              "      <td>-0.056285</td>\n",
              "      <td>-0.009117</td>\n",
              "      <td>-0.043762</td>\n",
              "      <td>-0.031595</td>\n",
              "      <td>-0.039768</td>\n",
              "      <td>-0.05244</td>\n",
              "      <td>-0.27917</td>\n",
              "      <td>-0.289247</td>\n",
              "      <td>-0.338801</td>\n",
              "      <td>-0.257087</td>\n",
              "      <td>-0.244164</td>\n",
              "      <td>-0.289247</td>\n",
              "      <td>-0.377516</td>\n",
              "      <td>-0.228481</td>\n",
              "      <td>-0.290089</td>\n",
              "      <td>1.527193</td>\n",
              "    </tr>\n",
              "    <tr>\n",
              "      <th>3</th>\n",
              "      <td>464</td>\n",
              "      <td>2.003680</td>\n",
              "      <td>2.163904</td>\n",
              "      <td>2.152560</td>\n",
              "      <td>2.121936</td>\n",
              "      <td>0.669432</td>\n",
              "      <td>2.194291</td>\n",
              "      <td>2.206491</td>\n",
              "      <td>2.209243</td>\n",
              "      <td>-0.016854</td>\n",
              "      <td>2.080461</td>\n",
              "      <td>1.703231</td>\n",
              "      <td>0.253817</td>\n",
              "      <td>1.936345</td>\n",
              "      <td>-0.663413</td>\n",
              "      <td>-0.732025</td>\n",
              "      <td>-0.802706</td>\n",
              "      <td>-0.839223</td>\n",
              "      <td>-0.833054</td>\n",
              "      <td>0.402534</td>\n",
              "      <td>1.150439</td>\n",
              "      <td>1.737508</td>\n",
              "      <td>0.716358</td>\n",
              "      <td>0.386219</td>\n",
              "      <td>0.489691</td>\n",
              "      <td>0.437683</td>\n",
              "      <td>0.471211</td>\n",
              "      <td>-0.763882</td>\n",
              "      <td>-0.750870</td>\n",
              "      <td>1.999869</td>\n",
              "      <td>-1.042884</td>\n",
              "      <td>-0.120230</td>\n",
              "      <td>-0.698925</td>\n",
              "      <td>-0.753537</td>\n",
              "      <td>-0.970113</td>\n",
              "      <td>-1.644957</td>\n",
              "      <td>-1.389713</td>\n",
              "      <td>-0.012893</td>\n",
              "      <td>-0.087294</td>\n",
              "      <td>-0.049994</td>\n",
              "      <td>...</td>\n",
              "      <td>-0.054779</td>\n",
              "      <td>-0.038706</td>\n",
              "      <td>-0.119351</td>\n",
              "      <td>-0.045628</td>\n",
              "      <td>-0.117548</td>\n",
              "      <td>-0.027359</td>\n",
              "      <td>-0.092003</td>\n",
              "      <td>-0.202279</td>\n",
              "      <td>-0.155474</td>\n",
              "      <td>-0.130995</td>\n",
              "      <td>-0.187341</td>\n",
              "      <td>-0.024126</td>\n",
              "      <td>-0.118993</td>\n",
              "      <td>-0.100786</td>\n",
              "      <td>-0.025793</td>\n",
              "      <td>-0.108889</td>\n",
              "      <td>-0.098661</td>\n",
              "      <td>-0.041812</td>\n",
              "      <td>-0.075387</td>\n",
              "      <td>-0.120421</td>\n",
              "      <td>-0.153217</td>\n",
              "      <td>-0.109667</td>\n",
              "      <td>-0.292440</td>\n",
              "      <td>-0.037614</td>\n",
              "      <td>-0.056285</td>\n",
              "      <td>-0.009117</td>\n",
              "      <td>-0.043762</td>\n",
              "      <td>-0.031595</td>\n",
              "      <td>-0.039768</td>\n",
              "      <td>-0.05244</td>\n",
              "      <td>-0.27917</td>\n",
              "      <td>-0.289247</td>\n",
              "      <td>-0.338801</td>\n",
              "      <td>-0.257087</td>\n",
              "      <td>-0.244164</td>\n",
              "      <td>-0.289247</td>\n",
              "      <td>-0.377516</td>\n",
              "      <td>-0.228481</td>\n",
              "      <td>-0.290089</td>\n",
              "      <td>1.527193</td>\n",
              "    </tr>\n",
              "    <tr>\n",
              "      <th>4</th>\n",
              "      <td>6672</td>\n",
              "      <td>1.309214</td>\n",
              "      <td>-0.518234</td>\n",
              "      <td>-0.657630</td>\n",
              "      <td>-0.467367</td>\n",
              "      <td>0.125706</td>\n",
              "      <td>-0.631375</td>\n",
              "      <td>-0.750867</td>\n",
              "      <td>-0.511860</td>\n",
              "      <td>-0.051732</td>\n",
              "      <td>-0.709886</td>\n",
              "      <td>-0.253748</td>\n",
              "      <td>-0.677707</td>\n",
              "      <td>-0.466562</td>\n",
              "      <td>-0.480002</td>\n",
              "      <td>-0.732025</td>\n",
              "      <td>-0.802706</td>\n",
              "      <td>-0.839223</td>\n",
              "      <td>-0.833054</td>\n",
              "      <td>1.095358</td>\n",
              "      <td>0.956663</td>\n",
              "      <td>-0.577874</td>\n",
              "      <td>-0.598610</td>\n",
              "      <td>-1.536467</td>\n",
              "      <td>0.664488</td>\n",
              "      <td>-1.244591</td>\n",
              "      <td>-1.214927</td>\n",
              "      <td>-0.763882</td>\n",
              "      <td>-0.750870</td>\n",
              "      <td>-0.640278</td>\n",
              "      <td>-1.378361</td>\n",
              "      <td>-1.365289</td>\n",
              "      <td>-0.698925</td>\n",
              "      <td>-0.753537</td>\n",
              "      <td>-0.970113</td>\n",
              "      <td>0.607919</td>\n",
              "      <td>0.719573</td>\n",
              "      <td>-0.012893</td>\n",
              "      <td>-0.087294</td>\n",
              "      <td>-0.049994</td>\n",
              "      <td>...</td>\n",
              "      <td>-0.054779</td>\n",
              "      <td>-0.038706</td>\n",
              "      <td>-0.119351</td>\n",
              "      <td>-0.045628</td>\n",
              "      <td>-0.117548</td>\n",
              "      <td>-0.027359</td>\n",
              "      <td>-0.092003</td>\n",
              "      <td>-0.202279</td>\n",
              "      <td>-0.155474</td>\n",
              "      <td>-0.130995</td>\n",
              "      <td>-0.187341</td>\n",
              "      <td>-0.024126</td>\n",
              "      <td>-0.118993</td>\n",
              "      <td>-0.100786</td>\n",
              "      <td>-0.025793</td>\n",
              "      <td>-0.108889</td>\n",
              "      <td>-0.098661</td>\n",
              "      <td>-0.041812</td>\n",
              "      <td>-0.075387</td>\n",
              "      <td>-0.120421</td>\n",
              "      <td>-0.153217</td>\n",
              "      <td>-0.109667</td>\n",
              "      <td>3.419508</td>\n",
              "      <td>-0.037614</td>\n",
              "      <td>-0.056285</td>\n",
              "      <td>-0.009117</td>\n",
              "      <td>-0.043762</td>\n",
              "      <td>-0.031595</td>\n",
              "      <td>-0.039768</td>\n",
              "      <td>-0.05244</td>\n",
              "      <td>-0.27917</td>\n",
              "      <td>-0.289247</td>\n",
              "      <td>-0.338801</td>\n",
              "      <td>3.889734</td>\n",
              "      <td>-0.244164</td>\n",
              "      <td>-0.289247</td>\n",
              "      <td>-0.377516</td>\n",
              "      <td>-0.228481</td>\n",
              "      <td>-0.290089</td>\n",
              "      <td>-0.654796</td>\n",
              "    </tr>\n",
              "  </tbody>\n",
              "</table>\n",
              "<p>5 rows × 127 columns</p>\n",
              "</div>"
            ],
            "text/plain": [
              "     id       md1       md2       md3  ...     rf2_6     rf2_7     rf2_8     rf2_9\n",
              "0  3411  2.003680 -0.494787 -0.495820  ...  2.648897 -0.228481 -0.290089 -0.654796\n",
              "1  2177  1.500909 -0.361906 -0.491025  ... -0.377516 -0.228481  3.447216 -0.654796\n",
              "2  8400 -0.264478 -0.818245 -0.777297  ... -0.377516 -0.228481 -0.290089  1.527193\n",
              "3   464  2.003680  2.163904  2.152560  ... -0.377516 -0.228481 -0.290089  1.527193\n",
              "4  6672  1.309214 -0.518234 -0.657630  ... -0.377516 -0.228481 -0.290089 -0.654796\n",
              "\n",
              "[5 rows x 127 columns]"
            ]
          },
          "metadata": {
            "tags": []
          },
          "execution_count": 312
        }
      ]
    },
    {
      "cell_type": "markdown",
      "metadata": {
        "id": "mBUeMtV7tzw6"
      },
      "source": [
        "[**Python**] - Mostrar as primeiras 5 linhas:"
      ]
    },
    {
      "cell_type": "code",
      "metadata": {
        "id": "rcH-y4amt3gs",
        "outputId": "46229247-1104-4c53-c560-3ff968d48748",
        "colab": {
          "base_uri": "https://localhost:8080/",
          "height": 224
        }
      },
      "source": [
        "df_train.head()"
      ],
      "execution_count": 95,
      "outputs": [
        {
          "output_type": "execute_result",
          "data": {
            "text/html": [
              "<div>\n",
              "<style scoped>\n",
              "    .dataframe tbody tr th:only-of-type {\n",
              "        vertical-align: middle;\n",
              "    }\n",
              "\n",
              "    .dataframe tbody tr th {\n",
              "        vertical-align: top;\n",
              "    }\n",
              "\n",
              "    .dataframe thead th {\n",
              "        text-align: right;\n",
              "    }\n",
              "</style>\n",
              "<table border=\"1\" class=\"dataframe\">\n",
              "  <thead>\n",
              "    <tr style=\"text-align: right;\">\n",
              "      <th></th>\n",
              "      <th>id</th>\n",
              "      <th>cnae2</th>\n",
              "      <th>rf2</th>\n",
              "      <th>md1</th>\n",
              "      <th>md2</th>\n",
              "      <th>md3</th>\n",
              "      <th>md4</th>\n",
              "      <th>md5</th>\n",
              "      <th>md7</th>\n",
              "      <th>md8</th>\n",
              "      <th>md9</th>\n",
              "      <th>md10</th>\n",
              "      <th>md12</th>\n",
              "      <th>mc1</th>\n",
              "      <th>mc3</th>\n",
              "      <th>mc4</th>\n",
              "      <th>ind02</th>\n",
              "      <th>ind03</th>\n",
              "      <th>ind04</th>\n",
              "      <th>ind05</th>\n",
              "      <th>ind06</th>\n",
              "      <th>ind07</th>\n",
              "      <th>ind08</th>\n",
              "      <th>ind12</th>\n",
              "      <th>ind13</th>\n",
              "      <th>ind19</th>\n",
              "      <th>ind20</th>\n",
              "      <th>ind21</th>\n",
              "      <th>ind22</th>\n",
              "      <th>ind23</th>\n",
              "      <th>ind24</th>\n",
              "      <th>ind25</th>\n",
              "      <th>ind26</th>\n",
              "      <th>ind27</th>\n",
              "      <th>ind31</th>\n",
              "      <th>ind32</th>\n",
              "      <th>ind34</th>\n",
              "      <th>ind36</th>\n",
              "      <th>ind37</th>\n",
              "      <th>target</th>\n",
              "    </tr>\n",
              "  </thead>\n",
              "  <tbody>\n",
              "    <tr>\n",
              "      <th>0</th>\n",
              "      <td>0</td>\n",
              "      <td>86</td>\n",
              "      <td>1</td>\n",
              "      <td>0.015101</td>\n",
              "      <td>0.011256</td>\n",
              "      <td>0.111095</td>\n",
              "      <td>0.003233</td>\n",
              "      <td>0.003233</td>\n",
              "      <td>0.016366</td>\n",
              "      <td>0.021082</td>\n",
              "      <td>0.004541</td>\n",
              "      <td>0.004541</td>\n",
              "      <td>0.130930</td>\n",
              "      <td>0.003945</td>\n",
              "      <td>0.000138</td>\n",
              "      <td>0.003355</td>\n",
              "      <td>0.0281</td>\n",
              "      <td>0.0</td>\n",
              "      <td>0.0000</td>\n",
              "      <td>0.0000</td>\n",
              "      <td>0.0000</td>\n",
              "      <td>0.0000</td>\n",
              "      <td>0.0000</td>\n",
              "      <td>0.0000</td>\n",
              "      <td>0.0000</td>\n",
              "      <td>1.0</td>\n",
              "      <td>0.0000</td>\n",
              "      <td>0.00</td>\n",
              "      <td>0.00</td>\n",
              "      <td>0.0000</td>\n",
              "      <td>0.0000</td>\n",
              "      <td>0.0976</td>\n",
              "      <td>0.0333</td>\n",
              "      <td>0.1000</td>\n",
              "      <td>0.0</td>\n",
              "      <td>0.0</td>\n",
              "      <td>0.0</td>\n",
              "      <td>1.0</td>\n",
              "      <td>1.0</td>\n",
              "      <td>1</td>\n",
              "    </tr>\n",
              "    <tr>\n",
              "      <th>1</th>\n",
              "      <td>1</td>\n",
              "      <td>18</td>\n",
              "      <td>9</td>\n",
              "      <td>0.005996</td>\n",
              "      <td>0.019476</td>\n",
              "      <td>0.124770</td>\n",
              "      <td>0.000000</td>\n",
              "      <td>0.010487</td>\n",
              "      <td>0.029214</td>\n",
              "      <td>0.046445</td>\n",
              "      <td>0.000000</td>\n",
              "      <td>0.018198</td>\n",
              "      <td>0.138620</td>\n",
              "      <td>0.003186</td>\n",
              "      <td>0.003121</td>\n",
              "      <td>0.003355</td>\n",
              "      <td>0.0000</td>\n",
              "      <td>1.0</td>\n",
              "      <td>0.4167</td>\n",
              "      <td>0.4194</td>\n",
              "      <td>0.7068</td>\n",
              "      <td>0.0076</td>\n",
              "      <td>0.0076</td>\n",
              "      <td>0.0125</td>\n",
              "      <td>0.0286</td>\n",
              "      <td>0.0</td>\n",
              "      <td>0.7625</td>\n",
              "      <td>1.00</td>\n",
              "      <td>1.00</td>\n",
              "      <td>0.1429</td>\n",
              "      <td>0.2857</td>\n",
              "      <td>0.0000</td>\n",
              "      <td>0.4444</td>\n",
              "      <td>0.2222</td>\n",
              "      <td>1.0</td>\n",
              "      <td>0.0</td>\n",
              "      <td>1.0</td>\n",
              "      <td>1.0</td>\n",
              "      <td>0.0</td>\n",
              "      <td>0</td>\n",
              "    </tr>\n",
              "    <tr>\n",
              "      <th>2</th>\n",
              "      <td>2</td>\n",
              "      <td>74</td>\n",
              "      <td>9</td>\n",
              "      <td>0.000006</td>\n",
              "      <td>0.002902</td>\n",
              "      <td>0.110160</td>\n",
              "      <td>0.002274</td>\n",
              "      <td>0.002274</td>\n",
              "      <td>0.002902</td>\n",
              "      <td>0.020058</td>\n",
              "      <td>0.003131</td>\n",
              "      <td>0.003131</td>\n",
              "      <td>0.130405</td>\n",
              "      <td>0.000015</td>\n",
              "      <td>0.000050</td>\n",
              "      <td>0.000209</td>\n",
              "      <td>0.0000</td>\n",
              "      <td>1.0</td>\n",
              "      <td>1.0000</td>\n",
              "      <td>1.0000</td>\n",
              "      <td>1.0000</td>\n",
              "      <td>0.0000</td>\n",
              "      <td>0.0000</td>\n",
              "      <td>0.0000</td>\n",
              "      <td>0.0000</td>\n",
              "      <td>1.0</td>\n",
              "      <td>1.0000</td>\n",
              "      <td>1.00</td>\n",
              "      <td>1.00</td>\n",
              "      <td>1.0000</td>\n",
              "      <td>1.0000</td>\n",
              "      <td>0.0000</td>\n",
              "      <td>1.0000</td>\n",
              "      <td>1.0000</td>\n",
              "      <td>1.0</td>\n",
              "      <td>1.0</td>\n",
              "      <td>1.0</td>\n",
              "      <td>1.0</td>\n",
              "      <td>1.0</td>\n",
              "      <td>0</td>\n",
              "    </tr>\n",
              "    <tr>\n",
              "      <th>3</th>\n",
              "      <td>3</td>\n",
              "      <td>49</td>\n",
              "      <td>4</td>\n",
              "      <td>0.000009</td>\n",
              "      <td>0.014526</td>\n",
              "      <td>0.120351</td>\n",
              "      <td>0.000000</td>\n",
              "      <td>0.000000</td>\n",
              "      <td>0.014526</td>\n",
              "      <td>0.032017</td>\n",
              "      <td>0.000000</td>\n",
              "      <td>0.000000</td>\n",
              "      <td>0.138620</td>\n",
              "      <td>0.000438</td>\n",
              "      <td>0.000042</td>\n",
              "      <td>0.000115</td>\n",
              "      <td>0.0000</td>\n",
              "      <td>0.0</td>\n",
              "      <td>0.0000</td>\n",
              "      <td>0.0000</td>\n",
              "      <td>0.0000</td>\n",
              "      <td>0.2309</td>\n",
              "      <td>0.2309</td>\n",
              "      <td>0.0000</td>\n",
              "      <td>0.0000</td>\n",
              "      <td>0.0</td>\n",
              "      <td>1.0000</td>\n",
              "      <td>0.25</td>\n",
              "      <td>0.25</td>\n",
              "      <td>0.9167</td>\n",
              "      <td>0.9167</td>\n",
              "      <td>0.1785</td>\n",
              "      <td>0.1667</td>\n",
              "      <td>0.1667</td>\n",
              "      <td>0.0</td>\n",
              "      <td>0.0</td>\n",
              "      <td>0.0</td>\n",
              "      <td>0.0</td>\n",
              "      <td>1.0</td>\n",
              "      <td>0</td>\n",
              "    </tr>\n",
              "    <tr>\n",
              "      <th>4</th>\n",
              "      <td>4</td>\n",
              "      <td>47</td>\n",
              "      <td>1</td>\n",
              "      <td>0.000191</td>\n",
              "      <td>0.004042</td>\n",
              "      <td>0.111078</td>\n",
              "      <td>0.001121</td>\n",
              "      <td>0.001121</td>\n",
              "      <td>0.006063</td>\n",
              "      <td>0.023705</td>\n",
              "      <td>0.011886</td>\n",
              "      <td>0.011886</td>\n",
              "      <td>0.131285</td>\n",
              "      <td>0.001925</td>\n",
              "      <td>0.003121</td>\n",
              "      <td>0.000719</td>\n",
              "      <td>0.0000</td>\n",
              "      <td>0.0</td>\n",
              "      <td>0.0000</td>\n",
              "      <td>0.0000</td>\n",
              "      <td>0.0000</td>\n",
              "      <td>1.0000</td>\n",
              "      <td>1.0000</td>\n",
              "      <td>0.0000</td>\n",
              "      <td>0.0000</td>\n",
              "      <td>0.0</td>\n",
              "      <td>0.0000</td>\n",
              "      <td>0.00</td>\n",
              "      <td>0.00</td>\n",
              "      <td>0.0000</td>\n",
              "      <td>0.0000</td>\n",
              "      <td>0.0000</td>\n",
              "      <td>0.0000</td>\n",
              "      <td>0.0000</td>\n",
              "      <td>0.0</td>\n",
              "      <td>0.0</td>\n",
              "      <td>0.0</td>\n",
              "      <td>0.0</td>\n",
              "      <td>0.0</td>\n",
              "      <td>0</td>\n",
              "    </tr>\n",
              "  </tbody>\n",
              "</table>\n",
              "</div>"
            ],
            "text/plain": [
              "   id  cnae2  rf2       md1       md2  ...  ind32  ind34  ind36  ind37  target\n",
              "0   0     86    1  0.015101  0.011256  ...    0.0    0.0    1.0    1.0       1\n",
              "1   1     18    9  0.005996  0.019476  ...    0.0    1.0    1.0    0.0       0\n",
              "2   2     74    9  0.000006  0.002902  ...    1.0    1.0    1.0    1.0       0\n",
              "3   3     49    4  0.000009  0.014526  ...    0.0    0.0    0.0    1.0       0\n",
              "4   4     47    1  0.000191  0.004042  ...    0.0    0.0    0.0    0.0       0\n",
              "\n",
              "[5 rows x 40 columns]"
            ]
          },
          "metadata": {
            "tags": []
          },
          "execution_count": 95
        }
      ]
    },
    {
      "cell_type": "markdown",
      "metadata": {
        "id": "OSa161sPLcAw"
      },
      "source": [
        "### Pré-processamento e transformação dos dados"
      ]
    },
    {
      "cell_type": "markdown",
      "metadata": {
        "id": "FiO_F95jc1_s"
      },
      "source": [
        "[**Python**] - Normalizar os dados - StandardScaler()"
      ]
    },
    {
      "cell_type": "code",
      "metadata": {
        "id": "oMTIn6Zf5LlU"
      },
      "source": [
        "df_y = df_X['target']\n",
        "df_X = df_X.drop(columns= ['target','id'])\n"
      ],
      "execution_count": 239,
      "outputs": []
    },
    {
      "cell_type": "code",
      "metadata": {
        "id": "MwJyrlyhKXr6"
      },
      "source": [
        "X_test = df_test.drop(columns= ['id'])"
      ],
      "execution_count": 313,
      "outputs": []
    },
    {
      "cell_type": "markdown",
      "metadata": {
        "id": "jJaJWuUqJCha"
      },
      "source": [
        "### 3. Definir as amostras de treinamento e validação"
      ]
    },
    {
      "cell_type": "markdown",
      "metadata": {
        "id": "LoO2iEimu4SQ"
      },
      "source": [
        "[**Python**] - Definir as amostras de treinamento e validação"
      ]
    },
    {
      "cell_type": "code",
      "metadata": {
        "id": "hTCdm-F9JBGA",
        "outputId": "831de4b8-b3df-4363-8126-600a52e49385",
        "colab": {
          "base_uri": "https://localhost:8080/"
        }
      },
      "source": [
        "from sklearn.model_selection import train_test_split\n",
        "\n",
        "X_treinamento, X_teste, y_treinamento, y_teste= train_test_split(df_X, df_y, test_size = 0.15, random_state = 20111974)\n",
        "print(f'X: Treinamento=  {X_treinamento.shape}; X: Teste=  {X_teste.shape}')"
      ],
      "execution_count": 279,
      "outputs": [
        {
          "output_type": "stream",
          "text": [
            "X: Treinamento=  (9378, 126); X: Teste=  (1655, 126)\n"
          ],
          "name": "stdout"
        }
      ]
    },
    {
      "cell_type": "code",
      "metadata": {
        "id": "th9CsQpB8VDK",
        "outputId": "44194982-b947-4222-ef80-adb1ba6cfae7",
        "colab": {
          "base_uri": "https://localhost:8080/"
        }
      },
      "source": [
        "print(f'Y: Treinamento =  {y_treinamento.shape}; Y: Teste = {y_teste.shape}')"
      ],
      "execution_count": 257,
      "outputs": [
        {
          "output_type": "stream",
          "text": [
            "Y: Treinamento =  (8274,); Y: Teste = (2759,)\n"
          ],
          "name": "stdout"
        }
      ]
    },
    {
      "cell_type": "markdown",
      "metadata": {
        "id": "2bL-vXiULupD"
      },
      "source": [
        "### 4. Definir a arquitetura da Rede Neural com _Tensorflow_/_Keras_"
      ]
    },
    {
      "cell_type": "markdown",
      "metadata": {
        "id": "zxETX6dTfyU5"
      },
      "source": [
        "[**Python**] - Definir a arquitetura, ou seja:\n",
        "* $N_{I}$: Número de neurônios na camada de entrada (_Input Layer_);\n",
        "* $N_{O}$: Número de neurônios na camada de saída (_Output Layer_);\n",
        "* $N_{H}$: Número de neurônios na camada escondida (_Hidden Layer_);\n",
        "* FA: Função de ativação;"
      ]
    },
    {
      "cell_type": "code",
      "metadata": {
        "id": "F_MdsLicfyU6"
      },
      "source": [
        "# Número de Neurônios na Input Layer:\n",
        "N_I = 126\n",
        "\n",
        "# Número de neurônios na Output Layer:\n",
        "N_O = 1\n",
        "\n",
        "# Número de neurônios na Hidden Layer:\n",
        "N_H = 200\n",
        "\n",
        "N_H2 = 200\n",
        "\n",
        "N_H3=200\n",
        "\n",
        "N_H4 = 200\n",
        "\n",
        "# Função de Ativação da Hidden Layer:\n",
        "#FA_H = tf.nn.leaky_relu\n",
        "FA_H = tf.keras.activations.swish\n",
        "\n",
        "# Função de Ativação da Output Layer:\n",
        "FA_O = tf.keras.activations.sigmoid\n",
        "\n",
        "\n"
      ],
      "execution_count": 292,
      "outputs": []
    },
    {
      "cell_type": "markdown",
      "metadata": {
        "id": "SUMmDuPCcYyB"
      },
      "source": [
        "[**Python**] - Definir as sementes para NumPy e Tensorflow:\n",
        "> Por questões de reproducibilidade de resultados, use as sementes abaixo:\n",
        "\n",
        "* NumPy: 20111974;\n",
        "* Tensorflow: 20111974;"
      ]
    },
    {
      "cell_type": "code",
      "metadata": {
        "id": "T-echOBmceVy"
      },
      "source": [
        "np.random.seed(19800922)\n",
        "tf.random.set_seed(22091980)"
      ],
      "execution_count": 244,
      "outputs": []
    },
    {
      "cell_type": "markdown",
      "metadata": {
        "id": "7ZceRRdinEM2"
      },
      "source": [
        "\n",
        "[**Python**] - Definir a Rede Neural:"
      ]
    },
    {
      "cell_type": "markdown",
      "metadata": {
        "id": "nXQsSYq2DBfI"
      },
      "source": [
        "\n",
        "\n",
        "\n",
        "\n",
        "* 1 camada _dropout_ com $p= 0.1$:"
      ]
    },
    {
      "cell_type": "code",
      "metadata": {
        "id": "TRFR5Kr_nDtD",
        "outputId": "4a25e172-a926-49ad-e6fa-331f5f508856",
        "colab": {
          "base_uri": "https://localhost:8080/"
        }
      },
      "source": [
        "from tensorflow.keras import Sequential\n",
        "from tensorflow.keras.layers import Dense\n",
        "from tensorflow.keras.layers import Dropout\n",
        "\n",
        "RN= Sequential()\n",
        "RN.add(Dense(N_H, input_dim= N_I, kernel_initializer= tf.keras.initializers.GlorotNormal(), activation= FA_H, kernel_constraint= tf.keras.constraints.UnitNorm()))\n",
        "RN.add(Dropout(0.25))\n",
        "RN.add(Dense(N_H2, kernel_initializer= tf.keras.initializers.GlorotNormal(), activation= FA_H, kernel_constraint= tf.keras.constraints.UnitNorm()))\n",
        "RN.add(Dropout(0.25))\n",
        "RN.add(Dense(N_H3, kernel_initializer= tf.keras.initializers.GlorotNormal(), activation= FA_H, kernel_constraint= tf.keras.constraints.UnitNorm()))\n",
        "RN.add(Dropout(0.25))\n",
        "RN.add(Dense(N_H4, kernel_initializer= tf.keras.initializers.GlorotNormal(), activation= FA_H, kernel_constraint= tf.keras.constraints.UnitNorm()))\n",
        "RN.add(Dropout(0.25))\n",
        "RN.add(Dense(units= N_O, activation= FA_O))\n",
        "\n",
        "# Resumo da arquitetura da Rede Neural\n",
        "print(RN.summary())"
      ],
      "execution_count": 293,
      "outputs": [
        {
          "output_type": "stream",
          "text": [
            "Model: \"sequential_36\"\n",
            "_________________________________________________________________\n",
            "Layer (type)                 Output Shape              Param #   \n",
            "=================================================================\n",
            "dense_169 (Dense)            (None, 200)               25400     \n",
            "_________________________________________________________________\n",
            "dropout_134 (Dropout)        (None, 200)               0         \n",
            "_________________________________________________________________\n",
            "dense_170 (Dense)            (None, 200)               40200     \n",
            "_________________________________________________________________\n",
            "dropout_135 (Dropout)        (None, 200)               0         \n",
            "_________________________________________________________________\n",
            "dense_171 (Dense)            (None, 200)               40200     \n",
            "_________________________________________________________________\n",
            "dropout_136 (Dropout)        (None, 200)               0         \n",
            "_________________________________________________________________\n",
            "dense_172 (Dense)            (None, 200)               40200     \n",
            "_________________________________________________________________\n",
            "dropout_137 (Dropout)        (None, 200)               0         \n",
            "_________________________________________________________________\n",
            "dense_173 (Dense)            (None, 1)                 201       \n",
            "=================================================================\n",
            "Total params: 146,201\n",
            "Trainable params: 146,201\n",
            "Non-trainable params: 0\n",
            "_________________________________________________________________\n",
            "None\n"
          ],
          "name": "stdout"
        }
      ]
    },
    {
      "cell_type": "markdown",
      "metadata": {
        "id": "4JBZf4ypGO8o"
      },
      "source": [
        "### 5. Compilar a Rede Neural\n",
        "\n",
        "Este é um problema de classificação binária (_Male_ ou _Female_). Portanto, temos:\n",
        "* optimizer= tf.keras.optimizers.Adam();\n",
        "* loss=  tf.keras.losses.MeanSquaredError() ou loss= tf.keras.losses.BinaryCrossentropy(). Particularmente, eu gosto de usar loss=  tf.keras.losses.MeanSquaredError() porque o resultado é mais intuitivo;\n",
        "* metrics= tf.keras.metrics.binary_accuracy."
      ]
    },
    {
      "cell_type": "markdown",
      "metadata": {
        "id": "USmAuw6f00wL"
      },
      "source": [
        "[**Python**] - Comando modelo.compile(optimizer, loss, metrics):"
      ]
    },
    {
      "cell_type": "code",
      "metadata": {
        "id": "h7KEi1_e6SSF"
      },
      "source": [
        "\n",
        "Algoritmo_Opt = tf.keras.optimizers.Adam()\n",
        "#Algoritmo_Opt = tf.keras.optimizers.Adam(learning_rate=0.01, beta_1=0.8, beta_2=0.99, epsilon=1e-07 , amsgrad=True,     name='Adam')\n",
        "Loss_Function = tf.keras.losses.MeanSquaredError()\n",
        "Metrics_Perf = tf.keras.metrics.binary_accuracy\n",
        "\n",
        "RN.compile(optimizer = Algoritmo_Opt, loss = Loss_Function, metrics = Metrics_Perf)"
      ],
      "execution_count": 294,
      "outputs": []
    },
    {
      "cell_type": "markdown",
      "metadata": {
        "id": "Hc90EeV_GojX"
      },
      "source": [
        "### 6. Ajustar a Rede Neural\n",
        "\n",
        "Obs.: A opção callbacks abaixo implementa o conceito de _early stopping_. Esta opção vai parar o processo de treinamento da Rede Neural antes de atingirmos o númerco de _epochs_ quando o modelo pára de melhorar, medido pela métrica val_loss. O parâmetro _patience_= k significa que o processo de otimização vai parar se tivermos k _epochs_ consecutivas sem observarmos melhoria da performance da Rede Neural."
      ]
    },
    {
      "cell_type": "markdown",
      "metadata": {
        "id": "XCCTtUh_vEFP"
      },
      "source": [
        "[**Python**] - Comando modelo.fit(X_treinamento, y_treinamento, epochs)"
      ]
    },
    {
      "cell_type": "code",
      "metadata": {
        "id": "EB91J6nrF0db",
        "outputId": "ba18a3cf-0f1e-4fb7-d45d-437b3cc820ef",
        "colab": {
          "base_uri": "https://localhost:8080/"
        }
      },
      "source": [
        "callbacks = [tf.keras.callbacks.EarlyStopping(monitor = 'val_loss', patience = 10, min_delta = 0.001)]\n",
        "hist= RN.fit(X_treinamento, y_treinamento, epochs = 100, \n",
        "             validation_data = (X_teste, y_teste), \n",
        "             callbacks = callbacks)"
      ],
      "execution_count": 295,
      "outputs": [
        {
          "output_type": "stream",
          "text": [
            "Epoch 1/100\n",
            "294/294 [==============================] - 1s 4ms/step - loss: 0.1702 - binary_accuracy: 0.7640 - val_loss: 0.1607 - val_binary_accuracy: 0.7776\n",
            "Epoch 2/100\n",
            "294/294 [==============================] - 1s 3ms/step - loss: 0.1619 - binary_accuracy: 0.7672 - val_loss: 0.1607 - val_binary_accuracy: 0.7746\n",
            "Epoch 3/100\n",
            "294/294 [==============================] - 1s 3ms/step - loss: 0.1594 - binary_accuracy: 0.7705 - val_loss: 0.1601 - val_binary_accuracy: 0.7710\n",
            "Epoch 4/100\n",
            "294/294 [==============================] - 1s 3ms/step - loss: 0.1578 - binary_accuracy: 0.7723 - val_loss: 0.1634 - val_binary_accuracy: 0.7650\n",
            "Epoch 5/100\n",
            "294/294 [==============================] - 1s 3ms/step - loss: 0.1555 - binary_accuracy: 0.7740 - val_loss: 0.1572 - val_binary_accuracy: 0.7752\n",
            "Epoch 6/100\n",
            "294/294 [==============================] - 1s 3ms/step - loss: 0.1543 - binary_accuracy: 0.7768 - val_loss: 0.1570 - val_binary_accuracy: 0.7789\n",
            "Epoch 7/100\n",
            "294/294 [==============================] - 1s 3ms/step - loss: 0.1516 - binary_accuracy: 0.7786 - val_loss: 0.1586 - val_binary_accuracy: 0.7764\n",
            "Epoch 8/100\n",
            "294/294 [==============================] - 1s 3ms/step - loss: 0.1502 - binary_accuracy: 0.7825 - val_loss: 0.1627 - val_binary_accuracy: 0.7698\n",
            "Epoch 9/100\n",
            "294/294 [==============================] - 1s 3ms/step - loss: 0.1484 - binary_accuracy: 0.7855 - val_loss: 0.1581 - val_binary_accuracy: 0.7782\n",
            "Epoch 10/100\n",
            "294/294 [==============================] - 1s 3ms/step - loss: 0.1457 - binary_accuracy: 0.7921 - val_loss: 0.1646 - val_binary_accuracy: 0.7656\n",
            "Epoch 11/100\n",
            "294/294 [==============================] - 1s 3ms/step - loss: 0.1452 - binary_accuracy: 0.7889 - val_loss: 0.1599 - val_binary_accuracy: 0.7722\n",
            "Epoch 12/100\n",
            "294/294 [==============================] - 1s 3ms/step - loss: 0.1431 - binary_accuracy: 0.7917 - val_loss: 0.1686 - val_binary_accuracy: 0.7462\n",
            "Epoch 13/100\n",
            "294/294 [==============================] - 1s 3ms/step - loss: 0.1395 - binary_accuracy: 0.8019 - val_loss: 0.1654 - val_binary_accuracy: 0.7734\n",
            "Epoch 14/100\n",
            "294/294 [==============================] - 1s 3ms/step - loss: 0.1395 - binary_accuracy: 0.8001 - val_loss: 0.1674 - val_binary_accuracy: 0.7734\n",
            "Epoch 15/100\n",
            "294/294 [==============================] - 1s 3ms/step - loss: 0.1361 - binary_accuracy: 0.8046 - val_loss: 0.1680 - val_binary_accuracy: 0.7650\n"
          ],
          "name": "stdout"
        }
      ]
    },
    {
      "cell_type": "code",
      "metadata": {
        "id": "W9LNgeg6ci5u"
      },
      "source": [
        "def Model_Loss(hist):\n",
        "    print(hist.history.keys())\n",
        "    plt.plot(hist.history['loss'])\n",
        "    plt.plot(hist.history['val_loss'])\n",
        "    plt.title('Model Loss')\n",
        "    plt.ylabel('Loss')\n",
        "    plt.xlabel('Epochs')\n",
        "    plt.legend(['Training', 'Validation'], loc= 'upper right')\n",
        "    plt.show()\n",
        "\n",
        "def Model_Accuracy(hist):\n",
        "    print(hist.history.keys())\n",
        "    plt.plot(hist.history['accuracy'])\n",
        "    plt.plot(hist.history['val_accuracy'])\n",
        "    plt.title('Model Accuracy')\n",
        "    plt.ylabel('Accuracy')\n",
        "    plt.xlabel('Epochs')\n",
        "    plt.legend(['Training', 'Validation'], loc= 'upper right')\n",
        "    plt.show()\n",
        "\n",
        "def Model_MSE(hist):\n",
        "    print(hist.history.keys())\n",
        "    plt.plot(hist.history['mse'])\n",
        "    plt.plot(hist.history['val_mse'])\n",
        "    plt.title('Model MSE')\n",
        "    plt.ylabel('MSE')\n",
        "    plt.xlabel('Epochs')\n",
        "    plt.legend(['Training', 'Validation'], loc= 'upper right')\n",
        "    plt.show()\n",
        "\n",
        "def Mostra_ConfusionMatrix():\n",
        "    y_pred = RN.predict_classes(X_teste)\n",
        "    mc = confusion_matrix(y_teste, y_pred)\n",
        "    #sns.heatmap(mc,annot=True, annot_kws={\"size\": 10},fmt=\"d\")\n",
        "    sns.heatmap(mc/np.sum(mc), annot=True, annot_kws={\"size\": 10}, fmt='.2%', cmap='Blues')"
      ],
      "execution_count": null,
      "outputs": []
    },
    {
      "cell_type": "code",
      "metadata": {
        "id": "71mX1iwvHMc5",
        "outputId": "e77c94f2-1005-408c-a8e8-fe9af4c6ddf6",
        "colab": {
          "base_uri": "https://localhost:8080/",
          "height": 299
        }
      },
      "source": [
        "Model_Accuracy(hist)"
      ],
      "execution_count": null,
      "outputs": [
        {
          "output_type": "stream",
          "text": [
            "dict_keys(['loss', 'binary_accuracy', 'val_loss', 'val_binary_accuracy'])\n"
          ],
          "name": "stdout"
        },
        {
          "output_type": "error",
          "ename": "KeyError",
          "evalue": "ignored",
          "traceback": [
            "\u001b[0;31m---------------------------------------------------------------------------\u001b[0m",
            "\u001b[0;31mKeyError\u001b[0m                                  Traceback (most recent call last)",
            "\u001b[0;32m<ipython-input-103-52181b2ceb01>\u001b[0m in \u001b[0;36m<module>\u001b[0;34m()\u001b[0m\n\u001b[0;32m----> 1\u001b[0;31m \u001b[0mModel_Accuracy\u001b[0m\u001b[0;34m(\u001b[0m\u001b[0mhist\u001b[0m\u001b[0;34m)\u001b[0m\u001b[0;34m\u001b[0m\u001b[0;34m\u001b[0m\u001b[0m\n\u001b[0m",
            "\u001b[0;32m<ipython-input-102-d8e91b2e8510>\u001b[0m in \u001b[0;36mModel_Accuracy\u001b[0;34m(hist)\u001b[0m\n\u001b[1;32m     11\u001b[0m \u001b[0;32mdef\u001b[0m \u001b[0mModel_Accuracy\u001b[0m\u001b[0;34m(\u001b[0m\u001b[0mhist\u001b[0m\u001b[0;34m)\u001b[0m\u001b[0;34m:\u001b[0m\u001b[0;34m\u001b[0m\u001b[0;34m\u001b[0m\u001b[0m\n\u001b[1;32m     12\u001b[0m     \u001b[0mprint\u001b[0m\u001b[0;34m(\u001b[0m\u001b[0mhist\u001b[0m\u001b[0;34m.\u001b[0m\u001b[0mhistory\u001b[0m\u001b[0;34m.\u001b[0m\u001b[0mkeys\u001b[0m\u001b[0;34m(\u001b[0m\u001b[0;34m)\u001b[0m\u001b[0;34m)\u001b[0m\u001b[0;34m\u001b[0m\u001b[0;34m\u001b[0m\u001b[0m\n\u001b[0;32m---> 13\u001b[0;31m     \u001b[0mplt\u001b[0m\u001b[0;34m.\u001b[0m\u001b[0mplot\u001b[0m\u001b[0;34m(\u001b[0m\u001b[0mhist\u001b[0m\u001b[0;34m.\u001b[0m\u001b[0mhistory\u001b[0m\u001b[0;34m[\u001b[0m\u001b[0;34m'accuracy'\u001b[0m\u001b[0;34m]\u001b[0m\u001b[0;34m)\u001b[0m\u001b[0;34m\u001b[0m\u001b[0;34m\u001b[0m\u001b[0m\n\u001b[0m\u001b[1;32m     14\u001b[0m     \u001b[0mplt\u001b[0m\u001b[0;34m.\u001b[0m\u001b[0mplot\u001b[0m\u001b[0;34m(\u001b[0m\u001b[0mhist\u001b[0m\u001b[0;34m.\u001b[0m\u001b[0mhistory\u001b[0m\u001b[0;34m[\u001b[0m\u001b[0;34m'val_accuracy'\u001b[0m\u001b[0;34m]\u001b[0m\u001b[0;34m)\u001b[0m\u001b[0;34m\u001b[0m\u001b[0;34m\u001b[0m\u001b[0m\n\u001b[1;32m     15\u001b[0m     \u001b[0mplt\u001b[0m\u001b[0;34m.\u001b[0m\u001b[0mtitle\u001b[0m\u001b[0;34m(\u001b[0m\u001b[0;34m'Model Accuracy'\u001b[0m\u001b[0;34m)\u001b[0m\u001b[0;34m\u001b[0m\u001b[0;34m\u001b[0m\u001b[0m\n",
            "\u001b[0;31mKeyError\u001b[0m: 'accuracy'"
          ]
        }
      ]
    },
    {
      "cell_type": "code",
      "metadata": {
        "id": "o-zJ6GIjHbY8",
        "outputId": "53d8490e-7b98-4831-eef3-63fb5e9bbccb",
        "colab": {
          "base_uri": "https://localhost:8080/",
          "height": 163
        }
      },
      "source": [
        "Model_Loss(hist)"
      ],
      "execution_count": null,
      "outputs": [
        {
          "output_type": "error",
          "ename": "NameError",
          "evalue": "ignored",
          "traceback": [
            "\u001b[0;31m---------------------------------------------------------------------------\u001b[0m",
            "\u001b[0;31mNameError\u001b[0m                                 Traceback (most recent call last)",
            "\u001b[0;32m<ipython-input-88-8a9781df17aa>\u001b[0m in \u001b[0;36m<module>\u001b[0;34m()\u001b[0m\n\u001b[0;32m----> 1\u001b[0;31m \u001b[0mModel_Loss\u001b[0m\u001b[0;34m(\u001b[0m\u001b[0mhist\u001b[0m\u001b[0;34m)\u001b[0m\u001b[0;34m\u001b[0m\u001b[0;34m\u001b[0m\u001b[0m\n\u001b[0m",
            "\u001b[0;31mNameError\u001b[0m: name 'Model_Loss' is not defined"
          ]
        }
      ]
    },
    {
      "cell_type": "markdown",
      "metadata": {
        "id": "J1sL_DTrKmpq"
      },
      "source": [
        "### 7. Avaliar a performance da Rede Neural\n",
        "\n",
        "Para avaliar a a Rede Neural, simplesmente informamos as amostras de teste: X_teste e y_teste. A função evaluate() vai retornar uma lista contendo 2 valores: loss e accuracy."
      ]
    },
    {
      "cell_type": "markdown",
      "metadata": {
        "id": "VckQfEFPvMa7"
      },
      "source": [
        "[**Python**] - Comando modelo.evaluate(X_teste, y_teste)"
      ]
    },
    {
      "cell_type": "code",
      "metadata": {
        "id": "rUhEiqxfKmpv",
        "outputId": "44cbf0bf-5924-4f3d-bfba-69834d2f2aa6",
        "colab": {
          "base_uri": "https://localhost:8080/"
        }
      },
      "source": [
        "RN.evaluate(X_teste, y_teste)"
      ],
      "execution_count": 296,
      "outputs": [
        {
          "output_type": "stream",
          "text": [
            "52/52 [==============================] - 0s 1ms/step - loss: 0.1680 - binary_accuracy: 0.7650\n"
          ],
          "name": "stdout"
        },
        {
          "output_type": "execute_result",
          "data": {
            "text/plain": [
              "[0.16795071959495544, 0.764954686164856]"
            ]
          },
          "metadata": {
            "tags": []
          },
          "execution_count": 296
        }
      ]
    },
    {
      "cell_type": "code",
      "metadata": {
        "id": "SB3jYewpdYUQ"
      },
      "source": [
        "#hist2 = RN.fit(df_X, df_y, epochs = 200, callbacks = callbacks)"
      ],
      "execution_count": 46,
      "outputs": []
    },
    {
      "cell_type": "code",
      "metadata": {
        "id": "xiM_zEX6epou",
        "outputId": "c8e6e4d2-8f33-41a2-ef87-6501890212ba",
        "colab": {
          "base_uri": "https://localhost:8080/"
        }
      },
      "source": [
        "RN.evaluate(df_X, df_y)"
      ],
      "execution_count": 297,
      "outputs": [
        {
          "output_type": "stream",
          "text": [
            "345/345 [==============================] - 0s 1ms/step - loss: 0.1286 - binary_accuracy: 0.8189\n"
          ],
          "name": "stdout"
        },
        {
          "output_type": "execute_result",
          "data": {
            "text/plain": [
              "[0.12855608761310577, 0.8189069032669067]"
            ]
          },
          "metadata": {
            "tags": []
          },
          "execution_count": 297
        }
      ]
    },
    {
      "cell_type": "code",
      "metadata": {
        "id": "w5YwW5PCud3o",
        "outputId": "e7ae8b8c-50e6-433a-a3ec-4e2e2b14843f",
        "colab": {
          "base_uri": "https://localhost:8080/"
        }
      },
      "source": [
        "RN.evaluate(X_treinamento, y_treinamento)"
      ],
      "execution_count": 298,
      "outputs": [
        {
          "output_type": "stream",
          "text": [
            "294/294 [==============================] - 0s 1ms/step - loss: 0.1216 - binary_accuracy: 0.8284\n"
          ],
          "name": "stdout"
        },
        {
          "output_type": "execute_result",
          "data": {
            "text/plain": [
              "[0.12160388380289078, 0.8284282088279724]"
            ]
          },
          "metadata": {
            "tags": []
          },
          "execution_count": 298
        }
      ]
    },
    {
      "cell_type": "markdown",
      "metadata": {
        "id": "agO4cGTqKmpz"
      },
      "source": [
        "A seguir, a matriz de confusão:"
      ]
    },
    {
      "cell_type": "code",
      "metadata": {
        "id": "KdiMhkVyaCDS"
      },
      "source": [
        "def Mostra_ConfusionMatrix():\n",
        "    y_pred = RN.predict_classes(df_X)\n",
        "    mc = confusion_matrix(df_y, y_pred)\n",
        "    #sns.heatmap(mc,annot=True, annot_kws={\"size\": 10},fmt=\"d\")\n",
        "    sns.heatmap(mc/np.sum(mc), annot=True, annot_kws={\"size\": 10}, fmt='.2%', cmap='Blues')"
      ],
      "execution_count": null,
      "outputs": []
    },
    {
      "cell_type": "code",
      "metadata": {
        "id": "aLIAXu7SN7pV",
        "outputId": "0cda548c-10c6-416d-f896-d4ab9bafc416",
        "colab": {
          "base_uri": "https://localhost:8080/",
          "height": 336
        }
      },
      "source": [
        "Mostra_ConfusionMatrix()"
      ],
      "execution_count": null,
      "outputs": [
        {
          "output_type": "stream",
          "text": [
            "WARNING:tensorflow:From <ipython-input-190-55a3bb500d9c>:2: Sequential.predict_classes (from tensorflow.python.keras.engine.sequential) is deprecated and will be removed after 2021-01-01.\n",
            "Instructions for updating:\n",
            "Please use instead:* `np.argmax(model.predict(x), axis=-1)`,   if your model does multi-class classification   (e.g. if it uses a `softmax` last-layer activation).* `(model.predict(x) > 0.5).astype(\"int32\")`,   if your model does binary classification   (e.g. if it uses a `sigmoid` last-layer activation).\n"
          ],
          "name": "stdout"
        },
        {
          "output_type": "display_data",
          "data": {
            "image/png": "[encoded data removed]",
            "text/plain": [
              "<Figure size 432x288 with 2 Axes>"
            ]
          },
          "metadata": {
            "tags": [],
            "needs_background": "light"
          }
        }
      ]
    },
    {
      "cell_type": "markdown",
      "metadata": {
        "id": "D5zYHcGuMPZe"
      },
      "source": [
        "### 8. _Fine tuning_ da Rede Neural\n",
        "\n",
        "Para aumentar a acurácia da Rede Neural, sugiro aumentarmos o número de neurônios na _Hidden Layer_ e/ou aumentar o número de _Hidden Layers_.\n",
        "\n",
        "No entanto, obtivemos uma acurácia razoável com a Rede Neural _baseline_. Portanto, deixo como exercício para os alunos o desafio de melhorar a acurácia desta Rede Neural."
      ]
    },
    {
      "cell_type": "markdown",
      "metadata": {
        "id": "_ISodOu-Kmp3"
      },
      "source": [
        "### 9. Fazer Predições com a Rede Neural"
      ]
    },
    {
      "cell_type": "markdown",
      "metadata": {
        "id": "_xgdL1W4vUrN"
      },
      "source": [
        "[**Python**] - Comando:\n",
        "* RN.predict_classes(X_treinamento);\n",
        "* RN.predict_classes(X_teste)."
      ]
    },
    {
      "cell_type": "code",
      "metadata": {
        "id": "kqy2rt3YfPiy"
      },
      "source": [
        "y_test = RN.predict_classes(X_test)\n",
        "\n",
        "df_submit = pd.concat([df_test['id'],pd.DataFrame(y_test,columns=['target']).astype('boolean')],axis=1)\n",
        "\n",
        "df_submit.to_csv('/PyLadies_NL_10.csv',index = False, sep = ',')"
      ],
      "execution_count": 314,
      "outputs": []
    },
    {
      "cell_type": "code",
      "metadata": {
        "id": "_C_u02mygKgt"
      },
      "source": [
        ""
      ],
      "execution_count": 307,
      "outputs": []
    },
    {
      "cell_type": "code",
      "metadata": {
        "id": "JU_6XlFRgPL2",
        "outputId": "6a28d007-b30f-4722-e81f-569741789ac8",
        "colab": {
          "base_uri": "https://localhost:8080/"
        }
      },
      "source": [
        "df_submit['target'].value_counts()"
      ],
      "execution_count": 315,
      "outputs": [
        {
          "output_type": "execute_result",
          "data": {
            "text/plain": [
              "False    869\n",
              "True     131\n",
              "Name: target, dtype: Int64"
            ]
          },
          "metadata": {
            "tags": []
          },
          "execution_count": 315
        }
      ]
    },
    {
      "cell_type": "markdown",
      "metadata": {
        "id": "AvywP0nZMtA-"
      },
      "source": [
        "### 10. Conclusões\n",
        "\n",
        "Desenvolvemos uma Rede Neural capaz de identificar Sexo (_Gender_) com acurácia= 0.9120."
      ]
    },
    {
      "cell_type": "code",
      "metadata": {
        "id": "YL2g2pn-RfJi"
      },
      "source": [
        ""
      ],
      "execution_count": 300,
      "outputs": []
    },
    {
      "cell_type": "markdown",
      "metadata": {
        "id": "NpufntZjyH8T"
      },
      "source": [
        "### Salvar a Rede Neural"
      ]
    },
    {
      "cell_type": "code",
      "metadata": {
        "id": "ZKqn0leTyLOy"
      },
      "source": [
        "# Save the weights\n",
        "RN.save('/RN_10.h5')"
      ],
      "execution_count": 316,
      "outputs": []
    },
    {
      "cell_type": "code",
      "metadata": {
        "id": "viORp6XjrC66"
      },
      "source": [
        ""
      ],
      "execution_count": null,
      "outputs": []
    }
  ]
}