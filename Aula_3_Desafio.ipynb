{
  "nbformat": 4,
  "nbformat_minor": 0,
  "metadata": {
    "colab": {
      "name": "Untitled0.ipynb",
      "provenance": [],
      "authorship_tag": "ABX9TyP+Fus/nfjVsqABrWmjTObe",
      "include_colab_link": true
    },
    "kernelspec": {
      "name": "python3",
      "display_name": "Python 3"
    }
  },
  "cells": [
    {
      "cell_type": "markdown",
      "metadata": {
        "id": "view-in-github",
        "colab_type": "text"
      },
      "source": [
        "<a href=\"https://colab.research.google.com/github/flavianacif/DSWP/blob/master/Aula_3_Desafio.ipynb\" target=\"_parent\"><img src=\"https://colab.research.google.com/assets/colab-badge.svg\" alt=\"Open In Colab\"/></a>"
      ]
    },
    {
      "cell_type": "markdown",
      "metadata": {
        "id": "ypql2UQu7n5Q"
      },
      "source": [
        "### Cálculo"
      ]
    },
    {
      "cell_type": "code",
      "metadata": {
        "id": "nmiuC96I2Ked",
        "outputId": "1a77eb80-070e-48c2-a8c1-c5e05cd0ad5c",
        "colab": {
          "base_uri": "https://localhost:8080/",
          "height": 337
        }
      },
      "source": [
        "import numpy as np\n",
        "import seaborn as sns\n",
        "\n",
        "np.random.seed(20111974)\n",
        "f_media = 1045\n",
        "f_desvio = 100\n",
        "f_tamanho = 1000\n",
        "a_salarios = np.random.normal(f_media,f_desvio,f_tamanho)\n",
        "print(f'Média: {np.mean(a_salarios)} Desvio Padrão: {np.std(a_salarios)} Mediana: {np.median(a_salarios)}')\n",
        "f_q1 = np.percentile(a_salarios,25)\n",
        "f_q3 = np.percentile(a_salarios,75)\n",
        "a_outliers = [f_q1 - 1.5 * (f_q3 - f_q1),f_q3 + 1.5 * (f_q3 - f_q1)]\n",
        "print(f'Outliers: {a_outliers}')\n",
        "print(f'Valores Fora dos outliers: {a_salarios[ (a_salarios < a_outliers[0]) | (a_salarios > a_outliers[1]) ]}')\n",
        "print(f'Quantas pessoas > Q3 +1.5 * (Q3 - Q1): {(a_salarios > a_outliers[1]).sum()}')\n",
        "sns.boxplot(y = a_salarios)"
      ],
      "execution_count": null,
      "outputs": [
        {
          "output_type": "stream",
          "text": [
            "Média: 1047.150212238584 Desvio Padrão: 101.18708333868835 Mediana: 1047.631166829137\n",
            "Outliers: [756.7622280249145, 1334.2602938776583]\n",
            "Valores Fora dos outliers: [ 722.32716916  725.77372739 1360.08705519 1389.10564233]\n",
            "Quantas pessoas > Q3 +1.5 * (Q3 - Q1): 2\n"
          ],
          "name": "stdout"
        },
        {
          "output_type": "execute_result",
          "data": {
            "text/plain": [
              "<matplotlib.axes._subplots.AxesSubplot at 0x7fa4b0e200f0>"
            ]
          },
          "metadata": {
            "tags": []
          },
          "execution_count": 11
        },
        {
          "output_type": "display_data",
          "data": {
            "image/png": "[encoded data removed]",
            "text/plain": [
              "<Figure size 432x288 with 1 Axes>"
            ]
          },
          "metadata": {
            "tags": [],
            "needs_background": "light"
          }
        }
      ]
    },
    {
      "cell_type": "markdown",
      "metadata": {
        "id": "CJ-r-aT07UhT"
      },
      "source": [
        "### Fazendo alteração dos outliers"
      ]
    },
    {
      "cell_type": "code",
      "metadata": {
        "id": "ltR9UH3k7YGC"
      },
      "source": [
        "a_salarios_2 = a_salarios.copy()\n",
        "for i_indice in range(f_tamanho):\n",
        "  if a_salarios_2[i_indice] < f_q1 - 1.5 * (f_q3 - f_q1):\n",
        "    a_salarios_2[i_indice] = f_q1 - 1.5 * (f_q3 - f_q1)\n",
        "  elif a_salarios_2[i_indice] > (f_q3 + 1.5 * (f_q3 - f_q1)):\n",
        "    a_salarios_2[i_indice] = f_q3 + 1.5 * (f_q3 - f_q1)"
      ],
      "execution_count": null,
      "outputs": []
    },
    {
      "cell_type": "code",
      "metadata": {
        "id": "ZObpnn-k4LIi",
        "outputId": "11a24405-035f-463a-e45f-c026648065aa",
        "colab": {
          "base_uri": "https://localhost:8080/",
          "height": 337
        }
      },
      "source": [
        "print(f'Média: {np.mean(a_salarios_2)} Desvio Padrão: {np.std(a_salarios_2)} Mediana: {np.median(a_salarios_2)}')\n",
        "f_q1 = np.percentile(a_salarios_2,25)\n",
        "f_q3 = np.percentile(a_salarios_2,75)\n",
        "a_outliers = [f_q1 - 1.5 * (f_q3 - f_q1),f_q3 + 1.5 * (f_q3 - f_q1)]\n",
        "print(f'Outliers: {a_outliers}')\n",
        "print(f'Valores Fora dos outliers: {a_salarios_2[ (a_salarios_2 < a_outliers[0]) | (a_salarios_2 > a_outliers[1]) ]}')\n",
        "print(f'Quantas pessoas > Q3 +1.5 * (Q3 - Q1): {(a_salarios_2 > a_outliers[1]).sum()}')\n",
        "sns.boxplot(y = a_salarios_2)"
      ],
      "execution_count": 13,
      "outputs": [
        {
          "output_type": "stream",
          "text": [
            "Média: 1047.1349636883212 Desvio Padrão: 100.74067959174995 Mediana: 1047.631166829137\n",
            "Outliers: [756.7622280249145, 1334.2602938776583]\n",
            "Valores Fora dos outliers: []\n",
            "Quantas pessoas > Q3 +1.5 * (Q3 - Q1): 0\n"
          ],
          "name": "stdout"
        },
        {
          "output_type": "execute_result",
          "data": {
            "text/plain": [
              "<matplotlib.axes._subplots.AxesSubplot at 0x7fa4b0dd2940>"
            ]
          },
          "metadata": {
            "tags": []
          },
          "execution_count": 13
        },
        {
          "output_type": "display_data",
          "data": {
            "image/png": "[encoded data removed]",
            "text/plain": [
              "<Figure size 432x288 with 1 Axes>"
            ]
          },
          "metadata": {
            "tags": [],
            "needs_background": "light"
          }
        }
      ]
    },
    {
      "cell_type": "code",
      "metadata": {
        "id": "tbzoLC784Q5S"
      },
      "source": [
        ""
      ],
      "execution_count": null,
      "outputs": []
    }
  ]
}