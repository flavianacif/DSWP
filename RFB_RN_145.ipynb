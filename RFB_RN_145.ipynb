{
  "nbformat": 4,
  "nbformat_minor": 0,
  "metadata": {
    "colab": {
      "name": "Untitled5.ipynb",
      "provenance": [],
      "authorship_tag": "ABX9TyNW5EWTUE2jG6T3dTSMlSlN",
      "include_colab_link": true
    },
    "kernelspec": {
      "name": "python3",
      "display_name": "Python 3"
    }
  },
  "cells": [
    {
      "cell_type": "markdown",
      "metadata": {
        "id": "view-in-github",
        "colab_type": "text"
      },
      "source": [
        "<a href=\"https://colab.research.google.com/github/flavianacif/DSWP/blob/master/RFB_RN_145.ipynb\" target=\"_parent\"><img src=\"https://colab.research.google.com/assets/colab-badge.svg\" alt=\"Open In Colab\"/></a>"
      ]
    },
    {
      "cell_type": "code",
      "metadata": {
        "id": "j0_YZ6IURZE_"
      },
      "source": [
        "\n",
        "import tensorflow as tf\n",
        "import numpy as np\n",
        "import pandas as pd\n",
        "import matplotlib.pyplot as plt\n",
        "import seaborn as sns\n",
        "from sklearn.metrics import confusion_matrix\n",
        "import tensorflow_addons as tfa\n",
        "from tensorflow import keras\n",
        "from sklearn.metrics import accuracy_score, f1_score, precision_score, recall_score, classification_report, confusion_matrix\n",
        "from collections import Counter\n",
        "from imblearn.over_sampling import SMOTE\n"
      ],
      "execution_count": 199,
      "outputs": []
    },
    {
      "cell_type": "markdown",
      "metadata": {
        "id": "9ZX00UN5cjvM"
      },
      "source": [
        "[**Python**] - Verificar a versão do Tensorflow\n",
        "> Assegurar que está a utilizar a versão 2.x."
      ]
    },
    {
      "cell_type": "code",
      "metadata": {
        "id": "THWNIk_FCe_g",
        "colab": {
          "base_uri": "https://localhost:8080/",
          "height": 35
        },
        "outputId": "6d8095fb-356a-4570-b6d8-607fed1fe413"
      },
      "source": [
        "tf.__version__"
      ],
      "execution_count": 200,
      "outputs": [
        {
          "output_type": "execute_result",
          "data": {
            "application/vnd.google.colaboratory.intrinsic+json": {
              "type": "string"
            },
            "text/plain": [
              "'2.3.0'"
            ]
          },
          "metadata": {
            "tags": []
          },
          "execution_count": 200
        }
      ]
    },
    {
      "cell_type": "markdown",
      "metadata": {
        "id": "PZgQAKqLcLX3"
      },
      "source": [
        "[**Python**] - Definir o número de casas decimais"
      ]
    },
    {
      "cell_type": "code",
      "metadata": {
        "id": "tzKor02BCe_d"
      },
      "source": [
        "np.set_printoptions(precision= 3)"
      ],
      "execution_count": 201,
      "outputs": []
    },
    {
      "cell_type": "markdown",
      "metadata": {
        "id": "M5V4KopjLWOL"
      },
      "source": [
        "### 1. Carregar os dados"
      ]
    },
    {
      "cell_type": "markdown",
      "metadata": {
        "id": "V_cwAUW3tseE"
      },
      "source": [
        "[**Python**] - Carregar os dados:"
      ]
    },
    {
      "cell_type": "code",
      "metadata": {
        "id": "_Bs87IWPtwtm"
      },
      "source": [
        "# Leitura do dataframe:\n",
        "df = pd.read_csv('/total_10.csv')"
      ],
      "execution_count": 202,
      "outputs": []
    },
    {
      "cell_type": "code",
      "metadata": {
        "id": "myhgteQhdqVi"
      },
      "source": [
        "df_total = df.copy()"
      ],
      "execution_count": 441,
      "outputs": []
    },
    {
      "cell_type": "code",
      "metadata": {
        "id": "0MfQNbWvfUkK"
      },
      "source": [
        "df_total.set_index('id', inplace=True)"
      ],
      "execution_count": 442,
      "outputs": []
    },
    {
      "cell_type": "code",
      "metadata": {
        "colab": {
          "base_uri": "https://localhost:8080/"
        },
        "id": "6730Oq3j-4w8",
        "outputId": "626fada8-7819-4b46-aad5-d0cd3e4f278d"
      },
      "source": [
        "df_total.columns"
      ],
      "execution_count": 443,
      "outputs": [
        {
          "output_type": "execute_result",
          "data": {
            "text/plain": [
              "Index(['cnae2', 'rf2', 'md1', 'md2', 'md3', 'md4', 'md5', 'md6', 'md7', 'md8',\n",
              "       'md9', 'md10', 'md11', 'md12', 'mc1', 'mc2', 'mc3', 'mc4', 'ind01',\n",
              "       'ind02', 'ind03', 'ind04', 'ind05', 'ind06', 'ind07', 'ind08', 'ind09',\n",
              "       'ind10', 'ind11', 'ind12', 'ind13', 'ind14', 'ind15', 'ind16', 'ind17',\n",
              "       'ind18', 'ind19', 'ind20', 'ind21', 'ind22', 'ind23', 'ind24', 'ind25',\n",
              "       'ind26', 'ind27', 'ind28', 'ind29', 'ind30', 'ind31', 'ind32', 'ind33',\n",
              "       'ind34', 'ind35', 'ind36', 'ind37', 'ind38', 'ind39', 'ind40', 'ind41',\n",
              "       'ind42', 'ind43', 'target', 'cnae_secao', 'ind_g1_mv', 'ind_g1',\n",
              "       'ind_g2_mv', 'ind_g2', 'mc_g1_mv', 'mc_g1', 'md1_o', 'md2_o', 'md3_o',\n",
              "       'md4_o', 'md5_o', 'md7_o', 'md8_o', 'md9_o', 'md10_o', 'md12_o',\n",
              "       'mc1_o', 'mc3_o', 'mc4_o'],\n",
              "      dtype='object')"
            ]
          },
          "metadata": {
            "tags": []
          },
          "execution_count": 443
        }
      ]
    },
    {
      "cell_type": "markdown",
      "metadata": {
        "id": "6LXKr9-R_JIK"
      },
      "source": [
        "Retirando algumas colunas para testar"
      ]
    },
    {
      "cell_type": "code",
      "metadata": {
        "id": "aVnISOiD-xRk"
      },
      "source": [
        "df_total.drop(columns = ['rf2','cnae2','md1', 'md2', 'md3', 'md4', 'md5', 'md6', 'md7', 'md8',\n",
        "       'md9', 'md10', 'md11', 'md12', 'mc1', 'mc2', 'mc3', 'mc4','mc_g1','ind_g1',\n",
        "       'ind_g2','ind29', 'ind30','ind33', 'ind38', 'ind40', 'ind41','ind11','ind10','ind16'], inplace = True)"
      ],
      "execution_count": 444,
      "outputs": []
    },
    {
      "cell_type": "code",
      "metadata": {
        "colab": {
          "base_uri": "https://localhost:8080/"
        },
        "id": "IHt2y_5IHtRH",
        "outputId": "433d5baf-55ac-40c9-db07-7905b4dda1a1"
      },
      "source": [
        "df_total.columns"
      ],
      "execution_count": 445,
      "outputs": [
        {
          "output_type": "execute_result",
          "data": {
            "text/plain": [
              "Index(['ind01', 'ind02', 'ind03', 'ind04', 'ind05', 'ind06', 'ind07', 'ind08',\n",
              "       'ind09', 'ind12', 'ind13', 'ind14', 'ind15', 'ind17', 'ind18', 'ind19',\n",
              "       'ind20', 'ind21', 'ind22', 'ind23', 'ind24', 'ind25', 'ind26', 'ind27',\n",
              "       'ind28', 'ind31', 'ind32', 'ind34', 'ind35', 'ind36', 'ind37', 'ind39',\n",
              "       'ind42', 'ind43', 'target', 'cnae_secao', 'ind_g1_mv', 'ind_g2_mv',\n",
              "       'mc_g1_mv', 'md1_o', 'md2_o', 'md3_o', 'md4_o', 'md5_o', 'md7_o',\n",
              "       'md8_o', 'md9_o', 'md10_o', 'md12_o', 'mc1_o', 'mc3_o', 'mc4_o'],\n",
              "      dtype='object')"
            ]
          },
          "metadata": {
            "tags": []
          },
          "execution_count": 445
        }
      ]
    },
    {
      "cell_type": "markdown",
      "metadata": {
        "id": "e_0lkPsR_mFp"
      },
      "source": [
        "GET DUMMIES"
      ]
    },
    {
      "cell_type": "code",
      "metadata": {
        "id": "moTlPrJk5b0T"
      },
      "source": [
        "#df_total['cnae2'] = df_total['cnae2'].astype('category')\n",
        "#df_total[['ind28', 'ind31', 'ind32', 'ind34', 'ind35', 'ind36', 'ind37', 'ind39', 'ind42', 'ind43']] = df_total[['ind28', 'ind31', 'ind32', 'ind34', 'ind35', 'ind36', 'ind37', 'ind39', 'ind42', 'ind43']].astype('category')\n",
        "#df_total[['ind28', 'ind43']] = df_total[['ind28', 'ind43']].astype('category')"
      ],
      "execution_count": 446,
      "outputs": []
    },
    {
      "cell_type": "code",
      "metadata": {
        "id": "rN72uIGk_jMI"
      },
      "source": [
        "df_total = pd.get_dummies(df_total)"
      ],
      "execution_count": 447,
      "outputs": []
    },
    {
      "cell_type": "code",
      "metadata": {
        "id": "9gYa3Hy6lrZi"
      },
      "source": [
        "X_treino = df_total[df_total['target']!= 2]"
      ],
      "execution_count": 448,
      "outputs": []
    },
    {
      "cell_type": "code",
      "metadata": {
        "id": "KeckOXBrR_X6"
      },
      "source": [
        "df_X = X_treino.copy()"
      ],
      "execution_count": 449,
      "outputs": []
    },
    {
      "cell_type": "code",
      "metadata": {
        "id": "Q5tB1ey7eAe4"
      },
      "source": [
        "df_y = df_X['target']\n",
        "df_X = df_X.drop(columns= ['target'])"
      ],
      "execution_count": 450,
      "outputs": []
    },
    {
      "cell_type": "code",
      "metadata": {
        "id": "i8_BlpeteJow"
      },
      "source": [
        "X_test = df_total[df_total['target']== 2].drop(columns= ['target'])"
      ],
      "execution_count": 451,
      "outputs": []
    },
    {
      "cell_type": "code",
      "metadata": {
        "colab": {
          "base_uri": "https://localhost:8080/"
        },
        "id": "ZKOA1SHr0oYy",
        "outputId": "31f83f21-c506-4e3e-b3e1-5fd07c88e5fa"
      },
      "source": [
        "X_treino.columns"
      ],
      "execution_count": 452,
      "outputs": [
        {
          "output_type": "execute_result",
          "data": {
            "text/plain": [
              "Index(['ind01', 'ind02', 'ind03', 'ind04', 'ind05', 'ind06', 'ind07', 'ind08',\n",
              "       'ind09', 'ind12', 'ind13', 'ind14', 'ind15', 'ind17', 'ind18', 'ind19',\n",
              "       'ind20', 'ind21', 'ind22', 'ind23', 'ind24', 'ind25', 'ind26', 'ind27',\n",
              "       'ind28', 'ind31', 'ind32', 'ind34', 'ind35', 'ind36', 'ind37', 'ind39',\n",
              "       'ind42', 'ind43', 'target', 'ind_g1_mv', 'ind_g2_mv', 'mc_g1_mv',\n",
              "       'md1_o', 'md2_o', 'md3_o', 'md4_o', 'md5_o', 'md7_o', 'md8_o', 'md9_o',\n",
              "       'md10_o', 'md12_o', 'mc1_o', 'mc3_o', 'mc4_o', 'cnae_secao_0',\n",
              "       'cnae_secao_A', 'cnae_secao_B', 'cnae_secao_C', 'cnae_secao_D',\n",
              "       'cnae_secao_E', 'cnae_secao_F', 'cnae_secao_G', 'cnae_secao_H',\n",
              "       'cnae_secao_I', 'cnae_secao_J', 'cnae_secao_K', 'cnae_secao_L',\n",
              "       'cnae_secao_M', 'cnae_secao_N', 'cnae_secao_P', 'cnae_secao_Q',\n",
              "       'cnae_secao_R', 'cnae_secao_S'],\n",
              "      dtype='object')"
            ]
          },
          "metadata": {
            "tags": []
          },
          "execution_count": 452
        }
      ]
    },
    {
      "cell_type": "markdown",
      "metadata": {
        "id": "qzWrM6VCSEoQ"
      },
      "source": [
        "Tratando o Balanceamento da Amostra"
      ]
    },
    {
      "cell_type": "code",
      "metadata": {
        "colab": {
          "base_uri": "https://localhost:8080/"
        },
        "id": "28lRhxtgRwEa",
        "outputId": "e1f5f2e3-ed18-4707-caa3-52e066dd0a3f"
      },
      "source": [
        "qtd = Counter(X_treino['target'])\n",
        "qtd"
      ],
      "execution_count": 453,
      "outputs": [
        {
          "output_type": "execute_result",
          "data": {
            "text/plain": [
              "Counter({0: 8513, 1: 2520})"
            ]
          },
          "metadata": {
            "tags": []
          },
          "execution_count": 453
        }
      ]
    },
    {
      "cell_type": "code",
      "metadata": {
        "id": "0AZCDYSOSHLx"
      },
      "source": [
        "from imblearn.under_sampling import RandomUnderSampler\n",
        "from imblearn.pipeline import Pipeline"
      ],
      "execution_count": 454,
      "outputs": []
    },
    {
      "cell_type": "code",
      "metadata": {
        "id": "Z1FhuODySLSS"
      },
      "source": [
        "over = SMOTE(sampling_strategy = 0.5) # Reamostrar a classe minoritária para ter 10% da classe majoritária\n",
        "under = RandomUnderSampler(sampling_strategy = 0.85) # Seleciona a classe majoritária para ter 50%\n",
        "steps = [('over', over), ('under', under)]\n",
        "pipeline = Pipeline(steps = steps)"
      ],
      "execution_count": 455,
      "outputs": []
    },
    {
      "cell_type": "code",
      "metadata": {
        "colab": {
          "base_uri": "https://localhost:8080/"
        },
        "id": "dwkQt9AFSNLL",
        "outputId": "eb86e429-a352-4830-e6f4-611175037d2e"
      },
      "source": [
        "X, y = pipeline.fit_resample(df_X, df_y)"
      ],
      "execution_count": 456,
      "outputs": [
        {
          "output_type": "stream",
          "text": [
            "/usr/local/lib/python3.6/dist-packages/sklearn/utils/deprecation.py:87: FutureWarning: Function safe_indexing is deprecated; safe_indexing is deprecated in version 0.22 and will be removed in version 0.24.\n",
            "  warnings.warn(msg, category=FutureWarning)\n",
            "/usr/local/lib/python3.6/dist-packages/sklearn/utils/deprecation.py:87: FutureWarning: Function safe_indexing is deprecated; safe_indexing is deprecated in version 0.22 and will be removed in version 0.24.\n",
            "  warnings.warn(msg, category=FutureWarning)\n"
          ],
          "name": "stderr"
        }
      ]
    },
    {
      "cell_type": "markdown",
      "metadata": {
        "id": "m22vN2YrSWOr"
      },
      "source": [
        "ANTES/DEPOIS:"
      ]
    },
    {
      "cell_type": "code",
      "metadata": {
        "colab": {
          "base_uri": "https://localhost:8080/"
        },
        "id": "oLiFXdkqSVNz",
        "outputId": "83424384-5736-4d96-daeb-db93a08542e6"
      },
      "source": [
        "print(Counter(df_y),Counter(y))"
      ],
      "execution_count": 457,
      "outputs": [
        {
          "output_type": "stream",
          "text": [
            "Counter({0: 8513, 1: 2520}) Counter({0: 5007, 1: 4256})\n"
          ],
          "name": "stdout"
        }
      ]
    },
    {
      "cell_type": "markdown",
      "metadata": {
        "id": "jJaJWuUqJCha"
      },
      "source": [
        "### 3. Definir as amostras de treinamento e validação"
      ]
    },
    {
      "cell_type": "markdown",
      "metadata": {
        "id": "LoO2iEimu4SQ"
      },
      "source": [
        "[**Python**] - Definir as amostras de treinamento e validação"
      ]
    },
    {
      "cell_type": "code",
      "metadata": {
        "id": "hTCdm-F9JBGA",
        "colab": {
          "base_uri": "https://localhost:8080/"
        },
        "outputId": "eb8958be-bf8e-4562-e7b5-084bbec3a450"
      },
      "source": [
        "from sklearn.model_selection import train_test_split\n",
        "\n",
        "X_treinamento, X_teste, y_treinamento, y_teste= train_test_split(X, y, test_size = 0.1, random_state = 22091980) #20111974)\n",
        "print(f'X: Treinamento=  {X_treinamento.shape}; X: Teste=  {X_teste.shape}')"
      ],
      "execution_count": 458,
      "outputs": [
        {
          "output_type": "stream",
          "text": [
            "X: Treinamento=  (8336, 69); X: Teste=  (927, 69)\n"
          ],
          "name": "stdout"
        }
      ]
    },
    {
      "cell_type": "code",
      "metadata": {
        "id": "th9CsQpB8VDK",
        "colab": {
          "base_uri": "https://localhost:8080/"
        },
        "outputId": "3290d70d-5628-4acb-b4f1-4665ccd3abe7"
      },
      "source": [
        "print(f'Y: Treinamento =  {y_treinamento.shape}; Y: Teste = {y_teste.shape}')"
      ],
      "execution_count": 459,
      "outputs": [
        {
          "output_type": "stream",
          "text": [
            "Y: Treinamento =  (8336,); Y: Teste = (927,)\n"
          ],
          "name": "stdout"
        }
      ]
    },
    {
      "cell_type": "markdown",
      "metadata": {
        "id": "2bL-vXiULupD"
      },
      "source": [
        "### 4. Definir a arquitetura da Rede Neural com _Tensorflow_/_Keras_"
      ]
    },
    {
      "cell_type": "markdown",
      "metadata": {
        "id": "zxETX6dTfyU5"
      },
      "source": [
        "[**Python**] - Definir a arquitetura, ou seja:\n",
        "* $N_{I}$: Número de neurônios na camada de entrada (_Input Layer_);\n",
        "* $N_{O}$: Número de neurônios na camada de saída (_Output Layer_);\n",
        "* $N_{H}$: Número de neurônios na camada escondida (_Hidden Layer_);\n",
        "* FA: Função de ativação;"
      ]
    },
    {
      "cell_type": "code",
      "metadata": {
        "id": "F_MdsLicfyU6"
      },
      "source": [
        "# Número de Neurônios na Input Layer:\n",
        "N_I = 69\n",
        "\n",
        "# Número de neurônios na Output Layer:\n",
        "N_O = 1\n",
        "\n",
        "# Número de neurônios na Hidden Layer:\n",
        "N_H = 400\n",
        "\n",
        "N_H2 = 300\n",
        "\n",
        "N_H3=200\n",
        "\n",
        "N_H4 = 100\n",
        "\n",
        "N_H5 = 50\n",
        "\n",
        "N_H6 = 2\n",
        "\n",
        "\n",
        "\n",
        "# Função de Ativação da Hidden Layer:\n",
        "FA_H = tf.nn.leaky_relu\n",
        "#FA_H = tf.keras.activations.swish\n",
        "\n",
        "# Função de Ativação da Output Layer:\n",
        "FA_O = tf.keras.activations.sigmoid\n",
        "#FA_O = tf.keras.activations.softmax\n",
        "\n",
        "\n"
      ],
      "execution_count": 460,
      "outputs": []
    },
    {
      "cell_type": "markdown",
      "metadata": {
        "id": "SUMmDuPCcYyB"
      },
      "source": [
        "[**Python**] - Definir as sementes para NumPy e Tensorflow:\n",
        "> Por questões de reproducibilidade de resultados, use as sementes abaixo:\n",
        "\n",
        "* NumPy: 20111974;\n",
        "* Tensorflow: 20111974;"
      ]
    },
    {
      "cell_type": "code",
      "metadata": {
        "id": "T-echOBmceVy"
      },
      "source": [
        "np.random.seed(19800922)\n",
        "tf.random.set_seed(22091980)"
      ],
      "execution_count": 461,
      "outputs": []
    },
    {
      "cell_type": "markdown",
      "metadata": {
        "id": "7ZceRRdinEM2"
      },
      "source": [
        "\n",
        "[**Python**] - Definir a Rede Neural:"
      ]
    },
    {
      "cell_type": "markdown",
      "metadata": {
        "id": "nXQsSYq2DBfI"
      },
      "source": [
        "\n",
        "\n",
        "\n",
        "\n",
        "* 1 camada _dropout_ com $p= 0.1$:"
      ]
    },
    {
      "cell_type": "code",
      "metadata": {
        "id": "TRFR5Kr_nDtD",
        "colab": {
          "base_uri": "https://localhost:8080/"
        },
        "outputId": "43c35e00-2c21-4890-d4f6-4dc67c9baaf1"
      },
      "source": [
        "from tensorflow.keras import Sequential\n",
        "from tensorflow.keras.layers import Dense\n",
        "from tensorflow.keras.layers import Dropout\n",
        "\n",
        "RN= Sequential()\n",
        "RN.add(Dense(N_H, input_dim= N_I, kernel_initializer= tf.keras.initializers.GlorotNormal(), activation= FA_H, kernel_constraint= tf.keras.constraints.UnitNorm()))\n",
        "RN.add(Dropout(0.3))\n",
        "RN.add(Dense(N_H2, kernel_initializer= tf.keras.initializers.GlorotNormal(), activation= FA_H, kernel_constraint= tf.keras.constraints.UnitNorm()))\n",
        "RN.add(Dropout(0.3))\n",
        "RN.add(Dense(N_H3, kernel_initializer= tf.keras.initializers.GlorotNormal(), activation= FA_H, kernel_constraint= tf.keras.constraints.UnitNorm()))\n",
        "RN.add(Dropout(0.3))\n",
        "RN.add(Dense(N_H4, kernel_initializer= tf.keras.initializers.GlorotNormal(), activation= FA_H, kernel_constraint= tf.keras.constraints.UnitNorm()))\n",
        "RN.add(Dropout(0.3))\n",
        "RN.add(Dense(N_H5, kernel_initializer= tf.keras.initializers.GlorotNormal(), activation= FA_H, kernel_constraint= tf.keras.constraints.UnitNorm()))\n",
        "RN.add(Dropout(0.3))\n",
        "RN.add(Dense(N_H6, kernel_initializer= tf.keras.initializers.GlorotNormal(), activation= FA_H, kernel_constraint= tf.keras.constraints.UnitNorm()))\n",
        "RN.add(Dropout(0.3))\n",
        "RN.add(Dense(units= N_O, activation= FA_O))\n",
        "\n",
        "# Resumo da arquitetura da Rede Neural\n",
        "print(RN.summary())"
      ],
      "execution_count": 462,
      "outputs": [
        {
          "output_type": "stream",
          "text": [
            "Model: \"sequential_21\"\n",
            "_________________________________________________________________\n",
            "Layer (type)                 Output Shape              Param #   \n",
            "=================================================================\n",
            "dense_147 (Dense)            (None, 400)               28000     \n",
            "_________________________________________________________________\n",
            "dropout_126 (Dropout)        (None, 400)               0         \n",
            "_________________________________________________________________\n",
            "dense_148 (Dense)            (None, 300)               120300    \n",
            "_________________________________________________________________\n",
            "dropout_127 (Dropout)        (None, 300)               0         \n",
            "_________________________________________________________________\n",
            "dense_149 (Dense)            (None, 200)               60200     \n",
            "_________________________________________________________________\n",
            "dropout_128 (Dropout)        (None, 200)               0         \n",
            "_________________________________________________________________\n",
            "dense_150 (Dense)            (None, 100)               20100     \n",
            "_________________________________________________________________\n",
            "dropout_129 (Dropout)        (None, 100)               0         \n",
            "_________________________________________________________________\n",
            "dense_151 (Dense)            (None, 50)                5050      \n",
            "_________________________________________________________________\n",
            "dropout_130 (Dropout)        (None, 50)                0         \n",
            "_________________________________________________________________\n",
            "dense_152 (Dense)            (None, 2)                 102       \n",
            "_________________________________________________________________\n",
            "dropout_131 (Dropout)        (None, 2)                 0         \n",
            "_________________________________________________________________\n",
            "dense_153 (Dense)            (None, 1)                 3         \n",
            "=================================================================\n",
            "Total params: 233,755\n",
            "Trainable params: 233,755\n",
            "Non-trainable params: 0\n",
            "_________________________________________________________________\n",
            "None\n"
          ],
          "name": "stdout"
        }
      ]
    },
    {
      "cell_type": "markdown",
      "metadata": {
        "id": "4JBZf4ypGO8o"
      },
      "source": [
        "### 5. Compilar a Rede Neural\n",
        "\n",
        "Este é um problema de classificação binária (_Male_ ou _Female_). Portanto, temos:\n",
        "* optimizer= tf.keras.optimizers.Adam();\n",
        "* loss=  tf.keras.losses.MeanSquaredError() ou loss= tf.keras.losses.BinaryCrossentropy(). Particularmente, eu gosto de usar loss=  tf.keras.losses.MeanSquaredError() porque o resultado é mais intuitivo;\n",
        "* metrics= tf.keras.metrics.binary_accuracy."
      ]
    },
    {
      "cell_type": "markdown",
      "metadata": {
        "id": "USmAuw6f00wL"
      },
      "source": [
        "[**Python**] - Comando modelo.compile(optimizer, loss, metrics):"
      ]
    },
    {
      "cell_type": "code",
      "metadata": {
        "id": "h7KEi1_e6SSF"
      },
      "source": [
        "\n",
        "Algoritmo_Opt = tf.keras.optimizers.Adam()\n",
        "#Algoritmo_Opt = tf.keras.optimizers.Adam(learning_rate=0.01, beta_1=0.8, beta_2=0.99, epsilon=1e-07 , amsgrad=True,     name='Adam')\n",
        "#Loss_Function = tf.keras.losses.MeanSquaredError()\n",
        "Loss_Function = tf.keras.losses.BinaryCrossentropy()\n",
        "#Metrics_Perf = tf.keras.metrics.binary_accuracy\n",
        "Metrics_Perf = tfa.metrics.F1Score(1,average='macro',threshold=0.5)\n",
        "RN.compile(optimizer = Algoritmo_Opt, loss = Loss_Function,metrics = Metrics_Perf)\n",
        "#RN.compile( loss = Loss_Function,metrics = Metrics_Perf)"
      ],
      "execution_count": 463,
      "outputs": []
    },
    {
      "cell_type": "markdown",
      "metadata": {
        "id": "Hc90EeV_GojX"
      },
      "source": [
        "### 6. Ajustar a Rede Neural\n",
        "\n",
        "Obs.: A opção callbacks abaixo implementa o conceito de _early stopping_. Esta opção vai parar o processo de treinamento da Rede Neural antes de atingirmos o númerco de _epochs_ quando o modelo pára de melhorar, medido pela métrica val_loss. O parâmetro _patience_= k significa que o processo de otimização vai parar se tivermos k _epochs_ consecutivas sem observarmos melhoria da performance da Rede Neural."
      ]
    },
    {
      "cell_type": "markdown",
      "metadata": {
        "id": "XCCTtUh_vEFP"
      },
      "source": [
        "[**Python**] - Comando modelo.fit(X_treinamento, y_treinamento, epochs)"
      ]
    },
    {
      "cell_type": "code",
      "metadata": {
        "id": "EB91J6nrF0db",
        "colab": {
          "base_uri": "https://localhost:8080/"
        },
        "outputId": "601e7cc6-435b-46c4-8668-f89e727c7e13"
      },
      "source": [
        "callbacks = [tf.keras.callbacks.EarlyStopping(monitor = 'val_f1_score', mode = 'max',patience = 20, min_delta = 0.001)]\n",
        "hist= RN.fit(X_treinamento, y_treinamento, epochs = 100, batch_size = 20,\n",
        "             validation_data = (X_teste, y_teste), callbacks = callbacks)"
      ],
      "execution_count": 464,
      "outputs": [
        {
          "output_type": "stream",
          "text": [
            "Epoch 1/100\n",
            "417/417 [==============================] - 2s 5ms/step - loss: 0.6433 - f1_score: 0.6296 - val_loss: 0.6152 - val_f1_score: 0.6784\n",
            "Epoch 2/100\n",
            "417/417 [==============================] - 2s 5ms/step - loss: 0.6200 - f1_score: 0.6524 - val_loss: 0.6041 - val_f1_score: 0.6653\n",
            "Epoch 3/100\n",
            "417/417 [==============================] - 2s 5ms/step - loss: 0.6160 - f1_score: 0.6372 - val_loss: 0.5968 - val_f1_score: 0.6913\n",
            "Epoch 4/100\n",
            "417/417 [==============================] - 2s 5ms/step - loss: 0.6072 - f1_score: 0.6462 - val_loss: 0.5956 - val_f1_score: 0.6827\n",
            "Epoch 5/100\n",
            "417/417 [==============================] - 2s 5ms/step - loss: 0.6079 - f1_score: 0.6463 - val_loss: 0.5962 - val_f1_score: 0.6881\n",
            "Epoch 6/100\n",
            "417/417 [==============================] - 2s 5ms/step - loss: 0.5964 - f1_score: 0.6496 - val_loss: 0.5908 - val_f1_score: 0.6857\n",
            "Epoch 7/100\n",
            "417/417 [==============================] - 2s 5ms/step - loss: 0.5965 - f1_score: 0.6508 - val_loss: 0.5913 - val_f1_score: 0.6681\n",
            "Epoch 8/100\n",
            "417/417 [==============================] - 2s 5ms/step - loss: 0.5987 - f1_score: 0.6471 - val_loss: 0.5857 - val_f1_score: 0.6696\n",
            "Epoch 9/100\n",
            "417/417 [==============================] - 2s 5ms/step - loss: 0.5868 - f1_score: 0.6604 - val_loss: 0.5993 - val_f1_score: 0.6751\n",
            "Epoch 10/100\n",
            "417/417 [==============================] - 2s 5ms/step - loss: 0.5862 - f1_score: 0.6501 - val_loss: 0.5767 - val_f1_score: 0.6838\n",
            "Epoch 11/100\n",
            "417/417 [==============================] - 2s 5ms/step - loss: 0.5858 - f1_score: 0.6594 - val_loss: 0.5925 - val_f1_score: 0.6412\n",
            "Epoch 12/100\n",
            "417/417 [==============================] - 2s 5ms/step - loss: 0.5796 - f1_score: 0.6640 - val_loss: 0.5787 - val_f1_score: 0.6740\n",
            "Epoch 13/100\n",
            "417/417 [==============================] - 2s 5ms/step - loss: 0.5786 - f1_score: 0.6658 - val_loss: 0.5867 - val_f1_score: 0.6697\n",
            "Epoch 14/100\n",
            "417/417 [==============================] - 2s 6ms/step - loss: 0.5762 - f1_score: 0.6641 - val_loss: 0.5771 - val_f1_score: 0.6380\n",
            "Epoch 15/100\n",
            "417/417 [==============================] - 2s 5ms/step - loss: 0.5724 - f1_score: 0.6696 - val_loss: 0.5815 - val_f1_score: 0.6605\n",
            "Epoch 16/100\n",
            "417/417 [==============================] - 2s 5ms/step - loss: 0.5709 - f1_score: 0.6730 - val_loss: 0.5749 - val_f1_score: 0.6772\n",
            "Epoch 17/100\n",
            "417/417 [==============================] - 2s 6ms/step - loss: 0.5719 - f1_score: 0.6739 - val_loss: 0.5768 - val_f1_score: 0.6629\n",
            "Epoch 18/100\n",
            "417/417 [==============================] - 2s 5ms/step - loss: 0.5673 - f1_score: 0.6746 - val_loss: 0.5842 - val_f1_score: 0.6552\n",
            "Epoch 19/100\n",
            "417/417 [==============================] - 2s 5ms/step - loss: 0.5690 - f1_score: 0.6680 - val_loss: 0.5993 - val_f1_score: 0.7054\n",
            "Epoch 20/100\n",
            "417/417 [==============================] - 2s 6ms/step - loss: 0.5658 - f1_score: 0.6703 - val_loss: 0.5830 - val_f1_score: 0.6459\n",
            "Epoch 21/100\n",
            "417/417 [==============================] - 2s 5ms/step - loss: 0.5622 - f1_score: 0.6749 - val_loss: 0.5791 - val_f1_score: 0.6509\n",
            "Epoch 22/100\n",
            "417/417 [==============================] - 2s 5ms/step - loss: 0.5610 - f1_score: 0.6792 - val_loss: 0.5773 - val_f1_score: 0.7048\n",
            "Epoch 23/100\n",
            "417/417 [==============================] - 2s 6ms/step - loss: 0.5571 - f1_score: 0.6865 - val_loss: 0.5961 - val_f1_score: 0.6799\n",
            "Epoch 24/100\n",
            "417/417 [==============================] - 2s 6ms/step - loss: 0.5535 - f1_score: 0.6887 - val_loss: 0.5828 - val_f1_score: 0.6790\n",
            "Epoch 25/100\n",
            "417/417 [==============================] - 2s 6ms/step - loss: 0.5464 - f1_score: 0.6815 - val_loss: 0.5878 - val_f1_score: 0.6535\n",
            "Epoch 26/100\n",
            "417/417 [==============================] - 2s 5ms/step - loss: 0.5523 - f1_score: 0.6923 - val_loss: 0.5847 - val_f1_score: 0.6803\n",
            "Epoch 27/100\n",
            "417/417 [==============================] - 2s 6ms/step - loss: 0.5440 - f1_score: 0.6932 - val_loss: 0.5862 - val_f1_score: 0.6911\n",
            "Epoch 28/100\n",
            "417/417 [==============================] - 2s 6ms/step - loss: 0.5428 - f1_score: 0.6907 - val_loss: 0.5914 - val_f1_score: 0.6904\n",
            "Epoch 29/100\n",
            "417/417 [==============================] - 2s 5ms/step - loss: 0.5454 - f1_score: 0.6888 - val_loss: 0.6000 - val_f1_score: 0.6212\n",
            "Epoch 30/100\n",
            "417/417 [==============================] - 2s 5ms/step - loss: 0.5461 - f1_score: 0.6868 - val_loss: 0.5743 - val_f1_score: 0.6934\n",
            "Epoch 31/100\n",
            "417/417 [==============================] - 2s 5ms/step - loss: 0.5420 - f1_score: 0.6833 - val_loss: 0.5777 - val_f1_score: 0.7054\n",
            "Epoch 32/100\n",
            "417/417 [==============================] - 2s 6ms/step - loss: 0.5391 - f1_score: 0.6968 - val_loss: 0.5779 - val_f1_score: 0.7069\n",
            "Epoch 33/100\n",
            "417/417 [==============================] - 2s 5ms/step - loss: 0.5463 - f1_score: 0.6943 - val_loss: 0.6058 - val_f1_score: 0.6129\n",
            "Epoch 34/100\n",
            "417/417 [==============================] - 2s 5ms/step - loss: 0.5390 - f1_score: 0.6934 - val_loss: 0.5822 - val_f1_score: 0.6713\n",
            "Epoch 35/100\n",
            "417/417 [==============================] - 2s 5ms/step - loss: 0.5325 - f1_score: 0.6946 - val_loss: 0.5797 - val_f1_score: 0.6999\n",
            "Epoch 36/100\n",
            "417/417 [==============================] - 2s 5ms/step - loss: 0.5316 - f1_score: 0.6971 - val_loss: 0.5769 - val_f1_score: 0.7128\n",
            "Epoch 37/100\n",
            "417/417 [==============================] - 2s 5ms/step - loss: 0.5312 - f1_score: 0.6973 - val_loss: 0.6073 - val_f1_score: 0.7128\n",
            "Epoch 38/100\n",
            "417/417 [==============================] - 2s 5ms/step - loss: 0.5267 - f1_score: 0.7100 - val_loss: 0.5929 - val_f1_score: 0.6629\n",
            "Epoch 39/100\n",
            "417/417 [==============================] - 2s 6ms/step - loss: 0.5258 - f1_score: 0.7014 - val_loss: 0.5852 - val_f1_score: 0.7139\n",
            "Epoch 40/100\n",
            "417/417 [==============================] - 2s 6ms/step - loss: 0.5278 - f1_score: 0.7011 - val_loss: 0.5958 - val_f1_score: 0.6618\n",
            "Epoch 41/100\n",
            "417/417 [==============================] - 2s 5ms/step - loss: 0.5269 - f1_score: 0.7047 - val_loss: 0.5843 - val_f1_score: 0.7146\n",
            "Epoch 42/100\n",
            "417/417 [==============================] - 2s 5ms/step - loss: 0.5259 - f1_score: 0.6980 - val_loss: 0.6227 - val_f1_score: 0.7065\n",
            "Epoch 43/100\n",
            "417/417 [==============================] - 2s 5ms/step - loss: 0.5248 - f1_score: 0.7063 - val_loss: 0.5781 - val_f1_score: 0.7088\n",
            "Epoch 44/100\n",
            "417/417 [==============================] - 2s 5ms/step - loss: 0.5236 - f1_score: 0.7083 - val_loss: 0.6115 - val_f1_score: 0.6854\n",
            "Epoch 45/100\n",
            "417/417 [==============================] - 2s 5ms/step - loss: 0.5225 - f1_score: 0.7040 - val_loss: 0.6075 - val_f1_score: 0.7062\n",
            "Epoch 46/100\n",
            "417/417 [==============================] - 2s 5ms/step - loss: 0.5172 - f1_score: 0.7040 - val_loss: 0.5992 - val_f1_score: 0.6958\n",
            "Epoch 47/100\n",
            "417/417 [==============================] - 2s 5ms/step - loss: 0.5178 - f1_score: 0.7092 - val_loss: 0.5926 - val_f1_score: 0.6923\n",
            "Epoch 48/100\n",
            "417/417 [==============================] - 2s 6ms/step - loss: 0.5192 - f1_score: 0.7032 - val_loss: 0.5703 - val_f1_score: 0.7005\n",
            "Epoch 49/100\n",
            "417/417 [==============================] - 2s 6ms/step - loss: 0.5155 - f1_score: 0.7138 - val_loss: 0.5821 - val_f1_score: 0.6792\n",
            "Epoch 50/100\n",
            "417/417 [==============================] - 2s 5ms/step - loss: 0.5202 - f1_score: 0.7014 - val_loss: 0.5841 - val_f1_score: 0.6674\n",
            "Epoch 51/100\n",
            "417/417 [==============================] - 2s 5ms/step - loss: 0.5141 - f1_score: 0.7052 - val_loss: 0.5739 - val_f1_score: 0.6843\n",
            "Epoch 52/100\n",
            "417/417 [==============================] - 2s 5ms/step - loss: 0.5129 - f1_score: 0.7119 - val_loss: 0.6124 - val_f1_score: 0.6780\n",
            "Epoch 53/100\n",
            "417/417 [==============================] - 2s 5ms/step - loss: 0.5146 - f1_score: 0.7096 - val_loss: 0.5977 - val_f1_score: 0.5857\n",
            "Epoch 54/100\n",
            "417/417 [==============================] - 2s 5ms/step - loss: 0.5143 - f1_score: 0.7094 - val_loss: 0.5891 - val_f1_score: 0.7074\n",
            "Epoch 55/100\n",
            "417/417 [==============================] - 2s 6ms/step - loss: 0.5084 - f1_score: 0.7164 - val_loss: 0.5773 - val_f1_score: 0.6577\n",
            "Epoch 56/100\n",
            "417/417 [==============================] - 2s 6ms/step - loss: 0.5135 - f1_score: 0.7142 - val_loss: 0.6089 - val_f1_score: 0.6543\n",
            "Epoch 57/100\n",
            "417/417 [==============================] - 2s 5ms/step - loss: 0.5121 - f1_score: 0.7046 - val_loss: 0.5948 - val_f1_score: 0.6885\n",
            "Epoch 58/100\n",
            "417/417 [==============================] - 2s 5ms/step - loss: 0.5129 - f1_score: 0.7130 - val_loss: 0.5820 - val_f1_score: 0.6840\n",
            "Epoch 59/100\n",
            "417/417 [==============================] - 2s 5ms/step - loss: 0.5101 - f1_score: 0.7122 - val_loss: 0.5897 - val_f1_score: 0.6971\n"
          ],
          "name": "stdout"
        }
      ]
    },
    {
      "cell_type": "code",
      "metadata": {
        "id": "IE28TqhAWVlz"
      },
      "source": [
        ""
      ],
      "execution_count": 464,
      "outputs": []
    },
    {
      "cell_type": "markdown",
      "metadata": {
        "id": "J1sL_DTrKmpq"
      },
      "source": [
        "### 7. Avaliar a performance da Rede Neural\n",
        "\n",
        "Para avaliar a a Rede Neural, simplesmente informamos as amostras de teste: X_teste e y_teste. A função evaluate() vai retornar uma lista contendo 2 valores: loss e accuracy."
      ]
    },
    {
      "cell_type": "markdown",
      "metadata": {
        "id": "VckQfEFPvMa7"
      },
      "source": [
        "[**Python**] - Comando modelo.evaluate(X_teste, y_teste)"
      ]
    },
    {
      "cell_type": "code",
      "metadata": {
        "id": "veeKG78w4hWh"
      },
      "source": [
        "def Mostra_ConfusionMatrix(X,y):\n",
        "    y_pred = RN.predict_classes(X)\n",
        "    mc = confusion_matrix(y, y_pred)\n",
        "    #sns.heatmap(mc,annot=True, annot_kws={\"size\": 10},fmt=\"d\")\n",
        "    sns.heatmap(mc/np.sum(mc), annot=True, annot_kws={\"size\": 10}, fmt='.2%', cmap='Blues')"
      ],
      "execution_count": null,
      "outputs": []
    },
    {
      "cell_type": "code",
      "metadata": {
        "colab": {
          "base_uri": "https://localhost:8080/"
        },
        "id": "XUJL6Y6A4hWh",
        "outputId": "83b8afd0-4c38-4b4a-8f31-d13ce7245b1f"
      },
      "source": [
        "RN.evaluate(X_teste, y_teste)"
      ],
      "execution_count": 465,
      "outputs": [
        {
          "output_type": "stream",
          "text": [
            "29/29 [==============================] - 0s 1ms/step - loss: 0.5897 - f1_score: 0.6971\n"
          ],
          "name": "stdout"
        },
        {
          "output_type": "execute_result",
          "data": {
            "text/plain": [
              "[0.5897020101547241, 0.6971307992935181]"
            ]
          },
          "metadata": {
            "tags": []
          },
          "execution_count": 465
        }
      ]
    },
    {
      "cell_type": "code",
      "metadata": {
        "colab": {
          "base_uri": "https://localhost:8080/"
        },
        "id": "g3KRG1fN4hWi",
        "outputId": "0adf6d4e-2d7c-41af-e1de-4d5268aab3c1"
      },
      "source": [
        "F1_Test=f1_score(y_teste, RN.predict_classes(X_teste), average=\"macro\")\n",
        "print(f'F1: {F1_Test}')"
      ],
      "execution_count": 466,
      "outputs": [
        {
          "output_type": "stream",
          "text": [
            "F1: 0.6924864951061128\n"
          ],
          "name": "stdout"
        }
      ]
    },
    {
      "cell_type": "code",
      "metadata": {
        "id": "HSC6yxs9VONq",
        "colab": {
          "base_uri": "https://localhost:8080/",
          "height": 266
        },
        "outputId": "c9688fad-3655-4e3e-eab4-22cb14decde4"
      },
      "source": [
        "Mostra_ConfusionMatrix(X_teste, y_teste)"
      ],
      "execution_count": 467,
      "outputs": [
        {
          "output_type": "display_data",
          "data": {
            "image/png": "[encoded data removed]",
            "text/plain": [
              "<Figure size 432x288 with 2 Axes>"
            ]
          },
          "metadata": {
            "tags": [],
            "needs_background": "light"
          }
        }
      ]
    },
    {
      "cell_type": "code",
      "metadata": {
        "colab": {
          "base_uri": "https://localhost:8080/"
        },
        "id": "vdDUMlaT4hWi",
        "outputId": "38441abd-3f8a-498f-8d93-d6524a3b51df"
      },
      "source": [
        "RN.evaluate(df_X, df_y)"
      ],
      "execution_count": 468,
      "outputs": [
        {
          "output_type": "stream",
          "text": [
            "345/345 [==============================] - 1s 2ms/step - loss: 0.5126 - f1_score: 0.5567\n"
          ],
          "name": "stdout"
        },
        {
          "output_type": "execute_result",
          "data": {
            "text/plain": [
              "[0.5125886797904968, 0.5567153692245483]"
            ]
          },
          "metadata": {
            "tags": []
          },
          "execution_count": 468
        }
      ]
    },
    {
      "cell_type": "code",
      "metadata": {
        "colab": {
          "base_uri": "https://localhost:8080/"
        },
        "id": "NbBX0xLW4hWi",
        "outputId": "5ea26c5d-6935-4296-a8cb-f438ba47474d"
      },
      "source": [
        "F1_X=f1_score(df_y, RN.predict_classes(df_X), average=\"macro\")\n",
        "print(f'F1: {F1_X}')"
      ],
      "execution_count": 469,
      "outputs": [
        {
          "output_type": "stream",
          "text": [
            "F1: 0.6713420320812802\n"
          ],
          "name": "stdout"
        }
      ]
    },
    {
      "cell_type": "code",
      "metadata": {
        "id": "uKMi5mUMVWdR",
        "colab": {
          "base_uri": "https://localhost:8080/",
          "height": 265
        },
        "outputId": "be9a38c8-662c-444c-8068-d25ea2c7e8e1"
      },
      "source": [
        "Mostra_ConfusionMatrix(df_X, df_y)"
      ],
      "execution_count": 470,
      "outputs": [
        {
          "output_type": "display_data",
          "data": {
            "image/png": "[encoded data removed]",
            "text/plain": [
              "<Figure size 432x288 with 2 Axes>"
            ]
          },
          "metadata": {
            "tags": [],
            "needs_background": "light"
          }
        }
      ]
    },
    {
      "cell_type": "code",
      "metadata": {
        "colab": {
          "base_uri": "https://localhost:8080/"
        },
        "id": "X1V4oO0R4hWi",
        "outputId": "f9ebde80-038b-407b-9e51-f7c288a0dcc6"
      },
      "source": [
        "RN.evaluate(X_treinamento, y_treinamento)"
      ],
      "execution_count": 471,
      "outputs": [
        {
          "output_type": "stream",
          "text": [
            "261/261 [==============================] - 0s 2ms/step - loss: 0.4472 - f1_score: 0.7822\n"
          ],
          "name": "stdout"
        },
        {
          "output_type": "execute_result",
          "data": {
            "text/plain": [
              "[0.4472459852695465, 0.7821974158287048]"
            ]
          },
          "metadata": {
            "tags": []
          },
          "execution_count": 471
        }
      ]
    },
    {
      "cell_type": "code",
      "metadata": {
        "colab": {
          "base_uri": "https://localhost:8080/"
        },
        "id": "g7cCtosc4hWi",
        "outputId": "c8611544-c7c6-4e74-e6b5-97b1d65ea811"
      },
      "source": [
        "F1_Trein=f1_score(y_treinamento, RN.predict_classes(X_treinamento), average=\"macro\")\n",
        "print(f'F1: {F1_Trein}')"
      ],
      "execution_count": 472,
      "outputs": [
        {
          "output_type": "stream",
          "text": [
            "F1: 0.7845238272745176\n"
          ],
          "name": "stdout"
        }
      ]
    },
    {
      "cell_type": "code",
      "metadata": {
        "colab": {
          "base_uri": "https://localhost:8080/",
          "height": 265
        },
        "id": "N89YhXgS4hWj",
        "outputId": "6a4f3046-ac21-4501-ffcd-1f735d21f76d"
      },
      "source": [
        "Mostra_ConfusionMatrix(X_treinamento, y_treinamento)"
      ],
      "execution_count": 473,
      "outputs": [
        {
          "output_type": "display_data",
          "data": {
            "image/png": "[encoded data removed]",
            "text/plain": [
              "<Figure size 432x288 with 2 Axes>"
            ]
          },
          "metadata": {
            "tags": [],
            "needs_background": "light"
          }
        }
      ]
    },
    {
      "cell_type": "markdown",
      "metadata": {
        "id": "D5zYHcGuMPZe"
      },
      "source": [
        "### 8. _Fine tuning_ da Rede Neural\n",
        "\n",
        "Para aumentar a acurácia da Rede Neural, sugiro aumentarmos o número de neurônios na _Hidden Layer_ e/ou aumentar o número de _Hidden Layers_.\n",
        "\n",
        "No entanto, obtivemos uma acurácia razoável com a Rede Neural _baseline_. Portanto, deixo como exercício para os alunos o desafio de melhorar a acurácia desta Rede Neural."
      ]
    },
    {
      "cell_type": "markdown",
      "metadata": {
        "id": "_ISodOu-Kmp3"
      },
      "source": [
        "### 9. Fazer Predições com a Rede Neural"
      ]
    },
    {
      "cell_type": "markdown",
      "metadata": {
        "id": "_xgdL1W4vUrN"
      },
      "source": [
        "[**Python**] - Comando:\n",
        "* RN.predict_classes(X_treinamento);\n",
        "* RN.predict_classes(X_teste)."
      ]
    },
    {
      "cell_type": "code",
      "metadata": {
        "id": "kqy2rt3YfPiy"
      },
      "source": [
        "y_test = RN.predict_classes(X_test)\n"
      ],
      "execution_count": 474,
      "outputs": []
    },
    {
      "cell_type": "code",
      "metadata": {
        "id": "_C_u02mygKgt"
      },
      "source": [
        "df_submit = pd.concat([pd.DataFrame(X_test.index,columns=['id']),pd.DataFrame(y_test,columns=['target']).astype('boolean')],axis=1)\n",
        "\n"
      ],
      "execution_count": 475,
      "outputs": []
    },
    {
      "cell_type": "code",
      "metadata": {
        "colab": {
          "base_uri": "https://localhost:8080/",
          "height": 407
        },
        "id": "k-GLGzuem3cV",
        "outputId": "041db89c-221d-4a8f-d109-59a563a645da"
      },
      "source": [
        "df_submit"
      ],
      "execution_count": 476,
      "outputs": [
        {
          "output_type": "execute_result",
          "data": {
            "text/html": [
              "<div>\n",
              "<style scoped>\n",
              "    .dataframe tbody tr th:only-of-type {\n",
              "        vertical-align: middle;\n",
              "    }\n",
              "\n",
              "    .dataframe tbody tr th {\n",
              "        vertical-align: top;\n",
              "    }\n",
              "\n",
              "    .dataframe thead th {\n",
              "        text-align: right;\n",
              "    }\n",
              "</style>\n",
              "<table border=\"1\" class=\"dataframe\">\n",
              "  <thead>\n",
              "    <tr style=\"text-align: right;\">\n",
              "      <th></th>\n",
              "      <th>id</th>\n",
              "      <th>target</th>\n",
              "    </tr>\n",
              "  </thead>\n",
              "  <tbody>\n",
              "    <tr>\n",
              "      <th>0</th>\n",
              "      <td>3411</td>\n",
              "      <td>True</td>\n",
              "    </tr>\n",
              "    <tr>\n",
              "      <th>1</th>\n",
              "      <td>2177</td>\n",
              "      <td>True</td>\n",
              "    </tr>\n",
              "    <tr>\n",
              "      <th>2</th>\n",
              "      <td>8400</td>\n",
              "      <td>True</td>\n",
              "    </tr>\n",
              "    <tr>\n",
              "      <th>3</th>\n",
              "      <td>464</td>\n",
              "      <td>True</td>\n",
              "    </tr>\n",
              "    <tr>\n",
              "      <th>4</th>\n",
              "      <td>6672</td>\n",
              "      <td>True</td>\n",
              "    </tr>\n",
              "    <tr>\n",
              "      <th>...</th>\n",
              "      <td>...</td>\n",
              "      <td>...</td>\n",
              "    </tr>\n",
              "    <tr>\n",
              "      <th>995</th>\n",
              "      <td>8609</td>\n",
              "      <td>False</td>\n",
              "    </tr>\n",
              "    <tr>\n",
              "      <th>996</th>\n",
              "      <td>3384</td>\n",
              "      <td>True</td>\n",
              "    </tr>\n",
              "    <tr>\n",
              "      <th>997</th>\n",
              "      <td>8297</td>\n",
              "      <td>False</td>\n",
              "    </tr>\n",
              "    <tr>\n",
              "      <th>998</th>\n",
              "      <td>7556</td>\n",
              "      <td>False</td>\n",
              "    </tr>\n",
              "    <tr>\n",
              "      <th>999</th>\n",
              "      <td>8582</td>\n",
              "      <td>True</td>\n",
              "    </tr>\n",
              "  </tbody>\n",
              "</table>\n",
              "<p>1000 rows × 2 columns</p>\n",
              "</div>"
            ],
            "text/plain": [
              "       id  target\n",
              "0    3411    True\n",
              "1    2177    True\n",
              "2    8400    True\n",
              "3     464    True\n",
              "4    6672    True\n",
              "..    ...     ...\n",
              "995  8609   False\n",
              "996  3384    True\n",
              "997  8297   False\n",
              "998  7556   False\n",
              "999  8582    True\n",
              "\n",
              "[1000 rows x 2 columns]"
            ]
          },
          "metadata": {
            "tags": []
          },
          "execution_count": 476
        }
      ]
    },
    {
      "cell_type": "code",
      "metadata": {
        "id": "JU_6XlFRgPL2",
        "colab": {
          "base_uri": "https://localhost:8080/"
        },
        "outputId": "fd479732-702a-4484-a7ff-138dca6dee6a"
      },
      "source": [
        "df_submit['target'].value_counts()"
      ],
      "execution_count": 477,
      "outputs": [
        {
          "output_type": "execute_result",
          "data": {
            "text/plain": [
              "False    546\n",
              "True     454\n",
              "Name: target, dtype: Int64"
            ]
          },
          "metadata": {
            "tags": []
          },
          "execution_count": 477
        }
      ]
    },
    {
      "cell_type": "code",
      "metadata": {
        "id": "XhnvrX4E65vY"
      },
      "source": [
        "F = df_submit['target'].value_counts()[0]\n",
        "T = df_submit['target'].value_counts()[1]"
      ],
      "execution_count": 478,
      "outputs": []
    },
    {
      "cell_type": "code",
      "metadata": {
        "id": "wB_47tDG60uC"
      },
      "source": [
        "df_submit.to_csv(f'/PyLadies_NL_145_Test_{round(F1_Test,4)}_X_{round(F1_X,4)}_Trein_{round(F1_Trein,4)}_F{F}_T{T}.csv',index = False, sep = ',')"
      ],
      "execution_count": 479,
      "outputs": []
    },
    {
      "cell_type": "markdown",
      "metadata": {
        "id": "NpufntZjyH8T"
      },
      "source": [
        "### Salvar a Rede Neural"
      ]
    },
    {
      "cell_type": "code",
      "metadata": {
        "id": "ZKqn0leTyLOy"
      },
      "source": [
        "# Save the weights\n",
        "RN.save('/RN_145.h5')"
      ],
      "execution_count": 480,
      "outputs": []
    },
    {
      "cell_type": "code",
      "metadata": {
        "id": "viORp6XjrC66"
      },
      "source": [
        ""
      ],
      "execution_count": null,
      "outputs": []
    }
  ]
}