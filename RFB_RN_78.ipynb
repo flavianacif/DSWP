{
  "nbformat": 4,
  "nbformat_minor": 0,
  "metadata": {
    "colab": {
      "name": "Untitled5.ipynb",
      "provenance": [],
      "toc_visible": true,
      "authorship_tag": "ABX9TyMrwQWEssH16dwPWP7xpZ3K",
      "include_colab_link": true
    },
    "kernelspec": {
      "name": "python3",
      "display_name": "Python 3"
    }
  },
  "cells": [
    {
      "cell_type": "markdown",
      "metadata": {
        "id": "view-in-github",
        "colab_type": "text"
      },
      "source": [
        "<a href=\"https://colab.research.google.com/github/flavianacif/DSWP/blob/master/RFB_RN_78.ipynb\" target=\"_parent\"><img src=\"https://colab.research.google.com/assets/colab-badge.svg\" alt=\"Open In Colab\"/></a>"
      ]
    },
    {
      "cell_type": "code",
      "metadata": {
        "id": "j0_YZ6IURZE_",
        "colab": {
          "base_uri": "https://localhost:8080/"
        },
        "outputId": "2e3e3cd0-a70c-40d3-9ae4-def4110be7c7"
      },
      "source": [
        "\n",
        "import tensorflow as tf\n",
        "import numpy as np\n",
        "import pandas as pd\n",
        "import matplotlib.pyplot as plt\n",
        "import seaborn as sns\n",
        "from sklearn.metrics import confusion_matrix\n",
        "import tensorflow_addons as tfa\n",
        "from tensorflow import keras\n",
        "from sklearn.metrics import accuracy_score, f1_score, precision_score, recall_score, classification_report, confusion_matrix\n",
        "from collections import Counter\n",
        "from imblearn.over_sampling import SMOTE\n"
      ],
      "execution_count": 1,
      "outputs": [
        {
          "output_type": "stream",
          "text": [
            "/usr/local/lib/python3.6/dist-packages/sklearn/externals/six.py:31: FutureWarning: The module is deprecated in version 0.21 and will be removed in version 0.23 since we've dropped support for Python 2.7. Please rely on the official version of six (https://pypi.org/project/six/).\n",
            "  \"(https://pypi.org/project/six/).\", FutureWarning)\n",
            "/usr/local/lib/python3.6/dist-packages/sklearn/utils/deprecation.py:144: FutureWarning: The sklearn.neighbors.base module is  deprecated in version 0.22 and will be removed in version 0.24. The corresponding classes / functions should instead be imported from sklearn.neighbors. Anything that cannot be imported from sklearn.neighbors is now part of the private API.\n",
            "  warnings.warn(message, FutureWarning)\n"
          ],
          "name": "stderr"
        }
      ]
    },
    {
      "cell_type": "markdown",
      "metadata": {
        "id": "9ZX00UN5cjvM"
      },
      "source": [
        "[**Python**] - Verificar a versão do Tensorflow\n",
        "> Assegurar que está a utilizar a versão 2.x."
      ]
    },
    {
      "cell_type": "code",
      "metadata": {
        "id": "THWNIk_FCe_g",
        "colab": {
          "base_uri": "https://localhost:8080/",
          "height": 35
        },
        "outputId": "1d19b433-4dcd-497a-aae5-63208bf26457"
      },
      "source": [
        "tf.__version__"
      ],
      "execution_count": 2,
      "outputs": [
        {
          "output_type": "execute_result",
          "data": {
            "application/vnd.google.colaboratory.intrinsic+json": {
              "type": "string"
            },
            "text/plain": [
              "'2.3.0'"
            ]
          },
          "metadata": {
            "tags": []
          },
          "execution_count": 2
        }
      ]
    },
    {
      "cell_type": "markdown",
      "metadata": {
        "id": "PZgQAKqLcLX3"
      },
      "source": [
        "[**Python**] - Definir o número de casas decimais"
      ]
    },
    {
      "cell_type": "code",
      "metadata": {
        "id": "tzKor02BCe_d"
      },
      "source": [
        "np.set_printoptions(precision= 3)"
      ],
      "execution_count": 3,
      "outputs": []
    },
    {
      "cell_type": "markdown",
      "metadata": {
        "id": "M5V4KopjLWOL"
      },
      "source": [
        "### 1. Carregar os dados"
      ]
    },
    {
      "cell_type": "markdown",
      "metadata": {
        "id": "V_cwAUW3tseE"
      },
      "source": [
        "[**Python**] - Carregar os dados:"
      ]
    },
    {
      "cell_type": "code",
      "metadata": {
        "id": "_Bs87IWPtwtm"
      },
      "source": [
        "# Leitura do dataframe:\n",
        "df = pd.read_csv('/total_10.csv')"
      ],
      "execution_count": 4,
      "outputs": []
    },
    {
      "cell_type": "code",
      "metadata": {
        "id": "myhgteQhdqVi"
      },
      "source": [
        "df_total = df.copy()"
      ],
      "execution_count": 103,
      "outputs": []
    },
    {
      "cell_type": "code",
      "metadata": {
        "id": "0MfQNbWvfUkK"
      },
      "source": [
        "df_total.set_index('id', inplace=True)"
      ],
      "execution_count": 104,
      "outputs": []
    },
    {
      "cell_type": "code",
      "metadata": {
        "colab": {
          "base_uri": "https://localhost:8080/"
        },
        "id": "6730Oq3j-4w8",
        "outputId": "5d73a356-6f5b-4b17-dada-3e6f0da15535"
      },
      "source": [
        "df_total.columns"
      ],
      "execution_count": 105,
      "outputs": [
        {
          "output_type": "execute_result",
          "data": {
            "text/plain": [
              "Index(['cnae2', 'rf2', 'md1', 'md2', 'md3', 'md4', 'md5', 'md6', 'md7', 'md8',\n",
              "       'md9', 'md10', 'md11', 'md12', 'mc1', 'mc2', 'mc3', 'mc4', 'ind01',\n",
              "       'ind02', 'ind03', 'ind04', 'ind05', 'ind06', 'ind07', 'ind08', 'ind09',\n",
              "       'ind10', 'ind11', 'ind12', 'ind13', 'ind14', 'ind15', 'ind16', 'ind17',\n",
              "       'ind18', 'ind19', 'ind20', 'ind21', 'ind22', 'ind23', 'ind24', 'ind25',\n",
              "       'ind26', 'ind27', 'ind28', 'ind29', 'ind30', 'ind31', 'ind32', 'ind33',\n",
              "       'ind34', 'ind35', 'ind36', 'ind37', 'ind38', 'ind39', 'ind40', 'ind41',\n",
              "       'ind42', 'ind43', 'target', 'cnae_secao', 'ind_g1_mv', 'ind_g1',\n",
              "       'ind_g2_mv', 'ind_g2', 'mc_g1_mv', 'mc_g1', 'md1_o', 'md2_o', 'md3_o',\n",
              "       'md4_o', 'md5_o', 'md7_o', 'md8_o', 'md9_o', 'md10_o', 'md12_o',\n",
              "       'mc1_o', 'mc3_o', 'mc4_o'],\n",
              "      dtype='object')"
            ]
          },
          "metadata": {
            "tags": []
          },
          "execution_count": 105
        }
      ]
    },
    {
      "cell_type": "markdown",
      "metadata": {
        "id": "6LXKr9-R_JIK"
      },
      "source": [
        "Retirando algumas colunas para testar"
      ]
    },
    {
      "cell_type": "code",
      "metadata": {
        "id": "aVnISOiD-xRk"
      },
      "source": [
        "df_total.drop(columns = ['cnae2','md1', 'md2', 'md3', 'md4', 'md5', 'md6', 'md7', 'md8',\n",
        "       'md9', 'md10', 'md11', 'md12', 'mc1', 'mc2', 'mc3', 'mc4','ind01',\n",
        "       'ind02', 'ind03', 'ind04', 'ind05', 'ind06', 'ind07', 'ind08', 'ind09',\n",
        "       'ind10', 'ind11', 'ind12', 'ind13', 'ind14', 'ind15', 'ind16', 'ind17',\n",
        "       'ind18', 'ind19', 'ind20', 'ind21', 'ind22', 'ind23', 'ind24', 'ind25',\n",
        "       'ind26', 'ind27', 'ind28', 'ind29', 'ind30', 'ind31', 'ind32', 'ind33',\n",
        "       'ind34', 'ind35', 'ind36', 'ind37', 'ind38', 'ind39', 'ind40', 'ind41',\n",
        "       'ind42','mc_g1'], inplace = True)"
      ],
      "execution_count": 106,
      "outputs": []
    },
    {
      "cell_type": "code",
      "metadata": {
        "colab": {
          "base_uri": "https://localhost:8080/"
        },
        "id": "IHt2y_5IHtRH",
        "outputId": "413a62ba-8c0b-4a9f-9136-5914146940a0"
      },
      "source": [
        "df_total.columns"
      ],
      "execution_count": 107,
      "outputs": [
        {
          "output_type": "execute_result",
          "data": {
            "text/plain": [
              "Index(['rf2', 'ind43', 'target', 'cnae_secao', 'ind_g1_mv', 'ind_g1',\n",
              "       'ind_g2_mv', 'ind_g2', 'mc_g1_mv', 'md1_o', 'md2_o', 'md3_o', 'md4_o',\n",
              "       'md5_o', 'md7_o', 'md8_o', 'md9_o', 'md10_o', 'md12_o', 'mc1_o',\n",
              "       'mc3_o', 'mc4_o'],\n",
              "      dtype='object')"
            ]
          },
          "metadata": {
            "tags": []
          },
          "execution_count": 107
        }
      ]
    },
    {
      "cell_type": "markdown",
      "metadata": {
        "id": "e_0lkPsR_mFp"
      },
      "source": [
        "GET DUMMIES"
      ]
    },
    {
      "cell_type": "code",
      "metadata": {
        "id": "moTlPrJk5b0T"
      },
      "source": [
        "#df_total['cnae2'] = df_total['cnae2'].astype('category')"
      ],
      "execution_count": 108,
      "outputs": []
    },
    {
      "cell_type": "code",
      "metadata": {
        "id": "rN72uIGk_jMI"
      },
      "source": [
        "df_total = pd.get_dummies(df_total)"
      ],
      "execution_count": 109,
      "outputs": []
    },
    {
      "cell_type": "code",
      "metadata": {
        "id": "9gYa3Hy6lrZi"
      },
      "source": [
        "X_treino = df_total[df_total['target']!= 2]"
      ],
      "execution_count": 110,
      "outputs": []
    },
    {
      "cell_type": "code",
      "metadata": {
        "id": "KeckOXBrR_X6"
      },
      "source": [
        "df_X = X_treino.copy()"
      ],
      "execution_count": 111,
      "outputs": []
    },
    {
      "cell_type": "code",
      "metadata": {
        "id": "Q5tB1ey7eAe4"
      },
      "source": [
        "df_y = df_X['target']\n",
        "df_X = df_X.drop(columns= ['target'])"
      ],
      "execution_count": 112,
      "outputs": []
    },
    {
      "cell_type": "code",
      "metadata": {
        "id": "i8_BlpeteJow"
      },
      "source": [
        "X_test = df_total[df_total['target']== 2].drop(columns= ['target'])"
      ],
      "execution_count": 113,
      "outputs": []
    },
    {
      "cell_type": "markdown",
      "metadata": {
        "id": "qzWrM6VCSEoQ"
      },
      "source": [
        "Tratando o Balanceamento da Amostra"
      ]
    },
    {
      "cell_type": "code",
      "metadata": {
        "colab": {
          "base_uri": "https://localhost:8080/"
        },
        "id": "28lRhxtgRwEa",
        "outputId": "5f8d051a-1974-45f9-918d-d4661fba3447"
      },
      "source": [
        "qtd = Counter(X_treino['target'])\n",
        "qtd"
      ],
      "execution_count": 114,
      "outputs": [
        {
          "output_type": "execute_result",
          "data": {
            "text/plain": [
              "Counter({0: 8513, 1: 2520})"
            ]
          },
          "metadata": {
            "tags": []
          },
          "execution_count": 114
        }
      ]
    },
    {
      "cell_type": "code",
      "metadata": {
        "id": "0AZCDYSOSHLx"
      },
      "source": [
        "from imblearn.under_sampling import RandomUnderSampler\n",
        "from imblearn.pipeline import Pipeline"
      ],
      "execution_count": 115,
      "outputs": []
    },
    {
      "cell_type": "code",
      "metadata": {
        "id": "Z1FhuODySLSS"
      },
      "source": [
        "over = SMOTE(sampling_strategy = 0.5) # Reamostrar a classe minoritária para ter 10% da classe majoritária\n",
        "under = RandomUnderSampler(sampling_strategy = 0.7) # Seleciona a classe majoritária para ter 50%\n",
        "steps = [('over', over), ('under', under)]\n",
        "pipeline = Pipeline(steps = steps)"
      ],
      "execution_count": 116,
      "outputs": []
    },
    {
      "cell_type": "code",
      "metadata": {
        "colab": {
          "base_uri": "https://localhost:8080/"
        },
        "id": "dwkQt9AFSNLL",
        "outputId": "b73b28cd-05a9-4108-beaf-dea863bb6504"
      },
      "source": [
        "X, y = pipeline.fit_resample(df_X, df_y)"
      ],
      "execution_count": 117,
      "outputs": [
        {
          "output_type": "stream",
          "text": [
            "/usr/local/lib/python3.6/dist-packages/sklearn/utils/deprecation.py:87: FutureWarning: Function safe_indexing is deprecated; safe_indexing is deprecated in version 0.22 and will be removed in version 0.24.\n",
            "  warnings.warn(msg, category=FutureWarning)\n",
            "/usr/local/lib/python3.6/dist-packages/sklearn/utils/deprecation.py:87: FutureWarning: Function safe_indexing is deprecated; safe_indexing is deprecated in version 0.22 and will be removed in version 0.24.\n",
            "  warnings.warn(msg, category=FutureWarning)\n"
          ],
          "name": "stderr"
        }
      ]
    },
    {
      "cell_type": "markdown",
      "metadata": {
        "id": "m22vN2YrSWOr"
      },
      "source": [
        "ANTES/DEPOIS:"
      ]
    },
    {
      "cell_type": "code",
      "metadata": {
        "colab": {
          "base_uri": "https://localhost:8080/"
        },
        "id": "oLiFXdkqSVNz",
        "outputId": "7afb96c9-e015-44a8-d0cb-e178e0b794c7"
      },
      "source": [
        "print(Counter(df_y),Counter(y))"
      ],
      "execution_count": 118,
      "outputs": [
        {
          "output_type": "stream",
          "text": [
            "Counter({0: 8513, 1: 2520}) Counter({0: 6080, 1: 4256})\n"
          ],
          "name": "stdout"
        }
      ]
    },
    {
      "cell_type": "markdown",
      "metadata": {
        "id": "jJaJWuUqJCha"
      },
      "source": [
        "### 3. Definir as amostras de treinamento e validação"
      ]
    },
    {
      "cell_type": "markdown",
      "metadata": {
        "id": "LoO2iEimu4SQ"
      },
      "source": [
        "[**Python**] - Definir as amostras de treinamento e validação"
      ]
    },
    {
      "cell_type": "code",
      "metadata": {
        "id": "hTCdm-F9JBGA",
        "colab": {
          "base_uri": "https://localhost:8080/"
        },
        "outputId": "059c0cb7-90c3-4a69-c0b4-d8308e1699bc"
      },
      "source": [
        "from sklearn.model_selection import train_test_split\n",
        "\n",
        "X_treinamento, X_teste, y_treinamento, y_teste= train_test_split(X, y, test_size = 0.1, random_state = 22091980) #20111974)\n",
        "print(f'X: Treinamento=  {X_treinamento.shape}; X: Teste=  {X_teste.shape}')"
      ],
      "execution_count": 119,
      "outputs": [
        {
          "output_type": "stream",
          "text": [
            "X: Treinamento=  (9302, 48); X: Teste=  (1034, 48)\n"
          ],
          "name": "stdout"
        }
      ]
    },
    {
      "cell_type": "code",
      "metadata": {
        "id": "th9CsQpB8VDK",
        "colab": {
          "base_uri": "https://localhost:8080/"
        },
        "outputId": "7c09e559-e150-4a5c-f542-94d9fa076c29"
      },
      "source": [
        "print(f'Y: Treinamento =  {y_treinamento.shape}; Y: Teste = {y_teste.shape}')"
      ],
      "execution_count": 120,
      "outputs": [
        {
          "output_type": "stream",
          "text": [
            "Y: Treinamento =  (9302,); Y: Teste = (1034,)\n"
          ],
          "name": "stdout"
        }
      ]
    },
    {
      "cell_type": "markdown",
      "metadata": {
        "id": "2bL-vXiULupD"
      },
      "source": [
        "### 4. Definir a arquitetura da Rede Neural com _Tensorflow_/_Keras_"
      ]
    },
    {
      "cell_type": "markdown",
      "metadata": {
        "id": "zxETX6dTfyU5"
      },
      "source": [
        "[**Python**] - Definir a arquitetura, ou seja:\n",
        "* $N_{I}$: Número de neurônios na camada de entrada (_Input Layer_);\n",
        "* $N_{O}$: Número de neurônios na camada de saída (_Output Layer_);\n",
        "* $N_{H}$: Número de neurônios na camada escondida (_Hidden Layer_);\n",
        "* FA: Função de ativação;"
      ]
    },
    {
      "cell_type": "code",
      "metadata": {
        "id": "F_MdsLicfyU6"
      },
      "source": [
        "# Número de Neurônios na Input Layer:\n",
        "N_I = 48\n",
        "\n",
        "# Número de neurônios na Output Layer:\n",
        "N_O = 1\n",
        "\n",
        "# Número de neurônios na Hidden Layer:\n",
        "N_H = 300\n",
        "\n",
        "N_H2 = 200\n",
        "\n",
        "N_H3=100\n",
        "\n",
        "N_H4 = 50\n",
        "\n",
        "N_H5 = 20\n",
        "\n",
        "N_H6 = 2\n",
        "\n",
        "\n",
        "\n",
        "# Função de Ativação da Hidden Layer:\n",
        "FA_H = tf.nn.leaky_relu\n",
        "#FA_H = tf.keras.activations.swish\n",
        "\n",
        "# Função de Ativação da Output Layer:\n",
        "FA_O = tf.keras.activations.sigmoid\n",
        "\n",
        "\n"
      ],
      "execution_count": 147,
      "outputs": []
    },
    {
      "cell_type": "markdown",
      "metadata": {
        "id": "SUMmDuPCcYyB"
      },
      "source": [
        "[**Python**] - Definir as sementes para NumPy e Tensorflow:\n",
        "> Por questões de reproducibilidade de resultados, use as sementes abaixo:\n",
        "\n",
        "* NumPy: 20111974;\n",
        "* Tensorflow: 20111974;"
      ]
    },
    {
      "cell_type": "code",
      "metadata": {
        "id": "T-echOBmceVy"
      },
      "source": [
        "np.random.seed(19800922)\n",
        "tf.random.set_seed(22091980)"
      ],
      "execution_count": 148,
      "outputs": []
    },
    {
      "cell_type": "markdown",
      "metadata": {
        "id": "7ZceRRdinEM2"
      },
      "source": [
        "\n",
        "[**Python**] - Definir a Rede Neural:"
      ]
    },
    {
      "cell_type": "markdown",
      "metadata": {
        "id": "nXQsSYq2DBfI"
      },
      "source": [
        "\n",
        "\n",
        "\n",
        "\n",
        "* 1 camada _dropout_ com $p= 0.1$:"
      ]
    },
    {
      "cell_type": "code",
      "metadata": {
        "id": "TRFR5Kr_nDtD",
        "colab": {
          "base_uri": "https://localhost:8080/"
        },
        "outputId": "f0585f20-e545-478d-a0a5-6d13391b0c35"
      },
      "source": [
        "from tensorflow.keras import Sequential\n",
        "from tensorflow.keras.layers import Dense\n",
        "from tensorflow.keras.layers import Dropout\n",
        "\n",
        "RN= Sequential()\n",
        "RN.add(Dense(N_H, input_dim= N_I, kernel_initializer= tf.keras.initializers.GlorotNormal(), activation= FA_H, kernel_constraint= tf.keras.constraints.UnitNorm()))\n",
        "RN.add(Dropout(0.1))\n",
        "RN.add(Dense(N_H2, kernel_initializer= tf.keras.initializers.GlorotNormal(), activation= FA_H, kernel_constraint= tf.keras.constraints.UnitNorm()))\n",
        "RN.add(Dropout(0.1))\n",
        "RN.add(Dense(N_H3, kernel_initializer= tf.keras.initializers.GlorotNormal(), activation= FA_H, kernel_constraint= tf.keras.constraints.UnitNorm()))\n",
        "RN.add(Dropout(0.1))\n",
        "RN.add(Dense(N_H4, kernel_initializer= tf.keras.initializers.GlorotNormal(), activation= FA_H, kernel_constraint= tf.keras.constraints.UnitNorm()))\n",
        "RN.add(Dropout(0.1))\n",
        "RN.add(Dense(N_H5, kernel_initializer= tf.keras.initializers.GlorotNormal(), activation= FA_H, kernel_constraint= tf.keras.constraints.UnitNorm()))\n",
        "RN.add(Dropout(0.1))\n",
        "RN.add(Dense(N_H6, kernel_initializer= tf.keras.initializers.GlorotNormal(), activation= FA_H, kernel_constraint= tf.keras.constraints.UnitNorm()))\n",
        "RN.add(Dropout(0.1))\n",
        "RN.add(Dense(units= N_O, activation= FA_O))\n",
        "\n",
        "# Resumo da arquitetura da Rede Neural\n",
        "print(RN.summary())"
      ],
      "execution_count": 149,
      "outputs": [
        {
          "output_type": "stream",
          "text": [
            "Model: \"sequential_7\"\n",
            "_________________________________________________________________\n",
            "Layer (type)                 Output Shape              Param #   \n",
            "=================================================================\n",
            "dense_49 (Dense)             (None, 300)               14700     \n",
            "_________________________________________________________________\n",
            "dropout_42 (Dropout)         (None, 300)               0         \n",
            "_________________________________________________________________\n",
            "dense_50 (Dense)             (None, 200)               60200     \n",
            "_________________________________________________________________\n",
            "dropout_43 (Dropout)         (None, 200)               0         \n",
            "_________________________________________________________________\n",
            "dense_51 (Dense)             (None, 100)               20100     \n",
            "_________________________________________________________________\n",
            "dropout_44 (Dropout)         (None, 100)               0         \n",
            "_________________________________________________________________\n",
            "dense_52 (Dense)             (None, 50)                5050      \n",
            "_________________________________________________________________\n",
            "dropout_45 (Dropout)         (None, 50)                0         \n",
            "_________________________________________________________________\n",
            "dense_53 (Dense)             (None, 20)                1020      \n",
            "_________________________________________________________________\n",
            "dropout_46 (Dropout)         (None, 20)                0         \n",
            "_________________________________________________________________\n",
            "dense_54 (Dense)             (None, 2)                 42        \n",
            "_________________________________________________________________\n",
            "dropout_47 (Dropout)         (None, 2)                 0         \n",
            "_________________________________________________________________\n",
            "dense_55 (Dense)             (None, 1)                 3         \n",
            "=================================================================\n",
            "Total params: 101,115\n",
            "Trainable params: 101,115\n",
            "Non-trainable params: 0\n",
            "_________________________________________________________________\n",
            "None\n"
          ],
          "name": "stdout"
        }
      ]
    },
    {
      "cell_type": "markdown",
      "metadata": {
        "id": "4JBZf4ypGO8o"
      },
      "source": [
        "### 5. Compilar a Rede Neural\n",
        "\n",
        "Este é um problema de classificação binária (_Male_ ou _Female_). Portanto, temos:\n",
        "* optimizer= tf.keras.optimizers.Adam();\n",
        "* loss=  tf.keras.losses.MeanSquaredError() ou loss= tf.keras.losses.BinaryCrossentropy(). Particularmente, eu gosto de usar loss=  tf.keras.losses.MeanSquaredError() porque o resultado é mais intuitivo;\n",
        "* metrics= tf.keras.metrics.binary_accuracy."
      ]
    },
    {
      "cell_type": "markdown",
      "metadata": {
        "id": "USmAuw6f00wL"
      },
      "source": [
        "[**Python**] - Comando modelo.compile(optimizer, loss, metrics):"
      ]
    },
    {
      "cell_type": "code",
      "metadata": {
        "id": "h7KEi1_e6SSF"
      },
      "source": [
        "\n",
        "Algoritmo_Opt = tf.keras.optimizers.Adamax()\n",
        "#Algoritmo_Opt = tf.keras.optimizers.Adam(learning_rate=0.01, beta_1=0.8, beta_2=0.99, epsilon=1e-07 , amsgrad=True,     name='Adam')\n",
        "Loss_Function = tf.keras.losses.MeanSquaredError()\n",
        "#Loss_Function = tf.keras.losses.BinaryCrossentropy()\n",
        "Metrics_Perf = tf.keras.metrics.binary_accuracy\n",
        "RN.compile(optimizer = Algoritmo_Opt, loss = Loss_Function,metrics = Metrics_Perf)\n",
        "#RN.compile( loss = Loss_Function,metrics = Metrics_Perf)"
      ],
      "execution_count": 150,
      "outputs": []
    },
    {
      "cell_type": "markdown",
      "metadata": {
        "id": "Hc90EeV_GojX"
      },
      "source": [
        "### 6. Ajustar a Rede Neural\n",
        "\n",
        "Obs.: A opção callbacks abaixo implementa o conceito de _early stopping_. Esta opção vai parar o processo de treinamento da Rede Neural antes de atingirmos o númerco de _epochs_ quando o modelo pára de melhorar, medido pela métrica val_loss. O parâmetro _patience_= k significa que o processo de otimização vai parar se tivermos k _epochs_ consecutivas sem observarmos melhoria da performance da Rede Neural."
      ]
    },
    {
      "cell_type": "markdown",
      "metadata": {
        "id": "XCCTtUh_vEFP"
      },
      "source": [
        "[**Python**] - Comando modelo.fit(X_treinamento, y_treinamento, epochs)"
      ]
    },
    {
      "cell_type": "code",
      "metadata": {
        "id": "EB91J6nrF0db",
        "colab": {
          "base_uri": "https://localhost:8080/"
        },
        "outputId": "5d7d2596-d932-4d99-96ff-af917642a551"
      },
      "source": [
        "callbacks = [tf.keras.callbacks.EarlyStopping(monitor = 'val_loss', patience = 20, min_delta = 0.001)]\n",
        "hist= RN.fit(X_treinamento, y_treinamento, epochs = 100, batch_size = 20,\n",
        "             validation_data = (X_teste, y_teste), callbacks = callbacks)"
      ],
      "execution_count": 151,
      "outputs": [
        {
          "output_type": "stream",
          "text": [
            "Epoch 1/100\n",
            "466/466 [==============================] - 1s 3ms/step - loss: 0.2237 - binary_accuracy: 0.6127 - val_loss: 0.2127 - val_binary_accuracy: 0.6364\n",
            "Epoch 2/100\n",
            "466/466 [==============================] - 1s 3ms/step - loss: 0.2139 - binary_accuracy: 0.6369 - val_loss: 0.2115 - val_binary_accuracy: 0.6499\n",
            "Epoch 3/100\n",
            "466/466 [==============================] - 1s 3ms/step - loss: 0.2125 - binary_accuracy: 0.6389 - val_loss: 0.2087 - val_binary_accuracy: 0.6518\n",
            "Epoch 4/100\n",
            "466/466 [==============================] - 1s 3ms/step - loss: 0.2107 - binary_accuracy: 0.6362 - val_loss: 0.2108 - val_binary_accuracy: 0.6567\n",
            "Epoch 5/100\n",
            "466/466 [==============================] - 1s 3ms/step - loss: 0.2095 - binary_accuracy: 0.6431 - val_loss: 0.2089 - val_binary_accuracy: 0.6528\n",
            "Epoch 6/100\n",
            "466/466 [==============================] - 1s 3ms/step - loss: 0.2089 - binary_accuracy: 0.6441 - val_loss: 0.2083 - val_binary_accuracy: 0.6538\n",
            "Epoch 7/100\n",
            "466/466 [==============================] - 1s 3ms/step - loss: 0.2075 - binary_accuracy: 0.6476 - val_loss: 0.2057 - val_binary_accuracy: 0.6499\n",
            "Epoch 8/100\n",
            "466/466 [==============================] - 1s 3ms/step - loss: 0.2059 - binary_accuracy: 0.6534 - val_loss: 0.2066 - val_binary_accuracy: 0.6567\n",
            "Epoch 9/100\n",
            "466/466 [==============================] - 1s 3ms/step - loss: 0.2048 - binary_accuracy: 0.6556 - val_loss: 0.2040 - val_binary_accuracy: 0.6654\n",
            "Epoch 10/100\n",
            "466/466 [==============================] - 1s 3ms/step - loss: 0.2020 - binary_accuracy: 0.6660 - val_loss: 0.2050 - val_binary_accuracy: 0.6596\n",
            "Epoch 11/100\n",
            "466/466 [==============================] - 1s 3ms/step - loss: 0.2015 - binary_accuracy: 0.6665 - val_loss: 0.2055 - val_binary_accuracy: 0.6702\n",
            "Epoch 12/100\n",
            "466/466 [==============================] - 1s 3ms/step - loss: 0.2006 - binary_accuracy: 0.6786 - val_loss: 0.2015 - val_binary_accuracy: 0.6654\n",
            "Epoch 13/100\n",
            "466/466 [==============================] - 1s 3ms/step - loss: 0.1993 - binary_accuracy: 0.6767 - val_loss: 0.2029 - val_binary_accuracy: 0.6663\n",
            "Epoch 14/100\n",
            "466/466 [==============================] - 1s 3ms/step - loss: 0.1979 - binary_accuracy: 0.6828 - val_loss: 0.2020 - val_binary_accuracy: 0.6673\n",
            "Epoch 15/100\n",
            "466/466 [==============================] - 1s 3ms/step - loss: 0.1969 - binary_accuracy: 0.6792 - val_loss: 0.1995 - val_binary_accuracy: 0.6847\n",
            "Epoch 16/100\n",
            "466/466 [==============================] - 1s 3ms/step - loss: 0.1943 - binary_accuracy: 0.6867 - val_loss: 0.1995 - val_binary_accuracy: 0.6741\n",
            "Epoch 17/100\n",
            "466/466 [==============================] - 1s 3ms/step - loss: 0.1936 - binary_accuracy: 0.6895 - val_loss: 0.1995 - val_binary_accuracy: 0.6828\n",
            "Epoch 18/100\n",
            "466/466 [==============================] - 1s 3ms/step - loss: 0.1909 - binary_accuracy: 0.6967 - val_loss: 0.1968 - val_binary_accuracy: 0.6799\n",
            "Epoch 19/100\n",
            "466/466 [==============================] - 1s 3ms/step - loss: 0.1924 - binary_accuracy: 0.6965 - val_loss: 0.1982 - val_binary_accuracy: 0.6847\n",
            "Epoch 20/100\n",
            "466/466 [==============================] - 1s 3ms/step - loss: 0.1898 - binary_accuracy: 0.7026 - val_loss: 0.2012 - val_binary_accuracy: 0.6615\n",
            "Epoch 21/100\n",
            "466/466 [==============================] - 1s 3ms/step - loss: 0.1877 - binary_accuracy: 0.7069 - val_loss: 0.2015 - val_binary_accuracy: 0.6731\n",
            "Epoch 22/100\n",
            "466/466 [==============================] - 1s 3ms/step - loss: 0.1866 - binary_accuracy: 0.7098 - val_loss: 0.1984 - val_binary_accuracy: 0.6721\n",
            "Epoch 23/100\n",
            "466/466 [==============================] - 1s 3ms/step - loss: 0.1858 - binary_accuracy: 0.7074 - val_loss: 0.1970 - val_binary_accuracy: 0.6770\n",
            "Epoch 24/100\n",
            "466/466 [==============================] - 1s 3ms/step - loss: 0.1833 - binary_accuracy: 0.7201 - val_loss: 0.1975 - val_binary_accuracy: 0.6799\n",
            "Epoch 25/100\n",
            "466/466 [==============================] - 1s 3ms/step - loss: 0.1831 - binary_accuracy: 0.7198 - val_loss: 0.1958 - val_binary_accuracy: 0.6905\n",
            "Epoch 26/100\n",
            "466/466 [==============================] - 1s 3ms/step - loss: 0.1817 - binary_accuracy: 0.7233 - val_loss: 0.1994 - val_binary_accuracy: 0.6876\n",
            "Epoch 27/100\n",
            "466/466 [==============================] - 1s 3ms/step - loss: 0.1813 - binary_accuracy: 0.7222 - val_loss: 0.1971 - val_binary_accuracy: 0.6876\n",
            "Epoch 28/100\n",
            "466/466 [==============================] - 1s 3ms/step - loss: 0.1797 - binary_accuracy: 0.7204 - val_loss: 0.1986 - val_binary_accuracy: 0.6818\n",
            "Epoch 29/100\n",
            "466/466 [==============================] - 1s 3ms/step - loss: 0.1787 - binary_accuracy: 0.7267 - val_loss: 0.2035 - val_binary_accuracy: 0.6702\n",
            "Epoch 30/100\n",
            "466/466 [==============================] - 1s 3ms/step - loss: 0.1773 - binary_accuracy: 0.7266 - val_loss: 0.1987 - val_binary_accuracy: 0.6857\n",
            "Epoch 31/100\n",
            "466/466 [==============================] - 1s 3ms/step - loss: 0.1766 - binary_accuracy: 0.7293 - val_loss: 0.1954 - val_binary_accuracy: 0.7031\n",
            "Epoch 32/100\n",
            "466/466 [==============================] - 1s 3ms/step - loss: 0.1740 - binary_accuracy: 0.7344 - val_loss: 0.1958 - val_binary_accuracy: 0.6896\n",
            "Epoch 33/100\n",
            "466/466 [==============================] - 1s 3ms/step - loss: 0.1742 - binary_accuracy: 0.7364 - val_loss: 0.1976 - val_binary_accuracy: 0.6905\n",
            "Epoch 34/100\n",
            "466/466 [==============================] - 1s 3ms/step - loss: 0.1737 - binary_accuracy: 0.7404 - val_loss: 0.1940 - val_binary_accuracy: 0.7031\n",
            "Epoch 35/100\n",
            "466/466 [==============================] - 1s 3ms/step - loss: 0.1727 - binary_accuracy: 0.7367 - val_loss: 0.1957 - val_binary_accuracy: 0.6944\n",
            "Epoch 36/100\n",
            "466/466 [==============================] - 1s 3ms/step - loss: 0.1725 - binary_accuracy: 0.7375 - val_loss: 0.1929 - val_binary_accuracy: 0.6944\n",
            "Epoch 37/100\n",
            "466/466 [==============================] - 1s 3ms/step - loss: 0.1728 - binary_accuracy: 0.7365 - val_loss: 0.1916 - val_binary_accuracy: 0.7050\n",
            "Epoch 38/100\n",
            "466/466 [==============================] - 1s 3ms/step - loss: 0.1713 - binary_accuracy: 0.7392 - val_loss: 0.2012 - val_binary_accuracy: 0.6721\n",
            "Epoch 39/100\n",
            "466/466 [==============================] - 1s 3ms/step - loss: 0.1721 - binary_accuracy: 0.7394 - val_loss: 0.1964 - val_binary_accuracy: 0.6963\n",
            "Epoch 40/100\n",
            "466/466 [==============================] - 1s 3ms/step - loss: 0.1697 - binary_accuracy: 0.7460 - val_loss: 0.1919 - val_binary_accuracy: 0.7108\n",
            "Epoch 41/100\n",
            "466/466 [==============================] - 1s 3ms/step - loss: 0.1672 - binary_accuracy: 0.7533 - val_loss: 0.1904 - val_binary_accuracy: 0.7002\n",
            "Epoch 42/100\n",
            "466/466 [==============================] - 1s 3ms/step - loss: 0.1665 - binary_accuracy: 0.7515 - val_loss: 0.1901 - val_binary_accuracy: 0.6992\n",
            "Epoch 43/100\n",
            "466/466 [==============================] - 1s 3ms/step - loss: 0.1652 - binary_accuracy: 0.7512 - val_loss: 0.1945 - val_binary_accuracy: 0.7050\n",
            "Epoch 44/100\n",
            "466/466 [==============================] - 1s 3ms/step - loss: 0.1647 - binary_accuracy: 0.7540 - val_loss: 0.1930 - val_binary_accuracy: 0.6954\n",
            "Epoch 45/100\n",
            "466/466 [==============================] - 1s 3ms/step - loss: 0.1646 - binary_accuracy: 0.7531 - val_loss: 0.1921 - val_binary_accuracy: 0.7050\n",
            "Epoch 46/100\n",
            "466/466 [==============================] - 1s 3ms/step - loss: 0.1616 - binary_accuracy: 0.7596 - val_loss: 0.1934 - val_binary_accuracy: 0.6915\n",
            "Epoch 47/100\n",
            "466/466 [==============================] - 1s 3ms/step - loss: 0.1629 - binary_accuracy: 0.7583 - val_loss: 0.1901 - val_binary_accuracy: 0.7157\n",
            "Epoch 48/100\n",
            "466/466 [==============================] - 1s 3ms/step - loss: 0.1614 - binary_accuracy: 0.7623 - val_loss: 0.1907 - val_binary_accuracy: 0.7041\n",
            "Epoch 49/100\n",
            "466/466 [==============================] - 1s 3ms/step - loss: 0.1612 - binary_accuracy: 0.7594 - val_loss: 0.1976 - val_binary_accuracy: 0.6828\n",
            "Epoch 50/100\n",
            "466/466 [==============================] - 1s 3ms/step - loss: 0.1614 - binary_accuracy: 0.7618 - val_loss: 0.1943 - val_binary_accuracy: 0.6992\n",
            "Epoch 51/100\n",
            "466/466 [==============================] - 1s 3ms/step - loss: 0.1598 - binary_accuracy: 0.7632 - val_loss: 0.1929 - val_binary_accuracy: 0.7050\n",
            "Epoch 52/100\n",
            "466/466 [==============================] - 1s 3ms/step - loss: 0.1586 - binary_accuracy: 0.7635 - val_loss: 0.1926 - val_binary_accuracy: 0.7099\n",
            "Epoch 53/100\n",
            "466/466 [==============================] - 1s 3ms/step - loss: 0.1575 - binary_accuracy: 0.7718 - val_loss: 0.1913 - val_binary_accuracy: 0.7041\n",
            "Epoch 54/100\n",
            "466/466 [==============================] - 1s 3ms/step - loss: 0.1597 - binary_accuracy: 0.7661 - val_loss: 0.1883 - val_binary_accuracy: 0.7070\n",
            "Epoch 55/100\n",
            "466/466 [==============================] - 1s 3ms/step - loss: 0.1598 - binary_accuracy: 0.7660 - val_loss: 0.1880 - val_binary_accuracy: 0.7108\n",
            "Epoch 56/100\n",
            "466/466 [==============================] - 1s 3ms/step - loss: 0.1558 - binary_accuracy: 0.7719 - val_loss: 0.1910 - val_binary_accuracy: 0.7128\n",
            "Epoch 57/100\n",
            "466/466 [==============================] - 1s 3ms/step - loss: 0.1561 - binary_accuracy: 0.7709 - val_loss: 0.1924 - val_binary_accuracy: 0.7128\n",
            "Epoch 58/100\n",
            "466/466 [==============================] - 1s 3ms/step - loss: 0.1537 - binary_accuracy: 0.7775 - val_loss: 0.1945 - val_binary_accuracy: 0.6905\n",
            "Epoch 59/100\n",
            "466/466 [==============================] - 1s 3ms/step - loss: 0.1534 - binary_accuracy: 0.7742 - val_loss: 0.1972 - val_binary_accuracy: 0.7099\n",
            "Epoch 60/100\n",
            "466/466 [==============================] - 1s 3ms/step - loss: 0.1524 - binary_accuracy: 0.7789 - val_loss: 0.1920 - val_binary_accuracy: 0.7089\n",
            "Epoch 61/100\n",
            "466/466 [==============================] - 1s 3ms/step - loss: 0.1533 - binary_accuracy: 0.7776 - val_loss: 0.1918 - val_binary_accuracy: 0.7060\n",
            "Epoch 62/100\n",
            "466/466 [==============================] - 1s 3ms/step - loss: 0.1515 - binary_accuracy: 0.7817 - val_loss: 0.1941 - val_binary_accuracy: 0.7060\n",
            "Epoch 63/100\n",
            "466/466 [==============================] - 1s 3ms/step - loss: 0.1494 - binary_accuracy: 0.7822 - val_loss: 0.1963 - val_binary_accuracy: 0.6886\n",
            "Epoch 64/100\n",
            "466/466 [==============================] - 1s 3ms/step - loss: 0.1517 - binary_accuracy: 0.7785 - val_loss: 0.1901 - val_binary_accuracy: 0.7079\n",
            "Epoch 65/100\n",
            "466/466 [==============================] - 1s 3ms/step - loss: 0.1502 - binary_accuracy: 0.7808 - val_loss: 0.1952 - val_binary_accuracy: 0.6963\n",
            "Epoch 66/100\n",
            "466/466 [==============================] - 1s 3ms/step - loss: 0.1498 - binary_accuracy: 0.7763 - val_loss: 0.1906 - val_binary_accuracy: 0.7041\n",
            "Epoch 67/100\n",
            "466/466 [==============================] - 1s 3ms/step - loss: 0.1470 - binary_accuracy: 0.7873 - val_loss: 0.1919 - val_binary_accuracy: 0.7137\n",
            "Epoch 68/100\n",
            "466/466 [==============================] - 1s 3ms/step - loss: 0.1464 - binary_accuracy: 0.7913 - val_loss: 0.1955 - val_binary_accuracy: 0.6915\n",
            "Epoch 69/100\n",
            "466/466 [==============================] - 1s 3ms/step - loss: 0.1463 - binary_accuracy: 0.7875 - val_loss: 0.1928 - val_binary_accuracy: 0.7108\n",
            "Epoch 70/100\n",
            "466/466 [==============================] - 1s 3ms/step - loss: 0.1467 - binary_accuracy: 0.7861 - val_loss: 0.1958 - val_binary_accuracy: 0.7012\n",
            "Epoch 71/100\n",
            "466/466 [==============================] - 1s 3ms/step - loss: 0.1452 - binary_accuracy: 0.7877 - val_loss: 0.1862 - val_binary_accuracy: 0.7224\n",
            "Epoch 72/100\n",
            "466/466 [==============================] - 1s 3ms/step - loss: 0.1466 - binary_accuracy: 0.7877 - val_loss: 0.1945 - val_binary_accuracy: 0.7089\n",
            "Epoch 73/100\n",
            "466/466 [==============================] - 1s 3ms/step - loss: 0.1447 - binary_accuracy: 0.7907 - val_loss: 0.1906 - val_binary_accuracy: 0.7215\n",
            "Epoch 74/100\n",
            "466/466 [==============================] - 1s 3ms/step - loss: 0.1439 - binary_accuracy: 0.7921 - val_loss: 0.1900 - val_binary_accuracy: 0.7253\n",
            "Epoch 75/100\n",
            "466/466 [==============================] - 1s 3ms/step - loss: 0.1435 - binary_accuracy: 0.7947 - val_loss: 0.1914 - val_binary_accuracy: 0.7224\n",
            "Epoch 76/100\n",
            "466/466 [==============================] - 1s 3ms/step - loss: 0.1446 - binary_accuracy: 0.7891 - val_loss: 0.1911 - val_binary_accuracy: 0.7118\n",
            "Epoch 77/100\n",
            "466/466 [==============================] - 1s 3ms/step - loss: 0.1433 - binary_accuracy: 0.7934 - val_loss: 0.1922 - val_binary_accuracy: 0.7157\n",
            "Epoch 78/100\n",
            "466/466 [==============================] - 1s 3ms/step - loss: 0.1403 - binary_accuracy: 0.8005 - val_loss: 0.1913 - val_binary_accuracy: 0.7215\n",
            "Epoch 79/100\n",
            "466/466 [==============================] - 1s 3ms/step - loss: 0.1418 - binary_accuracy: 0.7983 - val_loss: 0.1981 - val_binary_accuracy: 0.7002\n",
            "Epoch 80/100\n",
            "466/466 [==============================] - 1s 3ms/step - loss: 0.1407 - binary_accuracy: 0.7972 - val_loss: 0.1912 - val_binary_accuracy: 0.7244\n",
            "Epoch 81/100\n",
            "466/466 [==============================] - 1s 3ms/step - loss: 0.1413 - binary_accuracy: 0.7929 - val_loss: 0.1912 - val_binary_accuracy: 0.7079\n",
            "Epoch 82/100\n",
            "466/466 [==============================] - 1s 3ms/step - loss: 0.1391 - binary_accuracy: 0.8023 - val_loss: 0.1886 - val_binary_accuracy: 0.7350\n",
            "Epoch 83/100\n",
            "466/466 [==============================] - 1s 3ms/step - loss: 0.1398 - binary_accuracy: 0.7998 - val_loss: 0.1871 - val_binary_accuracy: 0.7205\n",
            "Epoch 84/100\n",
            "466/466 [==============================] - 1s 3ms/step - loss: 0.1375 - binary_accuracy: 0.8018 - val_loss: 0.1869 - val_binary_accuracy: 0.7147\n",
            "Epoch 85/100\n",
            "466/466 [==============================] - 1s 3ms/step - loss: 0.1405 - binary_accuracy: 0.8006 - val_loss: 0.1930 - val_binary_accuracy: 0.6954\n",
            "Epoch 86/100\n",
            "466/466 [==============================] - 1s 3ms/step - loss: 0.1369 - binary_accuracy: 0.8031 - val_loss: 0.1859 - val_binary_accuracy: 0.7350\n",
            "Epoch 87/100\n",
            "466/466 [==============================] - 1s 3ms/step - loss: 0.1410 - binary_accuracy: 0.7994 - val_loss: 0.1865 - val_binary_accuracy: 0.7147\n",
            "Epoch 88/100\n",
            "466/466 [==============================] - 1s 3ms/step - loss: 0.1377 - binary_accuracy: 0.8033 - val_loss: 0.1953 - val_binary_accuracy: 0.7079\n",
            "Epoch 89/100\n",
            "466/466 [==============================] - 1s 3ms/step - loss: 0.1374 - binary_accuracy: 0.8023 - val_loss: 0.1946 - val_binary_accuracy: 0.7128\n",
            "Epoch 90/100\n",
            "466/466 [==============================] - 1s 3ms/step - loss: 0.1343 - binary_accuracy: 0.8105 - val_loss: 0.1892 - val_binary_accuracy: 0.7166\n",
            "Epoch 91/100\n",
            "466/466 [==============================] - 1s 3ms/step - loss: 0.1348 - binary_accuracy: 0.8097 - val_loss: 0.1939 - val_binary_accuracy: 0.7195\n"
          ],
          "name": "stdout"
        }
      ]
    },
    {
      "cell_type": "markdown",
      "metadata": {
        "id": "J1sL_DTrKmpq"
      },
      "source": [
        "### 7. Avaliar a performance da Rede Neural\n",
        "\n",
        "Para avaliar a a Rede Neural, simplesmente informamos as amostras de teste: X_teste e y_teste. A função evaluate() vai retornar uma lista contendo 2 valores: loss e accuracy."
      ]
    },
    {
      "cell_type": "markdown",
      "metadata": {
        "id": "VckQfEFPvMa7"
      },
      "source": [
        "[**Python**] - Comando modelo.evaluate(X_teste, y_teste)"
      ]
    },
    {
      "cell_type": "code",
      "metadata": {
        "id": "veeKG78w4hWh"
      },
      "source": [
        "def Mostra_ConfusionMatrix(X,y):\n",
        "    y_pred = RN.predict_classes(X)\n",
        "    mc = confusion_matrix(y, y_pred)\n",
        "    #sns.heatmap(mc,annot=True, annot_kws={\"size\": 10},fmt=\"d\")\n",
        "    sns.heatmap(mc/np.sum(mc), annot=True, annot_kws={\"size\": 10}, fmt='.2%', cmap='Blues')"
      ],
      "execution_count": 82,
      "outputs": []
    },
    {
      "cell_type": "code",
      "metadata": {
        "colab": {
          "base_uri": "https://localhost:8080/"
        },
        "id": "XUJL6Y6A4hWh",
        "outputId": "cee4df1e-a1c0-42f7-ab1b-48962f49f8ef"
      },
      "source": [
        "RN.evaluate(X_teste, y_teste)"
      ],
      "execution_count": 152,
      "outputs": [
        {
          "output_type": "stream",
          "text": [
            "33/33 [==============================] - 0s 1ms/step - loss: 0.1939 - binary_accuracy: 0.7195\n"
          ],
          "name": "stdout"
        },
        {
          "output_type": "execute_result",
          "data": {
            "text/plain": [
              "[0.1938818246126175, 0.719535768032074]"
            ]
          },
          "metadata": {
            "tags": []
          },
          "execution_count": 152
        }
      ]
    },
    {
      "cell_type": "code",
      "metadata": {
        "colab": {
          "base_uri": "https://localhost:8080/"
        },
        "id": "g3KRG1fN4hWi",
        "outputId": "5ab11611-aa59-4fe8-dfb4-bf003e7000e2"
      },
      "source": [
        "F1_Test=f1_score(y_teste, RN.predict_classes(X_teste), average=\"macro\")\n",
        "print(f'F1: {F1_Test}')"
      ],
      "execution_count": 153,
      "outputs": [
        {
          "output_type": "stream",
          "text": [
            "F1: 0.7179306763793987\n"
          ],
          "name": "stdout"
        }
      ]
    },
    {
      "cell_type": "code",
      "metadata": {
        "id": "HSC6yxs9VONq",
        "colab": {
          "base_uri": "https://localhost:8080/",
          "height": 265
        },
        "outputId": "59a809ab-d4fa-457c-e54b-37ef83a7b731"
      },
      "source": [
        "Mostra_ConfusionMatrix(X_teste, y_teste)"
      ],
      "execution_count": 154,
      "outputs": [
        {
          "output_type": "display_data",
          "data": {
            "image/png": "[encoded data removed]",
            "text/plain": [
              "<Figure size 432x288 with 2 Axes>"
            ]
          },
          "metadata": {
            "tags": [],
            "needs_background": "light"
          }
        }
      ]
    },
    {
      "cell_type": "code",
      "metadata": {
        "colab": {
          "base_uri": "https://localhost:8080/"
        },
        "id": "vdDUMlaT4hWi",
        "outputId": "b402f630-77d3-4428-99d8-bc6507f4ceb0"
      },
      "source": [
        "RN.evaluate(df_X, df_y)"
      ],
      "execution_count": 155,
      "outputs": [
        {
          "output_type": "stream",
          "text": [
            "345/345 [==============================] - 1s 2ms/step - loss: 0.1458 - binary_accuracy: 0.7720\n"
          ],
          "name": "stdout"
        },
        {
          "output_type": "execute_result",
          "data": {
            "text/plain": [
              "[0.14578858017921448, 0.7720475196838379]"
            ]
          },
          "metadata": {
            "tags": []
          },
          "execution_count": 155
        }
      ]
    },
    {
      "cell_type": "code",
      "metadata": {
        "colab": {
          "base_uri": "https://localhost:8080/"
        },
        "id": "NbBX0xLW4hWi",
        "outputId": "16bc219b-0164-4493-ce55-b285f5e53b00"
      },
      "source": [
        "F1_X=f1_score(y, RN.predict_classes(X), average=\"macro\")\n",
        "print(f'F1: {F1_X}')"
      ],
      "execution_count": 156,
      "outputs": [
        {
          "output_type": "stream",
          "text": [
            "F1: 0.8275653120360238\n"
          ],
          "name": "stdout"
        }
      ]
    },
    {
      "cell_type": "code",
      "metadata": {
        "id": "uKMi5mUMVWdR",
        "colab": {
          "base_uri": "https://localhost:8080/",
          "height": 265
        },
        "outputId": "c3b4c302-bb16-4f86-b75a-510063e860bb"
      },
      "source": [
        "Mostra_ConfusionMatrix(df_X, df_y)"
      ],
      "execution_count": 157,
      "outputs": [
        {
          "output_type": "display_data",
          "data": {
            "image/png": "[encoded data removed]",
            "text/plain": [
              "<Figure size 432x288 with 2 Axes>"
            ]
          },
          "metadata": {
            "tags": [],
            "needs_background": "light"
          }
        }
      ]
    },
    {
      "cell_type": "code",
      "metadata": {
        "colab": {
          "base_uri": "https://localhost:8080/"
        },
        "id": "X1V4oO0R4hWi",
        "outputId": "5fd85744-728a-4b9c-df8c-56a1c0caccb7"
      },
      "source": [
        "RN.evaluate(X_treinamento, y_treinamento)"
      ],
      "execution_count": 158,
      "outputs": [
        {
          "output_type": "stream",
          "text": [
            "291/291 [==============================] - 0s 1ms/step - loss: 0.1123 - binary_accuracy: 0.8413\n"
          ],
          "name": "stdout"
        },
        {
          "output_type": "execute_result",
          "data": {
            "text/plain": [
              "[0.1122623160481453, 0.8413244485855103]"
            ]
          },
          "metadata": {
            "tags": []
          },
          "execution_count": 158
        }
      ]
    },
    {
      "cell_type": "code",
      "metadata": {
        "colab": {
          "base_uri": "https://localhost:8080/"
        },
        "id": "g7cCtosc4hWi",
        "outputId": "9eea14bd-46b7-44d2-ef10-658f9baa2290"
      },
      "source": [
        "F1_Trein=f1_score(y_treinamento, RN.predict_classes(X_treinamento), average=\"macro\")\n",
        "print(f'F1: {F1_Trein}')"
      ],
      "execution_count": 159,
      "outputs": [
        {
          "output_type": "stream",
          "text": [
            "F1: 0.8397911838144771\n"
          ],
          "name": "stdout"
        }
      ]
    },
    {
      "cell_type": "code",
      "metadata": {
        "colab": {
          "base_uri": "https://localhost:8080/",
          "height": 265
        },
        "id": "N89YhXgS4hWj",
        "outputId": "3234c789-7029-44a8-b3fe-7f6b718f0875"
      },
      "source": [
        "Mostra_ConfusionMatrix(X_treinamento, y_treinamento)"
      ],
      "execution_count": 160,
      "outputs": [
        {
          "output_type": "display_data",
          "data": {
            "image/png": "[encoded data removed]",
            "text/plain": [
              "<Figure size 432x288 with 2 Axes>"
            ]
          },
          "metadata": {
            "tags": [],
            "needs_background": "light"
          }
        }
      ]
    },
    {
      "cell_type": "markdown",
      "metadata": {
        "id": "D5zYHcGuMPZe"
      },
      "source": [
        "### 8. _Fine tuning_ da Rede Neural\n",
        "\n",
        "Para aumentar a acurácia da Rede Neural, sugiro aumentarmos o número de neurônios na _Hidden Layer_ e/ou aumentar o número de _Hidden Layers_.\n",
        "\n",
        "No entanto, obtivemos uma acurácia razoável com a Rede Neural _baseline_. Portanto, deixo como exercício para os alunos o desafio de melhorar a acurácia desta Rede Neural."
      ]
    },
    {
      "cell_type": "markdown",
      "metadata": {
        "id": "_ISodOu-Kmp3"
      },
      "source": [
        "### 9. Fazer Predições com a Rede Neural"
      ]
    },
    {
      "cell_type": "markdown",
      "metadata": {
        "id": "_xgdL1W4vUrN"
      },
      "source": [
        "[**Python**] - Comando:\n",
        "* RN.predict_classes(X_treinamento);\n",
        "* RN.predict_classes(X_teste)."
      ]
    },
    {
      "cell_type": "code",
      "metadata": {
        "id": "kqy2rt3YfPiy"
      },
      "source": [
        "y_test = RN.predict_classes(X_test)\n"
      ],
      "execution_count": 161,
      "outputs": []
    },
    {
      "cell_type": "code",
      "metadata": {
        "id": "_C_u02mygKgt"
      },
      "source": [
        "df_submit = pd.concat([pd.DataFrame(X_test.index,columns=['id']),pd.DataFrame(y_test,columns=['target']).astype('boolean')],axis=1)\n",
        "\n"
      ],
      "execution_count": 162,
      "outputs": []
    },
    {
      "cell_type": "code",
      "metadata": {
        "colab": {
          "base_uri": "https://localhost:8080/",
          "height": 407
        },
        "id": "k-GLGzuem3cV",
        "outputId": "3ee38d36-1401-4336-b01d-5f80ea31cab7"
      },
      "source": [
        "df_submit"
      ],
      "execution_count": 163,
      "outputs": [
        {
          "output_type": "execute_result",
          "data": {
            "text/html": [
              "<div>\n",
              "<style scoped>\n",
              "    .dataframe tbody tr th:only-of-type {\n",
              "        vertical-align: middle;\n",
              "    }\n",
              "\n",
              "    .dataframe tbody tr th {\n",
              "        vertical-align: top;\n",
              "    }\n",
              "\n",
              "    .dataframe thead th {\n",
              "        text-align: right;\n",
              "    }\n",
              "</style>\n",
              "<table border=\"1\" class=\"dataframe\">\n",
              "  <thead>\n",
              "    <tr style=\"text-align: right;\">\n",
              "      <th></th>\n",
              "      <th>id</th>\n",
              "      <th>target</th>\n",
              "    </tr>\n",
              "  </thead>\n",
              "  <tbody>\n",
              "    <tr>\n",
              "      <th>0</th>\n",
              "      <td>3411</td>\n",
              "      <td>True</td>\n",
              "    </tr>\n",
              "    <tr>\n",
              "      <th>1</th>\n",
              "      <td>2177</td>\n",
              "      <td>False</td>\n",
              "    </tr>\n",
              "    <tr>\n",
              "      <th>2</th>\n",
              "      <td>8400</td>\n",
              "      <td>True</td>\n",
              "    </tr>\n",
              "    <tr>\n",
              "      <th>3</th>\n",
              "      <td>464</td>\n",
              "      <td>True</td>\n",
              "    </tr>\n",
              "    <tr>\n",
              "      <th>4</th>\n",
              "      <td>6672</td>\n",
              "      <td>True</td>\n",
              "    </tr>\n",
              "    <tr>\n",
              "      <th>...</th>\n",
              "      <td>...</td>\n",
              "      <td>...</td>\n",
              "    </tr>\n",
              "    <tr>\n",
              "      <th>995</th>\n",
              "      <td>8609</td>\n",
              "      <td>False</td>\n",
              "    </tr>\n",
              "    <tr>\n",
              "      <th>996</th>\n",
              "      <td>3384</td>\n",
              "      <td>True</td>\n",
              "    </tr>\n",
              "    <tr>\n",
              "      <th>997</th>\n",
              "      <td>8297</td>\n",
              "      <td>False</td>\n",
              "    </tr>\n",
              "    <tr>\n",
              "      <th>998</th>\n",
              "      <td>7556</td>\n",
              "      <td>False</td>\n",
              "    </tr>\n",
              "    <tr>\n",
              "      <th>999</th>\n",
              "      <td>8582</td>\n",
              "      <td>False</td>\n",
              "    </tr>\n",
              "  </tbody>\n",
              "</table>\n",
              "<p>1000 rows × 2 columns</p>\n",
              "</div>"
            ],
            "text/plain": [
              "       id  target\n",
              "0    3411    True\n",
              "1    2177   False\n",
              "2    8400    True\n",
              "3     464    True\n",
              "4    6672    True\n",
              "..    ...     ...\n",
              "995  8609   False\n",
              "996  3384    True\n",
              "997  8297   False\n",
              "998  7556   False\n",
              "999  8582   False\n",
              "\n",
              "[1000 rows x 2 columns]"
            ]
          },
          "metadata": {
            "tags": []
          },
          "execution_count": 163
        }
      ]
    },
    {
      "cell_type": "code",
      "metadata": {
        "id": "JU_6XlFRgPL2",
        "colab": {
          "base_uri": "https://localhost:8080/"
        },
        "outputId": "87ebc337-1647-42d5-9a72-8447a1f6adeb"
      },
      "source": [
        "df_submit['target'].value_counts()"
      ],
      "execution_count": 164,
      "outputs": [
        {
          "output_type": "execute_result",
          "data": {
            "text/plain": [
              "False    566\n",
              "True     434\n",
              "Name: target, dtype: Int64"
            ]
          },
          "metadata": {
            "tags": []
          },
          "execution_count": 164
        }
      ]
    },
    {
      "cell_type": "code",
      "metadata": {
        "id": "XhnvrX4E65vY"
      },
      "source": [
        "F = df_submit['target'].value_counts()[0]\n",
        "T = df_submit['target'].value_counts()[1]"
      ],
      "execution_count": 165,
      "outputs": []
    },
    {
      "cell_type": "code",
      "metadata": {
        "id": "wB_47tDG60uC"
      },
      "source": [
        "df_submit.to_csv(f'/PyLadies_NL_78_Test_{round(F1_Test,4)}_X_{round(F1_X,4)}_Trein_{round(F1_Trein,4)}_F{F}_T{T}.csv',index = False, sep = ',')"
      ],
      "execution_count": 166,
      "outputs": []
    },
    {
      "cell_type": "markdown",
      "metadata": {
        "id": "NpufntZjyH8T"
      },
      "source": [
        "### Salvar a Rede Neural"
      ]
    },
    {
      "cell_type": "code",
      "metadata": {
        "id": "ZKqn0leTyLOy"
      },
      "source": [
        "# Save the weights\n",
        "RN.save('/RN_78.h5')"
      ],
      "execution_count": 167,
      "outputs": []
    },
    {
      "cell_type": "code",
      "metadata": {
        "id": "viORp6XjrC66"
      },
      "source": [
        ""
      ],
      "execution_count": null,
      "outputs": []
    }
  ]
}