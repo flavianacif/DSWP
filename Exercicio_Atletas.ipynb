{
  "nbformat": 4,
  "nbformat_minor": 0,
  "metadata": {
    "colab": {
      "name": "Untitled3.ipynb",
      "provenance": [],
      "authorship_tag": "ABX9TyOvpnteco3Wctw8xvHHvwgE",
      "include_colab_link": true
    },
    "kernelspec": {
      "name": "python3",
      "display_name": "Python 3"
    }
  },
  "cells": [
    {
      "cell_type": "markdown",
      "metadata": {
        "id": "view-in-github",
        "colab_type": "text"
      },
      "source": [
        "<a href=\"https://colab.research.google.com/github/flavianacif/DSWP/blob/master/Exercicio_Atletas.ipynb\" target=\"_parent\"><img src=\"https://colab.research.google.com/assets/colab-badge.svg\" alt=\"Open In Colab\"/></a>"
      ]
    },
    {
      "cell_type": "markdown",
      "metadata": {
        "id": "NyunIr6oaWEl"
      },
      "source": [
        "## Exercícios 5 - 120 years of Olympic history: athletes and results\n",
        "* [120 years of Olympic history: athletes and results](https://www.kaggle.com/heesoo37/120-years-of-olympic-history-athletes-and-results)\n",
        "    * Trate adequadamente as variáveis 'sex', 'season', 'team', 'city', 'sport' e 'medal';\n",
        "    * Aplique as transformações que acabamos de estudar nos campos/colunas numéricas 'height' e 'weight'. Cuidado com os Missing Values contidos nas variáveis!\n",
        "    * Verifique/avalie o impacto dos outliers nestas colunas.\n",
        "    * Neste caso, qual transformação é mais adequado diante dos outliers?"
      ]
    },
    {
      "cell_type": "code",
      "metadata": {
        "id": "Czw9-ur0__IO",
        "outputId": "b024bf36-7914-4204-ac8f-4a4396a6ba67",
        "colab": {
          "base_uri": "https://localhost:8080/",
          "height": 35
        }
      },
      "source": [
        "import pandas as pd\n",
        "from google.colab import drive\n",
        "drive.mount('/content/gdrive', force_remount = True)"
      ],
      "execution_count": 1,
      "outputs": [
        {
          "output_type": "stream",
          "text": [
            "Mounted at /content/gdrive\n"
          ],
          "name": "stdout"
        }
      ]
    },
    {
      "cell_type": "code",
      "metadata": {
        "id": "YBJzvp2GLb0L"
      },
      "source": [
        "import matplotlib.pyplot as plt\n",
        "import seaborn as sns\n",
        "%matplotlib inline"
      ],
      "execution_count": 2,
      "outputs": []
    },
    {
      "cell_type": "code",
      "metadata": {
        "id": "n12atc2-3SW3",
        "outputId": "a6fc147a-bb24-4b21-a113-b76a1a2ec6e1",
        "colab": {
          "base_uri": "https://localhost:8080/",
          "height": 436
        }
      },
      "source": [
        "!pip install category_encoders\n",
        "!pip install update\n",
        "import category_encoders as ce\n",
        "from sklearn import preprocessing"
      ],
      "execution_count": 3,
      "outputs": [
        {
          "output_type": "stream",
          "text": [
            "Collecting category_encoders\n",
            "\u001b[?25l  Downloading https://files.pythonhosted.org/packages/44/57/fcef41c248701ee62e8325026b90c432adea35555cbc870aff9cfba23727/category_encoders-2.2.2-py2.py3-none-any.whl (80kB)\n",
            "\r\u001b[K     |████                            | 10kB 8.4MB/s eta 0:00:01\r\u001b[K     |████████▏                       | 20kB 1.7MB/s eta 0:00:01\r\u001b[K     |████████████▏                   | 30kB 2.2MB/s eta 0:00:01\r\u001b[K     |████████████████▎               | 40kB 2.5MB/s eta 0:00:01\r\u001b[K     |████████████████████▎           | 51kB 1.9MB/s eta 0:00:01\r\u001b[K     |████████████████████████▍       | 61kB 2.2MB/s eta 0:00:01\r\u001b[K     |████████████████████████████▍   | 71kB 2.5MB/s eta 0:00:01\r\u001b[K     |████████████████████████████████| 81kB 2.2MB/s \n",
            "\u001b[?25hRequirement already satisfied: scikit-learn>=0.20.0 in /usr/local/lib/python3.6/dist-packages (from category_encoders) (0.22.2.post1)\n",
            "Requirement already satisfied: scipy>=1.0.0 in /usr/local/lib/python3.6/dist-packages (from category_encoders) (1.4.1)\n",
            "Requirement already satisfied: statsmodels>=0.9.0 in /usr/local/lib/python3.6/dist-packages (from category_encoders) (0.10.2)\n",
            "Requirement already satisfied: patsy>=0.5.1 in /usr/local/lib/python3.6/dist-packages (from category_encoders) (0.5.1)\n",
            "Requirement already satisfied: numpy>=1.14.0 in /usr/local/lib/python3.6/dist-packages (from category_encoders) (1.18.5)\n",
            "Requirement already satisfied: pandas>=0.21.1 in /usr/local/lib/python3.6/dist-packages (from category_encoders) (1.1.2)\n",
            "Requirement already satisfied: joblib>=0.11 in /usr/local/lib/python3.6/dist-packages (from scikit-learn>=0.20.0->category_encoders) (0.16.0)\n",
            "Requirement already satisfied: six in /usr/local/lib/python3.6/dist-packages (from patsy>=0.5.1->category_encoders) (1.15.0)\n",
            "Requirement already satisfied: python-dateutil>=2.7.3 in /usr/local/lib/python3.6/dist-packages (from pandas>=0.21.1->category_encoders) (2.8.1)\n",
            "Requirement already satisfied: pytz>=2017.2 in /usr/local/lib/python3.6/dist-packages (from pandas>=0.21.1->category_encoders) (2018.9)\n",
            "Installing collected packages: category-encoders\n",
            "Successfully installed category-encoders-2.2.2\n",
            "Collecting update\n",
            "  Downloading https://files.pythonhosted.org/packages/9f/c4/dfe8a392edd35cc635c35cd3b20df6a746aacdeb39b685d1668b56bf819b/update-0.0.1-py2.py3-none-any.whl\n",
            "Collecting style==1.1.0\n",
            "  Downloading https://files.pythonhosted.org/packages/4c/0b/6be2071e20c621e7beb01b86e8474c2ec344a9750ba5315886f24d6e7386/style-1.1.0-py2.py3-none-any.whl\n",
            "Installing collected packages: style, update\n",
            "Successfully installed style-1.1.0 update-0.0.1\n"
          ],
          "name": "stdout"
        },
        {
          "output_type": "stream",
          "text": [
            "/usr/local/lib/python3.6/dist-packages/statsmodels/tools/_testing.py:19: FutureWarning: pandas.util.testing is deprecated. Use the functions in the public API at pandas.testing instead.\n",
            "  import pandas.util.testing as tm\n"
          ],
          "name": "stderr"
        }
      ]
    },
    {
      "cell_type": "code",
      "metadata": {
        "id": "ipqiVirGDBH-"
      },
      "source": [
        "df_atletas_original = pd.read_csv('/content/gdrive/My Drive/Colab Notebooks/athlete_events.csv')"
      ],
      "execution_count": 15,
      "outputs": []
    },
    {
      "cell_type": "code",
      "metadata": {
        "id": "dV4nOC8H-PVl"
      },
      "source": [
        "df_atletas = df_atletas_original.copy()"
      ],
      "execution_count": 31,
      "outputs": []
    },
    {
      "cell_type": "code",
      "metadata": {
        "id": "DozqxW7rDiJG"
      },
      "source": [
        "df_noc_original = pd.read_csv('/content/gdrive/My Drive/Colab Notebooks/noc_regions.csv')\n"
      ],
      "execution_count": 16,
      "outputs": []
    },
    {
      "cell_type": "code",
      "metadata": {
        "id": "129uAqgs-Xyx"
      },
      "source": [
        "df_noc = df_noc_original.copy()"
      ],
      "execution_count": 32,
      "outputs": []
    },
    {
      "cell_type": "code",
      "metadata": {
        "id": "oyetLpGh3jBT",
        "outputId": "37edc1b3-1005-449d-9453-8dc62b33301c",
        "colab": {
          "base_uri": "https://localhost:8080/",
          "height": 306
        }
      },
      "source": [
        "df_atletas.sample(5)"
      ],
      "execution_count": 6,
      "outputs": [
        {
          "output_type": "execute_result",
          "data": {
            "text/html": [
              "<div>\n",
              "<style scoped>\n",
              "    .dataframe tbody tr th:only-of-type {\n",
              "        vertical-align: middle;\n",
              "    }\n",
              "\n",
              "    .dataframe tbody tr th {\n",
              "        vertical-align: top;\n",
              "    }\n",
              "\n",
              "    .dataframe thead th {\n",
              "        text-align: right;\n",
              "    }\n",
              "</style>\n",
              "<table border=\"1\" class=\"dataframe\">\n",
              "  <thead>\n",
              "    <tr style=\"text-align: right;\">\n",
              "      <th></th>\n",
              "      <th>ID</th>\n",
              "      <th>Name</th>\n",
              "      <th>Sex</th>\n",
              "      <th>Age</th>\n",
              "      <th>Height</th>\n",
              "      <th>Weight</th>\n",
              "      <th>Team</th>\n",
              "      <th>NOC</th>\n",
              "      <th>Games</th>\n",
              "      <th>Year</th>\n",
              "      <th>Season</th>\n",
              "      <th>City</th>\n",
              "      <th>Sport</th>\n",
              "      <th>Event</th>\n",
              "      <th>Medal</th>\n",
              "    </tr>\n",
              "  </thead>\n",
              "  <tbody>\n",
              "    <tr>\n",
              "      <th>129477</th>\n",
              "      <td>65180</td>\n",
              "      <td>Wojciech Sawomir Kurpiewski</td>\n",
              "      <td>M</td>\n",
              "      <td>26.0</td>\n",
              "      <td>187.0</td>\n",
              "      <td>90.0</td>\n",
              "      <td>Poland</td>\n",
              "      <td>POL</td>\n",
              "      <td>1992 Summer</td>\n",
              "      <td>1992</td>\n",
              "      <td>Summer</td>\n",
              "      <td>Barcelona</td>\n",
              "      <td>Canoeing</td>\n",
              "      <td>Canoeing Men's Kayak Fours, 1,000 metres</td>\n",
              "      <td>NaN</td>\n",
              "    </tr>\n",
              "    <tr>\n",
              "      <th>103446</th>\n",
              "      <td>52341</td>\n",
              "      <td>Atsushi Irei</td>\n",
              "      <td>M</td>\n",
              "      <td>25.0</td>\n",
              "      <td>161.0</td>\n",
              "      <td>58.0</td>\n",
              "      <td>Japan</td>\n",
              "      <td>JPN</td>\n",
              "      <td>1992 Summer</td>\n",
              "      <td>1992</td>\n",
              "      <td>Summer</td>\n",
              "      <td>Barcelona</td>\n",
              "      <td>Weightlifting</td>\n",
              "      <td>Weightlifting Men's Flyweight</td>\n",
              "      <td>NaN</td>\n",
              "    </tr>\n",
              "    <tr>\n",
              "      <th>75593</th>\n",
              "      <td>38381</td>\n",
              "      <td>Jana Gantnerov</td>\n",
              "      <td>F</td>\n",
              "      <td>16.0</td>\n",
              "      <td>165.0</td>\n",
              "      <td>65.0</td>\n",
              "      <td>Slovakia</td>\n",
              "      <td>SVK</td>\n",
              "      <td>2006 Winter</td>\n",
              "      <td>2006</td>\n",
              "      <td>Winter</td>\n",
              "      <td>Torino</td>\n",
              "      <td>Alpine Skiing</td>\n",
              "      <td>Alpine Skiing Women's Super G</td>\n",
              "      <td>NaN</td>\n",
              "    </tr>\n",
              "    <tr>\n",
              "      <th>184542</th>\n",
              "      <td>92755</td>\n",
              "      <td>Mari Heini Emilia Pehkonen</td>\n",
              "      <td>F</td>\n",
              "      <td>21.0</td>\n",
              "      <td>170.0</td>\n",
              "      <td>66.0</td>\n",
              "      <td>Finland</td>\n",
              "      <td>FIN</td>\n",
              "      <td>2006 Winter</td>\n",
              "      <td>2006</td>\n",
              "      <td>Winter</td>\n",
              "      <td>Torino</td>\n",
              "      <td>Ice Hockey</td>\n",
              "      <td>Ice Hockey Women's Ice Hockey</td>\n",
              "      <td>NaN</td>\n",
              "    </tr>\n",
              "    <tr>\n",
              "      <th>82559</th>\n",
              "      <td>41938</td>\n",
              "      <td>Christine Lorraine Gosden</td>\n",
              "      <td>F</td>\n",
              "      <td>17.0</td>\n",
              "      <td>179.0</td>\n",
              "      <td>71.0</td>\n",
              "      <td>Great Britain</td>\n",
              "      <td>GBR</td>\n",
              "      <td>1956 Summer</td>\n",
              "      <td>1956</td>\n",
              "      <td>Summer</td>\n",
              "      <td>Melbourne</td>\n",
              "      <td>Swimming</td>\n",
              "      <td>Swimming Women's 200 metres Breaststroke</td>\n",
              "      <td>NaN</td>\n",
              "    </tr>\n",
              "  </tbody>\n",
              "</table>\n",
              "</div>"
            ],
            "text/plain": [
              "           ID  ... Medal\n",
              "129477  65180  ...   NaN\n",
              "103446  52341  ...   NaN\n",
              "75593   38381  ...   NaN\n",
              "184542  92755  ...   NaN\n",
              "82559   41938  ...   NaN\n",
              "\n",
              "[5 rows x 15 columns]"
            ]
          },
          "metadata": {
            "tags": []
          },
          "execution_count": 6
        }
      ]
    },
    {
      "cell_type": "code",
      "metadata": {
        "id": "vMY18b063rks",
        "outputId": "9a3d1e3b-4e12-4b44-d912-cd3dd9d2a5fb",
        "colab": {
          "base_uri": "https://localhost:8080/",
          "height": 202
        }
      },
      "source": [
        "df_noc.sample(5)"
      ],
      "execution_count": 7,
      "outputs": [
        {
          "output_type": "execute_result",
          "data": {
            "text/html": [
              "<div>\n",
              "<style scoped>\n",
              "    .dataframe tbody tr th:only-of-type {\n",
              "        vertical-align: middle;\n",
              "    }\n",
              "\n",
              "    .dataframe tbody tr th {\n",
              "        vertical-align: top;\n",
              "    }\n",
              "\n",
              "    .dataframe thead th {\n",
              "        text-align: right;\n",
              "    }\n",
              "</style>\n",
              "<table border=\"1\" class=\"dataframe\">\n",
              "  <thead>\n",
              "    <tr style=\"text-align: right;\">\n",
              "      <th></th>\n",
              "      <th>NOC</th>\n",
              "      <th>region</th>\n",
              "      <th>notes</th>\n",
              "    </tr>\n",
              "  </thead>\n",
              "  <tbody>\n",
              "    <tr>\n",
              "      <th>51</th>\n",
              "      <td>CRT</td>\n",
              "      <td>Greece</td>\n",
              "      <td>Crete</td>\n",
              "    </tr>\n",
              "    <tr>\n",
              "      <th>127</th>\n",
              "      <td>MAW</td>\n",
              "      <td>Malawi</td>\n",
              "      <td>NaN</td>\n",
              "    </tr>\n",
              "    <tr>\n",
              "      <th>66</th>\n",
              "      <td>EUN</td>\n",
              "      <td>Russia</td>\n",
              "      <td>NaN</td>\n",
              "    </tr>\n",
              "    <tr>\n",
              "      <th>73</th>\n",
              "      <td>GAM</td>\n",
              "      <td>Gambia</td>\n",
              "      <td>NaN</td>\n",
              "    </tr>\n",
              "    <tr>\n",
              "      <th>109</th>\n",
              "      <td>KOR</td>\n",
              "      <td>South Korea</td>\n",
              "      <td>NaN</td>\n",
              "    </tr>\n",
              "  </tbody>\n",
              "</table>\n",
              "</div>"
            ],
            "text/plain": [
              "     NOC       region  notes\n",
              "51   CRT       Greece  Crete\n",
              "127  MAW       Malawi    NaN\n",
              "66   EUN       Russia    NaN\n",
              "73   GAM       Gambia    NaN\n",
              "109  KOR  South Korea    NaN"
            ]
          },
          "metadata": {
            "tags": []
          },
          "execution_count": 7
        }
      ]
    },
    {
      "cell_type": "markdown",
      "metadata": {
        "id": "bGuJynXZ33ns"
      },
      "source": [
        "Tratando os nomes das colunas"
      ]
    },
    {
      "cell_type": "code",
      "metadata": {
        "id": "sNvPJT_mDdAb"
      },
      "source": [
        "df_atletas.columns = df_atletas.columns.str.lower()\n",
        "df_noc.columns = df_noc.columns.str.lower()"
      ],
      "execution_count": 33,
      "outputs": []
    },
    {
      "cell_type": "markdown",
      "metadata": {
        "id": "COM74HDe3_7s"
      },
      "source": [
        "Trocando os Index"
      ]
    },
    {
      "cell_type": "code",
      "metadata": {
        "id": "4bUzkM08Doq5"
      },
      "source": [
        "df_atletas = df_atletas.set_index('id')\n",
        "df_noc = df_noc.set_index('noc')"
      ],
      "execution_count": 34,
      "outputs": []
    },
    {
      "cell_type": "markdown",
      "metadata": {
        "id": "lk2wtHMT416k"
      },
      "source": [
        "Missing Values"
      ]
    },
    {
      "cell_type": "code",
      "metadata": {
        "id": "ObOwAVMC6AS5",
        "outputId": "f7280c38-a2ac-4336-ffd9-f4e274e49029",
        "colab": {
          "base_uri": "https://localhost:8080/",
          "height": 277
        }
      },
      "source": [
        "df_atletas.isna().sum()"
      ],
      "execution_count": 19,
      "outputs": [
        {
          "output_type": "execute_result",
          "data": {
            "text/plain": [
              "name           0\n",
              "sex            0\n",
              "age         9474\n",
              "height     60171\n",
              "weight     62875\n",
              "team           0\n",
              "noc            0\n",
              "games          0\n",
              "year           0\n",
              "season         0\n",
              "city           0\n",
              "sport          0\n",
              "event          0\n",
              "medal     231333\n",
              "dtype: int64"
            ]
          },
          "metadata": {
            "tags": []
          },
          "execution_count": 19
        }
      ]
    },
    {
      "cell_type": "code",
      "metadata": {
        "id": "mLCd-Ifl_mPG",
        "outputId": "53582d7d-f267-4149-f4c7-3717f6afe99f",
        "colab": {
          "base_uri": "https://localhost:8080/",
          "height": 263
        }
      },
      "source": [
        "df_atletas.value_counts()"
      ],
      "execution_count": 40,
      "outputs": [
        {
          "output_type": "execute_result",
          "data": {
            "text/plain": [
              "name                        sex  age   height  weight  team           noc  games        year  season  city            sport             event                                               medal      height_notna  weight_notna  age_notna  sex_num  season_num  team_num  city_num  sport_num  medal_num\n",
              "Louis Hechenbleikner        M    38.0  178.0   67.0    United States  USA  1932 Summer  1932  Summer  Los Angeles     Art Competitions  Art Competitions Mixed Painting, Unknown Event      No_Medals  178.0         67.0          38.0       1        0           1095      18        4          2            5\n",
              "Gavin Hadden                M    44.0  188.0   77.0    United States  USA  1932 Summer  1932  Summer  Los Angeles     Art Competitions  Art Competitions Mixed Architecture, Unknown Event  No_Medals  188.0         77.0          44.0       1        0           1095      18        4          2            4\n",
              "Jerzy Walerian Skolimowski  M    24.0  150.0   59.0    Poland         POL  1932 Summer  1932  Summer  Los Angeles     Art Competitions  Art Competitions Mixed Painting, Unknown Event      No_Medals  150.0         59.0          24.0       1        0           809       18        4          2            4\n",
              "Maurice Auguste Schills     M    20.0  188.0   83.0    France         FRA  1908 Summer  1908  Summer  London          Cycling           Cycling Men's Sprint                                No_Medals  188.0         83.0          20.0       1        0           361       17        19         2            2\n",
              "Edgar Isaac Seligman        M    61.0  174.0   80.0    Great Britain  GBR  1928 Summer  1928  Summer  Amsterdam       Art Competitions  Art Competitions Mixed Painting, Paintings          No_Medals  174.0         80.0          61.0       1        0           412       1         4          2            2\n",
              "                                                                                                                                                                                                                                                                                                              ..\n",
              "Nancy McDonnell (-Gabriel)  F    21.0  160.0   54.0    Canada         CAN  1976 Summer  1976  Summer  Montreal        Gymnastics        Gymnastics Women's Horse Vault                      No_Medals  160.0         54.0          21.0       0        0           173       21        27         2            1\n",
              "                                                                                                                                        Gymnastics Women's Floor Exercise                   No_Medals  160.0         54.0          21.0       0        0           173       21        27         2            1\n",
              "                                                                                                                                        Gymnastics Women's Balance Beam                     No_Medals  160.0         54.0          21.0       0        0           173       21        27         2            1\n",
              "                                 17.0  160.0   54.0    Canada         CAN  1972 Summer  1972  Summer  Munich          Gymnastics        Gymnastics Women's Uneven Bars                      No_Medals  160.0         54.0          17.0       0        0           173       23        27         2            1\n",
              " Th Anh                     F    20.0  165.0   58.0    Vietnam        VIE  2016 Summer  2016  Summer  Rio de Janeiro  Fencing           Fencing Women's Foil, Individual                    No_Medals  165.0         58.0          20.0       0        0           1134      27        22         2            1\n",
              "Length: 206152, dtype: int64"
            ]
          },
          "metadata": {
            "tags": []
          },
          "execution_count": 40
        }
      ]
    },
    {
      "cell_type": "markdown",
      "metadata": {
        "id": "gfEpkq4Q7t5-"
      },
      "source": [
        "Missing Values - variável categórica - troquei por \"No_Medals\""
      ]
    },
    {
      "cell_type": "code",
      "metadata": {
        "id": "1VWsNpK4E64u",
        "outputId": "a28ae55c-e639-4cd4-995a-f0d956cce013",
        "colab": {
          "base_uri": "https://localhost:8080/",
          "height": 35
        }
      },
      "source": [
        "df_atletas['medal'][df_atletas['medal'].isna()]"
      ],
      "execution_count": 13,
      "outputs": [
        {
          "output_type": "execute_result",
          "data": {
            "text/plain": [
              "Series([], Name: medal, dtype: object)"
            ]
          },
          "metadata": {
            "tags": []
          },
          "execution_count": 13
        }
      ]
    },
    {
      "cell_type": "code",
      "metadata": {
        "id": "V4udiscbFmZl"
      },
      "source": [
        "df_atletas['medal'] = df_atletas['medal'].fillna('No_Medals')"
      ],
      "execution_count": 35,
      "outputs": []
    },
    {
      "cell_type": "code",
      "metadata": {
        "id": "tiC45Ph3F0k6",
        "outputId": "5c9eb1dd-bb2d-4576-bbde-b33ddbe407cd",
        "colab": {
          "base_uri": "https://localhost:8080/",
          "height": 243
        }
      },
      "source": [
        "df_atletas['medal']"
      ],
      "execution_count": null,
      "outputs": [
        {
          "output_type": "execute_result",
          "data": {
            "text/plain": [
              "id\n",
              "1         No_Medals\n",
              "2         No_Medals\n",
              "3         No_Medals\n",
              "4              Gold\n",
              "5         No_Medals\n",
              "            ...    \n",
              "135569    No_Medals\n",
              "135570    No_Medals\n",
              "135570    No_Medals\n",
              "135571    No_Medals\n",
              "135571    No_Medals\n",
              "Name: medal, Length: 271116, dtype: object"
            ]
          },
          "metadata": {
            "tags": []
          },
          "execution_count": 16
        }
      ]
    },
    {
      "cell_type": "markdown",
      "metadata": {
        "id": "Lv4K2zHO73g0"
      },
      "source": [
        "Missing Values - Variáveis numéricas - Troquei por mediana"
      ]
    },
    {
      "cell_type": "code",
      "metadata": {
        "id": "YE4to8ID73Bi"
      },
      "source": [
        "df_atletas[['height_notna','weight_notna','age_notna']] = df_atletas[['height','weight','age']].fillna(df_atletas[['height','weight','age']].median()) "
      ],
      "execution_count": 36,
      "outputs": []
    },
    {
      "cell_type": "markdown",
      "metadata": {
        "id": "rAonzJcX5Orz"
      },
      "source": [
        "Tratamento das variáveis 'sex', 'season', 'team', 'city', 'sport' e 'medal'"
      ]
    },
    {
      "cell_type": "code",
      "metadata": {
        "id": "kTvSqhFLD5MD",
        "outputId": "65752a09-d6b9-4d4b-e4d1-cd2a8b1f841a",
        "colab": {
          "base_uri": "https://localhost:8080/",
          "height": 461
        }
      },
      "source": [
        "le = preprocessing.LabelEncoder()\n",
        "l_var = ['sex','season','team','city','sport','medal']\n",
        "#s_var_num = []\n",
        "for y in l_var:\n",
        "    s_var_num = y + '_num'\n",
        "    #df_atletas[s_var_num] = imp.fit_transform(df_atletas[y])\n",
        "    df_atletas[s_var_num] = df_atletas[y].replace()\n",
        "    #print(df_atletas[y])\n",
        "    #df_atletas[s_var_num] = \n",
        "    df_atletas[s_var_num] = le.fit_transform(df_atletas[s_var_num])\n",
        "df_atletas.head()"
      ],
      "execution_count": 39,
      "outputs": [
        {
          "output_type": "execute_result",
          "data": {
            "text/html": [
              "<div>\n",
              "<style scoped>\n",
              "    .dataframe tbody tr th:only-of-type {\n",
              "        vertical-align: middle;\n",
              "    }\n",
              "\n",
              "    .dataframe tbody tr th {\n",
              "        vertical-align: top;\n",
              "    }\n",
              "\n",
              "    .dataframe thead th {\n",
              "        text-align: right;\n",
              "    }\n",
              "</style>\n",
              "<table border=\"1\" class=\"dataframe\">\n",
              "  <thead>\n",
              "    <tr style=\"text-align: right;\">\n",
              "      <th></th>\n",
              "      <th>name</th>\n",
              "      <th>sex</th>\n",
              "      <th>age</th>\n",
              "      <th>height</th>\n",
              "      <th>weight</th>\n",
              "      <th>team</th>\n",
              "      <th>noc</th>\n",
              "      <th>games</th>\n",
              "      <th>year</th>\n",
              "      <th>season</th>\n",
              "      <th>city</th>\n",
              "      <th>sport</th>\n",
              "      <th>event</th>\n",
              "      <th>medal</th>\n",
              "      <th>height_notna</th>\n",
              "      <th>weight_notna</th>\n",
              "      <th>age_notna</th>\n",
              "      <th>sex_num</th>\n",
              "      <th>season_num</th>\n",
              "      <th>team_num</th>\n",
              "      <th>city_num</th>\n",
              "      <th>sport_num</th>\n",
              "      <th>medal_num</th>\n",
              "    </tr>\n",
              "    <tr>\n",
              "      <th>id</th>\n",
              "      <th></th>\n",
              "      <th></th>\n",
              "      <th></th>\n",
              "      <th></th>\n",
              "      <th></th>\n",
              "      <th></th>\n",
              "      <th></th>\n",
              "      <th></th>\n",
              "      <th></th>\n",
              "      <th></th>\n",
              "      <th></th>\n",
              "      <th></th>\n",
              "      <th></th>\n",
              "      <th></th>\n",
              "      <th></th>\n",
              "      <th></th>\n",
              "      <th></th>\n",
              "      <th></th>\n",
              "      <th></th>\n",
              "      <th></th>\n",
              "      <th></th>\n",
              "      <th></th>\n",
              "      <th></th>\n",
              "    </tr>\n",
              "  </thead>\n",
              "  <tbody>\n",
              "    <tr>\n",
              "      <th>1</th>\n",
              "      <td>A Dijiang</td>\n",
              "      <td>M</td>\n",
              "      <td>24.0</td>\n",
              "      <td>180.0</td>\n",
              "      <td>80.0</td>\n",
              "      <td>China</td>\n",
              "      <td>CHN</td>\n",
              "      <td>1992 Summer</td>\n",
              "      <td>1992</td>\n",
              "      <td>Summer</td>\n",
              "      <td>Barcelona</td>\n",
              "      <td>Basketball</td>\n",
              "      <td>Basketball Men's Basketball</td>\n",
              "      <td>No_Medals</td>\n",
              "      <td>180.0</td>\n",
              "      <td>80.0</td>\n",
              "      <td>24.0</td>\n",
              "      <td>1</td>\n",
              "      <td>0</td>\n",
              "      <td>198</td>\n",
              "      <td>5</td>\n",
              "      <td>8</td>\n",
              "      <td>2</td>\n",
              "    </tr>\n",
              "    <tr>\n",
              "      <th>2</th>\n",
              "      <td>A Lamusi</td>\n",
              "      <td>M</td>\n",
              "      <td>23.0</td>\n",
              "      <td>170.0</td>\n",
              "      <td>60.0</td>\n",
              "      <td>China</td>\n",
              "      <td>CHN</td>\n",
              "      <td>2012 Summer</td>\n",
              "      <td>2012</td>\n",
              "      <td>Summer</td>\n",
              "      <td>London</td>\n",
              "      <td>Judo</td>\n",
              "      <td>Judo Men's Extra-Lightweight</td>\n",
              "      <td>No_Medals</td>\n",
              "      <td>170.0</td>\n",
              "      <td>60.0</td>\n",
              "      <td>23.0</td>\n",
              "      <td>1</td>\n",
              "      <td>0</td>\n",
              "      <td>198</td>\n",
              "      <td>17</td>\n",
              "      <td>32</td>\n",
              "      <td>2</td>\n",
              "    </tr>\n",
              "    <tr>\n",
              "      <th>3</th>\n",
              "      <td>Gunnar Nielsen Aaby</td>\n",
              "      <td>M</td>\n",
              "      <td>24.0</td>\n",
              "      <td>NaN</td>\n",
              "      <td>NaN</td>\n",
              "      <td>Denmark</td>\n",
              "      <td>DEN</td>\n",
              "      <td>1920 Summer</td>\n",
              "      <td>1920</td>\n",
              "      <td>Summer</td>\n",
              "      <td>Antwerpen</td>\n",
              "      <td>Football</td>\n",
              "      <td>Football Men's Football</td>\n",
              "      <td>No_Medals</td>\n",
              "      <td>175.0</td>\n",
              "      <td>70.0</td>\n",
              "      <td>24.0</td>\n",
              "      <td>1</td>\n",
              "      <td>0</td>\n",
              "      <td>273</td>\n",
              "      <td>2</td>\n",
              "      <td>24</td>\n",
              "      <td>2</td>\n",
              "    </tr>\n",
              "    <tr>\n",
              "      <th>4</th>\n",
              "      <td>Edgar Lindenau Aabye</td>\n",
              "      <td>M</td>\n",
              "      <td>34.0</td>\n",
              "      <td>NaN</td>\n",
              "      <td>NaN</td>\n",
              "      <td>Denmark/Sweden</td>\n",
              "      <td>DEN</td>\n",
              "      <td>1900 Summer</td>\n",
              "      <td>1900</td>\n",
              "      <td>Summer</td>\n",
              "      <td>Paris</td>\n",
              "      <td>Tug-Of-War</td>\n",
              "      <td>Tug-Of-War Men's Tug-Of-War</td>\n",
              "      <td>Gold</td>\n",
              "      <td>175.0</td>\n",
              "      <td>70.0</td>\n",
              "      <td>34.0</td>\n",
              "      <td>1</td>\n",
              "      <td>0</td>\n",
              "      <td>278</td>\n",
              "      <td>26</td>\n",
              "      <td>61</td>\n",
              "      <td>1</td>\n",
              "    </tr>\n",
              "    <tr>\n",
              "      <th>5</th>\n",
              "      <td>Christine Jacoba Aaftink</td>\n",
              "      <td>F</td>\n",
              "      <td>21.0</td>\n",
              "      <td>185.0</td>\n",
              "      <td>82.0</td>\n",
              "      <td>Netherlands</td>\n",
              "      <td>NED</td>\n",
              "      <td>1988 Winter</td>\n",
              "      <td>1988</td>\n",
              "      <td>Winter</td>\n",
              "      <td>Calgary</td>\n",
              "      <td>Speed Skating</td>\n",
              "      <td>Speed Skating Women's 500 metres</td>\n",
              "      <td>No_Medals</td>\n",
              "      <td>185.0</td>\n",
              "      <td>82.0</td>\n",
              "      <td>21.0</td>\n",
              "      <td>0</td>\n",
              "      <td>1</td>\n",
              "      <td>704</td>\n",
              "      <td>8</td>\n",
              "      <td>53</td>\n",
              "      <td>2</td>\n",
              "    </tr>\n",
              "  </tbody>\n",
              "</table>\n",
              "</div>"
            ],
            "text/plain": [
              "                        name sex   age  ...  city_num  sport_num medal_num\n",
              "id                                      ...                               \n",
              "1                  A Dijiang   M  24.0  ...         5          8         2\n",
              "2                   A Lamusi   M  23.0  ...        17         32         2\n",
              "3        Gunnar Nielsen Aaby   M  24.0  ...         2         24         2\n",
              "4       Edgar Lindenau Aabye   M  34.0  ...        26         61         1\n",
              "5   Christine Jacoba Aaftink   F  21.0  ...         8         53         2\n",
              "\n",
              "[5 rows x 23 columns]"
            ]
          },
          "metadata": {
            "tags": []
          },
          "execution_count": 39
        }
      ]
    },
    {
      "cell_type": "markdown",
      "metadata": {
        "id": "YAiCqE-v_az2"
      },
      "source": [
        "Comparando as distribuições de height e weight antes e depois do tratamento dos Missing Values"
      ]
    },
    {
      "cell_type": "code",
      "metadata": {
        "id": "8oWR7XmJHoPq",
        "outputId": "3badfa37-c6a9-4194-b8f9-334610144eed",
        "colab": {
          "base_uri": "https://localhost:8080/",
          "height": 283
        }
      },
      "source": [
        "df_atletas[['height_notna','weight_notna']].plot(kind = 'kde')"
      ],
      "execution_count": null,
      "outputs": [
        {
          "output_type": "execute_result",
          "data": {
            "text/plain": [
              "<matplotlib.axes._subplots.AxesSubplot at 0x7fcae1709b70>"
            ]
          },
          "metadata": {
            "tags": []
          },
          "execution_count": 53
        },
        {
          "output_type": "display_data",
          "data": {
            "image/png": "[encoded data removed]",
            "text/plain": [
              "<Figure size 432x288 with 1 Axes>"
            ]
          },
          "metadata": {
            "tags": [],
            "needs_background": "light"
          }
        }
      ]
    },
    {
      "cell_type": "code",
      "metadata": {
        "id": "qQI78rPrMZSi",
        "outputId": "1351e8c7-8a8f-4874-c4d9-f0d9621349be",
        "colab": {
          "base_uri": "https://localhost:8080/",
          "height": 283
        }
      },
      "source": [
        "df_atletas[['height','weight']].plot(kind = 'kde')"
      ],
      "execution_count": null,
      "outputs": [
        {
          "output_type": "execute_result",
          "data": {
            "text/plain": [
              "<matplotlib.axes._subplots.AxesSubplot at 0x7fcae38e6588>"
            ]
          },
          "metadata": {
            "tags": []
          },
          "execution_count": 48
        },
        {
          "output_type": "display_data",
          "data": {
            "image/png": "[encoded data removed]",
            "text/plain": [
              "<Figure size 432x288 with 1 Axes>"
            ]
          },
          "metadata": {
            "tags": [],
            "needs_background": "light"
          }
        }
      ]
    },
    {
      "cell_type": "markdown",
      "metadata": {
        "id": "QEYxqS7vIP_3"
      },
      "source": [
        "Aplicando as Transformações"
      ]
    },
    {
      "cell_type": "code",
      "metadata": {
        "id": "4VoW5wKEIR4f"
      },
      "source": [
        "from sklearn.preprocessing import StandardScaler"
      ],
      "execution_count": null,
      "outputs": []
    },
    {
      "cell_type": "code",
      "metadata": {
        "id": "70fj2TAWIghI"
      },
      "source": [
        "df_atletas[['height_std','weight_std']] = StandardScaler().fit_transform(df_atletas[['height_notna','weight_notna']]) # Combinação dos métodos fit() + transform()"
      ],
      "execution_count": null,
      "outputs": []
    },
    {
      "cell_type": "code",
      "metadata": {
        "id": "5G5HF_SiI9vW",
        "outputId": "32b38f55-97ac-48e6-df84-7a3a6824b9b7",
        "colab": {
          "base_uri": "https://localhost:8080/",
          "height": 283
        }
      },
      "source": [
        "df_atletas[['height_std','weight_std']].plot(kind = 'kde')"
      ],
      "execution_count": null,
      "outputs": [
        {
          "output_type": "execute_result",
          "data": {
            "text/plain": [
              "<matplotlib.axes._subplots.AxesSubplot at 0x7fcae38a2b38>"
            ]
          },
          "metadata": {
            "tags": []
          },
          "execution_count": 49
        },
        {
          "output_type": "display_data",
          "data": {
            "image/png": "[encoded data removed]",
            "text/plain": [
              "<Figure size 432x288 with 1 Axes>"
            ]
          },
          "metadata": {
            "tags": [],
            "needs_background": "light"
          }
        }
      ]
    },
    {
      "cell_type": "code",
      "metadata": {
        "id": "RbSedrl9JRnL"
      },
      "source": [
        "from sklearn.preprocessing import MinMaxScaler"
      ],
      "execution_count": null,
      "outputs": []
    },
    {
      "cell_type": "code",
      "metadata": {
        "id": "ODQSTbtjKTeP",
        "outputId": "c08ca378-6d37-4d64-c98a-a5c1de91ea7c",
        "colab": {
          "base_uri": "https://localhost:8080/",
          "height": 283
        }
      },
      "source": [
        "df_atletas[['height_mmax','weight_mmax']] = MinMaxScaler().fit_transform(df_atletas[['height_notna','weight_notna']]) \n",
        "df_atletas[['height_mmax','weight_mmax']].plot(kind = 'kde')"
      ],
      "execution_count": null,
      "outputs": [
        {
          "output_type": "execute_result",
          "data": {
            "text/plain": [
              "<matplotlib.axes._subplots.AxesSubplot at 0x7fcae17d4208>"
            ]
          },
          "metadata": {
            "tags": []
          },
          "execution_count": 50
        },
        {
          "output_type": "display_data",
          "data": {
            "image/png": "[encoded data removed]",
            "text/plain": [
              "<Figure size 432x288 with 1 Axes>"
            ]
          },
          "metadata": {
            "tags": [],
            "needs_background": "light"
          }
        }
      ]
    },
    {
      "cell_type": "code",
      "metadata": {
        "id": "YxySdx4PK4t6"
      },
      "source": [
        "from sklearn.preprocessing import RobustScaler"
      ],
      "execution_count": null,
      "outputs": []
    },
    {
      "cell_type": "code",
      "metadata": {
        "id": "FbfTR2VqK5Xg",
        "outputId": "672bf226-7a3b-4169-f615-b3f22acf9c9a",
        "colab": {
          "base_uri": "https://localhost:8080/",
          "height": 283
        }
      },
      "source": [
        "df_atletas[['height_rob','weight_rob']] = RobustScaler().fit_transform(df_atletas[['height_notna','weight_notna']]) \n",
        "df_atletas[['height_rob','weight_rob']].plot(kind = 'kde')"
      ],
      "execution_count": null,
      "outputs": [
        {
          "output_type": "execute_result",
          "data": {
            "text/plain": [
              "<matplotlib.axes._subplots.AxesSubplot at 0x7fcae17427b8>"
            ]
          },
          "metadata": {
            "tags": []
          },
          "execution_count": 51
        },
        {
          "output_type": "display_data",
          "data": {
            "image/png": "[encoded data removed]",
            "text/plain": [
              "<Figure size 432x288 with 1 Axes>"
            ]
          },
          "metadata": {
            "tags": [],
            "needs_background": "light"
          }
        }
      ]
    },
    {
      "cell_type": "code",
      "metadata": {
        "id": "luTSQRYoadw3"
      },
      "source": [
        "import numpy as np \n",
        "from scipy import stats "
      ],
      "execution_count": 41,
      "outputs": []
    },
    {
      "cell_type": "code",
      "metadata": {
        "id": "yz_O5O3Na5lT"
      },
      "source": [
        "# Gráficos: \n",
        "def compara_graficos(y, w, lambda_box_cox):\n",
        "    fig, ax = plt.subplots(1, 2) \n",
        "  \n",
        "    # Gráfico das distribuições originais e transformada\n",
        "    sns.distplot(y, hist = False, kde = True, kde_kws = {'shade': True, 'linewidth': 2}, label = \"Non-Normal\", color =\"green\", ax = ax[0]) \n",
        "    sns.distplot(w, hist = False, kde = True, kde_kws = {'shade': True, 'linewidth': 2}, label = \"Normal\", color =\"green\", ax = ax[1]) \n",
        "  \n",
        "    # Legendas \n",
        "    plt.legend(loc = \"upper right\") \n",
        "  \n",
        "    # Redimensionando os sub-gráficos \n",
        "    fig.set_figheight(5) \n",
        "    fig.set_figwidth(10) \n",
        "    \n",
        "    print(f\"Valor de Lambda usado na transformação: {lambda_box_cox}\") "
      ],
      "execution_count": 45,
      "outputs": []
    },
    {
      "cell_type": "code",
      "metadata": {
        "id": "uxNpg-6lZYd2",
        "outputId": "45f31f13-39b0-410d-c853-e4413ea2f252",
        "colab": {
          "base_uri": "https://localhost:8080/",
          "height": 441
        }
      },
      "source": [
        "box_cox, lambda_box_cox = stats.boxcox(df_atletas['height'][df_atletas['height'].notna()]) \n",
        "compara_graficos(df_atletas['height'], box_cox, lambda_box_cox)"
      ],
      "execution_count": 51,
      "outputs": [
        {
          "output_type": "stream",
          "text": [
            "/usr/local/lib/python3.6/dist-packages/seaborn/distributions.py:2551: FutureWarning: `distplot` is a deprecated function and will be removed in a future version. Please adapt your code to use either `displot` (a figure-level function with similar flexibility) or `kdeplot` (an axes-level function for kernel density plots).\n",
            "  warnings.warn(msg, FutureWarning)\n",
            "/usr/local/lib/python3.6/dist-packages/seaborn/distributions.py:2551: FutureWarning: `distplot` is a deprecated function and will be removed in a future version. Please adapt your code to use either `displot` (a figure-level function with similar flexibility) or `kdeplot` (an axes-level function for kernel density plots).\n",
            "  warnings.warn(msg, FutureWarning)\n"
          ],
          "name": "stderr"
        },
        {
          "output_type": "stream",
          "text": [
            "Valor de Lambda usado na transformação: 0.9230638070579792\n"
          ],
          "name": "stdout"
        },
        {
          "output_type": "display_data",
          "data": {
            "image/png": "[encoded data removed]",
            "text/plain": [
              "<Figure size 720x360 with 2 Axes>"
            ]
          },
          "metadata": {
            "tags": [],
            "needs_background": "light"
          }
        }
      ]
    },
    {
      "cell_type": "code",
      "metadata": {
        "id": "IhgSIlMObZrM",
        "outputId": "d2282cab-c55f-4420-fb59-6c3574876b9a",
        "colab": {
          "base_uri": "https://localhost:8080/",
          "height": 442
        }
      },
      "source": [
        "transformacao_log = np.log(df_atletas['height_notna'])\n",
        "compara_graficos(df_atletas['height_notna'], transformacao_log, 1)"
      ],
      "execution_count": 47,
      "outputs": [
        {
          "output_type": "stream",
          "text": [
            "/usr/local/lib/python3.6/dist-packages/seaborn/distributions.py:2551: FutureWarning: `distplot` is a deprecated function and will be removed in a future version. Please adapt your code to use either `displot` (a figure-level function with similar flexibility) or `kdeplot` (an axes-level function for kernel density plots).\n",
            "  warnings.warn(msg, FutureWarning)\n",
            "/usr/local/lib/python3.6/dist-packages/seaborn/distributions.py:2551: FutureWarning: `distplot` is a deprecated function and will be removed in a future version. Please adapt your code to use either `displot` (a figure-level function with similar flexibility) or `kdeplot` (an axes-level function for kernel density plots).\n",
            "  warnings.warn(msg, FutureWarning)\n"
          ],
          "name": "stderr"
        },
        {
          "output_type": "stream",
          "text": [
            "Valor de Lambda usado na transformação: 1\n"
          ],
          "name": "stdout"
        },
        {
          "output_type": "display_data",
          "data": {
            "image/png": "[encoded data removed]",
            "text/plain": [
              "<Figure size 720x360 with 2 Axes>"
            ]
          },
          "metadata": {
            "tags": [],
            "needs_background": "light"
          }
        }
      ]
    },
    {
      "cell_type": "markdown",
      "metadata": {
        "id": "_YXf0xdUKRhQ"
      },
      "source": [
        ""
      ]
    }
  ]
}